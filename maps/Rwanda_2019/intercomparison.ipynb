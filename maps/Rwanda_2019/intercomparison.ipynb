{
 "cells": [
  {
   "cell_type": "markdown",
   "id": "59353a5a",
   "metadata": {},
   "source": [
    "# Intercomparison\n",
    "\n",
    "**Author:** Hannah Kerner\n",
    "\n",
    "**Last updated:** October 24, 2023\n",
    "\n",
    "**Description:** Runs intercomparison for Rwanda 2019\n",
    "\n",
    "## 1. Setup"
   ]
  },
  {
   "cell_type": "code",
   "execution_count": 1,
   "id": "8a3b21bc",
   "metadata": {},
   "outputs": [],
   "source": [
    "#earthengine authenticate"
   ]
  },
  {
   "cell_type": "code",
   "execution_count": 2,
   "id": "e9ad315e",
   "metadata": {},
   "outputs": [],
   "source": [
    "import ee\n",
    "import geemap\n",
    "import sys\n",
    "import pandas as pd\n",
    "import geopandas as gpd\n",
    "\n",
    "ee.Initialize()\n",
    "\n",
    "sys.path.append(\"../..\")\n",
    "\n",
    "from src.compare_covermaps import TARGETS, filter_by_bounds, generate_report, CLASS_COL, COUNTRY_COL\n",
    "from src.compare_covermaps import TEST_COUNTRIES, TEST_CODE"
   ]
  },
  {
   "cell_type": "markdown",
   "id": "5f35794c",
   "metadata": {},
   "source": [
    "## 2. Read in evaluation set"
   ]
  },
  {
   "cell_type": "code",
   "execution_count": 3,
   "id": "ac757b6c",
   "metadata": {},
   "outputs": [],
   "source": [
    "country = \"Rwanda\"\n",
    "country_code = TEST_CODE[country]\n",
    "dataset_path = \"../\" + TEST_COUNTRIES[country]"
   ]
  },
  {
   "cell_type": "code",
   "execution_count": 4,
   "id": "cde966ea",
   "metadata": {},
   "outputs": [],
   "source": [
    "df = pd.read_csv(dataset_path)[[\"lat\", \"lon\", \"class_probability\", \"subset\"]]\n",
    "df = df[(df[\"class_probability\"] != 0.5)].copy()\n",
    "# use only test data because validation points used for harvest-dev map\n",
    "df = df[df[\"subset\"] == \"testing\"].copy()\n",
    "df[CLASS_COL] = (df[\"class_probability\"] > 0.5).astype(int)\n",
    "df[COUNTRY_COL] = country\n",
    "\n",
    "gdf = gpd.GeoDataFrame(df, geometry=gpd.points_from_xy(df.lon, df.lat), crs=\"epsg:4326\")\n",
    "gdf = filter_by_bounds(country_code=country_code, gdf=gdf)"
   ]
  },
  {
   "cell_type": "markdown",
   "id": "bcc85c5a",
   "metadata": {},
   "source": [
    "## 3. Run intercomparison"
   ]
  },
  {
   "cell_type": "code",
   "execution_count": 5,
   "id": "72db6696",
   "metadata": {},
   "outputs": [],
   "source": [
    "TARGETS = {k:v for k,v in TARGETS.items()}"
   ]
  },
  {
   "cell_type": "code",
   "execution_count": 6,
   "id": "05197403",
   "metadata": {},
   "outputs": [
    {
     "name": "stdout",
     "output_type": "stream",
     "text": [
      "[Rwanda] sampling copernicus...\n",
      "[Rwanda] sampling worldcover-v100...\n",
      "[Rwanda] sampling worldcover-v200...\n",
      "[Rwanda] sampling worldcereal-v100...\n",
      "[Rwanda] sampling glad...\n",
      "[Rwanda] sampling asap...\n",
      "[Rwanda] sampling dynamicworld...\n",
      "[Rwanda] sampling gfsad-gcep...\n",
      "[Rwanda] sampling gfsad-lgrip...\n",
      "[Rwanda] sampling digital-earth-africa...\n",
      "[Rwanda] sampling esa-cci-africa...\n",
      "[Rwanda] sampling globcover-v23...\n",
      "[Rwanda] sampling globcover-v22...\n",
      "[Rwanda] sampling esri-lulc...\n",
      "[Rwanda] sampling nabil-etal-2021...\n",
      "[Rwanda] sampling harvest-dev...\n"
     ]
    },
    {
     "ename": "Exception",
     "evalue": "Image.load: Image asset 'users/byeh1/ethiopia_tigray_2021_v1' not found (does not exist or caller does not have access).",
     "output_type": "error",
     "traceback": [
      "\u001b[0;31m---------------------------------------------------------------------------\u001b[0m",
      "\u001b[0;31mHttpError\u001b[0m                                 Traceback (most recent call last)",
      "File \u001b[0;32m/usr/local/Caskroom/miniconda/base/envs/landcover-mapping/lib/python3.9/site-packages/ee/data.py:337\u001b[0m, in \u001b[0;36m_execute_cloud_call\u001b[0;34m(call, num_retries)\u001b[0m\n\u001b[1;32m    336\u001b[0m \u001b[38;5;28;01mtry\u001b[39;00m:\n\u001b[0;32m--> 337\u001b[0m   \u001b[38;5;28;01mreturn\u001b[39;00m \u001b[43mcall\u001b[49m\u001b[38;5;241;43m.\u001b[39;49m\u001b[43mexecute\u001b[49m\u001b[43m(\u001b[49m\u001b[43mnum_retries\u001b[49m\u001b[38;5;241;43m=\u001b[39;49m\u001b[43mnum_retries\u001b[49m\u001b[43m)\u001b[49m\n\u001b[1;32m    338\u001b[0m \u001b[38;5;28;01mexcept\u001b[39;00m googleapiclient\u001b[38;5;241m.\u001b[39merrors\u001b[38;5;241m.\u001b[39mHttpError \u001b[38;5;28;01mas\u001b[39;00m e:\n",
      "File \u001b[0;32m/usr/local/Caskroom/miniconda/base/envs/landcover-mapping/lib/python3.9/site-packages/googleapiclient/_helpers.py:130\u001b[0m, in \u001b[0;36mpositional.<locals>.positional_decorator.<locals>.positional_wrapper\u001b[0;34m(*args, **kwargs)\u001b[0m\n\u001b[1;32m    129\u001b[0m         logger\u001b[38;5;241m.\u001b[39mwarning(message)\n\u001b[0;32m--> 130\u001b[0m \u001b[38;5;28;01mreturn\u001b[39;00m \u001b[43mwrapped\u001b[49m\u001b[43m(\u001b[49m\u001b[38;5;241;43m*\u001b[39;49m\u001b[43margs\u001b[49m\u001b[43m,\u001b[49m\u001b[43m \u001b[49m\u001b[38;5;241;43m*\u001b[39;49m\u001b[38;5;241;43m*\u001b[39;49m\u001b[43mkwargs\u001b[49m\u001b[43m)\u001b[49m\n",
      "File \u001b[0;32m/usr/local/Caskroom/miniconda/base/envs/landcover-mapping/lib/python3.9/site-packages/googleapiclient/http.py:938\u001b[0m, in \u001b[0;36mHttpRequest.execute\u001b[0;34m(self, http, num_retries)\u001b[0m\n\u001b[1;32m    937\u001b[0m \u001b[38;5;28;01mif\u001b[39;00m resp\u001b[38;5;241m.\u001b[39mstatus \u001b[38;5;241m>\u001b[39m\u001b[38;5;241m=\u001b[39m \u001b[38;5;241m300\u001b[39m:\n\u001b[0;32m--> 938\u001b[0m     \u001b[38;5;28;01mraise\u001b[39;00m HttpError(resp, content, uri\u001b[38;5;241m=\u001b[39m\u001b[38;5;28mself\u001b[39m\u001b[38;5;241m.\u001b[39muri)\n\u001b[1;32m    939\u001b[0m \u001b[38;5;28;01mreturn\u001b[39;00m \u001b[38;5;28mself\u001b[39m\u001b[38;5;241m.\u001b[39mpostproc(resp, content)\n",
      "\u001b[0;31mHttpError\u001b[0m: <HttpError 400 when requesting https://earthengine.googleapis.com/v1alpha/projects/earthengine-legacy/value:compute?prettyPrint=false&alt=json returned \"Image.load: Image asset 'users/byeh1/ethiopia_tigray_2021_v1' not found (does not exist or caller does not have access).\". Details: \"Image.load: Image asset 'users/byeh1/ethiopia_tigray_2021_v1' not found (does not exist or caller does not have access).\">",
      "\nDuring handling of the above exception, another exception occurred:\n",
      "\u001b[0;31mEEException\u001b[0m                               Traceback (most recent call last)",
      "File \u001b[0;32m/usr/local/Caskroom/miniconda/base/envs/landcover-mapping/lib/python3.9/site-packages/geemap/common.py:1340\u001b[0m, in \u001b[0;36mee_to_geojson\u001b[0;34m(ee_object, filename, indent, **kwargs)\u001b[0m\n\u001b[1;32m   1335\u001b[0m \u001b[38;5;28;01mif\u001b[39;00m (\n\u001b[1;32m   1336\u001b[0m     \u001b[38;5;28misinstance\u001b[39m(ee_object, ee\u001b[38;5;241m.\u001b[39mgeometry\u001b[38;5;241m.\u001b[39mGeometry)\n\u001b[1;32m   1337\u001b[0m     \u001b[38;5;129;01mor\u001b[39;00m \u001b[38;5;28misinstance\u001b[39m(ee_object, ee\u001b[38;5;241m.\u001b[39mfeature\u001b[38;5;241m.\u001b[39mFeature)\n\u001b[1;32m   1338\u001b[0m     \u001b[38;5;129;01mor\u001b[39;00m \u001b[38;5;28misinstance\u001b[39m(ee_object, ee\u001b[38;5;241m.\u001b[39mfeaturecollection\u001b[38;5;241m.\u001b[39mFeatureCollection)\n\u001b[1;32m   1339\u001b[0m ):\n\u001b[0;32m-> 1340\u001b[0m     json_object \u001b[38;5;241m=\u001b[39m \u001b[43mee_object\u001b[49m\u001b[38;5;241;43m.\u001b[39;49m\u001b[43mgetInfo\u001b[49m\u001b[43m(\u001b[49m\u001b[43m)\u001b[49m\n\u001b[1;32m   1341\u001b[0m     \u001b[38;5;28;01mif\u001b[39;00m filename \u001b[38;5;129;01mis\u001b[39;00m \u001b[38;5;129;01mnot\u001b[39;00m \u001b[38;5;28;01mNone\u001b[39;00m:\n",
      "File \u001b[0;32m/usr/local/Caskroom/miniconda/base/envs/landcover-mapping/lib/python3.9/site-packages/ee/collection.py:133\u001b[0m, in \u001b[0;36mCollection.getInfo\u001b[0;34m(self)\u001b[0m\n\u001b[1;32m    121\u001b[0m \u001b[38;5;124;03m\"\"\"Returns all the known information about this collection.\u001b[39;00m\n\u001b[1;32m    122\u001b[0m \n\u001b[1;32m    123\u001b[0m \u001b[38;5;124;03mThis function makes an REST call to to retrieve all the known information\u001b[39;00m\n\u001b[0;32m   (...)\u001b[0m\n\u001b[1;32m    131\u001b[0m \u001b[38;5;124;03m       properties.\u001b[39;00m\n\u001b[1;32m    132\u001b[0m \u001b[38;5;124;03m\"\"\"\u001b[39;00m\n\u001b[0;32m--> 133\u001b[0m \u001b[38;5;28;01mreturn\u001b[39;00m \u001b[38;5;28;43msuper\u001b[39;49m\u001b[43m(\u001b[49m\u001b[43mCollection\u001b[49m\u001b[43m,\u001b[49m\u001b[43m \u001b[49m\u001b[38;5;28;43mself\u001b[39;49m\u001b[43m)\u001b[49m\u001b[38;5;241;43m.\u001b[39;49m\u001b[43mgetInfo\u001b[49m\u001b[43m(\u001b[49m\u001b[43m)\u001b[49m\n",
      "File \u001b[0;32m/usr/local/Caskroom/miniconda/base/envs/landcover-mapping/lib/python3.9/site-packages/ee/computedobject.py:96\u001b[0m, in \u001b[0;36mComputedObject.getInfo\u001b[0;34m(self)\u001b[0m\n\u001b[1;32m     91\u001b[0m \u001b[38;5;124;03m\"\"\"Fetch and return information about this object.\u001b[39;00m\n\u001b[1;32m     92\u001b[0m \n\u001b[1;32m     93\u001b[0m \u001b[38;5;124;03mReturns:\u001b[39;00m\n\u001b[1;32m     94\u001b[0m \u001b[38;5;124;03m  The object can evaluate to anything.\u001b[39;00m\n\u001b[1;32m     95\u001b[0m \u001b[38;5;124;03m\"\"\"\u001b[39;00m\n\u001b[0;32m---> 96\u001b[0m \u001b[38;5;28;01mreturn\u001b[39;00m \u001b[43mdata\u001b[49m\u001b[38;5;241;43m.\u001b[39;49m\u001b[43mcomputeValue\u001b[49m\u001b[43m(\u001b[49m\u001b[38;5;28;43mself\u001b[39;49m\u001b[43m)\u001b[49m\n",
      "File \u001b[0;32m/usr/local/Caskroom/miniconda/base/envs/landcover-mapping/lib/python3.9/site-packages/ee/data.py:916\u001b[0m, in \u001b[0;36mcomputeValue\u001b[0;34m(obj)\u001b[0m\n\u001b[1;32m    914\u001b[0m _maybe_populate_workload_tag(body)\n\u001b[0;32m--> 916\u001b[0m \u001b[38;5;28;01mreturn\u001b[39;00m \u001b[43m_execute_cloud_call\u001b[49m\u001b[43m(\u001b[49m\n\u001b[1;32m    917\u001b[0m \u001b[43m    \u001b[49m\u001b[43m_get_cloud_api_resource\u001b[49m\u001b[43m(\u001b[49m\u001b[43m)\u001b[49m\u001b[38;5;241;43m.\u001b[39;49m\u001b[43mprojects\u001b[49m\u001b[43m(\u001b[49m\u001b[43m)\u001b[49m\u001b[38;5;241;43m.\u001b[39;49m\u001b[43mvalue\u001b[49m\u001b[43m(\u001b[49m\u001b[43m)\u001b[49m\u001b[38;5;241;43m.\u001b[39;49m\u001b[43mcompute\u001b[49m\u001b[43m(\u001b[49m\n\u001b[1;32m    918\u001b[0m \u001b[43m        \u001b[49m\u001b[43mbody\u001b[49m\u001b[38;5;241;43m=\u001b[39;49m\u001b[43mbody\u001b[49m\u001b[43m,\u001b[49m\n\u001b[1;32m    919\u001b[0m \u001b[43m        \u001b[49m\u001b[43mproject\u001b[49m\u001b[38;5;241;43m=\u001b[39;49m\u001b[43m_get_projects_path\u001b[49m\u001b[43m(\u001b[49m\u001b[43m)\u001b[49m\u001b[43m,\u001b[49m\n\u001b[1;32m    920\u001b[0m \u001b[43m        \u001b[49m\u001b[43mprettyPrint\u001b[49m\u001b[38;5;241;43m=\u001b[39;49m\u001b[38;5;28;43;01mFalse\u001b[39;49;00m\u001b[43m)\u001b[49m\u001b[43m)\u001b[49m[\u001b[38;5;124m'\u001b[39m\u001b[38;5;124mresult\u001b[39m\u001b[38;5;124m'\u001b[39m]\n",
      "File \u001b[0;32m/usr/local/Caskroom/miniconda/base/envs/landcover-mapping/lib/python3.9/site-packages/ee/data.py:339\u001b[0m, in \u001b[0;36m_execute_cloud_call\u001b[0;34m(call, num_retries)\u001b[0m\n\u001b[1;32m    338\u001b[0m \u001b[38;5;28;01mexcept\u001b[39;00m googleapiclient\u001b[38;5;241m.\u001b[39merrors\u001b[38;5;241m.\u001b[39mHttpError \u001b[38;5;28;01mas\u001b[39;00m e:\n\u001b[0;32m--> 339\u001b[0m   \u001b[38;5;28;01mraise\u001b[39;00m _translate_cloud_exception(e)\n",
      "\u001b[0;31mEEException\u001b[0m: Image.load: Image asset 'users/byeh1/ethiopia_tigray_2021_v1' not found (does not exist or caller does not have access).",
      "\nDuring handling of the above exception, another exception occurred:\n",
      "\u001b[0;31mException\u001b[0m                                 Traceback (most recent call last)",
      "Cell \u001b[0;32mIn[6], line 5\u001b[0m\n\u001b[1;32m      3\u001b[0m     \u001b[38;5;28;01mcontinue\u001b[39;00m\n\u001b[1;32m      4\u001b[0m \u001b[38;5;28mprint\u001b[39m(\u001b[38;5;124mf\u001b[39m\u001b[38;5;124m\"\u001b[39m\u001b[38;5;124m[\u001b[39m\u001b[38;5;132;01m{\u001b[39;00mcountry\u001b[38;5;132;01m}\u001b[39;00m\u001b[38;5;124m] sampling \u001b[39m\u001b[38;5;124m\"\u001b[39m \u001b[38;5;241m+\u001b[39m cropmap\u001b[38;5;241m.\u001b[39mtitle \u001b[38;5;241m+\u001b[39m \u001b[38;5;124m\"\u001b[39m\u001b[38;5;124m...\u001b[39m\u001b[38;5;124m\"\u001b[39m)\n\u001b[0;32m----> 5\u001b[0m map_sampled \u001b[38;5;241m=\u001b[39m \u001b[43mcropmap\u001b[49m\u001b[38;5;241;43m.\u001b[39;49m\u001b[43mextract_test\u001b[49m\u001b[43m(\u001b[49m\u001b[43mgdf\u001b[49m\u001b[43m)\u001b[49m\u001b[38;5;241m.\u001b[39mcopy()\n\u001b[1;32m      6\u001b[0m gdf \u001b[38;5;241m=\u001b[39m pd\u001b[38;5;241m.\u001b[39mmerge(gdf, map_sampled, on\u001b[38;5;241m=\u001b[39m[\u001b[38;5;124m\"\u001b[39m\u001b[38;5;124mlat\u001b[39m\u001b[38;5;124m\"\u001b[39m, \u001b[38;5;124m\"\u001b[39m\u001b[38;5;124mlon\u001b[39m\u001b[38;5;124m\"\u001b[39m], how\u001b[38;5;241m=\u001b[39m\u001b[38;5;124m\"\u001b[39m\u001b[38;5;124mleft\u001b[39m\u001b[38;5;124m\"\u001b[39m)\n\u001b[1;32m      7\u001b[0m gdf\u001b[38;5;241m.\u001b[39mdrop_duplicates(inplace\u001b[38;5;241m=\u001b[39m\u001b[38;5;28;01mTrue\u001b[39;00m)\n",
      "File \u001b[0;32m~/nasaharvest/crop-mask/maps/Rwanda_2019/../../src/compare_covermaps.py:184\u001b[0m, in \u001b[0;36mCovermap.extract_test\u001b[0;34m(self, test)\u001b[0m\n\u001b[1;32m    179\u001b[0m test_points \u001b[38;5;241m=\u001b[39m test\u001b[38;5;241m.\u001b[39mloc[test[COUNTRY_COL]\u001b[38;5;241m.\u001b[39misin(\u001b[38;5;28mself\u001b[39m\u001b[38;5;241m.\u001b[39mcountries)]\u001b[38;5;241m.\u001b[39mcopy()\n\u001b[1;32m    181\u001b[0m test_coll \u001b[38;5;241m=\u001b[39m ee\u001b[38;5;241m.\u001b[39mFeatureCollection(\n\u001b[1;32m    182\u001b[0m     test_points\u001b[38;5;241m.\u001b[39mapply(\u001b[38;5;28;01mlambda\u001b[39;00m x: create_point(x), axis\u001b[38;5;241m=\u001b[39m\u001b[38;5;241m1\u001b[39m)\u001b[38;5;241m.\u001b[39mto_list()\n\u001b[1;32m    183\u001b[0m )\n\u001b[0;32m--> 184\u001b[0m sampled \u001b[38;5;241m=\u001b[39m \u001b[43mextract_points\u001b[49m\u001b[43m(\u001b[49m\u001b[43mic\u001b[49m\u001b[38;5;241;43m=\u001b[39;49m\u001b[38;5;28;43mself\u001b[39;49m\u001b[38;5;241;43m.\u001b[39;49m\u001b[43mee_asset\u001b[49m\u001b[43m,\u001b[49m\u001b[43m \u001b[49m\u001b[43mfc\u001b[49m\u001b[38;5;241;43m=\u001b[39;49m\u001b[43mtest_coll\u001b[49m\u001b[43m,\u001b[49m\u001b[43m \u001b[49m\u001b[43mresolution\u001b[49m\u001b[38;5;241;43m=\u001b[39;49m\u001b[38;5;28;43mself\u001b[39;49m\u001b[38;5;241;43m.\u001b[39;49m\u001b[43mresolution\u001b[49m\u001b[43m)\u001b[49m\n\u001b[1;32m    185\u001b[0m \u001b[38;5;28;01mif\u001b[39;00m \u001b[38;5;28mlen\u001b[39m(sampled) \u001b[38;5;241m!=\u001b[39m \u001b[38;5;28mlen\u001b[39m(test_points):\n\u001b[1;32m    186\u001b[0m     \u001b[38;5;28mprint\u001b[39m(\n\u001b[1;32m    187\u001b[0m         \u001b[38;5;124m\"\u001b[39m\u001b[38;5;124mWarning: length of sampled dataset (\u001b[39m\u001b[38;5;132;01m{}\u001b[39;00m\u001b[38;5;124m) != test points (\u001b[39m\u001b[38;5;132;01m{}\u001b[39;00m\u001b[38;5;124m)\u001b[39m\u001b[38;5;124m\"\u001b[39m\u001b[38;5;241m.\u001b[39mformat(\n\u001b[1;32m    188\u001b[0m             \u001b[38;5;28mlen\u001b[39m(sampled), \u001b[38;5;28mlen\u001b[39m(test_points)\n\u001b[1;32m    189\u001b[0m         )\n\u001b[1;32m    190\u001b[0m     )\n",
      "File \u001b[0;32m~/nasaharvest/crop-mask/maps/Rwanda_2019/../../src/compare_covermaps.py:380\u001b[0m, in \u001b[0;36mextract_points\u001b[0;34m(ic, fc, resolution, projection)\u001b[0m\n\u001b[1;32m    376\u001b[0m image \u001b[38;5;241m=\u001b[39m ic\u001b[38;5;241m.\u001b[39mfilterBounds(fc)\u001b[38;5;241m.\u001b[39mmosaic()\u001b[38;5;241m.\u001b[39mreproject(crs\u001b[38;5;241m=\u001b[39mprojection, scale\u001b[38;5;241m=\u001b[39mresolution)\n\u001b[1;32m    377\u001b[0m extracted \u001b[38;5;241m=\u001b[39m image\u001b[38;5;241m.\u001b[39mreduceRegions(\n\u001b[1;32m    378\u001b[0m     collection\u001b[38;5;241m=\u001b[39mfc, scale\u001b[38;5;241m=\u001b[39mresolution, crs\u001b[38;5;241m=\u001b[39mprojection, reducer\u001b[38;5;241m=\u001b[39mREDUCER\n\u001b[1;32m    379\u001b[0m )\n\u001b[0;32m--> 380\u001b[0m \u001b[38;5;28;01mreturn\u001b[39;00m \u001b[43mgeemap\u001b[49m\u001b[38;5;241;43m.\u001b[39;49m\u001b[43mee_to_gdf\u001b[49m\u001b[43m(\u001b[49m\u001b[43mextracted\u001b[49m\u001b[43m)\u001b[49m\n",
      "File \u001b[0;32m/usr/local/Caskroom/miniconda/base/envs/landcover-mapping/lib/python3.9/site-packages/geemap/common.py:8918\u001b[0m, in \u001b[0;36mee_to_gdf\u001b[0;34m(ee_object, selectors, verbose)\u001b[0m\n\u001b[1;32m   8915\u001b[0m \u001b[38;5;28;01mif\u001b[39;00m \u001b[38;5;129;01mnot\u001b[39;00m \u001b[38;5;28misinstance\u001b[39m(ee_object, ee\u001b[38;5;241m.\u001b[39mFeatureCollection):\n\u001b[1;32m   8916\u001b[0m     \u001b[38;5;28;01mraise\u001b[39;00m \u001b[38;5;167;01mTypeError\u001b[39;00m(\u001b[38;5;124m\"\u001b[39m\u001b[38;5;124mee_object must be an ee.FeatureCollection\u001b[39m\u001b[38;5;124m\"\u001b[39m)\n\u001b[0;32m-> 8918\u001b[0m collection \u001b[38;5;241m=\u001b[39m \u001b[43mee_to_geojson\u001b[49m\u001b[43m(\u001b[49m\u001b[43mee_object\u001b[49m\u001b[43m)\u001b[49m\n\u001b[1;32m   8919\u001b[0m gdf \u001b[38;5;241m=\u001b[39m gpd\u001b[38;5;241m.\u001b[39mGeoDataFrame\u001b[38;5;241m.\u001b[39mfrom_features(collection[\u001b[38;5;124m\"\u001b[39m\u001b[38;5;124mfeatures\u001b[39m\u001b[38;5;124m\"\u001b[39m])\n\u001b[1;32m   8921\u001b[0m \u001b[38;5;28;01mreturn\u001b[39;00m gdf\n",
      "File \u001b[0;32m/usr/local/Caskroom/miniconda/base/envs/landcover-mapping/lib/python3.9/site-packages/geemap/common.py:1354\u001b[0m, in \u001b[0;36mee_to_geojson\u001b[0;34m(ee_object, filename, indent, **kwargs)\u001b[0m\n\u001b[1;32m   1352\u001b[0m         \u001b[38;5;28mprint\u001b[39m(\u001b[38;5;124m\"\u001b[39m\u001b[38;5;124mCould not convert the Earth Engine object to geojson\u001b[39m\u001b[38;5;124m\"\u001b[39m)\n\u001b[1;32m   1353\u001b[0m \u001b[38;5;28;01mexcept\u001b[39;00m \u001b[38;5;167;01mException\u001b[39;00m \u001b[38;5;28;01mas\u001b[39;00m e:\n\u001b[0;32m-> 1354\u001b[0m     \u001b[38;5;28;01mraise\u001b[39;00m \u001b[38;5;167;01mException\u001b[39;00m(e)\n",
      "\u001b[0;31mException\u001b[0m: Image.load: Image asset 'users/byeh1/ethiopia_tigray_2021_v1' not found (does not exist or caller does not have access)."
     ]
    }
   ],
   "source": [
    "for cropmap in TARGETS.values():\n",
    "    if country not in cropmap.countries:\n",
    "        continue\n",
    "    print(f\"[{country}] sampling \" + cropmap.title + \"...\")\n",
    "    map_sampled = cropmap.extract_test(gdf).copy()\n",
    "    gdf = pd.merge(gdf, map_sampled, on=[\"lat\", \"lon\"], how=\"left\")\n",
    "    gdf.drop_duplicates(inplace=True)  # TODO find why points get duplicated"
   ]
  },
  {
   "cell_type": "code",
   "execution_count": null,
   "id": "b70dbb31",
   "metadata": {},
   "outputs": [],
   "source": [
    "comparisons = []\n",
    "for cropmap in TARGETS.keys():\n",
    "    if cropmap not in gdf.columns:\n",
    "        continue\n",
    "    temp = gdf[[CLASS_COL, cropmap]].dropna()\n",
    "    comparison = generate_report(cropmap, country, temp[CLASS_COL], temp[cropmap])\n",
    "    comparisons.append(comparison)\n",
    "\n",
    "results = pd.concat(comparisons).set_index([\"dataset\"])\n",
    "\n",
    "# Add ensemble\n",
    "ensemble_maps = [\"glad\", \"worldcover-v200\", \"esri-lulc\"] # Should be odd number\n",
    "print(f\"Ensemble maps: {ensemble_maps}\")\n",
    "ensemble = gdf[ensemble_maps].mode(axis='columns')\n",
    "comparison = generate_report(\"ensemble-subset\", country, gdf[CLASS_COL], ensemble)\n",
    "comparisons.append(comparison)\n",
    "\n",
    "results = pd.concat(comparisons).set_index([\"dataset\"])\n",
    "results"
   ]
  },
  {
   "cell_type": "code",
   "execution_count": null,
   "id": "8ead98f9",
   "metadata": {},
   "outputs": [],
   "source": [
    "crop_proportion = round(gdf[CLASS_COL].value_counts(normalize=True)[1], 4) * 100\n",
    "ax = results.sort_values(\"crop_f1\").plot(\n",
    "    y=[\"accuracy\", \"crop_recall_pa\", \"crop_precision_ua\", \"crop_f1\"], \n",
    "    xerr=\"std_crop_f1\",\n",
    "    kind=\"barh\", \n",
    "    figsize=(6, 14),\n",
    "    width=0.8,\n",
    "    title=f\"{country}: {len(gdf)} points (crop proportion: {crop_proportion}%)\",\n",
    ");\n",
    "\n",
    "for c in ax.containers[1::2]:\n",
    "    ax.bar_label(c)\n",
    "\n",
    "for border in [\"top\", \"right\", \"bottom\", \"left\"]:\n",
    "    ax.spines[border].set_visible(False)\n",
    "\n",
    "ax.legend(bbox_to_anchor=(1, 1), reverse=True);"
   ]
  },
  {
   "cell_type": "markdown",
   "id": "32353351",
   "metadata": {},
   "source": [
    "## 4. Visualize best available map"
   ]
  },
  {
   "cell_type": "code",
   "execution_count": null,
   "id": "7fd5d1d8",
   "metadata": {},
   "outputs": [],
   "source": [
    "# Run this cell to view and export map\n",
    "print(\"To view and export map copy and paste the text below the dashed line into GEE\\n\" + \"-\"*100)\n",
    "best_dataset = results[\"crop_f1\"].idxmax()\n",
    "if best_dataset in TARGETS:\n",
    "    print(TARGETS[best_dataset].ee_script(country))\n",
    "else:\n",
    "    image_var_names = [TARGETS[d].title_safe for d in ensemble_maps]\n",
    "    for i, dataset in enumerate(ensemble_maps):\n",
    "        print(TARGETS[dataset].ee_script(country, include_prefix=(i == 0), include_export=False))\n",
    "        print(\"\\n\")\n",
    "    print(f\"var ensemble = ee.ImageCollection.fromImages([{', '.join(image_var_names)}]).mode()\")\n",
    "    print(f\"Map.addLayer(ensemble, classVis, 'Cropland from ensemble');\")\n",
    "    print(f\"\"\"\n",
    "Export.image.toCloudStorage({{\n",
    "    image: ensemble,\n",
    "    description: \"{country}_ensemble_{'_'.join(image_var_names)}\",\n",
    "    bucket: 'crop-mask-preds-merged',\n",
    "    fileNamePrefix: \"{country}_ensemble_{'_'.join(image_var_names)}\",\n",
    "    region: aoi,\n",
    "    scale: 10,\n",
    "    crs: \"EPSG:4326\",\n",
    "    maxPixels: 1e10,\n",
    "    skipEmptyTiles: true\n",
    "}});\"\"\")"
   ]
  }
 ],
 "metadata": {
  "kernelspec": {
   "display_name": "Python 3 (ipykernel)",
   "language": "python",
   "name": "python3"
  },
  "language_info": {
   "codemirror_mode": {
    "name": "ipython",
    "version": 3
   },
   "file_extension": ".py",
   "mimetype": "text/x-python",
   "name": "python",
   "nbconvert_exporter": "python",
   "pygments_lexer": "ipython3",
   "version": "3.9.16"
  }
 },
 "nbformat": 4,
 "nbformat_minor": 5
}
