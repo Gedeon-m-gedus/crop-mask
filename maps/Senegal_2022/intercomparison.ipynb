{
 "cells": [
  {
   "cell_type": "markdown",
   "id": "a2666efa",
   "metadata": {},
   "source": [
    "# Intercomparison\n",
    "\n",
    "**Author:** Ivan Zvonkov\n",
    "\n",
    "**Last updated:** September 11, 2023\n",
    "\n",
    "**Description:** Runs intercomparison for Senegal 2022\n",
    "\n",
    "## 1. Setup"
   ]
  },
  {
   "cell_type": "code",
   "execution_count": null,
   "id": "1d8b1892",
   "metadata": {},
   "outputs": [],
   "source": [
    "# !earthengine authenticate"
   ]
  },
  {
   "cell_type": "code",
   "execution_count": 1,
   "id": "5f0d8358",
   "metadata": {},
   "outputs": [],
   "source": [
    "import ee\n",
    "import geemap\n",
    "import sys\n",
    "import pandas as pd\n",
    "import geopandas as gpd\n",
    "\n",
    "ee.Initialize()\n",
    "\n",
    "sys.path.append(\"../..\")"
   ]
  },
  {
   "cell_type": "code",
   "execution_count": 2,
   "id": "9a7c64c7",
   "metadata": {},
   "outputs": [],
   "source": [
    "from src.compare_covermaps import TARGETS, filter_by_bounds, generate_report, LAT, LON, CLASS_COL, COUNTRY_COL"
   ]
  },
  {
   "cell_type": "markdown",
   "id": "bf079755",
   "metadata": {},
   "source": [
    "## 2. Read in evaluation set"
   ]
  },
  {
   "cell_type": "code",
   "execution_count": 7,
   "id": "4639bd55",
   "metadata": {},
   "outputs": [],
   "source": [
    "country = \"Senegal\"\n",
    "country_code = \"SEN\"\n",
    "dataset_path = \"../../data/datasets/Senegal_CEO_2022.csv\""
   ]
  },
  {
   "cell_type": "code",
   "execution_count": 8,
   "id": "6957468a",
   "metadata": {},
   "outputs": [
    {
     "data": {
      "text/html": [
       "<div>\n",
       "<style scoped>\n",
       "    .dataframe tbody tr th:only-of-type {\n",
       "        vertical-align: middle;\n",
       "    }\n",
       "\n",
       "    .dataframe tbody tr th {\n",
       "        vertical-align: top;\n",
       "    }\n",
       "\n",
       "    .dataframe thead th {\n",
       "        text-align: right;\n",
       "    }\n",
       "</style>\n",
       "<table border=\"1\" class=\"dataframe\">\n",
       "  <thead>\n",
       "    <tr style=\"text-align: right;\">\n",
       "      <th></th>\n",
       "      <th>lat</th>\n",
       "      <th>lon</th>\n",
       "      <th>class_probability</th>\n",
       "      <th>subset</th>\n",
       "      <th>binary</th>\n",
       "      <th>country</th>\n",
       "      <th>geometry</th>\n",
       "    </tr>\n",
       "  </thead>\n",
       "  <tbody>\n",
       "    <tr>\n",
       "      <th>0</th>\n",
       "      <td>15.033306</td>\n",
       "      <td>-16.937735</td>\n",
       "      <td>0.0</td>\n",
       "      <td>testing</td>\n",
       "      <td>0</td>\n",
       "      <td>Senegal</td>\n",
       "      <td>POINT (-16.93773 15.03331)</td>\n",
       "    </tr>\n",
       "    <tr>\n",
       "      <th>2</th>\n",
       "      <td>16.192133</td>\n",
       "      <td>-14.772795</td>\n",
       "      <td>0.0</td>\n",
       "      <td>validation</td>\n",
       "      <td>0</td>\n",
       "      <td>Senegal</td>\n",
       "      <td>POINT (-14.77279 16.19213)</td>\n",
       "    </tr>\n",
       "    <tr>\n",
       "      <th>3</th>\n",
       "      <td>15.015340</td>\n",
       "      <td>-13.173794</td>\n",
       "      <td>0.0</td>\n",
       "      <td>validation</td>\n",
       "      <td>0</td>\n",
       "      <td>Senegal</td>\n",
       "      <td>POINT (-13.17379 15.01534)</td>\n",
       "    </tr>\n",
       "    <tr>\n",
       "      <th>4</th>\n",
       "      <td>14.799744</td>\n",
       "      <td>-15.329750</td>\n",
       "      <td>0.0</td>\n",
       "      <td>testing</td>\n",
       "      <td>0</td>\n",
       "      <td>Senegal</td>\n",
       "      <td>POINT (-15.32975 14.79974)</td>\n",
       "    </tr>\n",
       "    <tr>\n",
       "      <th>5</th>\n",
       "      <td>14.260755</td>\n",
       "      <td>-14.656014</td>\n",
       "      <td>0.0</td>\n",
       "      <td>testing</td>\n",
       "      <td>0</td>\n",
       "      <td>Senegal</td>\n",
       "      <td>POINT (-14.65601 14.26076)</td>\n",
       "    </tr>\n",
       "  </tbody>\n",
       "</table>\n",
       "</div>"
      ],
      "text/plain": [
       "         lat        lon  class_probability      subset  binary  country  \\\n",
       "0  15.033306 -16.937735                0.0     testing       0  Senegal   \n",
       "2  16.192133 -14.772795                0.0  validation       0  Senegal   \n",
       "3  15.015340 -13.173794                0.0  validation       0  Senegal   \n",
       "4  14.799744 -15.329750                0.0     testing       0  Senegal   \n",
       "5  14.260755 -14.656014                0.0     testing       0  Senegal   \n",
       "\n",
       "                     geometry  \n",
       "0  POINT (-16.93773 15.03331)  \n",
       "2  POINT (-14.77279 16.19213)  \n",
       "3  POINT (-13.17379 15.01534)  \n",
       "4  POINT (-15.32975 14.79974)  \n",
       "5  POINT (-14.65601 14.26076)  "
      ]
     },
     "execution_count": 8,
     "metadata": {},
     "output_type": "execute_result"
    }
   ],
   "source": [
    "df = pd.read_csv(dataset_path)[[\"lat\", \"lon\", \"class_probability\", \"subset\"]]\n",
    "df = df[(df[\"class_probability\"] != 0.5)].copy()\n",
    "df = df[(df[\"subset\"] == \"validation\") | (df[\"subset\"] == \"testing\")].copy()\n",
    "df[CLASS_COL] = (df[\"class_probability\"] > 0.5).astype(int)\n",
    "df[COUNTRY_COL] = country\n",
    "\n",
    "gdf = gpd.GeoDataFrame(df, geometry=gpd.points_from_xy(df.lon, df.lat), crs=\"epsg:4326\")\n",
    "gdf = filter_by_bounds(country_code=country_code, gdf=gdf)\n",
    "gdf.head()"
   ]
  },
  {
   "cell_type": "code",
   "execution_count": 9,
   "id": "329dd56e",
   "metadata": {},
   "outputs": [
    {
     "data": {
      "text/plain": [
       "1051"
      ]
     },
     "execution_count": 9,
     "metadata": {},
     "output_type": "execute_result"
    }
   ],
   "source": [
    "len(gdf)"
   ]
  },
  {
   "cell_type": "markdown",
   "id": "724ee98f",
   "metadata": {},
   "source": [
    "## 3. Run intercomparison"
   ]
  },
  {
   "cell_type": "code",
   "execution_count": 10,
   "id": "81909cfa",
   "metadata": {},
   "outputs": [],
   "source": [
    "TARGETS = {k:v for k,v in TARGETS.items()}"
   ]
  },
  {
   "cell_type": "code",
   "execution_count": 16,
   "id": "596c31ef",
   "metadata": {},
   "outputs": [],
   "source": [
    "for cropmap in TARGETS.values():\n",
    "    if cropmap.countries is not None and country not in cropmap.countries:\n",
    "        continue\n",
    "    print(f\"[{country}] sampling \" + cropmap.title + \"...\")\n",
    "    map_sampled = cropmap.extract_test(gdf).copy()\n",
    "    gdf = pd.merge(gdf, map_sampled, on=[LAT, LON], how=\"left\")\n",
    "    gdf.drop_duplicates(inplace=True)  # TODO find why points get duplicated"
   ]
  },
  {
   "cell_type": "code",
   "execution_count": 18,
   "id": "9227077b",
   "metadata": {},
   "outputs": [
    {
     "data": {
      "text/plain": [
       "['Tanzania',\n",
       " 'Namibia',\n",
       " 'Uganda',\n",
       " 'Zambia',\n",
       " 'Hawaii',\n",
       " 'BlueNile2020',\n",
       " 'BlueNile2019',\n",
       " 'AlGadaref2019',\n",
       " 'BureJimma2019',\n",
       " 'BureJimma2020',\n",
       " 'Tigray2021',\n",
       " 'Tigray2020']"
      ]
     },
     "execution_count": 18,
     "metadata": {},
     "output_type": "execute_result"
    }
   ],
   "source": [
    "cropmap.countries"
   ]
  },
  {
   "cell_type": "code",
   "execution_count": 12,
   "id": "8a5f6642",
   "metadata": {},
   "outputs": [
    {
     "ename": "ValueError",
     "evalue": "No objects to concatenate",
     "output_type": "error",
     "traceback": [
      "\u001b[0;31m---------------------------------------------------------------------------\u001b[0m",
      "\u001b[0;31mValueError\u001b[0m                                Traceback (most recent call last)",
      "Cell \u001b[0;32mIn[12], line 12\u001b[0m\n\u001b[1;32m      9\u001b[0m     comparison \u001b[38;5;241m=\u001b[39m generate_report(cropmap, country, temp[CLASS_COL], temp[cropmap])\n\u001b[1;32m     10\u001b[0m     comparisons\u001b[38;5;241m.\u001b[39mappend(comparison)\n\u001b[0;32m---> 12\u001b[0m results \u001b[38;5;241m=\u001b[39m \u001b[43mpd\u001b[49m\u001b[38;5;241;43m.\u001b[39;49m\u001b[43mconcat\u001b[49m\u001b[43m(\u001b[49m\u001b[43mcomparisons\u001b[49m\u001b[43m)\u001b[49m\u001b[38;5;241m.\u001b[39mset_index([\u001b[38;5;124m\"\u001b[39m\u001b[38;5;124mdataset\u001b[39m\u001b[38;5;124m\"\u001b[39m])\n\u001b[1;32m     14\u001b[0m \u001b[38;5;66;03m# Add ensemble\u001b[39;00m\n\u001b[1;32m     15\u001b[0m ensemble_maps \u001b[38;5;241m=\u001b[39m \u001b[38;5;28mlist\u001b[39m(results[\u001b[38;5;124m\"\u001b[39m\u001b[38;5;124mcrop_f1\u001b[39m\u001b[38;5;124m\"\u001b[39m]\u001b[38;5;241m.\u001b[39mnlargest(\u001b[38;5;241m3\u001b[39m)\u001b[38;5;241m.\u001b[39mindex) \u001b[38;5;66;03m# Should be odd number\u001b[39;00m\n",
      "File \u001b[0;32m/usr/local/Caskroom/miniconda/base/envs/landcover-mapping/lib/python3.9/site-packages/pandas/util/_decorators.py:311\u001b[0m, in \u001b[0;36mdeprecate_nonkeyword_arguments.<locals>.decorate.<locals>.wrapper\u001b[0;34m(*args, **kwargs)\u001b[0m\n\u001b[1;32m    305\u001b[0m \u001b[38;5;28;01mif\u001b[39;00m \u001b[38;5;28mlen\u001b[39m(args) \u001b[38;5;241m>\u001b[39m num_allow_args:\n\u001b[1;32m    306\u001b[0m     warnings\u001b[38;5;241m.\u001b[39mwarn(\n\u001b[1;32m    307\u001b[0m         msg\u001b[38;5;241m.\u001b[39mformat(arguments\u001b[38;5;241m=\u001b[39marguments),\n\u001b[1;32m    308\u001b[0m         \u001b[38;5;167;01mFutureWarning\u001b[39;00m,\n\u001b[1;32m    309\u001b[0m         stacklevel\u001b[38;5;241m=\u001b[39mstacklevel,\n\u001b[1;32m    310\u001b[0m     )\n\u001b[0;32m--> 311\u001b[0m \u001b[38;5;28;01mreturn\u001b[39;00m \u001b[43mfunc\u001b[49m\u001b[43m(\u001b[49m\u001b[38;5;241;43m*\u001b[39;49m\u001b[43margs\u001b[49m\u001b[43m,\u001b[49m\u001b[43m \u001b[49m\u001b[38;5;241;43m*\u001b[39;49m\u001b[38;5;241;43m*\u001b[39;49m\u001b[43mkwargs\u001b[49m\u001b[43m)\u001b[49m\n",
      "File \u001b[0;32m/usr/local/Caskroom/miniconda/base/envs/landcover-mapping/lib/python3.9/site-packages/pandas/core/reshape/concat.py:294\u001b[0m, in \u001b[0;36mconcat\u001b[0;34m(objs, axis, join, ignore_index, keys, levels, names, verify_integrity, sort, copy)\u001b[0m\n\u001b[1;32m     90\u001b[0m \u001b[38;5;129m@deprecate_nonkeyword_arguments\u001b[39m(version\u001b[38;5;241m=\u001b[39m\u001b[38;5;28;01mNone\u001b[39;00m, allowed_args\u001b[38;5;241m=\u001b[39m[\u001b[38;5;124m\"\u001b[39m\u001b[38;5;124mobjs\u001b[39m\u001b[38;5;124m\"\u001b[39m])\n\u001b[1;32m     91\u001b[0m \u001b[38;5;28;01mdef\u001b[39;00m \u001b[38;5;21mconcat\u001b[39m(\n\u001b[1;32m     92\u001b[0m     objs: Iterable[NDFrame] \u001b[38;5;241m|\u001b[39m Mapping[Hashable, NDFrame],\n\u001b[0;32m   (...)\u001b[0m\n\u001b[1;32m    101\u001b[0m     copy: \u001b[38;5;28mbool\u001b[39m \u001b[38;5;241m=\u001b[39m \u001b[38;5;28;01mTrue\u001b[39;00m,\n\u001b[1;32m    102\u001b[0m ) \u001b[38;5;241m-\u001b[39m\u001b[38;5;241m>\u001b[39m FrameOrSeriesUnion:\n\u001b[1;32m    103\u001b[0m     \u001b[38;5;124;03m\"\"\"\u001b[39;00m\n\u001b[1;32m    104\u001b[0m \u001b[38;5;124;03m    Concatenate pandas objects along a particular axis with optional set logic\u001b[39;00m\n\u001b[1;32m    105\u001b[0m \u001b[38;5;124;03m    along the other axes.\u001b[39;00m\n\u001b[0;32m   (...)\u001b[0m\n\u001b[1;32m    292\u001b[0m \u001b[38;5;124;03m    ValueError: Indexes have overlapping values: ['a']\u001b[39;00m\n\u001b[1;32m    293\u001b[0m \u001b[38;5;124;03m    \"\"\"\u001b[39;00m\n\u001b[0;32m--> 294\u001b[0m     op \u001b[38;5;241m=\u001b[39m \u001b[43m_Concatenator\u001b[49m\u001b[43m(\u001b[49m\n\u001b[1;32m    295\u001b[0m \u001b[43m        \u001b[49m\u001b[43mobjs\u001b[49m\u001b[43m,\u001b[49m\n\u001b[1;32m    296\u001b[0m \u001b[43m        \u001b[49m\u001b[43maxis\u001b[49m\u001b[38;5;241;43m=\u001b[39;49m\u001b[43maxis\u001b[49m\u001b[43m,\u001b[49m\n\u001b[1;32m    297\u001b[0m \u001b[43m        \u001b[49m\u001b[43mignore_index\u001b[49m\u001b[38;5;241;43m=\u001b[39;49m\u001b[43mignore_index\u001b[49m\u001b[43m,\u001b[49m\n\u001b[1;32m    298\u001b[0m \u001b[43m        \u001b[49m\u001b[43mjoin\u001b[49m\u001b[38;5;241;43m=\u001b[39;49m\u001b[43mjoin\u001b[49m\u001b[43m,\u001b[49m\n\u001b[1;32m    299\u001b[0m \u001b[43m        \u001b[49m\u001b[43mkeys\u001b[49m\u001b[38;5;241;43m=\u001b[39;49m\u001b[43mkeys\u001b[49m\u001b[43m,\u001b[49m\n\u001b[1;32m    300\u001b[0m \u001b[43m        \u001b[49m\u001b[43mlevels\u001b[49m\u001b[38;5;241;43m=\u001b[39;49m\u001b[43mlevels\u001b[49m\u001b[43m,\u001b[49m\n\u001b[1;32m    301\u001b[0m \u001b[43m        \u001b[49m\u001b[43mnames\u001b[49m\u001b[38;5;241;43m=\u001b[39;49m\u001b[43mnames\u001b[49m\u001b[43m,\u001b[49m\n\u001b[1;32m    302\u001b[0m \u001b[43m        \u001b[49m\u001b[43mverify_integrity\u001b[49m\u001b[38;5;241;43m=\u001b[39;49m\u001b[43mverify_integrity\u001b[49m\u001b[43m,\u001b[49m\n\u001b[1;32m    303\u001b[0m \u001b[43m        \u001b[49m\u001b[43mcopy\u001b[49m\u001b[38;5;241;43m=\u001b[39;49m\u001b[43mcopy\u001b[49m\u001b[43m,\u001b[49m\n\u001b[1;32m    304\u001b[0m \u001b[43m        \u001b[49m\u001b[43msort\u001b[49m\u001b[38;5;241;43m=\u001b[39;49m\u001b[43msort\u001b[49m\u001b[43m,\u001b[49m\n\u001b[1;32m    305\u001b[0m \u001b[43m    \u001b[49m\u001b[43m)\u001b[49m\n\u001b[1;32m    307\u001b[0m     \u001b[38;5;28;01mreturn\u001b[39;00m op\u001b[38;5;241m.\u001b[39mget_result()\n",
      "File \u001b[0;32m/usr/local/Caskroom/miniconda/base/envs/landcover-mapping/lib/python3.9/site-packages/pandas/core/reshape/concat.py:351\u001b[0m, in \u001b[0;36m_Concatenator.__init__\u001b[0;34m(self, objs, axis, join, keys, levels, names, ignore_index, verify_integrity, copy, sort)\u001b[0m\n\u001b[1;32m    348\u001b[0m     objs \u001b[38;5;241m=\u001b[39m \u001b[38;5;28mlist\u001b[39m(objs)\n\u001b[1;32m    350\u001b[0m \u001b[38;5;28;01mif\u001b[39;00m \u001b[38;5;28mlen\u001b[39m(objs) \u001b[38;5;241m==\u001b[39m \u001b[38;5;241m0\u001b[39m:\n\u001b[0;32m--> 351\u001b[0m     \u001b[38;5;28;01mraise\u001b[39;00m \u001b[38;5;167;01mValueError\u001b[39;00m(\u001b[38;5;124m\"\u001b[39m\u001b[38;5;124mNo objects to concatenate\u001b[39m\u001b[38;5;124m\"\u001b[39m)\n\u001b[1;32m    353\u001b[0m \u001b[38;5;28;01mif\u001b[39;00m keys \u001b[38;5;129;01mis\u001b[39;00m \u001b[38;5;28;01mNone\u001b[39;00m:\n\u001b[1;32m    354\u001b[0m     objs \u001b[38;5;241m=\u001b[39m \u001b[38;5;28mlist\u001b[39m(com\u001b[38;5;241m.\u001b[39mnot_none(\u001b[38;5;241m*\u001b[39mobjs))\n",
      "\u001b[0;31mValueError\u001b[0m: No objects to concatenate"
     ]
    }
   ],
   "source": [
    "gdf_val = gdf[gdf[\"subset\"] == \"validation\"].copy()\n",
    "gdf_test = gdf[gdf[\"subset\"] == \"testing\"].copy()\n",
    "\n",
    "comparisons = []\n",
    "for cropmap in TARGETS.keys():\n",
    "    if cropmap not in gdf.columns:\n",
    "        continue\n",
    "    temp = gdf_val[[CLASS_COL, cropmap]].dropna()\n",
    "    comparison = generate_report(cropmap, country, temp[CLASS_COL], temp[cropmap])\n",
    "    comparisons.append(comparison)\n",
    "\n",
    "results = pd.concat(comparisons).set_index([\"dataset\"])\n",
    "\n",
    "# Add ensemble\n",
    "ensemble_maps = list(results[\"crop_f1\"].nlargest(3).index) # Should be odd number\n",
    "print(f\"Ensemble maps: {ensemble_maps}\")\n",
    "ensemble = gdf_val[ensemble_maps].mode(axis='columns')\n",
    "comparison = generate_report(\"ensemble-subset\", country, gdf_val[CLASS_COL], ensemble)\n",
    "comparisons.append(comparison)\n",
    "\n",
    "results = pd.concat(comparisons).set_index([\"dataset\"])\n",
    "results"
   ]
  },
  {
   "cell_type": "code",
   "execution_count": 81,
   "id": "6585cc91",
   "metadata": {},
   "outputs": [
    {
     "data": {
      "image/png": "[encoded data removed]",
      "text/plain": [
       "<Figure size 600x600 with 1 Axes>"
      ]
     },
     "metadata": {},
     "output_type": "display_data"
    }
   ],
   "source": [
    "ax = results.plot(\n",
    "    y=\"crop_f1\", #\"accuracy\", \"crop_precision_ua\", \"crop_recall_pa\"], \n",
    "    xerr=\"std_crop_f1\",\n",
    "    kind=\"barh\", \n",
    "    figsize=(6,6)\n",
    ");\n",
    "for p in ax.patches:\n",
    "    ax.annotate(str(p.get_width()), (p.get_width(), p.get_y() + 0.4))\n",
    "\n",
    "for border in [\"top\", \"right\", \"bottom\", \"left\"]:\n",
    "    ax.spines[border].set_visible(False)"
   ]
  },
  {
   "cell_type": "markdown",
   "id": "e5ed0d90",
   "metadata": {},
   "source": [
    "## 4. Visualize best available map"
   ]
  },
  {
   "cell_type": "code",
   "execution_count": 82,
   "id": "61e89bd8",
   "metadata": {},
   "outputs": [],
   "source": [
    "best_dataset = results[\"crop_f1\"].idxmax()"
   ]
  },
  {
   "cell_type": "code",
   "execution_count": 83,
   "id": "b7d884b3",
   "metadata": {},
   "outputs": [
    {
     "data": {
      "text/html": [
       "<div>\n",
       "<style scoped>\n",
       "    .dataframe tbody tr th:only-of-type {\n",
       "        vertical-align: middle;\n",
       "    }\n",
       "\n",
       "    .dataframe tbody tr th {\n",
       "        vertical-align: top;\n",
       "    }\n",
       "\n",
       "    .dataframe thead th {\n",
       "        text-align: right;\n",
       "    }\n",
       "</style>\n",
       "<table border=\"1\" class=\"dataframe\">\n",
       "  <thead>\n",
       "    <tr style=\"text-align: right;\">\n",
       "      <th></th>\n",
       "      <th>dataset</th>\n",
       "      <th>country</th>\n",
       "      <th>crop_f1</th>\n",
       "      <th>std_crop_f1</th>\n",
       "      <th>accuracy</th>\n",
       "      <th>std_acc</th>\n",
       "      <th>crop_recall_pa</th>\n",
       "      <th>std_crop_pa</th>\n",
       "      <th>noncrop_recall_pa</th>\n",
       "      <th>std_noncrop_pa</th>\n",
       "      <th>crop_precision_ua</th>\n",
       "      <th>std_crop_ua</th>\n",
       "      <th>noncrop_precision_ua</th>\n",
       "      <th>std_noncrop_ua</th>\n",
       "      <th>crop_support</th>\n",
       "      <th>noncrop_support</th>\n",
       "      <th>tn</th>\n",
       "      <th>fp</th>\n",
       "      <th>fn</th>\n",
       "      <th>tp</th>\n",
       "    </tr>\n",
       "  </thead>\n",
       "  <tbody>\n",
       "    <tr>\n",
       "      <th>0</th>\n",
       "      <td>ensemble-subset</td>\n",
       "      <td>Togo</td>\n",
       "      <td>0.64</td>\n",
       "      <td>0.12</td>\n",
       "      <td>0.75</td>\n",
       "      <td>0.02</td>\n",
       "      <td>0.6</td>\n",
       "      <td>0.03</td>\n",
       "      <td>0.84</td>\n",
       "      <td>0.02</td>\n",
       "      <td>0.68</td>\n",
       "      <td>0.05</td>\n",
       "      <td>0.78</td>\n",
       "      <td>0.03</td>\n",
       "      <td>118</td>\n",
       "      <td>201</td>\n",
       "      <td>168</td>\n",
       "      <td>33</td>\n",
       "      <td>47</td>\n",
       "      <td>71</td>\n",
       "    </tr>\n",
       "  </tbody>\n",
       "</table>\n",
       "</div>"
      ],
      "text/plain": [
       "           dataset country  crop_f1  std_crop_f1  accuracy  std_acc  \\\n",
       "0  ensemble-subset    Togo     0.64         0.12      0.75     0.02   \n",
       "\n",
       "   crop_recall_pa  std_crop_pa  noncrop_recall_pa  std_noncrop_pa  \\\n",
       "0             0.6         0.03               0.84            0.02   \n",
       "\n",
       "   crop_precision_ua  std_crop_ua  noncrop_precision_ua  std_noncrop_ua  \\\n",
       "0               0.68         0.05                  0.78            0.03   \n",
       "\n",
       "   crop_support  noncrop_support   tn  fp  fn  tp  \n",
       "0           118              201  168  33  47  71  "
      ]
     },
     "execution_count": 83,
     "metadata": {},
     "output_type": "execute_result"
    }
   ],
   "source": [
    "ensemble = gdf_test[ensemble_maps].mode(axis='columns')\n",
    "comparison = generate_report(\"ensemble-subset\", country, gdf_test[CLASS_COL], ensemble)\n",
    "comparison"
   ]
  },
  {
   "cell_type": "code",
   "execution_count": 89,
   "id": "00a43466",
   "metadata": {},
   "outputs": [
    {
     "name": "stdout",
     "output_type": "stream",
     "text": [
      "Copy and paste the text below the dashed line into GEE\n",
      "----------------------------------------------------------------------------------------------------\n",
      "\n",
      "var palettes = require('users/gena/packages:palettes');\n",
      "var classVis = {palette: palettes.cmocean.Speed[7].slice(0,-2)}\n",
      "var aoi = ee.FeatureCollection(\"FAO/GAUL/2015/level0\").filter(ee.Filter.eq('ADM0_NAME', 'Togo'));\n",
      "Map.centerObject(aoi, 7);\n",
      "\n",
      "var digital_earth_africa = ee.ImageCollection(\"projects/sat-io/open-datasets/DEAF/CROPLAND-EXTENT/filtered\").filterBounds(aoi).mosaic().clip(aoi);\n",
      "digital_earth_africa = digital_earth_africa.eq(1)\n",
      "Map.addLayer(digital_earth_africa, classVis, 'Cropland from digital-earth-africa');\n",
      "\n",
      "\n",
      "var nabil_etal_2021 = ee.ImageCollection.fromImages(\n",
      "            [ee.Image(\"projects/sat-io/open-datasets/landcover/AF_Cropland_mask_30m_2016_v3\")]\n",
      "        ).filterBounds(aoi).mosaic().clip(aoi);\n",
      "nabil_etal_2021 = nabil_etal_2021.eq(2)\n",
      "Map.addLayer(nabil_etal_2021, classVis, 'Cropland from nabil-etal-2021');\n",
      "\n",
      "\n",
      "var esa_cci_africa = ee.ImageCollection(\n",
      "            ee.Image(\"projects/sat-io/open-datasets/ESA/ESACCI-LC-L4-LC10-Map-20m-P1Y-2016-v10\")\n",
      "        ).filterBounds(aoi).mosaic().clip(aoi);\n",
      "esa_cci_africa = esa_cci_africa.eq(4)\n",
      "Map.addLayer(esa_cci_africa, classVis, 'Cropland from esa-cci-africa');\n",
      "\n",
      "\n",
      "var ensemble = ee.ImageCollection.fromImages([digital_earth_africa, nabil_etal_2021, esa_cci_africa]).mode()\n",
      "Map.addLayer(ensemble, classVis, 'Cropland from ensemble');\n",
      "\n",
      "Export.image.toCloudStorage({\n",
      "    image: ensemble,\n",
      "    description: \"Togo_ensemble_digital_earth_africa_nabil_etal_2021_esa_cci_africa\",\n",
      "    bucket: 'crop-mask-preds-merged',\n",
      "    fileNamePrefix: 'Togo_ensemble',\n",
      "    region: aoi,\n",
      "    scale: 10,\n",
      "    crs: \"EPSG:4326\",\n",
      "    maxPixels: 1e10,\n",
      "    skipEmptyTiles: true\n",
      "});\n"
     ]
    }
   ],
   "source": [
    "# Run this cell to view and export map\n",
    "print(\"To view and export map copy and paste the text below the dashed line into GEE\\n\" + \"-\"*100)\n",
    "if best_dataset in TARGETS:\n",
    "    print(TARGETS[best_dataset].ee_script(country))\n",
    "else:\n",
    "    image_var_names = [TARGETS[d].title_safe for d in ensemble_maps]\n",
    "    for i, dataset in enumerate(ensemble_maps):\n",
    "        print(TARGETS[dataset].ee_script(country, include_prefix=(i == 0), include_export=False))\n",
    "        print(\"\\n\")\n",
    "    print(f\"var ensemble = ee.ImageCollection.fromImages([{', '.join(image_var_names)}]).mode()\")\n",
    "    print(f\"Map.addLayer(ensemble, classVis, 'Cropland from ensemble');\")\n",
    "    print(f\"\"\"\n",
    "Export.image.toCloudStorage({{\n",
    "    image: ensemble,\n",
    "    description: \"{country}_ensemble_{'_'.join(image_var_names)}\",\n",
    "    bucket: 'crop-mask-preds-merged',\n",
    "    fileNamePrefix: \"{country}_ensemble_{'_'.join(image_var_names)}\",\n",
    "    region: aoi,\n",
    "    scale: 10,\n",
    "    crs: \"EPSG:4326\",\n",
    "    maxPixels: 1e10,\n",
    "    skipEmptyTiles: true\n",
    "}});\"\"\")"
   ]
  },
  {
   "cell_type": "code",
   "execution_count": null,
   "id": "9b7eddfb",
   "metadata": {},
   "outputs": [],
   "source": []
  }
 ],
 "metadata": {
  "kernelspec": {
   "display_name": "Python 3 (ipykernel)",
   "language": "python",
   "name": "python3"
  },
  "language_info": {
   "codemirror_mode": {
    "name": "ipython",
    "version": 3
   },
   "file_extension": ".py",
   "mimetype": "text/x-python",
   "name": "python",
   "nbconvert_exporter": "python",
   "pygments_lexer": "ipython3",
   "version": "3.9.16"
  }
 },
 "nbformat": 4,
 "nbformat_minor": 5
}
