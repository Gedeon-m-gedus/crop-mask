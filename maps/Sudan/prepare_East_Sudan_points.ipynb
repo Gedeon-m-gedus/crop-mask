{
 "cells": [
  {
   "cell_type": "markdown",
   "id": "4748cbc6",
   "metadata": {},
   "source": [
    "# Prepare East Sudan Points\n",
    "\n",
    "**Author**: Ivan Zvonkov\n",
    "\n",
    "**Date Modified**: June 19, 2024\n",
    "\n",
    "**Description**: Processes points re-checked by SatLabel Squad into updated points for East Sudan."
   ]
  },
  {
   "cell_type": "code",
   "execution_count": 1,
   "id": "322cbc97",
   "metadata": {},
   "outputs": [],
   "source": [
    "import pandas as pd"
   ]
  },
  {
   "cell_type": "markdown",
   "id": "a75f7f5e",
   "metadata": {},
   "source": [
    "## 1. Load all relevant files"
   ]
  },
  {
   "cell_type": "code",
   "execution_count": 2,
   "id": "97a27b65",
   "metadata": {},
   "outputs": [],
   "source": [
    "df2022_set1_rechecked = pd.read_csv(\"points_raw/ceo-Sudan-Feb-2022---Feb-2023-(Set-1)-sample-data-2024-04-29_rechecked2.csv\")\n",
    "df2022_set2 = pd.read_csv(\"points_raw/ceo-Sudan-Feb-2022---Feb-2023-(Set-2)-sample-data-2024-05-22.csv\")\n",
    "\n",
    "df2023_set1_rechecked = pd.read_csv(\"points_raw/ceo-Sudan-Feb-2023---Feb-2024-(Set-1)-sample-data-2024-05-06_rechecked2.csv\")\n",
    "df2023_set2 = pd.read_csv(\"points_raw/ceo-Sudan-Feb-2023---Feb-2024-(Set-2)-sample-data-2024-05-22.csv\")"
   ]
  },
  {
   "cell_type": "markdown",
   "id": "aefb3f89",
   "metadata": {},
   "source": [
    "## Check Lengths of Each CEO set"
   ]
  },
  {
   "cell_type": "code",
   "execution_count": 3,
   "id": "0b8b551b",
   "metadata": {},
   "outputs": [
    {
     "data": {
      "text/plain": [
       "1197"
      ]
     },
     "execution_count": 3,
     "metadata": {},
     "output_type": "execute_result"
    }
   ],
   "source": [
    "len(df2022_set1_rechecked)"
   ]
  },
  {
   "cell_type": "code",
   "execution_count": 4,
   "id": "a15741c2",
   "metadata": {},
   "outputs": [
    {
     "data": {
      "text/plain": [
       "1207"
      ]
     },
     "execution_count": 4,
     "metadata": {},
     "output_type": "execute_result"
    }
   ],
   "source": [
    "len(df2022_set2)"
   ]
  },
  {
   "cell_type": "markdown",
   "id": "9cb9c66e",
   "metadata": {},
   "source": [
    "Not that same!\n",
    "\n",
    "Checking for duplicate plot ids in both"
   ]
  },
  {
   "cell_type": "code",
   "execution_count": 5,
   "id": "64865068",
   "metadata": {},
   "outputs": [
    {
     "data": {
      "text/plain": [
       "453     2\n",
       "0       1\n",
       "794     1\n",
       "801     1\n",
       "800     1\n",
       "       ..\n",
       "398     1\n",
       "397     1\n",
       "396     1\n",
       "395     1\n",
       "1195    1\n",
       "Name: plotid, Length: 1196, dtype: int64"
      ]
     },
     "execution_count": 5,
     "metadata": {},
     "output_type": "execute_result"
    }
   ],
   "source": [
    "df2022_set1_rechecked[\"plotid\"].value_counts()"
   ]
  },
  {
   "cell_type": "code",
   "execution_count": 6,
   "id": "20c0d27c",
   "metadata": {},
   "outputs": [
    {
     "data": {
      "text/plain": [
       "176     2\n",
       "358     2\n",
       "59      2\n",
       "454     2\n",
       "456     2\n",
       "       ..\n",
       "401     1\n",
       "400     1\n",
       "399     1\n",
       "398     1\n",
       "1195    1\n",
       "Name: plotid, Length: 1196, dtype: int64"
      ]
     },
     "execution_count": 6,
     "metadata": {},
     "output_type": "execute_result"
    }
   ],
   "source": [
    "df2022_set2[\"plotid\"].value_counts() "
   ]
  },
  {
   "cell_type": "markdown",
   "id": "dd2149ba",
   "metadata": {},
   "source": [
    "Looks like CEO allows duplicate plot ids, presumambly when two people end up labeling a single point in a single set.\n",
    "\n",
    "Without the duplicates though both sets in 2022 have 1196 points. \n",
    "\n",
    "Will deal with this later in the notebook."
   ]
  },
  {
   "cell_type": "code",
   "execution_count": 7,
   "id": "528e5202",
   "metadata": {},
   "outputs": [
    {
     "data": {
      "text/plain": [
       "1196"
      ]
     },
     "execution_count": 7,
     "metadata": {},
     "output_type": "execute_result"
    }
   ],
   "source": [
    "len(df2023_set1_rechecked)"
   ]
  },
  {
   "cell_type": "code",
   "execution_count": 8,
   "id": "82c4750b",
   "metadata": {},
   "outputs": [
    {
     "data": {
      "text/plain": [
       "1196"
      ]
     },
     "execution_count": 8,
     "metadata": {},
     "output_type": "execute_result"
    }
   ],
   "source": [
    "len(df2023_set2)"
   ]
  },
  {
   "cell_type": "markdown",
   "id": "06d29999",
   "metadata": {},
   "source": [
    "No duplicate points in 2023 good.\n",
    "\n",
    "During rechecking we used a new column \"Type of point\"."
   ]
  },
  {
   "cell_type": "code",
   "execution_count": 9,
   "id": "2361f431",
   "metadata": {},
   "outputs": [
    {
     "data": {
      "text/plain": [
       "Obvious non-crop     117\n",
       "Obvious crop          95\n",
       "Probably crop         75\n",
       "Probably non-crop     52\n",
       "Name: Type of point, dtype: int64"
      ]
     },
     "execution_count": 9,
     "metadata": {},
     "output_type": "execute_result"
    }
   ],
   "source": [
    "df2022_set1_rechecked[\"Type of point\"].value_counts()"
   ]
  },
  {
   "cell_type": "code",
   "execution_count": 10,
   "id": "9b8e8a55",
   "metadata": {},
   "outputs": [
    {
     "data": {
      "text/plain": [
       "Obvious crop         161\n",
       "Obvious non-crop     143\n",
       "Probably non-crop     19\n",
       "Probably crop         16\n",
       "Name: Type of point, dtype: int64"
      ]
     },
     "execution_count": 10,
     "metadata": {},
     "output_type": "execute_result"
    }
   ],
   "source": [
    "df2023_set1_rechecked[\"Type of point\"].value_counts()"
   ]
  },
  {
   "cell_type": "markdown",
   "id": "6fcff0f9",
   "metadata": {},
   "source": [
    "## 2. Process Points 2022\n",
    "\n",
    "For each point, is it crop or not?\n",
    "\n",
    "Pseudocode:\n",
    "\n",
    "1. RECHECK OVERRIDE: If \"Type of Point\" is available, use it and ignore other set.\n",
    "2. If not available, use agreement between sets."
   ]
  },
  {
   "cell_type": "code",
   "execution_count": 11,
   "id": "ecdc89cb",
   "metadata": {},
   "outputs": [],
   "source": [
    "is_crop_col = \"Does this pixel contain active cropland?\""
   ]
  },
  {
   "cell_type": "code",
   "execution_count": 12,
   "id": "f4cefb1e",
   "metadata": {},
   "outputs": [
    {
     "name": "stdout",
     "output_type": "stream",
     "text": [
      "Duplicate plotid: 453\n",
      "Disagreement for plotid: 517 skipping.\n",
      "Disagreement for plotid: 526 skipping.\n",
      "Disagreement for plotid: 527 skipping.\n",
      "Disagreement for plotid: 537 skipping.\n",
      "Disagreement for plotid: 548 skipping.\n",
      "Disagreement for plotid: 551 skipping.\n",
      "Disagreement for plotid: 555 skipping.\n",
      "Disagreement for plotid: 559 skipping.\n",
      "Disagreement for plotid: 560 skipping.\n",
      "Disagreement for plotid: 563 skipping.\n",
      "Disagreement for plotid: 568 skipping.\n",
      "Disagreement for plotid: 569 skipping.\n",
      "Disagreement for plotid: 574 skipping.\n",
      "Disagreement for plotid: 575 skipping.\n",
      "Disagreement for plotid: 601 skipping.\n",
      "Disagreement for plotid: 602 skipping.\n",
      "Disagreement for plotid: 611 skipping.\n",
      "Disagreement for plotid: 634 skipping.\n",
      "Disagreement for plotid: 650 skipping.\n",
      "Disagreement for plotid: 672 skipping.\n",
      "Disagreement for plotid: 683 skipping.\n",
      "Disagreement for plotid: 685 skipping.\n",
      "Disagreement for plotid: 690 skipping.\n",
      "Disagreement for plotid: 804 skipping.\n",
      "Disagreement for plotid: 807 skipping.\n",
      "Disagreement for plotid: 817 skipping.\n",
      "Disagreement for plotid: 819 skipping.\n",
      "Disagreement for plotid: 822 skipping.\n",
      "Disagreement for plotid: 824 skipping.\n",
      "Disagreement for plotid: 825 skipping.\n",
      "Disagreement for plotid: 831 skipping.\n",
      "Disagreement for plotid: 836 skipping.\n",
      "Disagreement for plotid: 837 skipping.\n"
     ]
    }
   ],
   "source": [
    "points_2022 = []\n",
    "\n",
    "for i in range(1196):\n",
    "    point_2022_set1_rechecked = df2022_set1_rechecked[df2022_set1_rechecked[\"plotid\"] == i]\n",
    "    \n",
    "    # Not a duplicate plot id\n",
    "    if len(point_2022_set1_rechecked) > 1:\n",
    "        print(f\"Duplicate plotid: {i}\")\n",
    "        \n",
    "    point_2022_set1_rechecked = point_2022_set1_rechecked.iloc[0]\n",
    "    \n",
    "    # Keep only East Sudan points (east of 32° lon)\n",
    "    if point_2022_set1_rechecked[\"lon\"] < 32:\n",
    "        continue\n",
    "\n",
    "    # RECHECK OVERRIDE\n",
    "    type_of_point = point_2022_set1_rechecked[\"Type of point\"]\n",
    "    if type(type_of_point) == str:\n",
    "        if \"non-crop\" in type_of_point:\n",
    "            label = 0.0\n",
    "        else:\n",
    "            label = 1.0\n",
    "\n",
    "    # No recheck use agreement\n",
    "    else:\n",
    "        point_2022_set2 = df2022_set2[df2022_set2[\"plotid\"] == i].iloc[0]\n",
    "        \n",
    "        # Check agreement\n",
    "        if point_2022_set1_rechecked[is_crop_col] == point_2022_set2[is_crop_col]:\n",
    "            if point_2022_set2[is_crop_col] == \"Crop\":\n",
    "                label = 1.0\n",
    "            else:\n",
    "                label = 0.0\n",
    "        \n",
    "        \n",
    "#         # Labelers I trust a bit more set 1:\n",
    "#         elif point_2022_set1_rechecked[\"email\"] in [\"gmuhawen@asu.edu\"]:\n",
    "#             if point_2022_set1_rechecked[is_crop_col] == \"Crop\":\n",
    "#                 label = 1.0\n",
    "#             else:\n",
    "#                 label = 0.0\n",
    "                \n",
    "#         # Labelers I trust a bit more set 2\n",
    "#         elif point_2022_set2[\"email\"] in [\"izvonkov@umd.edu\", \"hkerner@umd.edu\", \"mpurohi3@asu.edu\", \"sbaber@umd.edu\"]:\n",
    "#             if point_2022_set2[is_crop_col] == \"Crop\":\n",
    "#                 label = 1.0\n",
    "#             else:\n",
    "#                 label = 0.0\n",
    "                \n",
    "        # Disagreement without Gedeon\n",
    "        else:\n",
    "            print(f\"Disagreement for plotid: {i} skipping.\")\n",
    "            continue\n",
    "        \n",
    "    lat = point_2022_set1_rechecked[\"lat\"]\n",
    "    lon = point_2022_set1_rechecked[\"lon\"]\n",
    "    points_2022.append({\"longitude\": lon, \"latitude\": lat, \"label\": label})"
   ]
  },
  {
   "cell_type": "code",
   "execution_count": 13,
   "id": "ffbd0a0d",
   "metadata": {},
   "outputs": [],
   "source": [
    "df2022 = pd.DataFrame(points_2022)"
   ]
  },
  {
   "cell_type": "code",
   "execution_count": 14,
   "id": "7802a5c0",
   "metadata": {},
   "outputs": [
    {
     "data": {
      "text/plain": [
       "1.0    311\n",
       "0.0    235\n",
       "Name: label, dtype: int64"
      ]
     },
     "execution_count": 14,
     "metadata": {},
     "output_type": "execute_result"
    }
   ],
   "source": [
    "df2022[\"label\"].value_counts()"
   ]
  },
  {
   "cell_type": "markdown",
   "id": "4cdd2b3a",
   "metadata": {},
   "source": [
    "## 4. Process Points 2023"
   ]
  },
  {
   "cell_type": "code",
   "execution_count": 15,
   "id": "40259cfb",
   "metadata": {},
   "outputs": [],
   "source": [
    "points_2023 = []\n",
    "\n",
    "for i in range(1196):\n",
    "    point_2023_set1_rechecked = df2023_set1_rechecked[df2023_set1_rechecked[\"plotid\"] == i]\n",
    "    \n",
    "    # Not a duplicate plot id\n",
    "    if len(point_2023_set1_rechecked) > 1:\n",
    "        print(f\"Duplicate plotid: {i}\")\n",
    "        \n",
    "    point_2023_set1_rechecked = point_2023_set1_rechecked.iloc[0]\n",
    "    \n",
    "    # Keep only East Sudan points (east of 32° lon)\n",
    "    if point_2023_set1_rechecked[\"lon\"] < 32:\n",
    "        continue\n",
    "\n",
    "    # RECHECK OVERRIDE\n",
    "    type_of_point = point_2023_set1_rechecked[\"Type of point\"]\n",
    "    if type(type_of_point) == str:\n",
    "        if \"non-crop\" in type_of_point:\n",
    "            label = 0.0\n",
    "        else:\n",
    "            label = 1.0\n",
    "\n",
    "    # No recheck use agreement\n",
    "    else:\n",
    "        point_2023_set2 = df2023_set2[df2023_set2[\"plotid\"] == i].iloc[0]\n",
    "        \n",
    "        # Set 2 not labeled, default to set 1\n",
    "        if type(point_2023_set2[is_crop_col]) != str:\n",
    "            if point_2023_set1_rechecked[is_crop_col] == \"Crop\":\n",
    "                label = 1.0\n",
    "            else:\n",
    "                label = 0.0\n",
    "            \n",
    "        \n",
    "        # Check agreement\n",
    "        elif point_2023_set1_rechecked[is_crop_col] == point_2023_set2[is_crop_col]:\n",
    "            if point_2023_set2[is_crop_col] == \"Crop\":\n",
    "                label = 1.0\n",
    "            else:\n",
    "                label = 0.0\n",
    "        \n",
    "        \n",
    "        # If disagreement and Gedeon is a labeler give him override:\n",
    "        elif point_2023_set1_rechecked[\"email\"] == \"gmuhawen@asu.edu\":\n",
    "            if point_2023_set1_rechecked[is_crop_col] == \"Crop\":\n",
    "                label = 1.0\n",
    "            else:\n",
    "                label = 0.0\n",
    "                \n",
    "        # If disagreement and Ivan or Hannah is labeler give him override\n",
    "        elif point_2023_set2[\"email\"] in [\"izvonkov@umd.edu\", \"hkerner@umd.edu\"]:\n",
    "            if point_2023_set2[is_crop_col] == \"Crop\":\n",
    "                label = 1.0\n",
    "            else:\n",
    "                label = 0.0\n",
    "                \n",
    "        # Disagreement without Gedeon\n",
    "        else:\n",
    "            print(f\"Disagreement for plotid: {i} skipping.\")\n",
    "            continue\n",
    "        \n",
    "    lat = point_2023_set1_rechecked[\"lat\"]\n",
    "    lon = point_2023_set1_rechecked[\"lon\"]\n",
    "    points_2023.append({\"longitude\": lon, \"latitude\": lat, \"label\": label})"
   ]
  },
  {
   "cell_type": "code",
   "execution_count": 16,
   "id": "8c044668",
   "metadata": {},
   "outputs": [],
   "source": [
    "df2023 = pd.DataFrame(points_2023)"
   ]
  },
  {
   "cell_type": "code",
   "execution_count": 17,
   "id": "d649ac8d",
   "metadata": {},
   "outputs": [
    {
     "data": {
      "text/plain": [
       "1.0    305\n",
       "0.0    274\n",
       "Name: label, dtype: int64"
      ]
     },
     "execution_count": 17,
     "metadata": {},
     "output_type": "execute_result"
    }
   ],
   "source": [
    "df2023[\"label\"].value_counts()"
   ]
  },
  {
   "cell_type": "markdown",
   "id": "60bb2ca3",
   "metadata": {},
   "source": [
    "## 5. Split for Training and Area Estimation \n",
    "\n",
    "Going to try 50/50 split and hope for the best."
   ]
  },
  {
   "cell_type": "code",
   "execution_count": 18,
   "id": "89bf124f",
   "metadata": {},
   "outputs": [],
   "source": [
    "import numpy as np"
   ]
  },
  {
   "cell_type": "code",
   "execution_count": 19,
   "id": "786c6694",
   "metadata": {},
   "outputs": [],
   "source": [
    "random_float = np.random.rand(len(df2022.index))"
   ]
  },
  {
   "cell_type": "code",
   "execution_count": 20,
   "id": "e10d5020",
   "metadata": {},
   "outputs": [],
   "source": [
    "subset_col = pd.Series(index=df2022.index, data=\"testing\")\n",
    "subset_col[0.5 <= random_float] = \"training\""
   ]
  },
  {
   "cell_type": "code",
   "execution_count": 21,
   "id": "a4b0c19a",
   "metadata": {},
   "outputs": [
    {
     "data": {
      "text/plain": [
       "training    289\n",
       "testing     257\n",
       "dtype: int64"
      ]
     },
     "execution_count": 21,
     "metadata": {},
     "output_type": "execute_result"
    }
   ],
   "source": [
    "subset_col.value_counts()"
   ]
  },
  {
   "cell_type": "code",
   "execution_count": 22,
   "id": "e0d414f0",
   "metadata": {},
   "outputs": [],
   "source": [
    "df2022[\"subset\"] = subset_col"
   ]
  },
  {
   "cell_type": "code",
   "execution_count": 23,
   "id": "5e953daa",
   "metadata": {},
   "outputs": [],
   "source": [
    "df2023[\"subset\"] = subset_col"
   ]
  },
  {
   "cell_type": "code",
   "execution_count": 24,
   "id": "6eb15e81",
   "metadata": {},
   "outputs": [
    {
     "data": {
      "text/html": [
       "<div>\n",
       "<style scoped>\n",
       "    .dataframe tbody tr th:only-of-type {\n",
       "        vertical-align: middle;\n",
       "    }\n",
       "\n",
       "    .dataframe tbody tr th {\n",
       "        vertical-align: top;\n",
       "    }\n",
       "\n",
       "    .dataframe thead th {\n",
       "        text-align: right;\n",
       "    }\n",
       "</style>\n",
       "<table border=\"1\" class=\"dataframe\">\n",
       "  <thead>\n",
       "    <tr style=\"text-align: right;\">\n",
       "      <th></th>\n",
       "      <th>longitude</th>\n",
       "      <th>latitude</th>\n",
       "      <th>label</th>\n",
       "      <th>subset</th>\n",
       "    </tr>\n",
       "  </thead>\n",
       "  <tbody>\n",
       "    <tr>\n",
       "      <th>0</th>\n",
       "      <td>34.412608</td>\n",
       "      <td>13.322394</td>\n",
       "      <td>1.0</td>\n",
       "      <td>training</td>\n",
       "    </tr>\n",
       "    <tr>\n",
       "      <th>1</th>\n",
       "      <td>33.042904</td>\n",
       "      <td>13.296256</td>\n",
       "      <td>1.0</td>\n",
       "      <td>training</td>\n",
       "    </tr>\n",
       "    <tr>\n",
       "      <th>2</th>\n",
       "      <td>33.967062</td>\n",
       "      <td>12.616816</td>\n",
       "      <td>1.0</td>\n",
       "      <td>testing</td>\n",
       "    </tr>\n",
       "    <tr>\n",
       "      <th>3</th>\n",
       "      <td>35.666443</td>\n",
       "      <td>12.672629</td>\n",
       "      <td>1.0</td>\n",
       "      <td>training</td>\n",
       "    </tr>\n",
       "    <tr>\n",
       "      <th>4</th>\n",
       "      <td>34.499577</td>\n",
       "      <td>12.942798</td>\n",
       "      <td>0.0</td>\n",
       "      <td>training</td>\n",
       "    </tr>\n",
       "    <tr>\n",
       "      <th>...</th>\n",
       "      <td>...</td>\n",
       "      <td>...</td>\n",
       "      <td>...</td>\n",
       "      <td>...</td>\n",
       "    </tr>\n",
       "    <tr>\n",
       "      <th>541</th>\n",
       "      <td>34.191256</td>\n",
       "      <td>14.892369</td>\n",
       "      <td>1.0</td>\n",
       "      <td>training</td>\n",
       "    </tr>\n",
       "    <tr>\n",
       "      <th>542</th>\n",
       "      <td>32.990788</td>\n",
       "      <td>13.772671</td>\n",
       "      <td>1.0</td>\n",
       "      <td>training</td>\n",
       "    </tr>\n",
       "    <tr>\n",
       "      <th>543</th>\n",
       "      <td>33.035949</td>\n",
       "      <td>14.585912</td>\n",
       "      <td>0.0</td>\n",
       "      <td>testing</td>\n",
       "    </tr>\n",
       "    <tr>\n",
       "      <th>544</th>\n",
       "      <td>33.454790</td>\n",
       "      <td>13.852573</td>\n",
       "      <td>1.0</td>\n",
       "      <td>training</td>\n",
       "    </tr>\n",
       "    <tr>\n",
       "      <th>545</th>\n",
       "      <td>32.947497</td>\n",
       "      <td>14.282674</td>\n",
       "      <td>1.0</td>\n",
       "      <td>testing</td>\n",
       "    </tr>\n",
       "  </tbody>\n",
       "</table>\n",
       "<p>546 rows × 4 columns</p>\n",
       "</div>"
      ],
      "text/plain": [
       "     longitude   latitude  label    subset\n",
       "0    34.412608  13.322394    1.0  training\n",
       "1    33.042904  13.296256    1.0  training\n",
       "2    33.967062  12.616816    1.0   testing\n",
       "3    35.666443  12.672629    1.0  training\n",
       "4    34.499577  12.942798    0.0  training\n",
       "..         ...        ...    ...       ...\n",
       "541  34.191256  14.892369    1.0  training\n",
       "542  32.990788  13.772671    1.0  training\n",
       "543  33.035949  14.585912    0.0   testing\n",
       "544  33.454790  13.852573    1.0  training\n",
       "545  32.947497  14.282674    1.0   testing\n",
       "\n",
       "[546 rows x 4 columns]"
      ]
     },
     "execution_count": 24,
     "metadata": {},
     "output_type": "execute_result"
    }
   ],
   "source": [
    "df2022"
   ]
  },
  {
   "cell_type": "code",
   "execution_count": 25,
   "id": "5335fecf",
   "metadata": {},
   "outputs": [
    {
     "data": {
      "text/html": [
       "<div>\n",
       "<style scoped>\n",
       "    .dataframe tbody tr th:only-of-type {\n",
       "        vertical-align: middle;\n",
       "    }\n",
       "\n",
       "    .dataframe tbody tr th {\n",
       "        vertical-align: top;\n",
       "    }\n",
       "\n",
       "    .dataframe thead th {\n",
       "        text-align: right;\n",
       "    }\n",
       "</style>\n",
       "<table border=\"1\" class=\"dataframe\">\n",
       "  <thead>\n",
       "    <tr style=\"text-align: right;\">\n",
       "      <th></th>\n",
       "      <th>longitude</th>\n",
       "      <th>latitude</th>\n",
       "      <th>label</th>\n",
       "      <th>subset</th>\n",
       "    </tr>\n",
       "  </thead>\n",
       "  <tbody>\n",
       "    <tr>\n",
       "      <th>0</th>\n",
       "      <td>34.412608</td>\n",
       "      <td>13.322394</td>\n",
       "      <td>1.0</td>\n",
       "      <td>training</td>\n",
       "    </tr>\n",
       "    <tr>\n",
       "      <th>1</th>\n",
       "      <td>33.042904</td>\n",
       "      <td>13.296256</td>\n",
       "      <td>1.0</td>\n",
       "      <td>training</td>\n",
       "    </tr>\n",
       "    <tr>\n",
       "      <th>2</th>\n",
       "      <td>34.215501</td>\n",
       "      <td>13.411822</td>\n",
       "      <td>0.0</td>\n",
       "      <td>testing</td>\n",
       "    </tr>\n",
       "    <tr>\n",
       "      <th>3</th>\n",
       "      <td>33.967062</td>\n",
       "      <td>12.616816</td>\n",
       "      <td>1.0</td>\n",
       "      <td>training</td>\n",
       "    </tr>\n",
       "    <tr>\n",
       "      <th>4</th>\n",
       "      <td>35.666443</td>\n",
       "      <td>12.672629</td>\n",
       "      <td>0.0</td>\n",
       "      <td>training</td>\n",
       "    </tr>\n",
       "    <tr>\n",
       "      <th>...</th>\n",
       "      <td>...</td>\n",
       "      <td>...</td>\n",
       "      <td>...</td>\n",
       "      <td>...</td>\n",
       "    </tr>\n",
       "    <tr>\n",
       "      <th>574</th>\n",
       "      <td>34.191256</td>\n",
       "      <td>14.892369</td>\n",
       "      <td>0.0</td>\n",
       "      <td>NaN</td>\n",
       "    </tr>\n",
       "    <tr>\n",
       "      <th>575</th>\n",
       "      <td>32.990788</td>\n",
       "      <td>13.772671</td>\n",
       "      <td>0.0</td>\n",
       "      <td>NaN</td>\n",
       "    </tr>\n",
       "    <tr>\n",
       "      <th>576</th>\n",
       "      <td>33.035949</td>\n",
       "      <td>14.585912</td>\n",
       "      <td>1.0</td>\n",
       "      <td>NaN</td>\n",
       "    </tr>\n",
       "    <tr>\n",
       "      <th>577</th>\n",
       "      <td>33.454790</td>\n",
       "      <td>13.852573</td>\n",
       "      <td>1.0</td>\n",
       "      <td>NaN</td>\n",
       "    </tr>\n",
       "    <tr>\n",
       "      <th>578</th>\n",
       "      <td>32.947497</td>\n",
       "      <td>14.282674</td>\n",
       "      <td>1.0</td>\n",
       "      <td>NaN</td>\n",
       "    </tr>\n",
       "  </tbody>\n",
       "</table>\n",
       "<p>579 rows × 4 columns</p>\n",
       "</div>"
      ],
      "text/plain": [
       "     longitude   latitude  label    subset\n",
       "0    34.412608  13.322394    1.0  training\n",
       "1    33.042904  13.296256    1.0  training\n",
       "2    34.215501  13.411822    0.0   testing\n",
       "3    33.967062  12.616816    1.0  training\n",
       "4    35.666443  12.672629    0.0  training\n",
       "..         ...        ...    ...       ...\n",
       "574  34.191256  14.892369    0.0       NaN\n",
       "575  32.990788  13.772671    0.0       NaN\n",
       "576  33.035949  14.585912    1.0       NaN\n",
       "577  33.454790  13.852573    1.0       NaN\n",
       "578  32.947497  14.282674    1.0       NaN\n",
       "\n",
       "[579 rows x 4 columns]"
      ]
     },
     "execution_count": 25,
     "metadata": {},
     "output_type": "execute_result"
    }
   ],
   "source": [
    "df2023"
   ]
  },
  {
   "cell_type": "code",
   "execution_count": 27,
   "id": "72c936dc",
   "metadata": {},
   "outputs": [],
   "source": [
    "df2022.to_csv(\"points_processed/points_2022_EastSudan_50subset_v3.csv\", index=False)\n",
    "df2023.to_csv(\"points_processed/points_2023_EastSudan_50subset_v3.csv\", index=False)"
   ]
  },
  {
   "cell_type": "code",
   "execution_count": null,
   "id": "fbfe0af7",
   "metadata": {},
   "outputs": [],
   "source": []
  },
  {
   "cell_type": "code",
   "execution_count": null,
   "id": "48b108b5",
   "metadata": {},
   "outputs": [],
   "source": []
  }
 ],
 "metadata": {
  "kernelspec": {
   "display_name": "Python 3 (ipykernel)",
   "language": "python",
   "name": "python3"
  },
  "language_info": {
   "codemirror_mode": {
    "name": "ipython",
    "version": 3
   },
   "file_extension": ".py",
   "mimetype": "text/x-python",
   "name": "python",
   "nbconvert_exporter": "python",
   "pygments_lexer": "ipython3",
   "version": "3.9.16"
  }
 },
 "nbformat": 4,
 "nbformat_minor": 5
}
