{
 "cells": [
  {
   "cell_type": "markdown",
   "id": "7546e27e",
   "metadata": {},
   "source": [
    "# Creates lightweight csv for Google Earth Engine\n",
    "\n",
    "Author: Ivan Zvonkov\n",
    "\n",
    "Date: Nov 15, 2023"
   ]
  },
  {
   "cell_type": "code",
   "execution_count": 28,
   "id": "6fd5d373",
   "metadata": {},
   "outputs": [],
   "source": [
    "import pandas as pd\n",
    "from pathlib import Path"
   ]
  },
  {
   "cell_type": "code",
   "execution_count": 3,
   "id": "e33bb6b8",
   "metadata": {},
   "outputs": [],
   "source": [
    "df = pd.read_csv(\"../../data/datasets/SudanGedarefDarfurAlJazirah2022.csv\")"
   ]
  },
  {
   "cell_type": "code",
   "execution_count": 5,
   "id": "cd1228e1",
   "metadata": {},
   "outputs": [
    {
     "data": {
      "text/html": [
       "<div>\n",
       "<style scoped>\n",
       "    .dataframe tbody tr th:only-of-type {\n",
       "        vertical-align: middle;\n",
       "    }\n",
       "\n",
       "    .dataframe tbody tr th {\n",
       "        vertical-align: top;\n",
       "    }\n",
       "\n",
       "    .dataframe thead th {\n",
       "        text-align: right;\n",
       "    }\n",
       "</style>\n",
       "<table border=\"1\" class=\"dataframe\">\n",
       "  <thead>\n",
       "    <tr style=\"text-align: right;\">\n",
       "      <th></th>\n",
       "      <th>lon</th>\n",
       "      <th>lat</th>\n",
       "      <th>class_probability</th>\n",
       "      <th>num_labelers</th>\n",
       "      <th>plotid</th>\n",
       "      <th>sampleid</th>\n",
       "      <th>email</th>\n",
       "      <th>start_date</th>\n",
       "      <th>end_date</th>\n",
       "      <th>subset</th>\n",
       "      <th>eo_status</th>\n",
       "      <th>eo_data</th>\n",
       "      <th>eo_lat</th>\n",
       "      <th>eo_lon</th>\n",
       "      <th>eo_file</th>\n",
       "    </tr>\n",
       "  </thead>\n",
       "  <tbody>\n",
       "    <tr>\n",
       "      <th>0</th>\n",
       "      <td>22.746379</td>\n",
       "      <td>11.840540</td>\n",
       "      <td>0.5</td>\n",
       "      <td>2</td>\n",
       "      <td>0</td>\n",
       "      <td>0</td>\n",
       "      <td>gmuhawen@asu.edu,mcsatish@asu.edu</td>\n",
       "      <td>2022-01-01</td>\n",
       "      <td>2023-07-31</td>\n",
       "      <td>validation</td>\n",
       "      <td>eo_data_complete</td>\n",
       "      <td>[[-14.20754054158039, -27.53902823294526, 1600...</td>\n",
       "      <td>11.840559</td>\n",
       "      <td>22.746376</td>\n",
       "      <td>min_lat=11.8398_min_lon=22.7456_max_lat=11.841...</td>\n",
       "    </tr>\n",
       "    <tr>\n",
       "      <th>1</th>\n",
       "      <td>23.035368</td>\n",
       "      <td>12.185749</td>\n",
       "      <td>0.0</td>\n",
       "      <td>2</td>\n",
       "      <td>1</td>\n",
       "      <td>1</td>\n",
       "      <td>adadebay@umd.edu,bhanu.dharam.tokas@gmail.com</td>\n",
       "      <td>2022-01-01</td>\n",
       "      <td>2023-07-31</td>\n",
       "      <td>training</td>\n",
       "      <td>eo_data_complete</td>\n",
       "      <td>[[-16.057135503631706, -22.664907311659146, 15...</td>\n",
       "      <td>12.185782</td>\n",
       "      <td>23.035364</td>\n",
       "      <td>min_lat=12.185_min_lon=23.0346_max_lat=12.1865...</td>\n",
       "    </tr>\n",
       "    <tr>\n",
       "      <th>2</th>\n",
       "      <td>23.705528</td>\n",
       "      <td>11.895207</td>\n",
       "      <td>0.0</td>\n",
       "      <td>2</td>\n",
       "      <td>2</td>\n",
       "      <td>2</td>\n",
       "      <td>adadebay@umd.edu,mcsatish@asu.edu</td>\n",
       "      <td>2022-01-01</td>\n",
       "      <td>2023-07-31</td>\n",
       "      <td>training</td>\n",
       "      <td>eo_data_complete</td>\n",
       "      <td>[[-12.293445057769814, -22.474981978276553, 16...</td>\n",
       "      <td>11.895177</td>\n",
       "      <td>23.705507</td>\n",
       "      <td>min_lat=11.8945_min_lon=23.7048_max_lat=11.895...</td>\n",
       "    </tr>\n",
       "    <tr>\n",
       "      <th>3</th>\n",
       "      <td>23.955610</td>\n",
       "      <td>12.954778</td>\n",
       "      <td>1.0</td>\n",
       "      <td>2</td>\n",
       "      <td>3</td>\n",
       "      <td>3</td>\n",
       "      <td>aasareansah@gmail.com,mcsatish@asu.edu</td>\n",
       "      <td>2022-01-01</td>\n",
       "      <td>2023-07-31</td>\n",
       "      <td>validation</td>\n",
       "      <td>eo_data_complete</td>\n",
       "      <td>[[-17.543296205591762, -26.832723915812014, 14...</td>\n",
       "      <td>12.954739</td>\n",
       "      <td>23.955598</td>\n",
       "      <td>min_lat=12.9541_min_lon=23.9549_max_lat=12.955...</td>\n",
       "    </tr>\n",
       "    <tr>\n",
       "      <th>4</th>\n",
       "      <td>23.605060</td>\n",
       "      <td>11.552391</td>\n",
       "      <td>0.0</td>\n",
       "      <td>2</td>\n",
       "      <td>4</td>\n",
       "      <td>4</td>\n",
       "      <td>adadebay@umd.edu,bhanu.dharam.tokas@gmail.com</td>\n",
       "      <td>2022-01-01</td>\n",
       "      <td>2023-07-31</td>\n",
       "      <td>testing</td>\n",
       "      <td>eo_data_complete</td>\n",
       "      <td>[[-16.53173845904822, -23.670555850697205, 172...</td>\n",
       "      <td>11.552379</td>\n",
       "      <td>23.605076</td>\n",
       "      <td>min_lat=11.5517_min_lon=23.6043_max_lat=11.553...</td>\n",
       "    </tr>\n",
       "  </tbody>\n",
       "</table>\n",
       "</div>"
      ],
      "text/plain": [
       "         lon        lat  class_probability  num_labelers  plotid  sampleid  \\\n",
       "0  22.746379  11.840540                0.5             2       0         0   \n",
       "1  23.035368  12.185749                0.0             2       1         1   \n",
       "2  23.705528  11.895207                0.0             2       2         2   \n",
       "3  23.955610  12.954778                1.0             2       3         3   \n",
       "4  23.605060  11.552391                0.0             2       4         4   \n",
       "\n",
       "                                           email  start_date    end_date  \\\n",
       "0              gmuhawen@asu.edu,mcsatish@asu.edu  2022-01-01  2023-07-31   \n",
       "1  adadebay@umd.edu,bhanu.dharam.tokas@gmail.com  2022-01-01  2023-07-31   \n",
       "2              adadebay@umd.edu,mcsatish@asu.edu  2022-01-01  2023-07-31   \n",
       "3         aasareansah@gmail.com,mcsatish@asu.edu  2022-01-01  2023-07-31   \n",
       "4  adadebay@umd.edu,bhanu.dharam.tokas@gmail.com  2022-01-01  2023-07-31   \n",
       "\n",
       "       subset         eo_status  \\\n",
       "0  validation  eo_data_complete   \n",
       "1    training  eo_data_complete   \n",
       "2    training  eo_data_complete   \n",
       "3  validation  eo_data_complete   \n",
       "4     testing  eo_data_complete   \n",
       "\n",
       "                                             eo_data     eo_lat     eo_lon  \\\n",
       "0  [[-14.20754054158039, -27.53902823294526, 1600...  11.840559  22.746376   \n",
       "1  [[-16.057135503631706, -22.664907311659146, 15...  12.185782  23.035364   \n",
       "2  [[-12.293445057769814, -22.474981978276553, 16...  11.895177  23.705507   \n",
       "3  [[-17.543296205591762, -26.832723915812014, 14...  12.954739  23.955598   \n",
       "4  [[-16.53173845904822, -23.670555850697205, 172...  11.552379  23.605076   \n",
       "\n",
       "                                             eo_file  \n",
       "0  min_lat=11.8398_min_lon=22.7456_max_lat=11.841...  \n",
       "1  min_lat=12.185_min_lon=23.0346_max_lat=12.1865...  \n",
       "2  min_lat=11.8945_min_lon=23.7048_max_lat=11.895...  \n",
       "3  min_lat=12.9541_min_lon=23.9549_max_lat=12.955...  \n",
       "4  min_lat=11.5517_min_lon=23.6043_max_lat=11.553...  "
      ]
     },
     "execution_count": 5,
     "metadata": {},
     "output_type": "execute_result"
    }
   ],
   "source": [
    "df.head()"
   ]
  },
  {
   "cell_type": "code",
   "execution_count": 19,
   "id": "f4e94be1",
   "metadata": {},
   "outputs": [
    {
     "data": {
      "text/plain": [
       "0.0    0.521739\n",
       "1.0    0.304348\n",
       "0.5    0.173913\n",
       "Name: class_probability, dtype: float64"
      ]
     },
     "execution_count": 19,
     "metadata": {},
     "output_type": "execute_result"
    }
   ],
   "source": [
    "df[\"class_probability\"].value_counts(normalize=True)"
   ]
  },
  {
   "cell_type": "code",
   "execution_count": 22,
   "id": "5dea5378",
   "metadata": {},
   "outputs": [],
   "source": [
    "df = df[df[\"class_probability\"] != 0.5]"
   ]
  },
  {
   "cell_type": "code",
   "execution_count": 27,
   "id": "1ec60c56",
   "metadata": {},
   "outputs": [],
   "source": [
    "df[df[\"subset\"] == \"testing\"][\"plotid\"].to_csv(\"SudanGedarefDarfurAlJazirah2022_testing_plot_ids.csv\", index=False)"
   ]
  },
  {
   "cell_type": "code",
   "execution_count": 24,
   "id": "ead45435",
   "metadata": {},
   "outputs": [
    {
     "data": {
      "text/html": [
       "<div>\n",
       "<style scoped>\n",
       "    .dataframe tbody tr th:only-of-type {\n",
       "        vertical-align: middle;\n",
       "    }\n",
       "\n",
       "    .dataframe tbody tr th {\n",
       "        vertical-align: top;\n",
       "    }\n",
       "\n",
       "    .dataframe thead th {\n",
       "        text-align: right;\n",
       "    }\n",
       "</style>\n",
       "<table border=\"1\" class=\"dataframe\">\n",
       "  <thead>\n",
       "    <tr style=\"text-align: right;\">\n",
       "      <th></th>\n",
       "      <th>lat</th>\n",
       "      <th>lon</th>\n",
       "      <th>subset</th>\n",
       "      <th>class_probability</th>\n",
       "    </tr>\n",
       "  </thead>\n",
       "  <tbody>\n",
       "    <tr>\n",
       "      <th>1</th>\n",
       "      <td>12.185749</td>\n",
       "      <td>23.035368</td>\n",
       "      <td>training</td>\n",
       "      <td>0.0</td>\n",
       "    </tr>\n",
       "    <tr>\n",
       "      <th>2</th>\n",
       "      <td>11.895207</td>\n",
       "      <td>23.705528</td>\n",
       "      <td>training</td>\n",
       "      <td>0.0</td>\n",
       "    </tr>\n",
       "    <tr>\n",
       "      <th>3</th>\n",
       "      <td>12.954778</td>\n",
       "      <td>23.955610</td>\n",
       "      <td>validation</td>\n",
       "      <td>1.0</td>\n",
       "    </tr>\n",
       "    <tr>\n",
       "      <th>4</th>\n",
       "      <td>11.552391</td>\n",
       "      <td>23.605060</td>\n",
       "      <td>testing</td>\n",
       "      <td>0.0</td>\n",
       "    </tr>\n",
       "    <tr>\n",
       "      <th>5</th>\n",
       "      <td>12.666935</td>\n",
       "      <td>23.645026</td>\n",
       "      <td>testing</td>\n",
       "      <td>0.0</td>\n",
       "    </tr>\n",
       "  </tbody>\n",
       "</table>\n",
       "</div>"
      ],
      "text/plain": [
       "         lat        lon      subset  class_probability\n",
       "1  12.185749  23.035368    training                0.0\n",
       "2  11.895207  23.705528    training                0.0\n",
       "3  12.954778  23.955610  validation                1.0\n",
       "4  11.552391  23.605060     testing                0.0\n",
       "5  12.666935  23.645026     testing                0.0"
      ]
     },
     "execution_count": 24,
     "metadata": {},
     "output_type": "execute_result"
    }
   ],
   "source": [
    "barebones_df = df[[\"lat\", \"lon\", \"subset\", \"class_probability\"]].copy()\n",
    "barebones_df.head()"
   ]
  },
  {
   "cell_type": "code",
   "execution_count": 15,
   "id": "c20557bd",
   "metadata": {},
   "outputs": [],
   "source": [
    "barebones_df.to_csv(\"SudanGedarefDarfurAlJazirah2022_gee_set.csv\", index=False)"
   ]
  },
  {
   "cell_type": "code",
   "execution_count": 29,
   "id": "c7c71e9d",
   "metadata": {},
   "outputs": [],
   "source": [
    "Path(\"SudanGedarefDarfurAlJazirah2022_gee_set.csv\").unlink()\n",
    "Path(\"SudanGedarefDarfurAlJazirah2022_testing_plot_ids.csv\").unlink()"
   ]
  },
  {
   "cell_type": "code",
   "execution_count": null,
   "id": "028eba0b",
   "metadata": {},
   "outputs": [],
   "source": []
  }
 ],
 "metadata": {
  "kernelspec": {
   "display_name": "Python 3 (ipykernel)",
   "language": "python",
   "name": "python3"
  },
  "language_info": {
   "codemirror_mode": {
    "name": "ipython",
    "version": 3
   },
   "file_extension": ".py",
   "mimetype": "text/x-python",
   "name": "python",
   "nbconvert_exporter": "python",
   "pygments_lexer": "ipython3",
   "version": "3.9.16"
  }
 },
 "nbformat": 4,
 "nbformat_minor": 5
}
