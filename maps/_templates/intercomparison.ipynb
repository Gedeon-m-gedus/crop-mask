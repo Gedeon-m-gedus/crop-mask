{
 "cells": [
  {
   "cell_type": "markdown",
   "id": "62f2a2e4",
   "metadata": {},
   "source": [
    "# Intercomparison\n",
    "\n",
    "**Author:** \n",
    "\n",
    "**Last updated:** \n",
    "\n",
    "**Description:** Runs intercomparison for [Country Year]\n",
    "\n",
    "## 1. Setup"
   ]
  },
  {
   "cell_type": "code",
   "execution_count": null,
   "id": "7f609c57",
   "metadata": {},
   "outputs": [],
   "source": [
    "#earthengine authenticate"
   ]
  },
  {
   "cell_type": "code",
   "execution_count": null,
   "id": "98ddd95c",
   "metadata": {},
   "outputs": [],
   "source": [
    "import ee\n",
    "import geemap\n",
    "import sys\n",
    "import pandas as pd\n",
    "import geopandas as gpd\n",
    "from pathlib import Path\n",
    "\n",
    "ee.Initialize()\n",
    "\n",
    "sys.path.append(\"../..\")\n",
    "\n",
    "from src.compare_covermaps import TARGETS, filter_by_bounds, generate_report, CLASS_COL, COUNTRY_COL\n",
    "from src.compare_covermaps import TEST_COUNTRIES, TEST_CODE"
   ]
  },
  {
   "cell_type": "markdown",
   "id": "09b2f8c5",
   "metadata": {},
   "source": [
    "## 2. Read in evaluation set"
   ]
  },
  {
   "cell_type": "code",
   "execution_count": null,
   "id": "6de51e9f",
   "metadata": {},
   "outputs": [],
   "source": [
    "country = \"<COUNTRY STRING GOES HERE>\"\n",
    "\n",
    "if country not in TEST_CODE:\n",
    "    print(f\"WARNING: {country} not found in TEST_CODE in src/compare_covermaps.py\")\n",
    "if country not in TEST_COUNTRIES:\n",
    "    print(f\"WARNING: {country} not found in TEST_COUNTRIES in src/compare_covermaps.py\")\n",
    "if country not in TEST_CODE or country not in TEST_COUNTRIES:\n",
    "    print(\"Please update src/compare_covermaps.py and restart the notebook.\")\n",
    "else:\n",
    "    country_code = TEST_CODE[country]\n",
    "    dataset_path = \"../\" + TEST_COUNTRIES[country]"
   ]
  },
  {
   "cell_type": "code",
   "execution_count": null,
   "id": "343ab85a",
   "metadata": {},
   "outputs": [],
   "source": [
    "if not Path(dataset_path).exists():\n",
    "    print(f\"WARNING: Dataset: {dataset_path} not found, run `dvc pull data/datasets from root.\")\n",
    "else:\n",
    "    df = pd.read_csv(dataset_path)[[\"lat\", \"lon\", \"class_probability\", \"subset\"]]\n",
    "    df = df[(df[\"class_probability\"] != 0.5)].copy()\n",
    "    # use only test data because validation points used for harvest-dev map\n",
    "    df = df[df[\"subset\"] == \"testing\"].copy()\n",
    "    df[CLASS_COL] = (df[\"class_probability\"] > 0.5).astype(int)\n",
    "    df[COUNTRY_COL] = country\n",
    "\n",
    "    gdf = gpd.GeoDataFrame(df, geometry=gpd.points_from_xy(df.lon, df.lat), crs=\"epsg:4326\")\n",
    "    gdf = filter_by_bounds(country_code=country_code, gdf=gdf)"
   ]
  },
  {
   "cell_type": "markdown",
   "id": "5bbca5d0",
   "metadata": {},
   "source": [
    "## 3. Run intercomparison"
   ]
  },
  {
   "cell_type": "code",
   "execution_count": null,
   "id": "c47ba5d1",
   "metadata": {},
   "outputs": [],
   "source": [
    "TARGETS = {k:v for k,v in TARGETS.items()}"
   ]
  },
  {
   "cell_type": "code",
   "execution_count": null,
   "id": "7cac8859",
   "metadata": {},
   "outputs": [],
   "source": [
    "for cropmap in TARGETS.values():\n",
    "    if country not in cropmap.countries:\n",
    "        continue\n",
    "    print(f\"[{country}] sampling \" + cropmap.title + \"...\")\n",
    "    map_sampled = cropmap.extract_test(gdf).copy()\n",
    "    gdf = pd.merge(gdf, map_sampled, on=[\"lat\", \"lon\"], how=\"left\")\n",
    "    gdf.drop_duplicates(inplace=True)  # TODO find why points get duplicated"
   ]
  },
  {
   "cell_type": "code",
   "execution_count": null,
   "id": "ced5cce0",
   "metadata": {},
   "outputs": [],
   "source": [
    "comparisons = []\n",
    "for cropmap in TARGETS.keys():\n",
    "    if cropmap not in gdf.columns:\n",
    "        continue\n",
    "    temp = gdf[[CLASS_COL, cropmap]].dropna()\n",
    "    comparison = generate_report(cropmap, country, temp[CLASS_COL], temp[cropmap])\n",
    "    comparisons.append(comparison)\n",
    "\n",
    "results = pd.concat(comparisons).set_index([\"dataset\"])\n",
    "\n",
    "# Add ensemble\n",
    "ensemble_maps = [\"glad\", \"worldcover-v200\", \"esri-lulc\"] # Should be odd number\n",
    "print(f\"Ensemble maps: {ensemble_maps}\")\n",
    "ensemble = gdf[ensemble_maps].mode(axis='columns')\n",
    "comparison = generate_report(\"ensemble-subset\", country, gdf[CLASS_COL], ensemble)\n",
    "comparisons.append(comparison)\n",
    "\n",
    "results = pd.concat(comparisons).set_index([\"dataset\"])\n",
    "results"
   ]
  },
  {
   "cell_type": "code",
   "execution_count": null,
   "id": "9ee40aad",
   "metadata": {},
   "outputs": [],
   "source": [
    "crop_proportion = round(gdf[CLASS_COL].value_counts(normalize=True)[1], 4) * 100\n",
    "ax = results.sort_values(\"crop_f1\").plot(\n",
    "    y=[\"accuracy\", \"crop_recall_pa\", \"crop_precision_ua\", \"crop_f1\"], \n",
    "    xerr=\"std_crop_f1\",\n",
    "    kind=\"barh\", \n",
    "    figsize=(6, 14),\n",
    "    width=0.8,\n",
    "    title=f\"{country}: {len(gdf)} points (crop proportion: {crop_proportion}%)\",\n",
    ");\n",
    "\n",
    "for c in ax.containers[1::2]:\n",
    "    ax.bar_label(c)\n",
    "\n",
    "for border in [\"top\", \"right\", \"bottom\", \"left\"]:\n",
    "    ax.spines[border].set_visible(False)\n",
    "\n",
    "ax.legend(bbox_to_anchor=(1, 1), reverse=True);"
   ]
  },
  {
   "cell_type": "markdown",
   "id": "27ace5b0",
   "metadata": {},
   "source": [
    "## 4. Visualize best available map"
   ]
  },
  {
   "cell_type": "code",
   "execution_count": null,
   "id": "70fcdc2a",
   "metadata": {},
   "outputs": [],
   "source": [
    "# Run this cell to view and export map\n",
    "print(\"To view and export map copy and paste the text below the dashed line into GEE\\n\" + \"-\"*100)\n",
    "best_dataset = results[\"crop_f1\"].idxmax()\n",
    "if best_dataset in TARGETS:\n",
    "    print(TARGETS[best_dataset].ee_script(country))\n",
    "else:\n",
    "    image_var_names = [TARGETS[d].title_safe for d in ensemble_maps]\n",
    "    for i, dataset in enumerate(ensemble_maps):\n",
    "        print(TARGETS[dataset].ee_script(country, include_prefix=(i == 0), include_export=False))\n",
    "        print(\"\\n\")\n",
    "    print(f\"var ensemble = ee.ImageCollection.fromImages([{', '.join(image_var_names)}]).mode()\")\n",
    "    print(f\"Map.addLayer(ensemble, classVis, 'Cropland from ensemble');\")\n",
    "    print(f\"\"\"\n",
    "Export.image.toCloudStorage({{\n",
    "    image: ensemble,\n",
    "    description: \"{country}_ensemble_{'_'.join(image_var_names)}\",\n",
    "    bucket: 'crop-mask-preds-merged',\n",
    "    fileNamePrefix: \"{country}_ensemble_{'_'.join(image_var_names)}\",\n",
    "    region: aoi,\n",
    "    scale: 10,\n",
    "    crs: \"EPSG:4326\",\n",
    "    maxPixels: 1e10,\n",
    "    skipEmptyTiles: true\n",
    "}});\"\"\")"
   ]
  }
 ],
 "metadata": {
  "kernelspec": {
   "display_name": "Python 3 (ipykernel)",
   "language": "python",
   "name": "python3"
  },
  "language_info": {
   "codemirror_mode": {
    "name": "ipython",
    "version": 3
   },
   "file_extension": ".py",
   "mimetype": "text/x-python",
   "name": "python",
   "nbconvert_exporter": "python",
   "pygments_lexer": "ipython3",
   "version": "3.9.16"
  }
 },
 "nbformat": 4,
 "nbformat_minor": 5
}
