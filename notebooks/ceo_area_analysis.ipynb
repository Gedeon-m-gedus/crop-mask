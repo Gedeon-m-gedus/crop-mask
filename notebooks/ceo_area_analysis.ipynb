{
 "cells": [
  {
   "attachments": {},
   "cell_type": "markdown",
   "metadata": {},
   "source": [
    "### CEO Meta-Analysis - Crop Land Area Estimation\n",
    "**Author:** Benjamin Yeh (by253@cornell.edu / byeh1@umd.edu) <br>\n",
    "**Description:** This notebook contains:\n",
    "1. Code to generate dataframe containing meta information from labeler sets \n",
    "2. Code to generate statistics from meta dataframe"
   ]
  },
  {
   "cell_type": "code",
   "execution_count": 11,
   "metadata": {},
   "outputs": [],
   "source": [
    "import numpy as np\n",
    "import pandas as pd\n",
    "from src.meta_utils import create_meta_dataframe"
   ]
  },
  {
   "attachments": {},
   "cell_type": "markdown",
   "metadata": {},
   "source": [
    "#### 1. Generate Meta Dataframe "
   ]
  },
  {
   "cell_type": "code",
   "execution_count": 12,
   "metadata": {},
   "outputs": [],
   "source": [
    "# Define a helper function here\n",
    "#   -> `path_fn`\n",
    "path_fn = lambda s, d: f\"data/ceo-Tigray-2020-2021-Change-({s})-sample-data-2022-{d}.csv\"\n",
    "\n",
    "# Indicate here the dates \n",
    "cdate = \"01-10\"\n",
    "fdate = \"01-17\"\n",
    "\n",
    "# Indicate here whether labeling project is area change\n",
    "area_change = True"
   ]
  },
  {
   "cell_type": "code",
   "execution_count": 13,
   "metadata": {},
   "outputs": [
    {
     "name": "stdout",
     "output_type": "stream",
     "text": [
      "               Loading dataframes from file...               \n",
      "------------------------------------------------------------\n",
      "Native dataframe shapes : (600, 14) , (600, 14) , (600, 14)\n",
      "Loading and checking dataframes complete!\n",
      "\n",
      "                 Computing disagreements...                  \n",
      "------------------------------------------------------------\n",
      "Disagreements between labeler sets 1 and 2 : 49\n",
      "\n",
      "             Creating meta dataframe...              \n"
     ]
    },
    {
     "data": {
      "text/html": [
       "<div>\n",
       "<style scoped>\n",
       "    .dataframe tbody tr th:only-of-type {\n",
       "        vertical-align: middle;\n",
       "    }\n",
       "\n",
       "    .dataframe tbody tr th {\n",
       "        vertical-align: top;\n",
       "    }\n",
       "\n",
       "    .dataframe thead th {\n",
       "        text-align: right;\n",
       "    }\n",
       "</style>\n",
       "<table border=\"1\" class=\"dataframe\">\n",
       "  <thead>\n",
       "    <tr style=\"text-align: right;\">\n",
       "      <th></th>\n",
       "      <th>plotid</th>\n",
       "      <th>sampleid</th>\n",
       "      <th>lon</th>\n",
       "      <th>lat</th>\n",
       "      <th>set_1_email</th>\n",
       "      <th>set_2_email</th>\n",
       "      <th>overridden_email</th>\n",
       "      <th>set_1_analysis_duration</th>\n",
       "      <th>set_2_analysis_duration</th>\n",
       "      <th>overridden_analysis</th>\n",
       "      <th>nonoverridden_analysis</th>\n",
       "      <th>set_1_label</th>\n",
       "      <th>set_2_label</th>\n",
       "      <th>final_label</th>\n",
       "      <th>overridden_label</th>\n",
       "    </tr>\n",
       "  </thead>\n",
       "  <tbody>\n",
       "    <tr>\n",
       "      <th>0</th>\n",
       "      <td>163</td>\n",
       "      <td>163</td>\n",
       "      <td>37.120252</td>\n",
       "      <td>13.520786</td>\n",
       "      <td>jwagner@unistra.fr</td>\n",
       "      <td>bbarker1@umd.edu</td>\n",
       "      <td>Both</td>\n",
       "      <td>124.0</td>\n",
       "      <td>105.2</td>\n",
       "      <td>Both</td>\n",
       "      <td>None</td>\n",
       "      <td>Stable P</td>\n",
       "      <td>P gain</td>\n",
       "      <td>Stable NP</td>\n",
       "      <td>Both</td>\n",
       "    </tr>\n",
       "    <tr>\n",
       "      <th>1</th>\n",
       "      <td>252</td>\n",
       "      <td>252</td>\n",
       "      <td>39.154225</td>\n",
       "      <td>14.230454</td>\n",
       "      <td>hkerner@umd.edu</td>\n",
       "      <td>ckuei@terpmail.umd.edu</td>\n",
       "      <td>Both</td>\n",
       "      <td>43.7</td>\n",
       "      <td>949.7</td>\n",
       "      <td>Both</td>\n",
       "      <td>None</td>\n",
       "      <td>P gain</td>\n",
       "      <td>Stable P</td>\n",
       "      <td>Stable NP</td>\n",
       "      <td>Both</td>\n",
       "    </tr>\n",
       "    <tr>\n",
       "      <th>2</th>\n",
       "      <td>296</td>\n",
       "      <td>296</td>\n",
       "      <td>38.953575</td>\n",
       "      <td>14.075160</td>\n",
       "      <td>hkerner@umd.edu</td>\n",
       "      <td>engineer.arnoldmuhairwe@gmail.com</td>\n",
       "      <td>hkerner@umd.edu</td>\n",
       "      <td>172.2</td>\n",
       "      <td>187.8</td>\n",
       "      <td>172.2</td>\n",
       "      <td>187.8</td>\n",
       "      <td>Stable P</td>\n",
       "      <td>Stable NP</td>\n",
       "      <td>Stable NP</td>\n",
       "      <td>Stable P</td>\n",
       "    </tr>\n",
       "    <tr>\n",
       "      <th>3</th>\n",
       "      <td>299</td>\n",
       "      <td>299</td>\n",
       "      <td>39.335162</td>\n",
       "      <td>13.653124</td>\n",
       "      <td>hkerner@umd.edu</td>\n",
       "      <td>engineer.arnoldmuhairwe@gmail.com</td>\n",
       "      <td>hkerner@umd.edu</td>\n",
       "      <td>108.4</td>\n",
       "      <td>601.7</td>\n",
       "      <td>108.4</td>\n",
       "      <td>601.7</td>\n",
       "      <td>P gain</td>\n",
       "      <td>Stable NP</td>\n",
       "      <td>Stable NP</td>\n",
       "      <td>P gain</td>\n",
       "    </tr>\n",
       "    <tr>\n",
       "      <th>4</th>\n",
       "      <td>300</td>\n",
       "      <td>300</td>\n",
       "      <td>36.725350</td>\n",
       "      <td>13.779008</td>\n",
       "      <td>hkerner@umd.edu</td>\n",
       "      <td>engineer.arnoldmuhairwe@gmail.com</td>\n",
       "      <td>engineer.arnoldmuhairwe@gmail.com</td>\n",
       "      <td>49.6</td>\n",
       "      <td>584.5</td>\n",
       "      <td>584.5</td>\n",
       "      <td>49.6</td>\n",
       "      <td>Stable P</td>\n",
       "      <td>Stable NP</td>\n",
       "      <td>Stable P</td>\n",
       "      <td>Stable NP</td>\n",
       "    </tr>\n",
       "  </tbody>\n",
       "</table>\n",
       "</div>"
      ],
      "text/plain": [
       "   plotid  sampleid        lon        lat         set_1_email  \\\n",
       "0     163       163  37.120252  13.520786  jwagner@unistra.fr   \n",
       "1     252       252  39.154225  14.230454     hkerner@umd.edu   \n",
       "2     296       296  38.953575  14.075160     hkerner@umd.edu   \n",
       "3     299       299  39.335162  13.653124     hkerner@umd.edu   \n",
       "4     300       300  36.725350  13.779008     hkerner@umd.edu   \n",
       "\n",
       "                         set_2_email                   overridden_email  \\\n",
       "0                   bbarker1@umd.edu                               Both   \n",
       "1             ckuei@terpmail.umd.edu                               Both   \n",
       "2  engineer.arnoldmuhairwe@gmail.com                    hkerner@umd.edu   \n",
       "3  engineer.arnoldmuhairwe@gmail.com                    hkerner@umd.edu   \n",
       "4  engineer.arnoldmuhairwe@gmail.com  engineer.arnoldmuhairwe@gmail.com   \n",
       "\n",
       "   set_1_analysis_duration  set_2_analysis_duration overridden_analysis  \\\n",
       "0                    124.0                    105.2                Both   \n",
       "1                     43.7                    949.7                Both   \n",
       "2                    172.2                    187.8               172.2   \n",
       "3                    108.4                    601.7               108.4   \n",
       "4                     49.6                    584.5               584.5   \n",
       "\n",
       "  nonoverridden_analysis set_1_label set_2_label final_label overridden_label  \n",
       "0                   None    Stable P      P gain   Stable NP             Both  \n",
       "1                   None      P gain    Stable P   Stable NP             Both  \n",
       "2                  187.8    Stable P   Stable NP   Stable NP         Stable P  \n",
       "3                  601.7      P gain   Stable NP   Stable NP           P gain  \n",
       "4                   49.6    Stable P   Stable NP    Stable P        Stable NP  "
      ]
     },
     "execution_count": 13,
     "metadata": {},
     "output_type": "execute_result"
    }
   ],
   "source": [
    "# Create meta dataframe\n",
    "if area_change:\n",
    "    y1, y2 = input(\"Year 1 of observations : \"), input(\"Year 2 of observations : \")\n",
    "    meta_dataframe = create_meta_dataframe(path_fn, cdate, fdate, area_change, y1, y2)\n",
    "else:\n",
    "    meta_dataframe = create_meta_dataframe(path_fn, cdate, fdate)\n",
    "\n",
    "meta_dataframe.head()"
   ]
  },
  {
   "attachments": {},
   "cell_type": "markdown",
   "metadata": {},
   "source": [
    "#### 2. Meta Analysis"
   ]
  },
  {
   "cell_type": "markdown",
   "metadata": {},
   "source": [
    "**Questions:**\n",
    "* 1 Distribution of overridden points\n",
    "    * 1.1 What is the distribution of incorrect labels?\n",
    "    * 1.2 What is the distribution of mistaken labels?\n",
    "    * 1.3 What is the exact distribution of label-label changes? \n",
    "* 2 Distribution of labelers overridden\n",
    "    * 2.1 What is the frequency of labelers overridden?\n",
    "* 3 Analysis duration \n",
    "    * 3.1 What is the difference in analysis duration for labels overridden?\n",
    "    * 3.2 Which overridden labels have the highest analysis duration? "
   ]
  },
  {
   "cell_type": "code",
   "execution_count": 14,
   "metadata": {},
   "outputs": [],
   "source": [
    "from src.meta_utils import (\n",
    "    label_overrides, label_mistakes, label_transitions,\n",
    "    labeler_overrides, median_duration, highest_duration\n",
    ")"
   ]
  },
  {
   "cell_type": "markdown",
   "metadata": {},
   "source": [
    "**2.1.1** What is the distribution of incorrect labels?"
   ]
  },
  {
   "cell_type": "code",
   "execution_count": 15,
   "metadata": {},
   "outputs": [
    {
     "name": "stdout",
     "output_type": "stream",
     "text": [
      "    Incorrect Labels     \n",
      "-------------------------\n",
      "     P gain      :  9\n",
      "     P loss      :  5\n",
      "    Stable NP    : 11\n",
      "    Stable P     : 30\n"
     ]
    }
   ],
   "source": [
    "# Read table as: \"Number of times inital {label} incorrect\"\n",
    "label_overrides(meta_dataframe)"
   ]
  },
  {
   "attachments": {},
   "cell_type": "markdown",
   "metadata": {},
   "source": [
    "**2.1.2** What is the distribution of mistaken labels?"
   ]
  },
  {
   "cell_type": "code",
   "execution_count": 16,
   "metadata": {},
   "outputs": [
    {
     "name": "stdout",
     "output_type": "stream",
     "text": [
      "     Mistaken Labels     \n",
      "-------------------------\n",
      "     P gain      :  4\n",
      "     P loss      :  4\n",
      "    Stable NP    : 33\n",
      "    Stable P     :  8\n"
     ]
    }
   ],
   "source": [
    "# Read table as: \"Number of times final {label} mistaken for something else\"\n",
    "label_mistakes(meta_dataframe)"
   ]
  },
  {
   "attachments": {},
   "cell_type": "markdown",
   "metadata": {},
   "source": [
    "**2.1.3** What is the exact distribution of label-label changes? "
   ]
  },
  {
   "cell_type": "code",
   "execution_count": 17,
   "metadata": {},
   "outputs": [
    {
     "name": "stdout",
     "output_type": "stream",
     "text": [
      "          Label-Label Transitions          \n",
      "------------------------------------------\n",
      "    P gain      ->    Stable NP    :  7 \n",
      "    P gain      ->    Stable P     :  2 \n",
      "    P loss      ->    Stable NP    :  4 \n",
      "    P loss      ->    Stable P     :  1 \n",
      "   Stable NP    ->     P gain      :  4 \n",
      "   Stable NP    ->     P loss      :  2 \n",
      "   Stable NP    ->    Stable P     :  5 \n",
      "   Stable P     ->     P gain      :  3 \n",
      "   Stable P     ->     P loss      :  3 \n",
      "   Stable P     ->    Stable NP    : 24 \n"
     ]
    }
   ],
   "source": [
    "# Read table as: \"Number of times initially labeled as {left label} by one or both sets, and final agreement was {right label}\"\n",
    "label_transitions(meta_dataframe)"
   ]
  },
  {
   "cell_type": "markdown",
   "metadata": {},
   "source": [
    "**2.2.1** What is the frequency of labelers overridden?"
   ]
  },
  {
   "cell_type": "code",
   "execution_count": 18,
   "metadata": {},
   "outputs": [
    {
     "name": "stdout",
     "output_type": "stream",
     "text": [
      "      Frequency of Labeler Overridden      \n",
      "------------------------------------------\n",
      " logdaye@gmail.com                  :  19\n",
      " engineer.arnoldmuhairwe@gmail.com  :   9\n",
      " Both                               :   6\n",
      " ckuei@terpmail.umd.edu             :   5\n",
      " hkerner@umd.edu                    :   4\n",
      " jwagner@unistra.fr                 :   3\n",
      " cnakalem@umd.edu                   :   2\n",
      " taryndev@umd.edu                   :   1\n"
     ]
    }
   ],
   "source": [
    "labeler_overrides(meta_dataframe)"
   ]
  },
  {
   "cell_type": "markdown",
   "metadata": {},
   "source": [
    "**2.3.1** What is the difference in analysis duration for labels overridden?"
   ]
  },
  {
   "cell_type": "code",
   "execution_count": 19,
   "metadata": {},
   "outputs": [
    {
     "name": "stdout",
     "output_type": "stream",
     "text": [
      "      Median Analysis Duration       \n",
      "-----------------------------------\n",
      "Overridden Points     : 131.30 secs \n",
      "Non-Overridden Points : 159.10 secs\n"
     ]
    }
   ],
   "source": [
    "# Read table as: \"Median time analysis among disagreed points\"\n",
    "median_duration(meta_dataframe)"
   ]
  },
  {
   "attachments": {},
   "cell_type": "markdown",
   "metadata": {},
   "source": [
    "**2.3.2** Which overridden labels have the highest analysis duration?\n",
    "\n",
    "Overridden points with short analysis time are most likely obvious mistakes; whereas points overridden with logner analysis duration are more likely indicative of an ambigious point"
   ]
  },
  {
   "cell_type": "code",
   "execution_count": 20,
   "metadata": {},
   "outputs": [
    {
     "name": "stdout",
     "output_type": "stream",
     "text": [
      "             Highest Analysis Durations              \n",
      "----------------------------------------------------\n",
      "0.85 Quantile of Analysis Durations : 592.24 secs \n",
      "Analysis Time Greater than 0.85 Quantile : 15 points\n",
      "\n",
      "               Label-Label Transitions               \n",
      "----------------------------------------------------\n",
      "         P gain           ->    Stable NP    :  4 \n",
      "         P gain           ->    Stable P     :  1 \n",
      "        Stable NP         ->     P gain      :  1 \n",
      "        Stable NP         ->    Stable P     :  2 \n",
      "        Stable P          ->     P gain      :  1 \n",
      "        Stable P          ->     P loss      :  2 \n",
      "        Stable P          ->    Stable NP    :  6 \n"
     ]
    }
   ],
   "source": [
    "# Read table as: \"Among q-th quantile of analysis times for disagreed points\"\n",
    "# Note: transition tabel follows same logic as above, where 'count' denotes occurence of \n",
    "#       {left label} by either one or both sets. hence, total count may exceed no. points!\n",
    "highest_duration(meta_dataframe, 0.85)"
   ]
  }
 ],
 "metadata": {
  "kernelspec": {
   "display_name": "landcover-mapping",
   "language": "python",
   "name": "python3"
  },
  "language_info": {
   "codemirror_mode": {
    "name": "ipython",
    "version": 3
   },
   "file_extension": ".py",
   "mimetype": "text/x-python",
   "name": "python",
   "nbconvert_exporter": "python",
   "pygments_lexer": "ipython3",
   "version": "3.7.12"
  },
  "orig_nbformat": 4,
  "vscode": {
   "interpreter": {
    "hash": "d41fa3fa35337bdf4963486ed5f37f07a5fdef19d251c638467c604fd9e6056a"
   }
  }
 },
 "nbformat": 4,
 "nbformat_minor": 2
}
