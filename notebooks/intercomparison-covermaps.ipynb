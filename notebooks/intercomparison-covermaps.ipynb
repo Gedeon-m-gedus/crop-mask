{
 "cells": [
  {
   "cell_type": "markdown",
   "metadata": {},
   "source": [
    "# Covermap Comparison\n",
    "\n",
    "**Author:** Adam Yang (ayang115@umd.edu)\n",
    "\n",
    "**Description:** Compares datasets against test sets\n",
    "\n",
    "**Crop Maps Used:** "
   ]
  },
  {
   "cell_type": "code",
   "execution_count": 290,
   "metadata": {},
   "outputs": [],
   "source": [
    "import pandas as pd\n",
    "import numpy as np\n",
    "import geopandas as gdp\n",
    "import os\n",
    "import geemap\n",
    "from sklearn.metrics import classification_report "
   ]
  },
  {
   "cell_type": "code",
   "execution_count": 291,
   "metadata": {},
   "outputs": [
    {
     "data": {
      "text/html": [
       "<p>To authorize access needed by Earth Engine, open the following\n",
       "        URL in a web browser and follow the instructions:</p>\n",
       "        <p><a href=https://code.earthengine.google.com/client-auth?scopes=https%3A//www.googleapis.com/auth/earthengine%20https%3A//www.googleapis.com/auth/devstorage.full_control&request_id=fWPIXrnykQbGi_g5XUHHWpvpNdj3o5SFDFncsGwTn0Y&tc=5VPKwwnAQcPoEVUGR0LLj_r_w1shtQPe03kE-MOeHxI&cc=Fn75KpPmJkWtFRmiLkCNAxAIZcqbdmFzPTKQKn_YsWE>https://code.earthengine.google.com/client-auth?scopes=https%3A//www.googleapis.com/auth/earthengine%20https%3A//www.googleapis.com/auth/devstorage.full_control&request_id=fWPIXrnykQbGi_g5XUHHWpvpNdj3o5SFDFncsGwTn0Y&tc=5VPKwwnAQcPoEVUGR0LLj_r_w1shtQPe03kE-MOeHxI&cc=Fn75KpPmJkWtFRmiLkCNAxAIZcqbdmFzPTKQKn_YsWE</a></p>\n",
       "        <p>The authorization workflow will generate a code, which you should paste in the box below.</p>\n",
       "        "
      ],
      "text/plain": [
       "<IPython.core.display.HTML object>"
      ]
     },
     "metadata": {},
     "output_type": "display_data"
    },
    {
     "name": "stdout",
     "output_type": "stream",
     "text": [
      "\n",
      "Successfully saved authorization token.\n"
     ]
    }
   ],
   "source": [
    "import ee\n",
    "\n",
    "ee.Authenticate()\n",
    "\n",
    "ee.Initialize()"
   ]
  },
  {
   "cell_type": "markdown",
   "metadata": {},
   "source": [
    "## **Section 0** - Setup"
   ]
  },
  {
   "cell_type": "markdown",
   "metadata": {},
   "source": [
    "**Functions**"
   ]
  },
  {
   "cell_type": "code",
   "execution_count": 292,
   "metadata": {},
   "outputs": [],
   "source": [
    "# Remaps classes to crop/noncrop \n",
    "def map_values(val, value_for_crop):\n",
    "    if val == value_for_crop:\n",
    "        return 1\n",
    "    else:\n",
    "        return 0"
   ]
  },
  {
   "cell_type": "code",
   "execution_count": 293,
   "metadata": {},
   "outputs": [],
   "source": [
    "# Function used in map function to extract from feature collection\n",
    "def rasterExtraction(image, resolution, f_collection):\n",
    "    feature = image.sampleRegions(\n",
    "        collection = f_collection,\n",
    "        scale = resolution\n",
    "    )\n",
    "    return feature"
   ]
  },
  {
   "cell_type": "code",
   "execution_count": 294,
   "metadata": {},
   "outputs": [],
   "source": [
    "# Creates ee.Feature from longitude and latitude coordinates from a dataframe\n",
    "def create_point(row):\n",
    "    geom = ee.Geometry.Point(row[\"lon\"], row[\"lat\"])\n",
    "    prop = dict(row)\n",
    "\n",
    "    return ee.Feature(geom, prop)"
   ]
  },
  {
   "cell_type": "code",
   "execution_count": 295,
   "metadata": {},
   "outputs": [],
   "source": [
    "def report_to_row(dataset, report, df):\n",
    "    new_report = pd.DataFrame(data = {\"dataset\": dataset, \"accuracy\": report[\"accuracy\"], \"crop_f1\": report[\"1\"][\"f1-score\"], \n",
    "    \"crop_support\": report[\"1\"][\"support\"], \"noncrop_support\": report[\"0\"][\"support\"], \n",
    "    \"crop_precision\": report[\"1\"][\"precision\"], \"crop_recall\": report[\"1\"][\"recall\"], \n",
    "    \"noncrop_precision\": report[\"0\"][\"precision\"], \"noncrop_recall\": report[\"0\"][\"recall\"]}, index=[0])\n",
    "    \n",
    "    return pd.concat([df, new_report])"
   ]
  },
  {
   "cell_type": "markdown",
   "metadata": {},
   "source": [
    "**Retrieve Test Data**"
   ]
  },
  {
   "cell_type": "code",
   "execution_count": 296,
   "metadata": {},
   "outputs": [],
   "source": [
    "test_files = [\"Togo.csv\", \"Kenya.csv\"]\n",
    "dir = \"../data/datasets/\""
   ]
  },
  {
   "cell_type": "code",
   "execution_count": 297,
   "metadata": {},
   "outputs": [],
   "source": [
    "test_data = pd.DataFrame(columns=[\"lat\", \"lon\", \"test_class\", \"ee_pts\", \"country\"])\n",
    "\n",
    "test_set = []\n",
    "for file in test_files:\n",
    "    # Set dict key name\n",
    "    key = file.split('.')[0]\n",
    "\n",
    "    # Read in data and extract test values and points \n",
    "    df = pd.read_csv((dir+file))\n",
    "    df = df.loc[df[\"subset\"] == \"testing\"]\n",
    "    df = df[[\"lat\", \"lon\", \"class_probability\"]]\n",
    "\n",
    "    # Create earth engine geometry points\n",
    "    df[\"ee_pts\"] = df.apply(create_point, axis=1)\n",
    "\n",
    "    # Recast points as 1 or 0 (threshold = 0.5)\n",
    "    df[\"test_class\"] = df[\"class_probability\"].apply(lambda x: 1 if x>=0.5 else 0)\n",
    "\n",
    "    df[\"country\"] = key\n",
    "\n",
    "    test_set.append(df)\n",
    "\n",
    "test_data = pd.concat(test_set)"
   ]
  },
  {
   "cell_type": "code",
   "execution_count": 298,
   "metadata": {},
   "outputs": [
    {
     "name": "stdout",
     "output_type": "stream",
     "text": [
      "<class 'pandas.core.frame.DataFrame'>\n",
      "Int64Index: 1184 entries, 1276 to 8657\n",
      "Data columns (total 6 columns):\n",
      " #   Column             Non-Null Count  Dtype  \n",
      "---  ------             --------------  -----  \n",
      " 0   lat                1184 non-null   float64\n",
      " 1   lon                1184 non-null   float64\n",
      " 2   class_probability  1184 non-null   float64\n",
      " 3   ee_pts             1184 non-null   object \n",
      " 4   test_class         1184 non-null   int64  \n",
      " 5   country            1184 non-null   object \n",
      "dtypes: float64(3), int64(1), object(2)\n",
      "memory usage: 64.8+ KB\n"
     ]
    }
   ],
   "source": [
    "test_data.info()"
   ]
  },
  {
   "cell_type": "code",
   "execution_count": 299,
   "metadata": {},
   "outputs": [],
   "source": [
    "# Create earth engine points for section 2\n",
    "test_coll = ee.FeatureCollection(test_data[\"ee_pts\"].tolist())"
   ]
  },
  {
   "cell_type": "markdown",
   "metadata": {},
   "source": [
    "**Create dataframe for results**"
   ]
  },
  {
   "cell_type": "code",
   "execution_count": 300,
   "metadata": {},
   "outputs": [],
   "source": [
    "results = pd.DataFrame(columns=[\"dataset\", \"accuracy\", \"crop_f1\", \"crop_support\", \"noncrop_support\", \n",
    " \"crop_precision\", \"crop_recall\", \"noncrop_precision\", \"noncrop_recall\"])"
   ]
  },
  {
   "cell_type": "markdown",
   "metadata": {},
   "source": [
    "## **Section 1** - Harvest Data"
   ]
  },
  {
   "cell_type": "code",
   "execution_count": 301,
   "metadata": {},
   "outputs": [],
   "source": [
    "import rasterio as rio"
   ]
  },
  {
   "cell_type": "markdown",
   "metadata": {},
   "source": [
    "**Harvest Togo** ([Zenodo](https://zenodo.org/record/3836629#.Y1_WxnbMJPZ))"
   ]
  },
  {
   "cell_type": "code",
   "execution_count": 302,
   "metadata": {},
   "outputs": [],
   "source": [
    "harvest_togo = rio.open(\"../../harvest-maps/togo_cropland_v9_08032020_binary.tif\")"
   ]
  },
  {
   "cell_type": "code",
   "execution_count": 303,
   "metadata": {},
   "outputs": [],
   "source": [
    "harvest_togo_sampled = test_data[[\"lat\", \"lon\", \"test_class\"]].loc[test_data[\"country\"]==\"Togo\"]\n",
    "harvest_togo_sampled[\"harvest_class\"] = list(rio.sample.sample_gen(harvest_togo, zip(harvest_togo_sampled[\"lon\"], harvest_togo_sampled[\"lat\"])))"
   ]
  },
  {
   "cell_type": "code",
   "execution_count": 304,
   "metadata": {},
   "outputs": [
    {
     "name": "stdout",
     "output_type": "stream",
     "text": [
      "<class 'pandas.core.frame.DataFrame'>\n",
      "Int64Index: 355 entries, 1276 to 1630\n",
      "Data columns (total 4 columns):\n",
      " #   Column         Non-Null Count  Dtype  \n",
      "---  ------         --------------  -----  \n",
      " 0   lat            355 non-null    float64\n",
      " 1   lon            355 non-null    float64\n",
      " 2   test_class     355 non-null    int64  \n",
      " 3   harvest_class  355 non-null    object \n",
      "dtypes: float64(2), int64(1), object(1)\n",
      "memory usage: 13.9+ KB\n"
     ]
    }
   ],
   "source": [
    "harvest_togo_sampled = harvest_togo_sampled[harvest_togo_sampled[\"harvest_class\"]!=255]\n",
    "harvest_togo_sampled.info()"
   ]
  },
  {
   "cell_type": "code",
   "execution_count": 305,
   "metadata": {},
   "outputs": [],
   "source": [
    "harvest_togo_sampled[\"harvest_class\"] = harvest_togo_sampled[\"harvest_class\"].apply(lambda x: x[0]) "
   ]
  },
  {
   "cell_type": "code",
   "execution_count": 306,
   "metadata": {},
   "outputs": [],
   "source": [
    "harvest_togo_report = classification_report(harvest_togo_sampled[\"test_class\"], harvest_togo_sampled[\"harvest_class\"], output_dict=True)\n",
    "\n",
    "results = report_to_row(\"harvest_togo\", harvest_togo_report, results)"
   ]
  },
  {
   "cell_type": "markdown",
   "metadata": {},
   "source": [
    "**Harvest-Kenya** ([Zenodo](https://zenodo.org/record/4271144#.Y18ucXbMJPa))"
   ]
  },
  {
   "cell_type": "code",
   "execution_count": 307,
   "metadata": {},
   "outputs": [],
   "source": [
    "harvest_kenya = rio.open(\"../../harvest-maps/kenya_cropland_binary_2019.tif\")"
   ]
  },
  {
   "cell_type": "code",
   "execution_count": 308,
   "metadata": {},
   "outputs": [],
   "source": [
    "harvest_kenya_sampled = test_data[[\"lat\", \"lon\", \"test_class\"]].loc[test_data[\"country\"]==\"Kenya\"]\n",
    "harvest_kenya_sampled[\"harvest_class\"] = list(rio.sample.sample_gen(harvest_kenya, zip(harvest_kenya_sampled[\"lon\"], harvest_kenya_sampled[\"lat\"])))"
   ]
  },
  {
   "cell_type": "code",
   "execution_count": 309,
   "metadata": {},
   "outputs": [
    {
     "name": "stdout",
     "output_type": "stream",
     "text": [
      "<class 'pandas.core.frame.DataFrame'>\n",
      "Int64Index: 698 entries, 4 to 8632\n",
      "Data columns (total 4 columns):\n",
      " #   Column         Non-Null Count  Dtype  \n",
      "---  ------         --------------  -----  \n",
      " 0   lat            698 non-null    float64\n",
      " 1   lon            698 non-null    float64\n",
      " 2   test_class     698 non-null    int64  \n",
      " 3   harvest_class  698 non-null    object \n",
      "dtypes: float64(2), int64(1), object(1)\n",
      "memory usage: 27.3+ KB\n"
     ]
    }
   ],
   "source": [
    "harvest_kenya_sampled = harvest_kenya_sampled[harvest_kenya_sampled[\"harvest_class\"]!=255]\n",
    "harvest_kenya_sampled.info()"
   ]
  },
  {
   "cell_type": "code",
   "execution_count": 310,
   "metadata": {},
   "outputs": [],
   "source": [
    "# Extract int value from list\n",
    "harvest_kenya_sampled[\"harvest_class\"] = harvest_kenya_sampled[\"harvest_class\"].apply(lambda x: x[0]) "
   ]
  },
  {
   "cell_type": "code",
   "execution_count": 311,
   "metadata": {},
   "outputs": [],
   "source": [
    "harvest_kenya_report = classification_report(harvest_kenya_sampled[\"test_class\"], harvest_kenya_sampled[\"harvest_class\"], output_dict=True)\n",
    "\n",
    "results = report_to_row(\"harvest_kenya\", harvest_kenya_report, results)"
   ]
  },
  {
   "cell_type": "markdown",
   "metadata": {},
   "source": [
    "## **Section 2** - Earth Engine Accessible"
   ]
  },
  {
   "cell_type": "markdown",
   "metadata": {},
   "source": [
    "**Copernicus Land Cover** ([Earth Engine](https://developers.google.com/earth-engine/datasets/catalog/COPERNICUS_Landcover_100m_Proba-V-C3_Global#description))"
   ]
  },
  {
   "cell_type": "code",
   "execution_count": 312,
   "metadata": {},
   "outputs": [],
   "source": [
    "# Load copernicus data\n",
    "copernicus = ee.ImageCollection(\"COPERNICUS/Landcover/100m/Proba-V-C3/Global\")\n",
    "cop_results = copernicus.select(\"discrete_classification\").filterDate(\"2019-01-01\", \"2020-01-01\").map(lambda x: rasterExtraction(x, 100, test_coll)).flatten()"
   ]
  },
  {
   "cell_type": "code",
   "execution_count": 313,
   "metadata": {},
   "outputs": [
    {
     "data": {
      "text/html": [
       "<div>\n",
       "<style scoped>\n",
       "    .dataframe tbody tr th:only-of-type {\n",
       "        vertical-align: middle;\n",
       "    }\n",
       "\n",
       "    .dataframe tbody tr th {\n",
       "        vertical-align: top;\n",
       "    }\n",
       "\n",
       "    .dataframe thead th {\n",
       "        text-align: right;\n",
       "    }\n",
       "</style>\n",
       "<table border=\"1\" class=\"dataframe\">\n",
       "  <thead>\n",
       "    <tr style=\"text-align: right;\">\n",
       "      <th></th>\n",
       "      <th>geometry</th>\n",
       "      <th>class_probability</th>\n",
       "      <th>discrete_classification</th>\n",
       "      <th>lat</th>\n",
       "      <th>lon</th>\n",
       "      <th>cop_class</th>\n",
       "    </tr>\n",
       "  </thead>\n",
       "  <tbody>\n",
       "    <tr>\n",
       "      <th>0</th>\n",
       "      <td>None</td>\n",
       "      <td>0.00</td>\n",
       "      <td>20</td>\n",
       "      <td>9.875907</td>\n",
       "      <td>1.172471</td>\n",
       "      <td>0</td>\n",
       "    </tr>\n",
       "    <tr>\n",
       "      <th>1</th>\n",
       "      <td>None</td>\n",
       "      <td>0.25</td>\n",
       "      <td>124</td>\n",
       "      <td>9.180105</td>\n",
       "      <td>1.374695</td>\n",
       "      <td>0</td>\n",
       "    </tr>\n",
       "    <tr>\n",
       "      <th>2</th>\n",
       "      <td>None</td>\n",
       "      <td>0.00</td>\n",
       "      <td>116</td>\n",
       "      <td>9.275314</td>\n",
       "      <td>1.196385</td>\n",
       "      <td>0</td>\n",
       "    </tr>\n",
       "    <tr>\n",
       "      <th>3</th>\n",
       "      <td>None</td>\n",
       "      <td>0.00</td>\n",
       "      <td>114</td>\n",
       "      <td>7.346575</td>\n",
       "      <td>0.705167</td>\n",
       "      <td>0</td>\n",
       "    </tr>\n",
       "    <tr>\n",
       "      <th>4</th>\n",
       "      <td>None</td>\n",
       "      <td>0.25</td>\n",
       "      <td>112</td>\n",
       "      <td>6.777337</td>\n",
       "      <td>0.629817</td>\n",
       "      <td>0</td>\n",
       "    </tr>\n",
       "  </tbody>\n",
       "</table>\n",
       "</div>"
      ],
      "text/plain": [
       "  geometry  class_probability  discrete_classification       lat       lon  \\\n",
       "0     None               0.00                       20  9.875907  1.172471   \n",
       "1     None               0.25                      124  9.180105  1.374695   \n",
       "2     None               0.00                      116  9.275314  1.196385   \n",
       "3     None               0.00                      114  7.346575  0.705167   \n",
       "4     None               0.25                      112  6.777337  0.629817   \n",
       "\n",
       "   cop_class  \n",
       "0          0  \n",
       "1          0  \n",
       "2          0  \n",
       "3          0  \n",
       "4          0  "
      ]
     },
     "execution_count": 313,
     "metadata": {},
     "output_type": "execute_result"
    }
   ],
   "source": [
    "cop_sampled = geemap.ee_to_gdf(cop_results)\n",
    "cop_sampled[\"cop_class\"] = cop_sampled[\"discrete_classification\"].apply(lambda x: map_values(x, 40))\n",
    "cop_sampled.head()"
   ]
  },
  {
   "cell_type": "code",
   "execution_count": 314,
   "metadata": {},
   "outputs": [
    {
     "data": {
      "text/html": [
       "<div>\n",
       "<style scoped>\n",
       "    .dataframe tbody tr th:only-of-type {\n",
       "        vertical-align: middle;\n",
       "    }\n",
       "\n",
       "    .dataframe tbody tr th {\n",
       "        vertical-align: top;\n",
       "    }\n",
       "\n",
       "    .dataframe thead th {\n",
       "        text-align: right;\n",
       "    }\n",
       "</style>\n",
       "<table border=\"1\" class=\"dataframe\">\n",
       "  <thead>\n",
       "    <tr style=\"text-align: right;\">\n",
       "      <th></th>\n",
       "      <th>lat</th>\n",
       "      <th>lon</th>\n",
       "      <th>test_class</th>\n",
       "      <th>country</th>\n",
       "      <th>geometry</th>\n",
       "      <th>class_probability</th>\n",
       "      <th>discrete_classification</th>\n",
       "      <th>cop_class</th>\n",
       "    </tr>\n",
       "  </thead>\n",
       "  <tbody>\n",
       "    <tr>\n",
       "      <th>0</th>\n",
       "      <td>9.875907</td>\n",
       "      <td>1.172471</td>\n",
       "      <td>0</td>\n",
       "      <td>Togo</td>\n",
       "      <td>None</td>\n",
       "      <td>0.00</td>\n",
       "      <td>20</td>\n",
       "      <td>0</td>\n",
       "    </tr>\n",
       "    <tr>\n",
       "      <th>1</th>\n",
       "      <td>9.180105</td>\n",
       "      <td>1.374695</td>\n",
       "      <td>0</td>\n",
       "      <td>Togo</td>\n",
       "      <td>None</td>\n",
       "      <td>0.25</td>\n",
       "      <td>124</td>\n",
       "      <td>0</td>\n",
       "    </tr>\n",
       "    <tr>\n",
       "      <th>2</th>\n",
       "      <td>9.275314</td>\n",
       "      <td>1.196385</td>\n",
       "      <td>0</td>\n",
       "      <td>Togo</td>\n",
       "      <td>None</td>\n",
       "      <td>0.00</td>\n",
       "      <td>116</td>\n",
       "      <td>0</td>\n",
       "    </tr>\n",
       "    <tr>\n",
       "      <th>3</th>\n",
       "      <td>7.346575</td>\n",
       "      <td>0.705167</td>\n",
       "      <td>0</td>\n",
       "      <td>Togo</td>\n",
       "      <td>None</td>\n",
       "      <td>0.00</td>\n",
       "      <td>114</td>\n",
       "      <td>0</td>\n",
       "    </tr>\n",
       "    <tr>\n",
       "      <th>4</th>\n",
       "      <td>6.777337</td>\n",
       "      <td>0.629817</td>\n",
       "      <td>0</td>\n",
       "      <td>Togo</td>\n",
       "      <td>None</td>\n",
       "      <td>0.25</td>\n",
       "      <td>112</td>\n",
       "      <td>0</td>\n",
       "    </tr>\n",
       "  </tbody>\n",
       "</table>\n",
       "</div>"
      ],
      "text/plain": [
       "        lat       lon  test_class country geometry  class_probability  \\\n",
       "0  9.875907  1.172471           0    Togo     None               0.00   \n",
       "1  9.180105  1.374695           0    Togo     None               0.25   \n",
       "2  9.275314  1.196385           0    Togo     None               0.00   \n",
       "3  7.346575  0.705167           0    Togo     None               0.00   \n",
       "4  6.777337  0.629817           0    Togo     None               0.25   \n",
       "\n",
       "   discrete_classification  cop_class  \n",
       "0                       20          0  \n",
       "1                      124          0  \n",
       "2                      116          0  \n",
       "3                      114          0  \n",
       "4                      112          0  "
      ]
     },
     "execution_count": 314,
     "metadata": {},
     "output_type": "execute_result"
    }
   ],
   "source": [
    "cop_sampled = pd.merge(test_data[[\"lat\",\"lon\",\"test_class\", \"country\"]], cop_sampled, on=[\"lat\", \"lon\"])\n",
    "cop_sampled.head()"
   ]
  },
  {
   "cell_type": "code",
   "execution_count": 315,
   "metadata": {},
   "outputs": [],
   "source": [
    "for country, df in cop_sampled.groupby(\"country\"):\n",
    "    report = classification_report(df[\"test_class\"], df[\"cop_class\"], output_dict=True)\n",
    "    results = report_to_row(str(\"Copernicus_\"+country), report, results)\n"
   ]
  },
  {
   "cell_type": "markdown",
   "metadata": {},
   "source": [
    "**ESA World Cover** ([Earth Engine](https://developers.google.com/earth-engine/datasets/catalog/ESA_WorldCover_v100)) "
   ]
  },
  {
   "cell_type": "code",
   "execution_count": 316,
   "metadata": {},
   "outputs": [],
   "source": [
    "esa = ee.ImageCollection(\"ESA/WorldCover/v100\")\n",
    "esa_results = esa.filterBounds(test_coll).map(lambda x: rasterExtraction(x, 10, test_coll)).flatten()"
   ]
  },
  {
   "cell_type": "code",
   "execution_count": 317,
   "metadata": {},
   "outputs": [
    {
     "data": {
      "text/html": [
       "<div>\n",
       "<style scoped>\n",
       "    .dataframe tbody tr th:only-of-type {\n",
       "        vertical-align: middle;\n",
       "    }\n",
       "\n",
       "    .dataframe tbody tr th {\n",
       "        vertical-align: top;\n",
       "    }\n",
       "\n",
       "    .dataframe thead th {\n",
       "        text-align: right;\n",
       "    }\n",
       "</style>\n",
       "<table border=\"1\" class=\"dataframe\">\n",
       "  <thead>\n",
       "    <tr style=\"text-align: right;\">\n",
       "      <th></th>\n",
       "      <th>geometry</th>\n",
       "      <th>Map</th>\n",
       "      <th>class_probability</th>\n",
       "      <th>lat</th>\n",
       "      <th>lon</th>\n",
       "      <th>esa_class</th>\n",
       "    </tr>\n",
       "  </thead>\n",
       "  <tbody>\n",
       "    <tr>\n",
       "      <th>0</th>\n",
       "      <td>None</td>\n",
       "      <td>20</td>\n",
       "      <td>0.00</td>\n",
       "      <td>9.875907</td>\n",
       "      <td>1.172471</td>\n",
       "      <td>0</td>\n",
       "    </tr>\n",
       "    <tr>\n",
       "      <th>1</th>\n",
       "      <td>None</td>\n",
       "      <td>20</td>\n",
       "      <td>0.25</td>\n",
       "      <td>9.180105</td>\n",
       "      <td>1.374695</td>\n",
       "      <td>0</td>\n",
       "    </tr>\n",
       "    <tr>\n",
       "      <th>2</th>\n",
       "      <td>None</td>\n",
       "      <td>10</td>\n",
       "      <td>0.00</td>\n",
       "      <td>9.275314</td>\n",
       "      <td>1.196385</td>\n",
       "      <td>0</td>\n",
       "    </tr>\n",
       "    <tr>\n",
       "      <th>3</th>\n",
       "      <td>None</td>\n",
       "      <td>10</td>\n",
       "      <td>0.00</td>\n",
       "      <td>7.346575</td>\n",
       "      <td>0.705167</td>\n",
       "      <td>0</td>\n",
       "    </tr>\n",
       "    <tr>\n",
       "      <th>4</th>\n",
       "      <td>None</td>\n",
       "      <td>10</td>\n",
       "      <td>0.25</td>\n",
       "      <td>6.777337</td>\n",
       "      <td>0.629817</td>\n",
       "      <td>0</td>\n",
       "    </tr>\n",
       "  </tbody>\n",
       "</table>\n",
       "</div>"
      ],
      "text/plain": [
       "  geometry  Map  class_probability       lat       lon  esa_class\n",
       "0     None   20               0.00  9.875907  1.172471          0\n",
       "1     None   20               0.25  9.180105  1.374695          0\n",
       "2     None   10               0.00  9.275314  1.196385          0\n",
       "3     None   10               0.00  7.346575  0.705167          0\n",
       "4     None   10               0.25  6.777337  0.629817          0"
      ]
     },
     "execution_count": 317,
     "metadata": {},
     "output_type": "execute_result"
    }
   ],
   "source": [
    "esa_sampled = geemap.ee_to_gdf(esa_results)\n",
    "esa_sampled[\"esa_class\"] = esa_sampled[\"Map\"].apply(lambda x: map_values(x, 40))\n",
    "esa_sampled.head()"
   ]
  },
  {
   "cell_type": "code",
   "execution_count": 318,
   "metadata": {},
   "outputs": [
    {
     "data": {
      "text/html": [
       "<div>\n",
       "<style scoped>\n",
       "    .dataframe tbody tr th:only-of-type {\n",
       "        vertical-align: middle;\n",
       "    }\n",
       "\n",
       "    .dataframe tbody tr th {\n",
       "        vertical-align: top;\n",
       "    }\n",
       "\n",
       "    .dataframe thead th {\n",
       "        text-align: right;\n",
       "    }\n",
       "</style>\n",
       "<table border=\"1\" class=\"dataframe\">\n",
       "  <thead>\n",
       "    <tr style=\"text-align: right;\">\n",
       "      <th></th>\n",
       "      <th>lat</th>\n",
       "      <th>lon</th>\n",
       "      <th>test_class</th>\n",
       "      <th>country</th>\n",
       "      <th>geometry</th>\n",
       "      <th>Map</th>\n",
       "      <th>class_probability</th>\n",
       "      <th>esa_class</th>\n",
       "    </tr>\n",
       "  </thead>\n",
       "  <tbody>\n",
       "    <tr>\n",
       "      <th>0</th>\n",
       "      <td>9.875907</td>\n",
       "      <td>1.172471</td>\n",
       "      <td>0</td>\n",
       "      <td>Togo</td>\n",
       "      <td>None</td>\n",
       "      <td>20</td>\n",
       "      <td>0.00</td>\n",
       "      <td>0</td>\n",
       "    </tr>\n",
       "    <tr>\n",
       "      <th>1</th>\n",
       "      <td>9.180105</td>\n",
       "      <td>1.374695</td>\n",
       "      <td>0</td>\n",
       "      <td>Togo</td>\n",
       "      <td>None</td>\n",
       "      <td>20</td>\n",
       "      <td>0.25</td>\n",
       "      <td>0</td>\n",
       "    </tr>\n",
       "    <tr>\n",
       "      <th>2</th>\n",
       "      <td>9.275314</td>\n",
       "      <td>1.196385</td>\n",
       "      <td>0</td>\n",
       "      <td>Togo</td>\n",
       "      <td>None</td>\n",
       "      <td>10</td>\n",
       "      <td>0.00</td>\n",
       "      <td>0</td>\n",
       "    </tr>\n",
       "    <tr>\n",
       "      <th>3</th>\n",
       "      <td>7.346575</td>\n",
       "      <td>0.705167</td>\n",
       "      <td>0</td>\n",
       "      <td>Togo</td>\n",
       "      <td>None</td>\n",
       "      <td>10</td>\n",
       "      <td>0.00</td>\n",
       "      <td>0</td>\n",
       "    </tr>\n",
       "    <tr>\n",
       "      <th>4</th>\n",
       "      <td>6.777337</td>\n",
       "      <td>0.629817</td>\n",
       "      <td>0</td>\n",
       "      <td>Togo</td>\n",
       "      <td>None</td>\n",
       "      <td>10</td>\n",
       "      <td>0.25</td>\n",
       "      <td>0</td>\n",
       "    </tr>\n",
       "  </tbody>\n",
       "</table>\n",
       "</div>"
      ],
      "text/plain": [
       "        lat       lon  test_class country geometry  Map  class_probability  \\\n",
       "0  9.875907  1.172471           0    Togo     None   20               0.00   \n",
       "1  9.180105  1.374695           0    Togo     None   20               0.25   \n",
       "2  9.275314  1.196385           0    Togo     None   10               0.00   \n",
       "3  7.346575  0.705167           0    Togo     None   10               0.00   \n",
       "4  6.777337  0.629817           0    Togo     None   10               0.25   \n",
       "\n",
       "   esa_class  \n",
       "0          0  \n",
       "1          0  \n",
       "2          0  \n",
       "3          0  \n",
       "4          0  "
      ]
     },
     "execution_count": 318,
     "metadata": {},
     "output_type": "execute_result"
    }
   ],
   "source": [
    "esa_sampled = pd.merge(test_data[[\"lat\",\"lon\",\"test_class\", \"country\"]], esa_sampled, on=[\"lat\", \"lon\"])\n",
    "esa_sampled.head()"
   ]
  },
  {
   "cell_type": "code",
   "execution_count": 319,
   "metadata": {},
   "outputs": [],
   "source": [
    "for country, df in esa_sampled.groupby(\"country\"):\n",
    "    report = classification_report(df[\"test_class\"], df[\"esa_class\"], output_dict=True)\n",
    "    results = report_to_row(str(\"ESA_\"+country), report, results)"
   ]
  },
  {
   "cell_type": "markdown",
   "metadata": {},
   "source": [
    "**GLAD Global** ([Earth Engine](https://glad.earthengine.app/view/global-cropland-dynamics))"
   ]
  },
  {
   "cell_type": "code",
   "execution_count": 320,
   "metadata": {},
   "outputs": [],
   "source": [
    "glad = ee.ImageCollection(\"users/potapovpeter/Global_cropland_2019\")\n",
    "glad_results = glad.filterBounds(test_coll).map(lambda x: rasterExtraction(x, 30, test_coll)).flatten()"
   ]
  },
  {
   "cell_type": "code",
   "execution_count": 321,
   "metadata": {},
   "outputs": [
    {
     "data": {
      "text/html": [
       "<div>\n",
       "<style scoped>\n",
       "    .dataframe tbody tr th:only-of-type {\n",
       "        vertical-align: middle;\n",
       "    }\n",
       "\n",
       "    .dataframe tbody tr th {\n",
       "        vertical-align: top;\n",
       "    }\n",
       "\n",
       "    .dataframe thead th {\n",
       "        text-align: right;\n",
       "    }\n",
       "</style>\n",
       "<table border=\"1\" class=\"dataframe\">\n",
       "  <thead>\n",
       "    <tr style=\"text-align: right;\">\n",
       "      <th></th>\n",
       "      <th>geometry</th>\n",
       "      <th>b1</th>\n",
       "      <th>class_probability</th>\n",
       "      <th>lat</th>\n",
       "      <th>lon</th>\n",
       "    </tr>\n",
       "  </thead>\n",
       "  <tbody>\n",
       "    <tr>\n",
       "      <th>0</th>\n",
       "      <td>None</td>\n",
       "      <td>0</td>\n",
       "      <td>0.00</td>\n",
       "      <td>9.875907</td>\n",
       "      <td>1.172471</td>\n",
       "    </tr>\n",
       "    <tr>\n",
       "      <th>1</th>\n",
       "      <td>None</td>\n",
       "      <td>0</td>\n",
       "      <td>0.25</td>\n",
       "      <td>9.180105</td>\n",
       "      <td>1.374695</td>\n",
       "    </tr>\n",
       "    <tr>\n",
       "      <th>2</th>\n",
       "      <td>None</td>\n",
       "      <td>0</td>\n",
       "      <td>0.00</td>\n",
       "      <td>9.275314</td>\n",
       "      <td>1.196385</td>\n",
       "    </tr>\n",
       "    <tr>\n",
       "      <th>3</th>\n",
       "      <td>None</td>\n",
       "      <td>0</td>\n",
       "      <td>0.00</td>\n",
       "      <td>7.346575</td>\n",
       "      <td>0.705167</td>\n",
       "    </tr>\n",
       "    <tr>\n",
       "      <th>4</th>\n",
       "      <td>None</td>\n",
       "      <td>0</td>\n",
       "      <td>0.25</td>\n",
       "      <td>6.777337</td>\n",
       "      <td>0.629817</td>\n",
       "    </tr>\n",
       "  </tbody>\n",
       "</table>\n",
       "</div>"
      ],
      "text/plain": [
       "  geometry  b1  class_probability       lat       lon\n",
       "0     None   0               0.00  9.875907  1.172471\n",
       "1     None   0               0.25  9.180105  1.374695\n",
       "2     None   0               0.00  9.275314  1.196385\n",
       "3     None   0               0.00  7.346575  0.705167\n",
       "4     None   0               0.25  6.777337  0.629817"
      ]
     },
     "execution_count": 321,
     "metadata": {},
     "output_type": "execute_result"
    }
   ],
   "source": [
    "glad_sampled = geemap.ee_to_gdf(glad_results)\n",
    "glad_sampled.head()"
   ]
  },
  {
   "cell_type": "code",
   "execution_count": 322,
   "metadata": {},
   "outputs": [],
   "source": [
    "glad_sampled = pd.merge(test_data[[\"lat\",\"lon\",\"test_class\", \"country\"]], glad_sampled, on=[\"lat\", \"lon\"])"
   ]
  },
  {
   "cell_type": "code",
   "execution_count": 323,
   "metadata": {},
   "outputs": [],
   "source": [
    "for country, df in glad_sampled.groupby(\"country\"):\n",
    "    report = classification_report(df[\"test_class\"], df[\"b1\"], output_dict=True)\n",
    "    results = report_to_row(str(\"GLAD_\"+country), report, results)"
   ]
  },
  {
   "cell_type": "markdown",
   "metadata": {},
   "source": [
    "**Evaluation Results**"
   ]
  },
  {
   "cell_type": "code",
   "execution_count": 324,
   "metadata": {},
   "outputs": [
    {
     "data": {
      "text/html": [
       "<div>\n",
       "<style scoped>\n",
       "    .dataframe tbody tr th:only-of-type {\n",
       "        vertical-align: middle;\n",
       "    }\n",
       "\n",
       "    .dataframe tbody tr th {\n",
       "        vertical-align: top;\n",
       "    }\n",
       "\n",
       "    .dataframe thead th {\n",
       "        text-align: right;\n",
       "    }\n",
       "</style>\n",
       "<table border=\"1\" class=\"dataframe\">\n",
       "  <thead>\n",
       "    <tr style=\"text-align: right;\">\n",
       "      <th></th>\n",
       "      <th>dataset</th>\n",
       "      <th>accuracy</th>\n",
       "      <th>crop_f1</th>\n",
       "      <th>crop_support</th>\n",
       "      <th>noncrop_support</th>\n",
       "      <th>crop_precision</th>\n",
       "      <th>crop_recall</th>\n",
       "      <th>noncrop_precision</th>\n",
       "      <th>noncrop_recall</th>\n",
       "    </tr>\n",
       "  </thead>\n",
       "  <tbody>\n",
       "    <tr>\n",
       "      <th>0</th>\n",
       "      <td>harvest_togo</td>\n",
       "      <td>0.771831</td>\n",
       "      <td>0.736156</td>\n",
       "      <td>152</td>\n",
       "      <td>203</td>\n",
       "      <td>0.729032</td>\n",
       "      <td>0.743421</td>\n",
       "      <td>0.805000</td>\n",
       "      <td>0.793103</td>\n",
       "    </tr>\n",
       "    <tr>\n",
       "      <th>0</th>\n",
       "      <td>harvest_kenya</td>\n",
       "      <td>0.952722</td>\n",
       "      <td>0.968054</td>\n",
       "      <td>520</td>\n",
       "      <td>178</td>\n",
       "      <td>0.974659</td>\n",
       "      <td>0.961538</td>\n",
       "      <td>0.891892</td>\n",
       "      <td>0.926966</td>\n",
       "    </tr>\n",
       "    <tr>\n",
       "      <th>0</th>\n",
       "      <td>Copernicus_Kenya</td>\n",
       "      <td>0.913148</td>\n",
       "      <td>0.937824</td>\n",
       "      <td>571</td>\n",
       "      <td>258</td>\n",
       "      <td>0.925043</td>\n",
       "      <td>0.950963</td>\n",
       "      <td>0.884298</td>\n",
       "      <td>0.829457</td>\n",
       "    </tr>\n",
       "    <tr>\n",
       "      <th>0</th>\n",
       "      <td>Copernicus_Togo</td>\n",
       "      <td>0.695775</td>\n",
       "      <td>0.571429</td>\n",
       "      <td>152</td>\n",
       "      <td>203</td>\n",
       "      <td>0.720000</td>\n",
       "      <td>0.473684</td>\n",
       "      <td>0.686275</td>\n",
       "      <td>0.862069</td>\n",
       "    </tr>\n",
       "    <tr>\n",
       "      <th>0</th>\n",
       "      <td>ESA_Kenya</td>\n",
       "      <td>0.449940</td>\n",
       "      <td>0.341040</td>\n",
       "      <td>571</td>\n",
       "      <td>258</td>\n",
       "      <td>0.975207</td>\n",
       "      <td>0.206655</td>\n",
       "      <td>0.360169</td>\n",
       "      <td>0.988372</td>\n",
       "    </tr>\n",
       "    <tr>\n",
       "      <th>0</th>\n",
       "      <td>ESA_Togo</td>\n",
       "      <td>0.740845</td>\n",
       "      <td>0.606838</td>\n",
       "      <td>152</td>\n",
       "      <td>203</td>\n",
       "      <td>0.865854</td>\n",
       "      <td>0.467105</td>\n",
       "      <td>0.703297</td>\n",
       "      <td>0.945813</td>\n",
       "    </tr>\n",
       "    <tr>\n",
       "      <th>0</th>\n",
       "      <td>GLAD_Kenya</td>\n",
       "      <td>0.849216</td>\n",
       "      <td>0.885636</td>\n",
       "      <td>571</td>\n",
       "      <td>258</td>\n",
       "      <td>0.927203</td>\n",
       "      <td>0.847636</td>\n",
       "      <td>0.716612</td>\n",
       "      <td>0.852713</td>\n",
       "    </tr>\n",
       "    <tr>\n",
       "      <th>0</th>\n",
       "      <td>GLAD_Togo</td>\n",
       "      <td>0.707042</td>\n",
       "      <td>0.559322</td>\n",
       "      <td>152</td>\n",
       "      <td>203</td>\n",
       "      <td>0.785714</td>\n",
       "      <td>0.434211</td>\n",
       "      <td>0.682657</td>\n",
       "      <td>0.911330</td>\n",
       "    </tr>\n",
       "  </tbody>\n",
       "</table>\n",
       "</div>"
      ],
      "text/plain": [
       "            dataset  accuracy   crop_f1 crop_support noncrop_support  \\\n",
       "0      harvest_togo  0.771831  0.736156          152             203   \n",
       "0     harvest_kenya  0.952722  0.968054          520             178   \n",
       "0  Copernicus_Kenya  0.913148  0.937824          571             258   \n",
       "0   Copernicus_Togo  0.695775  0.571429          152             203   \n",
       "0         ESA_Kenya  0.449940  0.341040          571             258   \n",
       "0          ESA_Togo  0.740845  0.606838          152             203   \n",
       "0        GLAD_Kenya  0.849216  0.885636          571             258   \n",
       "0         GLAD_Togo  0.707042  0.559322          152             203   \n",
       "\n",
       "   crop_precision  crop_recall  noncrop_precision  noncrop_recall  \n",
       "0        0.729032     0.743421           0.805000        0.793103  \n",
       "0        0.974659     0.961538           0.891892        0.926966  \n",
       "0        0.925043     0.950963           0.884298        0.829457  \n",
       "0        0.720000     0.473684           0.686275        0.862069  \n",
       "0        0.975207     0.206655           0.360169        0.988372  \n",
       "0        0.865854     0.467105           0.703297        0.945813  \n",
       "0        0.927203     0.847636           0.716612        0.852713  \n",
       "0        0.785714     0.434211           0.682657        0.911330  "
      ]
     },
     "execution_count": 324,
     "metadata": {},
     "output_type": "execute_result"
    }
   ],
   "source": [
    "results"
   ]
  }
 ],
 "metadata": {
  "kernelspec": {
   "display_name": "Python 3.8.8 ('intercomparison')",
   "language": "python",
   "name": "python3"
  },
  "language_info": {
   "codemirror_mode": {
    "name": "ipython",
    "version": 3
   },
   "file_extension": ".py",
   "mimetype": "text/x-python",
   "name": "python",
   "nbconvert_exporter": "python",
   "pygments_lexer": "ipython3",
   "version": "3.8.8"
  },
  "orig_nbformat": 4,
  "vscode": {
   "interpreter": {
    "hash": "b9a057a3c2bc11d9fb1a09bad675557d69c9743adf6ae74a67a8c76be0d35d72"
   }
  }
 },
 "nbformat": 4,
 "nbformat_minor": 2
}
