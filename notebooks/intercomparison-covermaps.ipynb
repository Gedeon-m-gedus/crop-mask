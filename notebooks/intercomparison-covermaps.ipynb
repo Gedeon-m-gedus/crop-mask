{
 "cells": [
  {
   "cell_type": "markdown",
   "metadata": {},
   "source": [
    "# Covermap Comparison\n",
    "\n",
    "**Author:** Adam Yang (ayang115@umd.edu)\n",
    "\n",
    "**Description:** Compares datasets against test sets\n",
    "\n",
    "**Crop Maps Used:** Harvest Togo & Kenya, Copernicus Land Cover, ESA CCI Land Cover Africa, GLAD Global Cropland Extent"
   ]
  },
  {
   "cell_type": "code",
   "execution_count": 2,
   "metadata": {},
   "outputs": [],
   "source": [
    "import pandas as pd\n",
    "import numpy as np\n",
    "import geopandas as gdp\n",
    "import os\n",
    "import geemap\n",
    "from pathlib import Path\n",
    "from sklearn.metrics import classification_report "
   ]
  },
  {
   "cell_type": "code",
   "execution_count": 3,
   "metadata": {},
   "outputs": [
    {
     "data": {
      "text/html": [
       "<p>To authorize access needed by Earth Engine, open the following\n",
       "        URL in a web browser and follow the instructions:</p>\n",
       "        <p><a href=https://code.earthengine.google.com/client-auth?scopes=https%3A//www.googleapis.com/auth/earthengine%20https%3A//www.googleapis.com/auth/devstorage.full_control&request_id=Jy2Jt9XBNGBbuwuflSmi7HUyg-TffFyvzGoBvpPRexY&tc=ZRjv63rPkTjNdRUAO3-iSdwJ9jVCdUROPFJ01XZUuIw&cc=lU5cnlqz65REN910eKp0X6UsN9SByVBTu2IGNZ-gsKw>https://code.earthengine.google.com/client-auth?scopes=https%3A//www.googleapis.com/auth/earthengine%20https%3A//www.googleapis.com/auth/devstorage.full_control&request_id=Jy2Jt9XBNGBbuwuflSmi7HUyg-TffFyvzGoBvpPRexY&tc=ZRjv63rPkTjNdRUAO3-iSdwJ9jVCdUROPFJ01XZUuIw&cc=lU5cnlqz65REN910eKp0X6UsN9SByVBTu2IGNZ-gsKw</a></p>\n",
       "        <p>The authorization workflow will generate a code, which you should paste in the box below.</p>\n",
       "        "
      ],
      "text/plain": [
       "<IPython.core.display.HTML object>"
      ]
     },
     "metadata": {},
     "output_type": "display_data"
    },
    {
     "name": "stdout",
     "output_type": "stream",
     "text": [
      "\n",
      "Successfully saved authorization token.\n"
     ]
    }
   ],
   "source": [
    "import ee\n",
    "\n",
    "ee.Authenticate()\n",
    "\n",
    "ee.Initialize()"
   ]
  },
  {
   "cell_type": "markdown",
   "metadata": {},
   "source": [
    "## **Section 0** - Setup"
   ]
  },
  {
   "cell_type": "markdown",
   "metadata": {},
   "source": [
    "**Functions**"
   ]
  },
  {
   "cell_type": "code",
   "execution_count": 122,
   "metadata": {},
   "outputs": [],
   "source": [
    "# Remaps classes to crop/noncrop \n",
    "def map_values(val, value_for_crop):\n",
    "    if val == value_for_crop:\n",
    "        return 1\n",
    "    else:\n",
    "        return 0"
   ]
  },
  {
   "cell_type": "code",
   "execution_count": 123,
   "metadata": {},
   "outputs": [],
   "source": [
    "# Function used in map function to extract from feature collection\n",
    "def raster_extraction(image, resolution, f_collection):\n",
    "    feature = image.sampleRegions(\n",
    "        collection = f_collection,\n",
    "        scale = resolution\n",
    "    )\n",
    "    return feature"
   ]
  },
  {
   "cell_type": "code",
   "execution_count": 124,
   "metadata": {},
   "outputs": [],
   "source": [
    "# Convert sklearn classification report dict to \n",
    "def report_to_row(dataset, report, df):\n",
    "    new_report = pd.DataFrame(data = {\n",
    "        \"dataset\": dataset, \n",
    "        \"accuracy\": report[\"accuracy\"], \n",
    "        \"crop_f1\": report[\"1\"][\"f1-score\"], \n",
    "        \"crop_support\": report[\"1\"][\"support\"], \n",
    "        \"noncrop_support\": report[\"0\"][\"support\"], \n",
    "        \"crop_precision\": report[\"1\"][\"precision\"], \n",
    "        \"crop_recall\": report[\"1\"][\"recall\"], \n",
    "        \"noncrop_precision\": report[\"0\"][\"precision\"], \n",
    "        \"noncrop_recall\": report[\"0\"][\"recall\"]\n",
    "        }, index=[0])\n",
    "    \n",
    "    return pd.concat([df, new_report])"
   ]
  },
  {
   "cell_type": "code",
   "execution_count": 125,
   "metadata": {},
   "outputs": [],
   "source": [
    "# Creates ee.Feature from longitude and latitude coordinates from a dataframe\n",
    "def create_point(row):\n",
    "    geom = ee.Geometry.Point(row[\"lon\"], row[\"lat\"])\n",
    "    prop = dict(row)\n",
    "\n",
    "    return ee.Feature(geom, prop)"
   ]
  },
  {
   "cell_type": "markdown",
   "metadata": {},
   "source": [
    "**Retrieve Test Data**"
   ]
  },
  {
   "cell_type": "code",
   "execution_count": 126,
   "metadata": {},
   "outputs": [],
   "source": [
    "TEST_COUNTRIES = [\"Kenya\", \"Togo\"]\n",
    "DATA_PATH = \"../data/datasets/\""
   ]
  },
  {
   "cell_type": "code",
   "execution_count": 127,
   "metadata": {},
   "outputs": [],
   "source": [
    "datasets_path = Path(DATA_PATH).glob(\"*\")\n",
    "\n",
    "target_paths = [p for p in datasets_path if p.stem in TEST_COUNTRIES]"
   ]
  },
  {
   "cell_type": "code",
   "execution_count": 128,
   "metadata": {},
   "outputs": [],
   "source": [
    "test_data = pd.DataFrame(columns=[\"lat\", \"lon\", \"test_class\", \"ee_pts\", \"country\"])\n",
    "\n",
    "test_set = []\n",
    "for p in target_paths:\n",
    "    # Set dict key name\n",
    "    key = p.stem\n",
    "\n",
    "    # Read in data and extract test values and points \n",
    "    df = pd.read_csv(p)\n",
    "    df = df.loc[df[\"subset\"] == \"testing\"]\n",
    "    df = df[[\"lat\", \"lon\", \"class_probability\"]]\n",
    "\n",
    "    # Create earth engine geometry points\n",
    "    df[\"ee_pts\"] = df.apply(create_point, axis=1)\n",
    "\n",
    "    # Recast points as 1 or 0 (threshold = 0.5)\n",
    "    df[\"test_class\"] = df[\"class_probability\"].apply(lambda x: 1 if x>=0.5 else 0)\n",
    "\n",
    "    df[\"country\"] = key\n",
    "\n",
    "    test_set.append(df)\n",
    "\n",
    "test_data = pd.concat(test_set)"
   ]
  },
  {
   "cell_type": "code",
   "execution_count": 129,
   "metadata": {},
   "outputs": [],
   "source": [
    "test_data.reset_index(inplace=True)\n",
    "test_data.drop(\"index\", axis=1, inplace=True)"
   ]
  },
  {
   "cell_type": "code",
   "execution_count": 130,
   "metadata": {},
   "outputs": [
    {
     "data": {
      "text/html": [
       "<div>\n",
       "<style scoped>\n",
       "    .dataframe tbody tr th:only-of-type {\n",
       "        vertical-align: middle;\n",
       "    }\n",
       "\n",
       "    .dataframe tbody tr th {\n",
       "        vertical-align: top;\n",
       "    }\n",
       "\n",
       "    .dataframe thead th {\n",
       "        text-align: right;\n",
       "    }\n",
       "</style>\n",
       "<table border=\"1\" class=\"dataframe\">\n",
       "  <thead>\n",
       "    <tr style=\"text-align: right;\">\n",
       "      <th></th>\n",
       "      <th>lat</th>\n",
       "      <th>lon</th>\n",
       "      <th>class_probability</th>\n",
       "      <th>ee_pts</th>\n",
       "      <th>test_class</th>\n",
       "      <th>country</th>\n",
       "    </tr>\n",
       "  </thead>\n",
       "  <tbody>\n",
       "    <tr>\n",
       "      <th>0</th>\n",
       "      <td>0.725122</td>\n",
       "      <td>34.386282</td>\n",
       "      <td>0.0</td>\n",
       "      <td>ee.Feature({\\n  \"functionInvocationValue\": {\\n...</td>\n",
       "      <td>0</td>\n",
       "      <td>Kenya</td>\n",
       "    </tr>\n",
       "    <tr>\n",
       "      <th>1</th>\n",
       "      <td>0.621939</td>\n",
       "      <td>34.466496</td>\n",
       "      <td>0.0</td>\n",
       "      <td>ee.Feature({\\n  \"functionInvocationValue\": {\\n...</td>\n",
       "      <td>0</td>\n",
       "      <td>Kenya</td>\n",
       "    </tr>\n",
       "    <tr>\n",
       "      <th>2</th>\n",
       "      <td>0.459661</td>\n",
       "      <td>34.090158</td>\n",
       "      <td>0.0</td>\n",
       "      <td>ee.Feature({\\n  \"functionInvocationValue\": {\\n...</td>\n",
       "      <td>0</td>\n",
       "      <td>Kenya</td>\n",
       "    </tr>\n",
       "    <tr>\n",
       "      <th>3</th>\n",
       "      <td>0.226497</td>\n",
       "      <td>34.054859</td>\n",
       "      <td>0.0</td>\n",
       "      <td>ee.Feature({\\n  \"functionInvocationValue\": {\\n...</td>\n",
       "      <td>0</td>\n",
       "      <td>Kenya</td>\n",
       "    </tr>\n",
       "    <tr>\n",
       "      <th>4</th>\n",
       "      <td>0.096834</td>\n",
       "      <td>33.951959</td>\n",
       "      <td>0.0</td>\n",
       "      <td>ee.Feature({\\n  \"functionInvocationValue\": {\\n...</td>\n",
       "      <td>0</td>\n",
       "      <td>Kenya</td>\n",
       "    </tr>\n",
       "  </tbody>\n",
       "</table>\n",
       "</div>"
      ],
      "text/plain": [
       "        lat        lon  class_probability  \\\n",
       "0  0.725122  34.386282                0.0   \n",
       "1  0.621939  34.466496                0.0   \n",
       "2  0.459661  34.090158                0.0   \n",
       "3  0.226497  34.054859                0.0   \n",
       "4  0.096834  33.951959                0.0   \n",
       "\n",
       "                                              ee_pts  test_class country  \n",
       "0  ee.Feature({\\n  \"functionInvocationValue\": {\\n...           0   Kenya  \n",
       "1  ee.Feature({\\n  \"functionInvocationValue\": {\\n...           0   Kenya  \n",
       "2  ee.Feature({\\n  \"functionInvocationValue\": {\\n...           0   Kenya  \n",
       "3  ee.Feature({\\n  \"functionInvocationValue\": {\\n...           0   Kenya  \n",
       "4  ee.Feature({\\n  \"functionInvocationValue\": {\\n...           0   Kenya  "
      ]
     },
     "execution_count": 130,
     "metadata": {},
     "output_type": "execute_result"
    }
   ],
   "source": [
    "test_data.head()"
   ]
  },
  {
   "cell_type": "markdown",
   "metadata": {},
   "source": [
    "**Create dataframe for results**"
   ]
  },
  {
   "cell_type": "code",
   "execution_count": 131,
   "metadata": {},
   "outputs": [],
   "source": [
    "results = {}\n",
    "\n",
    "for p in target_paths:\n",
    "    key = p.stem\n",
    "    results[key] = pd.DataFrame(columns=[\"dataset\", \"accuracy\", \"crop_f1\", \"crop_support\", \"noncrop_support\", \n",
    "        \"crop_precision\", \"crop_recall\", \"noncrop_precision\", \"noncrop_recall\"])\n"
   ]
  },
  {
   "cell_type": "markdown",
   "metadata": {},
   "source": [
    "## **Section 1** - Harvest Data"
   ]
  },
  {
   "cell_type": "code",
   "execution_count": 132,
   "metadata": {},
   "outputs": [],
   "source": [
    "import rasterio as rio"
   ]
  },
  {
   "cell_type": "markdown",
   "metadata": {},
   "source": [
    "**Harvest Togo** ([Zenodo](https://zenodo.org/record/3836629#.Y1_WxnbMJPZ))"
   ]
  },
  {
   "cell_type": "code",
   "execution_count": 133,
   "metadata": {},
   "outputs": [],
   "source": [
    "harvest_togo = rio.open(\"../../harvest-maps/togo_cropland_v9_08032020_binary.tif\")"
   ]
  },
  {
   "cell_type": "code",
   "execution_count": 134,
   "metadata": {},
   "outputs": [],
   "source": [
    "harvest_togo_sampled = test_data[[\"lat\", \"lon\", \"test_class\"]].loc[test_data[\"country\"]==\"Togo\"]\n",
    "harvest_togo_sampled[\"harvest_class\"] = list(rio.sample.sample_gen(harvest_togo, zip(harvest_togo_sampled[\"lon\"], harvest_togo_sampled[\"lat\"])))"
   ]
  },
  {
   "cell_type": "code",
   "execution_count": 135,
   "metadata": {},
   "outputs": [
    {
     "data": {
      "text/html": [
       "<div>\n",
       "<style scoped>\n",
       "    .dataframe tbody tr th:only-of-type {\n",
       "        vertical-align: middle;\n",
       "    }\n",
       "\n",
       "    .dataframe tbody tr th {\n",
       "        vertical-align: top;\n",
       "    }\n",
       "\n",
       "    .dataframe thead th {\n",
       "        text-align: right;\n",
       "    }\n",
       "</style>\n",
       "<table border=\"1\" class=\"dataframe\">\n",
       "  <thead>\n",
       "    <tr style=\"text-align: right;\">\n",
       "      <th></th>\n",
       "      <th>lat</th>\n",
       "      <th>lon</th>\n",
       "      <th>test_class</th>\n",
       "      <th>harvest_class</th>\n",
       "    </tr>\n",
       "  </thead>\n",
       "  <tbody>\n",
       "    <tr>\n",
       "      <th>829</th>\n",
       "      <td>9.875907</td>\n",
       "      <td>1.172471</td>\n",
       "      <td>0</td>\n",
       "      <td>[0]</td>\n",
       "    </tr>\n",
       "    <tr>\n",
       "      <th>830</th>\n",
       "      <td>9.180105</td>\n",
       "      <td>1.374695</td>\n",
       "      <td>0</td>\n",
       "      <td>[0]</td>\n",
       "    </tr>\n",
       "    <tr>\n",
       "      <th>831</th>\n",
       "      <td>9.275314</td>\n",
       "      <td>1.196385</td>\n",
       "      <td>0</td>\n",
       "      <td>[0]</td>\n",
       "    </tr>\n",
       "    <tr>\n",
       "      <th>832</th>\n",
       "      <td>7.346575</td>\n",
       "      <td>0.705167</td>\n",
       "      <td>0</td>\n",
       "      <td>[0]</td>\n",
       "    </tr>\n",
       "    <tr>\n",
       "      <th>833</th>\n",
       "      <td>6.777337</td>\n",
       "      <td>0.629817</td>\n",
       "      <td>0</td>\n",
       "      <td>[0]</td>\n",
       "    </tr>\n",
       "  </tbody>\n",
       "</table>\n",
       "</div>"
      ],
      "text/plain": [
       "          lat       lon  test_class harvest_class\n",
       "829  9.875907  1.172471           0           [0]\n",
       "830  9.180105  1.374695           0           [0]\n",
       "831  9.275314  1.196385           0           [0]\n",
       "832  7.346575  0.705167           0           [0]\n",
       "833  6.777337  0.629817           0           [0]"
      ]
     },
     "execution_count": 135,
     "metadata": {},
     "output_type": "execute_result"
    }
   ],
   "source": [
    "harvest_togo_sampled = harvest_togo_sampled[harvest_togo_sampled[\"harvest_class\"]!=255]\n",
    "harvest_togo_sampled.head()"
   ]
  },
  {
   "cell_type": "code",
   "execution_count": 136,
   "metadata": {},
   "outputs": [],
   "source": [
    "harvest_togo_sampled[\"harvest_class\"] = harvest_togo_sampled[\"harvest_class\"].apply(lambda x: x[0]) "
   ]
  },
  {
   "cell_type": "code",
   "execution_count": 137,
   "metadata": {},
   "outputs": [],
   "source": [
    "harvest_togo_report = classification_report(harvest_togo_sampled[\"test_class\"], harvest_togo_sampled[\"harvest_class\"], output_dict=True)\n",
    "\n",
    "results[\"Togo\"] = report_to_row(\"harvest_togo\", harvest_togo_report, results[\"Togo\"])"
   ]
  },
  {
   "cell_type": "markdown",
   "metadata": {},
   "source": [
    "**Harvest-Kenya** ([Zenodo](https://zenodo.org/record/4271144#.Y18ucXbMJPa))"
   ]
  },
  {
   "cell_type": "code",
   "execution_count": 138,
   "metadata": {},
   "outputs": [],
   "source": [
    "harvest_kenya = rio.open(\"../../harvest-maps/kenya_cropland_binary_2019.tif\")"
   ]
  },
  {
   "cell_type": "code",
   "execution_count": 139,
   "metadata": {},
   "outputs": [],
   "source": [
    "harvest_kenya_sampled = test_data[[\"lat\", \"lon\", \"test_class\"]].loc[test_data[\"country\"]==\"Kenya\"]\n",
    "harvest_kenya_sampled[\"harvest_class\"] = list(rio.sample.sample_gen(harvest_kenya, zip(harvest_kenya_sampled[\"lon\"], harvest_kenya_sampled[\"lat\"])))"
   ]
  },
  {
   "cell_type": "code",
   "execution_count": 140,
   "metadata": {},
   "outputs": [
    {
     "data": {
      "text/html": [
       "<div>\n",
       "<style scoped>\n",
       "    .dataframe tbody tr th:only-of-type {\n",
       "        vertical-align: middle;\n",
       "    }\n",
       "\n",
       "    .dataframe tbody tr th {\n",
       "        vertical-align: top;\n",
       "    }\n",
       "\n",
       "    .dataframe thead th {\n",
       "        text-align: right;\n",
       "    }\n",
       "</style>\n",
       "<table border=\"1\" class=\"dataframe\">\n",
       "  <thead>\n",
       "    <tr style=\"text-align: right;\">\n",
       "      <th></th>\n",
       "      <th>lat</th>\n",
       "      <th>lon</th>\n",
       "      <th>test_class</th>\n",
       "      <th>harvest_class</th>\n",
       "    </tr>\n",
       "  </thead>\n",
       "  <tbody>\n",
       "    <tr>\n",
       "      <th>0</th>\n",
       "      <td>0.725122</td>\n",
       "      <td>34.386282</td>\n",
       "      <td>0</td>\n",
       "      <td>[1]</td>\n",
       "    </tr>\n",
       "    <tr>\n",
       "      <th>1</th>\n",
       "      <td>0.621939</td>\n",
       "      <td>34.466496</td>\n",
       "      <td>0</td>\n",
       "      <td>[1]</td>\n",
       "    </tr>\n",
       "    <tr>\n",
       "      <th>3</th>\n",
       "      <td>0.226497</td>\n",
       "      <td>34.054859</td>\n",
       "      <td>0</td>\n",
       "      <td>[0]</td>\n",
       "    </tr>\n",
       "    <tr>\n",
       "      <th>4</th>\n",
       "      <td>0.096834</td>\n",
       "      <td>33.951959</td>\n",
       "      <td>0</td>\n",
       "      <td>[0]</td>\n",
       "    </tr>\n",
       "    <tr>\n",
       "      <th>5</th>\n",
       "      <td>0.032072</td>\n",
       "      <td>33.968469</td>\n",
       "      <td>0</td>\n",
       "      <td>[0]</td>\n",
       "    </tr>\n",
       "  </tbody>\n",
       "</table>\n",
       "</div>"
      ],
      "text/plain": [
       "        lat        lon  test_class harvest_class\n",
       "0  0.725122  34.386282           0           [1]\n",
       "1  0.621939  34.466496           0           [1]\n",
       "3  0.226497  34.054859           0           [0]\n",
       "4  0.096834  33.951959           0           [0]\n",
       "5  0.032072  33.968469           0           [0]"
      ]
     },
     "execution_count": 140,
     "metadata": {},
     "output_type": "execute_result"
    }
   ],
   "source": [
    "harvest_kenya_sampled = harvest_kenya_sampled[harvest_kenya_sampled[\"harvest_class\"]!=255]\n",
    "harvest_kenya_sampled.head()"
   ]
  },
  {
   "cell_type": "code",
   "execution_count": 141,
   "metadata": {},
   "outputs": [],
   "source": [
    "# Extract int value from list\n",
    "harvest_kenya_sampled[\"harvest_class\"] = harvest_kenya_sampled[\"harvest_class\"].apply(lambda x: x[0]) "
   ]
  },
  {
   "cell_type": "code",
   "execution_count": 142,
   "metadata": {},
   "outputs": [],
   "source": [
    "harvest_kenya_report = classification_report(harvest_kenya_sampled[\"test_class\"], harvest_kenya_sampled[\"harvest_class\"], output_dict=True)\n",
    "\n",
    "results[\"Kenya\"] = report_to_row(\"harvest_kenya\", harvest_kenya_report, results[\"Kenya\"])"
   ]
  },
  {
   "cell_type": "markdown",
   "metadata": {},
   "source": [
    "## **Section 2** - Earth Engine Accessible"
   ]
  },
  {
   "cell_type": "code",
   "execution_count": 143,
   "metadata": {},
   "outputs": [],
   "source": [
    "# Create earth engine points for section 2\n",
    "test_coll = ee.FeatureCollection(test_data[\"ee_pts\"].tolist())"
   ]
  },
  {
   "cell_type": "markdown",
   "metadata": {},
   "source": [
    "**Copernicus Land Cover** ([Earth Engine](https://developers.google.com/earth-engine/datasets/catalog/COPERNICUS_Landcover_100m_Proba-V-C3_Global#description))"
   ]
  },
  {
   "cell_type": "code",
   "execution_count": 110,
   "metadata": {},
   "outputs": [],
   "source": [
    "# Load copernicus data\n",
    "copernicus = ee.ImageCollection(\"COPERNICUS/Landcover/100m/Proba-V-C3/Global\")\n",
    "cop_results = copernicus.select(\"discrete_classification\").filterDate(\"2019-01-01\", \"2020-01-01\").map(lambda x: raster_extraction(x, 100, test_coll)).flatten()"
   ]
  },
  {
   "cell_type": "code",
   "execution_count": 111,
   "metadata": {},
   "outputs": [
    {
     "data": {
      "text/html": [
       "<div>\n",
       "<style scoped>\n",
       "    .dataframe tbody tr th:only-of-type {\n",
       "        vertical-align: middle;\n",
       "    }\n",
       "\n",
       "    .dataframe tbody tr th {\n",
       "        vertical-align: top;\n",
       "    }\n",
       "\n",
       "    .dataframe thead th {\n",
       "        text-align: right;\n",
       "    }\n",
       "</style>\n",
       "<table border=\"1\" class=\"dataframe\">\n",
       "  <thead>\n",
       "    <tr style=\"text-align: right;\">\n",
       "      <th></th>\n",
       "      <th>geometry</th>\n",
       "      <th>class_probability</th>\n",
       "      <th>discrete_classification</th>\n",
       "      <th>lat</th>\n",
       "      <th>lon</th>\n",
       "      <th>cop_class</th>\n",
       "    </tr>\n",
       "  </thead>\n",
       "  <tbody>\n",
       "    <tr>\n",
       "      <th>0</th>\n",
       "      <td>None</td>\n",
       "      <td>0.0</td>\n",
       "      <td>126</td>\n",
       "      <td>0.725122</td>\n",
       "      <td>34.386282</td>\n",
       "      <td>0</td>\n",
       "    </tr>\n",
       "    <tr>\n",
       "      <th>1</th>\n",
       "      <td>None</td>\n",
       "      <td>0.0</td>\n",
       "      <td>122</td>\n",
       "      <td>0.621939</td>\n",
       "      <td>34.466496</td>\n",
       "      <td>0</td>\n",
       "    </tr>\n",
       "    <tr>\n",
       "      <th>2</th>\n",
       "      <td>None</td>\n",
       "      <td>0.0</td>\n",
       "      <td>50</td>\n",
       "      <td>0.459661</td>\n",
       "      <td>34.090158</td>\n",
       "      <td>0</td>\n",
       "    </tr>\n",
       "    <tr>\n",
       "      <th>3</th>\n",
       "      <td>None</td>\n",
       "      <td>0.0</td>\n",
       "      <td>40</td>\n",
       "      <td>0.226497</td>\n",
       "      <td>34.054859</td>\n",
       "      <td>1</td>\n",
       "    </tr>\n",
       "    <tr>\n",
       "      <th>4</th>\n",
       "      <td>None</td>\n",
       "      <td>0.0</td>\n",
       "      <td>20</td>\n",
       "      <td>0.096834</td>\n",
       "      <td>33.951959</td>\n",
       "      <td>0</td>\n",
       "    </tr>\n",
       "  </tbody>\n",
       "</table>\n",
       "</div>"
      ],
      "text/plain": [
       "  geometry  class_probability  discrete_classification       lat        lon  \\\n",
       "0     None                0.0                      126  0.725122  34.386282   \n",
       "1     None                0.0                      122  0.621939  34.466496   \n",
       "2     None                0.0                       50  0.459661  34.090158   \n",
       "3     None                0.0                       40  0.226497  34.054859   \n",
       "4     None                0.0                       20  0.096834  33.951959   \n",
       "\n",
       "   cop_class  \n",
       "0          0  \n",
       "1          0  \n",
       "2          0  \n",
       "3          1  \n",
       "4          0  "
      ]
     },
     "execution_count": 111,
     "metadata": {},
     "output_type": "execute_result"
    }
   ],
   "source": [
    "cop_sampled = geemap.ee_to_gdf(cop_results)\n",
    "cop_sampled[\"cop_class\"] = cop_sampled[\"discrete_classification\"].apply(lambda x: map_values(x, 40))\n",
    "cop_sampled.head()"
   ]
  },
  {
   "cell_type": "code",
   "execution_count": 112,
   "metadata": {},
   "outputs": [],
   "source": [
    "test_data[\"cop\"] = pd.merge(test_data, cop_sampled, on=[\"lat\", \"lon\"], how=\"left\")[\"cop_class\"]"
   ]
  },
  {
   "cell_type": "markdown",
   "metadata": {},
   "source": [
    "**ESA World Cover** ([Earth Engine](https://developers.google.com/earth-engine/datasets/catalog/ESA_WorldCover_v100)) "
   ]
  },
  {
   "cell_type": "code",
   "execution_count": 113,
   "metadata": {},
   "outputs": [],
   "source": [
    "esa = ee.ImageCollection(\"ESA/WorldCover/v100\")\n",
    "esa_results = esa.filterBounds(test_coll).map(lambda x: raster_extraction(x, 10, test_coll)).flatten()"
   ]
  },
  {
   "cell_type": "code",
   "execution_count": 114,
   "metadata": {},
   "outputs": [
    {
     "data": {
      "text/html": [
       "<div>\n",
       "<style scoped>\n",
       "    .dataframe tbody tr th:only-of-type {\n",
       "        vertical-align: middle;\n",
       "    }\n",
       "\n",
       "    .dataframe tbody tr th {\n",
       "        vertical-align: top;\n",
       "    }\n",
       "\n",
       "    .dataframe thead th {\n",
       "        text-align: right;\n",
       "    }\n",
       "</style>\n",
       "<table border=\"1\" class=\"dataframe\">\n",
       "  <thead>\n",
       "    <tr style=\"text-align: right;\">\n",
       "      <th></th>\n",
       "      <th>geometry</th>\n",
       "      <th>Map</th>\n",
       "      <th>class_probability</th>\n",
       "      <th>lat</th>\n",
       "      <th>lon</th>\n",
       "      <th>esa_class</th>\n",
       "    </tr>\n",
       "  </thead>\n",
       "  <tbody>\n",
       "    <tr>\n",
       "      <th>0</th>\n",
       "      <td>None</td>\n",
       "      <td>20</td>\n",
       "      <td>0.0</td>\n",
       "      <td>0.725122</td>\n",
       "      <td>34.386282</td>\n",
       "      <td>0</td>\n",
       "    </tr>\n",
       "    <tr>\n",
       "      <th>1</th>\n",
       "      <td>None</td>\n",
       "      <td>20</td>\n",
       "      <td>0.0</td>\n",
       "      <td>0.621939</td>\n",
       "      <td>34.466496</td>\n",
       "      <td>0</td>\n",
       "    </tr>\n",
       "    <tr>\n",
       "      <th>2</th>\n",
       "      <td>None</td>\n",
       "      <td>50</td>\n",
       "      <td>0.0</td>\n",
       "      <td>0.459661</td>\n",
       "      <td>34.090158</td>\n",
       "      <td>0</td>\n",
       "    </tr>\n",
       "    <tr>\n",
       "      <th>3</th>\n",
       "      <td>None</td>\n",
       "      <td>30</td>\n",
       "      <td>0.0</td>\n",
       "      <td>0.226497</td>\n",
       "      <td>34.054859</td>\n",
       "      <td>0</td>\n",
       "    </tr>\n",
       "    <tr>\n",
       "      <th>4</th>\n",
       "      <td>None</td>\n",
       "      <td>30</td>\n",
       "      <td>0.0</td>\n",
       "      <td>0.096834</td>\n",
       "      <td>33.951959</td>\n",
       "      <td>0</td>\n",
       "    </tr>\n",
       "  </tbody>\n",
       "</table>\n",
       "</div>"
      ],
      "text/plain": [
       "  geometry  Map  class_probability       lat        lon  esa_class\n",
       "0     None   20                0.0  0.725122  34.386282          0\n",
       "1     None   20                0.0  0.621939  34.466496          0\n",
       "2     None   50                0.0  0.459661  34.090158          0\n",
       "3     None   30                0.0  0.226497  34.054859          0\n",
       "4     None   30                0.0  0.096834  33.951959          0"
      ]
     },
     "execution_count": 114,
     "metadata": {},
     "output_type": "execute_result"
    }
   ],
   "source": [
    "esa_sampled = geemap.ee_to_gdf(esa_results)\n",
    "esa_sampled[\"esa_class\"] = esa_sampled[\"Map\"].apply(lambda x: map_values(x, 40))\n",
    "esa_sampled.head()"
   ]
  },
  {
   "cell_type": "code",
   "execution_count": 115,
   "metadata": {},
   "outputs": [],
   "source": [
    "test_data[\"esa\"] = pd.merge(test_data, esa_sampled, on=[\"lat\", \"lon\"], how=\"left\")[\"esa_class\"]"
   ]
  },
  {
   "cell_type": "markdown",
   "metadata": {},
   "source": [
    "**GLAD Global** ([Earth Engine](https://glad.earthengine.app/view/global-cropland-dynamics))"
   ]
  },
  {
   "cell_type": "code",
   "execution_count": 116,
   "metadata": {},
   "outputs": [],
   "source": [
    "glad = ee.ImageCollection(\"users/potapovpeter/Global_cropland_2019\")\n",
    "glad_results = glad.filterBounds(test_coll).map(lambda x: raster_extraction(x, 30, test_coll)).flatten()"
   ]
  },
  {
   "cell_type": "code",
   "execution_count": 117,
   "metadata": {},
   "outputs": [
    {
     "data": {
      "text/html": [
       "<div>\n",
       "<style scoped>\n",
       "    .dataframe tbody tr th:only-of-type {\n",
       "        vertical-align: middle;\n",
       "    }\n",
       "\n",
       "    .dataframe tbody tr th {\n",
       "        vertical-align: top;\n",
       "    }\n",
       "\n",
       "    .dataframe thead th {\n",
       "        text-align: right;\n",
       "    }\n",
       "</style>\n",
       "<table border=\"1\" class=\"dataframe\">\n",
       "  <thead>\n",
       "    <tr style=\"text-align: right;\">\n",
       "      <th></th>\n",
       "      <th>geometry</th>\n",
       "      <th>b1</th>\n",
       "      <th>class_probability</th>\n",
       "      <th>lat</th>\n",
       "      <th>lon</th>\n",
       "    </tr>\n",
       "  </thead>\n",
       "  <tbody>\n",
       "    <tr>\n",
       "      <th>0</th>\n",
       "      <td>None</td>\n",
       "      <td>1</td>\n",
       "      <td>0.0</td>\n",
       "      <td>0.725122</td>\n",
       "      <td>34.386282</td>\n",
       "    </tr>\n",
       "    <tr>\n",
       "      <th>1</th>\n",
       "      <td>None</td>\n",
       "      <td>0</td>\n",
       "      <td>0.0</td>\n",
       "      <td>0.621939</td>\n",
       "      <td>34.466496</td>\n",
       "    </tr>\n",
       "    <tr>\n",
       "      <th>2</th>\n",
       "      <td>None</td>\n",
       "      <td>0</td>\n",
       "      <td>0.0</td>\n",
       "      <td>0.459661</td>\n",
       "      <td>34.090158</td>\n",
       "    </tr>\n",
       "    <tr>\n",
       "      <th>3</th>\n",
       "      <td>None</td>\n",
       "      <td>0</td>\n",
       "      <td>0.0</td>\n",
       "      <td>0.226497</td>\n",
       "      <td>34.054859</td>\n",
       "    </tr>\n",
       "    <tr>\n",
       "      <th>4</th>\n",
       "      <td>None</td>\n",
       "      <td>0</td>\n",
       "      <td>0.0</td>\n",
       "      <td>0.096834</td>\n",
       "      <td>33.951959</td>\n",
       "    </tr>\n",
       "  </tbody>\n",
       "</table>\n",
       "</div>"
      ],
      "text/plain": [
       "  geometry  b1  class_probability       lat        lon\n",
       "0     None   1                0.0  0.725122  34.386282\n",
       "1     None   0                0.0  0.621939  34.466496\n",
       "2     None   0                0.0  0.459661  34.090158\n",
       "3     None   0                0.0  0.226497  34.054859\n",
       "4     None   0                0.0  0.096834  33.951959"
      ]
     },
     "execution_count": 117,
     "metadata": {},
     "output_type": "execute_result"
    }
   ],
   "source": [
    "glad_sampled = geemap.ee_to_gdf(glad_results)\n",
    "glad_sampled.head()"
   ]
  },
  {
   "cell_type": "code",
   "execution_count": 118,
   "metadata": {},
   "outputs": [],
   "source": [
    "test_data['glad'] = pd.merge(test_data, glad_sampled, on=[\"lat\", \"lon\"], how=\"left\")[\"b1\"]"
   ]
  },
  {
   "cell_type": "markdown",
   "metadata": {},
   "source": [
    "**Compute Results for Copernicus, ESA, GLAD**"
   ]
  },
  {
   "cell_type": "code",
   "execution_count": 119,
   "metadata": {},
   "outputs": [
    {
     "name": "stdout",
     "output_type": "stream",
     "text": [
      "Kenya cop\n",
      "Kenya esa\n",
      "Kenya glad\n",
      "Togo cop\n",
      "Togo esa\n",
      "Togo glad\n"
     ]
    }
   ],
   "source": [
    "for country, df in test_data.groupby(\"country\"):\n",
    "    for dataset in [\"cop\", \"esa\", \"glad\"]:\n",
    "        print(country, dataset)\n",
    "        report = classification_report(df[\"test_class\"], df[dataset], output_dict= True)\n",
    "        results[country] = report_to_row(dataset, report, results[country])"
   ]
  },
  {
   "cell_type": "markdown",
   "metadata": {},
   "source": [
    "## **Evaluation Results**"
   ]
  },
  {
   "cell_type": "markdown",
   "metadata": {},
   "source": [
    "**Kenya**"
   ]
  },
  {
   "cell_type": "code",
   "execution_count": 120,
   "metadata": {},
   "outputs": [
    {
     "data": {
      "text/html": [
       "<div>\n",
       "<style scoped>\n",
       "    .dataframe tbody tr th:only-of-type {\n",
       "        vertical-align: middle;\n",
       "    }\n",
       "\n",
       "    .dataframe tbody tr th {\n",
       "        vertical-align: top;\n",
       "    }\n",
       "\n",
       "    .dataframe thead th {\n",
       "        text-align: right;\n",
       "    }\n",
       "</style>\n",
       "<table border=\"1\" class=\"dataframe\">\n",
       "  <thead>\n",
       "    <tr style=\"text-align: right;\">\n",
       "      <th></th>\n",
       "      <th>dataset</th>\n",
       "      <th>accuracy</th>\n",
       "      <th>crop_f1</th>\n",
       "      <th>crop_support</th>\n",
       "      <th>noncrop_support</th>\n",
       "      <th>crop_precision</th>\n",
       "      <th>crop_recall</th>\n",
       "      <th>noncrop_precision</th>\n",
       "      <th>noncrop_recall</th>\n",
       "    </tr>\n",
       "  </thead>\n",
       "  <tbody>\n",
       "    <tr>\n",
       "      <th>0</th>\n",
       "      <td>cop</td>\n",
       "      <td>0.913148</td>\n",
       "      <td>0.937824</td>\n",
       "      <td>571</td>\n",
       "      <td>258</td>\n",
       "      <td>0.925043</td>\n",
       "      <td>0.950963</td>\n",
       "      <td>0.884298</td>\n",
       "      <td>0.829457</td>\n",
       "    </tr>\n",
       "    <tr>\n",
       "      <th>0</th>\n",
       "      <td>esa</td>\n",
       "      <td>0.449940</td>\n",
       "      <td>0.341040</td>\n",
       "      <td>571</td>\n",
       "      <td>258</td>\n",
       "      <td>0.975207</td>\n",
       "      <td>0.206655</td>\n",
       "      <td>0.360169</td>\n",
       "      <td>0.988372</td>\n",
       "    </tr>\n",
       "    <tr>\n",
       "      <th>0</th>\n",
       "      <td>glad</td>\n",
       "      <td>0.849216</td>\n",
       "      <td>0.885636</td>\n",
       "      <td>571</td>\n",
       "      <td>258</td>\n",
       "      <td>0.927203</td>\n",
       "      <td>0.847636</td>\n",
       "      <td>0.716612</td>\n",
       "      <td>0.852713</td>\n",
       "    </tr>\n",
       "  </tbody>\n",
       "</table>\n",
       "</div>"
      ],
      "text/plain": [
       "  dataset  accuracy   crop_f1 crop_support noncrop_support  crop_precision  \\\n",
       "0     cop  0.913148  0.937824          571             258        0.925043   \n",
       "0     esa  0.449940  0.341040          571             258        0.975207   \n",
       "0    glad  0.849216  0.885636          571             258        0.927203   \n",
       "\n",
       "   crop_recall  noncrop_precision  noncrop_recall  \n",
       "0     0.950963           0.884298        0.829457  \n",
       "0     0.206655           0.360169        0.988372  \n",
       "0     0.847636           0.716612        0.852713  "
      ]
     },
     "execution_count": 120,
     "metadata": {},
     "output_type": "execute_result"
    }
   ],
   "source": [
    "results[\"Kenya\"]"
   ]
  },
  {
   "cell_type": "markdown",
   "metadata": {},
   "source": [
    "**Togo**"
   ]
  },
  {
   "cell_type": "code",
   "execution_count": 121,
   "metadata": {},
   "outputs": [
    {
     "data": {
      "text/html": [
       "<div>\n",
       "<style scoped>\n",
       "    .dataframe tbody tr th:only-of-type {\n",
       "        vertical-align: middle;\n",
       "    }\n",
       "\n",
       "    .dataframe tbody tr th {\n",
       "        vertical-align: top;\n",
       "    }\n",
       "\n",
       "    .dataframe thead th {\n",
       "        text-align: right;\n",
       "    }\n",
       "</style>\n",
       "<table border=\"1\" class=\"dataframe\">\n",
       "  <thead>\n",
       "    <tr style=\"text-align: right;\">\n",
       "      <th></th>\n",
       "      <th>dataset</th>\n",
       "      <th>accuracy</th>\n",
       "      <th>crop_f1</th>\n",
       "      <th>crop_support</th>\n",
       "      <th>noncrop_support</th>\n",
       "      <th>crop_precision</th>\n",
       "      <th>crop_recall</th>\n",
       "      <th>noncrop_precision</th>\n",
       "      <th>noncrop_recall</th>\n",
       "    </tr>\n",
       "  </thead>\n",
       "  <tbody>\n",
       "    <tr>\n",
       "      <th>0</th>\n",
       "      <td>cop</td>\n",
       "      <td>0.695775</td>\n",
       "      <td>0.571429</td>\n",
       "      <td>152</td>\n",
       "      <td>203</td>\n",
       "      <td>0.720000</td>\n",
       "      <td>0.473684</td>\n",
       "      <td>0.686275</td>\n",
       "      <td>0.862069</td>\n",
       "    </tr>\n",
       "    <tr>\n",
       "      <th>0</th>\n",
       "      <td>esa</td>\n",
       "      <td>0.740845</td>\n",
       "      <td>0.606838</td>\n",
       "      <td>152</td>\n",
       "      <td>203</td>\n",
       "      <td>0.865854</td>\n",
       "      <td>0.467105</td>\n",
       "      <td>0.703297</td>\n",
       "      <td>0.945813</td>\n",
       "    </tr>\n",
       "    <tr>\n",
       "      <th>0</th>\n",
       "      <td>glad</td>\n",
       "      <td>0.707042</td>\n",
       "      <td>0.559322</td>\n",
       "      <td>152</td>\n",
       "      <td>203</td>\n",
       "      <td>0.785714</td>\n",
       "      <td>0.434211</td>\n",
       "      <td>0.682657</td>\n",
       "      <td>0.911330</td>\n",
       "    </tr>\n",
       "  </tbody>\n",
       "</table>\n",
       "</div>"
      ],
      "text/plain": [
       "  dataset  accuracy   crop_f1 crop_support noncrop_support  crop_precision  \\\n",
       "0     cop  0.695775  0.571429          152             203        0.720000   \n",
       "0     esa  0.740845  0.606838          152             203        0.865854   \n",
       "0    glad  0.707042  0.559322          152             203        0.785714   \n",
       "\n",
       "   crop_recall  noncrop_precision  noncrop_recall  \n",
       "0     0.473684           0.686275        0.862069  \n",
       "0     0.467105           0.703297        0.945813  \n",
       "0     0.434211           0.682657        0.911330  "
      ]
     },
     "execution_count": 121,
     "metadata": {},
     "output_type": "execute_result"
    }
   ],
   "source": [
    "results[\"Togo\"]"
   ]
  }
 ],
 "metadata": {
  "kernelspec": {
   "display_name": "Python 3.8.8 ('intercomparison')",
   "language": "python",
   "name": "python3"
  },
  "language_info": {
   "codemirror_mode": {
    "name": "ipython",
    "version": 3
   },
   "file_extension": ".py",
   "mimetype": "text/x-python",
   "name": "python",
   "nbconvert_exporter": "python",
   "pygments_lexer": "ipython3",
   "version": "3.8.8"
  },
  "orig_nbformat": 4,
  "vscode": {
   "interpreter": {
    "hash": "b9a057a3c2bc11d9fb1a09bad675557d69c9743adf6ae74a67a8c76be0d35d72"
   }
  }
 },
 "nbformat": 4,
 "nbformat_minor": 2
}
