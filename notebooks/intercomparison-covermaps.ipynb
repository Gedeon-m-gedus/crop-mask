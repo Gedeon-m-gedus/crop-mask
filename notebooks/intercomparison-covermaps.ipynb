{
 "cells": [
  {
   "cell_type": "markdown",
   "metadata": {},
   "source": [
    "# Covermap Comparison\n",
    "\n",
    "**Author:** Adam Yang (ayang115@umd.edu)\n",
    "\n",
    "**Description:** Compares datasets against test sets\n",
    "\n",
    "**Crop Maps Used:** Harvest Togo & Kenya, Copernicus Land Cover, ESA CCI Land Cover Africa, GLAD Global Cropland Extent"
   ]
  },
  {
   "cell_type": "code",
   "execution_count": 1,
   "metadata": {},
   "outputs": [
    {
     "name": "stderr",
     "output_type": "stream",
     "text": [
      "c:\\Users\\adamf\\anaconda3\\envs\\intercomparison\\lib\\site-packages\\geopandas\\_compat.py:112: UserWarning: The Shapely GEOS version (3.8.0-CAPI-1.13.1 ) is incompatible with the GEOS version PyGEOS was compiled with (3.10.4-CAPI-1.16.2). Conversions between both will be slow.\n",
      "  warnings.warn(\n"
     ]
    }
   ],
   "source": [
    "import pandas as pd\n",
    "import numpy as np\n",
    "import geopandas as gpd\n",
    "import os\n",
    "import geemap\n",
    "import cartopy.io.shapereader as shpreader \n",
    "import matplotlib.pyplot as plt\n",
    "\n",
    "from pathlib import Path\n",
    "from shapely import wkt\n",
    "from sklearn.metrics import classification_report \n",
    "from shapely.geometry import Point, MultiPolygon, GeometryCollection \n"
   ]
  },
  {
   "cell_type": "code",
   "execution_count": 2,
   "metadata": {},
   "outputs": [
    {
     "data": {
      "text/html": [
       "<p>To authorize access needed by Earth Engine, open the following\n",
       "        URL in a web browser and follow the instructions:</p>\n",
       "        <p><a href=https://code.earthengine.google.com/client-auth?scopes=https%3A//www.googleapis.com/auth/earthengine%20https%3A//www.googleapis.com/auth/devstorage.full_control&request_id=pqOssXC84F30XXhm0BeRj2p_B09HzZyLoz2DSiuDY_w&tc=9HOjbSiM3X_kQEWqInOvpO3GGJqVQWJ25gndnowaFn0&cc=x-7UqUq2OWIzYrHSnEzFOLHO88Yj19LMCCwAYUM1mTE>https://code.earthengine.google.com/client-auth?scopes=https%3A//www.googleapis.com/auth/earthengine%20https%3A//www.googleapis.com/auth/devstorage.full_control&request_id=pqOssXC84F30XXhm0BeRj2p_B09HzZyLoz2DSiuDY_w&tc=9HOjbSiM3X_kQEWqInOvpO3GGJqVQWJ25gndnowaFn0&cc=x-7UqUq2OWIzYrHSnEzFOLHO88Yj19LMCCwAYUM1mTE</a></p>\n",
       "        <p>The authorization workflow will generate a code, which you should paste in the box below.</p>\n",
       "        "
      ],
      "text/plain": [
       "<IPython.core.display.HTML object>"
      ]
     },
     "metadata": {},
     "output_type": "display_data"
    },
    {
     "name": "stdout",
     "output_type": "stream",
     "text": [
      "\n",
      "Successfully saved authorization token.\n"
     ]
    }
   ],
   "source": [
    "import ee\n",
    "\n",
    "ee.Authenticate()\n",
    "\n",
    "ee.Initialize()"
   ]
  },
  {
   "attachments": {},
   "cell_type": "markdown",
   "metadata": {},
   "source": [
    "### **Setup**"
   ]
  },
  {
   "cell_type": "markdown",
   "metadata": {},
   "source": [
    "**Constants**"
   ]
  },
  {
   "cell_type": "code",
   "execution_count": 3,
   "metadata": {},
   "outputs": [],
   "source": [
    "TEST_COUNTRIES = [\"Kenya\", \"Togo\", \"Tanzania_CEO_2019\"]\n",
    "DATA_PATH = \"../data/datasets/\"\n",
    "TEST_CODE = {\"Kenya\": \"KEN\", \"Togo\": \"TGO\", \"Tanzania_CEO_2019\": \"TZA\"} # for NE boundaries"
   ]
  },
  {
   "cell_type": "code",
   "execution_count": 4,
   "metadata": {},
   "outputs": [],
   "source": [
    "DATASET_PATH = Path(DATA_PATH).glob(\"*\")\n",
    "TARGET_PATHS = [p for p in DATASET_PATH if p.stem in TEST_COUNTRIES] # test data path"
   ]
  },
  {
   "cell_type": "code",
   "execution_count": 5,
   "metadata": {},
   "outputs": [],
   "source": [
    "# country boundaries\n",
    "NE_GDF = gpd.read_file(\n",
    "    shpreader.natural_earth(\n",
    "        resolution='10m', \n",
    "        category='cultural', \n",
    "        name='admin_1_states_provinces')\n",
    ")\n"
   ]
  },
  {
   "cell_type": "markdown",
   "metadata": {},
   "source": [
    "**Functions**"
   ]
  },
  {
   "cell_type": "code",
   "execution_count": 6,
   "metadata": {},
   "outputs": [],
   "source": [
    "# Remaps classes to crop/noncrop \n",
    "def map_values(val, value_for_crop):\n",
    "    if val == value_for_crop:\n",
    "        return 1\n",
    "    else:\n",
    "        return 0"
   ]
  },
  {
   "cell_type": "code",
   "execution_count": 7,
   "metadata": {},
   "outputs": [],
   "source": [
    "# Function used in map function to extract from feature collection\n",
    "def raster_extraction(image, resolution, f_collection):\n",
    "    feature = image.sampleRegions(\n",
    "        collection = f_collection,\n",
    "        scale = resolution\n",
    "    )\n",
    "    return feature"
   ]
  },
  {
   "cell_type": "code",
   "execution_count": 8,
   "metadata": {},
   "outputs": [],
   "source": [
    "# Convert sklearn classification report dict to \n",
    "def report_to_row(dataset, report, df):\n",
    "    new_report = pd.DataFrame(data = {\n",
    "        \"dataset\": dataset, \n",
    "        \"accuracy\": report[\"accuracy\"], \n",
    "        \"crop_f1\": report[\"1\"][\"f1-score\"], \n",
    "        \"crop_support\": report[\"1\"][\"support\"], \n",
    "        \"noncrop_support\": report[\"0\"][\"support\"], \n",
    "        \"crop_precision\": report[\"1\"][\"precision\"], \n",
    "        \"crop_recall\": report[\"1\"][\"recall\"], \n",
    "        \"noncrop_precision\": report[\"0\"][\"precision\"], \n",
    "        \"noncrop_recall\": report[\"0\"][\"recall\"]\n",
    "        }, index=[0])\n",
    "    \n",
    "    return pd.concat([df, new_report])"
   ]
  },
  {
   "cell_type": "code",
   "execution_count": 9,
   "metadata": {},
   "outputs": [],
   "source": [
    "# Creates ee.Feature from longitude and latitude coordinates from a dataframe\n",
    "def create_point(row):\n",
    "    geom = ee.Geometry.Point(row['lon'], row['lat'])\n",
    "    prop = dict(row[['lon', 'lat', 'country', 'test_class']])\n",
    "\n",
    "    return ee.Feature(geom, prop)\n"
   ]
  },
  {
   "cell_type": "code",
   "execution_count": 10,
   "metadata": {},
   "outputs": [],
   "source": [
    "# filters out data in gdf that is not within country bounds \n",
    "def filter_by_bounds(country: str, gdf: gpd.GeoDataFrame):\n",
    "    boundary = NE_GDF.loc[NE_GDF['adm1_code'].str.startswith(country), :].copy()\n",
    "\n",
    "    if boundary.crs == None:\n",
    "        boundary = boundary.set_crs('epsg:4326')\n",
    "    if boundary.crs != 'epsg:4326':\n",
    "        boundary = boundary.to_crs('epsg:4326')\n",
    "\n",
    "    boundary = GeometryCollection([x for x in boundary['geometry']])\n",
    "\n",
    "    mask = gdf.within(boundary)\n",
    "    filtered = gdf.loc[mask].copy()\n",
    "\n",
    "    return filtered"
   ]
  },
  {
   "attachments": {},
   "cell_type": "markdown",
   "metadata": {},
   "source": [
    "### **Generate Test Data**"
   ]
  },
  {
   "cell_type": "code",
   "execution_count": 11,
   "metadata": {},
   "outputs": [],
   "source": [
    "#create a testing geodataframe\n",
    "def generate_test_data(target_paths: str):\n",
    "    test_gdf = gpd.GeoDataFrame(\n",
    "        columns=['lat', 'lon', 'country', 'test_class', 'geometry'], \n",
    "        crs = 'epsg:4326')\n",
    "\n",
    "    test_set = []\n",
    "    \n",
    "    for p in target_paths:\n",
    "        # Set dict key name\n",
    "        key = p.stem\n",
    "\n",
    "        # Read in data and extract test values and points \n",
    "        df = pd.read_csv(p)\n",
    "        df = df.loc[df['subset'] == 'testing']\n",
    "        df = df[['lat', 'lon', 'class_probability']]\n",
    "\n",
    "        # Recast points as 1 or 0 (threshold = 0.5)\n",
    "        df['test_class'] = df['class_probability'].apply(lambda x: 1 if x > 0.5 else 0)\n",
    "\n",
    "        df['country'] = key\n",
    "\n",
    "        #convert to geodataframe\n",
    "        df = gpd.GeoDataFrame(\n",
    "            df, \n",
    "            crs='epsg:4326', \n",
    "            geometry=gpd.points_from_xy(df.lon, df.lat)\n",
    "            )\n",
    "\n",
    "        df = filter_by_bounds(TEST_CODE[key], df)\n",
    "\n",
    "        test_set.append(df)\n",
    "\n",
    "    return pd.concat(test_set)"
   ]
  },
  {
   "cell_type": "code",
   "execution_count": 12,
   "metadata": {},
   "outputs": [],
   "source": [
    "# test_data = generate_test_data(TARGET_PATHS)"
   ]
  },
  {
   "cell_type": "code",
   "execution_count": 13,
   "metadata": {},
   "outputs": [],
   "source": [
    "# test_data.to_csv('../../intercomparison-data/test_data.csv')"
   ]
  },
  {
   "cell_type": "code",
   "execution_count": 14,
   "metadata": {},
   "outputs": [],
   "source": [
    "test_data = pd.read_csv(\"../../intercomparison-data/test_data.csv\").drop(\"Unnamed: 0\", axis=1)\n",
    "test_data[\"geometry\"] = test_data[\"geometry\"].apply(wkt.loads)\n",
    "test_data = gpd.GeoDataFrame(test_data)"
   ]
  },
  {
   "attachments": {},
   "cell_type": "markdown",
   "metadata": {},
   "source": [
    "Plot test points"
   ]
  },
  {
   "cell_type": "code",
   "execution_count": 23,
   "metadata": {},
   "outputs": [
    {
     "data": {
      "text/plain": [
       "<AxesSubplot:>"
      ]
     },
     "execution_count": 23,
     "metadata": {},
     "output_type": "execute_result"
    },
    {
     "data": {
      "image/png": "[encoded data removed]",
      "text/plain": [
       "<Figure size 720x720 with 1 Axes>"
      ]
     },
     "metadata": {
      "needs_background": "light"
     },
     "output_type": "display_data"
    }
   ],
   "source": [
    "KEN_mask = NE_GDF[NE_GDF[\"adm1_code\"].str.startswith(\"KEN\")].copy()\n",
    "TGO_mask = NE_GDF[NE_GDF[\"adm1_code\"].str.startswith(\"TGO\")].copy()\n",
    "TZA_mask = NE_GDF[NE_GDF[\"adm1_code\"].str.startswith(\"TZA\")].copy()\n",
    "masks = [KEN_mask, TZA_mask]\n",
    "\n",
    "# Make sure the shapefile has EPSG:4326, otherwise convert it\n",
    "for boundary in masks:\n",
    "    if boundary.crs == None:\n",
    "        boundary = boundary.set_crs('epsg:4326')\n",
    "    if boundary.crs != 'epsg:4326':\n",
    "        boundary = boundary.to_crs('epsg:4326')\n",
    "    boundary['roi'] = True\n",
    "    boundary.reset_index(inplace=True, drop=True)\n",
    "    boundary.dissolve('roi')\n",
    "\n",
    "df = gpd.GeoDataFrame(pd.concat(masks)).set_crs('epsg:4326')\n",
    "\n",
    "fig, ax = plt.subplots(figsize = (10,10))\n",
    "ax.set_facecolor(\"gray\")\n",
    "df[\"geometry\"].to_crs(epsg=4326).plot(ax=ax, color='lightgrey')\n",
    "test_data.plot(ax=ax, column='test_class', alpha=0.5, cmap='binary')"
   ]
  },
  {
   "attachments": {},
   "cell_type": "markdown",
   "metadata": {},
   "source": [
    "Support for each country"
   ]
  },
  {
   "cell_type": "code",
   "execution_count": 24,
   "metadata": {},
   "outputs": [
    {
     "name": "stdout",
     "output_type": "stream",
     "text": [
      "352 764 1537\n"
     ]
    }
   ],
   "source": [
    "print(\n",
    "    len(test_data[test_data['country']=='Togo']), \n",
    "    len(test_data[test_data['country']=='Kenya']), \n",
    "    len(test_data[test_data['country']=='Tanzania_CEO_2019'])\n",
    "    )"
   ]
  },
  {
   "attachments": {},
   "cell_type": "markdown",
   "metadata": {},
   "source": [
    "Assert no overlap"
   ]
  },
  {
   "cell_type": "code",
   "execution_count": 25,
   "metadata": {},
   "outputs": [],
   "source": [
    "tgo = test_data.loc[test_data['country']=='Togo'].copy()\n",
    "ken = test_data.loc[test_data['country']=='Kenya'].copy()\n",
    "tan = test_data.loc[test_data['country']=='Tanzania_CEO_2019'].copy()"
   ]
  },
  {
   "cell_type": "code",
   "execution_count": 26,
   "metadata": {},
   "outputs": [
    {
     "name": "stderr",
     "output_type": "stream",
     "text": [
      "c:\\Users\\adamf\\anaconda3\\envs\\intercomparison\\lib\\site-packages\\geopandas\\base.py:31: UserWarning: The indices of the two GeoSeries are different.\n",
      "  warn(\"The indices of the two GeoSeries are different.\")\n"
     ]
    }
   ],
   "source": [
    "assert ~ken.overlaps(tan).all(), \"Overlap detected!\"\n",
    "assert ~tan.overlaps(ken).all(), \"Overlap detected!\""
   ]
  },
  {
   "attachments": {},
   "cell_type": "markdown",
   "metadata": {},
   "source": [
    "Generate earth engine points"
   ]
  },
  {
   "cell_type": "code",
   "execution_count": 27,
   "metadata": {},
   "outputs": [],
   "source": [
    "test_coll = ee.FeatureCollection(test_data.apply(create_point, axis=1).to_list())"
   ]
  },
  {
   "cell_type": "code",
   "execution_count": 28,
   "metadata": {},
   "outputs": [
    {
     "data": {
      "text/html": [
       "<div>\n",
       "<style scoped>\n",
       "    .dataframe tbody tr th:only-of-type {\n",
       "        vertical-align: middle;\n",
       "    }\n",
       "\n",
       "    .dataframe tbody tr th {\n",
       "        vertical-align: top;\n",
       "    }\n",
       "\n",
       "    .dataframe thead th {\n",
       "        text-align: right;\n",
       "    }\n",
       "</style>\n",
       "<table border=\"1\" class=\"dataframe\">\n",
       "  <thead>\n",
       "    <tr style=\"text-align: right;\">\n",
       "      <th></th>\n",
       "      <th>lat</th>\n",
       "      <th>lon</th>\n",
       "      <th>class_probability</th>\n",
       "      <th>test_class</th>\n",
       "      <th>country</th>\n",
       "      <th>geometry</th>\n",
       "    </tr>\n",
       "  </thead>\n",
       "  <tbody>\n",
       "    <tr>\n",
       "      <th>0</th>\n",
       "      <td>0.725122</td>\n",
       "      <td>34.386282</td>\n",
       "      <td>0.00</td>\n",
       "      <td>0</td>\n",
       "      <td>Kenya</td>\n",
       "      <td>POINT (34.38628 0.72512)</td>\n",
       "    </tr>\n",
       "    <tr>\n",
       "      <th>1</th>\n",
       "      <td>0.621939</td>\n",
       "      <td>34.466496</td>\n",
       "      <td>0.00</td>\n",
       "      <td>0</td>\n",
       "      <td>Kenya</td>\n",
       "      <td>POINT (34.46650 0.62194)</td>\n",
       "    </tr>\n",
       "    <tr>\n",
       "      <th>2</th>\n",
       "      <td>0.226497</td>\n",
       "      <td>34.054859</td>\n",
       "      <td>0.00</td>\n",
       "      <td>0</td>\n",
       "      <td>Kenya</td>\n",
       "      <td>POINT (34.05486 0.22650)</td>\n",
       "    </tr>\n",
       "    <tr>\n",
       "      <th>3</th>\n",
       "      <td>0.096834</td>\n",
       "      <td>33.951959</td>\n",
       "      <td>0.00</td>\n",
       "      <td>0</td>\n",
       "      <td>Kenya</td>\n",
       "      <td>POINT (33.95196 0.09683)</td>\n",
       "    </tr>\n",
       "    <tr>\n",
       "      <th>4</th>\n",
       "      <td>0.032072</td>\n",
       "      <td>33.968469</td>\n",
       "      <td>0.00</td>\n",
       "      <td>0</td>\n",
       "      <td>Kenya</td>\n",
       "      <td>POINT (33.96847 0.03207)</td>\n",
       "    </tr>\n",
       "    <tr>\n",
       "      <th>...</th>\n",
       "      <td>...</td>\n",
       "      <td>...</td>\n",
       "      <td>...</td>\n",
       "      <td>...</td>\n",
       "      <td>...</td>\n",
       "      <td>...</td>\n",
       "    </tr>\n",
       "    <tr>\n",
       "      <th>2648</th>\n",
       "      <td>6.472810</td>\n",
       "      <td>1.502436</td>\n",
       "      <td>0.75</td>\n",
       "      <td>1</td>\n",
       "      <td>Togo</td>\n",
       "      <td>POINT (1.50244 6.47281)</td>\n",
       "    </tr>\n",
       "    <tr>\n",
       "      <th>2649</th>\n",
       "      <td>11.037647</td>\n",
       "      <td>0.048311</td>\n",
       "      <td>1.00</td>\n",
       "      <td>1</td>\n",
       "      <td>Togo</td>\n",
       "      <td>POINT (0.04831 11.03765)</td>\n",
       "    </tr>\n",
       "    <tr>\n",
       "      <th>2650</th>\n",
       "      <td>9.011538</td>\n",
       "      <td>1.493877</td>\n",
       "      <td>0.00</td>\n",
       "      <td>0</td>\n",
       "      <td>Togo</td>\n",
       "      <td>POINT (1.49388 9.01154)</td>\n",
       "    </tr>\n",
       "    <tr>\n",
       "      <th>2651</th>\n",
       "      <td>9.138645</td>\n",
       "      <td>1.391047</td>\n",
       "      <td>0.00</td>\n",
       "      <td>0</td>\n",
       "      <td>Togo</td>\n",
       "      <td>POINT (1.39105 9.13864)</td>\n",
       "    </tr>\n",
       "    <tr>\n",
       "      <th>2652</th>\n",
       "      <td>9.186742</td>\n",
       "      <td>1.344951</td>\n",
       "      <td>0.00</td>\n",
       "      <td>0</td>\n",
       "      <td>Togo</td>\n",
       "      <td>POINT (1.34495 9.18674)</td>\n",
       "    </tr>\n",
       "  </tbody>\n",
       "</table>\n",
       "<p>2653 rows × 6 columns</p>\n",
       "</div>"
      ],
      "text/plain": [
       "            lat        lon  class_probability  test_class country  \\\n",
       "0      0.725122  34.386282               0.00           0   Kenya   \n",
       "1      0.621939  34.466496               0.00           0   Kenya   \n",
       "2      0.226497  34.054859               0.00           0   Kenya   \n",
       "3      0.096834  33.951959               0.00           0   Kenya   \n",
       "4      0.032072  33.968469               0.00           0   Kenya   \n",
       "...         ...        ...                ...         ...     ...   \n",
       "2648   6.472810   1.502436               0.75           1    Togo   \n",
       "2649  11.037647   0.048311               1.00           1    Togo   \n",
       "2650   9.011538   1.493877               0.00           0    Togo   \n",
       "2651   9.138645   1.391047               0.00           0    Togo   \n",
       "2652   9.186742   1.344951               0.00           0    Togo   \n",
       "\n",
       "                      geometry  \n",
       "0     POINT (34.38628 0.72512)  \n",
       "1     POINT (34.46650 0.62194)  \n",
       "2     POINT (34.05486 0.22650)  \n",
       "3     POINT (33.95196 0.09683)  \n",
       "4     POINT (33.96847 0.03207)  \n",
       "...                        ...  \n",
       "2648   POINT (1.50244 6.47281)  \n",
       "2649  POINT (0.04831 11.03765)  \n",
       "2650   POINT (1.49388 9.01154)  \n",
       "2651   POINT (1.39105 9.13864)  \n",
       "2652   POINT (1.34495 9.18674)  \n",
       "\n",
       "[2653 rows x 6 columns]"
      ]
     },
     "execution_count": 28,
     "metadata": {},
     "output_type": "execute_result"
    }
   ],
   "source": [
    "test_data"
   ]
  },
  {
   "cell_type": "code",
   "execution_count": 29,
   "metadata": {},
   "outputs": [],
   "source": [
    "pos = test_coll.filter(\"test_class == 1\")\n",
    "neg = test_coll.filter(\"test_class == 0\")"
   ]
  },
  {
   "cell_type": "code",
   "execution_count": 30,
   "metadata": {},
   "outputs": [],
   "source": [
    "import geemap.colormaps as cm\n",
    "Map = geemap.Map(center=[8.7, 34.5], zoom=4)\n",
    "pallete = cm.palettes.dem\n",
    "vis_params = {'min': 0, 'max': 1, 'palette': pallete}\n",
    "\n",
    "Map.addLayer(pos, {'color': 'FFFFFF'})\n",
    "Map.addLayer(neg, {'color': '000000'})\n",
    "\n",
    "# Map"
   ]
  },
  {
   "attachments": {},
   "cell_type": "markdown",
   "metadata": {},
   "source": [
    "**Create dataframe for results**"
   ]
  },
  {
   "cell_type": "code",
   "execution_count": 31,
   "metadata": {},
   "outputs": [],
   "source": [
    "results = {}\n",
    "\n",
    "for p in TARGET_PATHS:\n",
    "    key = p.stem\n",
    "    results[key] = pd.DataFrame(columns=[\"dataset\", \"accuracy\", \"crop_f1\", \"crop_support\", \"noncrop_support\", \n",
    "        \"crop_precision\", \"crop_recall\", \"noncrop_precision\", \"noncrop_recall\"])\n"
   ]
  },
  {
   "attachments": {},
   "cell_type": "markdown",
   "metadata": {},
   "source": [
    "### **Harvest Data**"
   ]
  },
  {
   "cell_type": "code",
   "execution_count": 32,
   "metadata": {},
   "outputs": [],
   "source": [
    "HARVEST_PATHS = [\n",
    "    \"projects/sat-io/open-datasets/nasa-harvest/togo_cropland_binary\", \n",
    "    \"projects/sat-io/open-datasets/nasa-harvest/kenya_cropland_binary\",\n",
    "    \"users/adadebay/Tanzania_cropland_2019\"]"
   ]
  },
  {
   "cell_type": "code",
   "execution_count": 18,
   "metadata": {},
   "outputs": [
    {
     "name": "stdout",
     "output_type": "stream",
     "text": [
      "togo_cropland_binary\n",
      "kenya_cropland_binary\n",
      "Tanzania_cropland_2019\n"
     ]
    }
   ],
   "source": [
    "harvest = []\n",
    "for map in HARVEST_PATHS:\n",
    "    name = map.split('/')[-1]\n",
    "    print(name)\n",
    "\n",
    "    #sample from earth engine\n",
    "    sampled = ee.Image(map).sampleRegions(\n",
    "        collection=test_coll,\n",
    "        geometries=True\n",
    "    )\n",
    "    \n",
    "    #convert to dataframe\n",
    "    sampled = geemap.ee_to_gdf(sampled)\n",
    "    \n",
    "    #binarize \n",
    "    sampled[\"b1\"] = sampled[\"b1\"].apply(lambda x: 1 if x>0.5 else 0) \n",
    "\n",
    "    harvest.append(sampled)\n",
    "\n",
    "harvest = pd.concat(harvest)"
   ]
  },
  {
   "attachments": {},
   "cell_type": "markdown",
   "metadata": {},
   "source": [
    "Show difference in sampling"
   ]
  },
  {
   "cell_type": "code",
   "execution_count": 33,
   "metadata": {},
   "outputs": [],
   "source": [
    "test = test_data[['lat', 'lon', 'test_class', 'country']].copy()\n",
    "har = harvest[['lat', 'lon', 'test_class', 'country']].copy()"
   ]
  },
  {
   "cell_type": "code",
   "execution_count": 34,
   "metadata": {},
   "outputs": [],
   "source": [
    "har.reset_index(drop=True, inplace=True)"
   ]
  },
  {
   "cell_type": "code",
   "execution_count": 35,
   "metadata": {},
   "outputs": [
    {
     "data": {
      "text/plain": [
       "71"
      ]
     },
     "execution_count": 35,
     "metadata": {},
     "output_type": "execute_result"
    }
   ],
   "source": [
    "diff = test[~test.apply(tuple,1).isin(har.apply(tuple,1))]\n",
    "diff = gpd.GeoDataFrame(diff, crs='epsg:4326', geometry=gpd.points_from_xy(diff.lon, diff.lat))\n",
    "len(diff)"
   ]
  },
  {
   "cell_type": "code",
   "execution_count": 36,
   "metadata": {},
   "outputs": [
    {
     "data": {
      "text/plain": [
       "<AxesSubplot:>"
      ]
     },
     "execution_count": 36,
     "metadata": {},
     "output_type": "execute_result"
    },
    {
     "data": {
      "image/png": "[encoded data removed]",
      "text/plain": [
       "<Figure size 720x720 with 1 Axes>"
      ]
     },
     "metadata": {
      "needs_background": "light"
     },
     "output_type": "display_data"
    }
   ],
   "source": [
    "fig, ax = plt.subplots(figsize = (10,10))\n",
    "ax.set_facecolor(\"gray\")\n",
    "df[\"geometry\"].to_crs(epsg=4326).plot(ax=ax, color='lightgrey')\n",
    "diff.plot(ax=ax, column='test_class', alpha=0.5, cmap='binary')"
   ]
  },
  {
   "cell_type": "code",
   "execution_count": null,
   "metadata": {},
   "outputs": [],
   "source": [
    "# harvest.to_csv('../../intercomparison-data/harvest.csv')"
   ]
  },
  {
   "cell_type": "code",
   "execution_count": 70,
   "metadata": {},
   "outputs": [],
   "source": [
    "test_data[\"harvest\"] = pd.merge(test_data, harvest, on=[\"lat\", \"lon\"], how=\"left\")[\"b1\"]"
   ]
  },
  {
   "cell_type": "code",
   "execution_count": 71,
   "metadata": {},
   "outputs": [
    {
     "data": {
      "text/html": [
       "<div>\n",
       "<style scoped>\n",
       "    .dataframe tbody tr th:only-of-type {\n",
       "        vertical-align: middle;\n",
       "    }\n",
       "\n",
       "    .dataframe tbody tr th {\n",
       "        vertical-align: top;\n",
       "    }\n",
       "\n",
       "    .dataframe thead th {\n",
       "        text-align: right;\n",
       "    }\n",
       "</style>\n",
       "<table border=\"1\" class=\"dataframe\">\n",
       "  <thead>\n",
       "    <tr style=\"text-align: right;\">\n",
       "      <th></th>\n",
       "      <th>lat</th>\n",
       "      <th>lon</th>\n",
       "      <th>class_probability</th>\n",
       "      <th>test_class</th>\n",
       "      <th>country</th>\n",
       "      <th>geometry</th>\n",
       "      <th>cop</th>\n",
       "      <th>esa</th>\n",
       "      <th>harvest</th>\n",
       "    </tr>\n",
       "  </thead>\n",
       "  <tbody>\n",
       "    <tr>\n",
       "      <th>0</th>\n",
       "      <td>0.725122</td>\n",
       "      <td>34.386282</td>\n",
       "      <td>0.00</td>\n",
       "      <td>0</td>\n",
       "      <td>Kenya</td>\n",
       "      <td>POINT (34.38628 0.72512)</td>\n",
       "      <td>0</td>\n",
       "      <td>0</td>\n",
       "      <td>1.0</td>\n",
       "    </tr>\n",
       "    <tr>\n",
       "      <th>1</th>\n",
       "      <td>0.621939</td>\n",
       "      <td>34.466496</td>\n",
       "      <td>0.00</td>\n",
       "      <td>0</td>\n",
       "      <td>Kenya</td>\n",
       "      <td>POINT (34.46650 0.62194)</td>\n",
       "      <td>0</td>\n",
       "      <td>0</td>\n",
       "      <td>1.0</td>\n",
       "    </tr>\n",
       "    <tr>\n",
       "      <th>2</th>\n",
       "      <td>0.226497</td>\n",
       "      <td>34.054859</td>\n",
       "      <td>0.00</td>\n",
       "      <td>0</td>\n",
       "      <td>Kenya</td>\n",
       "      <td>POINT (34.05486 0.22650)</td>\n",
       "      <td>1</td>\n",
       "      <td>0</td>\n",
       "      <td>0.0</td>\n",
       "    </tr>\n",
       "    <tr>\n",
       "      <th>3</th>\n",
       "      <td>0.096834</td>\n",
       "      <td>33.951959</td>\n",
       "      <td>0.00</td>\n",
       "      <td>0</td>\n",
       "      <td>Kenya</td>\n",
       "      <td>POINT (33.95196 0.09683)</td>\n",
       "      <td>0</td>\n",
       "      <td>0</td>\n",
       "      <td>0.0</td>\n",
       "    </tr>\n",
       "    <tr>\n",
       "      <th>4</th>\n",
       "      <td>0.032072</td>\n",
       "      <td>33.968469</td>\n",
       "      <td>0.00</td>\n",
       "      <td>0</td>\n",
       "      <td>Kenya</td>\n",
       "      <td>POINT (33.96847 0.03207)</td>\n",
       "      <td>0</td>\n",
       "      <td>0</td>\n",
       "      <td>0.0</td>\n",
       "    </tr>\n",
       "    <tr>\n",
       "      <th>...</th>\n",
       "      <td>...</td>\n",
       "      <td>...</td>\n",
       "      <td>...</td>\n",
       "      <td>...</td>\n",
       "      <td>...</td>\n",
       "      <td>...</td>\n",
       "      <td>...</td>\n",
       "      <td>...</td>\n",
       "      <td>...</td>\n",
       "    </tr>\n",
       "    <tr>\n",
       "      <th>2648</th>\n",
       "      <td>6.472810</td>\n",
       "      <td>1.502436</td>\n",
       "      <td>0.75</td>\n",
       "      <td>1</td>\n",
       "      <td>Togo</td>\n",
       "      <td>POINT (1.50244 6.47281)</td>\n",
       "      <td>1</td>\n",
       "      <td>0</td>\n",
       "      <td>1.0</td>\n",
       "    </tr>\n",
       "    <tr>\n",
       "      <th>2649</th>\n",
       "      <td>11.037647</td>\n",
       "      <td>0.048311</td>\n",
       "      <td>1.00</td>\n",
       "      <td>1</td>\n",
       "      <td>Togo</td>\n",
       "      <td>POINT (0.04831 11.03765)</td>\n",
       "      <td>1</td>\n",
       "      <td>1</td>\n",
       "      <td>1.0</td>\n",
       "    </tr>\n",
       "    <tr>\n",
       "      <th>2650</th>\n",
       "      <td>9.011538</td>\n",
       "      <td>1.493877</td>\n",
       "      <td>0.00</td>\n",
       "      <td>0</td>\n",
       "      <td>Togo</td>\n",
       "      <td>POINT (1.49388 9.01154)</td>\n",
       "      <td>1</td>\n",
       "      <td>0</td>\n",
       "      <td>0.0</td>\n",
       "    </tr>\n",
       "    <tr>\n",
       "      <th>2651</th>\n",
       "      <td>9.138645</td>\n",
       "      <td>1.391047</td>\n",
       "      <td>0.00</td>\n",
       "      <td>0</td>\n",
       "      <td>Togo</td>\n",
       "      <td>POINT (1.39105 9.13864)</td>\n",
       "      <td>0</td>\n",
       "      <td>0</td>\n",
       "      <td>0.0</td>\n",
       "    </tr>\n",
       "    <tr>\n",
       "      <th>2652</th>\n",
       "      <td>9.186742</td>\n",
       "      <td>1.344951</td>\n",
       "      <td>0.00</td>\n",
       "      <td>0</td>\n",
       "      <td>Togo</td>\n",
       "      <td>POINT (1.34495 9.18674)</td>\n",
       "      <td>0</td>\n",
       "      <td>0</td>\n",
       "      <td>0.0</td>\n",
       "    </tr>\n",
       "  </tbody>\n",
       "</table>\n",
       "<p>2653 rows × 9 columns</p>\n",
       "</div>"
      ],
      "text/plain": [
       "            lat        lon  class_probability  test_class country  \\\n",
       "0      0.725122  34.386282               0.00           0   Kenya   \n",
       "1      0.621939  34.466496               0.00           0   Kenya   \n",
       "2      0.226497  34.054859               0.00           0   Kenya   \n",
       "3      0.096834  33.951959               0.00           0   Kenya   \n",
       "4      0.032072  33.968469               0.00           0   Kenya   \n",
       "...         ...        ...                ...         ...     ...   \n",
       "2648   6.472810   1.502436               0.75           1    Togo   \n",
       "2649  11.037647   0.048311               1.00           1    Togo   \n",
       "2650   9.011538   1.493877               0.00           0    Togo   \n",
       "2651   9.138645   1.391047               0.00           0    Togo   \n",
       "2652   9.186742   1.344951               0.00           0    Togo   \n",
       "\n",
       "                      geometry  cop  esa  harvest  \n",
       "0     POINT (34.38628 0.72512)    0    0      1.0  \n",
       "1     POINT (34.46650 0.62194)    0    0      1.0  \n",
       "2     POINT (34.05486 0.22650)    1    0      0.0  \n",
       "3     POINT (33.95196 0.09683)    0    0      0.0  \n",
       "4     POINT (33.96847 0.03207)    0    0      0.0  \n",
       "...                        ...  ...  ...      ...  \n",
       "2648   POINT (1.50244 6.47281)    1    0      1.0  \n",
       "2649  POINT (0.04831 11.03765)    1    1      1.0  \n",
       "2650   POINT (1.49388 9.01154)    1    0      0.0  \n",
       "2651   POINT (1.39105 9.13864)    0    0      0.0  \n",
       "2652   POINT (1.34495 9.18674)    0    0      0.0  \n",
       "\n",
       "[2653 rows x 9 columns]"
      ]
     },
     "execution_count": 71,
     "metadata": {},
     "output_type": "execute_result"
    }
   ],
   "source": [
    "test_data"
   ]
  },
  {
   "attachments": {},
   "cell_type": "markdown",
   "metadata": {},
   "source": [
    "### **COP, ESA, GLAD**"
   ]
  },
  {
   "cell_type": "code",
   "execution_count": 38,
   "metadata": {},
   "outputs": [],
   "source": [
    "# Load copernicus data\n",
    "copernicus = ee.ImageCollection(\"COPERNICUS/Landcover/100m/Proba-V-C3/Global\")"
   ]
  },
  {
   "cell_type": "code",
   "execution_count": 51,
   "metadata": {},
   "outputs": [
    {
     "data": {
      "text/html": [
       "<div>\n",
       "<style scoped>\n",
       "    .dataframe tbody tr th:only-of-type {\n",
       "        vertical-align: middle;\n",
       "    }\n",
       "\n",
       "    .dataframe tbody tr th {\n",
       "        vertical-align: top;\n",
       "    }\n",
       "\n",
       "    .dataframe thead th {\n",
       "        text-align: right;\n",
       "    }\n",
       "</style>\n",
       "<table border=\"1\" class=\"dataframe\">\n",
       "  <thead>\n",
       "    <tr style=\"text-align: right;\">\n",
       "      <th></th>\n",
       "      <th>geometry</th>\n",
       "      <th>country</th>\n",
       "      <th>discrete_classification</th>\n",
       "      <th>lat</th>\n",
       "      <th>lon</th>\n",
       "      <th>test_class</th>\n",
       "      <th>cop_class</th>\n",
       "    </tr>\n",
       "  </thead>\n",
       "  <tbody>\n",
       "    <tr>\n",
       "      <th>0</th>\n",
       "      <td>None</td>\n",
       "      <td>Kenya</td>\n",
       "      <td>126</td>\n",
       "      <td>0.725122</td>\n",
       "      <td>34.386282</td>\n",
       "      <td>0</td>\n",
       "      <td>0</td>\n",
       "    </tr>\n",
       "    <tr>\n",
       "      <th>1</th>\n",
       "      <td>None</td>\n",
       "      <td>Kenya</td>\n",
       "      <td>122</td>\n",
       "      <td>0.621939</td>\n",
       "      <td>34.466496</td>\n",
       "      <td>0</td>\n",
       "      <td>0</td>\n",
       "    </tr>\n",
       "    <tr>\n",
       "      <th>2</th>\n",
       "      <td>None</td>\n",
       "      <td>Kenya</td>\n",
       "      <td>40</td>\n",
       "      <td>0.226497</td>\n",
       "      <td>34.054859</td>\n",
       "      <td>0</td>\n",
       "      <td>1</td>\n",
       "    </tr>\n",
       "    <tr>\n",
       "      <th>3</th>\n",
       "      <td>None</td>\n",
       "      <td>Kenya</td>\n",
       "      <td>20</td>\n",
       "      <td>0.096834</td>\n",
       "      <td>33.951959</td>\n",
       "      <td>0</td>\n",
       "      <td>0</td>\n",
       "    </tr>\n",
       "    <tr>\n",
       "      <th>4</th>\n",
       "      <td>None</td>\n",
       "      <td>Kenya</td>\n",
       "      <td>80</td>\n",
       "      <td>0.032072</td>\n",
       "      <td>33.968469</td>\n",
       "      <td>0</td>\n",
       "      <td>0</td>\n",
       "    </tr>\n",
       "  </tbody>\n",
       "</table>\n",
       "</div>"
      ],
      "text/plain": [
       "  geometry country  discrete_classification       lat        lon  test_class  \\\n",
       "0     None   Kenya                      126  0.725122  34.386282           0   \n",
       "1     None   Kenya                      122  0.621939  34.466496           0   \n",
       "2     None   Kenya                       40  0.226497  34.054859           0   \n",
       "3     None   Kenya                       20  0.096834  33.951959           0   \n",
       "4     None   Kenya                       80  0.032072  33.968469           0   \n",
       "\n",
       "   cop_class  \n",
       "0          0  \n",
       "1          0  \n",
       "2          1  \n",
       "3          0  \n",
       "4          0  "
      ]
     },
     "execution_count": 51,
     "metadata": {},
     "output_type": "execute_result"
    }
   ],
   "source": [
    "cop_results = copernicus.select(\n",
    "    \"discrete_classification\").filterDate(\n",
    "        \"2019-01-01\", \"2020-01-01\").map(\n",
    "            lambda x: raster_extraction(x, 100, test_coll)).flatten()\n",
    "\n",
    "cop_sampled = geemap.ee_to_gdf(cop_results)\n",
    "cop_sampled[\"cop_class\"] = cop_sampled[\"discrete_classification\"].apply(lambda x: map_values(x, 40))\n",
    "cop_sampled.head()"
   ]
  },
  {
   "cell_type": "code",
   "execution_count": 53,
   "metadata": {},
   "outputs": [],
   "source": [
    "assert (np.sort(cop_sampled[['lat', 'lon']]) == np.sort(test_data[['lat','lon']])).all(), \"Point mismatch!\""
   ]
  },
  {
   "cell_type": "code",
   "execution_count": 54,
   "metadata": {},
   "outputs": [],
   "source": [
    "test_data[\"cop\"] = pd.merge(test_data, cop_sampled, on=[\"lat\", \"lon\"], how=\"left\")[\"cop_class\"]"
   ]
  },
  {
   "cell_type": "code",
   "execution_count": 55,
   "metadata": {},
   "outputs": [
    {
     "data": {
      "text/html": [
       "<div>\n",
       "<style scoped>\n",
       "    .dataframe tbody tr th:only-of-type {\n",
       "        vertical-align: middle;\n",
       "    }\n",
       "\n",
       "    .dataframe tbody tr th {\n",
       "        vertical-align: top;\n",
       "    }\n",
       "\n",
       "    .dataframe thead th {\n",
       "        text-align: right;\n",
       "    }\n",
       "</style>\n",
       "<table border=\"1\" class=\"dataframe\">\n",
       "  <thead>\n",
       "    <tr style=\"text-align: right;\">\n",
       "      <th></th>\n",
       "      <th>geometry</th>\n",
       "      <th>Map</th>\n",
       "      <th>country</th>\n",
       "      <th>lat</th>\n",
       "      <th>lon</th>\n",
       "      <th>test_class</th>\n",
       "      <th>esa_class</th>\n",
       "    </tr>\n",
       "  </thead>\n",
       "  <tbody>\n",
       "    <tr>\n",
       "      <th>0</th>\n",
       "      <td>None</td>\n",
       "      <td>20</td>\n",
       "      <td>Kenya</td>\n",
       "      <td>0.725122</td>\n",
       "      <td>34.386282</td>\n",
       "      <td>0</td>\n",
       "      <td>0</td>\n",
       "    </tr>\n",
       "    <tr>\n",
       "      <th>1</th>\n",
       "      <td>None</td>\n",
       "      <td>20</td>\n",
       "      <td>Kenya</td>\n",
       "      <td>0.621939</td>\n",
       "      <td>34.466496</td>\n",
       "      <td>0</td>\n",
       "      <td>0</td>\n",
       "    </tr>\n",
       "    <tr>\n",
       "      <th>2</th>\n",
       "      <td>None</td>\n",
       "      <td>30</td>\n",
       "      <td>Kenya</td>\n",
       "      <td>0.226497</td>\n",
       "      <td>34.054859</td>\n",
       "      <td>0</td>\n",
       "      <td>0</td>\n",
       "    </tr>\n",
       "    <tr>\n",
       "      <th>3</th>\n",
       "      <td>None</td>\n",
       "      <td>30</td>\n",
       "      <td>Kenya</td>\n",
       "      <td>0.096834</td>\n",
       "      <td>33.951959</td>\n",
       "      <td>0</td>\n",
       "      <td>0</td>\n",
       "    </tr>\n",
       "    <tr>\n",
       "      <th>4</th>\n",
       "      <td>None</td>\n",
       "      <td>80</td>\n",
       "      <td>Kenya</td>\n",
       "      <td>0.032072</td>\n",
       "      <td>33.968469</td>\n",
       "      <td>0</td>\n",
       "      <td>0</td>\n",
       "    </tr>\n",
       "  </tbody>\n",
       "</table>\n",
       "</div>"
      ],
      "text/plain": [
       "  geometry  Map country       lat        lon  test_class  esa_class\n",
       "0     None   20   Kenya  0.725122  34.386282           0          0\n",
       "1     None   20   Kenya  0.621939  34.466496           0          0\n",
       "2     None   30   Kenya  0.226497  34.054859           0          0\n",
       "3     None   30   Kenya  0.096834  33.951959           0          0\n",
       "4     None   80   Kenya  0.032072  33.968469           0          0"
      ]
     },
     "execution_count": 55,
     "metadata": {},
     "output_type": "execute_result"
    }
   ],
   "source": [
    "esa = ee.ImageCollection(\"ESA/WorldCover/v100\")\n",
    "esa_results = esa.filterBounds(test_coll).map(lambda x: raster_extraction(x, 10, test_coll)).flatten()\n",
    "esa_sampled = geemap.ee_to_gdf(esa_results)\n",
    "esa_sampled[\"esa_class\"] = esa_sampled[\"Map\"].apply(lambda x: map_values(x, 40))\n",
    "esa_sampled.head()"
   ]
  },
  {
   "cell_type": "code",
   "execution_count": 56,
   "metadata": {},
   "outputs": [],
   "source": [
    "assert (np.sort(esa_sampled[['lat', 'lon']]) == np.sort(test_data[['lat','lon']])).all(), \"Point mismatch!\""
   ]
  },
  {
   "cell_type": "code",
   "execution_count": 57,
   "metadata": {},
   "outputs": [],
   "source": [
    "test_data[\"esa\"] = pd.merge(test_data, esa_sampled, on=[\"lat\", \"lon\"], how=\"left\")[\"esa_class\"]"
   ]
  },
  {
   "cell_type": "code",
   "execution_count": 73,
   "metadata": {},
   "outputs": [
    {
     "data": {
      "text/html": [
       "<div>\n",
       "<style scoped>\n",
       "    .dataframe tbody tr th:only-of-type {\n",
       "        vertical-align: middle;\n",
       "    }\n",
       "\n",
       "    .dataframe tbody tr th {\n",
       "        vertical-align: top;\n",
       "    }\n",
       "\n",
       "    .dataframe thead th {\n",
       "        text-align: right;\n",
       "    }\n",
       "</style>\n",
       "<table border=\"1\" class=\"dataframe\">\n",
       "  <thead>\n",
       "    <tr style=\"text-align: right;\">\n",
       "      <th></th>\n",
       "      <th>geometry</th>\n",
       "      <th>b1</th>\n",
       "      <th>country</th>\n",
       "      <th>lat</th>\n",
       "      <th>lon</th>\n",
       "      <th>test_class</th>\n",
       "    </tr>\n",
       "  </thead>\n",
       "  <tbody>\n",
       "    <tr>\n",
       "      <th>0</th>\n",
       "      <td>None</td>\n",
       "      <td>1</td>\n",
       "      <td>Kenya</td>\n",
       "      <td>0.725122</td>\n",
       "      <td>34.386282</td>\n",
       "      <td>0</td>\n",
       "    </tr>\n",
       "    <tr>\n",
       "      <th>1</th>\n",
       "      <td>None</td>\n",
       "      <td>0</td>\n",
       "      <td>Kenya</td>\n",
       "      <td>0.621939</td>\n",
       "      <td>34.466496</td>\n",
       "      <td>0</td>\n",
       "    </tr>\n",
       "    <tr>\n",
       "      <th>2</th>\n",
       "      <td>None</td>\n",
       "      <td>0</td>\n",
       "      <td>Kenya</td>\n",
       "      <td>0.226497</td>\n",
       "      <td>34.054859</td>\n",
       "      <td>0</td>\n",
       "    </tr>\n",
       "    <tr>\n",
       "      <th>3</th>\n",
       "      <td>None</td>\n",
       "      <td>0</td>\n",
       "      <td>Kenya</td>\n",
       "      <td>0.096834</td>\n",
       "      <td>33.951959</td>\n",
       "      <td>0</td>\n",
       "    </tr>\n",
       "    <tr>\n",
       "      <th>4</th>\n",
       "      <td>None</td>\n",
       "      <td>0</td>\n",
       "      <td>Kenya</td>\n",
       "      <td>0.032072</td>\n",
       "      <td>33.968469</td>\n",
       "      <td>0</td>\n",
       "    </tr>\n",
       "  </tbody>\n",
       "</table>\n",
       "</div>"
      ],
      "text/plain": [
       "  geometry  b1 country       lat        lon  test_class\n",
       "0     None   1   Kenya  0.725122  34.386282           0\n",
       "1     None   0   Kenya  0.621939  34.466496           0\n",
       "2     None   0   Kenya  0.226497  34.054859           0\n",
       "3     None   0   Kenya  0.096834  33.951959           0\n",
       "4     None   0   Kenya  0.032072  33.968469           0"
      ]
     },
     "execution_count": 73,
     "metadata": {},
     "output_type": "execute_result"
    }
   ],
   "source": [
    "glad = ee.ImageCollection(\"users/potapovpeter/Global_cropland_2019\")\n",
    "glad_results = glad.filterBounds(test_coll).map(lambda x: raster_extraction(x, 30, test_coll)).flatten()\n",
    "glad_sampled = geemap.ee_to_gdf(glad_results)\n",
    "glad_sampled.head()"
   ]
  },
  {
   "cell_type": "code",
   "execution_count": 75,
   "metadata": {},
   "outputs": [],
   "source": [
    "glad_diff = glad_sampled[['lat', 'lon']].compare(test_data[['lat','lon']], )"
   ]
  },
  {
   "cell_type": "code",
   "execution_count": 76,
   "metadata": {},
   "outputs": [
    {
     "data": {
      "text/html": [
       "<div>\n",
       "<style scoped>\n",
       "    .dataframe tbody tr th:only-of-type {\n",
       "        vertical-align: middle;\n",
       "    }\n",
       "\n",
       "    .dataframe tbody tr th {\n",
       "        vertical-align: top;\n",
       "    }\n",
       "\n",
       "    .dataframe thead tr th {\n",
       "        text-align: left;\n",
       "    }\n",
       "</style>\n",
       "<table border=\"1\" class=\"dataframe\">\n",
       "  <thead>\n",
       "    <tr>\n",
       "      <th></th>\n",
       "      <th colspan=\"2\" halign=\"left\">lat</th>\n",
       "      <th colspan=\"2\" halign=\"left\">lon</th>\n",
       "    </tr>\n",
       "    <tr>\n",
       "      <th></th>\n",
       "      <th>self</th>\n",
       "      <th>other</th>\n",
       "      <th>self</th>\n",
       "      <th>other</th>\n",
       "    </tr>\n",
       "  </thead>\n",
       "  <tbody>\n",
       "    <tr>\n",
       "      <th>76</th>\n",
       "      <td>0.206487</td>\n",
       "      <td>-0.698091</td>\n",
       "      <td>35.004402</td>\n",
       "      <td>34.215673</td>\n",
       "    </tr>\n",
       "    <tr>\n",
       "      <th>77</th>\n",
       "      <td>0.064104</td>\n",
       "      <td>-4.104944</td>\n",
       "      <td>34.732424</td>\n",
       "      <td>39.648091</td>\n",
       "    </tr>\n",
       "    <tr>\n",
       "      <th>78</th>\n",
       "      <td>0.869092</td>\n",
       "      <td>-4.000159</td>\n",
       "      <td>35.486988</td>\n",
       "      <td>39.625765</td>\n",
       "    </tr>\n",
       "    <tr>\n",
       "      <th>79</th>\n",
       "      <td>1.300039</td>\n",
       "      <td>-1.237275</td>\n",
       "      <td>35.823250</td>\n",
       "      <td>37.563808</td>\n",
       "    </tr>\n",
       "    <tr>\n",
       "      <th>80</th>\n",
       "      <td>3.876416</td>\n",
       "      <td>0.206487</td>\n",
       "      <td>35.913137</td>\n",
       "      <td>35.004402</td>\n",
       "    </tr>\n",
       "    <tr>\n",
       "      <th>...</th>\n",
       "      <td>...</td>\n",
       "      <td>...</td>\n",
       "      <td>...</td>\n",
       "      <td>...</td>\n",
       "    </tr>\n",
       "    <tr>\n",
       "      <th>2648</th>\n",
       "      <td>-2.998368</td>\n",
       "      <td>6.472810</td>\n",
       "      <td>35.976357</td>\n",
       "      <td>1.502436</td>\n",
       "    </tr>\n",
       "    <tr>\n",
       "      <th>2649</th>\n",
       "      <td>-2.996376</td>\n",
       "      <td>11.037647</td>\n",
       "      <td>35.982109</td>\n",
       "      <td>0.048311</td>\n",
       "    </tr>\n",
       "    <tr>\n",
       "      <th>2650</th>\n",
       "      <td>-2.998963</td>\n",
       "      <td>9.011538</td>\n",
       "      <td>35.979944</td>\n",
       "      <td>1.493877</td>\n",
       "    </tr>\n",
       "    <tr>\n",
       "      <th>2651</th>\n",
       "      <td>-2.997940</td>\n",
       "      <td>9.138645</td>\n",
       "      <td>35.984116</td>\n",
       "      <td>1.391047</td>\n",
       "    </tr>\n",
       "    <tr>\n",
       "      <th>2652</th>\n",
       "      <td>-4.968315</td>\n",
       "      <td>9.186742</td>\n",
       "      <td>34.494156</td>\n",
       "      <td>1.344951</td>\n",
       "    </tr>\n",
       "  </tbody>\n",
       "</table>\n",
       "<p>2577 rows × 4 columns</p>\n",
       "</div>"
      ],
      "text/plain": [
       "           lat                   lon           \n",
       "          self      other       self      other\n",
       "76    0.206487  -0.698091  35.004402  34.215673\n",
       "77    0.064104  -4.104944  34.732424  39.648091\n",
       "78    0.869092  -4.000159  35.486988  39.625765\n",
       "79    1.300039  -1.237275  35.823250  37.563808\n",
       "80    3.876416   0.206487  35.913137  35.004402\n",
       "...        ...        ...        ...        ...\n",
       "2648 -2.998368   6.472810  35.976357   1.502436\n",
       "2649 -2.996376  11.037647  35.982109   0.048311\n",
       "2650 -2.998963   9.011538  35.979944   1.493877\n",
       "2651 -2.997940   9.138645  35.984116   1.391047\n",
       "2652 -4.968315   9.186742  34.494156   1.344951\n",
       "\n",
       "[2577 rows x 4 columns]"
      ]
     },
     "execution_count": 76,
     "metadata": {},
     "output_type": "execute_result"
    }
   ],
   "source": [
    "glad_diff"
   ]
  },
  {
   "cell_type": "code",
   "execution_count": 77,
   "metadata": {},
   "outputs": [],
   "source": [
    "test_data['glad'] = pd.merge(test_data, glad_sampled, on=[\"lat\", \"lon\"], how=\"left\")[\"b1\"]"
   ]
  },
  {
   "cell_type": "code",
   "execution_count": 78,
   "metadata": {},
   "outputs": [],
   "source": [
    "test_data.to_csv('test.csv')"
   ]
  },
  {
   "cell_type": "markdown",
   "metadata": {},
   "source": [
    "## **Evaluation Results**"
   ]
  },
  {
   "cell_type": "markdown",
   "metadata": {},
   "source": [
    "**Compute results**"
   ]
  },
  {
   "cell_type": "code",
   "execution_count": 79,
   "metadata": {},
   "outputs": [
    {
     "name": "stdout",
     "output_type": "stream",
     "text": [
      "Kenya: cop\n",
      "Kenya: esa\n",
      "Kenya: glad\n",
      "Kenya: harvest\n",
      "Tanzania_CEO_2019: cop\n",
      "Tanzania_CEO_2019: esa\n",
      "Tanzania_CEO_2019: glad\n",
      "Tanzania_CEO_2019: harvest\n",
      "Togo: cop\n",
      "Togo: esa\n",
      "Togo: glad\n",
      "Togo: harvest\n"
     ]
    }
   ],
   "source": [
    "for country, df in test_data.groupby(\"country\"):\n",
    "    for dataset in [\"cop\", \"esa\", \"glad\", 'harvest']:\n",
    "        print(country + \": \" + dataset)\n",
    "        # Remove na values\n",
    "        temp = df[[\"test_class\", dataset]].dropna()\n",
    "        report = classification_report(temp[\"test_class\"], temp[dataset], output_dict= True)     \n",
    "\n",
    "        results[country] = report_to_row(dataset, report, results[country])"
   ]
  },
  {
   "cell_type": "markdown",
   "metadata": {},
   "source": [
    "**Kenya**"
   ]
  },
  {
   "cell_type": "code",
   "execution_count": 80,
   "metadata": {},
   "outputs": [
    {
     "data": {
      "text/html": [
       "<div>\n",
       "<style scoped>\n",
       "    .dataframe tbody tr th:only-of-type {\n",
       "        vertical-align: middle;\n",
       "    }\n",
       "\n",
       "    .dataframe tbody tr th {\n",
       "        vertical-align: top;\n",
       "    }\n",
       "\n",
       "    .dataframe thead th {\n",
       "        text-align: right;\n",
       "    }\n",
       "</style>\n",
       "<table border=\"1\" class=\"dataframe\">\n",
       "  <thead>\n",
       "    <tr style=\"text-align: right;\">\n",
       "      <th></th>\n",
       "      <th>dataset</th>\n",
       "      <th>accuracy</th>\n",
       "      <th>crop_f1</th>\n",
       "      <th>crop_support</th>\n",
       "      <th>noncrop_support</th>\n",
       "      <th>crop_precision</th>\n",
       "      <th>crop_recall</th>\n",
       "      <th>noncrop_precision</th>\n",
       "      <th>noncrop_recall</th>\n",
       "    </tr>\n",
       "  </thead>\n",
       "  <tbody>\n",
       "    <tr>\n",
       "      <th>0</th>\n",
       "      <td>cop</td>\n",
       "      <td>0.908377</td>\n",
       "      <td>0.939446</td>\n",
       "      <td>571</td>\n",
       "      <td>193</td>\n",
       "      <td>0.928205</td>\n",
       "      <td>0.950963</td>\n",
       "      <td>0.843575</td>\n",
       "      <td>0.782383</td>\n",
       "    </tr>\n",
       "    <tr>\n",
       "      <th>0</th>\n",
       "      <td>esa</td>\n",
       "      <td>0.403141</td>\n",
       "      <td>0.341040</td>\n",
       "      <td>571</td>\n",
       "      <td>193</td>\n",
       "      <td>0.975207</td>\n",
       "      <td>0.206655</td>\n",
       "      <td>0.295490</td>\n",
       "      <td>0.984456</td>\n",
       "    </tr>\n",
       "    <tr>\n",
       "      <th>0</th>\n",
       "      <td>glad</td>\n",
       "      <td>0.839005</td>\n",
       "      <td>0.887259</td>\n",
       "      <td>571</td>\n",
       "      <td>193</td>\n",
       "      <td>0.930769</td>\n",
       "      <td>0.847636</td>\n",
       "      <td>0.643443</td>\n",
       "      <td>0.813472</td>\n",
       "    </tr>\n",
       "    <tr>\n",
       "      <th>0</th>\n",
       "      <td>harvest</td>\n",
       "      <td>0.952654</td>\n",
       "      <td>0.968054</td>\n",
       "      <td>520</td>\n",
       "      <td>177</td>\n",
       "      <td>0.974659</td>\n",
       "      <td>0.961538</td>\n",
       "      <td>0.891304</td>\n",
       "      <td>0.926554</td>\n",
       "    </tr>\n",
       "  </tbody>\n",
       "</table>\n",
       "</div>"
      ],
      "text/plain": [
       "   dataset  accuracy   crop_f1 crop_support noncrop_support  crop_precision  \\\n",
       "0      cop  0.908377  0.939446          571             193        0.928205   \n",
       "0      esa  0.403141  0.341040          571             193        0.975207   \n",
       "0     glad  0.839005  0.887259          571             193        0.930769   \n",
       "0  harvest  0.952654  0.968054          520             177        0.974659   \n",
       "\n",
       "   crop_recall  noncrop_precision  noncrop_recall  \n",
       "0     0.950963           0.843575        0.782383  \n",
       "0     0.206655           0.295490        0.984456  \n",
       "0     0.847636           0.643443        0.813472  \n",
       "0     0.961538           0.891304        0.926554  "
      ]
     },
     "execution_count": 80,
     "metadata": {},
     "output_type": "execute_result"
    }
   ],
   "source": [
    "results[\"Kenya\"]"
   ]
  },
  {
   "cell_type": "markdown",
   "metadata": {},
   "source": [
    "**Togo**"
   ]
  },
  {
   "cell_type": "code",
   "execution_count": 81,
   "metadata": {},
   "outputs": [
    {
     "data": {
      "text/html": [
       "<div>\n",
       "<style scoped>\n",
       "    .dataframe tbody tr th:only-of-type {\n",
       "        vertical-align: middle;\n",
       "    }\n",
       "\n",
       "    .dataframe tbody tr th {\n",
       "        vertical-align: top;\n",
       "    }\n",
       "\n",
       "    .dataframe thead th {\n",
       "        text-align: right;\n",
       "    }\n",
       "</style>\n",
       "<table border=\"1\" class=\"dataframe\">\n",
       "  <thead>\n",
       "    <tr style=\"text-align: right;\">\n",
       "      <th></th>\n",
       "      <th>dataset</th>\n",
       "      <th>accuracy</th>\n",
       "      <th>crop_f1</th>\n",
       "      <th>crop_support</th>\n",
       "      <th>noncrop_support</th>\n",
       "      <th>crop_precision</th>\n",
       "      <th>crop_recall</th>\n",
       "      <th>noncrop_precision</th>\n",
       "      <th>noncrop_recall</th>\n",
       "    </tr>\n",
       "  </thead>\n",
       "  <tbody>\n",
       "    <tr>\n",
       "      <th>0</th>\n",
       "      <td>cop</td>\n",
       "      <td>0.730114</td>\n",
       "      <td>0.541063</td>\n",
       "      <td>107</td>\n",
       "      <td>245</td>\n",
       "      <td>0.560000</td>\n",
       "      <td>0.523364</td>\n",
       "      <td>0.797619</td>\n",
       "      <td>0.820408</td>\n",
       "    </tr>\n",
       "    <tr>\n",
       "      <th>0</th>\n",
       "      <td>esa</td>\n",
       "      <td>0.792614</td>\n",
       "      <td>0.613757</td>\n",
       "      <td>107</td>\n",
       "      <td>245</td>\n",
       "      <td>0.707317</td>\n",
       "      <td>0.542056</td>\n",
       "      <td>0.818519</td>\n",
       "      <td>0.902041</td>\n",
       "    </tr>\n",
       "    <tr>\n",
       "      <th>0</th>\n",
       "      <td>glad</td>\n",
       "      <td>0.781250</td>\n",
       "      <td>0.596859</td>\n",
       "      <td>107</td>\n",
       "      <td>245</td>\n",
       "      <td>0.678571</td>\n",
       "      <td>0.532710</td>\n",
       "      <td>0.813433</td>\n",
       "      <td>0.889796</td>\n",
       "    </tr>\n",
       "    <tr>\n",
       "      <th>0</th>\n",
       "      <td>harvest</td>\n",
       "      <td>0.747159</td>\n",
       "      <td>0.659004</td>\n",
       "      <td>107</td>\n",
       "      <td>245</td>\n",
       "      <td>0.558442</td>\n",
       "      <td>0.803738</td>\n",
       "      <td>0.893939</td>\n",
       "      <td>0.722449</td>\n",
       "    </tr>\n",
       "  </tbody>\n",
       "</table>\n",
       "</div>"
      ],
      "text/plain": [
       "   dataset  accuracy   crop_f1 crop_support noncrop_support  crop_precision  \\\n",
       "0      cop  0.730114  0.541063          107             245        0.560000   \n",
       "0      esa  0.792614  0.613757          107             245        0.707317   \n",
       "0     glad  0.781250  0.596859          107             245        0.678571   \n",
       "0  harvest  0.747159  0.659004          107             245        0.558442   \n",
       "\n",
       "   crop_recall  noncrop_precision  noncrop_recall  \n",
       "0     0.523364           0.797619        0.820408  \n",
       "0     0.542056           0.818519        0.902041  \n",
       "0     0.532710           0.813433        0.889796  \n",
       "0     0.803738           0.893939        0.722449  "
      ]
     },
     "execution_count": 81,
     "metadata": {},
     "output_type": "execute_result"
    }
   ],
   "source": [
    "results[\"Togo\"]"
   ]
  },
  {
   "cell_type": "markdown",
   "metadata": {},
   "source": [
    "**Tanzania**"
   ]
  },
  {
   "cell_type": "code",
   "execution_count": 82,
   "metadata": {},
   "outputs": [
    {
     "data": {
      "text/html": [
       "<div>\n",
       "<style scoped>\n",
       "    .dataframe tbody tr th:only-of-type {\n",
       "        vertical-align: middle;\n",
       "    }\n",
       "\n",
       "    .dataframe tbody tr th {\n",
       "        vertical-align: top;\n",
       "    }\n",
       "\n",
       "    .dataframe thead th {\n",
       "        text-align: right;\n",
       "    }\n",
       "</style>\n",
       "<table border=\"1\" class=\"dataframe\">\n",
       "  <thead>\n",
       "    <tr style=\"text-align: right;\">\n",
       "      <th></th>\n",
       "      <th>dataset</th>\n",
       "      <th>accuracy</th>\n",
       "      <th>crop_f1</th>\n",
       "      <th>crop_support</th>\n",
       "      <th>noncrop_support</th>\n",
       "      <th>crop_precision</th>\n",
       "      <th>crop_recall</th>\n",
       "      <th>noncrop_precision</th>\n",
       "      <th>noncrop_recall</th>\n",
       "    </tr>\n",
       "  </thead>\n",
       "  <tbody>\n",
       "    <tr>\n",
       "      <th>0</th>\n",
       "      <td>cop</td>\n",
       "      <td>0.782694</td>\n",
       "      <td>0.651357</td>\n",
       "      <td>431</td>\n",
       "      <td>1106</td>\n",
       "      <td>0.592030</td>\n",
       "      <td>0.723898</td>\n",
       "      <td>0.882178</td>\n",
       "      <td>0.805606</td>\n",
       "    </tr>\n",
       "    <tr>\n",
       "      <th>0</th>\n",
       "      <td>esa</td>\n",
       "      <td>0.824984</td>\n",
       "      <td>0.706652</td>\n",
       "      <td>431</td>\n",
       "      <td>1106</td>\n",
       "      <td>0.666667</td>\n",
       "      <td>0.751740</td>\n",
       "      <td>0.898192</td>\n",
       "      <td>0.853526</td>\n",
       "    </tr>\n",
       "    <tr>\n",
       "      <th>0</th>\n",
       "      <td>glad</td>\n",
       "      <td>0.797007</td>\n",
       "      <td>0.647856</td>\n",
       "      <td>431</td>\n",
       "      <td>1106</td>\n",
       "      <td>0.630769</td>\n",
       "      <td>0.665893</td>\n",
       "      <td>0.866913</td>\n",
       "      <td>0.848101</td>\n",
       "    </tr>\n",
       "    <tr>\n",
       "      <th>0</th>\n",
       "      <td>harvest</td>\n",
       "      <td>0.784736</td>\n",
       "      <td>0.644397</td>\n",
       "      <td>431</td>\n",
       "      <td>1102</td>\n",
       "      <td>0.601610</td>\n",
       "      <td>0.693735</td>\n",
       "      <td>0.872587</td>\n",
       "      <td>0.820327</td>\n",
       "    </tr>\n",
       "  </tbody>\n",
       "</table>\n",
       "</div>"
      ],
      "text/plain": [
       "   dataset  accuracy   crop_f1 crop_support noncrop_support  crop_precision  \\\n",
       "0      cop  0.782694  0.651357          431            1106        0.592030   \n",
       "0      esa  0.824984  0.706652          431            1106        0.666667   \n",
       "0     glad  0.797007  0.647856          431            1106        0.630769   \n",
       "0  harvest  0.784736  0.644397          431            1102        0.601610   \n",
       "\n",
       "   crop_recall  noncrop_precision  noncrop_recall  \n",
       "0     0.723898           0.882178        0.805606  \n",
       "0     0.751740           0.898192        0.853526  \n",
       "0     0.665893           0.866913        0.848101  \n",
       "0     0.693735           0.872587        0.820327  "
      ]
     },
     "execution_count": 82,
     "metadata": {},
     "output_type": "execute_result"
    }
   ],
   "source": [
    "results[\"Tanzania_CEO_2019\"]"
   ]
  },
  {
   "attachments": {},
   "cell_type": "markdown",
   "metadata": {},
   "source": [
    "## ***TESTING ZONE***"
   ]
  },
  {
   "cell_type": "markdown",
   "metadata": {},
   "source": [
    "Codes of interest:\n",
    "* Kenya : KEN\n",
    "* Togo: TGO\n",
    "* Tanzania: TZA"
   ]
  },
  {
   "cell_type": "code",
   "execution_count": null,
   "metadata": {},
   "outputs": [],
   "source": [
    "extracted = pd.read_csv(\"../../intercomparison-data/extracted.csv\").drop(\"Unnamed: 0\", axis=1)\n",
    "extracted[\"geometry\"] = extracted[\"geometry\"].apply(wkt.loads)\n",
    "extracted = gpd.GeoDataFrame(extracted)"
   ]
  },
  {
   "cell_type": "code",
   "execution_count": null,
   "metadata": {},
   "outputs": [],
   "source": [
    "ne_shapefile = shpreader.natural_earth(resolution='10m', category='cultural', name='admin_1_states_provinces')\n",
    "ne_gdf = gpd.read_file(ne_shapefile)"
   ]
  },
  {
   "cell_type": "code",
   "execution_count": null,
   "metadata": {},
   "outputs": [],
   "source": [
    "KEN_mask = ne_gdf[ne_gdf[\"adm1_code\"].str.startswith(\"KEN\")].copy()\n",
    "TGO_mask = ne_gdf[ne_gdf[\"adm1_code\"].str.startswith(\"TGO\")].copy()\n",
    "TZA_mask = ne_gdf[ne_gdf[\"adm1_code\"].str.startswith(\"TZA\")].copy()\n",
    "masks = [KEN_mask, TZA_mask]"
   ]
  },
  {
   "cell_type": "code",
   "execution_count": null,
   "metadata": {},
   "outputs": [],
   "source": [
    "# Make sure the shapefile has EPSG:4326, otherwise convert it\n",
    "for boundary in masks:\n",
    "    if boundary.crs == None:\n",
    "        boundary = boundary.set_crs('epsg:4326')\n",
    "    if boundary.crs != 'epsg:4326':\n",
    "        boundary = boundary.to_crs('epsg:4326')\n",
    "    boundary['roi'] = True\n",
    "    boundary.reset_index(inplace=True, drop=True)\n",
    "    boundary.dissolve('roi')"
   ]
  },
  {
   "cell_type": "code",
   "execution_count": null,
   "metadata": {},
   "outputs": [],
   "source": [
    "df = gpd.GeoDataFrame(pd.concat(masks)).set_crs('epsg:4326')"
   ]
  },
  {
   "cell_type": "code",
   "execution_count": null,
   "metadata": {},
   "outputs": [],
   "source": [
    "np.unique(test_data['country'])"
   ]
  },
  {
   "cell_type": "code",
   "execution_count": null,
   "metadata": {},
   "outputs": [],
   "source": [
    "ken = test_data.loc[(test_data['country']=='Kenya')] \n",
    "tan = test_data.loc[(test_data['country']=='Tanzania_CEO_2019')]\n"
   ]
  },
  {
   "cell_type": "code",
   "execution_count": null,
   "metadata": {},
   "outputs": [],
   "source": [
    "fig, ax = plt.subplots(figsize = (10,10))\n",
    "df[\"geometry\"].to_crs(epsg=4326).plot(ax=ax, color='lightgrey')\n",
    "# extracted.plot(ax=ax, c=extracted['harvest'], alpha=0.2)\n",
    "extracted[extracted[\"harvest\"].isna()].plot(ax=ax)"
   ]
  },
  {
   "cell_type": "code",
   "execution_count": null,
   "metadata": {},
   "outputs": [],
   "source": [
    "fig, ax = plt.subplots(figsize = (10,10))\n",
    "df[\"geometry\"].to_crs(epsg=4326).plot(ax=ax, color='lightgrey')\n",
    "ken.plot(column=\"test_class\", ax=ax, alpha=0.2, colormap=\"autumn\")\n",
    "tan.plot(column='test_class', ax=ax, alpha=0.2, colormap='binary')\n"
   ]
  },
  {
   "cell_type": "code",
   "execution_count": null,
   "metadata": {},
   "outputs": [],
   "source": [
    "h_kenya_sampled"
   ]
  },
  {
   "cell_type": "code",
   "execution_count": null,
   "metadata": {},
   "outputs": [],
   "source": [
    "fig, ax = plt.subplots(figsize = (10,10))\n",
    "boundary.to_crs(epsg=4326).plot(ax=ax, color='lightgrey')\n",
    "filtered.plot(ax=ax, alpha=0.1)"
   ]
  }
 ],
 "metadata": {
  "kernelspec": {
   "display_name": "Python 3.8.8 ('intercomparison')",
   "language": "python",
   "name": "python3"
  },
  "language_info": {
   "codemirror_mode": {
    "name": "ipython",
    "version": 3
   },
   "file_extension": ".py",
   "mimetype": "text/x-python",
   "name": "python",
   "nbconvert_exporter": "python",
   "pygments_lexer": "ipython3",
   "version": "3.8.8"
  },
  "orig_nbformat": 4,
  "vscode": {
   "interpreter": {
    "hash": "b9a057a3c2bc11d9fb1a09bad675557d69c9743adf6ae74a67a8c76be0d35d72"
   }
  }
 },
 "nbformat": 4,
 "nbformat_minor": 2
}
