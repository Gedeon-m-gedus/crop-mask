{
 "cells": [
  {
   "cell_type": "markdown",
   "metadata": {},
   "source": [
    "# Covermap Comparison\n",
    "\n",
    "**Author:** Adam Yang (ayang115@umd.edu)\n",
    "\n",
    "**Description:** Compares datasets against test sets\n",
    "\n",
    "**Crop Maps Used:** Harvest Togo & Kenya, Copernicus Land Cover, ESA CCI Land Cover Africa, GLAD Global Cropland Extent"
   ]
  },
  {
   "cell_type": "code",
   "execution_count": 3,
   "metadata": {},
   "outputs": [],
   "source": [
    "import pandas as pd\n",
    "import numpy as np\n",
    "import geopandas as gpd\n",
    "import os\n",
    "import geemap\n",
    "from pathlib import Path\n",
    "from sklearn.metrics import classification_report "
   ]
  },
  {
   "cell_type": "code",
   "execution_count": 4,
   "metadata": {},
   "outputs": [
    {
     "data": {
      "text/html": [
       "<p>To authorize access needed by Earth Engine, open the following\n",
       "        URL in a web browser and follow the instructions:</p>\n",
       "        <p><a href=https://code.earthengine.google.com/client-auth?scopes=https%3A//www.googleapis.com/auth/earthengine%20https%3A//www.googleapis.com/auth/devstorage.full_control&request_id=_D8EhGQppC9RRTRWkmLNawptDg25ToMZ63XLa7rkpoY&tc=jC3WzYV6yoCmALPuP6BETaxBeFkLIhYdG9aDgq0h8JE&cc=gw44HGWzt6xuj74AFZrEXYMvTYVVp5PlGFI4Pohs8fM>https://code.earthengine.google.com/client-auth?scopes=https%3A//www.googleapis.com/auth/earthengine%20https%3A//www.googleapis.com/auth/devstorage.full_control&request_id=_D8EhGQppC9RRTRWkmLNawptDg25ToMZ63XLa7rkpoY&tc=jC3WzYV6yoCmALPuP6BETaxBeFkLIhYdG9aDgq0h8JE&cc=gw44HGWzt6xuj74AFZrEXYMvTYVVp5PlGFI4Pohs8fM</a></p>\n",
       "        <p>The authorization workflow will generate a code, which you should paste in the box below.</p>\n",
       "        "
      ],
      "text/plain": [
       "<IPython.core.display.HTML object>"
      ]
     },
     "metadata": {},
     "output_type": "display_data"
    },
    {
     "name": "stdout",
     "output_type": "stream",
     "text": [
      "\n",
      "Successfully saved authorization token.\n"
     ]
    }
   ],
   "source": [
    "import ee\n",
    "\n",
    "ee.Authenticate()\n",
    "\n",
    "ee.Initialize()"
   ]
  },
  {
   "cell_type": "markdown",
   "metadata": {},
   "source": [
    "## **Section 0** - Setup"
   ]
  },
  {
   "cell_type": "markdown",
   "metadata": {},
   "source": [
    "**Functions**"
   ]
  },
  {
   "cell_type": "code",
   "execution_count": 5,
   "metadata": {},
   "outputs": [],
   "source": [
    "# Remaps classes to crop/noncrop \n",
    "def map_values(val, value_for_crop):\n",
    "    if val == value_for_crop:\n",
    "        return 1\n",
    "    else:\n",
    "        return 0"
   ]
  },
  {
   "cell_type": "code",
   "execution_count": 6,
   "metadata": {},
   "outputs": [],
   "source": [
    "# Function used in map function to extract from feature collection\n",
    "def raster_extraction(image, resolution, f_collection):\n",
    "    feature = image.sampleRegions(\n",
    "        collection = f_collection,\n",
    "        scale = resolution\n",
    "    )\n",
    "    return feature"
   ]
  },
  {
   "cell_type": "code",
   "execution_count": 7,
   "metadata": {},
   "outputs": [],
   "source": [
    "# Convert sklearn classification report dict to \n",
    "def report_to_row(dataset, report, df):\n",
    "    new_report = pd.DataFrame(data = {\n",
    "        \"dataset\": dataset, \n",
    "        \"accuracy\": report[\"accuracy\"], \n",
    "        \"crop_f1\": report[\"1\"][\"f1-score\"], \n",
    "        \"crop_support\": report[\"1\"][\"support\"], \n",
    "        \"noncrop_support\": report[\"0\"][\"support\"], \n",
    "        \"crop_precision\": report[\"1\"][\"precision\"], \n",
    "        \"crop_recall\": report[\"1\"][\"recall\"], \n",
    "        \"noncrop_precision\": report[\"0\"][\"precision\"], \n",
    "        \"noncrop_recall\": report[\"0\"][\"recall\"]\n",
    "        }, index=[0])\n",
    "    \n",
    "    return pd.concat([df, new_report])"
   ]
  },
  {
   "cell_type": "code",
   "execution_count": 8,
   "metadata": {},
   "outputs": [],
   "source": [
    "# Creates ee.Feature from longitude and latitude coordinates from a dataframe\n",
    "def create_point(row):\n",
    "    geom = ee.Geometry.Point(row[\"lon\"], row[\"lat\"])\n",
    "    prop = dict(row)\n",
    "\n",
    "    return ee.Feature(geom, prop)"
   ]
  },
  {
   "attachments": {},
   "cell_type": "markdown",
   "metadata": {},
   "source": [
    "**Generate Test Data**"
   ]
  },
  {
   "cell_type": "code",
   "execution_count": 9,
   "metadata": {},
   "outputs": [],
   "source": [
    "TEST_COUNTRIES = [\"Kenya\", \"Togo\", \"Tanzania_CEO_2019\"]\n",
    "DATA_PATH = \"../data/datasets/\"\n",
    "TEST_CODE = {\"Kenya\": \"KEN\", \"Togo\": \"TGO\", \"Tanzania_CEO_2019\": \"TZA\"}"
   ]
  },
  {
   "cell_type": "code",
   "execution_count": 10,
   "metadata": {},
   "outputs": [],
   "source": [
    "datasets_path = Path(DATA_PATH).glob(\"*\")\n",
    "target_paths = [p for p in datasets_path if p.stem in TEST_COUNTRIES]"
   ]
  },
  {
   "cell_type": "code",
   "execution_count": 11,
   "metadata": {},
   "outputs": [],
   "source": [
    "from shapely.geometry import Point, MultiPolygon, GeometryCollection \n",
    "import cartopy.io.shapereader as shpreader \n",
    "import matplotlib.pyplot as plt"
   ]
  },
  {
   "cell_type": "code",
   "execution_count": 12,
   "metadata": {},
   "outputs": [],
   "source": [
    "NE_GDF = gpd.read_file(\n",
    "    shpreader.natural_earth(\n",
    "        resolution='10m', \n",
    "        category='cultural', \n",
    "        name='admin_1_states_provinces')\n",
    ")"
   ]
  },
  {
   "cell_type": "code",
   "execution_count": 39,
   "metadata": {},
   "outputs": [],
   "source": [
    "def filter_by_bounds(country: str, gdf: gpd.GeoDataFrame):\n",
    "    boundary = NE_GDF.loc[NE_GDF[\"adm1_code\"].str.startswith(country), :].copy()\n",
    "\n",
    "    if boundary.crs == None:\n",
    "        boundary = boundary.set_crs('epsg:4326')\n",
    "    if boundary.crs != 'epsg:4326':\n",
    "        boundary = boundary.to_crs('epsg:4326')\n",
    "\n",
    "    boundary = GeometryCollection([x for x in boundary[\"geometry\"]])\n",
    "\n",
    "    mask = gdf.within(boundary)\n",
    "    filtered = gdf.loc[mask].copy()\n",
    "\n",
    "    return filtered"
   ]
  },
  {
   "cell_type": "code",
   "execution_count": 40,
   "metadata": {},
   "outputs": [],
   "source": [
    "def generate_test_data(target_paths: str):\n",
    "    test_gdf = gpd.GeoDataFrame(\n",
    "        columns=[\"lat\", \"lon\", \"country\", \"test_class\", \"ee_pts\", \"geometry\"], \n",
    "        crs = \"epsg:4326\")\n",
    "\n",
    "    test_set = []\n",
    "    for p in target_paths:\n",
    "        # Set dict key name\n",
    "        key = p.stem\n",
    "\n",
    "        # Read in data and extract test values and points \n",
    "        df = pd.read_csv(p)\n",
    "        df = df.loc[df[\"subset\"] == \"testing\"]\n",
    "        df = df[[\"lat\", \"lon\", \"class_probability\"]]\n",
    "\n",
    "        # Create earth engine geometry points\n",
    "        df[\"ee_pts\"] = df.apply(create_point, axis=1)\n",
    "\n",
    "        # Recast points as 1 or 0 (threshold = 0.5)\n",
    "        df[\"test_class\"] = df[\"class_probability\"].apply(lambda x: 1 if x > 0.5 else 0)\n",
    "\n",
    "        df[\"country\"] = key\n",
    "\n",
    "        #convert to geodataframe\n",
    "        df = gpd.GeoDataFrame(\n",
    "            df, \n",
    "            crs=\"epsg:4326\", \n",
    "            geometry=gpd.points_from_xy(df.lon, df.lat)\n",
    "            )\n",
    "\n",
    "        df = filter_by_bounds(TEST_CODE[key], df)\n",
    "\n",
    "        test_set.append(df)\n",
    "\n",
    "    return pd.concat(test_set)"
   ]
  },
  {
   "cell_type": "code",
   "execution_count": 41,
   "metadata": {},
   "outputs": [],
   "source": [
    "# test_data = generate_test_data(target_paths)\n",
    "test_data = pd.read_csv(\"../../intercomparison-data/test_data.csv\")"
   ]
  },
  {
   "attachments": {},
   "cell_type": "markdown",
   "metadata": {},
   "source": [
    "**Create dataframe for results**"
   ]
  },
  {
   "cell_type": "code",
   "execution_count": 45,
   "metadata": {},
   "outputs": [],
   "source": [
    "results = {}\n",
    "\n",
    "for p in target_paths:\n",
    "    key = p.stem\n",
    "    results[key] = pd.DataFrame(columns=[\"dataset\", \"accuracy\", \"crop_f1\", \"crop_support\", \"noncrop_support\", \n",
    "        \"crop_precision\", \"crop_recall\", \"noncrop_precision\", \"noncrop_recall\"])\n"
   ]
  },
  {
   "cell_type": "code",
   "execution_count": 46,
   "metadata": {},
   "outputs": [],
   "source": [
    "test_coll = ee.FeatureCollection(test_data[\"ee_pts\"].tolist())"
   ]
  },
  {
   "cell_type": "markdown",
   "metadata": {},
   "source": [
    "## **Section 1** - Harvest Data"
   ]
  },
  {
   "attachments": {},
   "cell_type": "markdown",
   "metadata": {},
   "source": [
    "### **Harvest Togo**"
   ]
  },
  {
   "cell_type": "code",
   "execution_count": 47,
   "metadata": {},
   "outputs": [],
   "source": [
    "harvest_togo = ee.Image(\"projects/sat-io/open-datasets/nasa-harvest/togo_cropland_binary\").sampleRegions(collection=test_coll)\n",
    "h_togo_sampled = geemap.ee_to_gdf(harvest_togo)"
   ]
  },
  {
   "cell_type": "code",
   "execution_count": 48,
   "metadata": {},
   "outputs": [],
   "source": [
    "test_data[\"harvest_togo\"] = pd.merge(test_data, h_togo_sampled, on=[\"lat\", \"lon\"], how=\"left\")[\"b1\"]"
   ]
  },
  {
   "attachments": {},
   "cell_type": "markdown",
   "metadata": {},
   "source": [
    "### **Harvest Kenya**"
   ]
  },
  {
   "cell_type": "code",
   "execution_count": 49,
   "metadata": {},
   "outputs": [],
   "source": [
    "harvest_kenya = ee.Image(\"projects/sat-io/open-datasets/nasa-harvest/kenya_cropland_binary\").sampleRegions(collection=test_coll)\n",
    "h_kenya_sampled = geemap.ee_to_gdf(harvest_kenya)"
   ]
  },
  {
   "cell_type": "code",
   "execution_count": 51,
   "metadata": {},
   "outputs": [],
   "source": [
    "test_data[\"harvest_kenya\"] = pd.merge(test_data, h_kenya_sampled, on=[\"lat\", \"lon\"], how=\"left\")[\"b1\"]"
   ]
  },
  {
   "attachments": {},
   "cell_type": "markdown",
   "metadata": {},
   "source": [
    "### **Harvest Tanzania**"
   ]
  },
  {
   "cell_type": "code",
   "execution_count": 52,
   "metadata": {},
   "outputs": [
    {
     "data": {
      "text/html": [
       "<div>\n",
       "<style scoped>\n",
       "    .dataframe tbody tr th:only-of-type {\n",
       "        vertical-align: middle;\n",
       "    }\n",
       "\n",
       "    .dataframe tbody tr th {\n",
       "        vertical-align: top;\n",
       "    }\n",
       "\n",
       "    .dataframe thead th {\n",
       "        text-align: right;\n",
       "    }\n",
       "</style>\n",
       "<table border=\"1\" class=\"dataframe\">\n",
       "  <thead>\n",
       "    <tr style=\"text-align: right;\">\n",
       "      <th></th>\n",
       "    </tr>\n",
       "  </thead>\n",
       "  <tbody>\n",
       "  </tbody>\n",
       "</table>\n",
       "</div>"
      ],
      "text/plain": [
       "Empty GeoDataFrame\n",
       "Columns: []\n",
       "Index: []"
      ]
     },
     "execution_count": 52,
     "metadata": {},
     "output_type": "execute_result"
    }
   ],
   "source": [
    "h_tanzania_sampled"
   ]
  },
  {
   "cell_type": "code",
   "execution_count": 53,
   "metadata": {},
   "outputs": [],
   "source": [
    "harvest_tanzania = ee.Image(\"users/adadebay/Tanzania_cropland_2019\").sampleRegions(collection=test_coll)\n",
    "h_tanzania_sampled = geemap.ee_to_gdf(harvest_tanzania)\n",
    "h_tanzania_sampled[\"b1\"] = h_tanzania_sampled[\"b1\"].apply(lambda x: 1 if x>0.5 else 0) "
   ]
  },
  {
   "cell_type": "code",
   "execution_count": 54,
   "metadata": {},
   "outputs": [],
   "source": [
    "test_data[\"harvest_tanzania\"] = pd.merge(test_data, h_tanzania_sampled, on=[\"lat\", \"lon\"], how=\"left\")[\"b1\"]"
   ]
  },
  {
   "attachments": {},
   "cell_type": "markdown",
   "metadata": {},
   "source": [
    "### ***TESTING ZONE***"
   ]
  },
  {
   "cell_type": "code",
   "execution_count": 55,
   "metadata": {},
   "outputs": [],
   "source": [
    "from shapely.geometry import Point, MultiPolygon, GeometryCollection \n",
    "import cartopy.io.shapereader as shpreader \n",
    "import matplotlib.pyplot as plt"
   ]
  },
  {
   "cell_type": "markdown",
   "metadata": {},
   "source": [
    "Codes of interest:\n",
    "* Kenya : KEN\n",
    "* Togo: TGO\n",
    "* Tanzania: TZA"
   ]
  },
  {
   "cell_type": "code",
   "execution_count": null,
   "metadata": {},
   "outputs": [],
   "source": [
    "ne_shapefile = shpreader.natural_earth(resolution='10m', category='cultural', name='admin_1_states_provinces')\n",
    "ne_gdf = gpd.read_file(ne_shapefile)"
   ]
  },
  {
   "cell_type": "code",
   "execution_count": null,
   "metadata": {},
   "outputs": [],
   "source": [
    "KEN_mask = ne_gdf[\"adm1_code\"].str.startswith(\"KEN\")\n",
    "boundary = ne_gdf[KEN_mask].copy()"
   ]
  },
  {
   "cell_type": "code",
   "execution_count": null,
   "metadata": {},
   "outputs": [
    {
     "name": "stdout",
     "output_type": "stream",
     "text": [
      "Boundary shapefile CRS is None\n",
      "Boundary shapefile set to epsg:4326\n"
     ]
    }
   ],
   "source": [
    "# Make sure the shapefile has EPSG:4326, otherwise convert it\n",
    "print('Boundary shapefile CRS is %s' % boundary.crs)\n",
    "if boundary.crs == None:\n",
    "    boundary = boundary.set_crs('epsg:4326')\n",
    "    print('Boundary shapefile set to %s' % boundary.crs)\n",
    "if boundary.crs != 'epsg:4326':\n",
    "    boundary = boundary.to_crs('epsg:4326')\n",
    "    print('Boundary shapefile converted to %s' % boundary.crs)"
   ]
  },
  {
   "cell_type": "code",
   "execution_count": null,
   "metadata": {},
   "outputs": [
    {
     "data": {
      "text/html": [
       "<div>\n",
       "<style scoped>\n",
       "    .dataframe tbody tr th:only-of-type {\n",
       "        vertical-align: middle;\n",
       "    }\n",
       "\n",
       "    .dataframe tbody tr th {\n",
       "        vertical-align: top;\n",
       "    }\n",
       "\n",
       "    .dataframe thead th {\n",
       "        text-align: right;\n",
       "    }\n",
       "</style>\n",
       "<table border=\"1\" class=\"dataframe\">\n",
       "  <thead>\n",
       "    <tr style=\"text-align: right;\">\n",
       "      <th></th>\n",
       "      <th>geometry</th>\n",
       "      <th>featurecla</th>\n",
       "      <th>scalerank</th>\n",
       "      <th>adm1_code</th>\n",
       "      <th>diss_me</th>\n",
       "      <th>iso_3166_2</th>\n",
       "      <th>wikipedia</th>\n",
       "      <th>iso_a2</th>\n",
       "      <th>adm0_sr</th>\n",
       "      <th>name</th>\n",
       "      <th>...</th>\n",
       "      <th>FCLASS_TR</th>\n",
       "      <th>FCLASS_ID</th>\n",
       "      <th>FCLASS_PL</th>\n",
       "      <th>FCLASS_GR</th>\n",
       "      <th>FCLASS_IT</th>\n",
       "      <th>FCLASS_NL</th>\n",
       "      <th>FCLASS_SE</th>\n",
       "      <th>FCLASS_BD</th>\n",
       "      <th>FCLASS_UA</th>\n",
       "      <th>FCLASS_TLC</th>\n",
       "    </tr>\n",
       "    <tr>\n",
       "      <th>roi</th>\n",
       "      <th></th>\n",
       "      <th></th>\n",
       "      <th></th>\n",
       "      <th></th>\n",
       "      <th></th>\n",
       "      <th></th>\n",
       "      <th></th>\n",
       "      <th></th>\n",
       "      <th></th>\n",
       "      <th></th>\n",
       "      <th></th>\n",
       "      <th></th>\n",
       "      <th></th>\n",
       "      <th></th>\n",
       "      <th></th>\n",
       "      <th></th>\n",
       "      <th></th>\n",
       "      <th></th>\n",
       "      <th></th>\n",
       "      <th></th>\n",
       "      <th></th>\n",
       "    </tr>\n",
       "  </thead>\n",
       "  <tbody>\n",
       "    <tr>\n",
       "      <th>True</th>\n",
       "      <td>MULTIPOLYGON (((41.53594 -1.67631, 41.53509 -1...</td>\n",
       "      <td>Admin-1 states provinces</td>\n",
       "      <td>4</td>\n",
       "      <td>KEN-890</td>\n",
       "      <td>890</td>\n",
       "      <td>KE-700</td>\n",
       "      <td>None</td>\n",
       "      <td>KE</td>\n",
       "      <td>1</td>\n",
       "      <td>Rift Valley</td>\n",
       "      <td>...</td>\n",
       "      <td>None</td>\n",
       "      <td>None</td>\n",
       "      <td>None</td>\n",
       "      <td>None</td>\n",
       "      <td>None</td>\n",
       "      <td>None</td>\n",
       "      <td>None</td>\n",
       "      <td>None</td>\n",
       "      <td>None</td>\n",
       "      <td>None</td>\n",
       "    </tr>\n",
       "  </tbody>\n",
       "</table>\n",
       "<p>1 rows × 122 columns</p>\n",
       "</div>"
      ],
      "text/plain": [
       "                                               geometry  \\\n",
       "roi                                                       \n",
       "True  MULTIPOLYGON (((41.53594 -1.67631, 41.53509 -1...   \n",
       "\n",
       "                    featurecla  scalerank adm1_code  diss_me iso_3166_2  \\\n",
       "roi                                                                       \n",
       "True  Admin-1 states provinces          4   KEN-890      890     KE-700   \n",
       "\n",
       "     wikipedia iso_a2  adm0_sr         name  ... FCLASS_TR FCLASS_ID  \\\n",
       "roi                                          ...                       \n",
       "True      None     KE        1  Rift Valley  ...      None      None   \n",
       "\n",
       "     FCLASS_PL FCLASS_GR FCLASS_IT FCLASS_NL FCLASS_SE FCLASS_BD FCLASS_UA  \\\n",
       "roi                                                                          \n",
       "True      None      None      None      None      None      None      None   \n",
       "\n",
       "     FCLASS_TLC  \n",
       "roi              \n",
       "True       None  \n",
       "\n",
       "[1 rows x 122 columns]"
      ]
     },
     "execution_count": 28,
     "metadata": {},
     "output_type": "execute_result"
    }
   ],
   "source": [
    "boundary['roi'] = True\n",
    "boundary.reset_index(inplace=True, drop=True)\n",
    "boundary.dissolve('roi')"
   ]
  },
  {
   "cell_type": "code",
   "execution_count": null,
   "metadata": {},
   "outputs": [],
   "source": [
    "kenya_test = test_data.loc[test_data['country']=='Kenya']\n",
    "kenya_test = gpd.GeoDataFrame(kenya_test, crs='epsg:4326', geometry=gpd.points_from_xy(kenya_test.lon, kenya_test.lat))"
   ]
  },
  {
   "cell_type": "code",
   "execution_count": null,
   "metadata": {},
   "outputs": [
    {
     "data": {
      "text/plain": [
       "<AxesSubplot:>"
      ]
     },
     "execution_count": 53,
     "metadata": {},
     "output_type": "execute_result"
    },
    {
     "data": {
      "image/png": "[encoded data removed]",
      "text/plain": [
       "<Figure size 720x720 with 1 Axes>"
      ]
     },
     "metadata": {
      "needs_background": "light"
     },
     "output_type": "display_data"
    }
   ],
   "source": [
    "fig, ax = plt.subplots(figsize = (10,10))\n",
    "boundary[\"geometry\"].to_crs(epsg=4326).plot(ax=ax, color='lightgrey')\n",
    "kenya_test.plot(ax=ax, alpha=0.1)"
   ]
  },
  {
   "cell_type": "code",
   "execution_count": null,
   "metadata": {},
   "outputs": [
    {
     "data": {
      "text/html": [
       "<div>\n",
       "<style scoped>\n",
       "    .dataframe tbody tr th:only-of-type {\n",
       "        vertical-align: middle;\n",
       "    }\n",
       "\n",
       "    .dataframe tbody tr th {\n",
       "        vertical-align: top;\n",
       "    }\n",
       "\n",
       "    .dataframe thead th {\n",
       "        text-align: right;\n",
       "    }\n",
       "</style>\n",
       "<table border=\"1\" class=\"dataframe\">\n",
       "  <thead>\n",
       "    <tr style=\"text-align: right;\">\n",
       "      <th></th>\n",
       "      <th>lat</th>\n",
       "      <th>lon</th>\n",
       "      <th>class_probability</th>\n",
       "      <th>ee_pts</th>\n",
       "      <th>test_class</th>\n",
       "      <th>country</th>\n",
       "      <th>harvest_togo</th>\n",
       "      <th>harvest_kenya</th>\n",
       "      <th>harvest_tanzania</th>\n",
       "      <th>geometry</th>\n",
       "    </tr>\n",
       "  </thead>\n",
       "  <tbody>\n",
       "    <tr>\n",
       "      <th>0</th>\n",
       "      <td>0.725122</td>\n",
       "      <td>34.386282</td>\n",
       "      <td>0.0</td>\n",
       "      <td>ee.Feature({\\n  \"functionInvocationValue\": {\\n...</td>\n",
       "      <td>0</td>\n",
       "      <td>Kenya</td>\n",
       "      <td>NaN</td>\n",
       "      <td>1.0</td>\n",
       "      <td>NaN</td>\n",
       "      <td>POINT (34.38628 0.72512)</td>\n",
       "    </tr>\n",
       "    <tr>\n",
       "      <th>1</th>\n",
       "      <td>0.621939</td>\n",
       "      <td>34.466496</td>\n",
       "      <td>0.0</td>\n",
       "      <td>ee.Feature({\\n  \"functionInvocationValue\": {\\n...</td>\n",
       "      <td>0</td>\n",
       "      <td>Kenya</td>\n",
       "      <td>NaN</td>\n",
       "      <td>1.0</td>\n",
       "      <td>NaN</td>\n",
       "      <td>POINT (34.46650 0.62194)</td>\n",
       "    </tr>\n",
       "    <tr>\n",
       "      <th>3</th>\n",
       "      <td>0.226497</td>\n",
       "      <td>34.054859</td>\n",
       "      <td>0.0</td>\n",
       "      <td>ee.Feature({\\n  \"functionInvocationValue\": {\\n...</td>\n",
       "      <td>0</td>\n",
       "      <td>Kenya</td>\n",
       "      <td>NaN</td>\n",
       "      <td>0.0</td>\n",
       "      <td>NaN</td>\n",
       "      <td>POINT (34.05486 0.22650)</td>\n",
       "    </tr>\n",
       "    <tr>\n",
       "      <th>4</th>\n",
       "      <td>0.096834</td>\n",
       "      <td>33.951959</td>\n",
       "      <td>0.0</td>\n",
       "      <td>ee.Feature({\\n  \"functionInvocationValue\": {\\n...</td>\n",
       "      <td>0</td>\n",
       "      <td>Kenya</td>\n",
       "      <td>NaN</td>\n",
       "      <td>0.0</td>\n",
       "      <td>NaN</td>\n",
       "      <td>POINT (33.95196 0.09683)</td>\n",
       "    </tr>\n",
       "    <tr>\n",
       "      <th>5</th>\n",
       "      <td>0.032072</td>\n",
       "      <td>33.968469</td>\n",
       "      <td>0.0</td>\n",
       "      <td>ee.Feature({\\n  \"functionInvocationValue\": {\\n...</td>\n",
       "      <td>0</td>\n",
       "      <td>Kenya</td>\n",
       "      <td>NaN</td>\n",
       "      <td>0.0</td>\n",
       "      <td>NaN</td>\n",
       "      <td>POINT (33.96847 0.03207)</td>\n",
       "    </tr>\n",
       "    <tr>\n",
       "      <th>...</th>\n",
       "      <td>...</td>\n",
       "      <td>...</td>\n",
       "      <td>...</td>\n",
       "      <td>...</td>\n",
       "      <td>...</td>\n",
       "      <td>...</td>\n",
       "      <td>...</td>\n",
       "      <td>...</td>\n",
       "      <td>...</td>\n",
       "      <td>...</td>\n",
       "    </tr>\n",
       "    <tr>\n",
       "      <th>824</th>\n",
       "      <td>0.633255</td>\n",
       "      <td>34.313450</td>\n",
       "      <td>1.0</td>\n",
       "      <td>ee.Feature({\\n  \"functionInvocationValue\": {\\n...</td>\n",
       "      <td>1</td>\n",
       "      <td>Kenya</td>\n",
       "      <td>NaN</td>\n",
       "      <td>1.0</td>\n",
       "      <td>NaN</td>\n",
       "      <td>POINT (34.31345 0.63326)</td>\n",
       "    </tr>\n",
       "    <tr>\n",
       "      <th>825</th>\n",
       "      <td>0.630631</td>\n",
       "      <td>34.314150</td>\n",
       "      <td>1.0</td>\n",
       "      <td>ee.Feature({\\n  \"functionInvocationValue\": {\\n...</td>\n",
       "      <td>1</td>\n",
       "      <td>Kenya</td>\n",
       "      <td>NaN</td>\n",
       "      <td>1.0</td>\n",
       "      <td>NaN</td>\n",
       "      <td>POINT (34.31415 0.63063)</td>\n",
       "    </tr>\n",
       "    <tr>\n",
       "      <th>826</th>\n",
       "      <td>0.625610</td>\n",
       "      <td>34.307610</td>\n",
       "      <td>1.0</td>\n",
       "      <td>ee.Feature({\\n  \"functionInvocationValue\": {\\n...</td>\n",
       "      <td>1</td>\n",
       "      <td>Kenya</td>\n",
       "      <td>NaN</td>\n",
       "      <td>1.0</td>\n",
       "      <td>NaN</td>\n",
       "      <td>POINT (34.30761 0.62561)</td>\n",
       "    </tr>\n",
       "    <tr>\n",
       "      <th>827</th>\n",
       "      <td>0.694220</td>\n",
       "      <td>34.369890</td>\n",
       "      <td>1.0</td>\n",
       "      <td>ee.Feature({\\n  \"functionInvocationValue\": {\\n...</td>\n",
       "      <td>1</td>\n",
       "      <td>Kenya</td>\n",
       "      <td>NaN</td>\n",
       "      <td>1.0</td>\n",
       "      <td>NaN</td>\n",
       "      <td>POINT (34.36989 0.69422)</td>\n",
       "    </tr>\n",
       "    <tr>\n",
       "      <th>828</th>\n",
       "      <td>0.714165</td>\n",
       "      <td>34.346050</td>\n",
       "      <td>1.0</td>\n",
       "      <td>ee.Feature({\\n  \"functionInvocationValue\": {\\n...</td>\n",
       "      <td>1</td>\n",
       "      <td>Kenya</td>\n",
       "      <td>NaN</td>\n",
       "      <td>NaN</td>\n",
       "      <td>NaN</td>\n",
       "      <td>POINT (34.34605 0.71417)</td>\n",
       "    </tr>\n",
       "  </tbody>\n",
       "</table>\n",
       "<p>764 rows × 10 columns</p>\n",
       "</div>"
      ],
      "text/plain": [
       "          lat        lon  class_probability  \\\n",
       "0    0.725122  34.386282                0.0   \n",
       "1    0.621939  34.466496                0.0   \n",
       "3    0.226497  34.054859                0.0   \n",
       "4    0.096834  33.951959                0.0   \n",
       "5    0.032072  33.968469                0.0   \n",
       "..        ...        ...                ...   \n",
       "824  0.633255  34.313450                1.0   \n",
       "825  0.630631  34.314150                1.0   \n",
       "826  0.625610  34.307610                1.0   \n",
       "827  0.694220  34.369890                1.0   \n",
       "828  0.714165  34.346050                1.0   \n",
       "\n",
       "                                                ee_pts  test_class country  \\\n",
       "0    ee.Feature({\\n  \"functionInvocationValue\": {\\n...           0   Kenya   \n",
       "1    ee.Feature({\\n  \"functionInvocationValue\": {\\n...           0   Kenya   \n",
       "3    ee.Feature({\\n  \"functionInvocationValue\": {\\n...           0   Kenya   \n",
       "4    ee.Feature({\\n  \"functionInvocationValue\": {\\n...           0   Kenya   \n",
       "5    ee.Feature({\\n  \"functionInvocationValue\": {\\n...           0   Kenya   \n",
       "..                                                 ...         ...     ...   \n",
       "824  ee.Feature({\\n  \"functionInvocationValue\": {\\n...           1   Kenya   \n",
       "825  ee.Feature({\\n  \"functionInvocationValue\": {\\n...           1   Kenya   \n",
       "826  ee.Feature({\\n  \"functionInvocationValue\": {\\n...           1   Kenya   \n",
       "827  ee.Feature({\\n  \"functionInvocationValue\": {\\n...           1   Kenya   \n",
       "828  ee.Feature({\\n  \"functionInvocationValue\": {\\n...           1   Kenya   \n",
       "\n",
       "     harvest_togo  harvest_kenya  harvest_tanzania                  geometry  \n",
       "0             NaN            1.0               NaN  POINT (34.38628 0.72512)  \n",
       "1             NaN            1.0               NaN  POINT (34.46650 0.62194)  \n",
       "3             NaN            0.0               NaN  POINT (34.05486 0.22650)  \n",
       "4             NaN            0.0               NaN  POINT (33.95196 0.09683)  \n",
       "5             NaN            0.0               NaN  POINT (33.96847 0.03207)  \n",
       "..            ...            ...               ...                       ...  \n",
       "824           NaN            1.0               NaN  POINT (34.31345 0.63326)  \n",
       "825           NaN            1.0               NaN  POINT (34.31415 0.63063)  \n",
       "826           NaN            1.0               NaN  POINT (34.30761 0.62561)  \n",
       "827           NaN            1.0               NaN  POINT (34.36989 0.69422)  \n",
       "828           NaN            NaN               NaN  POINT (34.34605 0.71417)  \n",
       "\n",
       "[764 rows x 10 columns]"
      ]
     },
     "execution_count": 73,
     "metadata": {},
     "output_type": "execute_result"
    }
   ],
   "source": [
    "ken_mask = kenya_test.within(bnd)\n",
    "filtered = kenya_test.loc[ken_mask].copy()\n",
    "filtered"
   ]
  },
  {
   "cell_type": "code",
   "execution_count": null,
   "metadata": {},
   "outputs": [
    {
     "data": {
      "text/plain": [
       "<AxesSubplot:>"
      ]
     },
     "execution_count": 74,
     "metadata": {},
     "output_type": "execute_result"
    },
    {
     "data": {
      "image/png": "[encoded data removed]",
      "text/plain": [
       "<Figure size 720x720 with 1 Axes>"
      ]
     },
     "metadata": {
      "needs_background": "light"
     },
     "output_type": "display_data"
    }
   ],
   "source": [
    "fig, ax = plt.subplots(figsize = (10,10))\n",
    "boundary.to_crs(epsg=4326).plot(ax=ax, color='lightgrey')\n",
    "filtered.plot(ax=ax, alpha=0.1)"
   ]
  },
  {
   "cell_type": "markdown",
   "metadata": {},
   "source": [
    "## **Section 2** - Copernicus, ESA, GLAD"
   ]
  },
  {
   "cell_type": "markdown",
   "metadata": {},
   "source": [
    "**Copernicus Land Cover** ([Earth Engine](https://developers.google.com/earth-engine/datasets/catalog/COPERNICUS_Landcover_100m_Proba-V-C3_Global#description))"
   ]
  },
  {
   "cell_type": "code",
   "execution_count": 56,
   "metadata": {},
   "outputs": [],
   "source": [
    "# Load copernicus data\n",
    "copernicus = ee.ImageCollection(\"COPERNICUS/Landcover/100m/Proba-V-C3/Global\")\n",
    "cop_results = copernicus.select(\"discrete_classification\").filterDate(\"2019-01-01\", \"2020-01-01\").map(lambda x: raster_extraction(x, 100, test_coll)).flatten()"
   ]
  },
  {
   "cell_type": "code",
   "execution_count": 57,
   "metadata": {},
   "outputs": [
    {
     "data": {
      "text/html": [
       "<div>\n",
       "<style scoped>\n",
       "    .dataframe tbody tr th:only-of-type {\n",
       "        vertical-align: middle;\n",
       "    }\n",
       "\n",
       "    .dataframe tbody tr th {\n",
       "        vertical-align: top;\n",
       "    }\n",
       "\n",
       "    .dataframe thead th {\n",
       "        text-align: right;\n",
       "    }\n",
       "</style>\n",
       "<table border=\"1\" class=\"dataframe\">\n",
       "  <thead>\n",
       "    <tr style=\"text-align: right;\">\n",
       "      <th></th>\n",
       "      <th>geometry</th>\n",
       "      <th>class_probability</th>\n",
       "      <th>discrete_classification</th>\n",
       "      <th>lat</th>\n",
       "      <th>lon</th>\n",
       "      <th>cop_class</th>\n",
       "    </tr>\n",
       "  </thead>\n",
       "  <tbody>\n",
       "    <tr>\n",
       "      <th>0</th>\n",
       "      <td>None</td>\n",
       "      <td>0.0</td>\n",
       "      <td>126</td>\n",
       "      <td>0.725122</td>\n",
       "      <td>34.386282</td>\n",
       "      <td>0</td>\n",
       "    </tr>\n",
       "    <tr>\n",
       "      <th>1</th>\n",
       "      <td>None</td>\n",
       "      <td>0.0</td>\n",
       "      <td>122</td>\n",
       "      <td>0.621939</td>\n",
       "      <td>34.466496</td>\n",
       "      <td>0</td>\n",
       "    </tr>\n",
       "    <tr>\n",
       "      <th>2</th>\n",
       "      <td>None</td>\n",
       "      <td>0.0</td>\n",
       "      <td>40</td>\n",
       "      <td>0.226497</td>\n",
       "      <td>34.054859</td>\n",
       "      <td>1</td>\n",
       "    </tr>\n",
       "    <tr>\n",
       "      <th>3</th>\n",
       "      <td>None</td>\n",
       "      <td>0.0</td>\n",
       "      <td>20</td>\n",
       "      <td>0.096834</td>\n",
       "      <td>33.951959</td>\n",
       "      <td>0</td>\n",
       "    </tr>\n",
       "    <tr>\n",
       "      <th>4</th>\n",
       "      <td>None</td>\n",
       "      <td>0.0</td>\n",
       "      <td>80</td>\n",
       "      <td>0.032072</td>\n",
       "      <td>33.968469</td>\n",
       "      <td>0</td>\n",
       "    </tr>\n",
       "  </tbody>\n",
       "</table>\n",
       "</div>"
      ],
      "text/plain": [
       "  geometry  class_probability  discrete_classification       lat        lon  \\\n",
       "0     None                0.0                      126  0.725122  34.386282   \n",
       "1     None                0.0                      122  0.621939  34.466496   \n",
       "2     None                0.0                       40  0.226497  34.054859   \n",
       "3     None                0.0                       20  0.096834  33.951959   \n",
       "4     None                0.0                       80  0.032072  33.968469   \n",
       "\n",
       "   cop_class  \n",
       "0          0  \n",
       "1          0  \n",
       "2          1  \n",
       "3          0  \n",
       "4          0  "
      ]
     },
     "execution_count": 57,
     "metadata": {},
     "output_type": "execute_result"
    }
   ],
   "source": [
    "cop_sampled = geemap.ee_to_gdf(cop_results)\n",
    "cop_sampled[\"cop_class\"] = cop_sampled[\"discrete_classification\"].apply(lambda x: map_values(x, 40))\n",
    "cop_sampled.head()"
   ]
  },
  {
   "cell_type": "code",
   "execution_count": 58,
   "metadata": {},
   "outputs": [],
   "source": [
    "test_data[\"cop\"] = pd.merge(test_data, cop_sampled, on=[\"lat\", \"lon\"], how=\"left\")[\"cop_class\"]"
   ]
  },
  {
   "cell_type": "markdown",
   "metadata": {},
   "source": [
    "**ESA World Cover** ([Earth Engine](https://developers.google.com/earth-engine/datasets/catalog/ESA_WorldCover_v100)) "
   ]
  },
  {
   "cell_type": "code",
   "execution_count": 59,
   "metadata": {},
   "outputs": [],
   "source": [
    "esa = ee.ImageCollection(\"ESA/WorldCover/v100\")\n",
    "esa_results = esa.filterBounds(test_coll).map(lambda x: raster_extraction(x, 10, test_coll)).flatten()"
   ]
  },
  {
   "cell_type": "code",
   "execution_count": 60,
   "metadata": {},
   "outputs": [
    {
     "data": {
      "text/html": [
       "<div>\n",
       "<style scoped>\n",
       "    .dataframe tbody tr th:only-of-type {\n",
       "        vertical-align: middle;\n",
       "    }\n",
       "\n",
       "    .dataframe tbody tr th {\n",
       "        vertical-align: top;\n",
       "    }\n",
       "\n",
       "    .dataframe thead th {\n",
       "        text-align: right;\n",
       "    }\n",
       "</style>\n",
       "<table border=\"1\" class=\"dataframe\">\n",
       "  <thead>\n",
       "    <tr style=\"text-align: right;\">\n",
       "      <th></th>\n",
       "      <th>geometry</th>\n",
       "      <th>Map</th>\n",
       "      <th>class_probability</th>\n",
       "      <th>lat</th>\n",
       "      <th>lon</th>\n",
       "      <th>esa_class</th>\n",
       "    </tr>\n",
       "  </thead>\n",
       "  <tbody>\n",
       "    <tr>\n",
       "      <th>0</th>\n",
       "      <td>None</td>\n",
       "      <td>20</td>\n",
       "      <td>0.0</td>\n",
       "      <td>0.725122</td>\n",
       "      <td>34.386282</td>\n",
       "      <td>0</td>\n",
       "    </tr>\n",
       "    <tr>\n",
       "      <th>1</th>\n",
       "      <td>None</td>\n",
       "      <td>20</td>\n",
       "      <td>0.0</td>\n",
       "      <td>0.621939</td>\n",
       "      <td>34.466496</td>\n",
       "      <td>0</td>\n",
       "    </tr>\n",
       "    <tr>\n",
       "      <th>2</th>\n",
       "      <td>None</td>\n",
       "      <td>30</td>\n",
       "      <td>0.0</td>\n",
       "      <td>0.226497</td>\n",
       "      <td>34.054859</td>\n",
       "      <td>0</td>\n",
       "    </tr>\n",
       "    <tr>\n",
       "      <th>3</th>\n",
       "      <td>None</td>\n",
       "      <td>30</td>\n",
       "      <td>0.0</td>\n",
       "      <td>0.096834</td>\n",
       "      <td>33.951959</td>\n",
       "      <td>0</td>\n",
       "    </tr>\n",
       "    <tr>\n",
       "      <th>4</th>\n",
       "      <td>None</td>\n",
       "      <td>80</td>\n",
       "      <td>0.0</td>\n",
       "      <td>0.032072</td>\n",
       "      <td>33.968469</td>\n",
       "      <td>0</td>\n",
       "    </tr>\n",
       "  </tbody>\n",
       "</table>\n",
       "</div>"
      ],
      "text/plain": [
       "  geometry  Map  class_probability       lat        lon  esa_class\n",
       "0     None   20                0.0  0.725122  34.386282          0\n",
       "1     None   20                0.0  0.621939  34.466496          0\n",
       "2     None   30                0.0  0.226497  34.054859          0\n",
       "3     None   30                0.0  0.096834  33.951959          0\n",
       "4     None   80                0.0  0.032072  33.968469          0"
      ]
     },
     "execution_count": 60,
     "metadata": {},
     "output_type": "execute_result"
    }
   ],
   "source": [
    "esa_sampled = geemap.ee_to_gdf(esa_results)\n",
    "esa_sampled[\"esa_class\"] = esa_sampled[\"Map\"].apply(lambda x: map_values(x, 40))\n",
    "esa_sampled.head()"
   ]
  },
  {
   "cell_type": "code",
   "execution_count": 61,
   "metadata": {},
   "outputs": [],
   "source": [
    "test_data[\"esa\"] = pd.merge(test_data, esa_sampled, on=[\"lat\", \"lon\"], how=\"left\")[\"esa_class\"]"
   ]
  },
  {
   "cell_type": "markdown",
   "metadata": {},
   "source": [
    "**GLAD Global** ([Earth Engine](https://glad.earthengine.app/view/global-cropland-dynamics))"
   ]
  },
  {
   "cell_type": "code",
   "execution_count": 62,
   "metadata": {},
   "outputs": [],
   "source": [
    "glad = ee.ImageCollection(\"users/potapovpeter/Global_cropland_2019\")\n",
    "glad_results = glad.filterBounds(test_coll).map(lambda x: raster_extraction(x, 30, test_coll)).flatten()"
   ]
  },
  {
   "cell_type": "code",
   "execution_count": 63,
   "metadata": {},
   "outputs": [
    {
     "data": {
      "text/html": [
       "<div>\n",
       "<style scoped>\n",
       "    .dataframe tbody tr th:only-of-type {\n",
       "        vertical-align: middle;\n",
       "    }\n",
       "\n",
       "    .dataframe tbody tr th {\n",
       "        vertical-align: top;\n",
       "    }\n",
       "\n",
       "    .dataframe thead th {\n",
       "        text-align: right;\n",
       "    }\n",
       "</style>\n",
       "<table border=\"1\" class=\"dataframe\">\n",
       "  <thead>\n",
       "    <tr style=\"text-align: right;\">\n",
       "      <th></th>\n",
       "      <th>geometry</th>\n",
       "      <th>b1</th>\n",
       "      <th>class_probability</th>\n",
       "      <th>lat</th>\n",
       "      <th>lon</th>\n",
       "    </tr>\n",
       "  </thead>\n",
       "  <tbody>\n",
       "    <tr>\n",
       "      <th>0</th>\n",
       "      <td>None</td>\n",
       "      <td>1</td>\n",
       "      <td>0.0</td>\n",
       "      <td>0.725122</td>\n",
       "      <td>34.386282</td>\n",
       "    </tr>\n",
       "    <tr>\n",
       "      <th>1</th>\n",
       "      <td>None</td>\n",
       "      <td>0</td>\n",
       "      <td>0.0</td>\n",
       "      <td>0.621939</td>\n",
       "      <td>34.466496</td>\n",
       "    </tr>\n",
       "    <tr>\n",
       "      <th>2</th>\n",
       "      <td>None</td>\n",
       "      <td>0</td>\n",
       "      <td>0.0</td>\n",
       "      <td>0.226497</td>\n",
       "      <td>34.054859</td>\n",
       "    </tr>\n",
       "    <tr>\n",
       "      <th>3</th>\n",
       "      <td>None</td>\n",
       "      <td>0</td>\n",
       "      <td>0.0</td>\n",
       "      <td>0.096834</td>\n",
       "      <td>33.951959</td>\n",
       "    </tr>\n",
       "    <tr>\n",
       "      <th>4</th>\n",
       "      <td>None</td>\n",
       "      <td>0</td>\n",
       "      <td>0.0</td>\n",
       "      <td>0.032072</td>\n",
       "      <td>33.968469</td>\n",
       "    </tr>\n",
       "  </tbody>\n",
       "</table>\n",
       "</div>"
      ],
      "text/plain": [
       "  geometry  b1  class_probability       lat        lon\n",
       "0     None   1                0.0  0.725122  34.386282\n",
       "1     None   0                0.0  0.621939  34.466496\n",
       "2     None   0                0.0  0.226497  34.054859\n",
       "3     None   0                0.0  0.096834  33.951959\n",
       "4     None   0                0.0  0.032072  33.968469"
      ]
     },
     "execution_count": 63,
     "metadata": {},
     "output_type": "execute_result"
    }
   ],
   "source": [
    "glad_sampled = geemap.ee_to_gdf(glad_results)\n",
    "glad_sampled.head()"
   ]
  },
  {
   "cell_type": "code",
   "execution_count": 64,
   "metadata": {},
   "outputs": [],
   "source": [
    "test_data['glad'] = pd.merge(test_data, glad_sampled, on=[\"lat\", \"lon\"], how=\"left\")[\"b1\"]"
   ]
  },
  {
   "cell_type": "code",
   "execution_count": 65,
   "metadata": {},
   "outputs": [],
   "source": [
    "test_data.to_csv(\"../../intercomparison-data/extracted.csv\")"
   ]
  },
  {
   "cell_type": "markdown",
   "metadata": {},
   "source": [
    "## **Evaluation Results**"
   ]
  },
  {
   "cell_type": "markdown",
   "metadata": {},
   "source": [
    "**Compute results**"
   ]
  },
  {
   "cell_type": "code",
   "execution_count": 71,
   "metadata": {},
   "outputs": [
    {
     "name": "stdout",
     "output_type": "stream",
     "text": [
      "Kenya: cop\n"
     ]
    },
    {
     "name": "stderr",
     "output_type": "stream",
     "text": [
      "c:\\Users\\adamf\\anaconda3\\envs\\intercomparison\\lib\\site-packages\\sklearn\\metrics\\_classification.py:1245: UndefinedMetricWarning: Recall and F-score are ill-defined and being set to 0.0 in labels with no true samples. Use `zero_division` parameter to control this behavior.\n",
      "  _warn_prf(average, modifier, msg_start, len(result))\n",
      "c:\\Users\\adamf\\anaconda3\\envs\\intercomparison\\lib\\site-packages\\sklearn\\metrics\\_classification.py:1245: UndefinedMetricWarning: Recall and F-score are ill-defined and being set to 0.0 in labels with no true samples. Use `zero_division` parameter to control this behavior.\n",
      "  _warn_prf(average, modifier, msg_start, len(result))\n",
      "c:\\Users\\adamf\\anaconda3\\envs\\intercomparison\\lib\\site-packages\\sklearn\\metrics\\_classification.py:1245: UndefinedMetricWarning: Recall and F-score are ill-defined and being set to 0.0 in labels with no true samples. Use `zero_division` parameter to control this behavior.\n",
      "  _warn_prf(average, modifier, msg_start, len(result))\n"
     ]
    },
    {
     "ename": "KeyError",
     "evalue": "'1'",
     "output_type": "error",
     "traceback": [
      "\u001b[1;31m---------------------------------------------------------------------------\u001b[0m",
      "\u001b[1;31mKeyError\u001b[0m                                  Traceback (most recent call last)",
      "\u001b[1;32m<ipython-input-71-357553c00551>\u001b[0m in \u001b[0;36m<module>\u001b[1;34m\u001b[0m\n\u001b[0;32m      9\u001b[0m                 \u001b[0mreport\u001b[0m \u001b[1;33m=\u001b[0m \u001b[0mclassification_report\u001b[0m\u001b[1;33m(\u001b[0m\u001b[0mtemp\u001b[0m\u001b[1;33m[\u001b[0m\u001b[1;34m\"test_class\"\u001b[0m\u001b[1;33m]\u001b[0m\u001b[1;33m,\u001b[0m \u001b[0mtemp\u001b[0m\u001b[1;33m[\u001b[0m\u001b[0mdataset\u001b[0m\u001b[1;33m]\u001b[0m\u001b[1;33m,\u001b[0m \u001b[0moutput_dict\u001b[0m\u001b[1;33m=\u001b[0m \u001b[1;32mTrue\u001b[0m\u001b[1;33m)\u001b[0m\u001b[1;33m\u001b[0m\u001b[1;33m\u001b[0m\u001b[0m\n\u001b[0;32m     10\u001b[0m \u001b[1;33m\u001b[0m\u001b[0m\n\u001b[1;32m---> 11\u001b[1;33m             \u001b[0mresults\u001b[0m\u001b[1;33m[\u001b[0m\u001b[0mcountry\u001b[0m\u001b[1;33m]\u001b[0m \u001b[1;33m=\u001b[0m \u001b[0mreport_to_row\u001b[0m\u001b[1;33m(\u001b[0m\u001b[0mdataset\u001b[0m\u001b[1;33m,\u001b[0m \u001b[0mreport\u001b[0m\u001b[1;33m,\u001b[0m \u001b[0mresults\u001b[0m\u001b[1;33m[\u001b[0m\u001b[0mcountry\u001b[0m\u001b[1;33m]\u001b[0m\u001b[1;33m)\u001b[0m\u001b[1;33m\u001b[0m\u001b[1;33m\u001b[0m\u001b[0m\n\u001b[0m",
      "\u001b[1;32m<ipython-input-7-0f9d0ef1eb0d>\u001b[0m in \u001b[0;36mreport_to_row\u001b[1;34m(dataset, report, df)\u001b[0m\n\u001b[0;32m      4\u001b[0m         \u001b[1;34m\"dataset\"\u001b[0m\u001b[1;33m:\u001b[0m \u001b[0mdataset\u001b[0m\u001b[1;33m,\u001b[0m\u001b[1;33m\u001b[0m\u001b[1;33m\u001b[0m\u001b[0m\n\u001b[0;32m      5\u001b[0m         \u001b[1;34m\"accuracy\"\u001b[0m\u001b[1;33m:\u001b[0m \u001b[0mreport\u001b[0m\u001b[1;33m[\u001b[0m\u001b[1;34m\"accuracy\"\u001b[0m\u001b[1;33m]\u001b[0m\u001b[1;33m,\u001b[0m\u001b[1;33m\u001b[0m\u001b[1;33m\u001b[0m\u001b[0m\n\u001b[1;32m----> 6\u001b[1;33m         \u001b[1;34m\"crop_f1\"\u001b[0m\u001b[1;33m:\u001b[0m \u001b[0mreport\u001b[0m\u001b[1;33m[\u001b[0m\u001b[1;34m\"1\"\u001b[0m\u001b[1;33m]\u001b[0m\u001b[1;33m[\u001b[0m\u001b[1;34m\"f1-score\"\u001b[0m\u001b[1;33m]\u001b[0m\u001b[1;33m,\u001b[0m\u001b[1;33m\u001b[0m\u001b[1;33m\u001b[0m\u001b[0m\n\u001b[0m\u001b[0;32m      7\u001b[0m         \u001b[1;34m\"crop_support\"\u001b[0m\u001b[1;33m:\u001b[0m \u001b[0mreport\u001b[0m\u001b[1;33m[\u001b[0m\u001b[1;34m\"1\"\u001b[0m\u001b[1;33m]\u001b[0m\u001b[1;33m[\u001b[0m\u001b[1;34m\"support\"\u001b[0m\u001b[1;33m]\u001b[0m\u001b[1;33m,\u001b[0m\u001b[1;33m\u001b[0m\u001b[1;33m\u001b[0m\u001b[0m\n\u001b[0;32m      8\u001b[0m         \u001b[1;34m\"noncrop_support\"\u001b[0m\u001b[1;33m:\u001b[0m \u001b[0mreport\u001b[0m\u001b[1;33m[\u001b[0m\u001b[1;34m\"0\"\u001b[0m\u001b[1;33m]\u001b[0m\u001b[1;33m[\u001b[0m\u001b[1;34m\"support\"\u001b[0m\u001b[1;33m]\u001b[0m\u001b[1;33m,\u001b[0m\u001b[1;33m\u001b[0m\u001b[1;33m\u001b[0m\u001b[0m\n",
      "\u001b[1;31mKeyError\u001b[0m: '1'"
     ]
    }
   ],
   "source": [
    "for country, df in test_data.groupby(\"country\"):\n",
    "    for dataset in [\"cop\", \"esa\", \"glad\", \"harvest_togo\", \"harvest_kenya\", \"harvest_tanzania\"]:\n",
    "        # If country is non-empty\n",
    "        if not pd.isnull(df[dataset]).all():\n",
    "            print(country + \": \" + dataset)\n",
    "            # Remove na values\n",
    "            temp = df[[\"test_class\", dataset]].dropna()\n",
    "            if len(temp) > 10:\n",
    "                report = classification_report(temp[\"test_class\"], temp[dataset], output_dict= True)     \n",
    "\n",
    "            results[country] = report_to_row(dataset, report, results[country])"
   ]
  },
  {
   "cell_type": "markdown",
   "metadata": {},
   "source": [
    "**Kenya**"
   ]
  },
  {
   "cell_type": "code",
   "execution_count": null,
   "metadata": {},
   "outputs": [
    {
     "data": {
      "text/html": [
       "<div>\n",
       "<style scoped>\n",
       "    .dataframe tbody tr th:only-of-type {\n",
       "        vertical-align: middle;\n",
       "    }\n",
       "\n",
       "    .dataframe tbody tr th {\n",
       "        vertical-align: top;\n",
       "    }\n",
       "\n",
       "    .dataframe thead th {\n",
       "        text-align: right;\n",
       "    }\n",
       "</style>\n",
       "<table border=\"1\" class=\"dataframe\">\n",
       "  <thead>\n",
       "    <tr style=\"text-align: right;\">\n",
       "      <th></th>\n",
       "      <th>dataset</th>\n",
       "      <th>accuracy</th>\n",
       "      <th>crop_f1</th>\n",
       "      <th>crop_support</th>\n",
       "      <th>noncrop_support</th>\n",
       "      <th>crop_precision</th>\n",
       "      <th>crop_recall</th>\n",
       "      <th>noncrop_precision</th>\n",
       "      <th>noncrop_recall</th>\n",
       "    </tr>\n",
       "  </thead>\n",
       "  <tbody>\n",
       "    <tr>\n",
       "      <th>0</th>\n",
       "      <td>cop</td>\n",
       "      <td>0.913148</td>\n",
       "      <td>0.937824</td>\n",
       "      <td>571</td>\n",
       "      <td>258</td>\n",
       "      <td>0.925043</td>\n",
       "      <td>0.950963</td>\n",
       "      <td>0.884298</td>\n",
       "      <td>0.829457</td>\n",
       "    </tr>\n",
       "    <tr>\n",
       "      <th>0</th>\n",
       "      <td>esa</td>\n",
       "      <td>0.449940</td>\n",
       "      <td>0.341040</td>\n",
       "      <td>571</td>\n",
       "      <td>258</td>\n",
       "      <td>0.975207</td>\n",
       "      <td>0.206655</td>\n",
       "      <td>0.360169</td>\n",
       "      <td>0.988372</td>\n",
       "    </tr>\n",
       "    <tr>\n",
       "      <th>0</th>\n",
       "      <td>glad</td>\n",
       "      <td>0.849216</td>\n",
       "      <td>0.885636</td>\n",
       "      <td>571</td>\n",
       "      <td>258</td>\n",
       "      <td>0.927203</td>\n",
       "      <td>0.847636</td>\n",
       "      <td>0.716612</td>\n",
       "      <td>0.852713</td>\n",
       "    </tr>\n",
       "    <tr>\n",
       "      <th>0</th>\n",
       "      <td>harvest_kenya</td>\n",
       "      <td>0.952722</td>\n",
       "      <td>0.968054</td>\n",
       "      <td>520</td>\n",
       "      <td>178</td>\n",
       "      <td>0.974659</td>\n",
       "      <td>0.961538</td>\n",
       "      <td>0.891892</td>\n",
       "      <td>0.926966</td>\n",
       "    </tr>\n",
       "    <tr>\n",
       "      <th>0</th>\n",
       "      <td>harvest_tanzania</td>\n",
       "      <td>0.952722</td>\n",
       "      <td>0.968054</td>\n",
       "      <td>520</td>\n",
       "      <td>178</td>\n",
       "      <td>0.974659</td>\n",
       "      <td>0.961538</td>\n",
       "      <td>0.891892</td>\n",
       "      <td>0.926966</td>\n",
       "    </tr>\n",
       "  </tbody>\n",
       "</table>\n",
       "</div>"
      ],
      "text/plain": [
       "            dataset  accuracy   crop_f1 crop_support noncrop_support  \\\n",
       "0               cop  0.913148  0.937824          571             258   \n",
       "0               esa  0.449940  0.341040          571             258   \n",
       "0              glad  0.849216  0.885636          571             258   \n",
       "0     harvest_kenya  0.952722  0.968054          520             178   \n",
       "0  harvest_tanzania  0.952722  0.968054          520             178   \n",
       "\n",
       "   crop_precision  crop_recall  noncrop_precision  noncrop_recall  \n",
       "0        0.925043     0.950963           0.884298        0.829457  \n",
       "0        0.975207     0.206655           0.360169        0.988372  \n",
       "0        0.927203     0.847636           0.716612        0.852713  \n",
       "0        0.974659     0.961538           0.891892        0.926966  \n",
       "0        0.974659     0.961538           0.891892        0.926966  "
      ]
     },
     "execution_count": 36,
     "metadata": {},
     "output_type": "execute_result"
    }
   ],
   "source": [
    "results[\"Kenya\"]"
   ]
  },
  {
   "cell_type": "markdown",
   "metadata": {},
   "source": [
    "**Togo**"
   ]
  },
  {
   "cell_type": "code",
   "execution_count": null,
   "metadata": {},
   "outputs": [
    {
     "data": {
      "text/html": [
       "<div>\n",
       "<style scoped>\n",
       "    .dataframe tbody tr th:only-of-type {\n",
       "        vertical-align: middle;\n",
       "    }\n",
       "\n",
       "    .dataframe tbody tr th {\n",
       "        vertical-align: top;\n",
       "    }\n",
       "\n",
       "    .dataframe thead th {\n",
       "        text-align: right;\n",
       "    }\n",
       "</style>\n",
       "<table border=\"1\" class=\"dataframe\">\n",
       "  <thead>\n",
       "    <tr style=\"text-align: right;\">\n",
       "      <th></th>\n",
       "      <th>dataset</th>\n",
       "      <th>accuracy</th>\n",
       "      <th>crop_f1</th>\n",
       "      <th>crop_support</th>\n",
       "      <th>noncrop_support</th>\n",
       "      <th>crop_precision</th>\n",
       "      <th>crop_recall</th>\n",
       "      <th>noncrop_precision</th>\n",
       "      <th>noncrop_recall</th>\n",
       "    </tr>\n",
       "  </thead>\n",
       "  <tbody>\n",
       "    <tr>\n",
       "      <th>0</th>\n",
       "      <td>cop</td>\n",
       "      <td>0.732394</td>\n",
       "      <td>0.541063</td>\n",
       "      <td>107</td>\n",
       "      <td>248</td>\n",
       "      <td>0.560000</td>\n",
       "      <td>0.523364</td>\n",
       "      <td>0.800000</td>\n",
       "      <td>0.822581</td>\n",
       "    </tr>\n",
       "    <tr>\n",
       "      <th>0</th>\n",
       "      <td>esa</td>\n",
       "      <td>0.794366</td>\n",
       "      <td>0.613757</td>\n",
       "      <td>107</td>\n",
       "      <td>248</td>\n",
       "      <td>0.707317</td>\n",
       "      <td>0.542056</td>\n",
       "      <td>0.820513</td>\n",
       "      <td>0.903226</td>\n",
       "    </tr>\n",
       "    <tr>\n",
       "      <th>0</th>\n",
       "      <td>glad</td>\n",
       "      <td>0.783099</td>\n",
       "      <td>0.596859</td>\n",
       "      <td>107</td>\n",
       "      <td>248</td>\n",
       "      <td>0.678571</td>\n",
       "      <td>0.532710</td>\n",
       "      <td>0.815498</td>\n",
       "      <td>0.891129</td>\n",
       "    </tr>\n",
       "    <tr>\n",
       "      <th>0</th>\n",
       "      <td>harvest_togo</td>\n",
       "      <td>0.746479</td>\n",
       "      <td>0.656489</td>\n",
       "      <td>107</td>\n",
       "      <td>248</td>\n",
       "      <td>0.554839</td>\n",
       "      <td>0.803738</td>\n",
       "      <td>0.895000</td>\n",
       "      <td>0.721774</td>\n",
       "    </tr>\n",
       "  </tbody>\n",
       "</table>\n",
       "</div>"
      ],
      "text/plain": [
       "        dataset  accuracy   crop_f1 crop_support noncrop_support  \\\n",
       "0           cop  0.732394  0.541063          107             248   \n",
       "0           esa  0.794366  0.613757          107             248   \n",
       "0          glad  0.783099  0.596859          107             248   \n",
       "0  harvest_togo  0.746479  0.656489          107             248   \n",
       "\n",
       "   crop_precision  crop_recall  noncrop_precision  noncrop_recall  \n",
       "0        0.560000     0.523364           0.800000        0.822581  \n",
       "0        0.707317     0.542056           0.820513        0.903226  \n",
       "0        0.678571     0.532710           0.815498        0.891129  \n",
       "0        0.554839     0.803738           0.895000        0.721774  "
      ]
     },
     "execution_count": 37,
     "metadata": {},
     "output_type": "execute_result"
    }
   ],
   "source": [
    "results[\"Togo\"]"
   ]
  },
  {
   "cell_type": "markdown",
   "metadata": {},
   "source": [
    "**Tanzania**"
   ]
  },
  {
   "cell_type": "code",
   "execution_count": null,
   "metadata": {},
   "outputs": [
    {
     "data": {
      "text/html": [
       "<div>\n",
       "<style scoped>\n",
       "    .dataframe tbody tr th:only-of-type {\n",
       "        vertical-align: middle;\n",
       "    }\n",
       "\n",
       "    .dataframe tbody tr th {\n",
       "        vertical-align: top;\n",
       "    }\n",
       "\n",
       "    .dataframe thead th {\n",
       "        text-align: right;\n",
       "    }\n",
       "</style>\n",
       "<table border=\"1\" class=\"dataframe\">\n",
       "  <thead>\n",
       "    <tr style=\"text-align: right;\">\n",
       "      <th></th>\n",
       "      <th>dataset</th>\n",
       "      <th>accuracy</th>\n",
       "      <th>crop_f1</th>\n",
       "      <th>crop_support</th>\n",
       "      <th>noncrop_support</th>\n",
       "      <th>crop_precision</th>\n",
       "      <th>crop_recall</th>\n",
       "      <th>noncrop_precision</th>\n",
       "      <th>noncrop_recall</th>\n",
       "    </tr>\n",
       "  </thead>\n",
       "  <tbody>\n",
       "    <tr>\n",
       "      <th>0</th>\n",
       "      <td>cop</td>\n",
       "      <td>0.811439</td>\n",
       "      <td>0.630513</td>\n",
       "      <td>629</td>\n",
       "      <td>2081</td>\n",
       "      <td>0.578249</td>\n",
       "      <td>0.693164</td>\n",
       "      <td>0.901329</td>\n",
       "      <td>0.847189</td>\n",
       "    </tr>\n",
       "    <tr>\n",
       "      <th>0</th>\n",
       "      <td>esa</td>\n",
       "      <td>0.840030</td>\n",
       "      <td>0.665610</td>\n",
       "      <td>629</td>\n",
       "      <td>2009</td>\n",
       "      <td>0.663507</td>\n",
       "      <td>0.667727</td>\n",
       "      <td>0.895761</td>\n",
       "      <td>0.893977</td>\n",
       "    </tr>\n",
       "    <tr>\n",
       "      <th>0</th>\n",
       "      <td>glad</td>\n",
       "      <td>0.836900</td>\n",
       "      <td>0.646400</td>\n",
       "      <td>629</td>\n",
       "      <td>2081</td>\n",
       "      <td>0.650564</td>\n",
       "      <td>0.642289</td>\n",
       "      <td>0.892293</td>\n",
       "      <td>0.895723</td>\n",
       "    </tr>\n",
       "    <tr>\n",
       "      <th>0</th>\n",
       "      <td>harvest_kenya</td>\n",
       "      <td>0.791277</td>\n",
       "      <td>0.562092</td>\n",
       "      <td>104</td>\n",
       "      <td>217</td>\n",
       "      <td>0.877551</td>\n",
       "      <td>0.413462</td>\n",
       "      <td>0.775735</td>\n",
       "      <td>0.972350</td>\n",
       "    </tr>\n",
       "    <tr>\n",
       "      <th>0</th>\n",
       "      <td>harvest_tanzania</td>\n",
       "      <td>0.784224</td>\n",
       "      <td>0.643703</td>\n",
       "      <td>431</td>\n",
       "      <td>1103</td>\n",
       "      <td>0.600402</td>\n",
       "      <td>0.693735</td>\n",
       "      <td>0.872587</td>\n",
       "      <td>0.819583</td>\n",
       "    </tr>\n",
       "  </tbody>\n",
       "</table>\n",
       "</div>"
      ],
      "text/plain": [
       "            dataset  accuracy   crop_f1 crop_support noncrop_support  \\\n",
       "0               cop  0.811439  0.630513          629            2081   \n",
       "0               esa  0.840030  0.665610          629            2009   \n",
       "0              glad  0.836900  0.646400          629            2081   \n",
       "0     harvest_kenya  0.791277  0.562092          104             217   \n",
       "0  harvest_tanzania  0.784224  0.643703          431            1103   \n",
       "\n",
       "   crop_precision  crop_recall  noncrop_precision  noncrop_recall  \n",
       "0        0.578249     0.693164           0.901329        0.847189  \n",
       "0        0.663507     0.667727           0.895761        0.893977  \n",
       "0        0.650564     0.642289           0.892293        0.895723  \n",
       "0        0.877551     0.413462           0.775735        0.972350  \n",
       "0        0.600402     0.693735           0.872587        0.819583  "
      ]
     },
     "execution_count": 38,
     "metadata": {},
     "output_type": "execute_result"
    }
   ],
   "source": [
    "results[\"Tanzania_CEO_2019\"]"
   ]
  }
 ],
 "metadata": {
  "kernelspec": {
   "display_name": "Python 3.8.8 ('intercomparison')",
   "language": "python",
   "name": "python3"
  },
  "language_info": {
   "codemirror_mode": {
    "name": "ipython",
    "version": 3
   },
   "file_extension": ".py",
   "mimetype": "text/x-python",
   "name": "python",
   "nbconvert_exporter": "python",
   "pygments_lexer": "ipython3",
   "version": "3.8.8"
  },
  "orig_nbformat": 4,
  "vscode": {
   "interpreter": {
    "hash": "b9a057a3c2bc11d9fb1a09bad675557d69c9743adf6ae74a67a8c76be0d35d72"
   }
  }
 },
 "nbformat": 4,
 "nbformat_minor": 2
}
