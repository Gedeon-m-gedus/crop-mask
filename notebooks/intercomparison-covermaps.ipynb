{
 "cells": [
  {
   "cell_type": "markdown",
   "metadata": {},
   "source": [
    "# Covermap Comparison\n",
    "\n",
    "**Author:** Adam Yang (ayang115@umd.edu)\n",
    "\n",
    "**Description:** Compares datasets against test sets\n",
    "\n",
    "**Crop Maps Used:** "
   ]
  },
  {
   "cell_type": "code",
   "execution_count": 49,
   "metadata": {},
   "outputs": [],
   "source": [
    "import pandas as pd\n",
    "import numpy as np\n",
    "import geopandas as gdp\n",
    "import os\n",
    "import geemap\n",
    "from sklearn.metrics import classification_report "
   ]
  },
  {
   "cell_type": "code",
   "execution_count": 2,
   "metadata": {},
   "outputs": [
    {
     "data": {
      "text/html": [
       "<p>To authorize access needed by Earth Engine, open the following\n",
       "        URL in a web browser and follow the instructions:</p>\n",
       "        <p><a href=https://code.earthengine.google.com/client-auth?scopes=https%3A//www.googleapis.com/auth/earthengine%20https%3A//www.googleapis.com/auth/devstorage.full_control&request_id=_p7L7YbM9UguSb2ysF0VWSkUP6Qa6Sg-GlBGloaEmDQ&tc=EqOiGVF0Jhrohy45dzzBcUlCw0OoN2HaH_QYMBGYrq0&cc=In4KFkbSXF7lOqGaEj0U6XJ_p6llr1Sffe3yl-qqdL4>https://code.earthengine.google.com/client-auth?scopes=https%3A//www.googleapis.com/auth/earthengine%20https%3A//www.googleapis.com/auth/devstorage.full_control&request_id=_p7L7YbM9UguSb2ysF0VWSkUP6Qa6Sg-GlBGloaEmDQ&tc=EqOiGVF0Jhrohy45dzzBcUlCw0OoN2HaH_QYMBGYrq0&cc=In4KFkbSXF7lOqGaEj0U6XJ_p6llr1Sffe3yl-qqdL4</a></p>\n",
       "        <p>The authorization workflow will generate a code, which you should paste in the box below.</p>\n",
       "        "
      ],
      "text/plain": [
       "<IPython.core.display.HTML object>"
      ]
     },
     "metadata": {},
     "output_type": "display_data"
    },
    {
     "name": "stdout",
     "output_type": "stream",
     "text": [
      "\n",
      "Successfully saved authorization token.\n"
     ]
    }
   ],
   "source": [
    "import ee\n",
    "\n",
    "ee.Authenticate()\n",
    "\n",
    "ee.Initialize()"
   ]
  },
  {
   "cell_type": "markdown",
   "metadata": {},
   "source": [
    "## **Section 0** - Declaring Functions & Loading Test Data"
   ]
  },
  {
   "cell_type": "code",
   "execution_count": 3,
   "metadata": {},
   "outputs": [],
   "source": [
    "# Remaps classes to crop/noncrop \n",
    "def map_values(val, value_for_crop):\n",
    "    if val == value_for_crop:\n",
    "        return 1\n",
    "    else:\n",
    "        return 0"
   ]
  },
  {
   "cell_type": "code",
   "execution_count": 4,
   "metadata": {},
   "outputs": [],
   "source": [
    "# Function used in map function to extract from feature collection\n",
    "def rasterExtraction(image, resolution, f_collection):\n",
    "    feature = image.sampleRegions(\n",
    "        collection = f_collection,\n",
    "        scale = resolution\n",
    "    )\n",
    "    return feature"
   ]
  },
  {
   "cell_type": "code",
   "execution_count": 5,
   "metadata": {},
   "outputs": [],
   "source": [
    "# Creates ee.Feature from longitude and latitude coordinates from a dataframe\n",
    "def create_point(row):\n",
    "    geom = ee.Geometry.Point(row[\"lon\"], row[\"lat\"])\n",
    "    prop = dict(row)\n",
    "\n",
    "    return ee.Feature(geom, prop)"
   ]
  },
  {
   "cell_type": "code",
   "execution_count": 6,
   "metadata": {},
   "outputs": [],
   "source": [
    "test_files = [\"Togo.csv\", \"Kenya.csv\"]\n",
    "dir = \"../data/datasets/\""
   ]
  },
  {
   "cell_type": "code",
   "execution_count": 40,
   "metadata": {},
   "outputs": [],
   "source": [
    "test_data = pd.DataFrame(columns=[\"lat\", \"lon\", \"test_class\", \"ee_pts\", \"country\"])\n",
    "\n",
    "test_set = []\n",
    "for file in test_files:\n",
    "    # Set dict key name\n",
    "    key = file.split('.')[0]\n",
    "\n",
    "    # Read in data and extract test values and points \n",
    "    df = pd.read_csv((dir+file))\n",
    "    df = df.loc[df[\"subset\"] == \"testing\"]\n",
    "    df = df[[\"lat\", \"lon\", \"class_probability\"]]\n",
    "\n",
    "    # Create earth engine geometry points\n",
    "    df[\"ee_pts\"] = df.apply(create_point, axis=1)\n",
    "\n",
    "    # Recast points as 1 or 0 (threshold = 0.5)\n",
    "    df[\"test_class\"] = df[\"class_probability\"].apply(lambda x: 1 if x>=0.5 else 0)\n",
    "\n",
    "    df[\"country\"] = key\n",
    "\n",
    "    test_set.append(df)\n",
    "\n",
    "test_data = pd.concat(test_set)"
   ]
  },
  {
   "cell_type": "code",
   "execution_count": 42,
   "metadata": {},
   "outputs": [
    {
     "data": {
      "text/html": [
       "<div>\n",
       "<style scoped>\n",
       "    .dataframe tbody tr th:only-of-type {\n",
       "        vertical-align: middle;\n",
       "    }\n",
       "\n",
       "    .dataframe tbody tr th {\n",
       "        vertical-align: top;\n",
       "    }\n",
       "\n",
       "    .dataframe thead th {\n",
       "        text-align: right;\n",
       "    }\n",
       "</style>\n",
       "<table border=\"1\" class=\"dataframe\">\n",
       "  <thead>\n",
       "    <tr style=\"text-align: right;\">\n",
       "      <th></th>\n",
       "      <th>lat</th>\n",
       "      <th>lon</th>\n",
       "      <th>class_probability</th>\n",
       "      <th>ee_pts</th>\n",
       "      <th>test_class</th>\n",
       "      <th>country</th>\n",
       "    </tr>\n",
       "  </thead>\n",
       "  <tbody>\n",
       "    <tr>\n",
       "      <th>1276</th>\n",
       "      <td>9.875907</td>\n",
       "      <td>1.172471</td>\n",
       "      <td>0.00</td>\n",
       "      <td>ee.Feature({\\n  \"functionInvocationValue\": {\\n...</td>\n",
       "      <td>0</td>\n",
       "      <td>Togo</td>\n",
       "    </tr>\n",
       "    <tr>\n",
       "      <th>1277</th>\n",
       "      <td>9.180105</td>\n",
       "      <td>1.374695</td>\n",
       "      <td>0.25</td>\n",
       "      <td>ee.Feature({\\n  \"functionInvocationValue\": {\\n...</td>\n",
       "      <td>0</td>\n",
       "      <td>Togo</td>\n",
       "    </tr>\n",
       "    <tr>\n",
       "      <th>1278</th>\n",
       "      <td>9.275314</td>\n",
       "      <td>1.196385</td>\n",
       "      <td>0.00</td>\n",
       "      <td>ee.Feature({\\n  \"functionInvocationValue\": {\\n...</td>\n",
       "      <td>0</td>\n",
       "      <td>Togo</td>\n",
       "    </tr>\n",
       "    <tr>\n",
       "      <th>1279</th>\n",
       "      <td>7.346575</td>\n",
       "      <td>0.705167</td>\n",
       "      <td>0.00</td>\n",
       "      <td>ee.Feature({\\n  \"functionInvocationValue\": {\\n...</td>\n",
       "      <td>0</td>\n",
       "      <td>Togo</td>\n",
       "    </tr>\n",
       "    <tr>\n",
       "      <th>1280</th>\n",
       "      <td>6.777337</td>\n",
       "      <td>0.629817</td>\n",
       "      <td>0.25</td>\n",
       "      <td>ee.Feature({\\n  \"functionInvocationValue\": {\\n...</td>\n",
       "      <td>0</td>\n",
       "      <td>Togo</td>\n",
       "    </tr>\n",
       "  </tbody>\n",
       "</table>\n",
       "</div>"
      ],
      "text/plain": [
       "           lat       lon  class_probability  \\\n",
       "1276  9.875907  1.172471               0.00   \n",
       "1277  9.180105  1.374695               0.25   \n",
       "1278  9.275314  1.196385               0.00   \n",
       "1279  7.346575  0.705167               0.00   \n",
       "1280  6.777337  0.629817               0.25   \n",
       "\n",
       "                                                 ee_pts  test_class country  \n",
       "1276  ee.Feature({\\n  \"functionInvocationValue\": {\\n...           0    Togo  \n",
       "1277  ee.Feature({\\n  \"functionInvocationValue\": {\\n...           0    Togo  \n",
       "1278  ee.Feature({\\n  \"functionInvocationValue\": {\\n...           0    Togo  \n",
       "1279  ee.Feature({\\n  \"functionInvocationValue\": {\\n...           0    Togo  \n",
       "1280  ee.Feature({\\n  \"functionInvocationValue\": {\\n...           0    Togo  "
      ]
     },
     "execution_count": 42,
     "metadata": {},
     "output_type": "execute_result"
    }
   ],
   "source": [
    "test_data.head()"
   ]
  },
  {
   "cell_type": "code",
   "execution_count": 25,
   "metadata": {},
   "outputs": [],
   "source": [
    "test_coll = ee.FeatureCollection(test_data[\"ee_pts\"].tolist())"
   ]
  },
  {
   "cell_type": "markdown",
   "metadata": {},
   "source": [
    "## **Section 1** - Harvest Data"
   ]
  },
  {
   "cell_type": "markdown",
   "metadata": {},
   "source": [
    "## **Section 2** - Earth Engine Accessible"
   ]
  },
  {
   "cell_type": "markdown",
   "metadata": {},
   "source": [
    "**Copernicus Land Cover** ([Earth Engine](https://developers.google.com/earth-engine/datasets/catalog/COPERNICUS_Landcover_100m_Proba-V-C3_Global#description))"
   ]
  },
  {
   "cell_type": "code",
   "execution_count": 26,
   "metadata": {},
   "outputs": [],
   "source": [
    "# Load copernicus data\n",
    "copernicus = ee.ImageCollection(\"COPERNICUS/Landcover/100m/Proba-V-C3/Global\")\n",
    "cop_results = copernicus.filterBounds(test_coll).select(\"discrete_classification\").map(lambda x: rasterExtraction(x, 100, test_coll)).flatten()\n"
   ]
  },
  {
   "cell_type": "code",
   "execution_count": 27,
   "metadata": {},
   "outputs": [
    {
     "ename": "Exception",
     "evalue": "Collection query aborted after accumulating over 5000 elements.",
     "output_type": "error",
     "traceback": [
      "\u001b[1;31m---------------------------------------------------------------------------\u001b[0m",
      "\u001b[1;31mHttpError\u001b[0m                                 Traceback (most recent call last)",
      "\u001b[1;32mc:\\Users\\adamf\\anaconda3\\envs\\intercomparison\\lib\\site-packages\\ee\\data.py\u001b[0m in \u001b[0;36m_execute_cloud_call\u001b[1;34m(call, num_retries)\u001b[0m\n\u001b[0;32m    327\u001b[0m   \u001b[1;32mtry\u001b[0m\u001b[1;33m:\u001b[0m\u001b[1;33m\u001b[0m\u001b[1;33m\u001b[0m\u001b[0m\n\u001b[1;32m--> 328\u001b[1;33m     \u001b[1;32mreturn\u001b[0m \u001b[0mcall\u001b[0m\u001b[1;33m.\u001b[0m\u001b[0mexecute\u001b[0m\u001b[1;33m(\u001b[0m\u001b[0mnum_retries\u001b[0m\u001b[1;33m=\u001b[0m\u001b[0mnum_retries\u001b[0m\u001b[1;33m)\u001b[0m\u001b[1;33m\u001b[0m\u001b[1;33m\u001b[0m\u001b[0m\n\u001b[0m\u001b[0;32m    329\u001b[0m   \u001b[1;32mexcept\u001b[0m \u001b[0mgoogleapiclient\u001b[0m\u001b[1;33m.\u001b[0m\u001b[0merrors\u001b[0m\u001b[1;33m.\u001b[0m\u001b[0mHttpError\u001b[0m \u001b[1;32mas\u001b[0m \u001b[0me\u001b[0m\u001b[1;33m:\u001b[0m\u001b[1;33m\u001b[0m\u001b[1;33m\u001b[0m\u001b[0m\n",
      "\u001b[1;32mc:\\Users\\adamf\\anaconda3\\envs\\intercomparison\\lib\\site-packages\\googleapiclient\\_helpers.py\u001b[0m in \u001b[0;36mpositional_wrapper\u001b[1;34m(*args, **kwargs)\u001b[0m\n\u001b[0;32m    133\u001b[0m                     \u001b[0mlogger\u001b[0m\u001b[1;33m.\u001b[0m\u001b[0mwarning\u001b[0m\u001b[1;33m(\u001b[0m\u001b[0mmessage\u001b[0m\u001b[1;33m)\u001b[0m\u001b[1;33m\u001b[0m\u001b[1;33m\u001b[0m\u001b[0m\n\u001b[1;32m--> 134\u001b[1;33m             \u001b[1;32mreturn\u001b[0m \u001b[0mwrapped\u001b[0m\u001b[1;33m(\u001b[0m\u001b[1;33m*\u001b[0m\u001b[0margs\u001b[0m\u001b[1;33m,\u001b[0m \u001b[1;33m**\u001b[0m\u001b[0mkwargs\u001b[0m\u001b[1;33m)\u001b[0m\u001b[1;33m\u001b[0m\u001b[1;33m\u001b[0m\u001b[0m\n\u001b[0m\u001b[0;32m    135\u001b[0m \u001b[1;33m\u001b[0m\u001b[0m\n",
      "\u001b[1;32mc:\\Users\\adamf\\anaconda3\\envs\\intercomparison\\lib\\site-packages\\googleapiclient\\http.py\u001b[0m in \u001b[0;36mexecute\u001b[1;34m(self, http, num_retries)\u001b[0m\n\u001b[0;32m    914\u001b[0m         \u001b[1;32mif\u001b[0m \u001b[0mresp\u001b[0m\u001b[1;33m.\u001b[0m\u001b[0mstatus\u001b[0m \u001b[1;33m>=\u001b[0m \u001b[1;36m300\u001b[0m\u001b[1;33m:\u001b[0m\u001b[1;33m\u001b[0m\u001b[1;33m\u001b[0m\u001b[0m\n\u001b[1;32m--> 915\u001b[1;33m             \u001b[1;32mraise\u001b[0m \u001b[0mHttpError\u001b[0m\u001b[1;33m(\u001b[0m\u001b[0mresp\u001b[0m\u001b[1;33m,\u001b[0m \u001b[0mcontent\u001b[0m\u001b[1;33m,\u001b[0m \u001b[0muri\u001b[0m\u001b[1;33m=\u001b[0m\u001b[0mself\u001b[0m\u001b[1;33m.\u001b[0m\u001b[0muri\u001b[0m\u001b[1;33m)\u001b[0m\u001b[1;33m\u001b[0m\u001b[1;33m\u001b[0m\u001b[0m\n\u001b[0m\u001b[0;32m    916\u001b[0m         \u001b[1;32mreturn\u001b[0m \u001b[0mself\u001b[0m\u001b[1;33m.\u001b[0m\u001b[0mpostproc\u001b[0m\u001b[1;33m(\u001b[0m\u001b[0mresp\u001b[0m\u001b[1;33m,\u001b[0m \u001b[0mcontent\u001b[0m\u001b[1;33m)\u001b[0m\u001b[1;33m\u001b[0m\u001b[1;33m\u001b[0m\u001b[0m\n",
      "\u001b[1;31mHttpError\u001b[0m: <HttpError 400 when requesting https://earthengine.googleapis.com/v1alpha/projects/earthengine-legacy/value:compute?prettyPrint=false&alt=json returned \"Collection query aborted after accumulating over 5000 elements.\". Details: \"Collection query aborted after accumulating over 5000 elements.\">",
      "\nDuring handling of the above exception, another exception occurred:\n",
      "\u001b[1;31mEEException\u001b[0m                               Traceback (most recent call last)",
      "\u001b[1;32mc:\\Users\\adamf\\anaconda3\\envs\\intercomparison\\lib\\site-packages\\geemap\\common.py\u001b[0m in \u001b[0;36mee_to_geojson\u001b[1;34m(ee_object, filename, indent, **kwargs)\u001b[0m\n\u001b[0;32m   1292\u001b[0m         ):\n\u001b[1;32m-> 1293\u001b[1;33m             \u001b[0mjson_object\u001b[0m \u001b[1;33m=\u001b[0m \u001b[0mee_object\u001b[0m\u001b[1;33m.\u001b[0m\u001b[0mgetInfo\u001b[0m\u001b[1;33m(\u001b[0m\u001b[1;33m)\u001b[0m\u001b[1;33m\u001b[0m\u001b[1;33m\u001b[0m\u001b[0m\n\u001b[0m\u001b[0;32m   1294\u001b[0m             \u001b[1;32mif\u001b[0m \u001b[0mfilename\u001b[0m \u001b[1;32mis\u001b[0m \u001b[1;32mnot\u001b[0m \u001b[1;32mNone\u001b[0m\u001b[1;33m:\u001b[0m\u001b[1;33m\u001b[0m\u001b[1;33m\u001b[0m\u001b[0m\n",
      "\u001b[1;32mc:\\Users\\adamf\\anaconda3\\envs\\intercomparison\\lib\\site-packages\\ee\\collection.py\u001b[0m in \u001b[0;36mgetInfo\u001b[1;34m(self)\u001b[0m\n\u001b[0;32m    132\u001b[0m     \"\"\"\n\u001b[1;32m--> 133\u001b[1;33m     \u001b[1;32mreturn\u001b[0m \u001b[0msuper\u001b[0m\u001b[1;33m(\u001b[0m\u001b[0mCollection\u001b[0m\u001b[1;33m,\u001b[0m \u001b[0mself\u001b[0m\u001b[1;33m)\u001b[0m\u001b[1;33m.\u001b[0m\u001b[0mgetInfo\u001b[0m\u001b[1;33m(\u001b[0m\u001b[1;33m)\u001b[0m\u001b[1;33m\u001b[0m\u001b[1;33m\u001b[0m\u001b[0m\n\u001b[0m\u001b[0;32m    134\u001b[0m \u001b[1;33m\u001b[0m\u001b[0m\n",
      "\u001b[1;32mc:\\Users\\adamf\\anaconda3\\envs\\intercomparison\\lib\\site-packages\\ee\\computedobject.py\u001b[0m in \u001b[0;36mgetInfo\u001b[1;34m(self)\u001b[0m\n\u001b[0;32m     97\u001b[0m     \"\"\"\n\u001b[1;32m---> 98\u001b[1;33m     \u001b[1;32mreturn\u001b[0m \u001b[0mdata\u001b[0m\u001b[1;33m.\u001b[0m\u001b[0mcomputeValue\u001b[0m\u001b[1;33m(\u001b[0m\u001b[0mself\u001b[0m\u001b[1;33m)\u001b[0m\u001b[1;33m\u001b[0m\u001b[1;33m\u001b[0m\u001b[0m\n\u001b[0m\u001b[0;32m     99\u001b[0m \u001b[1;33m\u001b[0m\u001b[0m\n",
      "\u001b[1;32mc:\\Users\\adamf\\anaconda3\\envs\\intercomparison\\lib\\site-packages\\ee\\data.py\u001b[0m in \u001b[0;36mcomputeValue\u001b[1;34m(obj)\u001b[0m\n\u001b[0;32m    756\u001b[0m \u001b[1;33m\u001b[0m\u001b[0m\n\u001b[1;32m--> 757\u001b[1;33m   return _execute_cloud_call(\n\u001b[0m\u001b[0;32m    758\u001b[0m       _get_cloud_api_resource().projects().value().compute(\n",
      "\u001b[1;32mc:\\Users\\adamf\\anaconda3\\envs\\intercomparison\\lib\\site-packages\\ee\\data.py\u001b[0m in \u001b[0;36m_execute_cloud_call\u001b[1;34m(call, num_retries)\u001b[0m\n\u001b[0;32m    329\u001b[0m   \u001b[1;32mexcept\u001b[0m \u001b[0mgoogleapiclient\u001b[0m\u001b[1;33m.\u001b[0m\u001b[0merrors\u001b[0m\u001b[1;33m.\u001b[0m\u001b[0mHttpError\u001b[0m \u001b[1;32mas\u001b[0m \u001b[0me\u001b[0m\u001b[1;33m:\u001b[0m\u001b[1;33m\u001b[0m\u001b[1;33m\u001b[0m\u001b[0m\n\u001b[1;32m--> 330\u001b[1;33m     \u001b[1;32mraise\u001b[0m \u001b[0m_translate_cloud_exception\u001b[0m\u001b[1;33m(\u001b[0m\u001b[0me\u001b[0m\u001b[1;33m)\u001b[0m\u001b[1;33m\u001b[0m\u001b[1;33m\u001b[0m\u001b[0m\n\u001b[0m\u001b[0;32m    331\u001b[0m \u001b[1;33m\u001b[0m\u001b[0m\n",
      "\u001b[1;31mEEException\u001b[0m: Collection query aborted after accumulating over 5000 elements.",
      "\nDuring handling of the above exception, another exception occurred:\n",
      "\u001b[1;31mException\u001b[0m                                 Traceback (most recent call last)",
      "\u001b[1;32m<ipython-input-27-bb1230ad9035>\u001b[0m in \u001b[0;36m<module>\u001b[1;34m\u001b[0m\n\u001b[1;32m----> 1\u001b[1;33m \u001b[0mcopernicus_sampled\u001b[0m \u001b[1;33m=\u001b[0m \u001b[0mgeemap\u001b[0m\u001b[1;33m.\u001b[0m\u001b[0mee_to_gdf\u001b[0m\u001b[1;33m(\u001b[0m\u001b[0mcop_results\u001b[0m\u001b[1;33m)\u001b[0m\u001b[1;33m\u001b[0m\u001b[1;33m\u001b[0m\u001b[0m\n\u001b[0m\u001b[0;32m      2\u001b[0m \u001b[1;31m# Some points appear 5 times, so we take average of all points\u001b[0m\u001b[1;33m\u001b[0m\u001b[1;33m\u001b[0m\u001b[1;33m\u001b[0m\u001b[0m\n\u001b[0;32m      3\u001b[0m \u001b[0mcopernicus_sampled\u001b[0m \u001b[1;33m=\u001b[0m \u001b[0mcopernicus_sampled\u001b[0m\u001b[1;33m.\u001b[0m\u001b[0mgroupby\u001b[0m\u001b[1;33m(\u001b[0m\u001b[1;33m[\u001b[0m\u001b[1;34m\"lat\"\u001b[0m\u001b[1;33m,\u001b[0m \u001b[1;34m\"lon\"\u001b[0m\u001b[1;33m]\u001b[0m\u001b[1;33m)\u001b[0m\u001b[1;33m.\u001b[0m\u001b[0mmean\u001b[0m\u001b[1;33m(\u001b[0m\u001b[1;33m)\u001b[0m\u001b[1;33m.\u001b[0m\u001b[0mreset_index\u001b[0m\u001b[1;33m(\u001b[0m\u001b[1;33m)\u001b[0m\u001b[1;33m\u001b[0m\u001b[1;33m\u001b[0m\u001b[0m\n\u001b[0;32m      4\u001b[0m \u001b[1;31m# Remap values\u001b[0m\u001b[1;33m\u001b[0m\u001b[1;33m\u001b[0m\u001b[1;33m\u001b[0m\u001b[0m\n\u001b[0;32m      5\u001b[0m \u001b[0mcopernicus_sampled\u001b[0m\u001b[1;33m[\u001b[0m\u001b[1;34m\"discrete_classification\"\u001b[0m\u001b[1;33m]\u001b[0m \u001b[1;33m=\u001b[0m \u001b[0mcopernicus_sampled\u001b[0m\u001b[1;33m[\u001b[0m\u001b[1;34m\"discrete_classification\"\u001b[0m\u001b[1;33m]\u001b[0m\u001b[1;33m.\u001b[0m\u001b[0mapply\u001b[0m\u001b[1;33m(\u001b[0m\u001b[1;32mlambda\u001b[0m \u001b[0mx\u001b[0m\u001b[1;33m:\u001b[0m \u001b[0mmap_values\u001b[0m\u001b[1;33m(\u001b[0m\u001b[0mx\u001b[0m\u001b[1;33m,\u001b[0m \u001b[1;36m40\u001b[0m\u001b[1;33m)\u001b[0m\u001b[1;33m)\u001b[0m\u001b[1;33m\u001b[0m\u001b[1;33m\u001b[0m\u001b[0m\n",
      "\u001b[1;32mc:\\Users\\adamf\\anaconda3\\envs\\intercomparison\\lib\\site-packages\\geemap\\common.py\u001b[0m in \u001b[0;36mee_to_gdf\u001b[1;34m(ee_object, selectors, verbose)\u001b[0m\n\u001b[0;32m   8772\u001b[0m         \u001b[1;32mraise\u001b[0m \u001b[0mTypeError\u001b[0m\u001b[1;33m(\u001b[0m\u001b[1;34m\"ee_object must be an ee.FeatureCollection\"\u001b[0m\u001b[1;33m)\u001b[0m\u001b[1;33m\u001b[0m\u001b[1;33m\u001b[0m\u001b[0m\n\u001b[0;32m   8773\u001b[0m \u001b[1;33m\u001b[0m\u001b[0m\n\u001b[1;32m-> 8774\u001b[1;33m     \u001b[0mcollection\u001b[0m \u001b[1;33m=\u001b[0m \u001b[0mee_to_geojson\u001b[0m\u001b[1;33m(\u001b[0m\u001b[0mee_object\u001b[0m\u001b[1;33m)\u001b[0m\u001b[1;33m\u001b[0m\u001b[1;33m\u001b[0m\u001b[0m\n\u001b[0m\u001b[0;32m   8775\u001b[0m     \u001b[0mgdf\u001b[0m \u001b[1;33m=\u001b[0m \u001b[0mgpd\u001b[0m\u001b[1;33m.\u001b[0m\u001b[0mGeoDataFrame\u001b[0m\u001b[1;33m.\u001b[0m\u001b[0mfrom_features\u001b[0m\u001b[1;33m(\u001b[0m\u001b[0mcollection\u001b[0m\u001b[1;33m[\u001b[0m\u001b[1;34m\"features\"\u001b[0m\u001b[1;33m]\u001b[0m\u001b[1;33m)\u001b[0m\u001b[1;33m\u001b[0m\u001b[1;33m\u001b[0m\u001b[0m\n\u001b[0;32m   8776\u001b[0m \u001b[1;33m\u001b[0m\u001b[0m\n",
      "\u001b[1;32mc:\\Users\\adamf\\anaconda3\\envs\\intercomparison\\lib\\site-packages\\geemap\\common.py\u001b[0m in \u001b[0;36mee_to_geojson\u001b[1;34m(ee_object, filename, indent, **kwargs)\u001b[0m\n\u001b[0;32m   1305\u001b[0m             \u001b[0mprint\u001b[0m\u001b[1;33m(\u001b[0m\u001b[1;34m\"Could not convert the Earth Engine object to geojson\"\u001b[0m\u001b[1;33m)\u001b[0m\u001b[1;33m\u001b[0m\u001b[1;33m\u001b[0m\u001b[0m\n\u001b[0;32m   1306\u001b[0m     \u001b[1;32mexcept\u001b[0m \u001b[0mException\u001b[0m \u001b[1;32mas\u001b[0m \u001b[0me\u001b[0m\u001b[1;33m:\u001b[0m\u001b[1;33m\u001b[0m\u001b[1;33m\u001b[0m\u001b[0m\n\u001b[1;32m-> 1307\u001b[1;33m         \u001b[1;32mraise\u001b[0m \u001b[0mException\u001b[0m\u001b[1;33m(\u001b[0m\u001b[0me\u001b[0m\u001b[1;33m)\u001b[0m\u001b[1;33m\u001b[0m\u001b[1;33m\u001b[0m\u001b[0m\n\u001b[0m\u001b[0;32m   1308\u001b[0m \u001b[1;33m\u001b[0m\u001b[0m\n\u001b[0;32m   1309\u001b[0m \u001b[1;33m\u001b[0m\u001b[0m\n",
      "\u001b[1;31mException\u001b[0m: Collection query aborted after accumulating over 5000 elements."
     ]
    }
   ],
   "source": [
    "copernicus_sampled = geemap.ee_to_gdf(cop_results)\n",
    "# Some points appear 5 times, so we take average of all points\n",
    "copernicus_sampled = copernicus_sampled.groupby([\"lat\", \"lon\"]).mean().reset_index()\n",
    "# Remap values\n",
    "copernicus_sampled[\"discrete_classification\"] = copernicus_sampled[\"discrete_classification\"].apply(lambda x: map_values(x, 40))\n",
    "copernicus_sampled.head()"
   ]
  },
  {
   "cell_type": "markdown",
   "metadata": {},
   "source": [
    "**ESA World Cover** ([Earth Engine](https://developers.google.com/earth-engine/datasets/catalog/ESA_WorldCover_v100)) "
   ]
  },
  {
   "cell_type": "code",
   "execution_count": 51,
   "metadata": {},
   "outputs": [],
   "source": [
    "esa = ee.ImageCollection(\"ESA/WorldCover/v100\")\n",
    "esa_results = esa.filterBounds(test_coll).map(lambda x: rasterExtraction(x, 10, test_coll)).flatten()"
   ]
  },
  {
   "cell_type": "code",
   "execution_count": 58,
   "metadata": {},
   "outputs": [
    {
     "data": {
      "text/html": [
       "<div>\n",
       "<style scoped>\n",
       "    .dataframe tbody tr th:only-of-type {\n",
       "        vertical-align: middle;\n",
       "    }\n",
       "\n",
       "    .dataframe tbody tr th {\n",
       "        vertical-align: top;\n",
       "    }\n",
       "\n",
       "    .dataframe thead th {\n",
       "        text-align: right;\n",
       "    }\n",
       "</style>\n",
       "<table border=\"1\" class=\"dataframe\">\n",
       "  <thead>\n",
       "    <tr style=\"text-align: right;\">\n",
       "      <th></th>\n",
       "      <th>geometry</th>\n",
       "      <th>Map</th>\n",
       "      <th>class_probability</th>\n",
       "      <th>lat</th>\n",
       "      <th>lon</th>\n",
       "      <th>esa_class</th>\n",
       "    </tr>\n",
       "  </thead>\n",
       "  <tbody>\n",
       "    <tr>\n",
       "      <th>0</th>\n",
       "      <td>None</td>\n",
       "      <td>20</td>\n",
       "      <td>0.00</td>\n",
       "      <td>9.875907</td>\n",
       "      <td>1.172471</td>\n",
       "      <td>0</td>\n",
       "    </tr>\n",
       "    <tr>\n",
       "      <th>1</th>\n",
       "      <td>None</td>\n",
       "      <td>20</td>\n",
       "      <td>0.25</td>\n",
       "      <td>9.180105</td>\n",
       "      <td>1.374695</td>\n",
       "      <td>0</td>\n",
       "    </tr>\n",
       "    <tr>\n",
       "      <th>2</th>\n",
       "      <td>None</td>\n",
       "      <td>10</td>\n",
       "      <td>0.00</td>\n",
       "      <td>9.275314</td>\n",
       "      <td>1.196385</td>\n",
       "      <td>0</td>\n",
       "    </tr>\n",
       "    <tr>\n",
       "      <th>3</th>\n",
       "      <td>None</td>\n",
       "      <td>10</td>\n",
       "      <td>0.00</td>\n",
       "      <td>7.346575</td>\n",
       "      <td>0.705167</td>\n",
       "      <td>0</td>\n",
       "    </tr>\n",
       "    <tr>\n",
       "      <th>4</th>\n",
       "      <td>None</td>\n",
       "      <td>10</td>\n",
       "      <td>0.25</td>\n",
       "      <td>6.777337</td>\n",
       "      <td>0.629817</td>\n",
       "      <td>0</td>\n",
       "    </tr>\n",
       "  </tbody>\n",
       "</table>\n",
       "</div>"
      ],
      "text/plain": [
       "  geometry  Map  class_probability       lat       lon  esa_class\n",
       "0     None   20               0.00  9.875907  1.172471          0\n",
       "1     None   20               0.25  9.180105  1.374695          0\n",
       "2     None   10               0.00  9.275314  1.196385          0\n",
       "3     None   10               0.00  7.346575  0.705167          0\n",
       "4     None   10               0.25  6.777337  0.629817          0"
      ]
     },
     "execution_count": 58,
     "metadata": {},
     "output_type": "execute_result"
    }
   ],
   "source": [
    "esa_sampled = geemap.ee_to_gdf(esa_results)\n",
    "esa_sampled[\"esa_class\"] = esa_sampled[\"Map\"].apply(lambda x: map_values(x, 40))\n",
    "esa_sampled.head()"
   ]
  },
  {
   "cell_type": "code",
   "execution_count": 59,
   "metadata": {},
   "outputs": [
    {
     "data": {
      "text/html": [
       "<div>\n",
       "<style scoped>\n",
       "    .dataframe tbody tr th:only-of-type {\n",
       "        vertical-align: middle;\n",
       "    }\n",
       "\n",
       "    .dataframe tbody tr th {\n",
       "        vertical-align: top;\n",
       "    }\n",
       "\n",
       "    .dataframe thead th {\n",
       "        text-align: right;\n",
       "    }\n",
       "</style>\n",
       "<table border=\"1\" class=\"dataframe\">\n",
       "  <thead>\n",
       "    <tr style=\"text-align: right;\">\n",
       "      <th></th>\n",
       "      <th>lat</th>\n",
       "      <th>lon</th>\n",
       "      <th>test_class</th>\n",
       "      <th>country</th>\n",
       "      <th>geometry</th>\n",
       "      <th>Map</th>\n",
       "      <th>class_probability</th>\n",
       "      <th>esa_class</th>\n",
       "    </tr>\n",
       "  </thead>\n",
       "  <tbody>\n",
       "    <tr>\n",
       "      <th>0</th>\n",
       "      <td>9.875907</td>\n",
       "      <td>1.172471</td>\n",
       "      <td>0</td>\n",
       "      <td>Togo</td>\n",
       "      <td>None</td>\n",
       "      <td>20</td>\n",
       "      <td>0.00</td>\n",
       "      <td>0</td>\n",
       "    </tr>\n",
       "    <tr>\n",
       "      <th>1</th>\n",
       "      <td>9.180105</td>\n",
       "      <td>1.374695</td>\n",
       "      <td>0</td>\n",
       "      <td>Togo</td>\n",
       "      <td>None</td>\n",
       "      <td>20</td>\n",
       "      <td>0.25</td>\n",
       "      <td>0</td>\n",
       "    </tr>\n",
       "    <tr>\n",
       "      <th>2</th>\n",
       "      <td>9.275314</td>\n",
       "      <td>1.196385</td>\n",
       "      <td>0</td>\n",
       "      <td>Togo</td>\n",
       "      <td>None</td>\n",
       "      <td>10</td>\n",
       "      <td>0.00</td>\n",
       "      <td>0</td>\n",
       "    </tr>\n",
       "    <tr>\n",
       "      <th>3</th>\n",
       "      <td>7.346575</td>\n",
       "      <td>0.705167</td>\n",
       "      <td>0</td>\n",
       "      <td>Togo</td>\n",
       "      <td>None</td>\n",
       "      <td>10</td>\n",
       "      <td>0.00</td>\n",
       "      <td>0</td>\n",
       "    </tr>\n",
       "    <tr>\n",
       "      <th>4</th>\n",
       "      <td>6.777337</td>\n",
       "      <td>0.629817</td>\n",
       "      <td>0</td>\n",
       "      <td>Togo</td>\n",
       "      <td>None</td>\n",
       "      <td>10</td>\n",
       "      <td>0.25</td>\n",
       "      <td>0</td>\n",
       "    </tr>\n",
       "  </tbody>\n",
       "</table>\n",
       "</div>"
      ],
      "text/plain": [
       "        lat       lon  test_class country geometry  Map  class_probability  \\\n",
       "0  9.875907  1.172471           0    Togo     None   20               0.00   \n",
       "1  9.180105  1.374695           0    Togo     None   20               0.25   \n",
       "2  9.275314  1.196385           0    Togo     None   10               0.00   \n",
       "3  7.346575  0.705167           0    Togo     None   10               0.00   \n",
       "4  6.777337  0.629817           0    Togo     None   10               0.25   \n",
       "\n",
       "   esa_class  \n",
       "0          0  \n",
       "1          0  \n",
       "2          0  \n",
       "3          0  \n",
       "4          0  "
      ]
     },
     "execution_count": 59,
     "metadata": {},
     "output_type": "execute_result"
    }
   ],
   "source": [
    "esa_sampled = pd.merge(test_data[[\"lat\",\"lon\",\"test_class\", \"country\"]], esa_sampled, on=[\"lat\", \"lon\"])\n",
    "esa_sampled.head()"
   ]
  },
  {
   "cell_type": "code",
   "execution_count": 67,
   "metadata": {},
   "outputs": [
    {
     "data": {
      "text/html": [
       "<div>\n",
       "<style scoped>\n",
       "    .dataframe tbody tr th:only-of-type {\n",
       "        vertical-align: middle;\n",
       "    }\n",
       "\n",
       "    .dataframe tbody tr th {\n",
       "        vertical-align: top;\n",
       "    }\n",
       "\n",
       "    .dataframe thead th {\n",
       "        text-align: right;\n",
       "    }\n",
       "</style>\n",
       "<table border=\"1\" class=\"dataframe\">\n",
       "  <thead>\n",
       "    <tr style=\"text-align: right;\">\n",
       "      <th></th>\n",
       "      <th>0</th>\n",
       "      <th>1</th>\n",
       "      <th>accuracy</th>\n",
       "      <th>macro avg</th>\n",
       "      <th>weighted avg</th>\n",
       "    </tr>\n",
       "  </thead>\n",
       "  <tbody>\n",
       "    <tr>\n",
       "      <th>precision</th>\n",
       "      <td>0.455657</td>\n",
       "      <td>0.931034</td>\n",
       "      <td>0.537162</td>\n",
       "      <td>0.693346</td>\n",
       "      <td>0.745943</td>\n",
       "    </tr>\n",
       "    <tr>\n",
       "      <th>recall</th>\n",
       "      <td>0.969631</td>\n",
       "      <td>0.261411</td>\n",
       "      <td>0.537162</td>\n",
       "      <td>0.615521</td>\n",
       "      <td>0.537162</td>\n",
       "    </tr>\n",
       "    <tr>\n",
       "      <th>f1-score</th>\n",
       "      <td>0.619972</td>\n",
       "      <td>0.408207</td>\n",
       "      <td>0.537162</td>\n",
       "      <td>0.514090</td>\n",
       "      <td>0.490660</td>\n",
       "    </tr>\n",
       "    <tr>\n",
       "      <th>support</th>\n",
       "      <td>461.000000</td>\n",
       "      <td>723.000000</td>\n",
       "      <td>0.537162</td>\n",
       "      <td>1184.000000</td>\n",
       "      <td>1184.000000</td>\n",
       "    </tr>\n",
       "  </tbody>\n",
       "</table>\n",
       "</div>"
      ],
      "text/plain": [
       "                    0           1  accuracy    macro avg  weighted avg\n",
       "precision    0.455657    0.931034  0.537162     0.693346      0.745943\n",
       "recall       0.969631    0.261411  0.537162     0.615521      0.537162\n",
       "f1-score     0.619972    0.408207  0.537162     0.514090      0.490660\n",
       "support    461.000000  723.000000  0.537162  1184.000000   1184.000000"
      ]
     },
     "execution_count": 67,
     "metadata": {},
     "output_type": "execute_result"
    }
   ],
   "source": [
    "esa_reports = {}\n",
    "\n",
    "for country, df in esa_sampled.groupby(\"country\"):\n",
    "    esa_reports[country] = pd.DataFrame.from_dict(\n",
    "    classification_report(esa_sampled[\"test_class\"], esa_sampled[\"esa_class\"], output_dict=True)\n",
    "    )\n",
    "\n",
    "esa_reports[\"Kenya\"]"
   ]
  },
  {
   "cell_type": "markdown",
   "metadata": {},
   "source": [
    "**GLAD Global** ([Earth Engine](https://glad.earthengine.app/view/global-cropland-dynamics))"
   ]
  },
  {
   "cell_type": "code",
   "execution_count": 30,
   "metadata": {},
   "outputs": [],
   "source": [
    "glad = ee.ImageCollection(\"users/potapovpeter/Global_cropland_2019\")\n",
    "glad_results = glad.filterBounds(test_coll).map(lambda x: rasterExtraction(x, 30, test_coll)).flatten()"
   ]
  },
  {
   "cell_type": "code",
   "execution_count": 31,
   "metadata": {},
   "outputs": [
    {
     "data": {
      "text/html": [
       "<div>\n",
       "<style scoped>\n",
       "    .dataframe tbody tr th:only-of-type {\n",
       "        vertical-align: middle;\n",
       "    }\n",
       "\n",
       "    .dataframe tbody tr th {\n",
       "        vertical-align: top;\n",
       "    }\n",
       "\n",
       "    .dataframe thead th {\n",
       "        text-align: right;\n",
       "    }\n",
       "</style>\n",
       "<table border=\"1\" class=\"dataframe\">\n",
       "  <thead>\n",
       "    <tr style=\"text-align: right;\">\n",
       "      <th></th>\n",
       "      <th>geometry</th>\n",
       "      <th>b1</th>\n",
       "      <th>class_probability</th>\n",
       "      <th>lat</th>\n",
       "      <th>lon</th>\n",
       "    </tr>\n",
       "  </thead>\n",
       "  <tbody>\n",
       "    <tr>\n",
       "      <th>0</th>\n",
       "      <td>None</td>\n",
       "      <td>0</td>\n",
       "      <td>0.00</td>\n",
       "      <td>9.875907</td>\n",
       "      <td>1.172471</td>\n",
       "    </tr>\n",
       "    <tr>\n",
       "      <th>1</th>\n",
       "      <td>None</td>\n",
       "      <td>0</td>\n",
       "      <td>0.25</td>\n",
       "      <td>9.180105</td>\n",
       "      <td>1.374695</td>\n",
       "    </tr>\n",
       "    <tr>\n",
       "      <th>2</th>\n",
       "      <td>None</td>\n",
       "      <td>0</td>\n",
       "      <td>0.00</td>\n",
       "      <td>9.275314</td>\n",
       "      <td>1.196385</td>\n",
       "    </tr>\n",
       "    <tr>\n",
       "      <th>3</th>\n",
       "      <td>None</td>\n",
       "      <td>0</td>\n",
       "      <td>0.00</td>\n",
       "      <td>7.346575</td>\n",
       "      <td>0.705167</td>\n",
       "    </tr>\n",
       "    <tr>\n",
       "      <th>4</th>\n",
       "      <td>None</td>\n",
       "      <td>0</td>\n",
       "      <td>0.25</td>\n",
       "      <td>6.777337</td>\n",
       "      <td>0.629817</td>\n",
       "    </tr>\n",
       "  </tbody>\n",
       "</table>\n",
       "</div>"
      ],
      "text/plain": [
       "  geometry  b1  class_probability       lat       lon\n",
       "0     None   0               0.00  9.875907  1.172471\n",
       "1     None   0               0.25  9.180105  1.374695\n",
       "2     None   0               0.00  9.275314  1.196385\n",
       "3     None   0               0.00  7.346575  0.705167\n",
       "4     None   0               0.25  6.777337  0.629817"
      ]
     },
     "execution_count": 31,
     "metadata": {},
     "output_type": "execute_result"
    }
   ],
   "source": [
    "glad_sampled = geemap.ee_to_gdf(glad_results)\n",
    "glad_sampled.head()"
   ]
  },
  {
   "cell_type": "code",
   "execution_count": 69,
   "metadata": {},
   "outputs": [],
   "source": [
    "glad_sampled = pd.merge(test_data[[\"lat\",\"lon\",\"test_class\", \"country\"]], glad_sampled, on=[\"lat\", \"lon\"])"
   ]
  },
  {
   "cell_type": "code",
   "execution_count": 71,
   "metadata": {},
   "outputs": [
    {
     "data": {
      "text/html": [
       "<div>\n",
       "<style scoped>\n",
       "    .dataframe tbody tr th:only-of-type {\n",
       "        vertical-align: middle;\n",
       "    }\n",
       "\n",
       "    .dataframe tbody tr th {\n",
       "        vertical-align: top;\n",
       "    }\n",
       "\n",
       "    .dataframe thead th {\n",
       "        text-align: right;\n",
       "    }\n",
       "</style>\n",
       "<table border=\"1\" class=\"dataframe\">\n",
       "  <thead>\n",
       "    <tr style=\"text-align: right;\">\n",
       "      <th></th>\n",
       "      <th>0</th>\n",
       "      <th>1</th>\n",
       "      <th>accuracy</th>\n",
       "      <th>macro avg</th>\n",
       "      <th>weighted avg</th>\n",
       "    </tr>\n",
       "  </thead>\n",
       "  <tbody>\n",
       "    <tr>\n",
       "      <th>precision</th>\n",
       "      <td>0.700692</td>\n",
       "      <td>0.907591</td>\n",
       "      <td>0.806588</td>\n",
       "      <td>0.804141</td>\n",
       "      <td>0.827033</td>\n",
       "    </tr>\n",
       "    <tr>\n",
       "      <th>recall</th>\n",
       "      <td>0.878525</td>\n",
       "      <td>0.760719</td>\n",
       "      <td>0.806588</td>\n",
       "      <td>0.819622</td>\n",
       "      <td>0.806588</td>\n",
       "    </tr>\n",
       "    <tr>\n",
       "      <th>f1-score</th>\n",
       "      <td>0.779596</td>\n",
       "      <td>0.827690</td>\n",
       "      <td>0.806588</td>\n",
       "      <td>0.803643</td>\n",
       "      <td>0.808964</td>\n",
       "    </tr>\n",
       "    <tr>\n",
       "      <th>support</th>\n",
       "      <td>461.000000</td>\n",
       "      <td>723.000000</td>\n",
       "      <td>0.806588</td>\n",
       "      <td>1184.000000</td>\n",
       "      <td>1184.000000</td>\n",
       "    </tr>\n",
       "  </tbody>\n",
       "</table>\n",
       "</div>"
      ],
      "text/plain": [
       "                    0           1  accuracy    macro avg  weighted avg\n",
       "precision    0.700692    0.907591  0.806588     0.804141      0.827033\n",
       "recall       0.878525    0.760719  0.806588     0.819622      0.806588\n",
       "f1-score     0.779596    0.827690  0.806588     0.803643      0.808964\n",
       "support    461.000000  723.000000  0.806588  1184.000000   1184.000000"
      ]
     },
     "execution_count": 71,
     "metadata": {},
     "output_type": "execute_result"
    }
   ],
   "source": [
    "glad_reports = {}\n",
    "\n",
    "for country, df in esa_sampled.groupby(\"country\"):\n",
    "    glad_reports[country] = pd.DataFrame.from_dict(\n",
    "        classification_report(glad_sampled[\"test_class\"], glad_sampled[\"b1\"], output_dict=True)\n",
    "        )\n",
    "\n",
    "glad_reports[\"Kenya\"]"
   ]
  },
  {
   "cell_type": "code",
   "execution_count": null,
   "metadata": {},
   "outputs": [],
   "source": []
  }
 ],
 "metadata": {
  "kernelspec": {
   "display_name": "Python 3.8.8 ('intercomparison')",
   "language": "python",
   "name": "python3"
  },
  "language_info": {
   "codemirror_mode": {
    "name": "ipython",
    "version": 3
   },
   "file_extension": ".py",
   "mimetype": "text/x-python",
   "name": "python",
   "nbconvert_exporter": "python",
   "pygments_lexer": "ipython3",
   "version": "3.8.8"
  },
  "orig_nbformat": 4,
  "vscode": {
   "interpreter": {
    "hash": "b9a057a3c2bc11d9fb1a09bad675557d69c9743adf6ae74a67a8c76be0d35d72"
   }
  }
 },
 "nbformat": 4,
 "nbformat_minor": 2
}
