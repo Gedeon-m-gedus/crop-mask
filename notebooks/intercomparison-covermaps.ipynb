{
 "cells": [
  {
   "cell_type": "markdown",
   "metadata": {},
   "source": [
    "# Covermap Comparison\n",
    "\n",
    "**Author:** Adam Yang (ayang115@umd.edu)\n",
    "\n",
    "**Description:** Compares datasets against test sets\n",
    "\n",
    "**Crop Maps Used:** Harvest Togo & Kenya, Copernicus Land Cover, ESA CCI Land Cover Africa, GLAD Global Cropland Extent"
   ]
  },
  {
   "cell_type": "code",
   "execution_count": 1,
   "metadata": {},
   "outputs": [
    {
     "name": "stderr",
     "output_type": "stream",
     "text": [
      "c:\\Users\\adamf\\anaconda3\\envs\\intercomparison\\lib\\site-packages\\geopandas\\_compat.py:112: UserWarning: The Shapely GEOS version (3.8.0-CAPI-1.13.1 ) is incompatible with the GEOS version PyGEOS was compiled with (3.10.4-CAPI-1.16.2). Conversions between both will be slow.\n",
      "  warnings.warn(\n"
     ]
    }
   ],
   "source": [
    "import os\n",
    "import geemap\n",
    "import cartopy.io.shapereader as shpreader \n",
    "import matplotlib.pyplot as plt\n",
    "import pandas as pd\n",
    "import numpy as np\n",
    "import geopandas as gpd\n",
    "import rasterio as rio\n",
    "\n",
    "from pathlib import Path\n",
    "from shapely import wkt\n",
    "from sklearn.metrics import classification_report \n",
    "from shapely.geometry import Point, MultiPolygon, GeometryCollection "
   ]
  },
  {
   "cell_type": "code",
   "execution_count": 2,
   "metadata": {},
   "outputs": [
    {
     "data": {
      "text/html": [
       "<p>To authorize access needed by Earth Engine, open the following\n",
       "        URL in a web browser and follow the instructions:</p>\n",
       "        <p><a href=https://code.earthengine.google.com/client-auth?scopes=https%3A//www.googleapis.com/auth/earthengine%20https%3A//www.googleapis.com/auth/devstorage.full_control&request_id=_nCyjkcz0E1GA4ToZn6j4Tt48yV4jbmyZ-g3KIKaISs&tc=nVmESS2X3zo8YoT1OtxeaOb7sRfkj5F_CO6imbix-Sk&cc=MDY2SlrfkNglN7U1JN20Ua8D8xtDPxWBZ7P4xwgMZtg>https://code.earthengine.google.com/client-auth?scopes=https%3A//www.googleapis.com/auth/earthengine%20https%3A//www.googleapis.com/auth/devstorage.full_control&request_id=_nCyjkcz0E1GA4ToZn6j4Tt48yV4jbmyZ-g3KIKaISs&tc=nVmESS2X3zo8YoT1OtxeaOb7sRfkj5F_CO6imbix-Sk&cc=MDY2SlrfkNglN7U1JN20Ua8D8xtDPxWBZ7P4xwgMZtg</a></p>\n",
       "        <p>The authorization workflow will generate a code, which you should paste in the box below.</p>\n",
       "        "
      ],
      "text/plain": [
       "<IPython.core.display.HTML object>"
      ]
     },
     "metadata": {},
     "output_type": "display_data"
    },
    {
     "name": "stdout",
     "output_type": "stream",
     "text": [
      "\n",
      "Successfully saved authorization token.\n"
     ]
    }
   ],
   "source": [
    "import ee\n",
    "\n",
    "ee.Authenticate()\n",
    "\n",
    "ee.Initialize()"
   ]
  },
  {
   "attachments": {},
   "cell_type": "markdown",
   "metadata": {},
   "source": [
    "### **Setup**"
   ]
  },
  {
   "cell_type": "markdown",
   "metadata": {},
   "source": [
    "**Constants**"
   ]
  },
  {
   "cell_type": "code",
   "execution_count": 31,
   "metadata": {},
   "outputs": [],
   "source": [
    "COUNTRIES = [\"Kenya\", \"Togo\", \"Tanzania\"]\n",
    "TEST_COUNTRIES = [\"Kenya\", \"Togo\", \"Tanzania_CEO_2019\"]\n",
    "DATA_PATH = \"../data/datasets/\"\n",
    "TEST_CODE = {\"Kenya\": \"KEN\", \"Togo\": \"TGO\", \"Tanzania_CEO_2019\": \"TZA\"} # for NE boundaries"
   ]
  },
  {
   "cell_type": "code",
   "execution_count": 32,
   "metadata": {},
   "outputs": [],
   "source": [
    "DATASET_PATH = Path(DATA_PATH).glob(\"*\")\n",
    "TARGET_PATHS = [p for p in DATASET_PATH if p.stem in TEST_COUNTRIES] # test data path"
   ]
  },
  {
   "cell_type": "code",
   "execution_count": 33,
   "metadata": {},
   "outputs": [],
   "source": [
    "# country boundaries\n",
    "NE_GDF = gpd.read_file(\n",
    "    shpreader.natural_earth(\n",
    "        resolution='10m', \n",
    "        category='cultural', \n",
    "        name='admin_1_states_provinces')\n",
    ")\n"
   ]
  },
  {
   "cell_type": "code",
   "execution_count": 34,
   "metadata": {},
   "outputs": [],
   "source": [
    "REDUCER = ee.Reducer.mode()\n",
    "REDUCER_STR = \"mode\""
   ]
  },
  {
   "cell_type": "markdown",
   "metadata": {},
   "source": [
    "**Functions**"
   ]
  },
  {
   "cell_type": "code",
   "execution_count": 35,
   "metadata": {},
   "outputs": [],
   "source": [
    "# Function used in map function to extract from feature collection\n",
    "def raster_extraction(image, resolution, fc, projection=\"EPSG:4326\"):\n",
    "    \n",
    "    # Filter feature collection to only points within image\n",
    "    fc_sub = fc.filterBounds(image.geometry())\n",
    "\n",
    "    feature = image.reduceRegions(\n",
    "        collection=fc_sub,\n",
    "        reducer=REDUCER,\n",
    "        scale=resolution,\n",
    "        crs=projection\n",
    "    )\n",
    "    return feature"
   ]
  },
  {
   "cell_type": "code",
   "execution_count": 36,
   "metadata": {},
   "outputs": [],
   "source": [
    "# Convert sklearn classification report dict to \n",
    "def generate_report(dataset_name, true, pred):\n",
    "    report = classification_report(true, pred, output_dict=True)\n",
    "    return pd.DataFrame(data = {\n",
    "        \"dataset\": dataset_name, \n",
    "        \"crop_f1\": report[\"1\"][\"f1-score\"], \n",
    "        \"accuracy\": report[\"accuracy\"], \n",
    "        \"crop_support\": report[\"1\"][\"support\"], \n",
    "        \"noncrop_support\": report[\"0\"][\"support\"], \n",
    "        \"crop_recall\": report[\"1\"][\"recall\"], \n",
    "        \"noncrop_recall\": report[\"0\"][\"recall\"],\n",
    "        \"crop_precision\": report[\"1\"][\"precision\"],\n",
    "        \"noncrop_precision\": report[\"0\"][\"precision\"] \n",
    "        }, index=[0])"
   ]
  },
  {
   "cell_type": "code",
   "execution_count": 37,
   "metadata": {},
   "outputs": [],
   "source": [
    "# Creates ee.Feature from longitude and latitude coordinates from a dataframe\n",
    "def create_point(row):\n",
    "    geom = ee.Geometry.Point(row.lon, row.lat)\n",
    "    prop = dict(row[['lon', 'lat', 'binary', 'country']])\n",
    "\n",
    "    return ee.Feature(geom, prop)"
   ]
  },
  {
   "cell_type": "code",
   "execution_count": 38,
   "metadata": {},
   "outputs": [],
   "source": [
    "# filters out data in gdf that is not within country bounds \n",
    "def filter_by_bounds(country: str, gdf: gpd.GeoDataFrame):\n",
    "    boundary = NE_GDF.loc[NE_GDF['adm1_code'].str.startswith(country), :].copy()\n",
    "\n",
    "    if boundary.crs == None:\n",
    "        boundary = boundary.set_crs('epsg:4326')\n",
    "    if boundary.crs != 'epsg:4326':\n",
    "        boundary = boundary.to_crs('epsg:4326')\n",
    "\n",
    "    boundary = GeometryCollection([x for x in boundary['geometry']])\n",
    "\n",
    "    mask = gdf.within(boundary)\n",
    "    filtered = gdf.loc[mask].copy()\n",
    "\n",
    "    return filtered"
   ]
  },
  {
   "cell_type": "code",
   "execution_count": 39,
   "metadata": {},
   "outputs": [],
   "source": [
    "# Read in test data from dvc \n",
    "def read_test(path: str):\n",
    "    test = pd.read_csv(path)\n",
    "    test = gpd.GeoDataFrame(test, geometry=gpd.points_from_xy(test.lon, test.lat), crs='epsg:4326')\n",
    "    test = test.loc[test['subset']=='testing']\n",
    "    test['binary'] = test['class_probability'].apply(lambda x: 1 if x >= 0.5 else 0)\n",
    "\n",
    "    return test"
   ]
  },
  {
   "cell_type": "code",
   "execution_count": 40,
   "metadata": {},
   "outputs": [],
   "source": [
    "# Adds buffer to feature collection points\n",
    "def bufferPoints(radius, bounds):\n",
    "    def function(pt):\n",
    "        pt = ee.Feature(pt)\n",
    "        return pt.buffer(radius).bounds() if bounds else pt.buffer(radius)\n",
    "    return function"
   ]
  },
  {
   "attachments": {},
   "cell_type": "markdown",
   "metadata": {},
   "source": [
    "### **Generate Test Data**"
   ]
  },
  {
   "cell_type": "code",
   "execution_count": 59,
   "metadata": {},
   "outputs": [],
   "source": [
    "# Create a Testing geodataframe. Extracts data based on a list of dataset paths. Generate a dataframe for each country, then concats dataframes into one. \n",
    "\n",
    "def generate_test_data(target_paths: list):\n",
    "    test_set = []\n",
    "    \n",
    "    for p in target_paths:\n",
    "        # Set dict key name\n",
    "        key = p.stem\n",
    "\n",
    "        print(key)\n",
    "\n",
    "        # Read in data and extract test values and points \n",
    "        gdf = read_test(p)\n",
    "        \n",
    "        before = len(gdf)\n",
    "        gdf = filter_by_bounds(TEST_CODE[key], gdf)\n",
    "        after = len(gdf)\n",
    "        print(\"Points removed: \" + str(before - after))\n",
    "\n",
    "\n",
    "        test_set.append(gdf)\n",
    "\n",
    "    # Combine all extracted countries \n",
    "    test = gpd.GeoDataFrame(pd.concat(test_set))\n",
    "    test.reset_index(inplace=True, drop=True)\n",
    "    \n",
    "    return test"
   ]
  },
  {
   "cell_type": "code",
   "execution_count": 60,
   "metadata": {},
   "outputs": [
    {
     "name": "stdout",
     "output_type": "stream",
     "text": [
      "Kenya\n",
      "Tanzania_CEO_2019\n",
      "Togo\n"
     ]
    }
   ],
   "source": [
    "test_data = generate_test_data(TARGET_PATHS)\n",
    "# test_data.to_csv('../../intercomparison-data/test_data.csv')"
   ]
  },
  {
   "cell_type": "code",
   "execution_count": 61,
   "metadata": {},
   "outputs": [],
   "source": [
    "# test_data = pd.read_csv(\"../../intercomparison-data/test_data.csv\").drop(\"Unnamed: 0\", axis=1)\n",
    "# test_data[\"geometry\"] = test_data[\"geometry\"].apply(wkt.loads)\n",
    "# test_data = gpd.GeoDataFrame(test_data, crs=\"epsg:4326\")"
   ]
  },
  {
   "cell_type": "code",
   "execution_count": 62,
   "metadata": {},
   "outputs": [
    {
     "data": {
      "text/html": [
       "<div>\n",
       "<style scoped>\n",
       "    .dataframe tbody tr th:only-of-type {\n",
       "        vertical-align: middle;\n",
       "    }\n",
       "\n",
       "    .dataframe tbody tr th {\n",
       "        vertical-align: top;\n",
       "    }\n",
       "\n",
       "    .dataframe thead th {\n",
       "        text-align: right;\n",
       "    }\n",
       "</style>\n",
       "<table border=\"1\" class=\"dataframe\">\n",
       "  <thead>\n",
       "    <tr style=\"text-align: right;\">\n",
       "      <th></th>\n",
       "      <th>lon</th>\n",
       "      <th>lat</th>\n",
       "      <th>start_date</th>\n",
       "      <th>end_date</th>\n",
       "      <th>source</th>\n",
       "      <th>class_probability</th>\n",
       "      <th>num_labelers</th>\n",
       "      <th>subset</th>\n",
       "      <th>analysis_duration</th>\n",
       "      <th>email</th>\n",
       "      <th>country</th>\n",
       "      <th>dataset</th>\n",
       "      <th>eo_data</th>\n",
       "      <th>eo_lon</th>\n",
       "      <th>eo_lat</th>\n",
       "      <th>eo_file</th>\n",
       "      <th>eo_status</th>\n",
       "      <th>geometry</th>\n",
       "      <th>binary</th>\n",
       "    </tr>\n",
       "  </thead>\n",
       "  <tbody>\n",
       "    <tr>\n",
       "      <th>0</th>\n",
       "      <td>34.386282</td>\n",
       "      <td>0.725122</td>\n",
       "      <td>2019-01-01</td>\n",
       "      <td>2020-12-31</td>\n",
       "      <td>noncrop_labels_v2</td>\n",
       "      <td>0.0</td>\n",
       "      <td>1</td>\n",
       "      <td>testing</td>\n",
       "      <td>NaN</td>\n",
       "      <td>NaN</td>\n",
       "      <td>Kenya</td>\n",
       "      <td>Kenya</td>\n",
       "      <td>[[-11.74174313771244, -16.760872534791257, 952...</td>\n",
       "      <td>34.386296</td>\n",
       "      <td>0.725165</td>\n",
       "      <td>min_lat=0.7244_min_lon=34.3856_max_lat=0.7258_...</td>\n",
       "      <td>eo_data_complete</td>\n",
       "      <td>POINT (34.38628 0.72512)</td>\n",
       "      <td>0</td>\n",
       "    </tr>\n",
       "    <tr>\n",
       "      <th>1</th>\n",
       "      <td>34.466496</td>\n",
       "      <td>0.621939</td>\n",
       "      <td>2019-01-01</td>\n",
       "      <td>2020-12-31</td>\n",
       "      <td>noncrop_labels_v2</td>\n",
       "      <td>0.0</td>\n",
       "      <td>1</td>\n",
       "      <td>testing</td>\n",
       "      <td>NaN</td>\n",
       "      <td>NaN</td>\n",
       "      <td>Kenya</td>\n",
       "      <td>Kenya</td>\n",
       "      <td>[[-6.565833796243928, -12.449147022074829, 951...</td>\n",
       "      <td>34.466516</td>\n",
       "      <td>0.621949</td>\n",
       "      <td>min_lat=0.6212_min_lon=34.4658_max_lat=0.6227_...</td>\n",
       "      <td>eo_data_complete</td>\n",
       "      <td>POINT (34.46650 0.62194)</td>\n",
       "      <td>0</td>\n",
       "    </tr>\n",
       "    <tr>\n",
       "      <th>2</th>\n",
       "      <td>34.090158</td>\n",
       "      <td>0.459661</td>\n",
       "      <td>2019-01-01</td>\n",
       "      <td>2020-12-31</td>\n",
       "      <td>noncrop_labels_v2</td>\n",
       "      <td>0.0</td>\n",
       "      <td>1</td>\n",
       "      <td>testing</td>\n",
       "      <td>NaN</td>\n",
       "      <td>NaN</td>\n",
       "      <td>Kenya</td>\n",
       "      <td>Kenya</td>\n",
       "      <td>[[-11.0494582737447, -14.924609692863193, 1157...</td>\n",
       "      <td>34.090122</td>\n",
       "      <td>0.459623</td>\n",
       "      <td>min_lat=0.4589_min_lon=34.0894_max_lat=0.4604_...</td>\n",
       "      <td>eo_data_complete</td>\n",
       "      <td>POINT (34.09016 0.45966)</td>\n",
       "      <td>0</td>\n",
       "    </tr>\n",
       "    <tr>\n",
       "      <th>3</th>\n",
       "      <td>34.054859</td>\n",
       "      <td>0.226497</td>\n",
       "      <td>2019-01-01</td>\n",
       "      <td>2020-12-31</td>\n",
       "      <td>noncrop_labels_v2</td>\n",
       "      <td>0.0</td>\n",
       "      <td>1</td>\n",
       "      <td>testing</td>\n",
       "      <td>NaN</td>\n",
       "      <td>NaN</td>\n",
       "      <td>Kenya</td>\n",
       "      <td>Kenya</td>\n",
       "      <td>[[-9.902949034787321, -15.70680808103578, 1174...</td>\n",
       "      <td>34.054818</td>\n",
       "      <td>0.226510</td>\n",
       "      <td>min_lat=0.2258_min_lon=34.0541_max_lat=0.2272_...</td>\n",
       "      <td>eo_data_complete</td>\n",
       "      <td>POINT (34.05486 0.22650)</td>\n",
       "      <td>0</td>\n",
       "    </tr>\n",
       "    <tr>\n",
       "      <th>4</th>\n",
       "      <td>33.951959</td>\n",
       "      <td>0.096834</td>\n",
       "      <td>2019-01-01</td>\n",
       "      <td>2020-12-31</td>\n",
       "      <td>noncrop_labels_v2</td>\n",
       "      <td>0.0</td>\n",
       "      <td>1</td>\n",
       "      <td>testing</td>\n",
       "      <td>NaN</td>\n",
       "      <td>NaN</td>\n",
       "      <td>Kenya</td>\n",
       "      <td>Kenya</td>\n",
       "      <td>[[-14.47299462942356, -17.955564415668587, 106...</td>\n",
       "      <td>33.951961</td>\n",
       "      <td>0.096793</td>\n",
       "      <td>min_lat=0.0961_min_lon=33.9512_max_lat=0.0976_...</td>\n",
       "      <td>eo_data_complete</td>\n",
       "      <td>POINT (33.95196 0.09683)</td>\n",
       "      <td>0</td>\n",
       "    </tr>\n",
       "  </tbody>\n",
       "</table>\n",
       "</div>"
      ],
      "text/plain": [
       "         lon       lat  start_date    end_date             source  \\\n",
       "0  34.386282  0.725122  2019-01-01  2020-12-31  noncrop_labels_v2   \n",
       "1  34.466496  0.621939  2019-01-01  2020-12-31  noncrop_labels_v2   \n",
       "2  34.090158  0.459661  2019-01-01  2020-12-31  noncrop_labels_v2   \n",
       "3  34.054859  0.226497  2019-01-01  2020-12-31  noncrop_labels_v2   \n",
       "4  33.951959  0.096834  2019-01-01  2020-12-31  noncrop_labels_v2   \n",
       "\n",
       "   class_probability  num_labelers   subset analysis_duration email country  \\\n",
       "0                0.0             1  testing               NaN   NaN   Kenya   \n",
       "1                0.0             1  testing               NaN   NaN   Kenya   \n",
       "2                0.0             1  testing               NaN   NaN   Kenya   \n",
       "3                0.0             1  testing               NaN   NaN   Kenya   \n",
       "4                0.0             1  testing               NaN   NaN   Kenya   \n",
       "\n",
       "  dataset                                            eo_data     eo_lon  \\\n",
       "0   Kenya  [[-11.74174313771244, -16.760872534791257, 952...  34.386296   \n",
       "1   Kenya  [[-6.565833796243928, -12.449147022074829, 951...  34.466516   \n",
       "2   Kenya  [[-11.0494582737447, -14.924609692863193, 1157...  34.090122   \n",
       "3   Kenya  [[-9.902949034787321, -15.70680808103578, 1174...  34.054818   \n",
       "4   Kenya  [[-14.47299462942356, -17.955564415668587, 106...  33.951961   \n",
       "\n",
       "     eo_lat                                            eo_file  \\\n",
       "0  0.725165  min_lat=0.7244_min_lon=34.3856_max_lat=0.7258_...   \n",
       "1  0.621949  min_lat=0.6212_min_lon=34.4658_max_lat=0.6227_...   \n",
       "2  0.459623  min_lat=0.4589_min_lon=34.0894_max_lat=0.4604_...   \n",
       "3  0.226510  min_lat=0.2258_min_lon=34.0541_max_lat=0.2272_...   \n",
       "4  0.096793  min_lat=0.0961_min_lon=33.9512_max_lat=0.0976_...   \n",
       "\n",
       "          eo_status                  geometry  binary  \n",
       "0  eo_data_complete  POINT (34.38628 0.72512)       0  \n",
       "1  eo_data_complete  POINT (34.46650 0.62194)       0  \n",
       "2  eo_data_complete  POINT (34.09016 0.45966)       0  \n",
       "3  eo_data_complete  POINT (34.05486 0.22650)       0  \n",
       "4  eo_data_complete  POINT (33.95196 0.09683)       0  "
      ]
     },
     "execution_count": 62,
     "metadata": {},
     "output_type": "execute_result"
    }
   ],
   "source": [
    "test_data.head()"
   ]
  },
  {
   "attachments": {},
   "cell_type": "markdown",
   "metadata": {},
   "source": [
    "### **Examine test set**"
   ]
  },
  {
   "cell_type": "code",
   "execution_count": 63,
   "metadata": {},
   "outputs": [
    {
     "data": {
      "text/plain": [
       "<AxesSubplot:>"
      ]
     },
     "execution_count": 63,
     "metadata": {},
     "output_type": "execute_result"
    },
    {
     "data": {
      "image/png": "[encoded data removed]",
      "text/plain": [
       "<Figure size 720x720 with 1 Axes>"
      ]
     },
     "metadata": {
      "needs_background": "light"
     },
     "output_type": "display_data"
    }
   ],
   "source": [
    "# Shapefiles for test set countries\n",
    "KEN_mask = NE_GDF[NE_GDF[\"adm1_code\"].str.startswith(\"KEN\")].copy()\n",
    "TGO_mask = NE_GDF[NE_GDF[\"adm1_code\"].str.startswith(\"TGO\")].copy()\n",
    "TZA_mask = NE_GDF[NE_GDF[\"adm1_code\"].str.startswith(\"TZA\")].copy()\n",
    "masks = [KEN_mask, TZA_mask]\n",
    "\n",
    "# Make sure the shapefile has EPSG:4326, otherwise convert it\n",
    "for boundary in masks:\n",
    "    if boundary.crs == None:\n",
    "        boundary = boundary.set_crs('epsg:4326')\n",
    "    if boundary.crs != 'epsg:4326':\n",
    "        boundary = boundary.to_crs('epsg:4326')\n",
    "    boundary['roi'] = True\n",
    "    boundary.reset_index(inplace=True, drop=True)\n",
    "    boundary.dissolve('roi')\n",
    "\n",
    "df = gpd.GeoDataFrame(pd.concat(masks)).set_crs('epsg:4326')\n",
    "\n",
    "fig, ax = plt.subplots(figsize = (10,10))\n",
    "ax.set_facecolor(\"gray\")\n",
    "df[\"geometry\"].to_crs(epsg=4326).plot(ax=ax, color='lightgrey')\n",
    "test_data.plot(ax=ax, column='binary', alpha=0.5, cmap='binary')"
   ]
  },
  {
   "attachments": {},
   "cell_type": "markdown",
   "metadata": {},
   "source": [
    "Support for each country"
   ]
  },
  {
   "cell_type": "code",
   "execution_count": 64,
   "metadata": {},
   "outputs": [
    {
     "name": "stdout",
     "output_type": "stream",
     "text": [
      "355 829 2710\n"
     ]
    }
   ],
   "source": [
    "print(\n",
    "    len(test_data[test_data['country']=='Togo']), \n",
    "    len(test_data[test_data['country']=='Kenya']), \n",
    "    len(test_data[test_data['country']=='Tanzania'])\n",
    "    )"
   ]
  },
  {
   "attachments": {},
   "cell_type": "markdown",
   "metadata": {},
   "source": [
    "Assert no overlap"
   ]
  },
  {
   "cell_type": "code",
   "execution_count": 65,
   "metadata": {},
   "outputs": [],
   "source": [
    "tgo = test_data.loc[test_data['country']=='Togo'].copy()\n",
    "ken = test_data.loc[test_data['country']=='Kenya'].copy()\n",
    "tan = test_data.loc[test_data['country']=='Tanzania_CEO_2019'].copy()"
   ]
  },
  {
   "cell_type": "code",
   "execution_count": 66,
   "metadata": {},
   "outputs": [
    {
     "name": "stderr",
     "output_type": "stream",
     "text": [
      "c:\\Users\\adamf\\anaconda3\\envs\\intercomparison\\lib\\site-packages\\geopandas\\base.py:31: UserWarning: The indices of the two GeoSeries are different.\n",
      "  warn(\"The indices of the two GeoSeries are different.\")\n"
     ]
    }
   ],
   "source": [
    "assert ~ken.overlaps(tan).all(), \"Overlap detected!\"\n",
    "assert ~ken.overlaps(tgo).all(), \"Overlap detected!\"\n",
    "\n",
    "assert ~tan.overlaps(ken).all(), \"Overlap detected!\"\n",
    "assert ~tan.overlaps(tgo).all(), \"Overlap detected!\"\n",
    "\n",
    "assert ~tgo.overlaps(tan).all(), \"Overlap detected!\"\n",
    "assert ~tgo.overlaps(ken).all(), \"Overlap detected!\""
   ]
  },
  {
   "attachments": {},
   "cell_type": "markdown",
   "metadata": {},
   "source": [
    "### **Generate earth engine points**"
   ]
  },
  {
   "cell_type": "code",
   "execution_count": 67,
   "metadata": {},
   "outputs": [],
   "source": [
    "# Create feature collections for each subset\n",
    "togo_coll = ee.FeatureCollection(test_data.loc[test_data[\"country\"]==\"Togo\"].apply(create_point, axis=1).to_list()).map(bufferPoints(10, False))\n",
    "kenya_coll = ee.FeatureCollection(test_data.loc[test_data[\"country\"]==\"Kenya\"].apply(create_point, axis=1).to_list()).map(bufferPoints(10, False))\n",
    "tanz_coll = ee.FeatureCollection(test_data.loc[test_data[\"country\"]==\"Tanzania\"].apply(create_point, axis=1).to_list()).map(bufferPoints(10, False))\n",
    "\n",
    "# Feature collection including all test points\n",
    "test_coll = ee.FeatureCollection(test_data.apply(create_point, axis=1).to_list()).map(bufferPoints(10, False))\n"
   ]
  },
  {
   "attachments": {},
   "cell_type": "markdown",
   "metadata": {},
   "source": [
    "### **Harvest Data**"
   ]
  },
  {
   "cell_type": "code",
   "execution_count": 68,
   "metadata": {},
   "outputs": [],
   "source": [
    "HARVEST_PATHS = {\n",
    "    \"projects/sat-io/open-datasets/nasa-harvest/togo_cropland_binary\" : togo_coll, \n",
    "    \"projects/sat-io/open-datasets/nasa-harvest/kenya_cropland_binary\" : kenya_coll,\n",
    "    \"users/adadebay/Tanzania_cropland_2019\" : tanz_coll}"
   ]
  },
  {
   "cell_type": "code",
   "execution_count": 69,
   "metadata": {},
   "outputs": [
    {
     "name": "stdout",
     "output_type": "stream",
     "text": [
      "togo_cropland_binary\n",
      "kenya_cropland_binary\n",
      "Tanzania_cropland_2019\n"
     ]
    }
   ],
   "source": [
    "harvest = []\n",
    "for map in HARVEST_PATHS.keys():\n",
    "    name = map.split('/')[-1]\n",
    "    print(name)\n",
    "\n",
    "    # Convert image to image collection\n",
    "    sampled = ee.ImageCollection([ee.Image(map)])\n",
    "    sampled = sampled.map(lambda x: raster_extraction(x, 10, HARVEST_PATHS[map])).flatten()\n",
    "    \n",
    "    # Convert to gdf\n",
    "    sampled = geemap.ee_to_gdf(sampled)\n",
    "    \n",
    "    # Binarize \n",
    "    sampled[\"samples\"] = sampled[REDUCER_STR].apply(lambda x: 1 if x>=0.5 else 0) \n",
    "\n",
    "    harvest.append(sampled)\n",
    "\n",
    "harvest = pd.concat(harvest)\n",
    "\n",
    "# harvest.to_csv('../../intercomparison-data/harvest.csv')"
   ]
  },
  {
   "cell_type": "code",
   "execution_count": 70,
   "metadata": {},
   "outputs": [],
   "source": [
    "# Join test and sampled sets\n",
    "test_data[\"harvest\"] = pd.merge(test_data, harvest, on=[\"lat\", \"lon\"], how=\"left\")[\"samples\"]"
   ]
  },
  {
   "attachments": {},
   "cell_type": "markdown",
   "metadata": {},
   "source": [
    "### **[COP](https://developers.google.com/earth-engine/datasets/catalog/COPERNICUS_Landcover_100m_Proba-V-C3_Global), [ESA](https://developers.google.com/earth-engine/datasets/catalog/ESA_WorldCover_v100), [GLAD](https://glad.umd.edu/dataset/croplands)**"
   ]
  },
  {
   "cell_type": "code",
   "execution_count": 71,
   "metadata": {},
   "outputs": [],
   "source": [
    "copernicus = ee.ImageCollection(\"COPERNICUS/Landcover/100m/Proba-V-C3/Global\")\n",
    "esa = ee.ImageCollection(\"ESA/WorldCover/v100\")\n",
    "glad = ee.ImageCollection(\"users/potapovpeter/Global_cropland_2019\")"
   ]
  },
  {
   "cell_type": "code",
   "execution_count": 72,
   "metadata": {},
   "outputs": [],
   "source": [
    "cop_clipped = copernicus.select(\"discrete_classification\").filterDate(\"2019-01-01\", \"2019-12-31\")\n",
    "cop_sampled = geemap.ee_to_gdf(cop_clipped.map(lambda x: raster_extraction(x, 100, test_coll)).flatten())\n",
    "cop_sampled[\"cop_class\"] = cop_sampled[REDUCER_STR].apply(lambda x: 1 if x==40 else 0)\n",
    "\n",
    "esa_sampled = geemap.ee_to_gdf(esa.map(lambda x: raster_extraction(x, 10, test_coll)).flatten())\n",
    "esa_sampled[\"esa_class\"] = esa_sampled[REDUCER_STR].apply(lambda x: 1 if x==40 else 0)\n",
    "\n",
    "glad_sampled = geemap.ee_to_gdf(glad.map(lambda x: raster_extraction(x, 30, test_coll)).flatten()).rename(columns={REDUCER_STR: \"glad_class\"})"
   ]
  },
  {
   "cell_type": "code",
   "execution_count": 73,
   "metadata": {},
   "outputs": [],
   "source": [
    "test_data[\"cop\"] = pd.merge(test_data, cop_sampled, on=[\"lat\", \"lon\"], how=\"left\")[\"cop_class\"]\n",
    "test_data[\"esa\"] = pd.merge(test_data, esa_sampled, on=[\"lat\", \"lon\"], how=\"left\")[\"esa_class\"]\n",
    "test_data['glad'] = pd.merge(test_data, glad_sampled, on=[\"lat\", \"lon\"], how=\"left\")[\"glad_class\"]"
   ]
  },
  {
   "cell_type": "markdown",
   "metadata": {},
   "source": [
    "## **Evaluation Results**"
   ]
  },
  {
   "cell_type": "markdown",
   "metadata": {},
   "source": [
    "**Compute results**"
   ]
  },
  {
   "cell_type": "code",
   "execution_count": 74,
   "metadata": {},
   "outputs": [],
   "source": [
    "results = {}\n",
    "\n",
    "for key in COUNTRIES:\n",
    "    results[key] = pd.DataFrame(columns=[\"dataset\", \"accuracy\", \"crop_f1\", \"crop_support\", \"noncrop_support\", \n",
    "        \"crop_precision\", \"crop_recall\", \"noncrop_precision\", \"noncrop_recall\"])"
   ]
  },
  {
   "cell_type": "code",
   "execution_count": 75,
   "metadata": {},
   "outputs": [
    {
     "name": "stdout",
     "output_type": "stream",
     "text": [
      "Kenya: harvest\n",
      "Points dropped: 8\n",
      "Kenya: cop\n",
      "Points dropped: 0\n",
      "Kenya: esa\n",
      "Points dropped: 0\n",
      "Kenya: glad\n",
      "Points dropped: 0\n",
      "Tanzania: harvest\n",
      "Points dropped: 315\n",
      "Tanzania: cop\n",
      "Points dropped: 0\n",
      "Tanzania: esa\n",
      "Points dropped: 0\n",
      "Tanzania: glad\n",
      "Points dropped: 0\n",
      "Togo: harvest\n",
      "Points dropped: 0\n",
      "Togo: cop\n",
      "Points dropped: 0\n",
      "Togo: esa\n",
      "Points dropped: 0\n",
      "Togo: glad\n",
      "Points dropped: 0\n"
     ]
    }
   ],
   "source": [
    "for country, df in test_data.groupby(\"country\"):\n",
    "    for dataset in [\"harvest\", \"cop\", \"esa\", \"glad\"]:\n",
    "        print(country + \": \" + dataset)\n",
    "        \n",
    "        # Remove na values\n",
    "        temp = df[[\"binary\", dataset]].dropna()\n",
    "        print(\"Points dropped: \" + str(len(df) - len(temp)))\n",
    "\n",
    "        results[country] = pd.concat([results[country], generate_report(dataset, temp[\"binary\"], temp[dataset])])"
   ]
  },
  {
   "cell_type": "markdown",
   "metadata": {},
   "source": [
    "**Togo**"
   ]
  },
  {
   "cell_type": "code",
   "execution_count": 79,
   "metadata": {},
   "outputs": [
    {
     "data": {
      "text/html": [
       "<div>\n",
       "<style scoped>\n",
       "    .dataframe tbody tr th:only-of-type {\n",
       "        vertical-align: middle;\n",
       "    }\n",
       "\n",
       "    .dataframe tbody tr th {\n",
       "        vertical-align: top;\n",
       "    }\n",
       "\n",
       "    .dataframe thead th {\n",
       "        text-align: right;\n",
       "    }\n",
       "</style>\n",
       "<table border=\"1\" class=\"dataframe\">\n",
       "  <thead>\n",
       "    <tr style=\"text-align: right;\">\n",
       "      <th></th>\n",
       "      <th>dataset</th>\n",
       "      <th>accuracy</th>\n",
       "      <th>crop_f1</th>\n",
       "      <th>crop_support</th>\n",
       "      <th>noncrop_support</th>\n",
       "      <th>crop_precision</th>\n",
       "      <th>crop_recall</th>\n",
       "      <th>noncrop_precision</th>\n",
       "      <th>noncrop_recall</th>\n",
       "    </tr>\n",
       "  </thead>\n",
       "  <tbody>\n",
       "    <tr>\n",
       "      <th>0</th>\n",
       "      <td>harvest</td>\n",
       "      <td>0.785915</td>\n",
       "      <td>0.750000</td>\n",
       "      <td>152</td>\n",
       "      <td>203</td>\n",
       "      <td>0.750000</td>\n",
       "      <td>0.750000</td>\n",
       "      <td>0.812808</td>\n",
       "      <td>0.812808</td>\n",
       "    </tr>\n",
       "    <tr>\n",
       "      <th>0</th>\n",
       "      <td>cop</td>\n",
       "      <td>0.692958</td>\n",
       "      <td>0.569170</td>\n",
       "      <td>152</td>\n",
       "      <td>203</td>\n",
       "      <td>0.712871</td>\n",
       "      <td>0.473684</td>\n",
       "      <td>0.685039</td>\n",
       "      <td>0.857143</td>\n",
       "    </tr>\n",
       "    <tr>\n",
       "      <th>0</th>\n",
       "      <td>esa</td>\n",
       "      <td>0.754930</td>\n",
       "      <td>0.626609</td>\n",
       "      <td>152</td>\n",
       "      <td>203</td>\n",
       "      <td>0.901235</td>\n",
       "      <td>0.480263</td>\n",
       "      <td>0.711679</td>\n",
       "      <td>0.960591</td>\n",
       "    </tr>\n",
       "    <tr>\n",
       "      <th>0</th>\n",
       "      <td>glad</td>\n",
       "      <td>0.715493</td>\n",
       "      <td>0.562771</td>\n",
       "      <td>152</td>\n",
       "      <td>203</td>\n",
       "      <td>0.822785</td>\n",
       "      <td>0.427632</td>\n",
       "      <td>0.684783</td>\n",
       "      <td>0.931034</td>\n",
       "    </tr>\n",
       "  </tbody>\n",
       "</table>\n",
       "</div>"
      ],
      "text/plain": [
       "   dataset  accuracy   crop_f1 crop_support noncrop_support  crop_precision  \\\n",
       "0  harvest  0.785915  0.750000          152             203        0.750000   \n",
       "0      cop  0.692958  0.569170          152             203        0.712871   \n",
       "0      esa  0.754930  0.626609          152             203        0.901235   \n",
       "0     glad  0.715493  0.562771          152             203        0.822785   \n",
       "\n",
       "   crop_recall  noncrop_precision  noncrop_recall  \n",
       "0     0.750000           0.812808        0.812808  \n",
       "0     0.473684           0.685039        0.857143  \n",
       "0     0.480263           0.711679        0.960591  \n",
       "0     0.427632           0.684783        0.931034  "
      ]
     },
     "execution_count": 79,
     "metadata": {},
     "output_type": "execute_result"
    }
   ],
   "source": [
    "results[\"Togo\"]"
   ]
  },
  {
   "cell_type": "markdown",
   "metadata": {},
   "source": [
    "**Kenya**"
   ]
  },
  {
   "cell_type": "code",
   "execution_count": 80,
   "metadata": {},
   "outputs": [
    {
     "data": {
      "text/html": [
       "<div>\n",
       "<style scoped>\n",
       "    .dataframe tbody tr th:only-of-type {\n",
       "        vertical-align: middle;\n",
       "    }\n",
       "\n",
       "    .dataframe tbody tr th {\n",
       "        vertical-align: top;\n",
       "    }\n",
       "\n",
       "    .dataframe thead th {\n",
       "        text-align: right;\n",
       "    }\n",
       "</style>\n",
       "<table border=\"1\" class=\"dataframe\">\n",
       "  <thead>\n",
       "    <tr style=\"text-align: right;\">\n",
       "      <th></th>\n",
       "      <th>dataset</th>\n",
       "      <th>accuracy</th>\n",
       "      <th>crop_f1</th>\n",
       "      <th>crop_support</th>\n",
       "      <th>noncrop_support</th>\n",
       "      <th>crop_precision</th>\n",
       "      <th>crop_recall</th>\n",
       "      <th>noncrop_precision</th>\n",
       "      <th>noncrop_recall</th>\n",
       "    </tr>\n",
       "  </thead>\n",
       "  <tbody>\n",
       "    <tr>\n",
       "      <th>0</th>\n",
       "      <td>harvest</td>\n",
       "      <td>0.951279</td>\n",
       "      <td>0.964602</td>\n",
       "      <td>571</td>\n",
       "      <td>250</td>\n",
       "      <td>0.974955</td>\n",
       "      <td>0.954466</td>\n",
       "      <td>0.900763</td>\n",
       "      <td>0.944000</td>\n",
       "    </tr>\n",
       "    <tr>\n",
       "      <th>0</th>\n",
       "      <td>cop</td>\n",
       "      <td>0.910736</td>\n",
       "      <td>0.936317</td>\n",
       "      <td>571</td>\n",
       "      <td>258</td>\n",
       "      <td>0.920474</td>\n",
       "      <td>0.952715</td>\n",
       "      <td>0.886555</td>\n",
       "      <td>0.817829</td>\n",
       "    </tr>\n",
       "    <tr>\n",
       "      <th>0</th>\n",
       "      <td>esa</td>\n",
       "      <td>0.439083</td>\n",
       "      <td>0.319180</td>\n",
       "      <td>571</td>\n",
       "      <td>258</td>\n",
       "      <td>0.973214</td>\n",
       "      <td>0.190893</td>\n",
       "      <td>0.355649</td>\n",
       "      <td>0.988372</td>\n",
       "    </tr>\n",
       "    <tr>\n",
       "      <th>0</th>\n",
       "      <td>glad</td>\n",
       "      <td>0.845597</td>\n",
       "      <td>0.882136</td>\n",
       "      <td>571</td>\n",
       "      <td>258</td>\n",
       "      <td>0.930097</td>\n",
       "      <td>0.838879</td>\n",
       "      <td>0.707006</td>\n",
       "      <td>0.860465</td>\n",
       "    </tr>\n",
       "  </tbody>\n",
       "</table>\n",
       "</div>"
      ],
      "text/plain": [
       "   dataset  accuracy   crop_f1 crop_support noncrop_support  crop_precision  \\\n",
       "0  harvest  0.951279  0.964602          571             250        0.974955   \n",
       "0      cop  0.910736  0.936317          571             258        0.920474   \n",
       "0      esa  0.439083  0.319180          571             258        0.973214   \n",
       "0     glad  0.845597  0.882136          571             258        0.930097   \n",
       "\n",
       "   crop_recall  noncrop_precision  noncrop_recall  \n",
       "0     0.954466           0.900763        0.944000  \n",
       "0     0.952715           0.886555        0.817829  \n",
       "0     0.190893           0.355649        0.988372  \n",
       "0     0.838879           0.707006        0.860465  "
      ]
     },
     "execution_count": 80,
     "metadata": {},
     "output_type": "execute_result"
    }
   ],
   "source": [
    "results[\"Kenya\"]"
   ]
  },
  {
   "cell_type": "markdown",
   "metadata": {},
   "source": [
    "**Tanzania**"
   ]
  },
  {
   "cell_type": "code",
   "execution_count": 81,
   "metadata": {},
   "outputs": [
    {
     "data": {
      "text/html": [
       "<div>\n",
       "<style scoped>\n",
       "    .dataframe tbody tr th:only-of-type {\n",
       "        vertical-align: middle;\n",
       "    }\n",
       "\n",
       "    .dataframe tbody tr th {\n",
       "        vertical-align: top;\n",
       "    }\n",
       "\n",
       "    .dataframe thead th {\n",
       "        text-align: right;\n",
       "    }\n",
       "</style>\n",
       "<table border=\"1\" class=\"dataframe\">\n",
       "  <thead>\n",
       "    <tr style=\"text-align: right;\">\n",
       "      <th></th>\n",
       "      <th>dataset</th>\n",
       "      <th>accuracy</th>\n",
       "      <th>crop_f1</th>\n",
       "      <th>crop_support</th>\n",
       "      <th>noncrop_support</th>\n",
       "      <th>crop_precision</th>\n",
       "      <th>crop_recall</th>\n",
       "      <th>noncrop_precision</th>\n",
       "      <th>noncrop_recall</th>\n",
       "    </tr>\n",
       "  </thead>\n",
       "  <tbody>\n",
       "    <tr>\n",
       "      <th>0</th>\n",
       "      <td>harvest</td>\n",
       "      <td>0.714405</td>\n",
       "      <td>0.567636</td>\n",
       "      <td>1084</td>\n",
       "      <td>1311</td>\n",
       "      <td>0.901606</td>\n",
       "      <td>0.414207</td>\n",
       "      <td>0.665261</td>\n",
       "      <td>0.962624</td>\n",
       "    </tr>\n",
       "    <tr>\n",
       "      <th>0</th>\n",
       "      <td>cop</td>\n",
       "      <td>0.784502</td>\n",
       "      <td>0.697409</td>\n",
       "      <td>1174</td>\n",
       "      <td>1536</td>\n",
       "      <td>0.890212</td>\n",
       "      <td>0.573254</td>\n",
       "      <td>0.743603</td>\n",
       "      <td>0.945964</td>\n",
       "    </tr>\n",
       "    <tr>\n",
       "      <th>0</th>\n",
       "      <td>esa</td>\n",
       "      <td>0.780812</td>\n",
       "      <td>0.672185</td>\n",
       "      <td>1174</td>\n",
       "      <td>1536</td>\n",
       "      <td>0.954545</td>\n",
       "      <td>0.518739</td>\n",
       "      <td>0.727317</td>\n",
       "      <td>0.981120</td>\n",
       "    </tr>\n",
       "    <tr>\n",
       "      <th>0</th>\n",
       "      <td>glad</td>\n",
       "      <td>0.773432</td>\n",
       "      <td>0.657366</td>\n",
       "      <td>1174</td>\n",
       "      <td>1536</td>\n",
       "      <td>0.953074</td>\n",
       "      <td>0.501704</td>\n",
       "      <td>0.720363</td>\n",
       "      <td>0.981120</td>\n",
       "    </tr>\n",
       "  </tbody>\n",
       "</table>\n",
       "</div>"
      ],
      "text/plain": [
       "   dataset  accuracy   crop_f1 crop_support noncrop_support  crop_precision  \\\n",
       "0  harvest  0.714405  0.567636         1084            1311        0.901606   \n",
       "0      cop  0.784502  0.697409         1174            1536        0.890212   \n",
       "0      esa  0.780812  0.672185         1174            1536        0.954545   \n",
       "0     glad  0.773432  0.657366         1174            1536        0.953074   \n",
       "\n",
       "   crop_recall  noncrop_precision  noncrop_recall  \n",
       "0     0.414207           0.665261        0.962624  \n",
       "0     0.573254           0.743603        0.945964  \n",
       "0     0.518739           0.727317        0.981120  \n",
       "0     0.501704           0.720363        0.981120  "
      ]
     },
     "execution_count": 81,
     "metadata": {},
     "output_type": "execute_result"
    }
   ],
   "source": [
    "results[\"Tanzania\"]"
   ]
  },
  {
   "attachments": {},
   "cell_type": "markdown",
   "metadata": {},
   "source": [
    "## ***TESTING ZONE***"
   ]
  },
  {
   "cell_type": "code",
   "execution_count": 21,
   "metadata": {},
   "outputs": [],
   "source": [
    "ken_test = read_test(\"../data/datasets/Kenya.csv\")\n",
    "tan_test = read_test(\"../data/datasets/Tanzania_CEO_2019.csv\")\n",
    "\n",
    "kenya = ee.ImageCollection(ee.Image(\"projects/sat-io/open-datasets/nasa-harvest/kenya_cropland_binary\"))\n",
    "tanz = ee.ImageCollection(ee.Image(\"users/adadebay/Tanzania_cropland_2019\"))"
   ]
  },
  {
   "cell_type": "code",
   "execution_count": 16,
   "metadata": {},
   "outputs": [],
   "source": [
    "ken_coll = ee.FeatureCollection(ken_test.apply(create_point, axis=1).to_list()).map(bufferPoints(10, False))\n",
    "tan_coll = ee.FeatureCollection(tan_test.apply(create_point, axis=1).to_list()).map(bufferPoints(10, False))"
   ]
  },
  {
   "cell_type": "code",
   "execution_count": 18,
   "metadata": {},
   "outputs": [],
   "source": [
    "# Harvest\n",
    "h_tan = geemap.ee_to_gdf(tanz.map(lambda x: raster_extraction(x, 10, tan_coll)).flatten())\n",
    "\n",
    "cop_clipped = copernicus.select(\"discrete_classification\").filterDate(\"2019-01-01\", \"2019-12-31\")\n",
    "cop_tan = geemap.ee_to_gdf(cop_clipped.map(lambda x: raster_extraction(x, 10, tan_coll)).flatten())\n",
    "\n",
    "esa_tan = geemap.ee_to_gdf(esa.map(lambda x: raster_extraction(x, 10, tan_coll)).flatten())\n",
    "glad_tan = geemap.ee_to_gdf(glad.map(lambda x: raster_extraction(x, 10, tan_coll)).flatten())"
   ]
  },
  {
   "cell_type": "code",
   "execution_count": 22,
   "metadata": {},
   "outputs": [],
   "source": [
    "tan_test['harvest'] = pd.merge(tan_test, h_tan, on=[\"lat\", \"lon\"], how=\"left\")[\"mode\"].apply(lambda x: 1 if x >=0.5 else 0)\n",
    "tan_test[\"cop\"] = pd.merge(tan_test, cop_tan, on=[\"lat\", \"lon\"], how=\"left\")[\"mode\"].apply(lambda x: 1 if x==40 else 0)\n",
    "tan_test[\"esa\"] = pd.merge(tan_test, esa_tan, on=[\"lat\", \"lon\"], how=\"left\")[\"mode\"].apply(lambda x: 1 if x==40 else 0)\n",
    "tan_test['glad'] = pd.merge(tan_test, glad_tan, on=[\"lat\", \"lon\"], how=\"left\")[\"mode\"]"
   ]
  },
  {
   "cell_type": "code",
   "execution_count": 23,
   "metadata": {},
   "outputs": [
    {
     "data": {
      "text/plain": [
       "1373"
      ]
     },
     "execution_count": 23,
     "metadata": {},
     "output_type": "execute_result"
    }
   ],
   "source": [
    "tan_dropped = tan_test[['binary', 'harvest', 'cop', 'esa', 'glad']].dropna()\n",
    "len(tan_test) - len(tan_dropped)"
   ]
  },
  {
   "cell_type": "code",
   "execution_count": 30,
   "metadata": {},
   "outputs": [
    {
     "data": {
      "text/html": [
       "<div>\n",
       "<style scoped>\n",
       "    .dataframe tbody tr th:only-of-type {\n",
       "        vertical-align: middle;\n",
       "    }\n",
       "\n",
       "    .dataframe tbody tr th {\n",
       "        vertical-align: top;\n",
       "    }\n",
       "\n",
       "    .dataframe thead th {\n",
       "        text-align: right;\n",
       "    }\n",
       "</style>\n",
       "<table border=\"1\" class=\"dataframe\">\n",
       "  <thead>\n",
       "    <tr style=\"text-align: right;\">\n",
       "      <th></th>\n",
       "      <th>dataset</th>\n",
       "      <th>crop_f1</th>\n",
       "      <th>accuracy</th>\n",
       "      <th>crop_support</th>\n",
       "      <th>noncrop_support</th>\n",
       "      <th>crop_recall</th>\n",
       "      <th>noncrop_recall</th>\n",
       "      <th>crop_precision</th>\n",
       "      <th>noncrop_precision</th>\n",
       "    </tr>\n",
       "  </thead>\n",
       "  <tbody>\n",
       "    <tr>\n",
       "      <th>0</th>\n",
       "      <td>harvest</td>\n",
       "      <td>0.207934</td>\n",
       "      <td>0.566941</td>\n",
       "      <td>507</td>\n",
       "      <td>830</td>\n",
       "      <td>0.149901</td>\n",
       "      <td>0.821687</td>\n",
       "      <td>0.339286</td>\n",
       "      <td>0.612758</td>\n",
       "    </tr>\n",
       "    <tr>\n",
       "      <th>0</th>\n",
       "      <td>cop</td>\n",
       "      <td>0.281143</td>\n",
       "      <td>0.529544</td>\n",
       "      <td>507</td>\n",
       "      <td>830</td>\n",
       "      <td>0.242604</td>\n",
       "      <td>0.704819</td>\n",
       "      <td>0.334239</td>\n",
       "      <td>0.603715</td>\n",
       "    </tr>\n",
       "    <tr>\n",
       "      <th>0</th>\n",
       "      <td>esa</td>\n",
       "      <td>0.265530</td>\n",
       "      <td>0.548990</td>\n",
       "      <td>507</td>\n",
       "      <td>830</td>\n",
       "      <td>0.214990</td>\n",
       "      <td>0.753012</td>\n",
       "      <td>0.347134</td>\n",
       "      <td>0.610948</td>\n",
       "    </tr>\n",
       "    <tr>\n",
       "      <th>0</th>\n",
       "      <td>glad</td>\n",
       "      <td>0.276284</td>\n",
       "      <td>0.557218</td>\n",
       "      <td>507</td>\n",
       "      <td>830</td>\n",
       "      <td>0.222880</td>\n",
       "      <td>0.761446</td>\n",
       "      <td>0.363344</td>\n",
       "      <td>0.615984</td>\n",
       "    </tr>\n",
       "  </tbody>\n",
       "</table>\n",
       "</div>"
      ],
      "text/plain": [
       "   dataset   crop_f1  accuracy  crop_support  noncrop_support  crop_recall  \\\n",
       "0  harvest  0.207934  0.566941           507              830     0.149901   \n",
       "0      cop  0.281143  0.529544           507              830     0.242604   \n",
       "0      esa  0.265530  0.548990           507              830     0.214990   \n",
       "0     glad  0.276284  0.557218           507              830     0.222880   \n",
       "\n",
       "   noncrop_recall  crop_precision  noncrop_precision  \n",
       "0        0.821687        0.339286           0.612758  \n",
       "0        0.704819        0.334239           0.603715  \n",
       "0        0.753012        0.347134           0.610948  \n",
       "0        0.761446        0.363344           0.615984  "
      ]
     },
     "execution_count": 30,
     "metadata": {},
     "output_type": "execute_result"
    }
   ],
   "source": [
    "tan_report = []\n",
    "\n",
    "for key in ['harvest', 'cop', 'esa', 'glad']:\n",
    "    tan_report.append(generate_report(key, tan_dropped['binary'], tan_dropped[key]))\n",
    "\n",
    "pd.concat(tan_report)"
   ]
  },
  {
   "cell_type": "code",
   "execution_count": null,
   "metadata": {},
   "outputs": [],
   "source": []
  }
 ],
 "metadata": {
  "kernelspec": {
   "display_name": "intercomparison",
   "language": "python",
   "name": "python3"
  },
  "language_info": {
   "codemirror_mode": {
    "name": "ipython",
    "version": 3
   },
   "file_extension": ".py",
   "mimetype": "text/x-python",
   "name": "python",
   "nbconvert_exporter": "python",
   "pygments_lexer": "ipython3",
   "version": "3.8.8"
  },
  "orig_nbformat": 4,
  "vscode": {
   "interpreter": {
    "hash": "b9a057a3c2bc11d9fb1a09bad675557d69c9743adf6ae74a67a8c76be0d35d72"
   }
  }
 },
 "nbformat": 4,
 "nbformat_minor": 2
}
