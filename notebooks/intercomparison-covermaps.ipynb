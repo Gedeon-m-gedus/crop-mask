{
 "cells": [
  {
   "cell_type": "markdown",
   "metadata": {},
   "source": [
    "# Covermap Comparison\n",
    "\n",
    "**Author:** Adam Yang (ayang115@umd.edu)\n",
    "\n",
    "**Description:** Compares datasets against test sets\n",
    "\n",
    "**Crop Maps Used:** Harvest Togo & Kenya, Copernicus Land Cover, ESA CCI Land Cover Africa, GLAD Global Cropland Extent"
   ]
  },
  {
   "cell_type": "code",
   "execution_count": 1,
   "metadata": {},
   "outputs": [
    {
     "name": "stderr",
     "output_type": "stream",
     "text": [
      "c:\\Users\\adamf\\anaconda3\\envs\\intercomparison\\lib\\site-packages\\geopandas\\_compat.py:112: UserWarning: The Shapely GEOS version (3.8.0-CAPI-1.13.1 ) is incompatible with the GEOS version PyGEOS was compiled with (3.10.4-CAPI-1.16.2). Conversions between both will be slow.\n",
      "  warnings.warn(\n"
     ]
    }
   ],
   "source": [
    "import os\n",
    "import geemap\n",
    "import cartopy.io.shapereader as shpreader \n",
    "import matplotlib.pyplot as plt\n",
    "import pandas as pd\n",
    "import numpy as np\n",
    "import geopandas as gpd\n",
    "import rasterio as rio\n",
    "\n",
    "from pathlib import Path\n",
    "from shapely import wkt\n",
    "from sklearn.metrics import classification_report \n",
    "from shapely.geometry import Point, MultiPolygon, GeometryCollection \n"
   ]
  },
  {
   "cell_type": "code",
   "execution_count": 2,
   "metadata": {},
   "outputs": [
    {
     "data": {
      "text/html": [
       "<p>To authorize access needed by Earth Engine, open the following\n",
       "        URL in a web browser and follow the instructions:</p>\n",
       "        <p><a href=https://code.earthengine.google.com/client-auth?scopes=https%3A//www.googleapis.com/auth/earthengine%20https%3A//www.googleapis.com/auth/devstorage.full_control&request_id=W1xJfOqJ2kJ-fgCd4RfcMSNNoZa__xCRmP9npdNTH8M&tc=2ngbDGkWPszZs9uGViWdx5QiXf70IOhYeEWuHSphHVA&cc=avcz-ibyHuwQkvflYxnBs9z8jCJF5eDcaZFwReJ7ZWM>https://code.earthengine.google.com/client-auth?scopes=https%3A//www.googleapis.com/auth/earthengine%20https%3A//www.googleapis.com/auth/devstorage.full_control&request_id=W1xJfOqJ2kJ-fgCd4RfcMSNNoZa__xCRmP9npdNTH8M&tc=2ngbDGkWPszZs9uGViWdx5QiXf70IOhYeEWuHSphHVA&cc=avcz-ibyHuwQkvflYxnBs9z8jCJF5eDcaZFwReJ7ZWM</a></p>\n",
       "        <p>The authorization workflow will generate a code, which you should paste in the box below.</p>\n",
       "        "
      ],
      "text/plain": [
       "<IPython.core.display.HTML object>"
      ]
     },
     "metadata": {},
     "output_type": "display_data"
    },
    {
     "name": "stdout",
     "output_type": "stream",
     "text": [
      "\n",
      "Successfully saved authorization token.\n"
     ]
    }
   ],
   "source": [
    "import ee\n",
    "\n",
    "ee.Authenticate()\n",
    "\n",
    "ee.Initialize()"
   ]
  },
  {
   "attachments": {},
   "cell_type": "markdown",
   "metadata": {},
   "source": [
    "### **Setup**"
   ]
  },
  {
   "cell_type": "markdown",
   "metadata": {},
   "source": [
    "**Constants**"
   ]
  },
  {
   "cell_type": "code",
   "execution_count": 13,
   "metadata": {},
   "outputs": [],
   "source": [
    "COUNTRIES = [\"Kenya\", \"Togo\", \"Tanzania\"]\n",
    "TEST_COUNTRIES = [\"Kenya\", \"Togo\", \"Tanzania_CEO_2019\"]\n",
    "DATA_PATH = \"../data/datasets/\"\n",
    "TEST_CODE = {\"Kenya\": \"KEN\", \"Togo\": \"TGO\", \"Tanzania_CEO_2019\": \"TZA\"} # for NE boundaries"
   ]
  },
  {
   "cell_type": "code",
   "execution_count": 4,
   "metadata": {},
   "outputs": [],
   "source": [
    "DATASET_PATH = Path(DATA_PATH).glob(\"*\")\n",
    "TARGET_PATHS = [p for p in DATASET_PATH if p.stem in TEST_COUNTRIES] # test data path"
   ]
  },
  {
   "cell_type": "code",
   "execution_count": 5,
   "metadata": {},
   "outputs": [],
   "source": [
    "# country boundaries\n",
    "NE_GDF = gpd.read_file(\n",
    "    shpreader.natural_earth(\n",
    "        resolution='10m', \n",
    "        category='cultural', \n",
    "        name='admin_1_states_provinces')\n",
    ")\n"
   ]
  },
  {
   "cell_type": "markdown",
   "metadata": {},
   "source": [
    "**Functions**"
   ]
  },
  {
   "cell_type": "code",
   "execution_count": 6,
   "metadata": {},
   "outputs": [],
   "source": [
    "# Remaps classes to crop/noncrop \n",
    "def map_values(val, value_for_crop):\n",
    "    if val == value_for_crop:\n",
    "        return 1\n",
    "    else:\n",
    "        return 0"
   ]
  },
  {
   "cell_type": "code",
   "execution_count": 7,
   "metadata": {},
   "outputs": [],
   "source": [
    "# Function used in map function to extract from feature collection\n",
    "def raster_extraction(image, resolution, f_collection):\n",
    "    feature = image.sampleRegions(\n",
    "        collection = f_collection,\n",
    "        scale = resolution\n",
    "    )\n",
    "    return feature"
   ]
  },
  {
   "cell_type": "code",
   "execution_count": 8,
   "metadata": {},
   "outputs": [],
   "source": [
    "# Convert sklearn classification report dict to \n",
    "def generate_report(dataset, report):\n",
    "    return pd.DataFrame(data = {\n",
    "        \"dataset\": dataset, \n",
    "        \"accuracy\": report[\"accuracy\"], \n",
    "        \"crop_f1\": report[\"1\"][\"f1-score\"], \n",
    "        \"crop_support\": report[\"1\"][\"support\"], \n",
    "        \"noncrop_support\": report[\"0\"][\"support\"], \n",
    "        \"crop_precision\": report[\"1\"][\"precision\"], \n",
    "        \"crop_recall\": report[\"1\"][\"recall\"], \n",
    "        \"noncrop_precision\": report[\"0\"][\"precision\"], \n",
    "        \"noncrop_recall\": report[\"0\"][\"recall\"]\n",
    "        }, index=[0])\n",
    "    "
   ]
  },
  {
   "cell_type": "code",
   "execution_count": 9,
   "metadata": {},
   "outputs": [],
   "source": [
    "# Creates ee.Feature from longitude and latitude coordinates from a dataframe\n",
    "def create_point(row):\n",
    "    geom = ee.Geometry.Point(row.lon, row.lat)\n",
    "    prop = dict(row[['lon', 'lat', 'binary']])\n",
    "\n",
    "    return ee.Feature(geom, prop)"
   ]
  },
  {
   "cell_type": "code",
   "execution_count": 10,
   "metadata": {},
   "outputs": [],
   "source": [
    "# filters out data in gdf that is not within country bounds \n",
    "def filter_by_bounds(country: str, gdf: gpd.GeoDataFrame):\n",
    "    boundary = NE_GDF.loc[NE_GDF['adm1_code'].str.startswith(country), :].copy()\n",
    "\n",
    "    if boundary.crs == None:\n",
    "        boundary = boundary.set_crs('epsg:4326')\n",
    "    if boundary.crs != 'epsg:4326':\n",
    "        boundary = boundary.to_crs('epsg:4326')\n",
    "\n",
    "    boundary = GeometryCollection([x for x in boundary['geometry']])\n",
    "\n",
    "    mask = gdf.within(boundary)\n",
    "    filtered = gdf.loc[mask].copy()\n",
    "\n",
    "    return filtered"
   ]
  },
  {
   "attachments": {},
   "cell_type": "markdown",
   "metadata": {},
   "source": [
    "### **Generate Test Data**"
   ]
  },
  {
   "cell_type": "code",
   "execution_count": 14,
   "metadata": {},
   "outputs": [],
   "source": [
    "#create a testing geodataframe\n",
    "def generate_test_data(target_paths: str):\n",
    "    test_set = []\n",
    "    \n",
    "    for p in target_paths:\n",
    "        # Set dict key name\n",
    "        key = p.stem\n",
    "\n",
    "        print(key)\n",
    "\n",
    "        # Read in data and extract test values and points \n",
    "        gdf = gpd.read_file(p)\n",
    "        gdf[\"geometry\"] = gpd.points_from_xy(gdf.lon, gdf.lat)\n",
    "\n",
    "        if gdf.crs == None:\n",
    "            gdf.set_crs(\"epsg:4326\")\n",
    "        elif gdf.crs != \"epsg:4326\":\n",
    "            gdf.to_crs(\"epsg:4326\")\n",
    "\n",
    "        gdf = gdf.loc[gdf[\"subset\"]==\"testing\"]\n",
    "        gdf = gdf.astype({\"lat\":\"float\", \"lon\": \"float\", \"class_probability\": \"float\"})\n",
    "        gdf = gdf[[\"lat\", \"lon\", \"class_probability\", \"country\", \"geometry\"]]\n",
    "        gdf[\"binary\"] = gdf[\"class_probability\"].apply(lambda x: 1 if x >= 0.5 else 0)\n",
    "        \n",
    "        print(len(gdf))\n",
    "        gdf = filter_by_bounds(TEST_CODE[key], gdf)\n",
    "        print(len(gdf))\n",
    "\n",
    "        test_set.append(gdf)\n",
    "\n",
    "    test = gpd.GeoDataFrame(pd.concat(test_set))\n",
    "    test.reset_index(inplace=True, drop=True)\n",
    "    \n",
    "    return test"
   ]
  },
  {
   "cell_type": "code",
   "execution_count": 15,
   "metadata": {},
   "outputs": [
    {
     "name": "stdout",
     "output_type": "stream",
     "text": [
      "Kenya\n",
      "829\n",
      "764\n",
      "Tanzania_CEO_2019\n",
      "2710\n",
      "1537\n",
      "Togo\n",
      "355\n",
      "352\n"
     ]
    }
   ],
   "source": [
    "test_data = generate_test_data(TARGET_PATHS)"
   ]
  },
  {
   "cell_type": "code",
   "execution_count": 13,
   "metadata": {},
   "outputs": [],
   "source": [
    "# test_data.to_csv('../../intercomparison-data/test_data.csv')"
   ]
  },
  {
   "cell_type": "code",
   "execution_count": 14,
   "metadata": {},
   "outputs": [],
   "source": [
    "test_data = pd.read_csv(\"../../intercomparison-data/test_data.csv\").drop(\"Unnamed: 0\", axis=1)\n",
    "test_data[\"geometry\"] = test_data[\"geometry\"].apply(wkt.loads)\n",
    "test_data = gpd.GeoDataFrame(test_data, crs=\"epsg:4326\")"
   ]
  },
  {
   "cell_type": "code",
   "execution_count": 117,
   "metadata": {},
   "outputs": [
    {
     "data": {
      "text/html": [
       "<div>\n",
       "<style scoped>\n",
       "    .dataframe tbody tr th:only-of-type {\n",
       "        vertical-align: middle;\n",
       "    }\n",
       "\n",
       "    .dataframe tbody tr th {\n",
       "        vertical-align: top;\n",
       "    }\n",
       "\n",
       "    .dataframe thead th {\n",
       "        text-align: right;\n",
       "    }\n",
       "</style>\n",
       "<table border=\"1\" class=\"dataframe\">\n",
       "  <thead>\n",
       "    <tr style=\"text-align: right;\">\n",
       "      <th></th>\n",
       "      <th>lat</th>\n",
       "      <th>lon</th>\n",
       "      <th>class_probability</th>\n",
       "      <th>country</th>\n",
       "      <th>geometry</th>\n",
       "      <th>binary</th>\n",
       "    </tr>\n",
       "  </thead>\n",
       "  <tbody>\n",
       "    <tr>\n",
       "      <th>0</th>\n",
       "      <td>0.725122</td>\n",
       "      <td>34.386282</td>\n",
       "      <td>0.0</td>\n",
       "      <td>Kenya</td>\n",
       "      <td>POINT (34.38628 0.72512)</td>\n",
       "      <td>0</td>\n",
       "    </tr>\n",
       "    <tr>\n",
       "      <th>1</th>\n",
       "      <td>0.621939</td>\n",
       "      <td>34.466496</td>\n",
       "      <td>0.0</td>\n",
       "      <td>Kenya</td>\n",
       "      <td>POINT (34.46650 0.62194)</td>\n",
       "      <td>0</td>\n",
       "    </tr>\n",
       "    <tr>\n",
       "      <th>2</th>\n",
       "      <td>0.226497</td>\n",
       "      <td>34.054859</td>\n",
       "      <td>0.0</td>\n",
       "      <td>Kenya</td>\n",
       "      <td>POINT (34.05486 0.22650)</td>\n",
       "      <td>0</td>\n",
       "    </tr>\n",
       "    <tr>\n",
       "      <th>3</th>\n",
       "      <td>0.096834</td>\n",
       "      <td>33.951959</td>\n",
       "      <td>0.0</td>\n",
       "      <td>Kenya</td>\n",
       "      <td>POINT (33.95196 0.09683)</td>\n",
       "      <td>0</td>\n",
       "    </tr>\n",
       "    <tr>\n",
       "      <th>4</th>\n",
       "      <td>0.032072</td>\n",
       "      <td>33.968469</td>\n",
       "      <td>0.0</td>\n",
       "      <td>Kenya</td>\n",
       "      <td>POINT (33.96847 0.03207)</td>\n",
       "      <td>0</td>\n",
       "    </tr>\n",
       "  </tbody>\n",
       "</table>\n",
       "</div>"
      ],
      "text/plain": [
       "        lat        lon  class_probability country                  geometry  \\\n",
       "0  0.725122  34.386282                0.0   Kenya  POINT (34.38628 0.72512)   \n",
       "1  0.621939  34.466496                0.0   Kenya  POINT (34.46650 0.62194)   \n",
       "2  0.226497  34.054859                0.0   Kenya  POINT (34.05486 0.22650)   \n",
       "3  0.096834  33.951959                0.0   Kenya  POINT (33.95196 0.09683)   \n",
       "4  0.032072  33.968469                0.0   Kenya  POINT (33.96847 0.03207)   \n",
       "\n",
       "   binary  \n",
       "0       0  \n",
       "1       0  \n",
       "2       0  \n",
       "3       0  \n",
       "4       0  "
      ]
     },
     "execution_count": 117,
     "metadata": {},
     "output_type": "execute_result"
    }
   ],
   "source": [
    "test_data.head()"
   ]
  },
  {
   "attachments": {},
   "cell_type": "markdown",
   "metadata": {},
   "source": [
    "### **Examine test set**"
   ]
  },
  {
   "cell_type": "code",
   "execution_count": 16,
   "metadata": {},
   "outputs": [
    {
     "data": {
      "text/plain": [
       "<AxesSubplot:>"
      ]
     },
     "execution_count": 16,
     "metadata": {},
     "output_type": "execute_result"
    },
    {
     "data": {
      "image/png": "[encoded data removed]",
      "text/plain": [
       "<Figure size 720x720 with 1 Axes>"
      ]
     },
     "metadata": {
      "needs_background": "light"
     },
     "output_type": "display_data"
    }
   ],
   "source": [
    "KEN_mask = NE_GDF[NE_GDF[\"adm1_code\"].str.startswith(\"KEN\")].copy()\n",
    "TGO_mask = NE_GDF[NE_GDF[\"adm1_code\"].str.startswith(\"TGO\")].copy()\n",
    "TZA_mask = NE_GDF[NE_GDF[\"adm1_code\"].str.startswith(\"TZA\")].copy()\n",
    "masks = [KEN_mask, TZA_mask]\n",
    "\n",
    "# Make sure the shapefile has EPSG:4326, otherwise convert it\n",
    "for boundary in masks:\n",
    "    if boundary.crs == None:\n",
    "        boundary = boundary.set_crs('epsg:4326')\n",
    "    if boundary.crs != 'epsg:4326':\n",
    "        boundary = boundary.to_crs('epsg:4326')\n",
    "    boundary['roi'] = True\n",
    "    boundary.reset_index(inplace=True, drop=True)\n",
    "    boundary.dissolve('roi')\n",
    "\n",
    "df = gpd.GeoDataFrame(pd.concat(masks)).set_crs('epsg:4326')\n",
    "\n",
    "fig, ax = plt.subplots(figsize = (10,10))\n",
    "ax.set_facecolor(\"gray\")\n",
    "df[\"geometry\"].to_crs(epsg=4326).plot(ax=ax, color='lightgrey')\n",
    "test_data.plot(ax=ax, column='test_class', alpha=0.5, cmap='binary')"
   ]
  },
  {
   "attachments": {},
   "cell_type": "markdown",
   "metadata": {},
   "source": [
    "Support for each country"
   ]
  },
  {
   "cell_type": "code",
   "execution_count": 17,
   "metadata": {},
   "outputs": [
    {
     "name": "stdout",
     "output_type": "stream",
     "text": [
      "352 764 1537\n"
     ]
    }
   ],
   "source": [
    "print(\n",
    "    len(test_data[test_data['country']=='Togo']), \n",
    "    len(test_data[test_data['country']=='Kenya']), \n",
    "    len(test_data[test_data['country']=='Tanzania_CEO_2019'])\n",
    "    )"
   ]
  },
  {
   "attachments": {},
   "cell_type": "markdown",
   "metadata": {},
   "source": [
    "Assert no overlap"
   ]
  },
  {
   "cell_type": "code",
   "execution_count": 18,
   "metadata": {},
   "outputs": [],
   "source": [
    "tgo = test_data.loc[test_data['country']=='Togo'].copy()\n",
    "ken = test_data.loc[test_data['country']=='Kenya'].copy()\n",
    "tan = test_data.loc[test_data['country']=='Tanzania_CEO_2019'].copy()"
   ]
  },
  {
   "cell_type": "code",
   "execution_count": 19,
   "metadata": {},
   "outputs": [
    {
     "name": "stderr",
     "output_type": "stream",
     "text": [
      "c:\\Users\\adamf\\anaconda3\\envs\\intercomparison\\lib\\site-packages\\geopandas\\base.py:31: UserWarning: The indices of the two GeoSeries are different.\n",
      "  warn(\"The indices of the two GeoSeries are different.\")\n"
     ]
    }
   ],
   "source": [
    "assert ~ken.overlaps(tan).all(), \"Overlap detected!\"\n",
    "assert ~tan.overlaps(ken).all(), \"Overlap detected!\""
   ]
  },
  {
   "attachments": {},
   "cell_type": "markdown",
   "metadata": {},
   "source": [
    "### **Generate earth engine points**"
   ]
  },
  {
   "cell_type": "code",
   "execution_count": 47,
   "metadata": {},
   "outputs": [],
   "source": [
    "togo_coll = ee.FeatureCollection(test_data.loc[test_data[\"country\"]==\"Togo\"].apply(create_point, axis=1).to_list())\n",
    "kenya_coll = ee.FeatureCollection(test_data.loc[test_data[\"country\"]==\"Kenya\"].apply(create_point, axis=1).to_list())\n",
    "tanz_coll = ee.FeatureCollection(test_data.loc[test_data[\"country\"]==\"Tanzania\"].apply(create_point, axis=1).to_list())\n",
    "\n",
    "# All countries\n",
    "test_coll = ee.FeatureCollection(test_data.apply(create_point, axis=1).to_list())\n"
   ]
  },
  {
   "attachments": {},
   "cell_type": "markdown",
   "metadata": {},
   "source": [
    "### **Harvest Data**"
   ]
  },
  {
   "cell_type": "code",
   "execution_count": 125,
   "metadata": {},
   "outputs": [],
   "source": [
    "HARVEST_PATHS = {\n",
    "    \"projects/sat-io/open-datasets/nasa-harvest/togo_cropland_binary\" : togo_coll, \n",
    "    \"projects/sat-io/open-datasets/nasa-harvest/kenya_cropland_binary\" : kenya_coll,\n",
    "    \"users/adadebay/Tanzania_cropland_2019\" : tanz_coll}"
   ]
  },
  {
   "cell_type": "code",
   "execution_count": 126,
   "metadata": {},
   "outputs": [
    {
     "name": "stdout",
     "output_type": "stream",
     "text": [
      "togo_cropland_binary\n",
      "kenya_cropland_binary\n",
      "Tanzania_cropland_2019\n"
     ]
    }
   ],
   "source": [
    "harvest = []\n",
    "for map in HARVEST_PATHS.keys():\n",
    "    name = map.split('/')[-1]\n",
    "    print(name)\n",
    "\n",
    "    #sample from earth engine\n",
    "    sampled = ee.Image(map).reduceRegions(\n",
    "        collection=HARVEST_PATHS[map],\n",
    "        reducer=ee.Reducer.first()\n",
    "    )\n",
    "    \n",
    "    #convert to dataframe\n",
    "    sampled = geemap.ee_to_gdf(sampled)\n",
    "    \n",
    "    #binarize \n",
    "    sampled['first'] = sampled['first'].apply(lambda x: 1 if x>=0.5 else 0) \n",
    "\n",
    "    harvest.append(sampled)\n",
    "\n",
    "harvest = pd.concat(harvest)\n",
    "\n",
    "# harvest.to_csv('../../intercomparison-data/harvest.csv')"
   ]
  },
  {
   "cell_type": "code",
   "execution_count": 127,
   "metadata": {},
   "outputs": [],
   "source": [
    "# Join test and sampled sets\n",
    "test_data[\"harvest\"] = pd.merge(test_data, harvest, on=[\"lat\", \"lon\"], how=\"left\")[\"first\"]"
   ]
  },
  {
   "attachments": {},
   "cell_type": "markdown",
   "metadata": {},
   "source": [
    "### **[COP](https://developers.google.com/earth-engine/datasets/catalog/COPERNICUS_Landcover_100m_Proba-V-C3_Global), [ESA](https://developers.google.com/earth-engine/datasets/catalog/ESA_WorldCover_v100), [GLAD](https://glad.umd.edu/dataset/croplands)**"
   ]
  },
  {
   "cell_type": "code",
   "execution_count": 48,
   "metadata": {},
   "outputs": [],
   "source": [
    "copernicus = ee.ImageCollection(\"COPERNICUS/Landcover/100m/Proba-V-C3/Global\")\n",
    "esa = ee.ImageCollection(\"ESA/WorldCover/v100\")\n",
    "glad = ee.ImageCollection(\"users/potapovpeter/Global_cropland_2019\")"
   ]
  },
  {
   "cell_type": "code",
   "execution_count": 55,
   "metadata": {},
   "outputs": [],
   "source": [
    "cop_clipped = copernicus.select(\"discrete_classification\").filterDate(\"2019-01-01\", \"2019-12-31\").map(lambda x: raster_extraction(x, 100, test_coll)).flatten()\n",
    "cop_sampled = geemap.ee_to_gdf(cop_clipped)\n",
    "cop_sampled[\"cop_class\"] = cop_sampled[\"discrete_classification\"].apply(lambda x: 1 if x==40 else 0)\n",
    "\n",
    "esa_clipped = esa.filterBounds(test_coll).map(lambda x: raster_extraction(x, 10, test_coll)).flatten()\n",
    "esa_sampled = geemap.ee_to_gdf(esa_clipped)\n",
    "esa_sampled[\"esa_class\"] = esa_sampled[\"Map\"].apply(lambda x: 1 if x==40 else 0)\n",
    "\n",
    "glad_clipped = glad.filterBounds(test_coll).map(lambda x: raster_extraction(x, 30, test_coll)).flatten()\n",
    "glad_sampled = geemap.ee_to_gdf(glad_clipped).rename(columns={\"b1\": \"glad_class\"})"
   ]
  },
  {
   "cell_type": "code",
   "execution_count": 58,
   "metadata": {},
   "outputs": [],
   "source": [
    "a = pd.merge(cop_sampled, esa_sampled, on=[\"lat\", \"lon\"], how=\"left\")\n",
    "b = pd.merge(a, glad_sampled, on=[\"lat\", \"lon\"], how=\"left\")"
   ]
  },
  {
   "cell_type": "code",
   "execution_count": 59,
   "metadata": {},
   "outputs": [
    {
     "data": {
      "text/html": [
       "<div>\n",
       "<style scoped>\n",
       "    .dataframe tbody tr th:only-of-type {\n",
       "        vertical-align: middle;\n",
       "    }\n",
       "\n",
       "    .dataframe tbody tr th {\n",
       "        vertical-align: top;\n",
       "    }\n",
       "\n",
       "    .dataframe thead th {\n",
       "        text-align: right;\n",
       "    }\n",
       "</style>\n",
       "<table border=\"1\" class=\"dataframe\">\n",
       "  <thead>\n",
       "    <tr style=\"text-align: right;\">\n",
       "      <th></th>\n",
       "      <th>geometry_x</th>\n",
       "      <th>binary_x</th>\n",
       "      <th>discrete_classification</th>\n",
       "      <th>lat</th>\n",
       "      <th>lon</th>\n",
       "      <th>cop_class</th>\n",
       "      <th>geometry_y</th>\n",
       "      <th>Map</th>\n",
       "      <th>binary_y</th>\n",
       "      <th>esa_class</th>\n",
       "      <th>geometry</th>\n",
       "      <th>glad_class</th>\n",
       "      <th>binary</th>\n",
       "    </tr>\n",
       "  </thead>\n",
       "  <tbody>\n",
       "    <tr>\n",
       "      <th>0</th>\n",
       "      <td>None</td>\n",
       "      <td>0</td>\n",
       "      <td>126</td>\n",
       "      <td>0.725122</td>\n",
       "      <td>34.386282</td>\n",
       "      <td>0</td>\n",
       "      <td>None</td>\n",
       "      <td>20</td>\n",
       "      <td>0</td>\n",
       "      <td>0</td>\n",
       "      <td>None</td>\n",
       "      <td>1</td>\n",
       "      <td>0</td>\n",
       "    </tr>\n",
       "    <tr>\n",
       "      <th>1</th>\n",
       "      <td>None</td>\n",
       "      <td>0</td>\n",
       "      <td>122</td>\n",
       "      <td>0.621939</td>\n",
       "      <td>34.466496</td>\n",
       "      <td>0</td>\n",
       "      <td>None</td>\n",
       "      <td>20</td>\n",
       "      <td>0</td>\n",
       "      <td>0</td>\n",
       "      <td>None</td>\n",
       "      <td>0</td>\n",
       "      <td>0</td>\n",
       "    </tr>\n",
       "    <tr>\n",
       "      <th>2</th>\n",
       "      <td>None</td>\n",
       "      <td>0</td>\n",
       "      <td>40</td>\n",
       "      <td>0.226497</td>\n",
       "      <td>34.054859</td>\n",
       "      <td>1</td>\n",
       "      <td>None</td>\n",
       "      <td>30</td>\n",
       "      <td>0</td>\n",
       "      <td>0</td>\n",
       "      <td>None</td>\n",
       "      <td>0</td>\n",
       "      <td>0</td>\n",
       "    </tr>\n",
       "    <tr>\n",
       "      <th>3</th>\n",
       "      <td>None</td>\n",
       "      <td>0</td>\n",
       "      <td>20</td>\n",
       "      <td>0.096834</td>\n",
       "      <td>33.951959</td>\n",
       "      <td>0</td>\n",
       "      <td>None</td>\n",
       "      <td>30</td>\n",
       "      <td>0</td>\n",
       "      <td>0</td>\n",
       "      <td>None</td>\n",
       "      <td>0</td>\n",
       "      <td>0</td>\n",
       "    </tr>\n",
       "    <tr>\n",
       "      <th>4</th>\n",
       "      <td>None</td>\n",
       "      <td>0</td>\n",
       "      <td>80</td>\n",
       "      <td>0.032072</td>\n",
       "      <td>33.968469</td>\n",
       "      <td>0</td>\n",
       "      <td>None</td>\n",
       "      <td>80</td>\n",
       "      <td>0</td>\n",
       "      <td>0</td>\n",
       "      <td>None</td>\n",
       "      <td>0</td>\n",
       "      <td>0</td>\n",
       "    </tr>\n",
       "    <tr>\n",
       "      <th>...</th>\n",
       "      <td>...</td>\n",
       "      <td>...</td>\n",
       "      <td>...</td>\n",
       "      <td>...</td>\n",
       "      <td>...</td>\n",
       "      <td>...</td>\n",
       "      <td>...</td>\n",
       "      <td>...</td>\n",
       "      <td>...</td>\n",
       "      <td>...</td>\n",
       "      <td>...</td>\n",
       "      <td>...</td>\n",
       "      <td>...</td>\n",
       "    </tr>\n",
       "    <tr>\n",
       "      <th>2648</th>\n",
       "      <td>None</td>\n",
       "      <td>1</td>\n",
       "      <td>40</td>\n",
       "      <td>6.472810</td>\n",
       "      <td>1.502436</td>\n",
       "      <td>1</td>\n",
       "      <td>None</td>\n",
       "      <td>30</td>\n",
       "      <td>1</td>\n",
       "      <td>0</td>\n",
       "      <td>None</td>\n",
       "      <td>0</td>\n",
       "      <td>1</td>\n",
       "    </tr>\n",
       "    <tr>\n",
       "      <th>2649</th>\n",
       "      <td>None</td>\n",
       "      <td>1</td>\n",
       "      <td>40</td>\n",
       "      <td>11.037647</td>\n",
       "      <td>0.048311</td>\n",
       "      <td>1</td>\n",
       "      <td>None</td>\n",
       "      <td>40</td>\n",
       "      <td>1</td>\n",
       "      <td>1</td>\n",
       "      <td>None</td>\n",
       "      <td>1</td>\n",
       "      <td>1</td>\n",
       "    </tr>\n",
       "    <tr>\n",
       "      <th>2650</th>\n",
       "      <td>None</td>\n",
       "      <td>0</td>\n",
       "      <td>40</td>\n",
       "      <td>9.011538</td>\n",
       "      <td>1.493877</td>\n",
       "      <td>1</td>\n",
       "      <td>None</td>\n",
       "      <td>20</td>\n",
       "      <td>0</td>\n",
       "      <td>0</td>\n",
       "      <td>None</td>\n",
       "      <td>0</td>\n",
       "      <td>0</td>\n",
       "    </tr>\n",
       "    <tr>\n",
       "      <th>2651</th>\n",
       "      <td>None</td>\n",
       "      <td>0</td>\n",
       "      <td>114</td>\n",
       "      <td>9.138645</td>\n",
       "      <td>1.391047</td>\n",
       "      <td>0</td>\n",
       "      <td>None</td>\n",
       "      <td>20</td>\n",
       "      <td>0</td>\n",
       "      <td>0</td>\n",
       "      <td>None</td>\n",
       "      <td>0</td>\n",
       "      <td>0</td>\n",
       "    </tr>\n",
       "    <tr>\n",
       "      <th>2652</th>\n",
       "      <td>None</td>\n",
       "      <td>0</td>\n",
       "      <td>124</td>\n",
       "      <td>9.186742</td>\n",
       "      <td>1.344951</td>\n",
       "      <td>0</td>\n",
       "      <td>None</td>\n",
       "      <td>20</td>\n",
       "      <td>0</td>\n",
       "      <td>0</td>\n",
       "      <td>None</td>\n",
       "      <td>0</td>\n",
       "      <td>0</td>\n",
       "    </tr>\n",
       "  </tbody>\n",
       "</table>\n",
       "<p>2653 rows × 13 columns</p>\n",
       "</div>"
      ],
      "text/plain": [
       "     geometry_x  binary_x  discrete_classification        lat        lon  \\\n",
       "0          None         0                      126   0.725122  34.386282   \n",
       "1          None         0                      122   0.621939  34.466496   \n",
       "2          None         0                       40   0.226497  34.054859   \n",
       "3          None         0                       20   0.096834  33.951959   \n",
       "4          None         0                       80   0.032072  33.968469   \n",
       "...         ...       ...                      ...        ...        ...   \n",
       "2648       None         1                       40   6.472810   1.502436   \n",
       "2649       None         1                       40  11.037647   0.048311   \n",
       "2650       None         0                       40   9.011538   1.493877   \n",
       "2651       None         0                      114   9.138645   1.391047   \n",
       "2652       None         0                      124   9.186742   1.344951   \n",
       "\n",
       "      cop_class geometry_y  Map  binary_y  esa_class geometry  glad_class  \\\n",
       "0             0       None   20         0          0     None           1   \n",
       "1             0       None   20         0          0     None           0   \n",
       "2             1       None   30         0          0     None           0   \n",
       "3             0       None   30         0          0     None           0   \n",
       "4             0       None   80         0          0     None           0   \n",
       "...         ...        ...  ...       ...        ...      ...         ...   \n",
       "2648          1       None   30         1          0     None           0   \n",
       "2649          1       None   40         1          1     None           1   \n",
       "2650          1       None   20         0          0     None           0   \n",
       "2651          0       None   20         0          0     None           0   \n",
       "2652          0       None   20         0          0     None           0   \n",
       "\n",
       "      binary  \n",
       "0          0  \n",
       "1          0  \n",
       "2          0  \n",
       "3          0  \n",
       "4          0  \n",
       "...      ...  \n",
       "2648       1  \n",
       "2649       1  \n",
       "2650       0  \n",
       "2651       0  \n",
       "2652       0  \n",
       "\n",
       "[2653 rows x 13 columns]"
      ]
     },
     "execution_count": 59,
     "metadata": {},
     "output_type": "execute_result"
    }
   ],
   "source": [
    "b"
   ]
  },
  {
   "cell_type": "code",
   "execution_count": 131,
   "metadata": {},
   "outputs": [],
   "source": [
    "test_data[\"cop\"] = pd.merge(test_data, cop_sampled, on=[\"lat\", \"lon\"], how=\"left\")[\"cop_class\"]\n",
    "test_data[\"esa\"] = pd.merge(test_data, esa_sampled, on=[\"lat\", \"lon\"], how=\"left\")[\"esa_class\"]\n",
    "test_data['glad'] = pd.merge(test_data, glad_sampled, on=[\"lat\", \"lon\"], how=\"left\")[\"b1\"]"
   ]
  },
  {
   "cell_type": "code",
   "execution_count": 132,
   "metadata": {},
   "outputs": [
    {
     "ename": "AssertionError",
     "evalue": "Point mismatch!",
     "output_type": "error",
     "traceback": [
      "\u001b[1;31m---------------------------------------------------------------------------\u001b[0m",
      "\u001b[1;31mAssertionError\u001b[0m                            Traceback (most recent call last)",
      "\u001b[1;32m<ipython-input-132-e7b1d29932f6>\u001b[0m in \u001b[0;36m<module>\u001b[1;34m\u001b[0m\n\u001b[0;32m      1\u001b[0m \u001b[1;32massert\u001b[0m \u001b[1;33m(\u001b[0m\u001b[0mnp\u001b[0m\u001b[1;33m.\u001b[0m\u001b[0msort\u001b[0m\u001b[1;33m(\u001b[0m\u001b[0mcop_sampled\u001b[0m\u001b[1;33m[\u001b[0m\u001b[1;33m[\u001b[0m\u001b[1;34m'lat'\u001b[0m\u001b[1;33m,\u001b[0m \u001b[1;34m'lon'\u001b[0m\u001b[1;33m]\u001b[0m\u001b[1;33m]\u001b[0m\u001b[1;33m)\u001b[0m \u001b[1;33m==\u001b[0m \u001b[0mnp\u001b[0m\u001b[1;33m.\u001b[0m\u001b[0msort\u001b[0m\u001b[1;33m(\u001b[0m\u001b[0mtest_data\u001b[0m\u001b[1;33m[\u001b[0m\u001b[1;33m[\u001b[0m\u001b[1;34m'lat'\u001b[0m\u001b[1;33m,\u001b[0m\u001b[1;34m'lon'\u001b[0m\u001b[1;33m]\u001b[0m\u001b[1;33m]\u001b[0m\u001b[1;33m)\u001b[0m\u001b[1;33m)\u001b[0m\u001b[1;33m.\u001b[0m\u001b[0mall\u001b[0m\u001b[1;33m(\u001b[0m\u001b[1;33m)\u001b[0m\u001b[1;33m,\u001b[0m \u001b[1;34m\"Point mismatch!\"\u001b[0m\u001b[1;33m\u001b[0m\u001b[1;33m\u001b[0m\u001b[0m\n\u001b[0;32m      2\u001b[0m \u001b[1;32massert\u001b[0m \u001b[1;33m(\u001b[0m\u001b[0mnp\u001b[0m\u001b[1;33m.\u001b[0m\u001b[0msort\u001b[0m\u001b[1;33m(\u001b[0m\u001b[0mesa_sampled\u001b[0m\u001b[1;33m[\u001b[0m\u001b[1;33m[\u001b[0m\u001b[1;34m'lat'\u001b[0m\u001b[1;33m,\u001b[0m \u001b[1;34m'lon'\u001b[0m\u001b[1;33m]\u001b[0m\u001b[1;33m]\u001b[0m\u001b[1;33m)\u001b[0m \u001b[1;33m==\u001b[0m \u001b[0mnp\u001b[0m\u001b[1;33m.\u001b[0m\u001b[0msort\u001b[0m\u001b[1;33m(\u001b[0m\u001b[0mtest_data\u001b[0m\u001b[1;33m[\u001b[0m\u001b[1;33m[\u001b[0m\u001b[1;34m'lat'\u001b[0m\u001b[1;33m,\u001b[0m\u001b[1;34m'lon'\u001b[0m\u001b[1;33m]\u001b[0m\u001b[1;33m]\u001b[0m\u001b[1;33m)\u001b[0m\u001b[1;33m)\u001b[0m\u001b[1;33m.\u001b[0m\u001b[0mall\u001b[0m\u001b[1;33m(\u001b[0m\u001b[1;33m)\u001b[0m\u001b[1;33m,\u001b[0m \u001b[1;34m\"Point mismatch!\"\u001b[0m\u001b[1;33m\u001b[0m\u001b[1;33m\u001b[0m\u001b[0m\n\u001b[1;32m----> 3\u001b[1;33m \u001b[1;32massert\u001b[0m \u001b[1;33m(\u001b[0m\u001b[0mnp\u001b[0m\u001b[1;33m.\u001b[0m\u001b[0msort\u001b[0m\u001b[1;33m(\u001b[0m\u001b[0mglad_sampled\u001b[0m\u001b[1;33m[\u001b[0m\u001b[1;33m[\u001b[0m\u001b[1;34m'lat'\u001b[0m\u001b[1;33m,\u001b[0m \u001b[1;34m'lon'\u001b[0m\u001b[1;33m]\u001b[0m\u001b[1;33m]\u001b[0m\u001b[1;33m)\u001b[0m \u001b[1;33m==\u001b[0m \u001b[0mnp\u001b[0m\u001b[1;33m.\u001b[0m\u001b[0msort\u001b[0m\u001b[1;33m(\u001b[0m\u001b[0mtest_data\u001b[0m\u001b[1;33m[\u001b[0m\u001b[1;33m[\u001b[0m\u001b[1;34m'lat'\u001b[0m\u001b[1;33m,\u001b[0m\u001b[1;34m'lon'\u001b[0m\u001b[1;33m]\u001b[0m\u001b[1;33m]\u001b[0m\u001b[1;33m)\u001b[0m\u001b[1;33m)\u001b[0m\u001b[1;33m.\u001b[0m\u001b[0mall\u001b[0m\u001b[1;33m(\u001b[0m\u001b[1;33m)\u001b[0m\u001b[1;33m,\u001b[0m \u001b[1;34m\"Point mismatch!\"\u001b[0m\u001b[1;33m\u001b[0m\u001b[1;33m\u001b[0m\u001b[0m\n\u001b[0m",
      "\u001b[1;31mAssertionError\u001b[0m: Point mismatch!"
     ]
    }
   ],
   "source": [
    "assert (np.sort(cop_sampled[['lat', 'lon']]) == np.sort(test_data[['lat','lon']])).all(), \"Point mismatch!\"\n",
    "assert (np.sort(esa_sampled[['lat', 'lon']]) == np.sort(test_data[['lat','lon']])).all(), \"Point mismatch!\"\n",
    "assert (np.sort(glad_sampled[['lat', 'lon']]) == np.sort(test_data[['lat','lon']])).all(), \"Point mismatch!\""
   ]
  },
  {
   "cell_type": "markdown",
   "metadata": {},
   "source": [
    "## **Evaluation Results**"
   ]
  },
  {
   "cell_type": "markdown",
   "metadata": {},
   "source": [
    "**Compute results**"
   ]
  },
  {
   "cell_type": "code",
   "execution_count": 16,
   "metadata": {},
   "outputs": [],
   "source": [
    "results = {}\n",
    "\n",
    "for key in COUNTRIES:\n",
    "    results[key] = pd.DataFrame(columns=[\"dataset\", \"accuracy\", \"crop_f1\", \"crop_support\", \"noncrop_support\", \n",
    "        \"crop_precision\", \"crop_recall\", \"noncrop_precision\", \"noncrop_recall\"])\n"
   ]
  },
  {
   "cell_type": "code",
   "execution_count": 162,
   "metadata": {},
   "outputs": [
    {
     "data": {
      "text/plain": [
       "{'Kenya': Empty DataFrame\n",
       " Columns: [dataset, accuracy, crop_f1, crop_support, noncrop_support, crop_precision, crop_recall, noncrop_precision, noncrop_recall]\n",
       " Index: [],\n",
       " 'Togo': Empty DataFrame\n",
       " Columns: [dataset, accuracy, crop_f1, crop_support, noncrop_support, crop_precision, crop_recall, noncrop_precision, noncrop_recall]\n",
       " Index: [],\n",
       " 'Tanzania': Empty DataFrame\n",
       " Columns: [dataset, accuracy, crop_f1, crop_support, noncrop_support, crop_precision, crop_recall, noncrop_precision, noncrop_recall]\n",
       " Index: []}"
      ]
     },
     "execution_count": 162,
     "metadata": {},
     "output_type": "execute_result"
    }
   ],
   "source": [
    "results"
   ]
  },
  {
   "cell_type": "code",
   "execution_count": 163,
   "metadata": {},
   "outputs": [
    {
     "data": {
      "text/html": [
       "<div>\n",
       "<style scoped>\n",
       "    .dataframe tbody tr th:only-of-type {\n",
       "        vertical-align: middle;\n",
       "    }\n",
       "\n",
       "    .dataframe tbody tr th {\n",
       "        vertical-align: top;\n",
       "    }\n",
       "\n",
       "    .dataframe thead th {\n",
       "        text-align: right;\n",
       "    }\n",
       "</style>\n",
       "<table border=\"1\" class=\"dataframe\">\n",
       "  <thead>\n",
       "    <tr style=\"text-align: right;\">\n",
       "      <th></th>\n",
       "      <th>lat</th>\n",
       "      <th>lon</th>\n",
       "      <th>class_probability</th>\n",
       "      <th>country</th>\n",
       "      <th>geometry</th>\n",
       "      <th>binary</th>\n",
       "      <th>harvest</th>\n",
       "      <th>cop</th>\n",
       "      <th>esa</th>\n",
       "      <th>glad</th>\n",
       "    </tr>\n",
       "  </thead>\n",
       "  <tbody>\n",
       "    <tr>\n",
       "      <th>0</th>\n",
       "      <td>0.725122</td>\n",
       "      <td>34.386282</td>\n",
       "      <td>0.00</td>\n",
       "      <td>Kenya</td>\n",
       "      <td>POINT (34.38628 0.72512)</td>\n",
       "      <td>0</td>\n",
       "      <td>1</td>\n",
       "      <td>0</td>\n",
       "      <td>0</td>\n",
       "      <td>1</td>\n",
       "    </tr>\n",
       "    <tr>\n",
       "      <th>1</th>\n",
       "      <td>0.621939</td>\n",
       "      <td>34.466496</td>\n",
       "      <td>0.00</td>\n",
       "      <td>Kenya</td>\n",
       "      <td>POINT (34.46650 0.62194)</td>\n",
       "      <td>0</td>\n",
       "      <td>1</td>\n",
       "      <td>0</td>\n",
       "      <td>0</td>\n",
       "      <td>0</td>\n",
       "    </tr>\n",
       "    <tr>\n",
       "      <th>2</th>\n",
       "      <td>0.226497</td>\n",
       "      <td>34.054859</td>\n",
       "      <td>0.00</td>\n",
       "      <td>Kenya</td>\n",
       "      <td>POINT (34.05486 0.22650)</td>\n",
       "      <td>0</td>\n",
       "      <td>0</td>\n",
       "      <td>1</td>\n",
       "      <td>0</td>\n",
       "      <td>0</td>\n",
       "    </tr>\n",
       "    <tr>\n",
       "      <th>3</th>\n",
       "      <td>0.096834</td>\n",
       "      <td>33.951959</td>\n",
       "      <td>0.00</td>\n",
       "      <td>Kenya</td>\n",
       "      <td>POINT (33.95196 0.09683)</td>\n",
       "      <td>0</td>\n",
       "      <td>0</td>\n",
       "      <td>0</td>\n",
       "      <td>0</td>\n",
       "      <td>0</td>\n",
       "    </tr>\n",
       "    <tr>\n",
       "      <th>4</th>\n",
       "      <td>0.032072</td>\n",
       "      <td>33.968469</td>\n",
       "      <td>0.00</td>\n",
       "      <td>Kenya</td>\n",
       "      <td>POINT (33.96847 0.03207)</td>\n",
       "      <td>0</td>\n",
       "      <td>0</td>\n",
       "      <td>0</td>\n",
       "      <td>0</td>\n",
       "      <td>0</td>\n",
       "    </tr>\n",
       "    <tr>\n",
       "      <th>...</th>\n",
       "      <td>...</td>\n",
       "      <td>...</td>\n",
       "      <td>...</td>\n",
       "      <td>...</td>\n",
       "      <td>...</td>\n",
       "      <td>...</td>\n",
       "      <td>...</td>\n",
       "      <td>...</td>\n",
       "      <td>...</td>\n",
       "      <td>...</td>\n",
       "    </tr>\n",
       "    <tr>\n",
       "      <th>2648</th>\n",
       "      <td>6.472810</td>\n",
       "      <td>1.502436</td>\n",
       "      <td>0.75</td>\n",
       "      <td>Togo</td>\n",
       "      <td>POINT (1.50244 6.47281)</td>\n",
       "      <td>1</td>\n",
       "      <td>1</td>\n",
       "      <td>1</td>\n",
       "      <td>0</td>\n",
       "      <td>0</td>\n",
       "    </tr>\n",
       "    <tr>\n",
       "      <th>2649</th>\n",
       "      <td>11.037647</td>\n",
       "      <td>0.048311</td>\n",
       "      <td>1.00</td>\n",
       "      <td>Togo</td>\n",
       "      <td>POINT (0.04831 11.03765)</td>\n",
       "      <td>1</td>\n",
       "      <td>1</td>\n",
       "      <td>1</td>\n",
       "      <td>1</td>\n",
       "      <td>1</td>\n",
       "    </tr>\n",
       "    <tr>\n",
       "      <th>2650</th>\n",
       "      <td>9.011538</td>\n",
       "      <td>1.493877</td>\n",
       "      <td>0.00</td>\n",
       "      <td>Togo</td>\n",
       "      <td>POINT (1.49388 9.01154)</td>\n",
       "      <td>0</td>\n",
       "      <td>0</td>\n",
       "      <td>1</td>\n",
       "      <td>0</td>\n",
       "      <td>0</td>\n",
       "    </tr>\n",
       "    <tr>\n",
       "      <th>2651</th>\n",
       "      <td>9.138645</td>\n",
       "      <td>1.391047</td>\n",
       "      <td>0.00</td>\n",
       "      <td>Togo</td>\n",
       "      <td>POINT (1.39105 9.13864)</td>\n",
       "      <td>0</td>\n",
       "      <td>0</td>\n",
       "      <td>0</td>\n",
       "      <td>0</td>\n",
       "      <td>0</td>\n",
       "    </tr>\n",
       "    <tr>\n",
       "      <th>2652</th>\n",
       "      <td>9.186742</td>\n",
       "      <td>1.344951</td>\n",
       "      <td>0.00</td>\n",
       "      <td>Togo</td>\n",
       "      <td>POINT (1.34495 9.18674)</td>\n",
       "      <td>0</td>\n",
       "      <td>0</td>\n",
       "      <td>0</td>\n",
       "      <td>0</td>\n",
       "      <td>0</td>\n",
       "    </tr>\n",
       "  </tbody>\n",
       "</table>\n",
       "<p>2653 rows × 10 columns</p>\n",
       "</div>"
      ],
      "text/plain": [
       "            lat        lon  class_probability country  \\\n",
       "0      0.725122  34.386282               0.00   Kenya   \n",
       "1      0.621939  34.466496               0.00   Kenya   \n",
       "2      0.226497  34.054859               0.00   Kenya   \n",
       "3      0.096834  33.951959               0.00   Kenya   \n",
       "4      0.032072  33.968469               0.00   Kenya   \n",
       "...         ...        ...                ...     ...   \n",
       "2648   6.472810   1.502436               0.75    Togo   \n",
       "2649  11.037647   0.048311               1.00    Togo   \n",
       "2650   9.011538   1.493877               0.00    Togo   \n",
       "2651   9.138645   1.391047               0.00    Togo   \n",
       "2652   9.186742   1.344951               0.00    Togo   \n",
       "\n",
       "                      geometry  binary  harvest  cop  esa  glad  \n",
       "0     POINT (34.38628 0.72512)       0        1    0    0     1  \n",
       "1     POINT (34.46650 0.62194)       0        1    0    0     0  \n",
       "2     POINT (34.05486 0.22650)       0        0    1    0     0  \n",
       "3     POINT (33.95196 0.09683)       0        0    0    0     0  \n",
       "4     POINT (33.96847 0.03207)       0        0    0    0     0  \n",
       "...                        ...     ...      ...  ...  ...   ...  \n",
       "2648   POINT (1.50244 6.47281)       1        1    1    0     0  \n",
       "2649  POINT (0.04831 11.03765)       1        1    1    1     1  \n",
       "2650   POINT (1.49388 9.01154)       0        0    1    0     0  \n",
       "2651   POINT (1.39105 9.13864)       0        0    0    0     0  \n",
       "2652   POINT (1.34495 9.18674)       0        0    0    0     0  \n",
       "\n",
       "[2653 rows x 10 columns]"
      ]
     },
     "execution_count": 163,
     "metadata": {},
     "output_type": "execute_result"
    }
   ],
   "source": [
    "test_data"
   ]
  },
  {
   "cell_type": "code",
   "execution_count": 164,
   "metadata": {},
   "outputs": [
    {
     "name": "stdout",
     "output_type": "stream",
     "text": [
      "Kenya: harvest\n",
      "Kenya: cop\n",
      "Kenya: esa\n",
      "Kenya: glad\n",
      "Tanzania: harvest\n",
      "Tanzania: cop\n",
      "Tanzania: esa\n",
      "Tanzania: glad\n",
      "Togo: harvest\n",
      "Togo: cop\n",
      "Togo: esa\n",
      "Togo: glad\n"
     ]
    }
   ],
   "source": [
    "for country, df in test_data.groupby(\"country\"):\n",
    "    for dataset in [\"harvest\", \"cop\", \"esa\", \"glad\"]:\n",
    "        print(country + \": \" + dataset)\n",
    "        # Remove na values\n",
    "        temp = df[[\"binary\", dataset]].dropna()\n",
    "        report = classification_report(temp[\"binary\"], temp[dataset], output_dict= True)     \n",
    "\n",
    "        results[country] = pd.concat([results[country], generate_report(dataset, report)])"
   ]
  },
  {
   "cell_type": "markdown",
   "metadata": {},
   "source": [
    "**Togo**"
   ]
  },
  {
   "cell_type": "code",
   "execution_count": 165,
   "metadata": {},
   "outputs": [
    {
     "data": {
      "text/html": [
       "<div>\n",
       "<style scoped>\n",
       "    .dataframe tbody tr th:only-of-type {\n",
       "        vertical-align: middle;\n",
       "    }\n",
       "\n",
       "    .dataframe tbody tr th {\n",
       "        vertical-align: top;\n",
       "    }\n",
       "\n",
       "    .dataframe thead th {\n",
       "        text-align: right;\n",
       "    }\n",
       "</style>\n",
       "<table border=\"1\" class=\"dataframe\">\n",
       "  <thead>\n",
       "    <tr style=\"text-align: right;\">\n",
       "      <th></th>\n",
       "      <th>dataset</th>\n",
       "      <th>accuracy</th>\n",
       "      <th>crop_f1</th>\n",
       "      <th>crop_support</th>\n",
       "      <th>noncrop_support</th>\n",
       "      <th>crop_precision</th>\n",
       "      <th>crop_recall</th>\n",
       "      <th>noncrop_precision</th>\n",
       "      <th>noncrop_recall</th>\n",
       "    </tr>\n",
       "  </thead>\n",
       "  <tbody>\n",
       "    <tr>\n",
       "      <th>0</th>\n",
       "      <td>harvest</td>\n",
       "      <td>0.772727</td>\n",
       "      <td>0.738562</td>\n",
       "      <td>152</td>\n",
       "      <td>200</td>\n",
       "      <td>0.733766</td>\n",
       "      <td>0.743421</td>\n",
       "      <td>0.803030</td>\n",
       "      <td>0.795</td>\n",
       "    </tr>\n",
       "    <tr>\n",
       "      <th>0</th>\n",
       "      <td>cop</td>\n",
       "      <td>0.693182</td>\n",
       "      <td>0.571429</td>\n",
       "      <td>152</td>\n",
       "      <td>200</td>\n",
       "      <td>0.720000</td>\n",
       "      <td>0.473684</td>\n",
       "      <td>0.682540</td>\n",
       "      <td>0.860</td>\n",
       "    </tr>\n",
       "    <tr>\n",
       "      <th>0</th>\n",
       "      <td>esa</td>\n",
       "      <td>0.738636</td>\n",
       "      <td>0.606838</td>\n",
       "      <td>152</td>\n",
       "      <td>200</td>\n",
       "      <td>0.865854</td>\n",
       "      <td>0.467105</td>\n",
       "      <td>0.700000</td>\n",
       "      <td>0.945</td>\n",
       "    </tr>\n",
       "    <tr>\n",
       "      <th>0</th>\n",
       "      <td>glad</td>\n",
       "      <td>0.704545</td>\n",
       "      <td>0.559322</td>\n",
       "      <td>152</td>\n",
       "      <td>200</td>\n",
       "      <td>0.785714</td>\n",
       "      <td>0.434211</td>\n",
       "      <td>0.679104</td>\n",
       "      <td>0.910</td>\n",
       "    </tr>\n",
       "  </tbody>\n",
       "</table>\n",
       "</div>"
      ],
      "text/plain": [
       "   dataset  accuracy   crop_f1 crop_support noncrop_support  crop_precision  \\\n",
       "0  harvest  0.772727  0.738562          152             200        0.733766   \n",
       "0      cop  0.693182  0.571429          152             200        0.720000   \n",
       "0      esa  0.738636  0.606838          152             200        0.865854   \n",
       "0     glad  0.704545  0.559322          152             200        0.785714   \n",
       "\n",
       "   crop_recall  noncrop_precision  noncrop_recall  \n",
       "0     0.743421           0.803030           0.795  \n",
       "0     0.473684           0.682540           0.860  \n",
       "0     0.467105           0.700000           0.945  \n",
       "0     0.434211           0.679104           0.910  "
      ]
     },
     "execution_count": 165,
     "metadata": {},
     "output_type": "execute_result"
    }
   ],
   "source": [
    "results[\"Togo\"]"
   ]
  },
  {
   "cell_type": "markdown",
   "metadata": {},
   "source": [
    "**Kenya**"
   ]
  },
  {
   "cell_type": "code",
   "execution_count": 166,
   "metadata": {},
   "outputs": [
    {
     "data": {
      "text/html": [
       "<div>\n",
       "<style scoped>\n",
       "    .dataframe tbody tr th:only-of-type {\n",
       "        vertical-align: middle;\n",
       "    }\n",
       "\n",
       "    .dataframe tbody tr th {\n",
       "        vertical-align: top;\n",
       "    }\n",
       "\n",
       "    .dataframe thead th {\n",
       "        text-align: right;\n",
       "    }\n",
       "</style>\n",
       "<table border=\"1\" class=\"dataframe\">\n",
       "  <thead>\n",
       "    <tr style=\"text-align: right;\">\n",
       "      <th></th>\n",
       "      <th>dataset</th>\n",
       "      <th>accuracy</th>\n",
       "      <th>crop_f1</th>\n",
       "      <th>crop_support</th>\n",
       "      <th>noncrop_support</th>\n",
       "      <th>crop_precision</th>\n",
       "      <th>crop_recall</th>\n",
       "      <th>noncrop_precision</th>\n",
       "      <th>noncrop_recall</th>\n",
       "    </tr>\n",
       "  </thead>\n",
       "  <tbody>\n",
       "    <tr>\n",
       "      <th>0</th>\n",
       "      <td>harvest</td>\n",
       "      <td>0.890052</td>\n",
       "      <td>0.922509</td>\n",
       "      <td>571</td>\n",
       "      <td>193</td>\n",
       "      <td>0.974659</td>\n",
       "      <td>0.875657</td>\n",
       "      <td>0.717131</td>\n",
       "      <td>0.932642</td>\n",
       "    </tr>\n",
       "    <tr>\n",
       "      <th>0</th>\n",
       "      <td>cop</td>\n",
       "      <td>0.908377</td>\n",
       "      <td>0.939446</td>\n",
       "      <td>571</td>\n",
       "      <td>193</td>\n",
       "      <td>0.928205</td>\n",
       "      <td>0.950963</td>\n",
       "      <td>0.843575</td>\n",
       "      <td>0.782383</td>\n",
       "    </tr>\n",
       "    <tr>\n",
       "      <th>0</th>\n",
       "      <td>esa</td>\n",
       "      <td>0.403141</td>\n",
       "      <td>0.341040</td>\n",
       "      <td>571</td>\n",
       "      <td>193</td>\n",
       "      <td>0.975207</td>\n",
       "      <td>0.206655</td>\n",
       "      <td>0.295490</td>\n",
       "      <td>0.984456</td>\n",
       "    </tr>\n",
       "    <tr>\n",
       "      <th>0</th>\n",
       "      <td>glad</td>\n",
       "      <td>0.839005</td>\n",
       "      <td>0.887259</td>\n",
       "      <td>571</td>\n",
       "      <td>193</td>\n",
       "      <td>0.930769</td>\n",
       "      <td>0.847636</td>\n",
       "      <td>0.643443</td>\n",
       "      <td>0.813472</td>\n",
       "    </tr>\n",
       "  </tbody>\n",
       "</table>\n",
       "</div>"
      ],
      "text/plain": [
       "   dataset  accuracy   crop_f1 crop_support noncrop_support  crop_precision  \\\n",
       "0  harvest  0.890052  0.922509          571             193        0.974659   \n",
       "0      cop  0.908377  0.939446          571             193        0.928205   \n",
       "0      esa  0.403141  0.341040          571             193        0.975207   \n",
       "0     glad  0.839005  0.887259          571             193        0.930769   \n",
       "\n",
       "   crop_recall  noncrop_precision  noncrop_recall  \n",
       "0     0.875657           0.717131        0.932642  \n",
       "0     0.950963           0.843575        0.782383  \n",
       "0     0.206655           0.295490        0.984456  \n",
       "0     0.847636           0.643443        0.813472  "
      ]
     },
     "execution_count": 166,
     "metadata": {},
     "output_type": "execute_result"
    }
   ],
   "source": [
    "results[\"Kenya\"]"
   ]
  },
  {
   "cell_type": "markdown",
   "metadata": {},
   "source": [
    "**Tanzania**"
   ]
  },
  {
   "cell_type": "code",
   "execution_count": 167,
   "metadata": {},
   "outputs": [
    {
     "data": {
      "text/html": [
       "<div>\n",
       "<style scoped>\n",
       "    .dataframe tbody tr th:only-of-type {\n",
       "        vertical-align: middle;\n",
       "    }\n",
       "\n",
       "    .dataframe tbody tr th {\n",
       "        vertical-align: top;\n",
       "    }\n",
       "\n",
       "    .dataframe thead th {\n",
       "        text-align: right;\n",
       "    }\n",
       "</style>\n",
       "<table border=\"1\" class=\"dataframe\">\n",
       "  <thead>\n",
       "    <tr style=\"text-align: right;\">\n",
       "      <th></th>\n",
       "      <th>dataset</th>\n",
       "      <th>accuracy</th>\n",
       "      <th>crop_f1</th>\n",
       "      <th>crop_support</th>\n",
       "      <th>noncrop_support</th>\n",
       "      <th>crop_precision</th>\n",
       "      <th>crop_recall</th>\n",
       "      <th>noncrop_precision</th>\n",
       "      <th>noncrop_recall</th>\n",
       "    </tr>\n",
       "  </thead>\n",
       "  <tbody>\n",
       "    <tr>\n",
       "      <th>0</th>\n",
       "      <td>harvest</td>\n",
       "      <td>0.760573</td>\n",
       "      <td>0.708861</td>\n",
       "      <td>767</td>\n",
       "      <td>770</td>\n",
       "      <td>0.901408</td>\n",
       "      <td>0.584094</td>\n",
       "      <td>0.693269</td>\n",
       "      <td>0.936364</td>\n",
       "    </tr>\n",
       "    <tr>\n",
       "      <th>0</th>\n",
       "      <td>cop</td>\n",
       "      <td>0.783995</td>\n",
       "      <td>0.743431</td>\n",
       "      <td>767</td>\n",
       "      <td>770</td>\n",
       "      <td>0.912713</td>\n",
       "      <td>0.627119</td>\n",
       "      <td>0.716832</td>\n",
       "      <td>0.940260</td>\n",
       "    </tr>\n",
       "    <tr>\n",
       "      <th>0</th>\n",
       "      <td>esa</td>\n",
       "      <td>0.789850</td>\n",
       "      <td>0.742219</td>\n",
       "      <td>767</td>\n",
       "      <td>770</td>\n",
       "      <td>0.956790</td>\n",
       "      <td>0.606258</td>\n",
       "      <td>0.712655</td>\n",
       "      <td>0.972727</td>\n",
       "    </tr>\n",
       "    <tr>\n",
       "      <th>0</th>\n",
       "      <td>glad</td>\n",
       "      <td>0.776187</td>\n",
       "      <td>0.718494</td>\n",
       "      <td>767</td>\n",
       "      <td>770</td>\n",
       "      <td>0.964835</td>\n",
       "      <td>0.572360</td>\n",
       "      <td>0.696858</td>\n",
       "      <td>0.979221</td>\n",
       "    </tr>\n",
       "  </tbody>\n",
       "</table>\n",
       "</div>"
      ],
      "text/plain": [
       "   dataset  accuracy   crop_f1 crop_support noncrop_support  crop_precision  \\\n",
       "0  harvest  0.760573  0.708861          767             770        0.901408   \n",
       "0      cop  0.783995  0.743431          767             770        0.912713   \n",
       "0      esa  0.789850  0.742219          767             770        0.956790   \n",
       "0     glad  0.776187  0.718494          767             770        0.964835   \n",
       "\n",
       "   crop_recall  noncrop_precision  noncrop_recall  \n",
       "0     0.584094           0.693269        0.936364  \n",
       "0     0.627119           0.716832        0.940260  \n",
       "0     0.606258           0.712655        0.972727  \n",
       "0     0.572360           0.696858        0.979221  "
      ]
     },
     "execution_count": 167,
     "metadata": {},
     "output_type": "execute_result"
    }
   ],
   "source": [
    "results[\"Tanzania\"]"
   ]
  },
  {
   "attachments": {},
   "cell_type": "markdown",
   "metadata": {},
   "source": [
    "## ***TESTING ZONE***"
   ]
  },
  {
   "cell_type": "code",
   "execution_count": 37,
   "metadata": {},
   "outputs": [],
   "source": [
    "# test = pd.read_csv(\"../data/datasets/Togo.csv\")\n",
    "test = pd.read_csv(\"../data/datasets/Togo.csv\")\n",
    "test = gpd.GeoDataFrame(test, geometry=gpd.points_from_xy(test.lon, test.lat), crs='epsg:4326')\n",
    "test = test.loc[test['subset']=='testing']\n",
    "test['binary'] = test['class_probability'].apply(lambda x: 1 if x >= 0.5 else 0)"
   ]
  },
  {
   "cell_type": "code",
   "execution_count": 38,
   "metadata": {},
   "outputs": [],
   "source": [
    "togo = ee.Image(\"projects/sat-io/open-datasets/nasa-harvest/togo_cropland_binary\")\n",
    "kenya = ee.Image(\"projects/sat-io/open-datasets/nasa-harvest/kenya_cropland_binary\")\n",
    "tanz = ee.Image(\"users/adadebay/Tanzania_cropland_2019\")"
   ]
  },
  {
   "cell_type": "code",
   "execution_count": 39,
   "metadata": {},
   "outputs": [],
   "source": [
    "def create_point2(row):\n",
    "    geom = ee.Geometry.Point(row.lon, row.lat)\n",
    "    prop = dict(row[['binary']])\n",
    "\n",
    "    return ee.Feature(geom, prop)\n",
    "\n",
    "proj_coll = ee.FeatureCollection(test.apply(create_point2, axis=1).to_list())"
   ]
  },
  {
   "attachments": {},
   "cell_type": "markdown",
   "metadata": {},
   "source": [
    "Method: ee.Image.reduceRegions"
   ]
  },
  {
   "cell_type": "code",
   "execution_count": 41,
   "metadata": {},
   "outputs": [],
   "source": [
    "# reduced = togo.reduceRegions(\n",
    "#     proj_coll,\n",
    "#     reducer=ee.Reducer.first()\n",
    "#     )\n",
    "\n",
    "reduced = togo.sampleRegions(\n",
    "    proj_coll\n",
    ")\n",
    "\n",
    "reduced = geemap.ee_to_gdf(reduced)"
   ]
  },
  {
   "cell_type": "code",
   "execution_count": 42,
   "metadata": {},
   "outputs": [
    {
     "data": {
      "text/html": [
       "<div>\n",
       "<style scoped>\n",
       "    .dataframe tbody tr th:only-of-type {\n",
       "        vertical-align: middle;\n",
       "    }\n",
       "\n",
       "    .dataframe tbody tr th {\n",
       "        vertical-align: top;\n",
       "    }\n",
       "\n",
       "    .dataframe thead th {\n",
       "        text-align: right;\n",
       "    }\n",
       "</style>\n",
       "<table border=\"1\" class=\"dataframe\">\n",
       "  <thead>\n",
       "    <tr style=\"text-align: right;\">\n",
       "      <th></th>\n",
       "      <th>geometry</th>\n",
       "      <th>b1</th>\n",
       "      <th>binary</th>\n",
       "    </tr>\n",
       "  </thead>\n",
       "  <tbody>\n",
       "    <tr>\n",
       "      <th>0</th>\n",
       "      <td>None</td>\n",
       "      <td>0</td>\n",
       "      <td>0</td>\n",
       "    </tr>\n",
       "    <tr>\n",
       "      <th>1</th>\n",
       "      <td>None</td>\n",
       "      <td>0</td>\n",
       "      <td>0</td>\n",
       "    </tr>\n",
       "    <tr>\n",
       "      <th>2</th>\n",
       "      <td>None</td>\n",
       "      <td>0</td>\n",
       "      <td>0</td>\n",
       "    </tr>\n",
       "    <tr>\n",
       "      <th>3</th>\n",
       "      <td>None</td>\n",
       "      <td>0</td>\n",
       "      <td>0</td>\n",
       "    </tr>\n",
       "    <tr>\n",
       "      <th>4</th>\n",
       "      <td>None</td>\n",
       "      <td>0</td>\n",
       "      <td>0</td>\n",
       "    </tr>\n",
       "    <tr>\n",
       "      <th>...</th>\n",
       "      <td>...</td>\n",
       "      <td>...</td>\n",
       "      <td>...</td>\n",
       "    </tr>\n",
       "    <tr>\n",
       "      <th>350</th>\n",
       "      <td>None</td>\n",
       "      <td>1</td>\n",
       "      <td>1</td>\n",
       "    </tr>\n",
       "    <tr>\n",
       "      <th>351</th>\n",
       "      <td>None</td>\n",
       "      <td>1</td>\n",
       "      <td>1</td>\n",
       "    </tr>\n",
       "    <tr>\n",
       "      <th>352</th>\n",
       "      <td>None</td>\n",
       "      <td>0</td>\n",
       "      <td>0</td>\n",
       "    </tr>\n",
       "    <tr>\n",
       "      <th>353</th>\n",
       "      <td>None</td>\n",
       "      <td>0</td>\n",
       "      <td>0</td>\n",
       "    </tr>\n",
       "    <tr>\n",
       "      <th>354</th>\n",
       "      <td>None</td>\n",
       "      <td>0</td>\n",
       "      <td>0</td>\n",
       "    </tr>\n",
       "  </tbody>\n",
       "</table>\n",
       "<p>355 rows × 3 columns</p>\n",
       "</div>"
      ],
      "text/plain": [
       "    geometry  b1  binary\n",
       "0       None   0       0\n",
       "1       None   0       0\n",
       "2       None   0       0\n",
       "3       None   0       0\n",
       "4       None   0       0\n",
       "..       ...  ..     ...\n",
       "350     None   1       1\n",
       "351     None   1       1\n",
       "352     None   0       0\n",
       "353     None   0       0\n",
       "354     None   0       0\n",
       "\n",
       "[355 rows x 3 columns]"
      ]
     },
     "execution_count": 42,
     "metadata": {},
     "output_type": "execute_result"
    }
   ],
   "source": [
    "reduced"
   ]
  },
  {
   "cell_type": "code",
   "execution_count": 43,
   "metadata": {},
   "outputs": [
    {
     "data": {
      "text/html": [
       "<div>\n",
       "<style scoped>\n",
       "    .dataframe tbody tr th:only-of-type {\n",
       "        vertical-align: middle;\n",
       "    }\n",
       "\n",
       "    .dataframe tbody tr th {\n",
       "        vertical-align: top;\n",
       "    }\n",
       "\n",
       "    .dataframe thead th {\n",
       "        text-align: right;\n",
       "    }\n",
       "</style>\n",
       "<table border=\"1\" class=\"dataframe\">\n",
       "  <thead>\n",
       "    <tr style=\"text-align: right;\">\n",
       "      <th></th>\n",
       "      <th>dataset</th>\n",
       "      <th>accuracy</th>\n",
       "      <th>crop_f1</th>\n",
       "      <th>crop_support</th>\n",
       "      <th>noncrop_support</th>\n",
       "      <th>crop_precision</th>\n",
       "      <th>crop_recall</th>\n",
       "      <th>noncrop_precision</th>\n",
       "      <th>noncrop_recall</th>\n",
       "    </tr>\n",
       "  </thead>\n",
       "  <tbody>\n",
       "    <tr>\n",
       "      <th>0</th>\n",
       "      <td>ee</td>\n",
       "      <td>0.771831</td>\n",
       "      <td>0.736156</td>\n",
       "      <td>152</td>\n",
       "      <td>203</td>\n",
       "      <td>0.729032</td>\n",
       "      <td>0.743421</td>\n",
       "      <td>0.805</td>\n",
       "      <td>0.793103</td>\n",
       "    </tr>\n",
       "  </tbody>\n",
       "</table>\n",
       "</div>"
      ],
      "text/plain": [
       "  dataset  accuracy   crop_f1  crop_support  noncrop_support  crop_precision  \\\n",
       "0      ee  0.771831  0.736156           152              203        0.729032   \n",
       "\n",
       "   crop_recall  noncrop_precision  noncrop_recall  \n",
       "0     0.743421              0.805        0.793103  "
      ]
     },
     "execution_count": 43,
     "metadata": {},
     "output_type": "execute_result"
    }
   ],
   "source": [
    "generate_report('ee', classification_report(reduced['binary'], reduced['b1'], output_dict=True))"
   ]
  },
  {
   "attachments": {},
   "cell_type": "markdown",
   "metadata": {},
   "source": [
    "Test Image Collection"
   ]
  },
  {
   "cell_type": "code",
   "execution_count": 29,
   "metadata": {},
   "outputs": [],
   "source": [
    "copernicus = ee.ImageCollection(\"COPERNICUS/Landcover/100m/Proba-V-C3/Global\")\n",
    "esa = ee.ImageCollection(\"ESA/WorldCover/v100\")\n",
    "glad = ee.ImageCollection(\"users/potapovpeter/Global_cropland_2019\")"
   ]
  },
  {
   "cell_type": "code",
   "execution_count": 30,
   "metadata": {},
   "outputs": [],
   "source": [
    "# Function used in map function to extract from feature collection\n",
    "def reduce_region(image, resolution, f_collection):\n",
    "    feature = image.reduceRegions(\n",
    "        collection = f_collection,\n",
    "        scale = resolution,\n",
    "        reducer=ee.Reducer.first(),\n",
    "    )\n",
    "    return feature"
   ]
  },
  {
   "cell_type": "code",
   "execution_count": 32,
   "metadata": {},
   "outputs": [
    {
     "ename": "Exception",
     "evalue": "Collection query aborted after accumulating over 5000 elements.",
     "output_type": "error",
     "traceback": [
      "\u001b[1;31m---------------------------------------------------------------------------\u001b[0m",
      "\u001b[1;31mHttpError\u001b[0m                                 Traceback (most recent call last)",
      "\u001b[1;32mc:\\Users\\adamf\\anaconda3\\envs\\intercomparison\\lib\\site-packages\\ee\\data.py\u001b[0m in \u001b[0;36m_execute_cloud_call\u001b[1;34m(call, num_retries)\u001b[0m\n\u001b[0;32m    327\u001b[0m   \u001b[1;32mtry\u001b[0m\u001b[1;33m:\u001b[0m\u001b[1;33m\u001b[0m\u001b[1;33m\u001b[0m\u001b[0m\n\u001b[1;32m--> 328\u001b[1;33m     \u001b[1;32mreturn\u001b[0m \u001b[0mcall\u001b[0m\u001b[1;33m.\u001b[0m\u001b[0mexecute\u001b[0m\u001b[1;33m(\u001b[0m\u001b[0mnum_retries\u001b[0m\u001b[1;33m=\u001b[0m\u001b[0mnum_retries\u001b[0m\u001b[1;33m)\u001b[0m\u001b[1;33m\u001b[0m\u001b[1;33m\u001b[0m\u001b[0m\n\u001b[0m\u001b[0;32m    329\u001b[0m   \u001b[1;32mexcept\u001b[0m \u001b[0mgoogleapiclient\u001b[0m\u001b[1;33m.\u001b[0m\u001b[0merrors\u001b[0m\u001b[1;33m.\u001b[0m\u001b[0mHttpError\u001b[0m \u001b[1;32mas\u001b[0m \u001b[0me\u001b[0m\u001b[1;33m:\u001b[0m\u001b[1;33m\u001b[0m\u001b[1;33m\u001b[0m\u001b[0m\n",
      "\u001b[1;32mc:\\Users\\adamf\\anaconda3\\envs\\intercomparison\\lib\\site-packages\\googleapiclient\\_helpers.py\u001b[0m in \u001b[0;36mpositional_wrapper\u001b[1;34m(*args, **kwargs)\u001b[0m\n\u001b[0;32m    133\u001b[0m                     \u001b[0mlogger\u001b[0m\u001b[1;33m.\u001b[0m\u001b[0mwarning\u001b[0m\u001b[1;33m(\u001b[0m\u001b[0mmessage\u001b[0m\u001b[1;33m)\u001b[0m\u001b[1;33m\u001b[0m\u001b[1;33m\u001b[0m\u001b[0m\n\u001b[1;32m--> 134\u001b[1;33m             \u001b[1;32mreturn\u001b[0m \u001b[0mwrapped\u001b[0m\u001b[1;33m(\u001b[0m\u001b[1;33m*\u001b[0m\u001b[0margs\u001b[0m\u001b[1;33m,\u001b[0m \u001b[1;33m**\u001b[0m\u001b[0mkwargs\u001b[0m\u001b[1;33m)\u001b[0m\u001b[1;33m\u001b[0m\u001b[1;33m\u001b[0m\u001b[0m\n\u001b[0m\u001b[0;32m    135\u001b[0m \u001b[1;33m\u001b[0m\u001b[0m\n",
      "\u001b[1;32mc:\\Users\\adamf\\anaconda3\\envs\\intercomparison\\lib\\site-packages\\googleapiclient\\http.py\u001b[0m in \u001b[0;36mexecute\u001b[1;34m(self, http, num_retries)\u001b[0m\n\u001b[0;32m    914\u001b[0m         \u001b[1;32mif\u001b[0m \u001b[0mresp\u001b[0m\u001b[1;33m.\u001b[0m\u001b[0mstatus\u001b[0m \u001b[1;33m>=\u001b[0m \u001b[1;36m300\u001b[0m\u001b[1;33m:\u001b[0m\u001b[1;33m\u001b[0m\u001b[1;33m\u001b[0m\u001b[0m\n\u001b[1;32m--> 915\u001b[1;33m             \u001b[1;32mraise\u001b[0m \u001b[0mHttpError\u001b[0m\u001b[1;33m(\u001b[0m\u001b[0mresp\u001b[0m\u001b[1;33m,\u001b[0m \u001b[0mcontent\u001b[0m\u001b[1;33m,\u001b[0m \u001b[0muri\u001b[0m\u001b[1;33m=\u001b[0m\u001b[0mself\u001b[0m\u001b[1;33m.\u001b[0m\u001b[0muri\u001b[0m\u001b[1;33m)\u001b[0m\u001b[1;33m\u001b[0m\u001b[1;33m\u001b[0m\u001b[0m\n\u001b[0m\u001b[0;32m    916\u001b[0m         \u001b[1;32mreturn\u001b[0m \u001b[0mself\u001b[0m\u001b[1;33m.\u001b[0m\u001b[0mpostproc\u001b[0m\u001b[1;33m(\u001b[0m\u001b[0mresp\u001b[0m\u001b[1;33m,\u001b[0m \u001b[0mcontent\u001b[0m\u001b[1;33m)\u001b[0m\u001b[1;33m\u001b[0m\u001b[1;33m\u001b[0m\u001b[0m\n",
      "\u001b[1;31mHttpError\u001b[0m: <HttpError 400 when requesting https://earthengine.googleapis.com/v1alpha/projects/earthengine-legacy/value:compute?prettyPrint=false&alt=json returned \"Collection query aborted after accumulating over 5000 elements.\". Details: \"Collection query aborted after accumulating over 5000 elements.\">",
      "\nDuring handling of the above exception, another exception occurred:\n",
      "\u001b[1;31mEEException\u001b[0m                               Traceback (most recent call last)",
      "\u001b[1;32mc:\\Users\\adamf\\anaconda3\\envs\\intercomparison\\lib\\site-packages\\geemap\\common.py\u001b[0m in \u001b[0;36mee_to_geojson\u001b[1;34m(ee_object, filename, indent, **kwargs)\u001b[0m\n\u001b[0;32m   1329\u001b[0m         ):\n\u001b[1;32m-> 1330\u001b[1;33m             \u001b[0mjson_object\u001b[0m \u001b[1;33m=\u001b[0m \u001b[0mee_object\u001b[0m\u001b[1;33m.\u001b[0m\u001b[0mgetInfo\u001b[0m\u001b[1;33m(\u001b[0m\u001b[1;33m)\u001b[0m\u001b[1;33m\u001b[0m\u001b[1;33m\u001b[0m\u001b[0m\n\u001b[0m\u001b[0;32m   1331\u001b[0m             \u001b[1;32mif\u001b[0m \u001b[0mfilename\u001b[0m \u001b[1;32mis\u001b[0m \u001b[1;32mnot\u001b[0m \u001b[1;32mNone\u001b[0m\u001b[1;33m:\u001b[0m\u001b[1;33m\u001b[0m\u001b[1;33m\u001b[0m\u001b[0m\n",
      "\u001b[1;32mc:\\Users\\adamf\\anaconda3\\envs\\intercomparison\\lib\\site-packages\\ee\\collection.py\u001b[0m in \u001b[0;36mgetInfo\u001b[1;34m(self)\u001b[0m\n\u001b[0;32m    132\u001b[0m     \"\"\"\n\u001b[1;32m--> 133\u001b[1;33m     \u001b[1;32mreturn\u001b[0m \u001b[0msuper\u001b[0m\u001b[1;33m(\u001b[0m\u001b[0mCollection\u001b[0m\u001b[1;33m,\u001b[0m \u001b[0mself\u001b[0m\u001b[1;33m)\u001b[0m\u001b[1;33m.\u001b[0m\u001b[0mgetInfo\u001b[0m\u001b[1;33m(\u001b[0m\u001b[1;33m)\u001b[0m\u001b[1;33m\u001b[0m\u001b[1;33m\u001b[0m\u001b[0m\n\u001b[0m\u001b[0;32m    134\u001b[0m \u001b[1;33m\u001b[0m\u001b[0m\n",
      "\u001b[1;32mc:\\Users\\adamf\\anaconda3\\envs\\intercomparison\\lib\\site-packages\\ee\\computedobject.py\u001b[0m in \u001b[0;36mgetInfo\u001b[1;34m(self)\u001b[0m\n\u001b[0;32m     97\u001b[0m     \"\"\"\n\u001b[1;32m---> 98\u001b[1;33m     \u001b[1;32mreturn\u001b[0m \u001b[0mdata\u001b[0m\u001b[1;33m.\u001b[0m\u001b[0mcomputeValue\u001b[0m\u001b[1;33m(\u001b[0m\u001b[0mself\u001b[0m\u001b[1;33m)\u001b[0m\u001b[1;33m\u001b[0m\u001b[1;33m\u001b[0m\u001b[0m\n\u001b[0m\u001b[0;32m     99\u001b[0m \u001b[1;33m\u001b[0m\u001b[0m\n",
      "\u001b[1;32mc:\\Users\\adamf\\anaconda3\\envs\\intercomparison\\lib\\site-packages\\ee\\data.py\u001b[0m in \u001b[0;36mcomputeValue\u001b[1;34m(obj)\u001b[0m\n\u001b[0;32m    756\u001b[0m \u001b[1;33m\u001b[0m\u001b[0m\n\u001b[1;32m--> 757\u001b[1;33m   return _execute_cloud_call(\n\u001b[0m\u001b[0;32m    758\u001b[0m       _get_cloud_api_resource().projects().value().compute(\n",
      "\u001b[1;32mc:\\Users\\adamf\\anaconda3\\envs\\intercomparison\\lib\\site-packages\\ee\\data.py\u001b[0m in \u001b[0;36m_execute_cloud_call\u001b[1;34m(call, num_retries)\u001b[0m\n\u001b[0;32m    329\u001b[0m   \u001b[1;32mexcept\u001b[0m \u001b[0mgoogleapiclient\u001b[0m\u001b[1;33m.\u001b[0m\u001b[0merrors\u001b[0m\u001b[1;33m.\u001b[0m\u001b[0mHttpError\u001b[0m \u001b[1;32mas\u001b[0m \u001b[0me\u001b[0m\u001b[1;33m:\u001b[0m\u001b[1;33m\u001b[0m\u001b[1;33m\u001b[0m\u001b[0m\n\u001b[1;32m--> 330\u001b[1;33m     \u001b[1;32mraise\u001b[0m \u001b[0m_translate_cloud_exception\u001b[0m\u001b[1;33m(\u001b[0m\u001b[0me\u001b[0m\u001b[1;33m)\u001b[0m\u001b[1;33m\u001b[0m\u001b[1;33m\u001b[0m\u001b[0m\n\u001b[0m\u001b[0;32m    331\u001b[0m \u001b[1;33m\u001b[0m\u001b[0m\n",
      "\u001b[1;31mEEException\u001b[0m: Collection query aborted after accumulating over 5000 elements.",
      "\nDuring handling of the above exception, another exception occurred:\n",
      "\u001b[1;31mException\u001b[0m                                 Traceback (most recent call last)",
      "\u001b[1;32m<ipython-input-32-86625f475fe5>\u001b[0m in \u001b[0;36m<module>\u001b[1;34m\u001b[0m\n\u001b[0;32m      8\u001b[0m \u001b[1;33m\u001b[0m\u001b[0m\n\u001b[0;32m      9\u001b[0m \u001b[0mglad_reduced\u001b[0m \u001b[1;33m=\u001b[0m \u001b[0mglad\u001b[0m\u001b[1;33m.\u001b[0m\u001b[0mfilterBounds\u001b[0m\u001b[1;33m(\u001b[0m\u001b[0mtest_coll\u001b[0m\u001b[1;33m)\u001b[0m\u001b[1;33m.\u001b[0m\u001b[0mmap\u001b[0m\u001b[1;33m(\u001b[0m\u001b[1;32mlambda\u001b[0m \u001b[0mx\u001b[0m\u001b[1;33m:\u001b[0m \u001b[0mraster_extraction\u001b[0m\u001b[1;33m(\u001b[0m\u001b[0mx\u001b[0m\u001b[1;33m,\u001b[0m \u001b[1;36m30\u001b[0m\u001b[1;33m,\u001b[0m \u001b[0mtest_coll\u001b[0m\u001b[1;33m)\u001b[0m\u001b[1;33m)\u001b[0m\u001b[1;33m.\u001b[0m\u001b[0mflatten\u001b[0m\u001b[1;33m(\u001b[0m\u001b[1;33m)\u001b[0m\u001b[1;33m\u001b[0m\u001b[1;33m\u001b[0m\u001b[0m\n\u001b[1;32m---> 10\u001b[1;33m \u001b[0mglad_reduced\u001b[0m \u001b[1;33m=\u001b[0m \u001b[0mgeemap\u001b[0m\u001b[1;33m.\u001b[0m\u001b[0mee_to_gdf\u001b[0m\u001b[1;33m(\u001b[0m\u001b[0mglad_reduced\u001b[0m\u001b[1;33m)\u001b[0m\u001b[1;33m\u001b[0m\u001b[1;33m\u001b[0m\u001b[0m\n\u001b[0m",
      "\u001b[1;32mc:\\Users\\adamf\\anaconda3\\envs\\intercomparison\\lib\\site-packages\\geemap\\common.py\u001b[0m in \u001b[0;36mee_to_gdf\u001b[1;34m(ee_object, selectors, verbose)\u001b[0m\n\u001b[0;32m   8847\u001b[0m         \u001b[1;32mraise\u001b[0m \u001b[0mTypeError\u001b[0m\u001b[1;33m(\u001b[0m\u001b[1;34m\"ee_object must be an ee.FeatureCollection\"\u001b[0m\u001b[1;33m)\u001b[0m\u001b[1;33m\u001b[0m\u001b[1;33m\u001b[0m\u001b[0m\n\u001b[0;32m   8848\u001b[0m \u001b[1;33m\u001b[0m\u001b[0m\n\u001b[1;32m-> 8849\u001b[1;33m     \u001b[0mcollection\u001b[0m \u001b[1;33m=\u001b[0m \u001b[0mee_to_geojson\u001b[0m\u001b[1;33m(\u001b[0m\u001b[0mee_object\u001b[0m\u001b[1;33m)\u001b[0m\u001b[1;33m\u001b[0m\u001b[1;33m\u001b[0m\u001b[0m\n\u001b[0m\u001b[0;32m   8850\u001b[0m     \u001b[0mgdf\u001b[0m \u001b[1;33m=\u001b[0m \u001b[0mgpd\u001b[0m\u001b[1;33m.\u001b[0m\u001b[0mGeoDataFrame\u001b[0m\u001b[1;33m.\u001b[0m\u001b[0mfrom_features\u001b[0m\u001b[1;33m(\u001b[0m\u001b[0mcollection\u001b[0m\u001b[1;33m[\u001b[0m\u001b[1;34m\"features\"\u001b[0m\u001b[1;33m]\u001b[0m\u001b[1;33m)\u001b[0m\u001b[1;33m\u001b[0m\u001b[1;33m\u001b[0m\u001b[0m\n\u001b[0;32m   8851\u001b[0m \u001b[1;33m\u001b[0m\u001b[0m\n",
      "\u001b[1;32mc:\\Users\\adamf\\anaconda3\\envs\\intercomparison\\lib\\site-packages\\geemap\\common.py\u001b[0m in \u001b[0;36mee_to_geojson\u001b[1;34m(ee_object, filename, indent, **kwargs)\u001b[0m\n\u001b[0;32m   1342\u001b[0m             \u001b[0mprint\u001b[0m\u001b[1;33m(\u001b[0m\u001b[1;34m\"Could not convert the Earth Engine object to geojson\"\u001b[0m\u001b[1;33m)\u001b[0m\u001b[1;33m\u001b[0m\u001b[1;33m\u001b[0m\u001b[0m\n\u001b[0;32m   1343\u001b[0m     \u001b[1;32mexcept\u001b[0m \u001b[0mException\u001b[0m \u001b[1;32mas\u001b[0m \u001b[0me\u001b[0m\u001b[1;33m:\u001b[0m\u001b[1;33m\u001b[0m\u001b[1;33m\u001b[0m\u001b[0m\n\u001b[1;32m-> 1344\u001b[1;33m         \u001b[1;32mraise\u001b[0m \u001b[0mException\u001b[0m\u001b[1;33m(\u001b[0m\u001b[0me\u001b[0m\u001b[1;33m)\u001b[0m\u001b[1;33m\u001b[0m\u001b[1;33m\u001b[0m\u001b[0m\n\u001b[0m\u001b[0;32m   1345\u001b[0m \u001b[1;33m\u001b[0m\u001b[0m\n\u001b[0;32m   1346\u001b[0m \u001b[1;33m\u001b[0m\u001b[0m\n",
      "\u001b[1;31mException\u001b[0m: Collection query aborted after accumulating over 5000 elements."
     ]
    }
   ],
   "source": [
    "copernicus_reduced = copernicus.select(\"discrete_classification\").filterDate(\"2019-01-01\", \"2020-01-01\").map(lambda x: raster_extraction(x, 100, test_coll)).flatten()\n",
    "cop_reduced = geemap.ee_to_gdf(copernicus_reduced)\n",
    "cop_reduced[\"reduced\"] = cop_reduced[\"first\"].apply(lambda x: 1 if x==40 else 0)\n",
    "\n",
    "esa_reduced = esa.filterBounds(test_coll).map(lambda x: raster_extraction(x, 10, test_coll)).flatten()\n",
    "esa_reduced = geemap.ee_to_gdf(esa_reduced)\n",
    "esa_reduced[\"reduced\"] = esa_reduced[\"first\"].apply(lambda x: 1 if x==40 else 0)\n",
    "\n",
    "glad_reduced = glad.filterBounds(test_coll).map(lambda x: raster_extraction(x, 30, test_coll)).flatten()\n",
    "glad_reduced = geemap.ee_to_gdf(glad_reduced)"
   ]
  },
  {
   "cell_type": "code",
   "execution_count": null,
   "metadata": {},
   "outputs": [
    {
     "data": {
      "text/html": [
       "<div>\n",
       "<style scoped>\n",
       "    .dataframe tbody tr th:only-of-type {\n",
       "        vertical-align: middle;\n",
       "    }\n",
       "\n",
       "    .dataframe tbody tr th {\n",
       "        vertical-align: top;\n",
       "    }\n",
       "\n",
       "    .dataframe thead th {\n",
       "        text-align: right;\n",
       "    }\n",
       "</style>\n",
       "<table border=\"1\" class=\"dataframe\">\n",
       "  <thead>\n",
       "    <tr style=\"text-align: right;\">\n",
       "      <th></th>\n",
       "      <th>self</th>\n",
       "      <th>other</th>\n",
       "    </tr>\n",
       "  </thead>\n",
       "  <tbody>\n",
       "  </tbody>\n",
       "</table>\n",
       "</div>"
      ],
      "text/plain": [
       "Empty DataFrame\n",
       "Columns: [self, other]\n",
       "Index: []"
      ]
     },
     "execution_count": 67,
     "metadata": {},
     "output_type": "execute_result"
    }
   ],
   "source": [
    "cop_reduced['reduced'].compare(cop_sampled['cop_class'])"
   ]
  },
  {
   "cell_type": "code",
   "execution_count": null,
   "metadata": {},
   "outputs": [
    {
     "data": {
      "text/html": [
       "<div>\n",
       "<style scoped>\n",
       "    .dataframe tbody tr th:only-of-type {\n",
       "        vertical-align: middle;\n",
       "    }\n",
       "\n",
       "    .dataframe tbody tr th {\n",
       "        vertical-align: top;\n",
       "    }\n",
       "\n",
       "    .dataframe thead th {\n",
       "        text-align: right;\n",
       "    }\n",
       "</style>\n",
       "<table border=\"1\" class=\"dataframe\">\n",
       "  <thead>\n",
       "    <tr style=\"text-align: right;\">\n",
       "      <th></th>\n",
       "      <th>self</th>\n",
       "      <th>other</th>\n",
       "    </tr>\n",
       "  </thead>\n",
       "  <tbody>\n",
       "  </tbody>\n",
       "</table>\n",
       "</div>"
      ],
      "text/plain": [
       "Empty DataFrame\n",
       "Columns: [self, other]\n",
       "Index: []"
      ]
     },
     "execution_count": 68,
     "metadata": {},
     "output_type": "execute_result"
    }
   ],
   "source": [
    "esa_reduced['reduced'].compare(esa_sampled['esa_class'])"
   ]
  },
  {
   "cell_type": "code",
   "execution_count": null,
   "metadata": {},
   "outputs": [
    {
     "data": {
      "text/html": [
       "<div>\n",
       "<style scoped>\n",
       "    .dataframe tbody tr th:only-of-type {\n",
       "        vertical-align: middle;\n",
       "    }\n",
       "\n",
       "    .dataframe tbody tr th {\n",
       "        vertical-align: top;\n",
       "    }\n",
       "\n",
       "    .dataframe thead tr th {\n",
       "        text-align: left;\n",
       "    }\n",
       "</style>\n",
       "<table border=\"1\" class=\"dataframe\">\n",
       "  <thead>\n",
       "  </thead>\n",
       "  <tbody>\n",
       "  </tbody>\n",
       "</table>\n",
       "</div>"
      ],
      "text/plain": [
       "Empty DataFrame\n",
       "Columns: []\n",
       "Index: []"
      ]
     },
     "execution_count": 69,
     "metadata": {},
     "output_type": "execute_result"
    }
   ],
   "source": [
    "glad_sampled.compare(glad_reduced)"
   ]
  }
 ],
 "metadata": {
  "kernelspec": {
   "display_name": "intercomparison",
   "language": "python",
   "name": "python3"
  },
  "language_info": {
   "codemirror_mode": {
    "name": "ipython",
    "version": 3
   },
   "file_extension": ".py",
   "mimetype": "text/x-python",
   "name": "python",
   "nbconvert_exporter": "python",
   "pygments_lexer": "ipython3",
   "version": "3.8.8"
  },
  "orig_nbformat": 4,
  "vscode": {
   "interpreter": {
    "hash": "b9a057a3c2bc11d9fb1a09bad675557d69c9743adf6ae74a67a8c76be0d35d72"
   }
  }
 },
 "nbformat": 4,
 "nbformat_minor": 2
}
