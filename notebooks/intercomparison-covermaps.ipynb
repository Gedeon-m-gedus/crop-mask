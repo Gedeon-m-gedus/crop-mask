{
 "cells": [
  {
   "cell_type": "markdown",
   "metadata": {},
   "source": [
    "# Covermap Comparison\n",
    "\n",
    "**Author:** Adam Yang (ayang115@umd.edu)\n",
    "\n",
    "**Description:** Compares datasets against test sets\n",
    "\n",
    "**Crop Maps Used:** Harvest Togo & Kenya, Copernicus Land Cover, ESA CCI Land Cover Africa, GLAD Global Cropland Extent"
   ]
  },
  {
   "cell_type": "code",
   "execution_count": 1,
   "metadata": {},
   "outputs": [
    {
     "name": "stderr",
     "output_type": "stream",
     "text": [
      "c:\\Users\\adamf\\anaconda3\\envs\\intercomparison\\lib\\site-packages\\geopandas\\_compat.py:112: UserWarning: The Shapely GEOS version (3.8.0-CAPI-1.13.1 ) is incompatible with the GEOS version PyGEOS was compiled with (3.10.4-CAPI-1.16.2). Conversions between both will be slow.\n",
      "  warnings.warn(\n"
     ]
    }
   ],
   "source": [
    "import pandas as pd\n",
    "import numpy as np\n",
    "import geopandas as gpd\n",
    "import os\n",
    "import geemap\n",
    "import cartopy.io.shapereader as shpreader \n",
    "import matplotlib.pyplot as plt\n",
    "\n",
    "from pathlib import Path\n",
    "from shapely import wkt\n",
    "from sklearn.metrics import classification_report \n",
    "from shapely.geometry import Point, MultiPolygon, GeometryCollection \n"
   ]
  },
  {
   "cell_type": "code",
   "execution_count": 2,
   "metadata": {},
   "outputs": [
    {
     "data": {
      "text/html": [
       "<p>To authorize access needed by Earth Engine, open the following\n",
       "        URL in a web browser and follow the instructions:</p>\n",
       "        <p><a href=https://code.earthengine.google.com/client-auth?scopes=https%3A//www.googleapis.com/auth/earthengine%20https%3A//www.googleapis.com/auth/devstorage.full_control&request_id=Mfw7ZbV59A3-KyYm_GQji8t3_M8L6G37pXRcKDzYF9E&tc=Dmqc1C2SHSotIf_Q3rUnV5JNYGS6E9ug_KHWvlwXbCM&cc=zMCdH9siSufGgYsggWgbB66NCzJFK6Y2to0hF6gkRRA>https://code.earthengine.google.com/client-auth?scopes=https%3A//www.googleapis.com/auth/earthengine%20https%3A//www.googleapis.com/auth/devstorage.full_control&request_id=Mfw7ZbV59A3-KyYm_GQji8t3_M8L6G37pXRcKDzYF9E&tc=Dmqc1C2SHSotIf_Q3rUnV5JNYGS6E9ug_KHWvlwXbCM&cc=zMCdH9siSufGgYsggWgbB66NCzJFK6Y2to0hF6gkRRA</a></p>\n",
       "        <p>The authorization workflow will generate a code, which you should paste in the box below.</p>\n",
       "        "
      ],
      "text/plain": [
       "<IPython.core.display.HTML object>"
      ]
     },
     "metadata": {},
     "output_type": "display_data"
    },
    {
     "name": "stdout",
     "output_type": "stream",
     "text": [
      "\n",
      "Successfully saved authorization token.\n"
     ]
    }
   ],
   "source": [
    "import ee\n",
    "\n",
    "ee.Authenticate()\n",
    "\n",
    "ee.Initialize()"
   ]
  },
  {
   "attachments": {},
   "cell_type": "markdown",
   "metadata": {},
   "source": [
    "### **Setup**"
   ]
  },
  {
   "cell_type": "markdown",
   "metadata": {},
   "source": [
    "**Constants**"
   ]
  },
  {
   "cell_type": "code",
   "execution_count": 3,
   "metadata": {},
   "outputs": [],
   "source": [
    "TEST_COUNTRIES = [\"Kenya\", \"Togo\", \"Tanzania_CEO_2019\"]\n",
    "DATA_PATH = \"../data/datasets/\"\n",
    "TEST_CODE = {\"Kenya\": \"KEN\", \"Togo\": \"TGO\", \"Tanzania_CEO_2019\": \"TZA\"} # for NE boundaries"
   ]
  },
  {
   "cell_type": "code",
   "execution_count": 4,
   "metadata": {},
   "outputs": [],
   "source": [
    "DATASET_PATH = Path(DATA_PATH).glob(\"*\")\n",
    "TARGET_PATHS = [p for p in DATASET_PATH if p.stem in TEST_COUNTRIES] # test data path"
   ]
  },
  {
   "cell_type": "code",
   "execution_count": 5,
   "metadata": {},
   "outputs": [],
   "source": [
    "# country boundaries\n",
    "NE_GDF = gpd.read_file(\n",
    "    shpreader.natural_earth(\n",
    "        resolution='10m', \n",
    "        category='cultural', \n",
    "        name='admin_1_states_provinces')\n",
    ")\n"
   ]
  },
  {
   "cell_type": "markdown",
   "metadata": {},
   "source": [
    "**Functions**"
   ]
  },
  {
   "cell_type": "code",
   "execution_count": 6,
   "metadata": {},
   "outputs": [],
   "source": [
    "# Remaps classes to crop/noncrop \n",
    "def map_values(val, value_for_crop):\n",
    "    if val == value_for_crop:\n",
    "        return 1\n",
    "    else:\n",
    "        return 0"
   ]
  },
  {
   "cell_type": "code",
   "execution_count": 7,
   "metadata": {},
   "outputs": [],
   "source": [
    "# Function used in map function to extract from feature collection\n",
    "def raster_extraction(image, resolution, f_collection):\n",
    "    feature = image.sampleRegions(\n",
    "        collection = f_collection,\n",
    "        scale = resolution\n",
    "    )\n",
    "    return feature"
   ]
  },
  {
   "cell_type": "code",
   "execution_count": 8,
   "metadata": {},
   "outputs": [],
   "source": [
    "# Convert sklearn classification report dict to \n",
    "def report_to_row(dataset, report, df):\n",
    "    new_report = pd.DataFrame(data = {\n",
    "        \"dataset\": dataset, \n",
    "        \"accuracy\": report[\"accuracy\"], \n",
    "        \"crop_f1\": report[\"1\"][\"f1-score\"], \n",
    "        \"crop_support\": report[\"1\"][\"support\"], \n",
    "        \"noncrop_support\": report[\"0\"][\"support\"], \n",
    "        \"crop_precision\": report[\"1\"][\"precision\"], \n",
    "        \"crop_recall\": report[\"1\"][\"recall\"], \n",
    "        \"noncrop_precision\": report[\"0\"][\"precision\"], \n",
    "        \"noncrop_recall\": report[\"0\"][\"recall\"]\n",
    "        }, index=[0])\n",
    "    \n",
    "    return pd.concat([df, new_report])"
   ]
  },
  {
   "cell_type": "code",
   "execution_count": 9,
   "metadata": {},
   "outputs": [],
   "source": [
    "# Creates ee.Feature from longitude and latitude coordinates from a dataframe\n",
    "def create_point(row):\n",
    "    geom = ee.Geometry.Point(row['lon'], row['lat'])\n",
    "    prop = dict(row[['lon', 'lat', 'country', 'test_class']])\n",
    "\n",
    "    return ee.Feature(geom, prop)\n"
   ]
  },
  {
   "cell_type": "code",
   "execution_count": 10,
   "metadata": {},
   "outputs": [],
   "source": [
    "# filters out data in gdf that is not within country bounds \n",
    "def filter_by_bounds(country: str, gdf: gpd.GeoDataFrame):\n",
    "    boundary = NE_GDF.loc[NE_GDF['adm1_code'].str.startswith(country), :].copy()\n",
    "\n",
    "    if boundary.crs == None:\n",
    "        boundary = boundary.set_crs('epsg:4326')\n",
    "    if boundary.crs != 'epsg:4326':\n",
    "        boundary = boundary.to_crs('epsg:4326')\n",
    "\n",
    "    boundary = GeometryCollection([x for x in boundary['geometry']])\n",
    "\n",
    "    mask = gdf.within(boundary)\n",
    "    filtered = gdf.loc[mask].copy()\n",
    "\n",
    "    return filtered"
   ]
  },
  {
   "attachments": {},
   "cell_type": "markdown",
   "metadata": {},
   "source": [
    "### **Generate Test Data**"
   ]
  },
  {
   "cell_type": "code",
   "execution_count": 16,
   "metadata": {},
   "outputs": [],
   "source": [
    "#create a testing geodataframe\n",
    "def generate_test_data(target_paths: str):\n",
    "    test_gdf = gpd.GeoDataFrame(\n",
    "        columns=['lat', 'lon', 'country', 'test_class', 'geometry'], \n",
    "        crs = 'epsg:4326')\n",
    "\n",
    "    test_set = []\n",
    "    \n",
    "    for p in target_paths:\n",
    "        # Set dict key name\n",
    "        key = p.stem\n",
    "\n",
    "        # Read in data and extract test values and points \n",
    "        df = pd.read_csv(p)\n",
    "        df = df.loc[df['subset'] == 'testing']\n",
    "        df = df[['lat', 'lon', 'class_probability']]\n",
    "\n",
    "        # Recast points as 1 or 0 (threshold = 0.5)\n",
    "        df['test_class'] = df['class_probability'].apply(lambda x: 1 if x > 0.5 else 0)\n",
    "\n",
    "        df['country'] = key\n",
    "\n",
    "        #convert to geodataframe\n",
    "        df = gpd.GeoDataFrame(\n",
    "            df, \n",
    "            geometry=gpd.points_from_xy(df.lon, df.lat)\n",
    "            )\n",
    "\n",
    "        df = filter_by_bounds(TEST_CODE[key], df)\n",
    "\n",
    "        test_set.append(df)\n",
    "\n",
    "    return pd.concat(test_set)"
   ]
  },
  {
   "cell_type": "code",
   "execution_count": 17,
   "metadata": {},
   "outputs": [],
   "source": [
    "# test_data = generate_test_data(TARGET_PATHS)"
   ]
  },
  {
   "cell_type": "code",
   "execution_count": 18,
   "metadata": {},
   "outputs": [],
   "source": [
    "# test_data.to_csv('../../intercomparison-data/test_data.csv')"
   ]
  },
  {
   "cell_type": "code",
   "execution_count": 19,
   "metadata": {},
   "outputs": [],
   "source": [
    "test_data = pd.read_csv(\"../../intercomparison-data/test_data.csv\").drop(\"Unnamed: 0\", axis=1)\n",
    "test_data[\"geometry\"] = test_data[\"geometry\"].apply(wkt.loads)\n",
    "test_data = gpd.GeoDataFrame(test_data)"
   ]
  },
  {
   "cell_type": "code",
   "execution_count": 20,
   "metadata": {},
   "outputs": [
    {
     "data": {
      "text/html": [
       "<div>\n",
       "<style scoped>\n",
       "    .dataframe tbody tr th:only-of-type {\n",
       "        vertical-align: middle;\n",
       "    }\n",
       "\n",
       "    .dataframe tbody tr th {\n",
       "        vertical-align: top;\n",
       "    }\n",
       "\n",
       "    .dataframe thead th {\n",
       "        text-align: right;\n",
       "    }\n",
       "</style>\n",
       "<table border=\"1\" class=\"dataframe\">\n",
       "  <thead>\n",
       "    <tr style=\"text-align: right;\">\n",
       "      <th></th>\n",
       "      <th>lat</th>\n",
       "      <th>lon</th>\n",
       "      <th>class_probability</th>\n",
       "      <th>test_class</th>\n",
       "      <th>country</th>\n",
       "      <th>geometry</th>\n",
       "    </tr>\n",
       "  </thead>\n",
       "  <tbody>\n",
       "    <tr>\n",
       "      <th>0</th>\n",
       "      <td>0.725122</td>\n",
       "      <td>34.386282</td>\n",
       "      <td>0.00</td>\n",
       "      <td>0</td>\n",
       "      <td>Kenya</td>\n",
       "      <td>POINT (34.38628 0.72512)</td>\n",
       "    </tr>\n",
       "    <tr>\n",
       "      <th>1</th>\n",
       "      <td>0.621939</td>\n",
       "      <td>34.466496</td>\n",
       "      <td>0.00</td>\n",
       "      <td>0</td>\n",
       "      <td>Kenya</td>\n",
       "      <td>POINT (34.46650 0.62194)</td>\n",
       "    </tr>\n",
       "    <tr>\n",
       "      <th>2</th>\n",
       "      <td>0.226497</td>\n",
       "      <td>34.054859</td>\n",
       "      <td>0.00</td>\n",
       "      <td>0</td>\n",
       "      <td>Kenya</td>\n",
       "      <td>POINT (34.05486 0.22650)</td>\n",
       "    </tr>\n",
       "    <tr>\n",
       "      <th>3</th>\n",
       "      <td>0.096834</td>\n",
       "      <td>33.951959</td>\n",
       "      <td>0.00</td>\n",
       "      <td>0</td>\n",
       "      <td>Kenya</td>\n",
       "      <td>POINT (33.95196 0.09683)</td>\n",
       "    </tr>\n",
       "    <tr>\n",
       "      <th>4</th>\n",
       "      <td>0.032072</td>\n",
       "      <td>33.968469</td>\n",
       "      <td>0.00</td>\n",
       "      <td>0</td>\n",
       "      <td>Kenya</td>\n",
       "      <td>POINT (33.96847 0.03207)</td>\n",
       "    </tr>\n",
       "    <tr>\n",
       "      <th>...</th>\n",
       "      <td>...</td>\n",
       "      <td>...</td>\n",
       "      <td>...</td>\n",
       "      <td>...</td>\n",
       "      <td>...</td>\n",
       "      <td>...</td>\n",
       "    </tr>\n",
       "    <tr>\n",
       "      <th>2648</th>\n",
       "      <td>6.472810</td>\n",
       "      <td>1.502436</td>\n",
       "      <td>0.75</td>\n",
       "      <td>1</td>\n",
       "      <td>Togo</td>\n",
       "      <td>POINT (1.50244 6.47281)</td>\n",
       "    </tr>\n",
       "    <tr>\n",
       "      <th>2649</th>\n",
       "      <td>11.037647</td>\n",
       "      <td>0.048311</td>\n",
       "      <td>1.00</td>\n",
       "      <td>1</td>\n",
       "      <td>Togo</td>\n",
       "      <td>POINT (0.04831 11.03765)</td>\n",
       "    </tr>\n",
       "    <tr>\n",
       "      <th>2650</th>\n",
       "      <td>9.011538</td>\n",
       "      <td>1.493877</td>\n",
       "      <td>0.00</td>\n",
       "      <td>0</td>\n",
       "      <td>Togo</td>\n",
       "      <td>POINT (1.49388 9.01154)</td>\n",
       "    </tr>\n",
       "    <tr>\n",
       "      <th>2651</th>\n",
       "      <td>9.138645</td>\n",
       "      <td>1.391047</td>\n",
       "      <td>0.00</td>\n",
       "      <td>0</td>\n",
       "      <td>Togo</td>\n",
       "      <td>POINT (1.39105 9.13864)</td>\n",
       "    </tr>\n",
       "    <tr>\n",
       "      <th>2652</th>\n",
       "      <td>9.186742</td>\n",
       "      <td>1.344951</td>\n",
       "      <td>0.00</td>\n",
       "      <td>0</td>\n",
       "      <td>Togo</td>\n",
       "      <td>POINT (1.34495 9.18674)</td>\n",
       "    </tr>\n",
       "  </tbody>\n",
       "</table>\n",
       "<p>2653 rows × 6 columns</p>\n",
       "</div>"
      ],
      "text/plain": [
       "            lat        lon  class_probability  test_class country  \\\n",
       "0      0.725122  34.386282               0.00           0   Kenya   \n",
       "1      0.621939  34.466496               0.00           0   Kenya   \n",
       "2      0.226497  34.054859               0.00           0   Kenya   \n",
       "3      0.096834  33.951959               0.00           0   Kenya   \n",
       "4      0.032072  33.968469               0.00           0   Kenya   \n",
       "...         ...        ...                ...         ...     ...   \n",
       "2648   6.472810   1.502436               0.75           1    Togo   \n",
       "2649  11.037647   0.048311               1.00           1    Togo   \n",
       "2650   9.011538   1.493877               0.00           0    Togo   \n",
       "2651   9.138645   1.391047               0.00           0    Togo   \n",
       "2652   9.186742   1.344951               0.00           0    Togo   \n",
       "\n",
       "                      geometry  \n",
       "0     POINT (34.38628 0.72512)  \n",
       "1     POINT (34.46650 0.62194)  \n",
       "2     POINT (34.05486 0.22650)  \n",
       "3     POINT (33.95196 0.09683)  \n",
       "4     POINT (33.96847 0.03207)  \n",
       "...                        ...  \n",
       "2648   POINT (1.50244 6.47281)  \n",
       "2649  POINT (0.04831 11.03765)  \n",
       "2650   POINT (1.49388 9.01154)  \n",
       "2651   POINT (1.39105 9.13864)  \n",
       "2652   POINT (1.34495 9.18674)  \n",
       "\n",
       "[2653 rows x 6 columns]"
      ]
     },
     "execution_count": 20,
     "metadata": {},
     "output_type": "execute_result"
    }
   ],
   "source": [
    "test_data.set_crs(\"epsg:4326\", inplace=True)"
   ]
  },
  {
   "attachments": {},
   "cell_type": "markdown",
   "metadata": {},
   "source": [
    "Plot test points"
   ]
  },
  {
   "cell_type": "code",
   "execution_count": 49,
   "metadata": {},
   "outputs": [
    {
     "data": {
      "text/plain": [
       "<AxesSubplot:>"
      ]
     },
     "execution_count": 49,
     "metadata": {},
     "output_type": "execute_result"
    },
    {
     "data": {
      "image/png": "[encoded data removed]",
      "text/plain": [
       "<Figure size 720x720 with 1 Axes>"
      ]
     },
     "metadata": {
      "needs_background": "light"
     },
     "output_type": "display_data"
    }
   ],
   "source": [
    "KEN_mask = NE_GDF[NE_GDF[\"adm1_code\"].str.startswith(\"KEN\")].copy()\n",
    "TGO_mask = NE_GDF[NE_GDF[\"adm1_code\"].str.startswith(\"TGO\")].copy()\n",
    "TZA_mask = NE_GDF[NE_GDF[\"adm1_code\"].str.startswith(\"TZA\")].copy()\n",
    "masks = [KEN_mask, TZA_mask]\n",
    "\n",
    "# Make sure the shapefile has EPSG:4326, otherwise convert it\n",
    "for boundary in masks:\n",
    "    if boundary.crs == None:\n",
    "        boundary = boundary.set_crs('epsg:4326')\n",
    "    if boundary.crs != 'epsg:4326':\n",
    "        boundary = boundary.to_crs('epsg:4326')\n",
    "    boundary['roi'] = True\n",
    "    boundary.reset_index(inplace=True, drop=True)\n",
    "    boundary.dissolve('roi')\n",
    "\n",
    "df = gpd.GeoDataFrame(pd.concat(masks)).set_crs('epsg:4326')\n",
    "\n",
    "fig, ax = plt.subplots(figsize = (10,10))\n",
    "ax.set_facecolor(\"gray\")\n",
    "df[\"geometry\"].to_crs(epsg=4326).plot(ax=ax, color='lightgrey')\n",
    "test_data.plot(ax=ax, column='test_class', alpha=0.5, cmap='binary')"
   ]
  },
  {
   "attachments": {},
   "cell_type": "markdown",
   "metadata": {},
   "source": [
    "Support for each country"
   ]
  },
  {
   "cell_type": "code",
   "execution_count": 50,
   "metadata": {},
   "outputs": [
    {
     "name": "stdout",
     "output_type": "stream",
     "text": [
      "352 764 1537\n"
     ]
    }
   ],
   "source": [
    "print(\n",
    "    len(test_data[test_data['country']=='Togo']), \n",
    "    len(test_data[test_data['country']=='Kenya']), \n",
    "    len(test_data[test_data['country']=='Tanzania_CEO_2019'])\n",
    "    )"
   ]
  },
  {
   "attachments": {},
   "cell_type": "markdown",
   "metadata": {},
   "source": [
    "Assert no overlap"
   ]
  },
  {
   "cell_type": "code",
   "execution_count": 17,
   "metadata": {},
   "outputs": [],
   "source": [
    "tgo = test_data.loc[test_data['country']=='Togo'].copy()\n",
    "ken = test_data.loc[test_data['country']=='Kenya'].copy()\n",
    "tan = test_data.loc[test_data['country']=='Tanzania_CEO_2019'].copy()"
   ]
  },
  {
   "cell_type": "code",
   "execution_count": 18,
   "metadata": {},
   "outputs": [
    {
     "name": "stderr",
     "output_type": "stream",
     "text": [
      "c:\\Users\\adamf\\anaconda3\\envs\\intercomparison\\lib\\site-packages\\geopandas\\base.py:31: UserWarning: The indices of the two GeoSeries are different.\n",
      "  warn(\"The indices of the two GeoSeries are different.\")\n"
     ]
    }
   ],
   "source": [
    "assert ~ken.overlaps(tan).all(), \"Overlap detected!\"\n",
    "assert ~tan.overlaps(ken).all(), \"Overlap detected!\""
   ]
  },
  {
   "attachments": {},
   "cell_type": "markdown",
   "metadata": {},
   "source": [
    "Generate earth engine points"
   ]
  },
  {
   "cell_type": "code",
   "execution_count": 21,
   "metadata": {},
   "outputs": [],
   "source": [
    "test_coll = ee.FeatureCollection(test_data.apply(create_point, axis=1).to_list())"
   ]
  },
  {
   "cell_type": "code",
   "execution_count": 20,
   "metadata": {},
   "outputs": [
    {
     "data": {
      "text/html": [
       "<div>\n",
       "<style scoped>\n",
       "    .dataframe tbody tr th:only-of-type {\n",
       "        vertical-align: middle;\n",
       "    }\n",
       "\n",
       "    .dataframe tbody tr th {\n",
       "        vertical-align: top;\n",
       "    }\n",
       "\n",
       "    .dataframe thead th {\n",
       "        text-align: right;\n",
       "    }\n",
       "</style>\n",
       "<table border=\"1\" class=\"dataframe\">\n",
       "  <thead>\n",
       "    <tr style=\"text-align: right;\">\n",
       "      <th></th>\n",
       "      <th>lat</th>\n",
       "      <th>lon</th>\n",
       "      <th>class_probability</th>\n",
       "      <th>test_class</th>\n",
       "      <th>country</th>\n",
       "      <th>geometry</th>\n",
       "    </tr>\n",
       "  </thead>\n",
       "  <tbody>\n",
       "    <tr>\n",
       "      <th>0</th>\n",
       "      <td>0.725122</td>\n",
       "      <td>34.386282</td>\n",
       "      <td>0.00</td>\n",
       "      <td>0</td>\n",
       "      <td>Kenya</td>\n",
       "      <td>POINT (34.38628 0.72512)</td>\n",
       "    </tr>\n",
       "    <tr>\n",
       "      <th>1</th>\n",
       "      <td>0.621939</td>\n",
       "      <td>34.466496</td>\n",
       "      <td>0.00</td>\n",
       "      <td>0</td>\n",
       "      <td>Kenya</td>\n",
       "      <td>POINT (34.46650 0.62194)</td>\n",
       "    </tr>\n",
       "    <tr>\n",
       "      <th>2</th>\n",
       "      <td>0.226497</td>\n",
       "      <td>34.054859</td>\n",
       "      <td>0.00</td>\n",
       "      <td>0</td>\n",
       "      <td>Kenya</td>\n",
       "      <td>POINT (34.05486 0.22650)</td>\n",
       "    </tr>\n",
       "    <tr>\n",
       "      <th>3</th>\n",
       "      <td>0.096834</td>\n",
       "      <td>33.951959</td>\n",
       "      <td>0.00</td>\n",
       "      <td>0</td>\n",
       "      <td>Kenya</td>\n",
       "      <td>POINT (33.95196 0.09683)</td>\n",
       "    </tr>\n",
       "    <tr>\n",
       "      <th>4</th>\n",
       "      <td>0.032072</td>\n",
       "      <td>33.968469</td>\n",
       "      <td>0.00</td>\n",
       "      <td>0</td>\n",
       "      <td>Kenya</td>\n",
       "      <td>POINT (33.96847 0.03207)</td>\n",
       "    </tr>\n",
       "    <tr>\n",
       "      <th>...</th>\n",
       "      <td>...</td>\n",
       "      <td>...</td>\n",
       "      <td>...</td>\n",
       "      <td>...</td>\n",
       "      <td>...</td>\n",
       "      <td>...</td>\n",
       "    </tr>\n",
       "    <tr>\n",
       "      <th>2648</th>\n",
       "      <td>6.472810</td>\n",
       "      <td>1.502436</td>\n",
       "      <td>0.75</td>\n",
       "      <td>1</td>\n",
       "      <td>Togo</td>\n",
       "      <td>POINT (1.50244 6.47281)</td>\n",
       "    </tr>\n",
       "    <tr>\n",
       "      <th>2649</th>\n",
       "      <td>11.037647</td>\n",
       "      <td>0.048311</td>\n",
       "      <td>1.00</td>\n",
       "      <td>1</td>\n",
       "      <td>Togo</td>\n",
       "      <td>POINT (0.04831 11.03765)</td>\n",
       "    </tr>\n",
       "    <tr>\n",
       "      <th>2650</th>\n",
       "      <td>9.011538</td>\n",
       "      <td>1.493877</td>\n",
       "      <td>0.00</td>\n",
       "      <td>0</td>\n",
       "      <td>Togo</td>\n",
       "      <td>POINT (1.49388 9.01154)</td>\n",
       "    </tr>\n",
       "    <tr>\n",
       "      <th>2651</th>\n",
       "      <td>9.138645</td>\n",
       "      <td>1.391047</td>\n",
       "      <td>0.00</td>\n",
       "      <td>0</td>\n",
       "      <td>Togo</td>\n",
       "      <td>POINT (1.39105 9.13864)</td>\n",
       "    </tr>\n",
       "    <tr>\n",
       "      <th>2652</th>\n",
       "      <td>9.186742</td>\n",
       "      <td>1.344951</td>\n",
       "      <td>0.00</td>\n",
       "      <td>0</td>\n",
       "      <td>Togo</td>\n",
       "      <td>POINT (1.34495 9.18674)</td>\n",
       "    </tr>\n",
       "  </tbody>\n",
       "</table>\n",
       "<p>2653 rows × 6 columns</p>\n",
       "</div>"
      ],
      "text/plain": [
       "            lat        lon  class_probability  test_class country  \\\n",
       "0      0.725122  34.386282               0.00           0   Kenya   \n",
       "1      0.621939  34.466496               0.00           0   Kenya   \n",
       "2      0.226497  34.054859               0.00           0   Kenya   \n",
       "3      0.096834  33.951959               0.00           0   Kenya   \n",
       "4      0.032072  33.968469               0.00           0   Kenya   \n",
       "...         ...        ...                ...         ...     ...   \n",
       "2648   6.472810   1.502436               0.75           1    Togo   \n",
       "2649  11.037647   0.048311               1.00           1    Togo   \n",
       "2650   9.011538   1.493877               0.00           0    Togo   \n",
       "2651   9.138645   1.391047               0.00           0    Togo   \n",
       "2652   9.186742   1.344951               0.00           0    Togo   \n",
       "\n",
       "                      geometry  \n",
       "0     POINT (34.38628 0.72512)  \n",
       "1     POINT (34.46650 0.62194)  \n",
       "2     POINT (34.05486 0.22650)  \n",
       "3     POINT (33.95196 0.09683)  \n",
       "4     POINT (33.96847 0.03207)  \n",
       "...                        ...  \n",
       "2648   POINT (1.50244 6.47281)  \n",
       "2649  POINT (0.04831 11.03765)  \n",
       "2650   POINT (1.49388 9.01154)  \n",
       "2651   POINT (1.39105 9.13864)  \n",
       "2652   POINT (1.34495 9.18674)  \n",
       "\n",
       "[2653 rows x 6 columns]"
      ]
     },
     "execution_count": 20,
     "metadata": {},
     "output_type": "execute_result"
    }
   ],
   "source": [
    "test_data"
   ]
  },
  {
   "cell_type": "code",
   "execution_count": 21,
   "metadata": {},
   "outputs": [],
   "source": [
    "pos = test_coll.filter(\"test_class == 1\")\n",
    "neg = test_coll.filter(\"test_class == 0\")"
   ]
  },
  {
   "cell_type": "code",
   "execution_count": 22,
   "metadata": {},
   "outputs": [],
   "source": [
    "import geemap.colormaps as cm\n",
    "Map = geemap.Map(center=[8.7, 34.5], zoom=4)\n",
    "pallete = cm.palettes.dem\n",
    "vis_params = {'min': 0, 'max': 1, 'palette': pallete}\n",
    "\n",
    "Map.addLayer(pos, {'color': 'FFFFFF'})\n",
    "Map.addLayer(neg, {'color': '000000'})\n",
    "\n",
    "# Map"
   ]
  },
  {
   "attachments": {},
   "cell_type": "markdown",
   "metadata": {},
   "source": [
    "**Create dataframe for results**"
   ]
  },
  {
   "cell_type": "code",
   "execution_count": 23,
   "metadata": {},
   "outputs": [],
   "source": [
    "results = {}\n",
    "\n",
    "for p in TARGET_PATHS:\n",
    "    key = p.stem\n",
    "    results[key] = pd.DataFrame(columns=[\"dataset\", \"accuracy\", \"crop_f1\", \"crop_support\", \"noncrop_support\", \n",
    "        \"crop_precision\", \"crop_recall\", \"noncrop_precision\", \"noncrop_recall\"])\n"
   ]
  },
  {
   "attachments": {},
   "cell_type": "markdown",
   "metadata": {},
   "source": [
    "### **Harvest Data**"
   ]
  },
  {
   "cell_type": "code",
   "execution_count": 56,
   "metadata": {},
   "outputs": [],
   "source": [
    "HARVEST_PATHS = [\n",
    "    \"projects/sat-io/open-datasets/nasa-harvest/togo_cropland_binary\", \n",
    "    \"projects/sat-io/open-datasets/nasa-harvest/kenya_cropland_binary\",\n",
    "    \"users/adadebay/Tanzania_cropland_2019\"]"
   ]
  },
  {
   "cell_type": "code",
   "execution_count": 59,
   "metadata": {},
   "outputs": [
    {
     "name": "stdout",
     "output_type": "stream",
     "text": [
      "togo_cropland_binary\n",
      "kenya_cropland_binary\n",
      "Tanzania_cropland_2019\n"
     ]
    }
   ],
   "source": [
    "harvest = []\n",
    "for map in HARVEST_PATHS:\n",
    "    name = map.split('/')[-1]\n",
    "    print(name)\n",
    "\n",
    "    #sample from earth engine\n",
    "    sampled = ee.Image(map).sampleRegions(\n",
    "        collection=test_coll,\n",
    "        projection='epsg:4326',\n",
    "        geometries=True\n",
    "    )\n",
    "    \n",
    "    #convert to dataframe\n",
    "    sampled = geemap.ee_to_gdf(sampled)\n",
    "    \n",
    "    #binarize \n",
    "    sampled[\"b1\"] = sampled[\"b1\"].apply(lambda x: 1 if x>0.5 else 0) \n",
    "\n",
    "    harvest.append(sampled)\n",
    "\n",
    "harvest = pd.concat(harvest)"
   ]
  },
  {
   "attachments": {},
   "cell_type": "markdown",
   "metadata": {},
   "source": [
    "Show difference in sampling"
   ]
  },
  {
   "cell_type": "code",
   "execution_count": 26,
   "metadata": {},
   "outputs": [],
   "source": [
    "test = test_data[['lat', 'lon', 'test_class', 'country']].copy()\n",
    "har = harvest[['lat', 'lon', 'test_class', 'country']].copy()"
   ]
  },
  {
   "cell_type": "code",
   "execution_count": 27,
   "metadata": {},
   "outputs": [],
   "source": [
    "har.reset_index(drop=True, inplace=True)"
   ]
  },
  {
   "cell_type": "code",
   "execution_count": 28,
   "metadata": {},
   "outputs": [
    {
     "data": {
      "text/plain": [
       "71"
      ]
     },
     "execution_count": 28,
     "metadata": {},
     "output_type": "execute_result"
    }
   ],
   "source": [
    "diff = test[~test.apply(tuple,1).isin(har.apply(tuple,1))]\n",
    "diff = gpd.GeoDataFrame(diff, crs='epsg:4326', geometry=gpd.points_from_xy(diff.lon, diff.lat))\n",
    "len(diff)"
   ]
  },
  {
   "cell_type": "code",
   "execution_count": 29,
   "metadata": {},
   "outputs": [
    {
     "data": {
      "text/plain": [
       "<AxesSubplot:>"
      ]
     },
     "execution_count": 29,
     "metadata": {},
     "output_type": "execute_result"
    },
    {
     "data": {
      "image/png": "[encoded data removed]",
      "text/plain": [
       "<Figure size 720x720 with 1 Axes>"
      ]
     },
     "metadata": {
      "needs_background": "light"
     },
     "output_type": "display_data"
    }
   ],
   "source": [
    "fig, ax = plt.subplots(figsize=(10,10))\n",
    "ax.set_facecolor(\"gray\")\n",
    "df[\"geometry\"].to_crs(epsg=4326).plot(ax=ax, color='lightgrey')\n",
    "diff.plot(ax=ax, column='test_class', alpha=0.5, cmap='binary')"
   ]
  },
  {
   "cell_type": "code",
   "execution_count": 30,
   "metadata": {},
   "outputs": [],
   "source": [
    "# harvest.to_csv('../../intercomparison-data/harvest.csv')"
   ]
  },
  {
   "attachments": {},
   "cell_type": "markdown",
   "metadata": {},
   "source": [
    "Join test and sampled sets"
   ]
  },
  {
   "cell_type": "code",
   "execution_count": 31,
   "metadata": {},
   "outputs": [],
   "source": [
    "test_data[\"harvest\"] = pd.merge(test_data, harvest, on=[\"lat\", \"lon\"], how=\"left\")[\"b1\"]"
   ]
  },
  {
   "cell_type": "code",
   "execution_count": 32,
   "metadata": {},
   "outputs": [
    {
     "data": {
      "text/html": [
       "<div>\n",
       "<style scoped>\n",
       "    .dataframe tbody tr th:only-of-type {\n",
       "        vertical-align: middle;\n",
       "    }\n",
       "\n",
       "    .dataframe tbody tr th {\n",
       "        vertical-align: top;\n",
       "    }\n",
       "\n",
       "    .dataframe thead th {\n",
       "        text-align: right;\n",
       "    }\n",
       "</style>\n",
       "<table border=\"1\" class=\"dataframe\">\n",
       "  <thead>\n",
       "    <tr style=\"text-align: right;\">\n",
       "      <th></th>\n",
       "      <th>lat</th>\n",
       "      <th>lon</th>\n",
       "      <th>class_probability</th>\n",
       "      <th>test_class</th>\n",
       "      <th>country</th>\n",
       "      <th>geometry</th>\n",
       "      <th>harvest</th>\n",
       "    </tr>\n",
       "  </thead>\n",
       "  <tbody>\n",
       "    <tr>\n",
       "      <th>0</th>\n",
       "      <td>0.725122</td>\n",
       "      <td>34.386282</td>\n",
       "      <td>0.00</td>\n",
       "      <td>0</td>\n",
       "      <td>Kenya</td>\n",
       "      <td>POINT (34.38628 0.72512)</td>\n",
       "      <td>1.0</td>\n",
       "    </tr>\n",
       "    <tr>\n",
       "      <th>1</th>\n",
       "      <td>0.621939</td>\n",
       "      <td>34.466496</td>\n",
       "      <td>0.00</td>\n",
       "      <td>0</td>\n",
       "      <td>Kenya</td>\n",
       "      <td>POINT (34.46650 0.62194)</td>\n",
       "      <td>1.0</td>\n",
       "    </tr>\n",
       "    <tr>\n",
       "      <th>2</th>\n",
       "      <td>0.226497</td>\n",
       "      <td>34.054859</td>\n",
       "      <td>0.00</td>\n",
       "      <td>0</td>\n",
       "      <td>Kenya</td>\n",
       "      <td>POINT (34.05486 0.22650)</td>\n",
       "      <td>0.0</td>\n",
       "    </tr>\n",
       "    <tr>\n",
       "      <th>3</th>\n",
       "      <td>0.096834</td>\n",
       "      <td>33.951959</td>\n",
       "      <td>0.00</td>\n",
       "      <td>0</td>\n",
       "      <td>Kenya</td>\n",
       "      <td>POINT (33.95196 0.09683)</td>\n",
       "      <td>0.0</td>\n",
       "    </tr>\n",
       "    <tr>\n",
       "      <th>4</th>\n",
       "      <td>0.032072</td>\n",
       "      <td>33.968469</td>\n",
       "      <td>0.00</td>\n",
       "      <td>0</td>\n",
       "      <td>Kenya</td>\n",
       "      <td>POINT (33.96847 0.03207)</td>\n",
       "      <td>0.0</td>\n",
       "    </tr>\n",
       "    <tr>\n",
       "      <th>...</th>\n",
       "      <td>...</td>\n",
       "      <td>...</td>\n",
       "      <td>...</td>\n",
       "      <td>...</td>\n",
       "      <td>...</td>\n",
       "      <td>...</td>\n",
       "      <td>...</td>\n",
       "    </tr>\n",
       "    <tr>\n",
       "      <th>2648</th>\n",
       "      <td>6.472810</td>\n",
       "      <td>1.502436</td>\n",
       "      <td>0.75</td>\n",
       "      <td>1</td>\n",
       "      <td>Togo</td>\n",
       "      <td>POINT (1.50244 6.47281)</td>\n",
       "      <td>1.0</td>\n",
       "    </tr>\n",
       "    <tr>\n",
       "      <th>2649</th>\n",
       "      <td>11.037647</td>\n",
       "      <td>0.048311</td>\n",
       "      <td>1.00</td>\n",
       "      <td>1</td>\n",
       "      <td>Togo</td>\n",
       "      <td>POINT (0.04831 11.03765)</td>\n",
       "      <td>1.0</td>\n",
       "    </tr>\n",
       "    <tr>\n",
       "      <th>2650</th>\n",
       "      <td>9.011538</td>\n",
       "      <td>1.493877</td>\n",
       "      <td>0.00</td>\n",
       "      <td>0</td>\n",
       "      <td>Togo</td>\n",
       "      <td>POINT (1.49388 9.01154)</td>\n",
       "      <td>0.0</td>\n",
       "    </tr>\n",
       "    <tr>\n",
       "      <th>2651</th>\n",
       "      <td>9.138645</td>\n",
       "      <td>1.391047</td>\n",
       "      <td>0.00</td>\n",
       "      <td>0</td>\n",
       "      <td>Togo</td>\n",
       "      <td>POINT (1.39105 9.13864)</td>\n",
       "      <td>0.0</td>\n",
       "    </tr>\n",
       "    <tr>\n",
       "      <th>2652</th>\n",
       "      <td>9.186742</td>\n",
       "      <td>1.344951</td>\n",
       "      <td>0.00</td>\n",
       "      <td>0</td>\n",
       "      <td>Togo</td>\n",
       "      <td>POINT (1.34495 9.18674)</td>\n",
       "      <td>0.0</td>\n",
       "    </tr>\n",
       "  </tbody>\n",
       "</table>\n",
       "<p>2653 rows × 7 columns</p>\n",
       "</div>"
      ],
      "text/plain": [
       "            lat        lon  class_probability  test_class country  \\\n",
       "0      0.725122  34.386282               0.00           0   Kenya   \n",
       "1      0.621939  34.466496               0.00           0   Kenya   \n",
       "2      0.226497  34.054859               0.00           0   Kenya   \n",
       "3      0.096834  33.951959               0.00           0   Kenya   \n",
       "4      0.032072  33.968469               0.00           0   Kenya   \n",
       "...         ...        ...                ...         ...     ...   \n",
       "2648   6.472810   1.502436               0.75           1    Togo   \n",
       "2649  11.037647   0.048311               1.00           1    Togo   \n",
       "2650   9.011538   1.493877               0.00           0    Togo   \n",
       "2651   9.138645   1.391047               0.00           0    Togo   \n",
       "2652   9.186742   1.344951               0.00           0    Togo   \n",
       "\n",
       "                      geometry  harvest  \n",
       "0     POINT (34.38628 0.72512)      1.0  \n",
       "1     POINT (34.46650 0.62194)      1.0  \n",
       "2     POINT (34.05486 0.22650)      0.0  \n",
       "3     POINT (33.95196 0.09683)      0.0  \n",
       "4     POINT (33.96847 0.03207)      0.0  \n",
       "...                        ...      ...  \n",
       "2648   POINT (1.50244 6.47281)      1.0  \n",
       "2649  POINT (0.04831 11.03765)      1.0  \n",
       "2650   POINT (1.49388 9.01154)      0.0  \n",
       "2651   POINT (1.39105 9.13864)      0.0  \n",
       "2652   POINT (1.34495 9.18674)      0.0  \n",
       "\n",
       "[2653 rows x 7 columns]"
      ]
     },
     "execution_count": 32,
     "metadata": {},
     "output_type": "execute_result"
    }
   ],
   "source": [
    "test_data"
   ]
  },
  {
   "attachments": {},
   "cell_type": "markdown",
   "metadata": {},
   "source": [
    "### **COP, ESA, GLAD**"
   ]
  },
  {
   "cell_type": "code",
   "execution_count": 33,
   "metadata": {},
   "outputs": [],
   "source": [
    "# Load copernicus data\n",
    "copernicus = ee.ImageCollection(\"COPERNICUS/Landcover/100m/Proba-V-C3/Global\")"
   ]
  },
  {
   "cell_type": "code",
   "execution_count": 43,
   "metadata": {},
   "outputs": [
    {
     "data": {
      "text/html": [
       "<div>\n",
       "<style scoped>\n",
       "    .dataframe tbody tr th:only-of-type {\n",
       "        vertical-align: middle;\n",
       "    }\n",
       "\n",
       "    .dataframe tbody tr th {\n",
       "        vertical-align: top;\n",
       "    }\n",
       "\n",
       "    .dataframe thead th {\n",
       "        text-align: right;\n",
       "    }\n",
       "</style>\n",
       "<table border=\"1\" class=\"dataframe\">\n",
       "  <thead>\n",
       "    <tr style=\"text-align: right;\">\n",
       "      <th></th>\n",
       "      <th>geometry</th>\n",
       "      <th>country</th>\n",
       "      <th>discrete_classification</th>\n",
       "      <th>lat</th>\n",
       "      <th>lon</th>\n",
       "      <th>test_class</th>\n",
       "      <th>cop_class</th>\n",
       "    </tr>\n",
       "  </thead>\n",
       "  <tbody>\n",
       "    <tr>\n",
       "      <th>0</th>\n",
       "      <td>None</td>\n",
       "      <td>Kenya</td>\n",
       "      <td>126</td>\n",
       "      <td>0.725122</td>\n",
       "      <td>34.386282</td>\n",
       "      <td>0</td>\n",
       "      <td>0</td>\n",
       "    </tr>\n",
       "    <tr>\n",
       "      <th>1</th>\n",
       "      <td>None</td>\n",
       "      <td>Kenya</td>\n",
       "      <td>122</td>\n",
       "      <td>0.621939</td>\n",
       "      <td>34.466496</td>\n",
       "      <td>0</td>\n",
       "      <td>0</td>\n",
       "    </tr>\n",
       "    <tr>\n",
       "      <th>2</th>\n",
       "      <td>None</td>\n",
       "      <td>Kenya</td>\n",
       "      <td>40</td>\n",
       "      <td>0.226497</td>\n",
       "      <td>34.054859</td>\n",
       "      <td>0</td>\n",
       "      <td>1</td>\n",
       "    </tr>\n",
       "    <tr>\n",
       "      <th>3</th>\n",
       "      <td>None</td>\n",
       "      <td>Kenya</td>\n",
       "      <td>20</td>\n",
       "      <td>0.096834</td>\n",
       "      <td>33.951959</td>\n",
       "      <td>0</td>\n",
       "      <td>0</td>\n",
       "    </tr>\n",
       "    <tr>\n",
       "      <th>4</th>\n",
       "      <td>None</td>\n",
       "      <td>Kenya</td>\n",
       "      <td>80</td>\n",
       "      <td>0.032072</td>\n",
       "      <td>33.968469</td>\n",
       "      <td>0</td>\n",
       "      <td>0</td>\n",
       "    </tr>\n",
       "  </tbody>\n",
       "</table>\n",
       "</div>"
      ],
      "text/plain": [
       "  geometry country  discrete_classification       lat        lon  test_class  \\\n",
       "0     None   Kenya                      126  0.725122  34.386282           0   \n",
       "1     None   Kenya                      122  0.621939  34.466496           0   \n",
       "2     None   Kenya                       40  0.226497  34.054859           0   \n",
       "3     None   Kenya                       20  0.096834  33.951959           0   \n",
       "4     None   Kenya                       80  0.032072  33.968469           0   \n",
       "\n",
       "   cop_class  \n",
       "0          0  \n",
       "1          0  \n",
       "2          1  \n",
       "3          0  \n",
       "4          0  "
      ]
     },
     "execution_count": 43,
     "metadata": {},
     "output_type": "execute_result"
    }
   ],
   "source": [
    "cop_results = copernicus.select(\n",
    "    \"discrete_classification\").filterDate(\n",
    "        \"2019-01-01\", \"2020-01-01\").map(\n",
    "            lambda x: raster_extraction(x, 100, test_coll)).flatten()\n",
    "\n",
    "cop_sampled = geemap.ee_to_gdf(cop_results)\n",
    "cop_sampled[\"cop_class\"] = cop_sampled[\"discrete_classification\"].apply(lambda x: 1 if x==40 else 0)\n",
    "cop_sampled.head()"
   ]
  },
  {
   "cell_type": "code",
   "execution_count": 35,
   "metadata": {},
   "outputs": [],
   "source": [
    "assert (np.sort(cop_sampled[['lat', 'lon']]) == np.sort(test_data[['lat','lon']])).all(), \"Point mismatch!\""
   ]
  },
  {
   "cell_type": "code",
   "execution_count": 36,
   "metadata": {},
   "outputs": [],
   "source": [
    "test_data[\"cop\"] = pd.merge(test_data, cop_sampled, on=[\"lat\", \"lon\"], how=\"left\")[\"cop_class\"]"
   ]
  },
  {
   "cell_type": "code",
   "execution_count": 40,
   "metadata": {},
   "outputs": [
    {
     "data": {
      "text/html": [
       "<div>\n",
       "<style scoped>\n",
       "    .dataframe tbody tr th:only-of-type {\n",
       "        vertical-align: middle;\n",
       "    }\n",
       "\n",
       "    .dataframe tbody tr th {\n",
       "        vertical-align: top;\n",
       "    }\n",
       "\n",
       "    .dataframe thead th {\n",
       "        text-align: right;\n",
       "    }\n",
       "</style>\n",
       "<table border=\"1\" class=\"dataframe\">\n",
       "  <thead>\n",
       "    <tr style=\"text-align: right;\">\n",
       "      <th></th>\n",
       "      <th>geometry</th>\n",
       "      <th>Map</th>\n",
       "      <th>country</th>\n",
       "      <th>lat</th>\n",
       "      <th>lon</th>\n",
       "      <th>test_class</th>\n",
       "      <th>esa_class</th>\n",
       "    </tr>\n",
       "  </thead>\n",
       "  <tbody>\n",
       "    <tr>\n",
       "      <th>0</th>\n",
       "      <td>None</td>\n",
       "      <td>20</td>\n",
       "      <td>Kenya</td>\n",
       "      <td>0.725122</td>\n",
       "      <td>34.386282</td>\n",
       "      <td>0</td>\n",
       "      <td>0</td>\n",
       "    </tr>\n",
       "    <tr>\n",
       "      <th>1</th>\n",
       "      <td>None</td>\n",
       "      <td>20</td>\n",
       "      <td>Kenya</td>\n",
       "      <td>0.621939</td>\n",
       "      <td>34.466496</td>\n",
       "      <td>0</td>\n",
       "      <td>0</td>\n",
       "    </tr>\n",
       "    <tr>\n",
       "      <th>2</th>\n",
       "      <td>None</td>\n",
       "      <td>30</td>\n",
       "      <td>Kenya</td>\n",
       "      <td>0.226497</td>\n",
       "      <td>34.054859</td>\n",
       "      <td>0</td>\n",
       "      <td>0</td>\n",
       "    </tr>\n",
       "    <tr>\n",
       "      <th>3</th>\n",
       "      <td>None</td>\n",
       "      <td>30</td>\n",
       "      <td>Kenya</td>\n",
       "      <td>0.096834</td>\n",
       "      <td>33.951959</td>\n",
       "      <td>0</td>\n",
       "      <td>0</td>\n",
       "    </tr>\n",
       "    <tr>\n",
       "      <th>4</th>\n",
       "      <td>None</td>\n",
       "      <td>80</td>\n",
       "      <td>Kenya</td>\n",
       "      <td>0.032072</td>\n",
       "      <td>33.968469</td>\n",
       "      <td>0</td>\n",
       "      <td>0</td>\n",
       "    </tr>\n",
       "  </tbody>\n",
       "</table>\n",
       "</div>"
      ],
      "text/plain": [
       "  geometry  Map country       lat        lon  test_class  esa_class\n",
       "0     None   20   Kenya  0.725122  34.386282           0          0\n",
       "1     None   20   Kenya  0.621939  34.466496           0          0\n",
       "2     None   30   Kenya  0.226497  34.054859           0          0\n",
       "3     None   30   Kenya  0.096834  33.951959           0          0\n",
       "4     None   80   Kenya  0.032072  33.968469           0          0"
      ]
     },
     "execution_count": 40,
     "metadata": {},
     "output_type": "execute_result"
    }
   ],
   "source": [
    "esa = ee.ImageCollection(\"ESA/WorldCover/v100\")\n",
    "esa_results = esa.filterBounds(test_coll).map(lambda x: raster_extraction(x, 10, test_coll)).flatten()\n",
    "esa_sampled = geemap.ee_to_gdf(esa_results)\n",
    "esa_sampled[\"esa_class\"] = esa_sampled[\"Map\"].apply(lambda x: 1 if x==40 else 0)\n",
    "esa_sampled.head()"
   ]
  },
  {
   "cell_type": "code",
   "execution_count": 41,
   "metadata": {},
   "outputs": [],
   "source": [
    "assert (np.sort(esa_sampled[['lat', 'lon']]) == np.sort(test_data[['lat','lon']])).all(), \"Point mismatch!\""
   ]
  },
  {
   "cell_type": "code",
   "execution_count": 42,
   "metadata": {},
   "outputs": [],
   "source": [
    "test_data[\"esa\"] = pd.merge(test_data, esa_sampled, on=[\"lat\", \"lon\"], how=\"left\")[\"esa_class\"]"
   ]
  },
  {
   "cell_type": "code",
   "execution_count": 44,
   "metadata": {},
   "outputs": [
    {
     "data": {
      "text/html": [
       "<div>\n",
       "<style scoped>\n",
       "    .dataframe tbody tr th:only-of-type {\n",
       "        vertical-align: middle;\n",
       "    }\n",
       "\n",
       "    .dataframe tbody tr th {\n",
       "        vertical-align: top;\n",
       "    }\n",
       "\n",
       "    .dataframe thead th {\n",
       "        text-align: right;\n",
       "    }\n",
       "</style>\n",
       "<table border=\"1\" class=\"dataframe\">\n",
       "  <thead>\n",
       "    <tr style=\"text-align: right;\">\n",
       "      <th></th>\n",
       "      <th>geometry</th>\n",
       "      <th>b1</th>\n",
       "      <th>country</th>\n",
       "      <th>lat</th>\n",
       "      <th>lon</th>\n",
       "      <th>test_class</th>\n",
       "    </tr>\n",
       "  </thead>\n",
       "  <tbody>\n",
       "    <tr>\n",
       "      <th>0</th>\n",
       "      <td>None</td>\n",
       "      <td>1</td>\n",
       "      <td>Kenya</td>\n",
       "      <td>0.725122</td>\n",
       "      <td>34.386282</td>\n",
       "      <td>0</td>\n",
       "    </tr>\n",
       "    <tr>\n",
       "      <th>1</th>\n",
       "      <td>None</td>\n",
       "      <td>0</td>\n",
       "      <td>Kenya</td>\n",
       "      <td>0.621939</td>\n",
       "      <td>34.466496</td>\n",
       "      <td>0</td>\n",
       "    </tr>\n",
       "    <tr>\n",
       "      <th>2</th>\n",
       "      <td>None</td>\n",
       "      <td>0</td>\n",
       "      <td>Kenya</td>\n",
       "      <td>0.226497</td>\n",
       "      <td>34.054859</td>\n",
       "      <td>0</td>\n",
       "    </tr>\n",
       "    <tr>\n",
       "      <th>3</th>\n",
       "      <td>None</td>\n",
       "      <td>0</td>\n",
       "      <td>Kenya</td>\n",
       "      <td>0.096834</td>\n",
       "      <td>33.951959</td>\n",
       "      <td>0</td>\n",
       "    </tr>\n",
       "    <tr>\n",
       "      <th>4</th>\n",
       "      <td>None</td>\n",
       "      <td>0</td>\n",
       "      <td>Kenya</td>\n",
       "      <td>0.032072</td>\n",
       "      <td>33.968469</td>\n",
       "      <td>0</td>\n",
       "    </tr>\n",
       "  </tbody>\n",
       "</table>\n",
       "</div>"
      ],
      "text/plain": [
       "  geometry  b1 country       lat        lon  test_class\n",
       "0     None   1   Kenya  0.725122  34.386282           0\n",
       "1     None   0   Kenya  0.621939  34.466496           0\n",
       "2     None   0   Kenya  0.226497  34.054859           0\n",
       "3     None   0   Kenya  0.096834  33.951959           0\n",
       "4     None   0   Kenya  0.032072  33.968469           0"
      ]
     },
     "execution_count": 44,
     "metadata": {},
     "output_type": "execute_result"
    }
   ],
   "source": [
    "glad = ee.ImageCollection(\"users/potapovpeter/Global_cropland_2019\")\n",
    "glad_results = glad.filterBounds(test_coll).map(lambda x: raster_extraction(x, 30, test_coll)).flatten()\n",
    "glad_sampled = geemap.ee_to_gdf(glad_results)\n",
    "glad_sampled.head()"
   ]
  },
  {
   "cell_type": "code",
   "execution_count": 45,
   "metadata": {},
   "outputs": [],
   "source": [
    "glad_diff = glad_sampled[['lat', 'lon']].compare(test_data[['lat','lon']])"
   ]
  },
  {
   "cell_type": "code",
   "execution_count": 46,
   "metadata": {},
   "outputs": [
    {
     "data": {
      "text/html": [
       "<div>\n",
       "<style scoped>\n",
       "    .dataframe tbody tr th:only-of-type {\n",
       "        vertical-align: middle;\n",
       "    }\n",
       "\n",
       "    .dataframe tbody tr th {\n",
       "        vertical-align: top;\n",
       "    }\n",
       "\n",
       "    .dataframe thead tr th {\n",
       "        text-align: left;\n",
       "    }\n",
       "</style>\n",
       "<table border=\"1\" class=\"dataframe\">\n",
       "  <thead>\n",
       "    <tr>\n",
       "      <th></th>\n",
       "      <th colspan=\"2\" halign=\"left\">lat</th>\n",
       "      <th colspan=\"2\" halign=\"left\">lon</th>\n",
       "    </tr>\n",
       "    <tr>\n",
       "      <th></th>\n",
       "      <th>self</th>\n",
       "      <th>other</th>\n",
       "      <th>self</th>\n",
       "      <th>other</th>\n",
       "    </tr>\n",
       "  </thead>\n",
       "  <tbody>\n",
       "    <tr>\n",
       "      <th>76</th>\n",
       "      <td>0.206487</td>\n",
       "      <td>-0.698091</td>\n",
       "      <td>35.004402</td>\n",
       "      <td>34.215673</td>\n",
       "    </tr>\n",
       "    <tr>\n",
       "      <th>77</th>\n",
       "      <td>0.064104</td>\n",
       "      <td>-4.104944</td>\n",
       "      <td>34.732424</td>\n",
       "      <td>39.648091</td>\n",
       "    </tr>\n",
       "    <tr>\n",
       "      <th>78</th>\n",
       "      <td>0.869092</td>\n",
       "      <td>-4.000159</td>\n",
       "      <td>35.486988</td>\n",
       "      <td>39.625765</td>\n",
       "    </tr>\n",
       "    <tr>\n",
       "      <th>79</th>\n",
       "      <td>1.300039</td>\n",
       "      <td>-1.237275</td>\n",
       "      <td>35.823250</td>\n",
       "      <td>37.563808</td>\n",
       "    </tr>\n",
       "    <tr>\n",
       "      <th>80</th>\n",
       "      <td>3.876416</td>\n",
       "      <td>0.206487</td>\n",
       "      <td>35.913137</td>\n",
       "      <td>35.004402</td>\n",
       "    </tr>\n",
       "    <tr>\n",
       "      <th>...</th>\n",
       "      <td>...</td>\n",
       "      <td>...</td>\n",
       "      <td>...</td>\n",
       "      <td>...</td>\n",
       "    </tr>\n",
       "    <tr>\n",
       "      <th>2648</th>\n",
       "      <td>-2.998368</td>\n",
       "      <td>6.472810</td>\n",
       "      <td>35.976357</td>\n",
       "      <td>1.502436</td>\n",
       "    </tr>\n",
       "    <tr>\n",
       "      <th>2649</th>\n",
       "      <td>-2.996376</td>\n",
       "      <td>11.037647</td>\n",
       "      <td>35.982109</td>\n",
       "      <td>0.048311</td>\n",
       "    </tr>\n",
       "    <tr>\n",
       "      <th>2650</th>\n",
       "      <td>-2.998963</td>\n",
       "      <td>9.011538</td>\n",
       "      <td>35.979944</td>\n",
       "      <td>1.493877</td>\n",
       "    </tr>\n",
       "    <tr>\n",
       "      <th>2651</th>\n",
       "      <td>-2.997940</td>\n",
       "      <td>9.138645</td>\n",
       "      <td>35.984116</td>\n",
       "      <td>1.391047</td>\n",
       "    </tr>\n",
       "    <tr>\n",
       "      <th>2652</th>\n",
       "      <td>-4.968315</td>\n",
       "      <td>9.186742</td>\n",
       "      <td>34.494156</td>\n",
       "      <td>1.344951</td>\n",
       "    </tr>\n",
       "  </tbody>\n",
       "</table>\n",
       "<p>2577 rows × 4 columns</p>\n",
       "</div>"
      ],
      "text/plain": [
       "           lat                   lon           \n",
       "          self      other       self      other\n",
       "76    0.206487  -0.698091  35.004402  34.215673\n",
       "77    0.064104  -4.104944  34.732424  39.648091\n",
       "78    0.869092  -4.000159  35.486988  39.625765\n",
       "79    1.300039  -1.237275  35.823250  37.563808\n",
       "80    3.876416   0.206487  35.913137  35.004402\n",
       "...        ...        ...        ...        ...\n",
       "2648 -2.998368   6.472810  35.976357   1.502436\n",
       "2649 -2.996376  11.037647  35.982109   0.048311\n",
       "2650 -2.998963   9.011538  35.979944   1.493877\n",
       "2651 -2.997940   9.138645  35.984116   1.391047\n",
       "2652 -4.968315   9.186742  34.494156   1.344951\n",
       "\n",
       "[2577 rows x 4 columns]"
      ]
     },
     "execution_count": 46,
     "metadata": {},
     "output_type": "execute_result"
    }
   ],
   "source": [
    "glad_diff"
   ]
  },
  {
   "cell_type": "code",
   "execution_count": 47,
   "metadata": {},
   "outputs": [],
   "source": [
    "test_data['glad'] = pd.merge(test_data, glad_sampled, on=[\"lat\", \"lon\"], how=\"left\")[\"b1\"]"
   ]
  },
  {
   "cell_type": "code",
   "execution_count": 48,
   "metadata": {},
   "outputs": [],
   "source": [
    "test_data.to_csv('test.csv')"
   ]
  },
  {
   "cell_type": "markdown",
   "metadata": {},
   "source": [
    "## **Evaluation Results**"
   ]
  },
  {
   "cell_type": "markdown",
   "metadata": {},
   "source": [
    "**Compute results**"
   ]
  },
  {
   "cell_type": "code",
   "execution_count": 49,
   "metadata": {},
   "outputs": [
    {
     "name": "stdout",
     "output_type": "stream",
     "text": [
      "Kenya: cop\n",
      "Kenya: esa\n",
      "Kenya: glad\n",
      "Kenya: harvest\n",
      "Tanzania_CEO_2019: cop\n",
      "Tanzania_CEO_2019: esa\n",
      "Tanzania_CEO_2019: glad\n",
      "Tanzania_CEO_2019: harvest\n",
      "Togo: cop\n",
      "Togo: esa\n",
      "Togo: glad\n",
      "Togo: harvest\n"
     ]
    }
   ],
   "source": [
    "for country, df in test_data.groupby(\"country\"):\n",
    "    for dataset in [\"cop\", \"esa\", \"glad\", 'harvest']:\n",
    "        print(country + \": \" + dataset)\n",
    "        # Remove na values\n",
    "        temp = df[[\"test_class\", dataset]].dropna()\n",
    "        report = classification_report(temp[\"test_class\"], temp[dataset], output_dict= True)     \n",
    "\n",
    "        results[country] = report_to_row(dataset, report, results[country])"
   ]
  },
  {
   "cell_type": "markdown",
   "metadata": {},
   "source": [
    "**Kenya**"
   ]
  },
  {
   "cell_type": "code",
   "execution_count": 50,
   "metadata": {},
   "outputs": [
    {
     "data": {
      "text/html": [
       "<div>\n",
       "<style scoped>\n",
       "    .dataframe tbody tr th:only-of-type {\n",
       "        vertical-align: middle;\n",
       "    }\n",
       "\n",
       "    .dataframe tbody tr th {\n",
       "        vertical-align: top;\n",
       "    }\n",
       "\n",
       "    .dataframe thead th {\n",
       "        text-align: right;\n",
       "    }\n",
       "</style>\n",
       "<table border=\"1\" class=\"dataframe\">\n",
       "  <thead>\n",
       "    <tr style=\"text-align: right;\">\n",
       "      <th></th>\n",
       "      <th>dataset</th>\n",
       "      <th>accuracy</th>\n",
       "      <th>crop_f1</th>\n",
       "      <th>crop_support</th>\n",
       "      <th>noncrop_support</th>\n",
       "      <th>crop_precision</th>\n",
       "      <th>crop_recall</th>\n",
       "      <th>noncrop_precision</th>\n",
       "      <th>noncrop_recall</th>\n",
       "    </tr>\n",
       "  </thead>\n",
       "  <tbody>\n",
       "    <tr>\n",
       "      <th>0</th>\n",
       "      <td>cop</td>\n",
       "      <td>0.908377</td>\n",
       "      <td>0.939446</td>\n",
       "      <td>571</td>\n",
       "      <td>193</td>\n",
       "      <td>0.928205</td>\n",
       "      <td>0.950963</td>\n",
       "      <td>0.843575</td>\n",
       "      <td>0.782383</td>\n",
       "    </tr>\n",
       "    <tr>\n",
       "      <th>0</th>\n",
       "      <td>esa</td>\n",
       "      <td>0.403141</td>\n",
       "      <td>0.341040</td>\n",
       "      <td>571</td>\n",
       "      <td>193</td>\n",
       "      <td>0.975207</td>\n",
       "      <td>0.206655</td>\n",
       "      <td>0.295490</td>\n",
       "      <td>0.984456</td>\n",
       "    </tr>\n",
       "    <tr>\n",
       "      <th>0</th>\n",
       "      <td>glad</td>\n",
       "      <td>0.839005</td>\n",
       "      <td>0.887259</td>\n",
       "      <td>571</td>\n",
       "      <td>193</td>\n",
       "      <td>0.930769</td>\n",
       "      <td>0.847636</td>\n",
       "      <td>0.643443</td>\n",
       "      <td>0.813472</td>\n",
       "    </tr>\n",
       "    <tr>\n",
       "      <th>0</th>\n",
       "      <td>harvest</td>\n",
       "      <td>0.952654</td>\n",
       "      <td>0.968054</td>\n",
       "      <td>520</td>\n",
       "      <td>177</td>\n",
       "      <td>0.974659</td>\n",
       "      <td>0.961538</td>\n",
       "      <td>0.891304</td>\n",
       "      <td>0.926554</td>\n",
       "    </tr>\n",
       "  </tbody>\n",
       "</table>\n",
       "</div>"
      ],
      "text/plain": [
       "   dataset  accuracy   crop_f1 crop_support noncrop_support  crop_precision  \\\n",
       "0      cop  0.908377  0.939446          571             193        0.928205   \n",
       "0      esa  0.403141  0.341040          571             193        0.975207   \n",
       "0     glad  0.839005  0.887259          571             193        0.930769   \n",
       "0  harvest  0.952654  0.968054          520             177        0.974659   \n",
       "\n",
       "   crop_recall  noncrop_precision  noncrop_recall  \n",
       "0     0.950963           0.843575        0.782383  \n",
       "0     0.206655           0.295490        0.984456  \n",
       "0     0.847636           0.643443        0.813472  \n",
       "0     0.961538           0.891304        0.926554  "
      ]
     },
     "execution_count": 50,
     "metadata": {},
     "output_type": "execute_result"
    }
   ],
   "source": [
    "results[\"Kenya\"]"
   ]
  },
  {
   "cell_type": "markdown",
   "metadata": {},
   "source": [
    "**Togo**"
   ]
  },
  {
   "cell_type": "code",
   "execution_count": 51,
   "metadata": {},
   "outputs": [
    {
     "data": {
      "text/html": [
       "<div>\n",
       "<style scoped>\n",
       "    .dataframe tbody tr th:only-of-type {\n",
       "        vertical-align: middle;\n",
       "    }\n",
       "\n",
       "    .dataframe tbody tr th {\n",
       "        vertical-align: top;\n",
       "    }\n",
       "\n",
       "    .dataframe thead th {\n",
       "        text-align: right;\n",
       "    }\n",
       "</style>\n",
       "<table border=\"1\" class=\"dataframe\">\n",
       "  <thead>\n",
       "    <tr style=\"text-align: right;\">\n",
       "      <th></th>\n",
       "      <th>dataset</th>\n",
       "      <th>accuracy</th>\n",
       "      <th>crop_f1</th>\n",
       "      <th>crop_support</th>\n",
       "      <th>noncrop_support</th>\n",
       "      <th>crop_precision</th>\n",
       "      <th>crop_recall</th>\n",
       "      <th>noncrop_precision</th>\n",
       "      <th>noncrop_recall</th>\n",
       "    </tr>\n",
       "  </thead>\n",
       "  <tbody>\n",
       "    <tr>\n",
       "      <th>0</th>\n",
       "      <td>cop</td>\n",
       "      <td>0.730114</td>\n",
       "      <td>0.541063</td>\n",
       "      <td>107</td>\n",
       "      <td>245</td>\n",
       "      <td>0.560000</td>\n",
       "      <td>0.523364</td>\n",
       "      <td>0.797619</td>\n",
       "      <td>0.820408</td>\n",
       "    </tr>\n",
       "    <tr>\n",
       "      <th>0</th>\n",
       "      <td>esa</td>\n",
       "      <td>0.792614</td>\n",
       "      <td>0.613757</td>\n",
       "      <td>107</td>\n",
       "      <td>245</td>\n",
       "      <td>0.707317</td>\n",
       "      <td>0.542056</td>\n",
       "      <td>0.818519</td>\n",
       "      <td>0.902041</td>\n",
       "    </tr>\n",
       "    <tr>\n",
       "      <th>0</th>\n",
       "      <td>glad</td>\n",
       "      <td>0.781250</td>\n",
       "      <td>0.596859</td>\n",
       "      <td>107</td>\n",
       "      <td>245</td>\n",
       "      <td>0.678571</td>\n",
       "      <td>0.532710</td>\n",
       "      <td>0.813433</td>\n",
       "      <td>0.889796</td>\n",
       "    </tr>\n",
       "    <tr>\n",
       "      <th>0</th>\n",
       "      <td>harvest</td>\n",
       "      <td>0.747159</td>\n",
       "      <td>0.659004</td>\n",
       "      <td>107</td>\n",
       "      <td>245</td>\n",
       "      <td>0.558442</td>\n",
       "      <td>0.803738</td>\n",
       "      <td>0.893939</td>\n",
       "      <td>0.722449</td>\n",
       "    </tr>\n",
       "  </tbody>\n",
       "</table>\n",
       "</div>"
      ],
      "text/plain": [
       "   dataset  accuracy   crop_f1 crop_support noncrop_support  crop_precision  \\\n",
       "0      cop  0.730114  0.541063          107             245        0.560000   \n",
       "0      esa  0.792614  0.613757          107             245        0.707317   \n",
       "0     glad  0.781250  0.596859          107             245        0.678571   \n",
       "0  harvest  0.747159  0.659004          107             245        0.558442   \n",
       "\n",
       "   crop_recall  noncrop_precision  noncrop_recall  \n",
       "0     0.523364           0.797619        0.820408  \n",
       "0     0.542056           0.818519        0.902041  \n",
       "0     0.532710           0.813433        0.889796  \n",
       "0     0.803738           0.893939        0.722449  "
      ]
     },
     "execution_count": 51,
     "metadata": {},
     "output_type": "execute_result"
    }
   ],
   "source": [
    "results[\"Togo\"]"
   ]
  },
  {
   "cell_type": "markdown",
   "metadata": {},
   "source": [
    "**Tanzania**"
   ]
  },
  {
   "cell_type": "code",
   "execution_count": 52,
   "metadata": {},
   "outputs": [
    {
     "data": {
      "text/html": [
       "<div>\n",
       "<style scoped>\n",
       "    .dataframe tbody tr th:only-of-type {\n",
       "        vertical-align: middle;\n",
       "    }\n",
       "\n",
       "    .dataframe tbody tr th {\n",
       "        vertical-align: top;\n",
       "    }\n",
       "\n",
       "    .dataframe thead th {\n",
       "        text-align: right;\n",
       "    }\n",
       "</style>\n",
       "<table border=\"1\" class=\"dataframe\">\n",
       "  <thead>\n",
       "    <tr style=\"text-align: right;\">\n",
       "      <th></th>\n",
       "      <th>dataset</th>\n",
       "      <th>accuracy</th>\n",
       "      <th>crop_f1</th>\n",
       "      <th>crop_support</th>\n",
       "      <th>noncrop_support</th>\n",
       "      <th>crop_precision</th>\n",
       "      <th>crop_recall</th>\n",
       "      <th>noncrop_precision</th>\n",
       "      <th>noncrop_recall</th>\n",
       "    </tr>\n",
       "  </thead>\n",
       "  <tbody>\n",
       "    <tr>\n",
       "      <th>0</th>\n",
       "      <td>cop</td>\n",
       "      <td>0.782694</td>\n",
       "      <td>0.651357</td>\n",
       "      <td>431</td>\n",
       "      <td>1106</td>\n",
       "      <td>0.592030</td>\n",
       "      <td>0.723898</td>\n",
       "      <td>0.882178</td>\n",
       "      <td>0.805606</td>\n",
       "    </tr>\n",
       "    <tr>\n",
       "      <th>0</th>\n",
       "      <td>esa</td>\n",
       "      <td>0.824984</td>\n",
       "      <td>0.706652</td>\n",
       "      <td>431</td>\n",
       "      <td>1106</td>\n",
       "      <td>0.666667</td>\n",
       "      <td>0.751740</td>\n",
       "      <td>0.898192</td>\n",
       "      <td>0.853526</td>\n",
       "    </tr>\n",
       "    <tr>\n",
       "      <th>0</th>\n",
       "      <td>glad</td>\n",
       "      <td>0.797007</td>\n",
       "      <td>0.647856</td>\n",
       "      <td>431</td>\n",
       "      <td>1106</td>\n",
       "      <td>0.630769</td>\n",
       "      <td>0.665893</td>\n",
       "      <td>0.866913</td>\n",
       "      <td>0.848101</td>\n",
       "    </tr>\n",
       "    <tr>\n",
       "      <th>0</th>\n",
       "      <td>harvest</td>\n",
       "      <td>0.784736</td>\n",
       "      <td>0.644397</td>\n",
       "      <td>431</td>\n",
       "      <td>1102</td>\n",
       "      <td>0.601610</td>\n",
       "      <td>0.693735</td>\n",
       "      <td>0.872587</td>\n",
       "      <td>0.820327</td>\n",
       "    </tr>\n",
       "  </tbody>\n",
       "</table>\n",
       "</div>"
      ],
      "text/plain": [
       "   dataset  accuracy   crop_f1 crop_support noncrop_support  crop_precision  \\\n",
       "0      cop  0.782694  0.651357          431            1106        0.592030   \n",
       "0      esa  0.824984  0.706652          431            1106        0.666667   \n",
       "0     glad  0.797007  0.647856          431            1106        0.630769   \n",
       "0  harvest  0.784736  0.644397          431            1102        0.601610   \n",
       "\n",
       "   crop_recall  noncrop_precision  noncrop_recall  \n",
       "0     0.723898           0.882178        0.805606  \n",
       "0     0.751740           0.898192        0.853526  \n",
       "0     0.665893           0.866913        0.848101  \n",
       "0     0.693735           0.872587        0.820327  "
      ]
     },
     "execution_count": 52,
     "metadata": {},
     "output_type": "execute_result"
    }
   ],
   "source": [
    "results[\"Tanzania_CEO_2019\"]"
   ]
  },
  {
   "attachments": {},
   "cell_type": "markdown",
   "metadata": {},
   "source": [
    "## ***TESTING ZONE***"
   ]
  },
  {
   "cell_type": "markdown",
   "metadata": {},
   "source": [
    "Codes of interest:\n",
    "* Kenya : KEN\n",
    "* Togo: TGO\n",
    "* Tanzania: TZA"
   ]
  },
  {
   "cell_type": "code",
   "execution_count": 86,
   "metadata": {},
   "outputs": [],
   "source": [
    "import rasterio as rio\n",
    "from rasterio.plot import show\n",
    "import pandas as pd"
   ]
  },
  {
   "cell_type": "code",
   "execution_count": 115,
   "metadata": {},
   "outputs": [],
   "source": [
    "ras = rio.open(\"../../harvest-maps/Harvest_Togo_Binary.tif\", 'r')\n",
    "test = pd.read_csv(\"../data/datasets/Togo.csv\")\n",
    "\n",
    "test = gpd.GeoDataFrame(test, geometry=gpd.points_from_xy(test.lon, test.lat), crs='epsg:4326')\n",
    "test = test.loc[test['subset']=='testing']\n",
    "test['binary'] = test['class_probability'].apply(lambda x: 1 if x >= 0.5 else 0)\n"
   ]
  },
  {
   "cell_type": "code",
   "execution_count": 116,
   "metadata": {},
   "outputs": [
    {
     "data": {
      "text/html": [
       "<div>\n",
       "<style scoped>\n",
       "    .dataframe tbody tr th:only-of-type {\n",
       "        vertical-align: middle;\n",
       "    }\n",
       "\n",
       "    .dataframe tbody tr th {\n",
       "        vertical-align: top;\n",
       "    }\n",
       "\n",
       "    .dataframe thead th {\n",
       "        text-align: right;\n",
       "    }\n",
       "</style>\n",
       "<table border=\"1\" class=\"dataframe\">\n",
       "  <thead>\n",
       "    <tr style=\"text-align: right;\">\n",
       "      <th></th>\n",
       "      <th>lon</th>\n",
       "      <th>lat</th>\n",
       "      <th>start_date</th>\n",
       "      <th>end_date</th>\n",
       "      <th>source</th>\n",
       "      <th>class_probability</th>\n",
       "      <th>num_labelers</th>\n",
       "      <th>subset</th>\n",
       "      <th>analysis_duration</th>\n",
       "      <th>email</th>\n",
       "      <th>country</th>\n",
       "      <th>dataset</th>\n",
       "      <th>eo_data</th>\n",
       "      <th>eo_lon</th>\n",
       "      <th>eo_lat</th>\n",
       "      <th>eo_file</th>\n",
       "      <th>eo_status</th>\n",
       "      <th>geometry</th>\n",
       "      <th>binary</th>\n",
       "    </tr>\n",
       "  </thead>\n",
       "  <tbody>\n",
       "    <tr>\n",
       "      <th>1276</th>\n",
       "      <td>1.172471</td>\n",
       "      <td>9.875907</td>\n",
       "      <td>2019-01-01</td>\n",
       "      <td>2020-12-31</td>\n",
       "      <td>random_sample_hrk,random_sample_cn,BB_random_s...</td>\n",
       "      <td>0.00</td>\n",
       "      <td>5</td>\n",
       "      <td>testing</td>\n",
       "      <td>NaN</td>\n",
       "      <td>NaN</td>\n",
       "      <td>Togo</td>\n",
       "      <td>Togo</td>\n",
       "      <td>[[-14.830639001130564, -21.41569953197798, 127...</td>\n",
       "      <td>1.172436</td>\n",
       "      <td>9.875943</td>\n",
       "      <td>min_lat=9.8752_min_lon=1.1717_max_lat=9.8766_m...</td>\n",
       "      <td>eo_data_complete</td>\n",
       "      <td>POINT (1.17247 9.87591)</td>\n",
       "      <td>0</td>\n",
       "    </tr>\n",
       "    <tr>\n",
       "      <th>1277</th>\n",
       "      <td>1.374695</td>\n",
       "      <td>9.180105</td>\n",
       "      <td>2019-01-01</td>\n",
       "      <td>2020-12-31</td>\n",
       "      <td>random_sample_hrk,random_sample_cn,BB_random_s...</td>\n",
       "      <td>0.25</td>\n",
       "      <td>5</td>\n",
       "      <td>testing</td>\n",
       "      <td>NaN</td>\n",
       "      <td>NaN</td>\n",
       "      <td>Togo</td>\n",
       "      <td>Togo</td>\n",
       "      <td>[[-10.125282616705093, -18.974100140490147, 11...</td>\n",
       "      <td>1.374737</td>\n",
       "      <td>9.180108</td>\n",
       "      <td>min_lat=9.1794_min_lon=1.374_max_lat=9.1808_ma...</td>\n",
       "      <td>eo_data_complete</td>\n",
       "      <td>POINT (1.37469 9.18011)</td>\n",
       "      <td>0</td>\n",
       "    </tr>\n",
       "    <tr>\n",
       "      <th>1278</th>\n",
       "      <td>1.196385</td>\n",
       "      <td>9.275314</td>\n",
       "      <td>2019-01-01</td>\n",
       "      <td>2020-12-31</td>\n",
       "      <td>random_sample_hrk,random_sample_cn,BB_random_s...</td>\n",
       "      <td>0.00</td>\n",
       "      <td>5</td>\n",
       "      <td>testing</td>\n",
       "      <td>NaN</td>\n",
       "      <td>NaN</td>\n",
       "      <td>Togo</td>\n",
       "      <td>Togo</td>\n",
       "      <td>[[-7.471514396510763, -13.638469883967932, 116...</td>\n",
       "      <td>1.196421</td>\n",
       "      <td>9.275330</td>\n",
       "      <td>min_lat=9.2746_min_lon=1.1957_max_lat=9.276_ma...</td>\n",
       "      <td>eo_data_complete</td>\n",
       "      <td>POINT (1.19639 9.27531)</td>\n",
       "      <td>0</td>\n",
       "    </tr>\n",
       "    <tr>\n",
       "      <th>1279</th>\n",
       "      <td>0.705167</td>\n",
       "      <td>7.346575</td>\n",
       "      <td>2019-01-01</td>\n",
       "      <td>2020-12-31</td>\n",
       "      <td>random_sample_hrk,random_sample_cn,BB_random_s...</td>\n",
       "      <td>0.00</td>\n",
       "      <td>5</td>\n",
       "      <td>testing</td>\n",
       "      <td>NaN</td>\n",
       "      <td>NaN</td>\n",
       "      <td>Togo</td>\n",
       "      <td>Togo</td>\n",
       "      <td>[[-7.473177435466951, -13.969861171679964, 106...</td>\n",
       "      <td>0.705133</td>\n",
       "      <td>7.346557</td>\n",
       "      <td>min_lat=7.3459_min_lon=0.7044_max_lat=7.3473_m...</td>\n",
       "      <td>eo_data_complete</td>\n",
       "      <td>POINT (0.70517 7.34658)</td>\n",
       "      <td>0</td>\n",
       "    </tr>\n",
       "    <tr>\n",
       "      <th>1280</th>\n",
       "      <td>0.629817</td>\n",
       "      <td>6.777337</td>\n",
       "      <td>2019-01-01</td>\n",
       "      <td>2020-12-31</td>\n",
       "      <td>random_sample_hrk,random_sample_cn,BB_random_s...</td>\n",
       "      <td>0.25</td>\n",
       "      <td>5</td>\n",
       "      <td>testing</td>\n",
       "      <td>NaN</td>\n",
       "      <td>NaN</td>\n",
       "      <td>Togo</td>\n",
       "      <td>Togo</td>\n",
       "      <td>[[-7.924904168593527, -14.50019807859041, 1200...</td>\n",
       "      <td>0.629854</td>\n",
       "      <td>6.777295</td>\n",
       "      <td>min_lat=6.7766_min_lon=0.6291_max_lat=6.7781_m...</td>\n",
       "      <td>eo_data_complete</td>\n",
       "      <td>POINT (0.62982 6.77734)</td>\n",
       "      <td>0</td>\n",
       "    </tr>\n",
       "  </tbody>\n",
       "</table>\n",
       "</div>"
      ],
      "text/plain": [
       "           lon       lat  start_date    end_date  \\\n",
       "1276  1.172471  9.875907  2019-01-01  2020-12-31   \n",
       "1277  1.374695  9.180105  2019-01-01  2020-12-31   \n",
       "1278  1.196385  9.275314  2019-01-01  2020-12-31   \n",
       "1279  0.705167  7.346575  2019-01-01  2020-12-31   \n",
       "1280  0.629817  6.777337  2019-01-01  2020-12-31   \n",
       "\n",
       "                                                 source  class_probability  \\\n",
       "1276  random_sample_hrk,random_sample_cn,BB_random_s...               0.00   \n",
       "1277  random_sample_hrk,random_sample_cn,BB_random_s...               0.25   \n",
       "1278  random_sample_hrk,random_sample_cn,BB_random_s...               0.00   \n",
       "1279  random_sample_hrk,random_sample_cn,BB_random_s...               0.00   \n",
       "1280  random_sample_hrk,random_sample_cn,BB_random_s...               0.25   \n",
       "\n",
       "      num_labelers   subset  analysis_duration  email country dataset  \\\n",
       "1276             5  testing                NaN    NaN    Togo    Togo   \n",
       "1277             5  testing                NaN    NaN    Togo    Togo   \n",
       "1278             5  testing                NaN    NaN    Togo    Togo   \n",
       "1279             5  testing                NaN    NaN    Togo    Togo   \n",
       "1280             5  testing                NaN    NaN    Togo    Togo   \n",
       "\n",
       "                                                eo_data    eo_lon    eo_lat  \\\n",
       "1276  [[-14.830639001130564, -21.41569953197798, 127...  1.172436  9.875943   \n",
       "1277  [[-10.125282616705093, -18.974100140490147, 11...  1.374737  9.180108   \n",
       "1278  [[-7.471514396510763, -13.638469883967932, 116...  1.196421  9.275330   \n",
       "1279  [[-7.473177435466951, -13.969861171679964, 106...  0.705133  7.346557   \n",
       "1280  [[-7.924904168593527, -14.50019807859041, 1200...  0.629854  6.777295   \n",
       "\n",
       "                                                eo_file         eo_status  \\\n",
       "1276  min_lat=9.8752_min_lon=1.1717_max_lat=9.8766_m...  eo_data_complete   \n",
       "1277  min_lat=9.1794_min_lon=1.374_max_lat=9.1808_ma...  eo_data_complete   \n",
       "1278  min_lat=9.2746_min_lon=1.1957_max_lat=9.276_ma...  eo_data_complete   \n",
       "1279  min_lat=7.3459_min_lon=0.7044_max_lat=7.3473_m...  eo_data_complete   \n",
       "1280  min_lat=6.7766_min_lon=0.6291_max_lat=6.7781_m...  eo_data_complete   \n",
       "\n",
       "                     geometry  binary  \n",
       "1276  POINT (1.17247 9.87591)       0  \n",
       "1277  POINT (1.37469 9.18011)       0  \n",
       "1278  POINT (1.19639 9.27531)       0  \n",
       "1279  POINT (0.70517 7.34658)       0  \n",
       "1280  POINT (0.62982 6.77734)       0  "
      ]
     },
     "execution_count": 116,
     "metadata": {},
     "output_type": "execute_result"
    }
   ],
   "source": [
    "test.head()"
   ]
  },
  {
   "cell_type": "code",
   "execution_count": 129,
   "metadata": {},
   "outputs": [],
   "source": [
    "\n",
    "def create_point2(row):\n",
    "    geom = ee.Geometry.Point(row.lon, row.lat)\n",
    "    prop = dict(row[['binary']])\n",
    "\n",
    "    return ee.Feature(geom, prop)\n",
    "\n",
    "proj_coll = ee.FeatureCollection(test.apply(create_point2, axis=1).to_list())"
   ]
  },
  {
   "cell_type": "code",
   "execution_count": 130,
   "metadata": {},
   "outputs": [],
   "source": [
    "togo = ee.Image(\"projects/sat-io/open-datasets/nasa-harvest/togo_cropland_binary\")"
   ]
  },
  {
   "cell_type": "code",
   "execution_count": 136,
   "metadata": {},
   "outputs": [],
   "source": [
    "togo = togo.reproject(crs='epsg:4326', scale=10)"
   ]
  },
  {
   "cell_type": "code",
   "execution_count": 137,
   "metadata": {},
   "outputs": [],
   "source": [
    "sampled = ee.Image(togo).sampleRegions(\n",
    "        collection=proj_coll,\n",
    "        geometries=True\n",
    "    )\n",
    "sampled = geemap.ee_to_gdf(sampled)\n"
   ]
  },
  {
   "cell_type": "code",
   "execution_count": 138,
   "metadata": {},
   "outputs": [
    {
     "data": {
      "text/html": [
       "<div>\n",
       "<style scoped>\n",
       "    .dataframe tbody tr th:only-of-type {\n",
       "        vertical-align: middle;\n",
       "    }\n",
       "\n",
       "    .dataframe tbody tr th {\n",
       "        vertical-align: top;\n",
       "    }\n",
       "\n",
       "    .dataframe thead th {\n",
       "        text-align: right;\n",
       "    }\n",
       "</style>\n",
       "<table border=\"1\" class=\"dataframe\">\n",
       "  <thead>\n",
       "    <tr style=\"text-align: right;\">\n",
       "      <th></th>\n",
       "      <th>geometry</th>\n",
       "      <th>b1</th>\n",
       "      <th>binary</th>\n",
       "    </tr>\n",
       "  </thead>\n",
       "  <tbody>\n",
       "    <tr>\n",
       "      <th>0</th>\n",
       "      <td>POINT (1.17244 9.87594)</td>\n",
       "      <td>0</td>\n",
       "      <td>0</td>\n",
       "    </tr>\n",
       "    <tr>\n",
       "      <th>1</th>\n",
       "      <td>POINT (1.37474 9.18011)</td>\n",
       "      <td>0</td>\n",
       "      <td>0</td>\n",
       "    </tr>\n",
       "    <tr>\n",
       "      <th>2</th>\n",
       "      <td>POINT (1.19642 9.27533)</td>\n",
       "      <td>0</td>\n",
       "      <td>0</td>\n",
       "    </tr>\n",
       "    <tr>\n",
       "      <th>3</th>\n",
       "      <td>POINT (0.70513 7.34656)</td>\n",
       "      <td>0</td>\n",
       "      <td>0</td>\n",
       "    </tr>\n",
       "    <tr>\n",
       "      <th>4</th>\n",
       "      <td>POINT (0.62985 6.77729)</td>\n",
       "      <td>0</td>\n",
       "      <td>0</td>\n",
       "    </tr>\n",
       "    <tr>\n",
       "      <th>...</th>\n",
       "      <td>...</td>\n",
       "      <td>...</td>\n",
       "      <td>...</td>\n",
       "    </tr>\n",
       "    <tr>\n",
       "      <th>350</th>\n",
       "      <td>POINT (1.50248 6.47277)</td>\n",
       "      <td>1</td>\n",
       "      <td>1</td>\n",
       "    </tr>\n",
       "    <tr>\n",
       "      <th>351</th>\n",
       "      <td>POINT (0.04828 11.03764)</td>\n",
       "      <td>1</td>\n",
       "      <td>1</td>\n",
       "    </tr>\n",
       "    <tr>\n",
       "      <th>352</th>\n",
       "      <td>POINT (1.49385 9.01149)</td>\n",
       "      <td>0</td>\n",
       "      <td>0</td>\n",
       "    </tr>\n",
       "    <tr>\n",
       "      <th>353</th>\n",
       "      <td>POINT (1.39109 9.13861)</td>\n",
       "      <td>0</td>\n",
       "      <td>0</td>\n",
       "    </tr>\n",
       "    <tr>\n",
       "      <th>354</th>\n",
       "      <td>POINT (1.34491 9.18676)</td>\n",
       "      <td>0</td>\n",
       "      <td>0</td>\n",
       "    </tr>\n",
       "  </tbody>\n",
       "</table>\n",
       "<p>355 rows × 3 columns</p>\n",
       "</div>"
      ],
      "text/plain": [
       "                     geometry  b1  binary\n",
       "0     POINT (1.17244 9.87594)   0       0\n",
       "1     POINT (1.37474 9.18011)   0       0\n",
       "2     POINT (1.19642 9.27533)   0       0\n",
       "3     POINT (0.70513 7.34656)   0       0\n",
       "4     POINT (0.62985 6.77729)   0       0\n",
       "..                        ...  ..     ...\n",
       "350   POINT (1.50248 6.47277)   1       1\n",
       "351  POINT (0.04828 11.03764)   1       1\n",
       "352   POINT (1.49385 9.01149)   0       0\n",
       "353   POINT (1.39109 9.13861)   0       0\n",
       "354   POINT (1.34491 9.18676)   0       0\n",
       "\n",
       "[355 rows x 3 columns]"
      ]
     },
     "execution_count": 138,
     "metadata": {},
     "output_type": "execute_result"
    }
   ],
   "source": [
    "sampled"
   ]
  },
  {
   "cell_type": "code",
   "execution_count": 139,
   "metadata": {},
   "outputs": [],
   "source": [
    "report = classification_report(test['binary'], sampled['b1'], output_dict=True)\n",
    "res = pd.DataFrame(data = { \n",
    "        \"accuracy\": report[\"accuracy\"], \n",
    "        \"crop_f1\": report[\"1\"][\"f1-score\"], \n",
    "        \"crop_support\": report[\"1\"][\"support\"], \n",
    "        \"noncrop_support\": report[\"0\"][\"support\"], \n",
    "        \"crop_precision\": report[\"1\"][\"precision\"], \n",
    "        \"crop_recall\": report[\"1\"][\"recall\"], \n",
    "        \"noncrop_precision\": report[\"0\"][\"precision\"], \n",
    "        \"noncrop_recall\": report[\"0\"][\"recall\"]\n",
    "        }, index=[0])"
   ]
  },
  {
   "cell_type": "code",
   "execution_count": 140,
   "metadata": {},
   "outputs": [
    {
     "data": {
      "text/html": [
       "<div>\n",
       "<style scoped>\n",
       "    .dataframe tbody tr th:only-of-type {\n",
       "        vertical-align: middle;\n",
       "    }\n",
       "\n",
       "    .dataframe tbody tr th {\n",
       "        vertical-align: top;\n",
       "    }\n",
       "\n",
       "    .dataframe thead th {\n",
       "        text-align: right;\n",
       "    }\n",
       "</style>\n",
       "<table border=\"1\" class=\"dataframe\">\n",
       "  <thead>\n",
       "    <tr style=\"text-align: right;\">\n",
       "      <th></th>\n",
       "      <th>accuracy</th>\n",
       "      <th>crop_f1</th>\n",
       "      <th>crop_support</th>\n",
       "      <th>noncrop_support</th>\n",
       "      <th>crop_precision</th>\n",
       "      <th>crop_recall</th>\n",
       "      <th>noncrop_precision</th>\n",
       "      <th>noncrop_recall</th>\n",
       "    </tr>\n",
       "  </thead>\n",
       "  <tbody>\n",
       "    <tr>\n",
       "      <th>0</th>\n",
       "      <td>0.780282</td>\n",
       "      <td>0.745098</td>\n",
       "      <td>152</td>\n",
       "      <td>203</td>\n",
       "      <td>0.74026</td>\n",
       "      <td>0.75</td>\n",
       "      <td>0.810945</td>\n",
       "      <td>0.802956</td>\n",
       "    </tr>\n",
       "  </tbody>\n",
       "</table>\n",
       "</div>"
      ],
      "text/plain": [
       "   accuracy   crop_f1  crop_support  noncrop_support  crop_precision  \\\n",
       "0  0.780282  0.745098           152              203         0.74026   \n",
       "\n",
       "   crop_recall  noncrop_precision  noncrop_recall  \n",
       "0         0.75           0.810945        0.802956  "
      ]
     },
     "execution_count": 140,
     "metadata": {},
     "output_type": "execute_result"
    }
   ],
   "source": [
    "res"
   ]
  },
  {
   "cell_type": "code",
   "execution_count": null,
   "metadata": {},
   "outputs": [],
   "source": []
  }
 ],
 "metadata": {
  "kernelspec": {
   "display_name": "intercomparison",
   "language": "python",
   "name": "python3"
  },
  "language_info": {
   "codemirror_mode": {
    "name": "ipython",
    "version": 3
   },
   "file_extension": ".py",
   "mimetype": "text/x-python",
   "name": "python",
   "nbconvert_exporter": "python",
   "pygments_lexer": "ipython3",
   "version": "3.8.8"
  },
  "orig_nbformat": 4,
  "vscode": {
   "interpreter": {
    "hash": "b9a057a3c2bc11d9fb1a09bad675557d69c9743adf6ae74a67a8c76be0d35d72"
   }
  }
 },
 "nbformat": 4,
 "nbformat_minor": 2
}
