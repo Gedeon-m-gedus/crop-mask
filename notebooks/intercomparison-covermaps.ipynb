{
 "cells": [
  {
   "cell_type": "markdown",
   "metadata": {},
   "source": [
    "# Covermap Comparison\n",
    "\n",
    "**Author:** Adam Yang (ayang115@umd.edu)\n",
    "\n",
    "**Description:** Compares datasets against test sets\n",
    "\n",
    "**Crop Maps Used:** Harvest Togo & Kenya, Copernicus Land Cover, ESA CCI Land Cover Africa, GLAD Global Cropland Extent"
   ]
  },
  {
   "cell_type": "code",
   "execution_count": 1,
   "metadata": {},
   "outputs": [
    {
     "name": "stderr",
     "output_type": "stream",
     "text": [
      "c:\\Users\\adamf\\anaconda3\\envs\\intercomparison\\lib\\site-packages\\geopandas\\_compat.py:112: UserWarning: The Shapely GEOS version (3.8.0-CAPI-1.13.1 ) is incompatible with the GEOS version PyGEOS was compiled with (3.10.4-CAPI-1.16.2). Conversions between both will be slow.\n",
      "  warnings.warn(\n"
     ]
    }
   ],
   "source": [
    "import os\n",
    "import geemap\n",
    "import cartopy.io.shapereader as shpreader \n",
    "import matplotlib.pyplot as plt\n",
    "import pandas as pd\n",
    "import numpy as np\n",
    "import geopandas as gpd\n",
    "import rasterio as rio\n",
    "\n",
    "from pathlib import Path\n",
    "from shapely import wkt\n",
    "from sklearn.metrics import classification_report \n",
    "from shapely.geometry import Point, MultiPolygon, GeometryCollection \n"
   ]
  },
  {
   "cell_type": "code",
   "execution_count": 2,
   "metadata": {},
   "outputs": [
    {
     "data": {
      "text/html": [
       "<p>To authorize access needed by Earth Engine, open the following\n",
       "        URL in a web browser and follow the instructions:</p>\n",
       "        <p><a href=https://code.earthengine.google.com/client-auth?scopes=https%3A//www.googleapis.com/auth/earthengine%20https%3A//www.googleapis.com/auth/devstorage.full_control&request_id=8Y2S4Cpmt82FRSvIpbzAMATZKi9wLsx6GdKibTVCp38&tc=qT8vah9QXKfk5-kPHa6YFenK5ayaf3yjL117ywCH10k&cc=Wlv99N7-13PiD1g9qBDTuHJPhax-OYwvux5sR3r1CU8>https://code.earthengine.google.com/client-auth?scopes=https%3A//www.googleapis.com/auth/earthengine%20https%3A//www.googleapis.com/auth/devstorage.full_control&request_id=8Y2S4Cpmt82FRSvIpbzAMATZKi9wLsx6GdKibTVCp38&tc=qT8vah9QXKfk5-kPHa6YFenK5ayaf3yjL117ywCH10k&cc=Wlv99N7-13PiD1g9qBDTuHJPhax-OYwvux5sR3r1CU8</a></p>\n",
       "        <p>The authorization workflow will generate a code, which you should paste in the box below.</p>\n",
       "        "
      ],
      "text/plain": [
       "<IPython.core.display.HTML object>"
      ]
     },
     "metadata": {},
     "output_type": "display_data"
    },
    {
     "name": "stdout",
     "output_type": "stream",
     "text": [
      "\n",
      "Successfully saved authorization token.\n"
     ]
    }
   ],
   "source": [
    "import ee\n",
    "\n",
    "ee.Authenticate()\n",
    "\n",
    "ee.Initialize()"
   ]
  },
  {
   "attachments": {},
   "cell_type": "markdown",
   "metadata": {},
   "source": [
    "### **Setup**"
   ]
  },
  {
   "cell_type": "markdown",
   "metadata": {},
   "source": [
    "**Constants**"
   ]
  },
  {
   "cell_type": "code",
   "execution_count": 3,
   "metadata": {},
   "outputs": [],
   "source": [
    "TEST_COUNTRIES = [\"Kenya\", \"Togo\", \"Tanzania_CEO_2019\"]\n",
    "DATA_PATH = \"../data/datasets/\"\n",
    "TEST_CODE = {\"Kenya\": \"KEN\", \"Togo\": \"TGO\", \"Tanzania_CEO_2019\": \"TZA\"} # for NE boundaries"
   ]
  },
  {
   "cell_type": "code",
   "execution_count": 4,
   "metadata": {},
   "outputs": [],
   "source": [
    "DATASET_PATH = Path(DATA_PATH).glob(\"*\")\n",
    "TARGET_PATHS = [p for p in DATASET_PATH if p.stem in TEST_COUNTRIES] # test data path"
   ]
  },
  {
   "cell_type": "code",
   "execution_count": 5,
   "metadata": {},
   "outputs": [],
   "source": [
    "# country boundaries\n",
    "NE_GDF = gpd.read_file(\n",
    "    shpreader.natural_earth(\n",
    "        resolution='10m', \n",
    "        category='cultural', \n",
    "        name='admin_1_states_provinces')\n",
    ")\n"
   ]
  },
  {
   "cell_type": "markdown",
   "metadata": {},
   "source": [
    "**Functions**"
   ]
  },
  {
   "cell_type": "code",
   "execution_count": 6,
   "metadata": {},
   "outputs": [],
   "source": [
    "# Remaps classes to crop/noncrop \n",
    "def map_values(val, value_for_crop):\n",
    "    if val == value_for_crop:\n",
    "        return 1\n",
    "    else:\n",
    "        return 0"
   ]
  },
  {
   "cell_type": "code",
   "execution_count": 36,
   "metadata": {},
   "outputs": [],
   "source": [
    "# Function used in map function to extract from feature collection\n",
    "def raster_extraction(image, resolution, f_collection):\n",
    "    feature = image.sampleRegions(\n",
    "        collection = f_collection,\n",
    "        scale = resolution,\n",
    "    )\n",
    "    return feature"
   ]
  },
  {
   "cell_type": "code",
   "execution_count": 8,
   "metadata": {},
   "outputs": [],
   "source": [
    "# Convert sklearn classification report dict to \n",
    "def generate_report(dataset, report):\n",
    "    return pd.DataFrame(data = {\n",
    "        \"dataset\": dataset, \n",
    "        \"accuracy\": report[\"accuracy\"], \n",
    "        \"crop_f1\": report[\"1\"][\"f1-score\"], \n",
    "        \"crop_support\": report[\"1\"][\"support\"], \n",
    "        \"noncrop_support\": report[\"0\"][\"support\"], \n",
    "        \"crop_precision\": report[\"1\"][\"precision\"], \n",
    "        \"crop_recall\": report[\"1\"][\"recall\"], \n",
    "        \"noncrop_precision\": report[\"0\"][\"precision\"], \n",
    "        \"noncrop_recall\": report[\"0\"][\"recall\"]\n",
    "        }, index=[0])\n",
    "    "
   ]
  },
  {
   "cell_type": "code",
   "execution_count": 9,
   "metadata": {},
   "outputs": [],
   "source": [
    "# Creates ee.Feature from longitude and latitude coordinates from a dataframe\n",
    "def create_point(row):\n",
    "    geom = ee.Geometry.Point(row.lon, row.lat)\n",
    "    prop = dict(row[['lon', 'lat', 'test_class']])\n",
    "\n",
    "    return ee.Feature(geom, prop)"
   ]
  },
  {
   "cell_type": "code",
   "execution_count": 10,
   "metadata": {},
   "outputs": [],
   "source": [
    "# filters out data in gdf that is not within country bounds \n",
    "def filter_by_bounds(country: str, gdf: gpd.GeoDataFrame):\n",
    "    boundary = NE_GDF.loc[NE_GDF['adm1_code'].str.startswith(country), :].copy()\n",
    "\n",
    "    if boundary.crs == None:\n",
    "        boundary = boundary.set_crs('epsg:4326')\n",
    "    if boundary.crs != 'epsg:4326':\n",
    "        boundary = boundary.to_crs('epsg:4326')\n",
    "\n",
    "    boundary = GeometryCollection([x for x in boundary['geometry']])\n",
    "\n",
    "    mask = gdf.within(boundary)\n",
    "    filtered = gdf.loc[mask].copy()\n",
    "\n",
    "    return filtered"
   ]
  },
  {
   "attachments": {},
   "cell_type": "markdown",
   "metadata": {},
   "source": [
    "### **Generate Test Data**"
   ]
  },
  {
   "cell_type": "code",
   "execution_count": 11,
   "metadata": {},
   "outputs": [],
   "source": [
    "#create a testing geodataframe\n",
    "def generate_test_data(target_paths: str):\n",
    "    test_gdf = gpd.GeoDataFrame(\n",
    "        columns=['lat', 'lon', 'country', 'test_class', 'geometry'], \n",
    "        crs = 'epsg:4326')\n",
    "\n",
    "    test_set = []\n",
    "    \n",
    "    for p in target_paths:\n",
    "        # Set dict key name\n",
    "        key = p.stem\n",
    "\n",
    "        # Read in data and extract test values and points \n",
    "        df = pd.read_csv(p)\n",
    "        df = df.loc[df['subset']=='testing']\n",
    "        df = gpd.GeoDataFrame(df, geometry=gpd.points_from_xy(df.lon, df.lat), crs='epsg:4326')\n",
    "\n",
    "        # binarize\n",
    "        df['test_class'] = df['class_probability'].apply(lambda x: 1 if x >= 0.5 else 0)\n",
    "\n",
    "        df['country'] = key\n",
    "\n",
    "        df = filter_by_bounds(TEST_CODE[key], df)\n",
    "\n",
    "        test_set.append(df)\n",
    "\n",
    "    return pd.concat(test_set)"
   ]
  },
  {
   "cell_type": "code",
   "execution_count": 12,
   "metadata": {},
   "outputs": [],
   "source": [
    "# test_data = generate_test_data(TARGET_PATHS)"
   ]
  },
  {
   "cell_type": "code",
   "execution_count": 13,
   "metadata": {},
   "outputs": [],
   "source": [
    "# test_data.to_csv('../../intercomparison-data/test_data.csv')"
   ]
  },
  {
   "cell_type": "code",
   "execution_count": 14,
   "metadata": {},
   "outputs": [],
   "source": [
    "test_data = pd.read_csv(\"../../intercomparison-data/test_data.csv\").drop(\"Unnamed: 0\", axis=1)\n",
    "test_data[\"geometry\"] = test_data[\"geometry\"].apply(wkt.loads)\n",
    "test_data = gpd.GeoDataFrame(test_data, crs=\"epsg:4326\")"
   ]
  },
  {
   "cell_type": "code",
   "execution_count": 15,
   "metadata": {},
   "outputs": [
    {
     "data": {
      "text/html": [
       "<div>\n",
       "<style scoped>\n",
       "    .dataframe tbody tr th:only-of-type {\n",
       "        vertical-align: middle;\n",
       "    }\n",
       "\n",
       "    .dataframe tbody tr th {\n",
       "        vertical-align: top;\n",
       "    }\n",
       "\n",
       "    .dataframe thead th {\n",
       "        text-align: right;\n",
       "    }\n",
       "</style>\n",
       "<table border=\"1\" class=\"dataframe\">\n",
       "  <thead>\n",
       "    <tr style=\"text-align: right;\">\n",
       "      <th></th>\n",
       "      <th>lon</th>\n",
       "      <th>lat</th>\n",
       "      <th>start_date</th>\n",
       "      <th>end_date</th>\n",
       "      <th>source</th>\n",
       "      <th>class_probability</th>\n",
       "      <th>num_labelers</th>\n",
       "      <th>subset</th>\n",
       "      <th>analysis_duration</th>\n",
       "      <th>email</th>\n",
       "      <th>country</th>\n",
       "      <th>dataset</th>\n",
       "      <th>eo_data</th>\n",
       "      <th>eo_lon</th>\n",
       "      <th>eo_lat</th>\n",
       "      <th>eo_file</th>\n",
       "      <th>eo_status</th>\n",
       "      <th>geometry</th>\n",
       "      <th>test_class</th>\n",
       "    </tr>\n",
       "  </thead>\n",
       "  <tbody>\n",
       "    <tr>\n",
       "      <th>0</th>\n",
       "      <td>34.386282</td>\n",
       "      <td>0.725122</td>\n",
       "      <td>2019-01-01</td>\n",
       "      <td>2020-12-31</td>\n",
       "      <td>noncrop_labels_v2</td>\n",
       "      <td>0.0</td>\n",
       "      <td>1</td>\n",
       "      <td>testing</td>\n",
       "      <td>NaN</td>\n",
       "      <td>NaN</td>\n",
       "      <td>Kenya</td>\n",
       "      <td>Kenya</td>\n",
       "      <td>[[-11.74174313771244, -16.760872534791257, 952...</td>\n",
       "      <td>34.386296</td>\n",
       "      <td>0.725165</td>\n",
       "      <td>min_lat=0.7244_min_lon=34.3856_max_lat=0.7258_...</td>\n",
       "      <td>eo_data_complete</td>\n",
       "      <td>POINT (34.38628 0.72512)</td>\n",
       "      <td>0</td>\n",
       "    </tr>\n",
       "    <tr>\n",
       "      <th>1</th>\n",
       "      <td>34.466496</td>\n",
       "      <td>0.621939</td>\n",
       "      <td>2019-01-01</td>\n",
       "      <td>2020-12-31</td>\n",
       "      <td>noncrop_labels_v2</td>\n",
       "      <td>0.0</td>\n",
       "      <td>1</td>\n",
       "      <td>testing</td>\n",
       "      <td>NaN</td>\n",
       "      <td>NaN</td>\n",
       "      <td>Kenya</td>\n",
       "      <td>Kenya</td>\n",
       "      <td>[[-6.565833796243928, -12.449147022074829, 951...</td>\n",
       "      <td>34.466516</td>\n",
       "      <td>0.621949</td>\n",
       "      <td>min_lat=0.6212_min_lon=34.4658_max_lat=0.6227_...</td>\n",
       "      <td>eo_data_complete</td>\n",
       "      <td>POINT (34.46650 0.62194)</td>\n",
       "      <td>0</td>\n",
       "    </tr>\n",
       "    <tr>\n",
       "      <th>2</th>\n",
       "      <td>34.054859</td>\n",
       "      <td>0.226497</td>\n",
       "      <td>2019-01-01</td>\n",
       "      <td>2020-12-31</td>\n",
       "      <td>noncrop_labels_v2</td>\n",
       "      <td>0.0</td>\n",
       "      <td>1</td>\n",
       "      <td>testing</td>\n",
       "      <td>NaN</td>\n",
       "      <td>NaN</td>\n",
       "      <td>Kenya</td>\n",
       "      <td>Kenya</td>\n",
       "      <td>[[-9.902949034787321, -15.70680808103578, 1174...</td>\n",
       "      <td>34.054818</td>\n",
       "      <td>0.226510</td>\n",
       "      <td>min_lat=0.2258_min_lon=34.0541_max_lat=0.2272_...</td>\n",
       "      <td>eo_data_complete</td>\n",
       "      <td>POINT (34.05486 0.22650)</td>\n",
       "      <td>0</td>\n",
       "    </tr>\n",
       "    <tr>\n",
       "      <th>3</th>\n",
       "      <td>33.951959</td>\n",
       "      <td>0.096834</td>\n",
       "      <td>2019-01-01</td>\n",
       "      <td>2020-12-31</td>\n",
       "      <td>noncrop_labels_v2</td>\n",
       "      <td>0.0</td>\n",
       "      <td>1</td>\n",
       "      <td>testing</td>\n",
       "      <td>NaN</td>\n",
       "      <td>NaN</td>\n",
       "      <td>Kenya</td>\n",
       "      <td>Kenya</td>\n",
       "      <td>[[-14.47299462942356, -17.955564415668587, 106...</td>\n",
       "      <td>33.951961</td>\n",
       "      <td>0.096793</td>\n",
       "      <td>min_lat=0.0961_min_lon=33.9512_max_lat=0.0976_...</td>\n",
       "      <td>eo_data_complete</td>\n",
       "      <td>POINT (33.95196 0.09683)</td>\n",
       "      <td>0</td>\n",
       "    </tr>\n",
       "    <tr>\n",
       "      <th>4</th>\n",
       "      <td>33.968469</td>\n",
       "      <td>0.032072</td>\n",
       "      <td>2019-01-01</td>\n",
       "      <td>2020-12-31</td>\n",
       "      <td>noncrop_labels_v2</td>\n",
       "      <td>0.0</td>\n",
       "      <td>1</td>\n",
       "      <td>testing</td>\n",
       "      <td>NaN</td>\n",
       "      <td>NaN</td>\n",
       "      <td>Kenya</td>\n",
       "      <td>Kenya</td>\n",
       "      <td>[[-18.75145501670486, -28.983927974857025, 105...</td>\n",
       "      <td>33.968490</td>\n",
       "      <td>0.032115</td>\n",
       "      <td>min_lat=0.0313_min_lon=33.9678_max_lat=0.0328_...</td>\n",
       "      <td>eo_data_complete</td>\n",
       "      <td>POINT (33.96847 0.03207)</td>\n",
       "      <td>0</td>\n",
       "    </tr>\n",
       "  </tbody>\n",
       "</table>\n",
       "</div>"
      ],
      "text/plain": [
       "         lon       lat  start_date    end_date             source  \\\n",
       "0  34.386282  0.725122  2019-01-01  2020-12-31  noncrop_labels_v2   \n",
       "1  34.466496  0.621939  2019-01-01  2020-12-31  noncrop_labels_v2   \n",
       "2  34.054859  0.226497  2019-01-01  2020-12-31  noncrop_labels_v2   \n",
       "3  33.951959  0.096834  2019-01-01  2020-12-31  noncrop_labels_v2   \n",
       "4  33.968469  0.032072  2019-01-01  2020-12-31  noncrop_labels_v2   \n",
       "\n",
       "   class_probability  num_labelers   subset analysis_duration email country  \\\n",
       "0                0.0             1  testing               NaN   NaN   Kenya   \n",
       "1                0.0             1  testing               NaN   NaN   Kenya   \n",
       "2                0.0             1  testing               NaN   NaN   Kenya   \n",
       "3                0.0             1  testing               NaN   NaN   Kenya   \n",
       "4                0.0             1  testing               NaN   NaN   Kenya   \n",
       "\n",
       "  dataset                                            eo_data     eo_lon  \\\n",
       "0   Kenya  [[-11.74174313771244, -16.760872534791257, 952...  34.386296   \n",
       "1   Kenya  [[-6.565833796243928, -12.449147022074829, 951...  34.466516   \n",
       "2   Kenya  [[-9.902949034787321, -15.70680808103578, 1174...  34.054818   \n",
       "3   Kenya  [[-14.47299462942356, -17.955564415668587, 106...  33.951961   \n",
       "4   Kenya  [[-18.75145501670486, -28.983927974857025, 105...  33.968490   \n",
       "\n",
       "     eo_lat                                            eo_file  \\\n",
       "0  0.725165  min_lat=0.7244_min_lon=34.3856_max_lat=0.7258_...   \n",
       "1  0.621949  min_lat=0.6212_min_lon=34.4658_max_lat=0.6227_...   \n",
       "2  0.226510  min_lat=0.2258_min_lon=34.0541_max_lat=0.2272_...   \n",
       "3  0.096793  min_lat=0.0961_min_lon=33.9512_max_lat=0.0976_...   \n",
       "4  0.032115  min_lat=0.0313_min_lon=33.9678_max_lat=0.0328_...   \n",
       "\n",
       "          eo_status                  geometry  test_class  \n",
       "0  eo_data_complete  POINT (34.38628 0.72512)           0  \n",
       "1  eo_data_complete  POINT (34.46650 0.62194)           0  \n",
       "2  eo_data_complete  POINT (34.05486 0.22650)           0  \n",
       "3  eo_data_complete  POINT (33.95196 0.09683)           0  \n",
       "4  eo_data_complete  POINT (33.96847 0.03207)           0  "
      ]
     },
     "execution_count": 15,
     "metadata": {},
     "output_type": "execute_result"
    }
   ],
   "source": [
    "test_data.head()"
   ]
  },
  {
   "attachments": {},
   "cell_type": "markdown",
   "metadata": {},
   "source": [
    "### **Examine test set**"
   ]
  },
  {
   "cell_type": "code",
   "execution_count": 136,
   "metadata": {},
   "outputs": [
    {
     "data": {
      "text/plain": [
       "<AxesSubplot:>"
      ]
     },
     "execution_count": 136,
     "metadata": {},
     "output_type": "execute_result"
    },
    {
     "data": {
      "image/png": "[encoded data removed]",
      "text/plain": [
       "<Figure size 720x720 with 1 Axes>"
      ]
     },
     "metadata": {
      "needs_background": "light"
     },
     "output_type": "display_data"
    }
   ],
   "source": [
    "KEN_mask = NE_GDF[NE_GDF[\"adm1_code\"].str.startswith(\"KEN\")].copy()\n",
    "TGO_mask = NE_GDF[NE_GDF[\"adm1_code\"].str.startswith(\"TGO\")].copy()\n",
    "TZA_mask = NE_GDF[NE_GDF[\"adm1_code\"].str.startswith(\"TZA\")].copy()\n",
    "masks = [KEN_mask, TZA_mask]\n",
    "\n",
    "# Make sure the shapefile has EPSG:4326, otherwise convert it\n",
    "for boundary in masks:\n",
    "    if boundary.crs == None:\n",
    "        boundary = boundary.set_crs('epsg:4326')\n",
    "    if boundary.crs != 'epsg:4326':\n",
    "        boundary = boundary.to_crs('epsg:4326')\n",
    "    boundary['roi'] = True\n",
    "    boundary.reset_index(inplace=True, drop=True)\n",
    "    boundary.dissolve('roi')\n",
    "\n",
    "df = gpd.GeoDataFrame(pd.concat(masks)).set_crs('epsg:4326')\n",
    "\n",
    "fig, ax = plt.subplots(figsize = (10,10))\n",
    "ax.set_facecolor(\"gray\")\n",
    "df[\"geometry\"].to_crs(epsg=4326).plot(ax=ax, color='lightgrey')\n",
    "test_data.plot(ax=ax, column='test_class', alpha=0.5, cmap='binary')"
   ]
  },
  {
   "attachments": {},
   "cell_type": "markdown",
   "metadata": {},
   "source": [
    "Support for each country"
   ]
  },
  {
   "cell_type": "code",
   "execution_count": 137,
   "metadata": {},
   "outputs": [
    {
     "name": "stdout",
     "output_type": "stream",
     "text": [
      "352 764 1537\n"
     ]
    }
   ],
   "source": [
    "print(\n",
    "    len(test_data[test_data['country']=='Togo']), \n",
    "    len(test_data[test_data['country']=='Kenya']), \n",
    "    len(test_data[test_data['country']=='Tanzania_CEO_2019'])\n",
    "    )"
   ]
  },
  {
   "attachments": {},
   "cell_type": "markdown",
   "metadata": {},
   "source": [
    "Assert no overlap"
   ]
  },
  {
   "cell_type": "code",
   "execution_count": 138,
   "metadata": {},
   "outputs": [],
   "source": [
    "tgo = test_data.loc[test_data['country']=='Togo'].copy()\n",
    "ken = test_data.loc[test_data['country']=='Kenya'].copy()\n",
    "tan = test_data.loc[test_data['country']=='Tanzania_CEO_2019'].copy()"
   ]
  },
  {
   "cell_type": "code",
   "execution_count": 139,
   "metadata": {},
   "outputs": [],
   "source": [
    "assert ~ken.overlaps(tan).all(), \"Overlap detected!\"\n",
    "assert ~tan.overlaps(ken).all(), \"Overlap detected!\""
   ]
  },
  {
   "attachments": {},
   "cell_type": "markdown",
   "metadata": {},
   "source": [
    "### **Generate earth engine points**"
   ]
  },
  {
   "cell_type": "code",
   "execution_count": 19,
   "metadata": {},
   "outputs": [],
   "source": [
    "togo_coll = ee.FeatureCollection(test_data.loc[test_data[\"country\"]==\"Togo\"].apply(create_point, axis=1).to_list())\n",
    "kenya_coll = ee.FeatureCollection(test_data.loc[test_data[\"country\"]==\"Kenya\"].apply(create_point, axis=1).to_list())\n",
    "tanz_coll = ee.FeatureCollection(test_data.loc[test_data[\"country\"]==\"Tanzania_CEO_2019\"].apply(create_point, axis=1).to_list())\n",
    "\n",
    "# All countries\n",
    "test_coll = ee.FeatureCollection(test_data.apply(create_point, axis=1).to_list())\n"
   ]
  },
  {
   "attachments": {},
   "cell_type": "markdown",
   "metadata": {},
   "source": [
    "### **Harvest Data**"
   ]
  },
  {
   "cell_type": "code",
   "execution_count": 195,
   "metadata": {},
   "outputs": [],
   "source": [
    "HARVEST_PATHS = {\n",
    "    \"projects/sat-io/open-datasets/nasa-harvest/togo_cropland_binary\" : togo_coll, \n",
    "    \"projects/sat-io/open-datasets/nasa-harvest/kenya_cropland_binary\" : kenya_coll,\n",
    "    \"users/adadebay/Tanzania_cropland_2019\" : tanz_coll}"
   ]
  },
  {
   "cell_type": "code",
   "execution_count": 196,
   "metadata": {},
   "outputs": [
    {
     "name": "stdout",
     "output_type": "stream",
     "text": [
      "togo_cropland_binary\n",
      "kenya_cropland_binary\n",
      "Tanzania_cropland_2019\n"
     ]
    }
   ],
   "source": [
    "harvest = []\n",
    "for map in HARVEST_PATHS.keys():\n",
    "    name = map.split('/')[-1]\n",
    "    print(name)\n",
    "\n",
    "    #sample from earth engine\n",
    "    sampled = ee.Image(map).reduceRegions(\n",
    "        collection=HARVEST_PATHS[map],\n",
    "        reducer=ee.Reducer.first()\n",
    "    )\n",
    "    \n",
    "    #convert to dataframe\n",
    "    sampled = geemap.ee_to_gdf(sampled)\n",
    "    \n",
    "    #binarize \n",
    "    sampled['first'] = sampled['first'].apply(lambda x: 1 if x>=0.5 else 0) \n",
    "\n",
    "    harvest.append(sampled)\n",
    "\n",
    "harvest = pd.concat(harvest)\n",
    "\n",
    "# harvest.to_csv('../../intercomparison-data/harvest.csv')"
   ]
  },
  {
   "cell_type": "code",
   "execution_count": 198,
   "metadata": {},
   "outputs": [],
   "source": [
    "# Join test and sampled sets\n",
    "test_data[\"harvest\"] = pd.merge(test_data, harvest, on=[\"lat\", \"lon\"], how=\"left\")[\"first\"]"
   ]
  },
  {
   "attachments": {},
   "cell_type": "markdown",
   "metadata": {},
   "source": [
    "### **COP, ESA, GLAD**"
   ]
  },
  {
   "cell_type": "code",
   "execution_count": 204,
   "metadata": {},
   "outputs": [],
   "source": [
    "copernicus = ee.ImageCollection(\"COPERNICUS/Landcover/100m/Proba-V-C3/Global\")\n",
    "esa = ee.ImageCollection(\"ESA/WorldCover/v100\")\n",
    "glad = ee.ImageCollection(\"users/potapovpeter/Global_cropland_2019\")"
   ]
  },
  {
   "cell_type": "code",
   "execution_count": 60,
   "metadata": {},
   "outputs": [],
   "source": [
    "copernicus = copernicus.select(\"discrete_classification\").filterDate(\"2019-01-01\", \"2020-01-01\").map(lambda x: raster_extraction(x, 100, test_coll)).flatten()\n",
    "cop_sampled = geemap.ee_to_gdf(copernicus)\n",
    "cop_sampled[\"cop_class\"] = cop_sampled[\"discrete_classification\"].apply(lambda x: 1 if x==40 else 0)\n",
    "\n",
    "esa = esa.filterBounds(test_coll).map(lambda x: raster_extraction(x, 10, test_coll)).flatten()\n",
    "esa_sampled = geemap.ee_to_gdf(esa)\n",
    "esa_sampled[\"esa_class\"] = esa_sampled[\"Map\"].apply(lambda x: 1 if x==40 else 0)\n",
    "\n",
    "glad = glad.filterBounds(test_coll).map(lambda x: raster_extraction(x, 30, test_coll)).flatten()\n",
    "glad_sampled = geemap.ee_to_gdf(glad)"
   ]
  },
  {
   "cell_type": "code",
   "execution_count": 59,
   "metadata": {},
   "outputs": [],
   "source": [
    "test_data[\"cop\"] = pd.merge(test_data, cop_sampled, on=[\"lat\", \"lon\"], how=\"left\")[\"cop_class\"]\n",
    "test_data[\"esa\"] = pd.merge(test_data, esa_sampled, on=[\"lat\", \"lon\"], how=\"left\")[\"esa_class\"]\n",
    "test_data['glad'] = pd.merge(test_data, glad_sampled, on=[\"lat\", \"lon\"], how=\"left\")[\"b1\"]"
   ]
  },
  {
   "cell_type": "code",
   "execution_count": 206,
   "metadata": {},
   "outputs": [],
   "source": [
    "assert (np.sort(cop_sampled[['lat', 'lon']]) == np.sort(test_data[['lat','lon']])).all(), \"Point mismatch!\"\n",
    "assert (np.sort(esa_sampled[['lat', 'lon']]) == np.sort(test_data[['lat','lon']])).all(), \"Point mismatch!\""
   ]
  },
  {
   "cell_type": "markdown",
   "metadata": {},
   "source": [
    "## **Evaluation Results**"
   ]
  },
  {
   "cell_type": "markdown",
   "metadata": {},
   "source": [
    "**Compute results**"
   ]
  },
  {
   "cell_type": "code",
   "execution_count": 216,
   "metadata": {},
   "outputs": [],
   "source": [
    "results = {}\n",
    "\n",
    "for p in TARGET_PATHS:\n",
    "    key = p.stem\n",
    "    results[key] = pd.DataFrame(columns=[\"dataset\", \"accuracy\", \"crop_f1\", \"crop_support\", \"noncrop_support\", \n",
    "        \"crop_precision\", \"crop_recall\", \"noncrop_precision\", \"noncrop_recall\"])\n"
   ]
  },
  {
   "cell_type": "code",
   "execution_count": 217,
   "metadata": {},
   "outputs": [
    {
     "name": "stdout",
     "output_type": "stream",
     "text": [
      "Kenya: harvest\n",
      "Kenya: cop\n",
      "Kenya: esa\n",
      "Kenya: glad\n",
      "Tanzania_CEO_2019: harvest\n",
      "Tanzania_CEO_2019: cop\n",
      "Tanzania_CEO_2019: esa\n",
      "Tanzania_CEO_2019: glad\n",
      "Togo: harvest\n",
      "Togo: cop\n",
      "Togo: esa\n",
      "Togo: glad\n"
     ]
    }
   ],
   "source": [
    "for country, df in test_data.groupby(\"country\"):\n",
    "    for dataset in [\"harvest\", \"cop\", \"esa\", \"glad\"]:\n",
    "        print(country + \": \" + dataset)\n",
    "        # Remove na values\n",
    "        temp = df[[\"test_class\", dataset]].dropna()\n",
    "        report = classification_report(temp[\"test_class\"], temp[dataset], output_dict= True)     \n",
    "\n",
    "        results[country] = pd.concat([results[country], generate_report(dataset, report)])"
   ]
  },
  {
   "cell_type": "markdown",
   "metadata": {},
   "source": [
    "**Togo**"
   ]
  },
  {
   "cell_type": "code",
   "execution_count": 218,
   "metadata": {},
   "outputs": [
    {
     "data": {
      "text/html": [
       "<div>\n",
       "<style scoped>\n",
       "    .dataframe tbody tr th:only-of-type {\n",
       "        vertical-align: middle;\n",
       "    }\n",
       "\n",
       "    .dataframe tbody tr th {\n",
       "        vertical-align: top;\n",
       "    }\n",
       "\n",
       "    .dataframe thead th {\n",
       "        text-align: right;\n",
       "    }\n",
       "</style>\n",
       "<table border=\"1\" class=\"dataframe\">\n",
       "  <thead>\n",
       "    <tr style=\"text-align: right;\">\n",
       "      <th></th>\n",
       "      <th>dataset</th>\n",
       "      <th>accuracy</th>\n",
       "      <th>crop_f1</th>\n",
       "      <th>crop_support</th>\n",
       "      <th>noncrop_support</th>\n",
       "      <th>crop_precision</th>\n",
       "      <th>crop_recall</th>\n",
       "      <th>noncrop_precision</th>\n",
       "      <th>noncrop_recall</th>\n",
       "    </tr>\n",
       "  </thead>\n",
       "  <tbody>\n",
       "    <tr>\n",
       "      <th>0</th>\n",
       "      <td>harvest</td>\n",
       "      <td>0.772727</td>\n",
       "      <td>0.738562</td>\n",
       "      <td>152</td>\n",
       "      <td>200</td>\n",
       "      <td>0.733766</td>\n",
       "      <td>0.743421</td>\n",
       "      <td>0.803030</td>\n",
       "      <td>0.795</td>\n",
       "    </tr>\n",
       "    <tr>\n",
       "      <th>0</th>\n",
       "      <td>cop</td>\n",
       "      <td>0.693182</td>\n",
       "      <td>0.571429</td>\n",
       "      <td>152</td>\n",
       "      <td>200</td>\n",
       "      <td>0.720000</td>\n",
       "      <td>0.473684</td>\n",
       "      <td>0.682540</td>\n",
       "      <td>0.860</td>\n",
       "    </tr>\n",
       "    <tr>\n",
       "      <th>0</th>\n",
       "      <td>esa</td>\n",
       "      <td>0.738636</td>\n",
       "      <td>0.606838</td>\n",
       "      <td>152</td>\n",
       "      <td>200</td>\n",
       "      <td>0.865854</td>\n",
       "      <td>0.467105</td>\n",
       "      <td>0.700000</td>\n",
       "      <td>0.945</td>\n",
       "    </tr>\n",
       "    <tr>\n",
       "      <th>0</th>\n",
       "      <td>glad</td>\n",
       "      <td>0.704545</td>\n",
       "      <td>0.559322</td>\n",
       "      <td>152</td>\n",
       "      <td>200</td>\n",
       "      <td>0.785714</td>\n",
       "      <td>0.434211</td>\n",
       "      <td>0.679104</td>\n",
       "      <td>0.910</td>\n",
       "    </tr>\n",
       "  </tbody>\n",
       "</table>\n",
       "</div>"
      ],
      "text/plain": [
       "   dataset  accuracy   crop_f1 crop_support noncrop_support  crop_precision  \\\n",
       "0  harvest  0.772727  0.738562          152             200        0.733766   \n",
       "0      cop  0.693182  0.571429          152             200        0.720000   \n",
       "0      esa  0.738636  0.606838          152             200        0.865854   \n",
       "0     glad  0.704545  0.559322          152             200        0.785714   \n",
       "\n",
       "   crop_recall  noncrop_precision  noncrop_recall  \n",
       "0     0.743421           0.803030           0.795  \n",
       "0     0.473684           0.682540           0.860  \n",
       "0     0.467105           0.700000           0.945  \n",
       "0     0.434211           0.679104           0.910  "
      ]
     },
     "execution_count": 218,
     "metadata": {},
     "output_type": "execute_result"
    }
   ],
   "source": [
    "results[\"Togo\"]"
   ]
  },
  {
   "cell_type": "markdown",
   "metadata": {},
   "source": [
    "**Kenya**"
   ]
  },
  {
   "cell_type": "code",
   "execution_count": 219,
   "metadata": {},
   "outputs": [
    {
     "data": {
      "text/html": [
       "<div>\n",
       "<style scoped>\n",
       "    .dataframe tbody tr th:only-of-type {\n",
       "        vertical-align: middle;\n",
       "    }\n",
       "\n",
       "    .dataframe tbody tr th {\n",
       "        vertical-align: top;\n",
       "    }\n",
       "\n",
       "    .dataframe thead th {\n",
       "        text-align: right;\n",
       "    }\n",
       "</style>\n",
       "<table border=\"1\" class=\"dataframe\">\n",
       "  <thead>\n",
       "    <tr style=\"text-align: right;\">\n",
       "      <th></th>\n",
       "      <th>dataset</th>\n",
       "      <th>accuracy</th>\n",
       "      <th>crop_f1</th>\n",
       "      <th>crop_support</th>\n",
       "      <th>noncrop_support</th>\n",
       "      <th>crop_precision</th>\n",
       "      <th>crop_recall</th>\n",
       "      <th>noncrop_precision</th>\n",
       "      <th>noncrop_recall</th>\n",
       "    </tr>\n",
       "  </thead>\n",
       "  <tbody>\n",
       "    <tr>\n",
       "      <th>0</th>\n",
       "      <td>harvest</td>\n",
       "      <td>0.890052</td>\n",
       "      <td>0.922509</td>\n",
       "      <td>571</td>\n",
       "      <td>193</td>\n",
       "      <td>0.974659</td>\n",
       "      <td>0.875657</td>\n",
       "      <td>0.717131</td>\n",
       "      <td>0.932642</td>\n",
       "    </tr>\n",
       "    <tr>\n",
       "      <th>0</th>\n",
       "      <td>cop</td>\n",
       "      <td>0.908377</td>\n",
       "      <td>0.939446</td>\n",
       "      <td>571</td>\n",
       "      <td>193</td>\n",
       "      <td>0.928205</td>\n",
       "      <td>0.950963</td>\n",
       "      <td>0.843575</td>\n",
       "      <td>0.782383</td>\n",
       "    </tr>\n",
       "    <tr>\n",
       "      <th>0</th>\n",
       "      <td>esa</td>\n",
       "      <td>0.403141</td>\n",
       "      <td>0.341040</td>\n",
       "      <td>571</td>\n",
       "      <td>193</td>\n",
       "      <td>0.975207</td>\n",
       "      <td>0.206655</td>\n",
       "      <td>0.295490</td>\n",
       "      <td>0.984456</td>\n",
       "    </tr>\n",
       "    <tr>\n",
       "      <th>0</th>\n",
       "      <td>glad</td>\n",
       "      <td>0.839005</td>\n",
       "      <td>0.887259</td>\n",
       "      <td>571</td>\n",
       "      <td>193</td>\n",
       "      <td>0.930769</td>\n",
       "      <td>0.847636</td>\n",
       "      <td>0.643443</td>\n",
       "      <td>0.813472</td>\n",
       "    </tr>\n",
       "  </tbody>\n",
       "</table>\n",
       "</div>"
      ],
      "text/plain": [
       "   dataset  accuracy   crop_f1 crop_support noncrop_support  crop_precision  \\\n",
       "0  harvest  0.890052  0.922509          571             193        0.974659   \n",
       "0      cop  0.908377  0.939446          571             193        0.928205   \n",
       "0      esa  0.403141  0.341040          571             193        0.975207   \n",
       "0     glad  0.839005  0.887259          571             193        0.930769   \n",
       "\n",
       "   crop_recall  noncrop_precision  noncrop_recall  \n",
       "0     0.875657           0.717131        0.932642  \n",
       "0     0.950963           0.843575        0.782383  \n",
       "0     0.206655           0.295490        0.984456  \n",
       "0     0.847636           0.643443        0.813472  "
      ]
     },
     "execution_count": 219,
     "metadata": {},
     "output_type": "execute_result"
    }
   ],
   "source": [
    "results[\"Kenya\"]"
   ]
  },
  {
   "cell_type": "markdown",
   "metadata": {},
   "source": [
    "**Tanzania**"
   ]
  },
  {
   "cell_type": "code",
   "execution_count": 220,
   "metadata": {},
   "outputs": [
    {
     "data": {
      "text/html": [
       "<div>\n",
       "<style scoped>\n",
       "    .dataframe tbody tr th:only-of-type {\n",
       "        vertical-align: middle;\n",
       "    }\n",
       "\n",
       "    .dataframe tbody tr th {\n",
       "        vertical-align: top;\n",
       "    }\n",
       "\n",
       "    .dataframe thead th {\n",
       "        text-align: right;\n",
       "    }\n",
       "</style>\n",
       "<table border=\"1\" class=\"dataframe\">\n",
       "  <thead>\n",
       "    <tr style=\"text-align: right;\">\n",
       "      <th></th>\n",
       "      <th>dataset</th>\n",
       "      <th>accuracy</th>\n",
       "      <th>crop_f1</th>\n",
       "      <th>crop_support</th>\n",
       "      <th>noncrop_support</th>\n",
       "      <th>crop_precision</th>\n",
       "      <th>crop_recall</th>\n",
       "      <th>noncrop_precision</th>\n",
       "      <th>noncrop_recall</th>\n",
       "    </tr>\n",
       "  </thead>\n",
       "  <tbody>\n",
       "    <tr>\n",
       "      <th>0</th>\n",
       "      <td>harvest</td>\n",
       "      <td>0.760573</td>\n",
       "      <td>0.708861</td>\n",
       "      <td>767</td>\n",
       "      <td>770</td>\n",
       "      <td>0.901408</td>\n",
       "      <td>0.584094</td>\n",
       "      <td>0.693269</td>\n",
       "      <td>0.936364</td>\n",
       "    </tr>\n",
       "    <tr>\n",
       "      <th>0</th>\n",
       "      <td>cop</td>\n",
       "      <td>0.783995</td>\n",
       "      <td>0.743431</td>\n",
       "      <td>767</td>\n",
       "      <td>770</td>\n",
       "      <td>0.912713</td>\n",
       "      <td>0.627119</td>\n",
       "      <td>0.716832</td>\n",
       "      <td>0.940260</td>\n",
       "    </tr>\n",
       "    <tr>\n",
       "      <th>0</th>\n",
       "      <td>esa</td>\n",
       "      <td>0.789850</td>\n",
       "      <td>0.742219</td>\n",
       "      <td>767</td>\n",
       "      <td>770</td>\n",
       "      <td>0.956790</td>\n",
       "      <td>0.606258</td>\n",
       "      <td>0.712655</td>\n",
       "      <td>0.972727</td>\n",
       "    </tr>\n",
       "    <tr>\n",
       "      <th>0</th>\n",
       "      <td>glad</td>\n",
       "      <td>0.776187</td>\n",
       "      <td>0.718494</td>\n",
       "      <td>767</td>\n",
       "      <td>770</td>\n",
       "      <td>0.964835</td>\n",
       "      <td>0.572360</td>\n",
       "      <td>0.696858</td>\n",
       "      <td>0.979221</td>\n",
       "    </tr>\n",
       "  </tbody>\n",
       "</table>\n",
       "</div>"
      ],
      "text/plain": [
       "   dataset  accuracy   crop_f1 crop_support noncrop_support  crop_precision  \\\n",
       "0  harvest  0.760573  0.708861          767             770        0.901408   \n",
       "0      cop  0.783995  0.743431          767             770        0.912713   \n",
       "0      esa  0.789850  0.742219          767             770        0.956790   \n",
       "0     glad  0.776187  0.718494          767             770        0.964835   \n",
       "\n",
       "   crop_recall  noncrop_precision  noncrop_recall  \n",
       "0     0.584094           0.693269        0.936364  \n",
       "0     0.627119           0.716832        0.940260  \n",
       "0     0.606258           0.712655        0.972727  \n",
       "0     0.572360           0.696858        0.979221  "
      ]
     },
     "execution_count": 220,
     "metadata": {},
     "output_type": "execute_result"
    }
   ],
   "source": [
    "results[\"Tanzania_CEO_2019\"]"
   ]
  },
  {
   "attachments": {},
   "cell_type": "markdown",
   "metadata": {},
   "source": [
    "## ***TESTING ZONE***"
   ]
  },
  {
   "cell_type": "code",
   "execution_count": 114,
   "metadata": {},
   "outputs": [],
   "source": [
    "# Test points for togo\n",
    "test = pd.read_csv(\"../data/datasets/Togo.csv\")\n",
    "test = gpd.GeoDataFrame(test, geometry=gpd.points_from_xy(test.lon, test.lat), crs='epsg:4326')\n",
    "test = test.loc[test['subset']=='testing']\n",
    "test['binary'] = test['class_probability'].apply(lambda x: 1 if x >= 0.5 else 0)\n"
   ]
  },
  {
   "cell_type": "code",
   "execution_count": 116,
   "metadata": {},
   "outputs": [
    {
     "data": {
      "text/html": [
       "<div><style>:root {\n",
       "  --font-color-primary: var(--jp-content-font-color0, rgba(0, 0, 0, 1));\n",
       "  --font-color-secondary: var(--jp-content-font-color2, rgba(0, 0, 0, 0.6));\n",
       "  --font-color-accent: rgba(123, 31, 162, 1);\n",
       "  --border-color: var(--jp-border-color2, #e0e0e0);\n",
       "  --background-color: var(--jp-layout-color0, white);\n",
       "  --background-color-row-even: var(--jp-layout-color1, white);\n",
       "  --background-color-row-odd: var(--jp-layout-color2, #eeeeee);\n",
       "}\n",
       "\n",
       "html[theme=\"dark\"],\n",
       "body[data-theme=\"dark\"],\n",
       "body.vscode-dark {\n",
       "  --font-color-primary: rgba(255, 255, 255, 1);\n",
       "  --font-color-secondary: rgba(255, 255, 255, 0.6);\n",
       "  --font-color-accent: rgb(173, 132, 190);\n",
       "  --border-color: #2e2e2e;\n",
       "  --background-color: #111111;\n",
       "  --background-color-row-even: #111111;\n",
       "  --background-color-row-odd: #313131;\n",
       "}\n",
       "\n",
       ".ee {\n",
       "  padding: 1em;\n",
       "  line-height: 1.5em;\n",
       "  min-width: 300px;\n",
       "  max-width: 1200px;\n",
       "  overflow-y: scroll;\n",
       "  max-height: 600px;\n",
       "  border: 1px solid var(--border-color);\n",
       "  font-family: monospace;\n",
       "}\n",
       "\n",
       ".ee li {\n",
       "  list-style-type: none;\n",
       "}\n",
       "\n",
       ".ee ul {\n",
       "  padding-left: 1.5em !important;\n",
       "  margin: 0;\n",
       "}\n",
       "\n",
       ".ee > ul {\n",
       "  padding-left: 0 !important;\n",
       "}\n",
       "\n",
       ".ee-open,\n",
       ".ee-shut {\n",
       "  color: var(--font-color-secondary);\n",
       "  cursor: pointer;\n",
       "  margin: 0;\n",
       "}\n",
       "\n",
       ".ee-open:hover,\n",
       ".ee-shut:hover {\n",
       "  color: var(--font-color-primary);\n",
       "}\n",
       "\n",
       ".ee-k {\n",
       "  color: var(--font-color-accent);\n",
       "  margin-right: 6px;\n",
       "}\n",
       "\n",
       ".ee-v {\n",
       "  color: var(--font-color-primary);\n",
       "}\n",
       "\n",
       ".ee-toggle {\n",
       "  display: none;\n",
       "}\n",
       "\n",
       ".ee-shut + ul {\n",
       "  display: none;\n",
       "}\n",
       "\n",
       ".ee-open + ul {\n",
       "  display: block;\n",
       "}\n",
       "\n",
       ".ee-shut::before {\n",
       "  display: inline-block;\n",
       "  content: \"▼\";\n",
       "  margin-right: 6px;\n",
       "  transform: rotate(-90deg);\n",
       "  transition: transform 0.2s;\n",
       "}\n",
       "\n",
       ".ee-open::before {\n",
       "  transform: rotate(0deg);\n",
       "  display: inline-block;\n",
       "  content: \"▼\";\n",
       "  margin-right: 6px;\n",
       "  transition: transform 0.2s;\n",
       "}\n",
       "</style><div class='ee'><ul><li><label class='ee-shut'>Object (6 properties)<input type='checkbox' class='ee-toggle'></label><ul><li><span class='ee-k'>NOMINAL_SCALE:</span><span class='ee-v'>10.000027700699672</span></li><li><span class='ee-k'>description:</span><span class='ee-v'>### Togo Cropland Map\n",
       "This dataset consists of a crop / non crop map for the entirity of Togo at a 10m spatial resolution for the 2019-2020 growing season. It was derived from Sentinel-2 satellite data with a multi-headed LSTM model, trained on hand-labelled data. For more information, please visit [the codebase used to generate this map](https://github.com/nasaharvest/togo-crop-mask) and the [paper describing the methods](https://arxiv.org/abs/2006.16866).\n",
       "\n",
       "\n",
       "\n",
       "\n",
       "\n",
       "\n",
       "\n",
       "\n",
       "\n",
       "\n",
       "\n",
       "\n",
       "### Earth Engine Snippet\n",
       "\n",
       "\n",
       "\n",
       "\n",
       "\n",
       "\n",
       "\n",
       "\n",
       "```javascript\n",
       "var image = ee.Image('users/gabrieltseng/togo_cropland_binary');\n",
       "``` \n",
       "\n",
       "\n",
       "\n",
       "\n",
       "\n",
       "\n",
       "\n",
       "\n",
       "\n",
       "\n",
       "\n",
       "\n",
       "### Citation\n",
       "\n",
       "\n",
       "If you find this map useful, please cite the following paper:\n",
       "\n",
       "\n",
       "\n",
       "\n",
       "\n",
       "\n",
       "\n",
       "\n",
       "Hannah Kerner, Gabriel Tseng, Inbal Becker-Reshef, Catherine Nakalembe,Brian Barker, Blake Munshell, Madhava Paliyam, and Mehdi Hosseini. 2020.Rapid Response Crop Maps in Data Sparse Regions. KDD ’20: ACMSIGKDDConference on Knowledge Discovery and Data Mining Workshops, August22–27, 2020, San Diego, CA.</span></li><li><span class='ee-k'>system:asset_size:</span><span class='ee-v'>49.789811 MB</span></li><li><label class='ee-shut'>system:band_names: ['b1']<input type='checkbox' class='ee-toggle'></label><ul><li><span class='ee-k'>0:</span><span class='ee-v'>b1</span></li></ul></li><li><span class='ee-k'>system:id:</span><span class='ee-v'>projects/sat-io/open-datasets/nasa-harvest/togo_cropland_binary</span></li><li><span class='ee-k'>system:version:</span><span class='ee-v'>1619298604737871</span></li></ul></li></ul></div><script>function toggleHeader() {\n",
       "    const parent = this.parentElement;\n",
       "    parent.className = parent.className === \"ee-open\" ? \"ee-shut\" : \"ee-open\";\n",
       "}\n",
       "\n",
       "for (let c of document.getElementsByClassName(\"ee-toggle\")) {\n",
       "    c.onclick = toggleHeader;\n",
       "}</script></div>"
      ],
      "text/plain": [
       "<ee.dictionary.Dictionary at 0x1af84086f70>"
      ]
     },
     "execution_count": 116,
     "metadata": {},
     "output_type": "execute_result"
    }
   ],
   "source": [
    "togo = ee.Image(\"projects/sat-io/open-datasets/nasa-harvest/togo_cropland_binary\")\n",
    "props = geemap.image_props(togo)\n",
    "props"
   ]
  },
  {
   "cell_type": "code",
   "execution_count": 117,
   "metadata": {},
   "outputs": [],
   "source": [
    "def create_point2(row):\n",
    "    geom = ee.Geometry.Point(row.lon, row.lat)\n",
    "    prop = dict(row[['binary']])\n",
    "\n",
    "    return ee.Feature(geom, prop)\n",
    "\n",
    "proj_coll = ee.FeatureCollection(test.apply(create_point2, axis=1).to_list())"
   ]
  },
  {
   "attachments": {},
   "cell_type": "markdown",
   "metadata": {},
   "source": [
    "Method: ee.Image.reduceRegions"
   ]
  },
  {
   "cell_type": "code",
   "execution_count": 118,
   "metadata": {},
   "outputs": [],
   "source": [
    "reduced = togo.reduceRegions(\n",
    "    proj_coll,\n",
    "    reducer=ee.Reducer.first()\n",
    "    )"
   ]
  },
  {
   "cell_type": "code",
   "execution_count": 119,
   "metadata": {},
   "outputs": [],
   "source": [
    "reduced = geemap.ee_to_gdf(reduced)"
   ]
  },
  {
   "cell_type": "code",
   "execution_count": 120,
   "metadata": {},
   "outputs": [],
   "source": [
    "res = generate_report('ee', classification_report(reduced['binary'], reduced['first'], output_dict=True))"
   ]
  },
  {
   "cell_type": "code",
   "execution_count": 121,
   "metadata": {},
   "outputs": [
    {
     "data": {
      "text/html": [
       "<div>\n",
       "<style scoped>\n",
       "    .dataframe tbody tr th:only-of-type {\n",
       "        vertical-align: middle;\n",
       "    }\n",
       "\n",
       "    .dataframe tbody tr th {\n",
       "        vertical-align: top;\n",
       "    }\n",
       "\n",
       "    .dataframe thead th {\n",
       "        text-align: right;\n",
       "    }\n",
       "</style>\n",
       "<table border=\"1\" class=\"dataframe\">\n",
       "  <thead>\n",
       "    <tr style=\"text-align: right;\">\n",
       "      <th></th>\n",
       "      <th>dataset</th>\n",
       "      <th>accuracy</th>\n",
       "      <th>crop_f1</th>\n",
       "      <th>crop_support</th>\n",
       "      <th>noncrop_support</th>\n",
       "      <th>crop_precision</th>\n",
       "      <th>crop_recall</th>\n",
       "      <th>noncrop_precision</th>\n",
       "      <th>noncrop_recall</th>\n",
       "    </tr>\n",
       "  </thead>\n",
       "  <tbody>\n",
       "    <tr>\n",
       "      <th>0</th>\n",
       "      <td>ee</td>\n",
       "      <td>0.771831</td>\n",
       "      <td>0.736156</td>\n",
       "      <td>152</td>\n",
       "      <td>203</td>\n",
       "      <td>0.729032</td>\n",
       "      <td>0.743421</td>\n",
       "      <td>0.805</td>\n",
       "      <td>0.793103</td>\n",
       "    </tr>\n",
       "  </tbody>\n",
       "</table>\n",
       "</div>"
      ],
      "text/plain": [
       "  dataset  accuracy   crop_f1  crop_support  noncrop_support  crop_precision  \\\n",
       "0      ee  0.771831  0.736156           152              203        0.729032   \n",
       "\n",
       "   crop_recall  noncrop_precision  noncrop_recall  \n",
       "0     0.743421              0.805        0.793103  "
      ]
     },
     "execution_count": 121,
     "metadata": {},
     "output_type": "execute_result"
    }
   ],
   "source": [
    "res"
   ]
  },
  {
   "attachments": {},
   "cell_type": "markdown",
   "metadata": {},
   "source": [
    "Test Image Collection"
   ]
  },
  {
   "cell_type": "code",
   "execution_count": 40,
   "metadata": {},
   "outputs": [],
   "source": [
    "copernicus = ee.ImageCollection(\"COPERNICUS/Landcover/100m/Proba-V-C3/Global\")\n",
    "esa = ee.ImageCollection(\"ESA/WorldCover/v100\")\n",
    "glad = ee.ImageCollection(\"users/potapovpeter/Global_cropland_2019\")"
   ]
  },
  {
   "cell_type": "code",
   "execution_count": 41,
   "metadata": {},
   "outputs": [],
   "source": [
    "# Function used in map function to extract from feature collection\n",
    "def reduce_region(image, resolution, f_collection):\n",
    "    feature = image.reduceRegions(\n",
    "        collection = f_collection,\n",
    "        scale = resolution,\n",
    "        reducer=ee.Reducer.first(),\n",
    "    )\n",
    "    return feature"
   ]
  },
  {
   "cell_type": "code",
   "execution_count": 61,
   "metadata": {},
   "outputs": [
    {
     "ename": "AttributeError",
     "evalue": "'Feature' object has no attribute 'reduceRegions'",
     "output_type": "error",
     "traceback": [
      "\u001b[1;31m---------------------------------------------------------------------------\u001b[0m",
      "\u001b[1;31mAttributeError\u001b[0m                            Traceback (most recent call last)",
      "\u001b[1;32m<ipython-input-61-364ae775eead>\u001b[0m in \u001b[0;36m<module>\u001b[1;34m\u001b[0m\n\u001b[1;32m----> 1\u001b[1;33m \u001b[0mcopernicus\u001b[0m \u001b[1;33m=\u001b[0m \u001b[0mcopernicus\u001b[0m\u001b[1;33m.\u001b[0m\u001b[0mselect\u001b[0m\u001b[1;33m(\u001b[0m\u001b[1;34m\"discrete_classification\"\u001b[0m\u001b[1;33m)\u001b[0m\u001b[1;33m.\u001b[0m\u001b[0mfilterDate\u001b[0m\u001b[1;33m(\u001b[0m\u001b[1;34m\"2019-01-01\"\u001b[0m\u001b[1;33m,\u001b[0m \u001b[1;34m\"2020-01-01\"\u001b[0m\u001b[1;33m)\u001b[0m\u001b[1;33m.\u001b[0m\u001b[0mmap\u001b[0m\u001b[1;33m(\u001b[0m\u001b[1;32mlambda\u001b[0m \u001b[0mx\u001b[0m\u001b[1;33m:\u001b[0m \u001b[0mreduce_region\u001b[0m\u001b[1;33m(\u001b[0m\u001b[0mx\u001b[0m\u001b[1;33m,\u001b[0m \u001b[1;36m100\u001b[0m\u001b[1;33m,\u001b[0m \u001b[0mtest_coll\u001b[0m\u001b[1;33m)\u001b[0m\u001b[1;33m)\u001b[0m\u001b[1;33m.\u001b[0m\u001b[0mflatten\u001b[0m\u001b[1;33m(\u001b[0m\u001b[1;33m)\u001b[0m\u001b[1;33m\u001b[0m\u001b[1;33m\u001b[0m\u001b[0m\n\u001b[0m\u001b[0;32m      2\u001b[0m \u001b[0mcop_sampled\u001b[0m \u001b[1;33m=\u001b[0m \u001b[0mgeemap\u001b[0m\u001b[1;33m.\u001b[0m\u001b[0mee_to_gdf\u001b[0m\u001b[1;33m(\u001b[0m\u001b[0mcopernicus\u001b[0m\u001b[1;33m)\u001b[0m\u001b[1;33m\u001b[0m\u001b[1;33m\u001b[0m\u001b[0m\n\u001b[0;32m      3\u001b[0m \u001b[0mcop_sampled\u001b[0m\u001b[1;33m[\u001b[0m\u001b[1;34m\"cop_class\"\u001b[0m\u001b[1;33m]\u001b[0m \u001b[1;33m=\u001b[0m \u001b[0mcop_sampled\u001b[0m\u001b[1;33m[\u001b[0m\u001b[1;34m\"discrete_classification\"\u001b[0m\u001b[1;33m]\u001b[0m\u001b[1;33m.\u001b[0m\u001b[0mapply\u001b[0m\u001b[1;33m(\u001b[0m\u001b[1;32mlambda\u001b[0m \u001b[0mx\u001b[0m\u001b[1;33m:\u001b[0m \u001b[1;36m1\u001b[0m \u001b[1;32mif\u001b[0m \u001b[0mx\u001b[0m\u001b[1;33m==\u001b[0m\u001b[1;36m40\u001b[0m \u001b[1;32melse\u001b[0m \u001b[1;36m0\u001b[0m\u001b[1;33m)\u001b[0m\u001b[1;33m\u001b[0m\u001b[1;33m\u001b[0m\u001b[0m\n\u001b[0;32m      4\u001b[0m \u001b[1;33m\u001b[0m\u001b[0m\n\u001b[0;32m      5\u001b[0m \u001b[0mesa\u001b[0m \u001b[1;33m=\u001b[0m \u001b[0mesa\u001b[0m\u001b[1;33m.\u001b[0m\u001b[0mfilterBounds\u001b[0m\u001b[1;33m(\u001b[0m\u001b[0mtest_coll\u001b[0m\u001b[1;33m)\u001b[0m\u001b[1;33m.\u001b[0m\u001b[0mmap\u001b[0m\u001b[1;33m(\u001b[0m\u001b[1;32mlambda\u001b[0m \u001b[0mx\u001b[0m\u001b[1;33m:\u001b[0m \u001b[0mreduce_region\u001b[0m\u001b[1;33m(\u001b[0m\u001b[0mx\u001b[0m\u001b[1;33m,\u001b[0m \u001b[1;36m10\u001b[0m\u001b[1;33m,\u001b[0m \u001b[0mtest_coll\u001b[0m\u001b[1;33m)\u001b[0m\u001b[1;33m)\u001b[0m\u001b[1;33m.\u001b[0m\u001b[0mflatten\u001b[0m\u001b[1;33m(\u001b[0m\u001b[1;33m)\u001b[0m\u001b[1;33m\u001b[0m\u001b[1;33m\u001b[0m\u001b[0m\n",
      "\u001b[1;32mc:\\Users\\adamf\\anaconda3\\envs\\intercomparison\\lib\\site-packages\\ee\\collection.py\u001b[0m in \u001b[0;36mmap\u001b[1;34m(self, algorithm, opt_dropNulls)\u001b[0m\n\u001b[0;32m    202\u001b[0m     \u001b[0melement_type\u001b[0m \u001b[1;33m=\u001b[0m \u001b[0mself\u001b[0m\u001b[1;33m.\u001b[0m\u001b[0melementType\u001b[0m\u001b[1;33m(\u001b[0m\u001b[1;33m)\u001b[0m\u001b[1;33m\u001b[0m\u001b[1;33m\u001b[0m\u001b[0m\n\u001b[0;32m    203\u001b[0m     \u001b[0mwith_cast\u001b[0m \u001b[1;33m=\u001b[0m \u001b[1;32mlambda\u001b[0m \u001b[0me\u001b[0m\u001b[1;33m:\u001b[0m \u001b[0malgorithm\u001b[0m\u001b[1;33m(\u001b[0m\u001b[0melement_type\u001b[0m\u001b[1;33m(\u001b[0m\u001b[0me\u001b[0m\u001b[1;33m)\u001b[0m\u001b[1;33m)\u001b[0m\u001b[1;33m\u001b[0m\u001b[1;33m\u001b[0m\u001b[0m\n\u001b[1;32m--> 204\u001b[1;33m     return self._cast(apifunction.ApiFunction.call_(\n\u001b[0m\u001b[0;32m    205\u001b[0m         'Collection.map', self, with_cast, opt_dropNulls))\n\u001b[0;32m    206\u001b[0m \u001b[1;33m\u001b[0m\u001b[0m\n",
      "\u001b[1;32mc:\\Users\\adamf\\anaconda3\\envs\\intercomparison\\lib\\site-packages\\ee\\apifunction.py\u001b[0m in \u001b[0;36mcall_\u001b[1;34m(cls, name, *args, **kwargs)\u001b[0m\n\u001b[0;32m     79\u001b[0m       \u001b[0ma\u001b[0m \u001b[0mrecognized\u001b[0m \u001b[1;32mreturn\u001b[0m \u001b[0mtype\u001b[0m\u001b[1;33m,\u001b[0m \u001b[0mthe\u001b[0m \u001b[0mreturned\u001b[0m \u001b[0mvalue\u001b[0m \u001b[0mwill\u001b[0m \u001b[0mbe\u001b[0m \u001b[0mcast\u001b[0m \u001b[0mto\u001b[0m \u001b[0mthat\u001b[0m \u001b[0mtype\u001b[0m\u001b[1;33m.\u001b[0m\u001b[1;33m\u001b[0m\u001b[1;33m\u001b[0m\u001b[0m\n\u001b[0;32m     80\u001b[0m     \"\"\"\n\u001b[1;32m---> 81\u001b[1;33m     \u001b[1;32mreturn\u001b[0m \u001b[0mcls\u001b[0m\u001b[1;33m.\u001b[0m\u001b[0mlookup\u001b[0m\u001b[1;33m(\u001b[0m\u001b[0mname\u001b[0m\u001b[1;33m)\u001b[0m\u001b[1;33m.\u001b[0m\u001b[0mcall\u001b[0m\u001b[1;33m(\u001b[0m\u001b[1;33m*\u001b[0m\u001b[0margs\u001b[0m\u001b[1;33m,\u001b[0m \u001b[1;33m**\u001b[0m\u001b[0mkwargs\u001b[0m\u001b[1;33m)\u001b[0m\u001b[1;33m\u001b[0m\u001b[1;33m\u001b[0m\u001b[0m\n\u001b[0m\u001b[0;32m     82\u001b[0m \u001b[1;33m\u001b[0m\u001b[0m\n\u001b[0;32m     83\u001b[0m   \u001b[1;33m@\u001b[0m\u001b[0mclassmethod\u001b[0m\u001b[1;33m\u001b[0m\u001b[1;33m\u001b[0m\u001b[0m\n",
      "\u001b[1;32mc:\\Users\\adamf\\anaconda3\\envs\\intercomparison\\lib\\site-packages\\ee\\function.py\u001b[0m in \u001b[0;36mcall\u001b[1;34m(self, *args, **kwargs)\u001b[0m\n\u001b[0;32m     65\u001b[0m       \u001b[0mto\u001b[0m \u001b[0mthat\u001b[0m \u001b[0mtype\u001b[0m\u001b[1;33m.\u001b[0m\u001b[1;33m\u001b[0m\u001b[1;33m\u001b[0m\u001b[0m\n\u001b[0;32m     66\u001b[0m     \"\"\"\n\u001b[1;32m---> 67\u001b[1;33m     \u001b[1;32mreturn\u001b[0m \u001b[0mself\u001b[0m\u001b[1;33m.\u001b[0m\u001b[0mapply\u001b[0m\u001b[1;33m(\u001b[0m\u001b[0mself\u001b[0m\u001b[1;33m.\u001b[0m\u001b[0mnameArgs\u001b[0m\u001b[1;33m(\u001b[0m\u001b[0margs\u001b[0m\u001b[1;33m,\u001b[0m \u001b[0mkwargs\u001b[0m\u001b[1;33m)\u001b[0m\u001b[1;33m)\u001b[0m\u001b[1;33m\u001b[0m\u001b[1;33m\u001b[0m\u001b[0m\n\u001b[0m\u001b[0;32m     68\u001b[0m \u001b[1;33m\u001b[0m\u001b[0m\n\u001b[0;32m     69\u001b[0m   \u001b[1;32mdef\u001b[0m \u001b[0mapply\u001b[0m\u001b[1;33m(\u001b[0m\u001b[0mself\u001b[0m\u001b[1;33m,\u001b[0m \u001b[0mnamed_args\u001b[0m\u001b[1;33m)\u001b[0m\u001b[1;33m:\u001b[0m\u001b[1;33m\u001b[0m\u001b[1;33m\u001b[0m\u001b[0m\n",
      "\u001b[1;32mc:\\Users\\adamf\\anaconda3\\envs\\intercomparison\\lib\\site-packages\\ee\\function.py\u001b[0m in \u001b[0;36mapply\u001b[1;34m(self, named_args)\u001b[0m\n\u001b[0;32m     78\u001b[0m       \u001b[0mto\u001b[0m \u001b[0mthat\u001b[0m \u001b[0mtype\u001b[0m\u001b[1;33m.\u001b[0m\u001b[1;33m\u001b[0m\u001b[1;33m\u001b[0m\u001b[0m\n\u001b[0;32m     79\u001b[0m     \"\"\"\n\u001b[1;32m---> 80\u001b[1;33m     \u001b[0mresult\u001b[0m \u001b[1;33m=\u001b[0m \u001b[0mcomputedobject\u001b[0m\u001b[1;33m.\u001b[0m\u001b[0mComputedObject\u001b[0m\u001b[1;33m(\u001b[0m\u001b[0mself\u001b[0m\u001b[1;33m,\u001b[0m \u001b[0mself\u001b[0m\u001b[1;33m.\u001b[0m\u001b[0mpromoteArgs\u001b[0m\u001b[1;33m(\u001b[0m\u001b[0mnamed_args\u001b[0m\u001b[1;33m)\u001b[0m\u001b[1;33m)\u001b[0m\u001b[1;33m\u001b[0m\u001b[1;33m\u001b[0m\u001b[0m\n\u001b[0m\u001b[0;32m     81\u001b[0m     \u001b[1;32mreturn\u001b[0m \u001b[0mFunction\u001b[0m\u001b[1;33m.\u001b[0m\u001b[0m_promoter\u001b[0m\u001b[1;33m(\u001b[0m\u001b[0mresult\u001b[0m\u001b[1;33m,\u001b[0m \u001b[0mself\u001b[0m\u001b[1;33m.\u001b[0m\u001b[0mgetReturnType\u001b[0m\u001b[1;33m(\u001b[0m\u001b[1;33m)\u001b[0m\u001b[1;33m)\u001b[0m\u001b[1;33m\u001b[0m\u001b[1;33m\u001b[0m\u001b[0m\n\u001b[0;32m     82\u001b[0m \u001b[1;33m\u001b[0m\u001b[0m\n",
      "\u001b[1;32mc:\\Users\\adamf\\anaconda3\\envs\\intercomparison\\lib\\site-packages\\ee\\function.py\u001b[0m in \u001b[0;36mpromoteArgs\u001b[1;34m(self, args)\u001b[0m\n\u001b[0;32m    105\u001b[0m       \u001b[0mname\u001b[0m \u001b[1;33m=\u001b[0m \u001b[0mspec\u001b[0m\u001b[1;33m[\u001b[0m\u001b[1;34m'name'\u001b[0m\u001b[1;33m]\u001b[0m\u001b[1;33m\u001b[0m\u001b[1;33m\u001b[0m\u001b[0m\n\u001b[0;32m    106\u001b[0m       \u001b[1;32mif\u001b[0m \u001b[0mname\u001b[0m \u001b[1;32min\u001b[0m \u001b[0margs\u001b[0m\u001b[1;33m:\u001b[0m\u001b[1;33m\u001b[0m\u001b[1;33m\u001b[0m\u001b[0m\n\u001b[1;32m--> 107\u001b[1;33m         \u001b[0mpromoted_args\u001b[0m\u001b[1;33m[\u001b[0m\u001b[0mname\u001b[0m\u001b[1;33m]\u001b[0m \u001b[1;33m=\u001b[0m \u001b[0mFunction\u001b[0m\u001b[1;33m.\u001b[0m\u001b[0m_promoter\u001b[0m\u001b[1;33m(\u001b[0m\u001b[0margs\u001b[0m\u001b[1;33m[\u001b[0m\u001b[0mname\u001b[0m\u001b[1;33m]\u001b[0m\u001b[1;33m,\u001b[0m \u001b[0mspec\u001b[0m\u001b[1;33m[\u001b[0m\u001b[1;34m'type'\u001b[0m\u001b[1;33m]\u001b[0m\u001b[1;33m)\u001b[0m\u001b[1;33m\u001b[0m\u001b[1;33m\u001b[0m\u001b[0m\n\u001b[0m\u001b[0;32m    108\u001b[0m       \u001b[1;32melif\u001b[0m \u001b[1;32mnot\u001b[0m \u001b[0mspec\u001b[0m\u001b[1;33m.\u001b[0m\u001b[0mget\u001b[0m\u001b[1;33m(\u001b[0m\u001b[1;34m'optional'\u001b[0m\u001b[1;33m)\u001b[0m\u001b[1;33m:\u001b[0m\u001b[1;33m\u001b[0m\u001b[1;33m\u001b[0m\u001b[0m\n\u001b[0;32m    109\u001b[0m         raise ee_exception.EEException(\n",
      "\u001b[1;32mc:\\Users\\adamf\\anaconda3\\envs\\intercomparison\\lib\\site-packages\\ee\\__init__.py\u001b[0m in \u001b[0;36m_Promote\u001b[1;34m(arg, klass)\u001b[0m\n\u001b[0;32m    259\u001b[0m       \u001b[1;32melse\u001b[0m\u001b[1;33m:\u001b[0m\u001b[1;33m\u001b[0m\u001b[1;33m\u001b[0m\u001b[0m\n\u001b[0;32m    260\u001b[0m         \u001b[0margs_count\u001b[0m \u001b[1;33m=\u001b[0m \u001b[0mlen\u001b[0m\u001b[1;33m(\u001b[0m\u001b[0minspect\u001b[0m\u001b[1;33m.\u001b[0m\u001b[0mgetfullargspec\u001b[0m\u001b[1;33m(\u001b[0m\u001b[0marg\u001b[0m\u001b[1;33m)\u001b[0m\u001b[1;33m.\u001b[0m\u001b[0margs\u001b[0m\u001b[1;33m)\u001b[0m\u001b[1;33m\u001b[0m\u001b[1;33m\u001b[0m\u001b[0m\n\u001b[1;32m--> 261\u001b[1;33m       \u001b[1;32mreturn\u001b[0m \u001b[0mCustomFunction\u001b[0m\u001b[1;33m.\u001b[0m\u001b[0mcreate\u001b[0m\u001b[1;33m(\u001b[0m\u001b[0marg\u001b[0m\u001b[1;33m,\u001b[0m \u001b[1;34m'Object'\u001b[0m\u001b[1;33m,\u001b[0m \u001b[1;33m[\u001b[0m\u001b[1;34m'Object'\u001b[0m\u001b[1;33m]\u001b[0m \u001b[1;33m*\u001b[0m \u001b[0margs_count\u001b[0m\u001b[1;33m)\u001b[0m\u001b[1;33m\u001b[0m\u001b[1;33m\u001b[0m\u001b[0m\n\u001b[0m\u001b[0;32m    262\u001b[0m     \u001b[1;32melif\u001b[0m \u001b[0misinstance\u001b[0m\u001b[1;33m(\u001b[0m\u001b[0marg\u001b[0m\u001b[1;33m,\u001b[0m \u001b[0mEncodable\u001b[0m\u001b[1;33m)\u001b[0m\u001b[1;33m:\u001b[0m\u001b[1;33m\u001b[0m\u001b[1;33m\u001b[0m\u001b[0m\n\u001b[0;32m    263\u001b[0m       \u001b[1;31m# An ee.Function or a computed function like the return value of\u001b[0m\u001b[1;33m\u001b[0m\u001b[1;33m\u001b[0m\u001b[1;33m\u001b[0m\u001b[0m\n",
      "\u001b[1;32mc:\\Users\\adamf\\anaconda3\\envs\\intercomparison\\lib\\site-packages\\ee\\customfunction.py\u001b[0m in \u001b[0;36mcreate\u001b[1;34m(func, return_type, arg_types)\u001b[0m\n\u001b[0;32m    123\u001b[0m         \u001b[1;34m'args'\u001b[0m\u001b[1;33m:\u001b[0m \u001b[0margs\u001b[0m\u001b[1;33m\u001b[0m\u001b[1;33m\u001b[0m\u001b[0m\n\u001b[0;32m    124\u001b[0m     }\n\u001b[1;32m--> 125\u001b[1;33m     \u001b[1;32mreturn\u001b[0m \u001b[0mCustomFunction\u001b[0m\u001b[1;33m(\u001b[0m\u001b[0msignature\u001b[0m\u001b[1;33m,\u001b[0m \u001b[0mfunc\u001b[0m\u001b[1;33m)\u001b[0m\u001b[1;33m\u001b[0m\u001b[1;33m\u001b[0m\u001b[0m\n\u001b[0m\u001b[0;32m    126\u001b[0m \u001b[1;33m\u001b[0m\u001b[0m\n\u001b[0;32m    127\u001b[0m   \u001b[1;33m@\u001b[0m\u001b[0mstaticmethod\u001b[0m\u001b[1;33m\u001b[0m\u001b[1;33m\u001b[0m\u001b[0m\n",
      "\u001b[1;32mc:\\Users\\adamf\\anaconda3\\envs\\intercomparison\\lib\\site-packages\\ee\\customfunction.py\u001b[0m in \u001b[0;36m__init__\u001b[1;34m(self, signature, body)\u001b[0m\n\u001b[0;32m     41\u001b[0m                  for arg in signature['args']]\n\u001b[0;32m     42\u001b[0m \u001b[1;33m\u001b[0m\u001b[0m\n\u001b[1;32m---> 43\u001b[1;33m     \u001b[1;32mif\u001b[0m \u001b[0mbody\u001b[0m\u001b[1;33m(\u001b[0m\u001b[1;33m*\u001b[0m\u001b[0mvariables\u001b[0m\u001b[1;33m)\u001b[0m \u001b[1;32mis\u001b[0m \u001b[1;32mNone\u001b[0m\u001b[1;33m:\u001b[0m\u001b[1;33m\u001b[0m\u001b[1;33m\u001b[0m\u001b[0m\n\u001b[0m\u001b[0;32m     44\u001b[0m       \u001b[1;32mraise\u001b[0m \u001b[0mee_exception\u001b[0m\u001b[1;33m.\u001b[0m\u001b[0mEEException\u001b[0m\u001b[1;33m(\u001b[0m\u001b[1;34m'User-defined methods must return a value'\u001b[0m\u001b[1;33m)\u001b[0m\u001b[1;33m\u001b[0m\u001b[1;33m\u001b[0m\u001b[0m\n\u001b[0;32m     45\u001b[0m \u001b[1;33m\u001b[0m\u001b[0m\n",
      "\u001b[1;32mc:\\Users\\adamf\\anaconda3\\envs\\intercomparison\\lib\\site-packages\\ee\\collection.py\u001b[0m in \u001b[0;36m<lambda>\u001b[1;34m(e)\u001b[0m\n\u001b[0;32m    201\u001b[0m     \"\"\"\n\u001b[0;32m    202\u001b[0m     \u001b[0melement_type\u001b[0m \u001b[1;33m=\u001b[0m \u001b[0mself\u001b[0m\u001b[1;33m.\u001b[0m\u001b[0melementType\u001b[0m\u001b[1;33m(\u001b[0m\u001b[1;33m)\u001b[0m\u001b[1;33m\u001b[0m\u001b[1;33m\u001b[0m\u001b[0m\n\u001b[1;32m--> 203\u001b[1;33m     \u001b[0mwith_cast\u001b[0m \u001b[1;33m=\u001b[0m \u001b[1;32mlambda\u001b[0m \u001b[0me\u001b[0m\u001b[1;33m:\u001b[0m \u001b[0malgorithm\u001b[0m\u001b[1;33m(\u001b[0m\u001b[0melement_type\u001b[0m\u001b[1;33m(\u001b[0m\u001b[0me\u001b[0m\u001b[1;33m)\u001b[0m\u001b[1;33m)\u001b[0m\u001b[1;33m\u001b[0m\u001b[1;33m\u001b[0m\u001b[0m\n\u001b[0m\u001b[0;32m    204\u001b[0m     return self._cast(apifunction.ApiFunction.call_(\n\u001b[0;32m    205\u001b[0m         'Collection.map', self, with_cast, opt_dropNulls))\n",
      "\u001b[1;32m<ipython-input-61-364ae775eead>\u001b[0m in \u001b[0;36m<lambda>\u001b[1;34m(x)\u001b[0m\n\u001b[1;32m----> 1\u001b[1;33m \u001b[0mcopernicus\u001b[0m \u001b[1;33m=\u001b[0m \u001b[0mcopernicus\u001b[0m\u001b[1;33m.\u001b[0m\u001b[0mselect\u001b[0m\u001b[1;33m(\u001b[0m\u001b[1;34m\"discrete_classification\"\u001b[0m\u001b[1;33m)\u001b[0m\u001b[1;33m.\u001b[0m\u001b[0mfilterDate\u001b[0m\u001b[1;33m(\u001b[0m\u001b[1;34m\"2019-01-01\"\u001b[0m\u001b[1;33m,\u001b[0m \u001b[1;34m\"2020-01-01\"\u001b[0m\u001b[1;33m)\u001b[0m\u001b[1;33m.\u001b[0m\u001b[0mmap\u001b[0m\u001b[1;33m(\u001b[0m\u001b[1;32mlambda\u001b[0m \u001b[0mx\u001b[0m\u001b[1;33m:\u001b[0m \u001b[0mreduce_region\u001b[0m\u001b[1;33m(\u001b[0m\u001b[0mx\u001b[0m\u001b[1;33m,\u001b[0m \u001b[1;36m100\u001b[0m\u001b[1;33m,\u001b[0m \u001b[0mtest_coll\u001b[0m\u001b[1;33m)\u001b[0m\u001b[1;33m)\u001b[0m\u001b[1;33m.\u001b[0m\u001b[0mflatten\u001b[0m\u001b[1;33m(\u001b[0m\u001b[1;33m)\u001b[0m\u001b[1;33m\u001b[0m\u001b[1;33m\u001b[0m\u001b[0m\n\u001b[0m\u001b[0;32m      2\u001b[0m \u001b[0mcop_sampled\u001b[0m \u001b[1;33m=\u001b[0m \u001b[0mgeemap\u001b[0m\u001b[1;33m.\u001b[0m\u001b[0mee_to_gdf\u001b[0m\u001b[1;33m(\u001b[0m\u001b[0mcopernicus\u001b[0m\u001b[1;33m)\u001b[0m\u001b[1;33m\u001b[0m\u001b[1;33m\u001b[0m\u001b[0m\n\u001b[0;32m      3\u001b[0m \u001b[0mcop_sampled\u001b[0m\u001b[1;33m[\u001b[0m\u001b[1;34m\"cop_class\"\u001b[0m\u001b[1;33m]\u001b[0m \u001b[1;33m=\u001b[0m \u001b[0mcop_sampled\u001b[0m\u001b[1;33m[\u001b[0m\u001b[1;34m\"discrete_classification\"\u001b[0m\u001b[1;33m]\u001b[0m\u001b[1;33m.\u001b[0m\u001b[0mapply\u001b[0m\u001b[1;33m(\u001b[0m\u001b[1;32mlambda\u001b[0m \u001b[0mx\u001b[0m\u001b[1;33m:\u001b[0m \u001b[1;36m1\u001b[0m \u001b[1;32mif\u001b[0m \u001b[0mx\u001b[0m\u001b[1;33m==\u001b[0m\u001b[1;36m40\u001b[0m \u001b[1;32melse\u001b[0m \u001b[1;36m0\u001b[0m\u001b[1;33m)\u001b[0m\u001b[1;33m\u001b[0m\u001b[1;33m\u001b[0m\u001b[0m\n\u001b[0;32m      4\u001b[0m \u001b[1;33m\u001b[0m\u001b[0m\n\u001b[0;32m      5\u001b[0m \u001b[0mesa\u001b[0m \u001b[1;33m=\u001b[0m \u001b[0mesa\u001b[0m\u001b[1;33m.\u001b[0m\u001b[0mfilterBounds\u001b[0m\u001b[1;33m(\u001b[0m\u001b[0mtest_coll\u001b[0m\u001b[1;33m)\u001b[0m\u001b[1;33m.\u001b[0m\u001b[0mmap\u001b[0m\u001b[1;33m(\u001b[0m\u001b[1;32mlambda\u001b[0m \u001b[0mx\u001b[0m\u001b[1;33m:\u001b[0m \u001b[0mreduce_region\u001b[0m\u001b[1;33m(\u001b[0m\u001b[0mx\u001b[0m\u001b[1;33m,\u001b[0m \u001b[1;36m10\u001b[0m\u001b[1;33m,\u001b[0m \u001b[0mtest_coll\u001b[0m\u001b[1;33m)\u001b[0m\u001b[1;33m)\u001b[0m\u001b[1;33m.\u001b[0m\u001b[0mflatten\u001b[0m\u001b[1;33m(\u001b[0m\u001b[1;33m)\u001b[0m\u001b[1;33m\u001b[0m\u001b[1;33m\u001b[0m\u001b[0m\n",
      "\u001b[1;32m<ipython-input-41-575b6e6fbeaf>\u001b[0m in \u001b[0;36mreduce_region\u001b[1;34m(image, resolution, f_collection)\u001b[0m\n\u001b[0;32m      1\u001b[0m \u001b[1;31m# Function used in map function to extract from feature collection\u001b[0m\u001b[1;33m\u001b[0m\u001b[1;33m\u001b[0m\u001b[1;33m\u001b[0m\u001b[0m\n\u001b[0;32m      2\u001b[0m \u001b[1;32mdef\u001b[0m \u001b[0mreduce_region\u001b[0m\u001b[1;33m(\u001b[0m\u001b[0mimage\u001b[0m\u001b[1;33m,\u001b[0m \u001b[0mresolution\u001b[0m\u001b[1;33m,\u001b[0m \u001b[0mf_collection\u001b[0m\u001b[1;33m)\u001b[0m\u001b[1;33m:\u001b[0m\u001b[1;33m\u001b[0m\u001b[1;33m\u001b[0m\u001b[0m\n\u001b[1;32m----> 3\u001b[1;33m     feature = image.reduceRegions(\n\u001b[0m\u001b[0;32m      4\u001b[0m         \u001b[0mcollection\u001b[0m \u001b[1;33m=\u001b[0m \u001b[0mf_collection\u001b[0m\u001b[1;33m,\u001b[0m\u001b[1;33m\u001b[0m\u001b[1;33m\u001b[0m\u001b[0m\n\u001b[0;32m      5\u001b[0m         \u001b[0mscale\u001b[0m \u001b[1;33m=\u001b[0m \u001b[0mresolution\u001b[0m\u001b[1;33m,\u001b[0m\u001b[1;33m\u001b[0m\u001b[1;33m\u001b[0m\u001b[0m\n",
      "\u001b[1;31mAttributeError\u001b[0m: 'Feature' object has no attribute 'reduceRegions'"
     ]
    }
   ],
   "source": [
    "copernicus_reduced = copernicus_reduced.select(\"discrete_classification\").filterDate(\"2019-01-01\", \"2020-01-01\").map(lambda x: raster_extraction(x, 100, test_coll)).flatten()\n",
    "cop_reduced = geemap.ee_to_gdf(copernicus_reduced)\n",
    "cop_reduced[\"reduced\"] = cop_reduced[\"discrete_classification\"].apply(lambda x: 1 if x==40 else 0)\n",
    "\n",
    "esa_reduced = esa_reduced.filterBounds(test_coll).map(lambda x: raster_extraction(x, 10, test_coll)).flatten()\n",
    "esa_reduced = geemap.ee_to_gdf(esa_reduced)\n",
    "esa_reduced[\"reduced\"] = esa_reduced[\"Map\"].apply(lambda x: 1 if x==40 else 0)\n",
    "\n",
    "glad_reduced = glad_reduced.filterBounds(test_coll).map(lambda x: raster_extraction(x, 30, test_coll)).flatten()\n",
    "glad_reduced = geemap.ee_to_gdf(glad_reduced)"
   ]
  },
  {
   "cell_type": "code",
   "execution_count": 43,
   "metadata": {},
   "outputs": [
    {
     "name": "stdout",
     "output_type": "stream",
     "text": [
      "<class 'geopandas.geodataframe.GeoDataFrame'>\n",
      "RangeIndex: 2653 entries, 0 to 2652\n",
      "Data columns (total 6 columns):\n",
      " #   Column      Non-Null Count  Dtype   \n",
      "---  ------      --------------  -----   \n",
      " 0   geometry    2653 non-null   geometry\n",
      " 1   first       2653 non-null   int64   \n",
      " 2   lat         2653 non-null   float64 \n",
      " 3   lon         2653 non-null   float64 \n",
      " 4   test_class  2653 non-null   int64   \n",
      " 5   cop_class   2653 non-null   int64   \n",
      "dtypes: float64(2), geometry(1), int64(3)\n",
      "memory usage: 124.5 KB\n"
     ]
    }
   ],
   "source": [
    "reduced_gdf[\"cop_class\"] = reduced_gdf[\"first\"].apply(lambda x: 1 if x==40 else 0)\n",
    "reduced_gdf.info()"
   ]
  },
  {
   "cell_type": "code",
   "execution_count": 47,
   "metadata": {},
   "outputs": [],
   "source": [
    "sampled = esa.filterDate(\n",
    "        \"2019-01-01\", \"2020-01-01\").map(\n",
    "            lambda x: raster_extraction(x, 10, test_coll)).flatten()\n",
    "        \n",
    "sampled_gdf = geemap.ee_to_gdf(sampled)"
   ]
  },
  {
   "cell_type": "code",
   "execution_count": 49,
   "metadata": {},
   "outputs": [
    {
     "data": {
      "text/html": [
       "<div>\n",
       "<style scoped>\n",
       "    .dataframe tbody tr th:only-of-type {\n",
       "        vertical-align: middle;\n",
       "    }\n",
       "\n",
       "    .dataframe tbody tr th {\n",
       "        vertical-align: top;\n",
       "    }\n",
       "\n",
       "    .dataframe thead th {\n",
       "        text-align: right;\n",
       "    }\n",
       "</style>\n",
       "<table border=\"1\" class=\"dataframe\">\n",
       "  <thead>\n",
       "    <tr style=\"text-align: right;\">\n",
       "      <th></th>\n",
       "    </tr>\n",
       "  </thead>\n",
       "  <tbody>\n",
       "  </tbody>\n",
       "</table>\n",
       "</div>"
      ],
      "text/plain": [
       "Empty GeoDataFrame\n",
       "Columns: []\n",
       "Index: []"
      ]
     },
     "execution_count": 49,
     "metadata": {},
     "output_type": "execute_result"
    }
   ],
   "source": [
    "sampled_gdf"
   ]
  },
  {
   "cell_type": "code",
   "execution_count": 48,
   "metadata": {},
   "outputs": [
    {
     "ename": "KeyError",
     "evalue": "'discrete_classification'",
     "output_type": "error",
     "traceback": [
      "\u001b[1;31m---------------------------------------------------------------------------\u001b[0m",
      "\u001b[1;31mKeyError\u001b[0m                                  Traceback (most recent call last)",
      "\u001b[1;32mc:\\Users\\adamf\\anaconda3\\envs\\intercomparison\\lib\\site-packages\\pandas\\core\\indexes\\base.py\u001b[0m in \u001b[0;36mget_loc\u001b[1;34m(self, key, method, tolerance)\u001b[0m\n\u001b[0;32m   3079\u001b[0m             \u001b[1;32mtry\u001b[0m\u001b[1;33m:\u001b[0m\u001b[1;33m\u001b[0m\u001b[1;33m\u001b[0m\u001b[0m\n\u001b[1;32m-> 3080\u001b[1;33m                 \u001b[1;32mreturn\u001b[0m \u001b[0mself\u001b[0m\u001b[1;33m.\u001b[0m\u001b[0m_engine\u001b[0m\u001b[1;33m.\u001b[0m\u001b[0mget_loc\u001b[0m\u001b[1;33m(\u001b[0m\u001b[0mcasted_key\u001b[0m\u001b[1;33m)\u001b[0m\u001b[1;33m\u001b[0m\u001b[1;33m\u001b[0m\u001b[0m\n\u001b[0m\u001b[0;32m   3081\u001b[0m             \u001b[1;32mexcept\u001b[0m \u001b[0mKeyError\u001b[0m \u001b[1;32mas\u001b[0m \u001b[0merr\u001b[0m\u001b[1;33m:\u001b[0m\u001b[1;33m\u001b[0m\u001b[1;33m\u001b[0m\u001b[0m\n",
      "\u001b[1;32mpandas\\_libs\\index.pyx\u001b[0m in \u001b[0;36mpandas._libs.index.IndexEngine.get_loc\u001b[1;34m()\u001b[0m\n",
      "\u001b[1;32mpandas\\_libs\\index.pyx\u001b[0m in \u001b[0;36mpandas._libs.index.IndexEngine.get_loc\u001b[1;34m()\u001b[0m\n",
      "\u001b[1;32mpandas\\_libs\\hashtable_class_helper.pxi\u001b[0m in \u001b[0;36mpandas._libs.hashtable.PyObjectHashTable.get_item\u001b[1;34m()\u001b[0m\n",
      "\u001b[1;32mpandas\\_libs\\hashtable_class_helper.pxi\u001b[0m in \u001b[0;36mpandas._libs.hashtable.PyObjectHashTable.get_item\u001b[1;34m()\u001b[0m\n",
      "\u001b[1;31mKeyError\u001b[0m: 'discrete_classification'",
      "\nThe above exception was the direct cause of the following exception:\n",
      "\u001b[1;31mKeyError\u001b[0m                                  Traceback (most recent call last)",
      "\u001b[1;32m<ipython-input-48-4d1bae4d76fc>\u001b[0m in \u001b[0;36m<module>\u001b[1;34m\u001b[0m\n\u001b[1;32m----> 1\u001b[1;33m \u001b[0msampled_gdf\u001b[0m\u001b[1;33m[\u001b[0m\u001b[1;34m\"cop_class\"\u001b[0m\u001b[1;33m]\u001b[0m \u001b[1;33m=\u001b[0m \u001b[0msampled_gdf\u001b[0m\u001b[1;33m[\u001b[0m\u001b[1;34m\"discrete_classification\"\u001b[0m\u001b[1;33m]\u001b[0m\u001b[1;33m.\u001b[0m\u001b[0mapply\u001b[0m\u001b[1;33m(\u001b[0m\u001b[1;32mlambda\u001b[0m \u001b[0mx\u001b[0m\u001b[1;33m:\u001b[0m \u001b[1;36m1\u001b[0m \u001b[1;32mif\u001b[0m \u001b[0mx\u001b[0m\u001b[1;33m==\u001b[0m\u001b[1;36m40\u001b[0m \u001b[1;32melse\u001b[0m \u001b[1;36m0\u001b[0m\u001b[1;33m)\u001b[0m\u001b[1;33m\u001b[0m\u001b[1;33m\u001b[0m\u001b[0m\n\u001b[0m\u001b[0;32m      2\u001b[0m \u001b[0msampled_gdf\u001b[0m\u001b[1;33m.\u001b[0m\u001b[0minfo\u001b[0m\u001b[1;33m(\u001b[0m\u001b[1;33m)\u001b[0m\u001b[1;33m\u001b[0m\u001b[1;33m\u001b[0m\u001b[0m\n",
      "\u001b[1;32mc:\\Users\\adamf\\anaconda3\\envs\\intercomparison\\lib\\site-packages\\geopandas\\geodataframe.py\u001b[0m in \u001b[0;36m__getitem__\u001b[1;34m(self, key)\u001b[0m\n\u001b[0;32m   1426\u001b[0m         \u001b[1;32mreturn\u001b[0m \u001b[0ma\u001b[0m \u001b[0mGeoDataFrame\u001b[0m\u001b[1;33m.\u001b[0m\u001b[1;33m\u001b[0m\u001b[1;33m\u001b[0m\u001b[0m\n\u001b[0;32m   1427\u001b[0m         \"\"\"\n\u001b[1;32m-> 1428\u001b[1;33m         \u001b[0mresult\u001b[0m \u001b[1;33m=\u001b[0m \u001b[0msuper\u001b[0m\u001b[1;33m(\u001b[0m\u001b[1;33m)\u001b[0m\u001b[1;33m.\u001b[0m\u001b[0m__getitem__\u001b[0m\u001b[1;33m(\u001b[0m\u001b[0mkey\u001b[0m\u001b[1;33m)\u001b[0m\u001b[1;33m\u001b[0m\u001b[1;33m\u001b[0m\u001b[0m\n\u001b[0m\u001b[0;32m   1429\u001b[0m         \u001b[0mgeo_col\u001b[0m \u001b[1;33m=\u001b[0m \u001b[0mself\u001b[0m\u001b[1;33m.\u001b[0m\u001b[0m_geometry_column_name\u001b[0m\u001b[1;33m\u001b[0m\u001b[1;33m\u001b[0m\u001b[0m\n\u001b[0;32m   1430\u001b[0m         \u001b[1;32mif\u001b[0m \u001b[0misinstance\u001b[0m\u001b[1;33m(\u001b[0m\u001b[0mresult\u001b[0m\u001b[1;33m,\u001b[0m \u001b[0mSeries\u001b[0m\u001b[1;33m)\u001b[0m \u001b[1;32mand\u001b[0m \u001b[0misinstance\u001b[0m\u001b[1;33m(\u001b[0m\u001b[0mresult\u001b[0m\u001b[1;33m.\u001b[0m\u001b[0mdtype\u001b[0m\u001b[1;33m,\u001b[0m \u001b[0mGeometryDtype\u001b[0m\u001b[1;33m)\u001b[0m\u001b[1;33m:\u001b[0m\u001b[1;33m\u001b[0m\u001b[1;33m\u001b[0m\u001b[0m\n",
      "\u001b[1;32mc:\\Users\\adamf\\anaconda3\\envs\\intercomparison\\lib\\site-packages\\pandas\\core\\frame.py\u001b[0m in \u001b[0;36m__getitem__\u001b[1;34m(self, key)\u001b[0m\n\u001b[0;32m   3022\u001b[0m             \u001b[1;32mif\u001b[0m \u001b[0mself\u001b[0m\u001b[1;33m.\u001b[0m\u001b[0mcolumns\u001b[0m\u001b[1;33m.\u001b[0m\u001b[0mnlevels\u001b[0m \u001b[1;33m>\u001b[0m \u001b[1;36m1\u001b[0m\u001b[1;33m:\u001b[0m\u001b[1;33m\u001b[0m\u001b[1;33m\u001b[0m\u001b[0m\n\u001b[0;32m   3023\u001b[0m                 \u001b[1;32mreturn\u001b[0m \u001b[0mself\u001b[0m\u001b[1;33m.\u001b[0m\u001b[0m_getitem_multilevel\u001b[0m\u001b[1;33m(\u001b[0m\u001b[0mkey\u001b[0m\u001b[1;33m)\u001b[0m\u001b[1;33m\u001b[0m\u001b[1;33m\u001b[0m\u001b[0m\n\u001b[1;32m-> 3024\u001b[1;33m             \u001b[0mindexer\u001b[0m \u001b[1;33m=\u001b[0m \u001b[0mself\u001b[0m\u001b[1;33m.\u001b[0m\u001b[0mcolumns\u001b[0m\u001b[1;33m.\u001b[0m\u001b[0mget_loc\u001b[0m\u001b[1;33m(\u001b[0m\u001b[0mkey\u001b[0m\u001b[1;33m)\u001b[0m\u001b[1;33m\u001b[0m\u001b[1;33m\u001b[0m\u001b[0m\n\u001b[0m\u001b[0;32m   3025\u001b[0m             \u001b[1;32mif\u001b[0m \u001b[0mis_integer\u001b[0m\u001b[1;33m(\u001b[0m\u001b[0mindexer\u001b[0m\u001b[1;33m)\u001b[0m\u001b[1;33m:\u001b[0m\u001b[1;33m\u001b[0m\u001b[1;33m\u001b[0m\u001b[0m\n\u001b[0;32m   3026\u001b[0m                 \u001b[0mindexer\u001b[0m \u001b[1;33m=\u001b[0m \u001b[1;33m[\u001b[0m\u001b[0mindexer\u001b[0m\u001b[1;33m]\u001b[0m\u001b[1;33m\u001b[0m\u001b[1;33m\u001b[0m\u001b[0m\n",
      "\u001b[1;32mc:\\Users\\adamf\\anaconda3\\envs\\intercomparison\\lib\\site-packages\\pandas\\core\\indexes\\base.py\u001b[0m in \u001b[0;36mget_loc\u001b[1;34m(self, key, method, tolerance)\u001b[0m\n\u001b[0;32m   3080\u001b[0m                 \u001b[1;32mreturn\u001b[0m \u001b[0mself\u001b[0m\u001b[1;33m.\u001b[0m\u001b[0m_engine\u001b[0m\u001b[1;33m.\u001b[0m\u001b[0mget_loc\u001b[0m\u001b[1;33m(\u001b[0m\u001b[0mcasted_key\u001b[0m\u001b[1;33m)\u001b[0m\u001b[1;33m\u001b[0m\u001b[1;33m\u001b[0m\u001b[0m\n\u001b[0;32m   3081\u001b[0m             \u001b[1;32mexcept\u001b[0m \u001b[0mKeyError\u001b[0m \u001b[1;32mas\u001b[0m \u001b[0merr\u001b[0m\u001b[1;33m:\u001b[0m\u001b[1;33m\u001b[0m\u001b[1;33m\u001b[0m\u001b[0m\n\u001b[1;32m-> 3082\u001b[1;33m                 \u001b[1;32mraise\u001b[0m \u001b[0mKeyError\u001b[0m\u001b[1;33m(\u001b[0m\u001b[0mkey\u001b[0m\u001b[1;33m)\u001b[0m \u001b[1;32mfrom\u001b[0m \u001b[0merr\u001b[0m\u001b[1;33m\u001b[0m\u001b[1;33m\u001b[0m\u001b[0m\n\u001b[0m\u001b[0;32m   3083\u001b[0m \u001b[1;33m\u001b[0m\u001b[0m\n\u001b[0;32m   3084\u001b[0m         \u001b[1;32mif\u001b[0m \u001b[0mtolerance\u001b[0m \u001b[1;32mis\u001b[0m \u001b[1;32mnot\u001b[0m \u001b[1;32mNone\u001b[0m\u001b[1;33m:\u001b[0m\u001b[1;33m\u001b[0m\u001b[1;33m\u001b[0m\u001b[0m\n",
      "\u001b[1;31mKeyError\u001b[0m: 'discrete_classification'"
     ]
    }
   ],
   "source": [
    "sampled_gdf[\"cop_class\"] = sampled_gdf[\"discrete_classification\"].apply(lambda x: 1 if x==40 else 0)\n",
    "sampled_gdf.info()"
   ]
  },
  {
   "cell_type": "code",
   "execution_count": null,
   "metadata": {},
   "outputs": [
    {
     "data": {
      "text/html": [
       "<div>\n",
       "<style scoped>\n",
       "    .dataframe tbody tr th:only-of-type {\n",
       "        vertical-align: middle;\n",
       "    }\n",
       "\n",
       "    .dataframe tbody tr th {\n",
       "        vertical-align: top;\n",
       "    }\n",
       "\n",
       "    .dataframe thead th {\n",
       "        text-align: right;\n",
       "    }\n",
       "</style>\n",
       "<table border=\"1\" class=\"dataframe\">\n",
       "  <thead>\n",
       "    <tr style=\"text-align: right;\">\n",
       "      <th></th>\n",
       "      <th>self</th>\n",
       "      <th>other</th>\n",
       "    </tr>\n",
       "  </thead>\n",
       "  <tbody>\n",
       "  </tbody>\n",
       "</table>\n",
       "</div>"
      ],
      "text/plain": [
       "Empty DataFrame\n",
       "Columns: [self, other]\n",
       "Index: []"
      ]
     },
     "execution_count": 35,
     "metadata": {},
     "output_type": "execute_result"
    }
   ],
   "source": [
    "sampled_gdf['cop_class'].compare(reduced_gdf['cop_class'])"
   ]
  },
  {
   "cell_type": "code",
   "execution_count": null,
   "metadata": {},
   "outputs": [],
   "source": []
  }
 ],
 "metadata": {
  "kernelspec": {
   "display_name": "intercomparison",
   "language": "python",
   "name": "python3"
  },
  "language_info": {
   "codemirror_mode": {
    "name": "ipython",
    "version": 3
   },
   "file_extension": ".py",
   "mimetype": "text/x-python",
   "name": "python",
   "nbconvert_exporter": "python",
   "pygments_lexer": "ipython3",
   "version": "3.8.8"
  },
  "orig_nbformat": 4,
  "vscode": {
   "interpreter": {
    "hash": "b9a057a3c2bc11d9fb1a09bad675557d69c9743adf6ae74a67a8c76be0d35d72"
   }
  }
 },
 "nbformat": 4,
 "nbformat_minor": 2
}
