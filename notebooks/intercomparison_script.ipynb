{
 "cells": [
  {
   "attachments": {},
   "cell_type": "markdown",
   "metadata": {},
   "source": [
    "# **Intercomparison Demo**\n",
    "\n",
    "**Author:** Adam Yang (ayang115@umd.edu)\n",
    "\n",
    "**Description** Demo for Intercomparison Script: extracts test points, provided from hand labeled maps, from industry covermaps (Harvest, Copernicus, ESA, GLAD) and determines accuracy across maps.\n"
   ]
  },
  {
   "cell_type": "code",
   "execution_count": 1,
   "metadata": {},
   "outputs": [],
   "source": [
    "# Authenticate notebook for Earth Engine use. Only needs to be run once, but is required for functions to work!\n",
    "# !earthengine authenticate"
   ]
  },
  {
   "cell_type": "code",
   "execution_count": 1,
   "metadata": {},
   "outputs": [],
   "source": [
    "import ee\n",
    "ee.Initialize()"
   ]
  },
  {
   "cell_type": "code",
   "execution_count": 3,
   "metadata": {},
   "outputs": [
    {
     "name": "stderr",
     "output_type": "stream",
     "text": [
      "c:\\Users\\adamf\\anaconda3\\envs\\intercomparison\\lib\\site-packages\\geopandas\\_compat.py:112: UserWarning: The Shapely GEOS version (3.8.0-CAPI-1.13.1 ) is incompatible with the GEOS version PyGEOS was compiled with (3.10.4-CAPI-1.16.2). Conversions between both will be slow.\n",
      "  warnings.warn(\n"
     ]
    }
   ],
   "source": [
    "import pandas as pd\n",
    "import matplotlib.pyplot as plt\n",
    "import numpy as np\n",
    "import pandas as pd\n",
    "import ee\n",
    "from shapely import wkt\n",
    "\n",
    "import sys\n",
    "sys.path.append(\"..\")\n",
    "from src.compare_covermaps import *"
   ]
  },
  {
   "cell_type": "code",
   "execution_count": 4,
   "metadata": {},
   "outputs": [],
   "source": [
    "set1_maps = [TARGETS[\"harvest_togo\"], TARGETS[\"harvest_kenya\"], TARGETS[\"harvest_tanzania\"], TARGETS[\"copernicus\"], TARGETS[\"esa\"], TARGETS[\"glad\"]]\n",
    "# set1_maps = [TARGETS[\"harvest_togo\"], TARGETS[\"harvest_kenya\"], TARGETS[\"harvest_tanzania\"], TARGETS[\"gfsad-gcep\"], TARGETS[\"gfsad-lgrip\"], TARGETS[\"gfsad\"]]\n",
    "set1_countries = [\"Togo\", \"Kenya\", \"Tanzania\"]"
   ]
  },
  {
   "cell_type": "code",
   "execution_count": 5,
   "metadata": {},
   "outputs": [],
   "source": [
    "test1 = TestCovermaps(test_countries=set1_countries, covermaps=set1_maps)"
   ]
  },
  {
   "cell_type": "code",
   "execution_count": 14,
   "metadata": {},
   "outputs": [],
   "source": [
    "# test1_test = test1.get_test_points()"
   ]
  },
  {
   "cell_type": "code",
   "execution_count": 28,
   "metadata": {},
   "outputs": [],
   "source": [
    "test1_test = pd.read_csv(\"../../intercomparison-data/extracted/test/tgo_tan_ken_2019_(newkenya).csv\").drop(\"Unnamed: 0\", axis=1)\n",
    "test1_test[\"geometry\"] = test1_test[\"geometry\"].apply(wkt.loads)\n",
    "test1_test = gpd.GeoDataFrame(test1_test, crs=\"epsg:4326\")"
   ]
  },
  {
   "cell_type": "code",
   "execution_count": 32,
   "metadata": {},
   "outputs": [
    {
     "name": "stdout",
     "output_type": "stream",
     "text": [
      "[Togo] sampling harvest_togo...\n",
      "[Togo] sampling copernicus...\n",
      "[Togo] sampling esa...\n",
      "[Togo] sampling glad...\n",
      "[Kenya] sampling harvest_kenya...\n",
      "Extracting error: length of sampled dataset is not the same as testing dataset\n",
      "[Kenya] sampling copernicus...\n",
      "[Kenya] sampling esa...\n",
      "[Kenya] sampling glad...\n",
      "[Tanzania] sampling harvest_tanzania...\n",
      "[Tanzania] sampling copernicus...\n",
      "[Tanzania] sampling esa...\n",
      "[Tanzania] sampling glad...\n"
     ]
    }
   ],
   "source": [
    "extracted = test1.extract_covermaps(test1_test)"
   ]
  },
  {
   "cell_type": "code",
   "execution_count": 33,
   "metadata": {},
   "outputs": [
    {
     "name": "stdout",
     "output_type": "stream",
     "text": [
      "evaluating maps...\n",
      "dataset: harvest_togo | country: Togo\n",
      "dataset: copernicus | country: Togo\n",
      "dataset: esa | country: Togo\n",
      "dataset: glad | country: Togo\n",
      "dataset: harvest_kenya | country: Kenya\n",
      "dataset: copernicus | country: Kenya\n",
      "dataset: esa | country: Kenya\n",
      "dataset: glad | country: Kenya\n",
      "dataset: harvest_tanzania | country: Tanzania\n",
      "dataset: copernicus | country: Tanzania\n",
      "dataset: esa | country: Tanzania\n",
      "dataset: glad | country: Tanzania\n"
     ]
    },
    {
     "data": {
      "text/html": [
       "<div>\n",
       "<style scoped>\n",
       "    .dataframe tbody tr th:only-of-type {\n",
       "        vertical-align: middle;\n",
       "    }\n",
       "\n",
       "    .dataframe tbody tr th {\n",
       "        vertical-align: top;\n",
       "    }\n",
       "\n",
       "    .dataframe thead th {\n",
       "        text-align: right;\n",
       "    }\n",
       "</style>\n",
       "<table border=\"1\" class=\"dataframe\">\n",
       "  <thead>\n",
       "    <tr style=\"text-align: right;\">\n",
       "      <th></th>\n",
       "      <th>dataset</th>\n",
       "      <th>country</th>\n",
       "      <th>crop_f1</th>\n",
       "      <th>accuracy</th>\n",
       "      <th>crop_support</th>\n",
       "      <th>noncrop_support</th>\n",
       "      <th>crop_recall</th>\n",
       "      <th>noncrop_recall</th>\n",
       "      <th>crop_precision</th>\n",
       "      <th>noncrop_precision</th>\n",
       "    </tr>\n",
       "  </thead>\n",
       "  <tbody>\n",
       "    <tr>\n",
       "      <th>0</th>\n",
       "      <td>harvest_tanzania</td>\n",
       "      <td>Tanzania</td>\n",
       "      <td>0.708861</td>\n",
       "      <td>0.760573</td>\n",
       "      <td>767</td>\n",
       "      <td>770</td>\n",
       "      <td>0.584094</td>\n",
       "      <td>0.936364</td>\n",
       "      <td>0.901408</td>\n",
       "      <td>0.693269</td>\n",
       "    </tr>\n",
       "    <tr>\n",
       "      <th>0</th>\n",
       "      <td>copernicus</td>\n",
       "      <td>Tanzania</td>\n",
       "      <td>0.742681</td>\n",
       "      <td>0.782694</td>\n",
       "      <td>767</td>\n",
       "      <td>770</td>\n",
       "      <td>0.628422</td>\n",
       "      <td>0.936364</td>\n",
       "      <td>0.907721</td>\n",
       "      <td>0.716700</td>\n",
       "    </tr>\n",
       "    <tr>\n",
       "      <th>0</th>\n",
       "      <td>esa</td>\n",
       "      <td>Tanzania</td>\n",
       "      <td>0.741627</td>\n",
       "      <td>0.789200</td>\n",
       "      <td>767</td>\n",
       "      <td>770</td>\n",
       "      <td>0.606258</td>\n",
       "      <td>0.971429</td>\n",
       "      <td>0.954825</td>\n",
       "      <td>0.712381</td>\n",
       "    </tr>\n",
       "    <tr>\n",
       "      <th>0</th>\n",
       "      <td>glad</td>\n",
       "      <td>Tanzania</td>\n",
       "      <td>0.718494</td>\n",
       "      <td>0.776187</td>\n",
       "      <td>767</td>\n",
       "      <td>770</td>\n",
       "      <td>0.572360</td>\n",
       "      <td>0.979221</td>\n",
       "      <td>0.964835</td>\n",
       "      <td>0.696858</td>\n",
       "    </tr>\n",
       "  </tbody>\n",
       "</table>\n",
       "</div>"
      ],
      "text/plain": [
       "            dataset   country   crop_f1  accuracy  crop_support  \\\n",
       "0  harvest_tanzania  Tanzania  0.708861  0.760573           767   \n",
       "0        copernicus  Tanzania  0.742681  0.782694           767   \n",
       "0               esa  Tanzania  0.741627  0.789200           767   \n",
       "0              glad  Tanzania  0.718494  0.776187           767   \n",
       "\n",
       "   noncrop_support  crop_recall  noncrop_recall  crop_precision  \\\n",
       "0              770     0.584094        0.936364        0.901408   \n",
       "0              770     0.628422        0.936364        0.907721   \n",
       "0              770     0.606258        0.971429        0.954825   \n",
       "0              770     0.572360        0.979221        0.964835   \n",
       "\n",
       "   noncrop_precision  \n",
       "0           0.693269  \n",
       "0           0.716700  \n",
       "0           0.712381  \n",
       "0           0.696858  "
      ]
     },
     "execution_count": 33,
     "metadata": {},
     "output_type": "execute_result"
    }
   ],
   "source": [
    "a=test1.evaluate()\n",
    "test1.results[\"Tanzania\"]"
   ]
  },
  {
   "cell_type": "code",
   "execution_count": 34,
   "metadata": {},
   "outputs": [
    {
     "data": {
      "text/html": [
       "<div>\n",
       "<style scoped>\n",
       "    .dataframe tbody tr th:only-of-type {\n",
       "        vertical-align: middle;\n",
       "    }\n",
       "\n",
       "    .dataframe tbody tr th {\n",
       "        vertical-align: top;\n",
       "    }\n",
       "\n",
       "    .dataframe thead th {\n",
       "        text-align: right;\n",
       "    }\n",
       "</style>\n",
       "<table border=\"1\" class=\"dataframe\">\n",
       "  <thead>\n",
       "    <tr style=\"text-align: right;\">\n",
       "      <th></th>\n",
       "      <th>dataset</th>\n",
       "      <th>country</th>\n",
       "      <th>crop_f1</th>\n",
       "      <th>accuracy</th>\n",
       "      <th>crop_support</th>\n",
       "      <th>noncrop_support</th>\n",
       "      <th>crop_recall</th>\n",
       "      <th>noncrop_recall</th>\n",
       "      <th>crop_precision</th>\n",
       "      <th>noncrop_precision</th>\n",
       "    </tr>\n",
       "  </thead>\n",
       "  <tbody>\n",
       "    <tr>\n",
       "      <th>0</th>\n",
       "      <td>harvest_togo</td>\n",
       "      <td>Togo</td>\n",
       "      <td>0.747541</td>\n",
       "      <td>0.781250</td>\n",
       "      <td>152</td>\n",
       "      <td>200</td>\n",
       "      <td>0.750000</td>\n",
       "      <td>0.805</td>\n",
       "      <td>0.745098</td>\n",
       "      <td>0.809045</td>\n",
       "    </tr>\n",
       "    <tr>\n",
       "      <th>0</th>\n",
       "      <td>copernicus</td>\n",
       "      <td>Togo</td>\n",
       "      <td>0.569170</td>\n",
       "      <td>0.690341</td>\n",
       "      <td>152</td>\n",
       "      <td>200</td>\n",
       "      <td>0.473684</td>\n",
       "      <td>0.855</td>\n",
       "      <td>0.712871</td>\n",
       "      <td>0.681275</td>\n",
       "    </tr>\n",
       "    <tr>\n",
       "      <th>0</th>\n",
       "      <td>esa</td>\n",
       "      <td>Togo</td>\n",
       "      <td>0.629787</td>\n",
       "      <td>0.752841</td>\n",
       "      <td>152</td>\n",
       "      <td>200</td>\n",
       "      <td>0.486842</td>\n",
       "      <td>0.955</td>\n",
       "      <td>0.891566</td>\n",
       "      <td>0.710037</td>\n",
       "    </tr>\n",
       "    <tr>\n",
       "      <th>0</th>\n",
       "      <td>glad</td>\n",
       "      <td>Togo</td>\n",
       "      <td>0.562771</td>\n",
       "      <td>0.713068</td>\n",
       "      <td>152</td>\n",
       "      <td>200</td>\n",
       "      <td>0.427632</td>\n",
       "      <td>0.930</td>\n",
       "      <td>0.822785</td>\n",
       "      <td>0.681319</td>\n",
       "    </tr>\n",
       "  </tbody>\n",
       "</table>\n",
       "</div>"
      ],
      "text/plain": [
       "        dataset country   crop_f1  accuracy  crop_support  noncrop_support  \\\n",
       "0  harvest_togo    Togo  0.747541  0.781250           152              200   \n",
       "0    copernicus    Togo  0.569170  0.690341           152              200   \n",
       "0           esa    Togo  0.629787  0.752841           152              200   \n",
       "0          glad    Togo  0.562771  0.713068           152              200   \n",
       "\n",
       "   crop_recall  noncrop_recall  crop_precision  noncrop_precision  \n",
       "0     0.750000           0.805        0.745098           0.809045  \n",
       "0     0.473684           0.855        0.712871           0.681275  \n",
       "0     0.486842           0.955        0.891566           0.710037  \n",
       "0     0.427632           0.930        0.822785           0.681319  "
      ]
     },
     "execution_count": 34,
     "metadata": {},
     "output_type": "execute_result"
    }
   ],
   "source": [
    "test1.results[\"Togo\"]"
   ]
  },
  {
   "cell_type": "code",
   "execution_count": 35,
   "metadata": {},
   "outputs": [
    {
     "data": {
      "text/html": [
       "<div>\n",
       "<style scoped>\n",
       "    .dataframe tbody tr th:only-of-type {\n",
       "        vertical-align: middle;\n",
       "    }\n",
       "\n",
       "    .dataframe tbody tr th {\n",
       "        vertical-align: top;\n",
       "    }\n",
       "\n",
       "    .dataframe thead th {\n",
       "        text-align: right;\n",
       "    }\n",
       "</style>\n",
       "<table border=\"1\" class=\"dataframe\">\n",
       "  <thead>\n",
       "    <tr style=\"text-align: right;\">\n",
       "      <th></th>\n",
       "      <th>dataset</th>\n",
       "      <th>country</th>\n",
       "      <th>crop_f1</th>\n",
       "      <th>accuracy</th>\n",
       "      <th>crop_support</th>\n",
       "      <th>noncrop_support</th>\n",
       "      <th>crop_recall</th>\n",
       "      <th>noncrop_recall</th>\n",
       "      <th>crop_precision</th>\n",
       "      <th>noncrop_precision</th>\n",
       "    </tr>\n",
       "  </thead>\n",
       "  <tbody>\n",
       "    <tr>\n",
       "      <th>0</th>\n",
       "      <td>harvest_kenya</td>\n",
       "      <td>Kenya</td>\n",
       "      <td>0.507463</td>\n",
       "      <td>0.883803</td>\n",
       "      <td>36</td>\n",
       "      <td>248</td>\n",
       "      <td>0.472222</td>\n",
       "      <td>0.943548</td>\n",
       "      <td>0.548387</td>\n",
       "      <td>0.924901</td>\n",
       "    </tr>\n",
       "    <tr>\n",
       "      <th>0</th>\n",
       "      <td>copernicus</td>\n",
       "      <td>Kenya</td>\n",
       "      <td>0.567568</td>\n",
       "      <td>0.888889</td>\n",
       "      <td>36</td>\n",
       "      <td>252</td>\n",
       "      <td>0.583333</td>\n",
       "      <td>0.932540</td>\n",
       "      <td>0.552632</td>\n",
       "      <td>0.940000</td>\n",
       "    </tr>\n",
       "    <tr>\n",
       "      <th>0</th>\n",
       "      <td>esa</td>\n",
       "      <td>Kenya</td>\n",
       "      <td>0.391304</td>\n",
       "      <td>0.902778</td>\n",
       "      <td>36</td>\n",
       "      <td>252</td>\n",
       "      <td>0.250000</td>\n",
       "      <td>0.996032</td>\n",
       "      <td>0.900000</td>\n",
       "      <td>0.902878</td>\n",
       "    </tr>\n",
       "    <tr>\n",
       "      <th>0</th>\n",
       "      <td>glad</td>\n",
       "      <td>Kenya</td>\n",
       "      <td>0.757576</td>\n",
       "      <td>0.944444</td>\n",
       "      <td>36</td>\n",
       "      <td>252</td>\n",
       "      <td>0.694444</td>\n",
       "      <td>0.980159</td>\n",
       "      <td>0.833333</td>\n",
       "      <td>0.957364</td>\n",
       "    </tr>\n",
       "  </tbody>\n",
       "</table>\n",
       "</div>"
      ],
      "text/plain": [
       "         dataset country   crop_f1  accuracy  crop_support  noncrop_support  \\\n",
       "0  harvest_kenya   Kenya  0.507463  0.883803            36              248   \n",
       "0     copernicus   Kenya  0.567568  0.888889            36              252   \n",
       "0            esa   Kenya  0.391304  0.902778            36              252   \n",
       "0           glad   Kenya  0.757576  0.944444            36              252   \n",
       "\n",
       "   crop_recall  noncrop_recall  crop_precision  noncrop_precision  \n",
       "0     0.472222        0.943548        0.548387           0.924901  \n",
       "0     0.583333        0.932540        0.552632           0.940000  \n",
       "0     0.250000        0.996032        0.900000           0.902878  \n",
       "0     0.694444        0.980159        0.833333           0.957364  "
      ]
     },
     "execution_count": 35,
     "metadata": {},
     "output_type": "execute_result"
    }
   ],
   "source": [
    "test1.results[\"Kenya\"]"
   ]
  },
  {
   "attachments": {},
   "cell_type": "markdown",
   "metadata": {},
   "source": [
    "### ====== Testing Zone ======="
   ]
  },
  {
   "cell_type": "code",
   "execution_count": 14,
   "metadata": {},
   "outputs": [],
   "source": [
    "asap = ee.ImageCollection(ee.Image(\"users/sbaber/asap_mask_crop_v03\"))"
   ]
  },
  {
   "cell_type": "code",
   "execution_count": 15,
   "metadata": {},
   "outputs": [],
   "source": [
    "test_coll = ee.FeatureCollection(test1_test.apply(lambda x: create_point(x), axis=1).to_list())\n",
    "sampled = extract_points(ic=asap, fc=test_coll, resolution=10)"
   ]
  },
  {
   "cell_type": "code",
   "execution_count": 16,
   "metadata": {},
   "outputs": [],
   "source": [
    "new = pd.read_csv(\"../data/datasets/KenyaCEO2019.csv\")"
   ]
  },
  {
   "cell_type": "code",
   "execution_count": 17,
   "metadata": {},
   "outputs": [],
   "source": [
    "new = new.loc[new[\"subset\"]==\"testing\"]"
   ]
  },
  {
   "cell_type": "code",
   "execution_count": 22,
   "metadata": {},
   "outputs": [
    {
     "data": {
      "text/plain": [
       "288"
      ]
     },
     "execution_count": 22,
     "metadata": {},
     "output_type": "execute_result"
    }
   ],
   "source": [
    "len(new)"
   ]
  },
  {
   "cell_type": "code",
   "execution_count": null,
   "metadata": {},
   "outputs": [],
   "source": []
  }
 ],
 "metadata": {
  "kernelspec": {
   "display_name": "Python 3.8.8 ('intercomparison')",
   "language": "python",
   "name": "python3"
  },
  "language_info": {
   "codemirror_mode": {
    "name": "ipython",
    "version": 3
   },
   "file_extension": ".py",
   "mimetype": "text/x-python",
   "name": "python",
   "nbconvert_exporter": "python",
   "pygments_lexer": "ipython3",
   "version": "3.8.8"
  },
  "orig_nbformat": 4,
  "vscode": {
   "interpreter": {
    "hash": "b9a057a3c2bc11d9fb1a09bad675557d69c9743adf6ae74a67a8c76be0d35d72"
   }
  }
 },
 "nbformat": 4,
 "nbformat_minor": 2
}
