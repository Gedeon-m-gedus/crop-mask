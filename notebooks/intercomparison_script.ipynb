{
 "cells": [
  {
   "attachments": {},
   "cell_type": "markdown",
   "metadata": {},
   "source": [
    "# **Intercomparison Demo**\n",
    "\n",
    "**Author:** Adam Yang (ayang115@umd.edu)\n",
    "\n",
    "**Description** Demo for Intercomparison Script: extracts test points, provided from hand labeled maps, from industry covermaps (Harvest, Copernicus, ESA, GLAD) and determines accuracy across maps.\n"
   ]
  },
  {
   "cell_type": "code",
   "execution_count": 26,
   "metadata": {},
   "outputs": [],
   "source": [
    "# Authenticate notebook for Earth Engine use. Only needs to be run once, but is required for functions to work!\n",
    "# !earthengine authenticate"
   ]
  },
  {
   "cell_type": "code",
   "execution_count": 27,
   "metadata": {},
   "outputs": [],
   "source": [
    "import sys\n",
    "sys.path.append('../')\n",
    "from src.compare_covermaps import *"
   ]
  },
  {
   "cell_type": "code",
   "execution_count": 28,
   "metadata": {},
   "outputs": [],
   "source": [
    "import pandas as pd\n",
    "import matplotlib.pyplot as plt\n",
    "import numpy as np\n",
    "import pandas\n",
    "import ee\n",
    "from shapely import wkt"
   ]
  },
  {
   "cell_type": "code",
   "execution_count": 41,
   "metadata": {},
   "outputs": [],
   "source": [
    "# set1_maps = [TARGETS[\"harvest_togo\"], TARGETS[\"harvest_kenya\"], TARGETS[\"harvest_tanzania\"], TARGETS[\"copernicus\"], TARGETS[\"esa\"], TARGETS[\"glad\"]]\n",
    "set1_maps = [TARGETS[\"harvest_togo\"], TARGETS[\"harvest_kenya\"], TARGETS[\"harvest_tanzania\"], TARGETS[\"gfsad-gcep\"], TARGETS[\"gfsad-lgrip\"], TARGETS[\"gfsad\"]]\n",
    "set1_countries = [\"Togo\", \"Kenya\", \"Tanzania\"]"
   ]
  },
  {
   "cell_type": "code",
   "execution_count": 42,
   "metadata": {},
   "outputs": [],
   "source": [
    "test1 = TestCovermaps(test_countries=set1_countries, covermaps=set1_maps)"
   ]
  },
  {
   "cell_type": "code",
   "execution_count": 43,
   "metadata": {},
   "outputs": [],
   "source": [
    "# test1_test = test1.get_test_points()\n",
    "test1_test = pd.read_csv(\"../../intercomparison-data/extracted/test/tgo_tan_ken_2019_clipped.csv\").drop(\"Unnamed: 0\", axis=1)\n",
    "test1_test[\"geometry\"] = test1_test[\"geometry\"].apply(wkt.loads)\n",
    "test1_test = gpd.GeoDataFrame(test1_test, crs=\"epsg:4326\")"
   ]
  },
  {
   "cell_type": "code",
   "execution_count": 44,
   "metadata": {},
   "outputs": [
    {
     "name": "stdout",
     "output_type": "stream",
     "text": [
      "[Togo] sampling harvest_togo...\n",
      "[Togo] sampling gfsad-gcep...\n",
      "Extracting error: length of sampled dataset is not the same as testing dataset\n",
      "[Togo] sampling gfsad-lgrip...\n",
      "Extracting error: length of sampled dataset is not the same as testing dataset\n",
      "[Togo] sampling gfsad...\n",
      "[Kenya] sampling harvest_kenya...\n",
      "[Kenya] sampling gfsad-gcep...\n",
      "[Kenya] sampling gfsad-lgrip...\n",
      "[Kenya] sampling gfsad...\n",
      "[Tanzania] sampling harvest_tanzania...\n",
      "[Tanzania] sampling gfsad-gcep...\n",
      "[Tanzania] sampling gfsad-lgrip...\n",
      "[Tanzania] sampling gfsad...\n"
     ]
    }
   ],
   "source": [
    "extracted = test1.extract_covermaps(test1_test)"
   ]
  },
  {
   "cell_type": "code",
   "execution_count": 45,
   "metadata": {},
   "outputs": [
    {
     "name": "stdout",
     "output_type": "stream",
     "text": [
      "evaluating maps...\n",
      "dataset: harvest_togo | country: Togo\n",
      "dataset: gfsad-gcep | country: Togo\n",
      "dataset: gfsad-lgrip | country: Togo\n",
      "dataset: gfsad | country: Togo\n",
      "dataset: harvest_kenya | country: Kenya\n",
      "dataset: gfsad-gcep | country: Kenya\n",
      "dataset: gfsad-lgrip | country: Kenya\n",
      "dataset: gfsad | country: Kenya\n",
      "dataset: harvest_tanzania | country: Tanzania\n",
      "dataset: gfsad-gcep | country: Tanzania\n",
      "dataset: gfsad-lgrip | country: Tanzania\n",
      "dataset: gfsad | country: Tanzania\n"
     ]
    },
    {
     "data": {
      "text/html": [
       "<div>\n",
       "<style scoped>\n",
       "    .dataframe tbody tr th:only-of-type {\n",
       "        vertical-align: middle;\n",
       "    }\n",
       "\n",
       "    .dataframe tbody tr th {\n",
       "        vertical-align: top;\n",
       "    }\n",
       "\n",
       "    .dataframe thead th {\n",
       "        text-align: right;\n",
       "    }\n",
       "</style>\n",
       "<table border=\"1\" class=\"dataframe\">\n",
       "  <thead>\n",
       "    <tr style=\"text-align: right;\">\n",
       "      <th></th>\n",
       "      <th>dataset</th>\n",
       "      <th>country</th>\n",
       "      <th>crop_f1</th>\n",
       "      <th>accuracy</th>\n",
       "      <th>crop_support</th>\n",
       "      <th>noncrop_support</th>\n",
       "      <th>crop_recall</th>\n",
       "      <th>noncrop_recall</th>\n",
       "      <th>crop_precision</th>\n",
       "      <th>noncrop_precision</th>\n",
       "    </tr>\n",
       "  </thead>\n",
       "  <tbody>\n",
       "    <tr>\n",
       "      <th>0</th>\n",
       "      <td>harvest_tanzania</td>\n",
       "      <td>Tanzania</td>\n",
       "      <td>0.708861</td>\n",
       "      <td>0.760573</td>\n",
       "      <td>767</td>\n",
       "      <td>770</td>\n",
       "      <td>0.584094</td>\n",
       "      <td>0.936364</td>\n",
       "      <td>0.901408</td>\n",
       "      <td>0.693269</td>\n",
       "    </tr>\n",
       "    <tr>\n",
       "      <th>0</th>\n",
       "      <td>gfsad-gcep</td>\n",
       "      <td>Tanzania</td>\n",
       "      <td>0.763359</td>\n",
       "      <td>0.798308</td>\n",
       "      <td>767</td>\n",
       "      <td>770</td>\n",
       "      <td>0.651890</td>\n",
       "      <td>0.944156</td>\n",
       "      <td>0.920810</td>\n",
       "      <td>0.731388</td>\n",
       "    </tr>\n",
       "    <tr>\n",
       "      <th>0</th>\n",
       "      <td>gfsad-lgrip</td>\n",
       "      <td>Tanzania</td>\n",
       "      <td>0.771103</td>\n",
       "      <td>0.804164</td>\n",
       "      <td>767</td>\n",
       "      <td>770</td>\n",
       "      <td>0.661017</td>\n",
       "      <td>0.946753</td>\n",
       "      <td>0.925182</td>\n",
       "      <td>0.737108</td>\n",
       "    </tr>\n",
       "    <tr>\n",
       "      <th>0</th>\n",
       "      <td>gfsad</td>\n",
       "      <td>Tanzania</td>\n",
       "      <td>0.484596</td>\n",
       "      <td>0.597267</td>\n",
       "      <td>767</td>\n",
       "      <td>770</td>\n",
       "      <td>0.379400</td>\n",
       "      <td>0.814286</td>\n",
       "      <td>0.670507</td>\n",
       "      <td>0.568450</td>\n",
       "    </tr>\n",
       "  </tbody>\n",
       "</table>\n",
       "</div>"
      ],
      "text/plain": [
       "            dataset   country   crop_f1  accuracy  crop_support  \\\n",
       "0  harvest_tanzania  Tanzania  0.708861  0.760573           767   \n",
       "0        gfsad-gcep  Tanzania  0.763359  0.798308           767   \n",
       "0       gfsad-lgrip  Tanzania  0.771103  0.804164           767   \n",
       "0             gfsad  Tanzania  0.484596  0.597267           767   \n",
       "\n",
       "   noncrop_support  crop_recall  noncrop_recall  crop_precision  \\\n",
       "0              770     0.584094        0.936364        0.901408   \n",
       "0              770     0.651890        0.944156        0.920810   \n",
       "0              770     0.661017        0.946753        0.925182   \n",
       "0              770     0.379400        0.814286        0.670507   \n",
       "\n",
       "   noncrop_precision  \n",
       "0           0.693269  \n",
       "0           0.731388  \n",
       "0           0.737108  \n",
       "0           0.568450  "
      ]
     },
     "execution_count": 45,
     "metadata": {},
     "output_type": "execute_result"
    }
   ],
   "source": [
    "a=test1.evaluate()\n",
    "test1.results[\"Tanzania\"]"
   ]
  },
  {
   "cell_type": "code",
   "execution_count": 46,
   "metadata": {},
   "outputs": [
    {
     "data": {
      "text/html": [
       "<div>\n",
       "<style scoped>\n",
       "    .dataframe tbody tr th:only-of-type {\n",
       "        vertical-align: middle;\n",
       "    }\n",
       "\n",
       "    .dataframe tbody tr th {\n",
       "        vertical-align: top;\n",
       "    }\n",
       "\n",
       "    .dataframe thead th {\n",
       "        text-align: right;\n",
       "    }\n",
       "</style>\n",
       "<table border=\"1\" class=\"dataframe\">\n",
       "  <thead>\n",
       "    <tr style=\"text-align: right;\">\n",
       "      <th></th>\n",
       "      <th>dataset</th>\n",
       "      <th>country</th>\n",
       "      <th>crop_f1</th>\n",
       "      <th>accuracy</th>\n",
       "      <th>crop_support</th>\n",
       "      <th>noncrop_support</th>\n",
       "      <th>crop_recall</th>\n",
       "      <th>noncrop_recall</th>\n",
       "      <th>crop_precision</th>\n",
       "      <th>noncrop_precision</th>\n",
       "    </tr>\n",
       "  </thead>\n",
       "  <tbody>\n",
       "    <tr>\n",
       "      <th>0</th>\n",
       "      <td>harvest_togo</td>\n",
       "      <td>Togo</td>\n",
       "      <td>0.821346</td>\n",
       "      <td>0.820930</td>\n",
       "      <td>215</td>\n",
       "      <td>215</td>\n",
       "      <td>0.823256</td>\n",
       "      <td>0.818605</td>\n",
       "      <td>0.819444</td>\n",
       "      <td>0.822430</td>\n",
       "    </tr>\n",
       "    <tr>\n",
       "      <th>0</th>\n",
       "      <td>gfsad-gcep</td>\n",
       "      <td>Togo</td>\n",
       "      <td>0.471642</td>\n",
       "      <td>0.588372</td>\n",
       "      <td>215</td>\n",
       "      <td>215</td>\n",
       "      <td>0.367442</td>\n",
       "      <td>0.809302</td>\n",
       "      <td>0.658333</td>\n",
       "      <td>0.561290</td>\n",
       "    </tr>\n",
       "    <tr>\n",
       "      <th>0</th>\n",
       "      <td>gfsad-lgrip</td>\n",
       "      <td>Togo</td>\n",
       "      <td>0.448485</td>\n",
       "      <td>0.576744</td>\n",
       "      <td>215</td>\n",
       "      <td>215</td>\n",
       "      <td>0.344186</td>\n",
       "      <td>0.809302</td>\n",
       "      <td>0.643478</td>\n",
       "      <td>0.552381</td>\n",
       "    </tr>\n",
       "    <tr>\n",
       "      <th>0</th>\n",
       "      <td>gfsad</td>\n",
       "      <td>Togo</td>\n",
       "      <td>0.336134</td>\n",
       "      <td>0.448837</td>\n",
       "      <td>215</td>\n",
       "      <td>215</td>\n",
       "      <td>0.279070</td>\n",
       "      <td>0.618605</td>\n",
       "      <td>0.422535</td>\n",
       "      <td>0.461806</td>\n",
       "    </tr>\n",
       "  </tbody>\n",
       "</table>\n",
       "</div>"
      ],
      "text/plain": [
       "        dataset country   crop_f1  accuracy  crop_support  noncrop_support  \\\n",
       "0  harvest_togo    Togo  0.821346  0.820930           215              215   \n",
       "0    gfsad-gcep    Togo  0.471642  0.588372           215              215   \n",
       "0   gfsad-lgrip    Togo  0.448485  0.576744           215              215   \n",
       "0         gfsad    Togo  0.336134  0.448837           215              215   \n",
       "\n",
       "   crop_recall  noncrop_recall  crop_precision  noncrop_precision  \n",
       "0     0.823256        0.818605        0.819444           0.822430  \n",
       "0     0.367442        0.809302        0.658333           0.561290  \n",
       "0     0.344186        0.809302        0.643478           0.552381  \n",
       "0     0.279070        0.618605        0.422535           0.461806  "
      ]
     },
     "execution_count": 46,
     "metadata": {},
     "output_type": "execute_result"
    }
   ],
   "source": [
    "test1.results[\"Togo\"]"
   ]
  },
  {
   "cell_type": "code",
   "execution_count": 47,
   "metadata": {},
   "outputs": [
    {
     "data": {
      "text/html": [
       "<div>\n",
       "<style scoped>\n",
       "    .dataframe tbody tr th:only-of-type {\n",
       "        vertical-align: middle;\n",
       "    }\n",
       "\n",
       "    .dataframe tbody tr th {\n",
       "        vertical-align: top;\n",
       "    }\n",
       "\n",
       "    .dataframe thead th {\n",
       "        text-align: right;\n",
       "    }\n",
       "</style>\n",
       "<table border=\"1\" class=\"dataframe\">\n",
       "  <thead>\n",
       "    <tr style=\"text-align: right;\">\n",
       "      <th></th>\n",
       "      <th>dataset</th>\n",
       "      <th>country</th>\n",
       "      <th>crop_f1</th>\n",
       "      <th>accuracy</th>\n",
       "      <th>crop_support</th>\n",
       "      <th>noncrop_support</th>\n",
       "      <th>crop_recall</th>\n",
       "      <th>noncrop_recall</th>\n",
       "      <th>crop_precision</th>\n",
       "      <th>noncrop_precision</th>\n",
       "    </tr>\n",
       "  </thead>\n",
       "  <tbody>\n",
       "    <tr>\n",
       "      <th>0</th>\n",
       "      <td>harvest_kenya</td>\n",
       "      <td>Kenya</td>\n",
       "      <td>0.921514</td>\n",
       "      <td>0.888743</td>\n",
       "      <td>571</td>\n",
       "      <td>193</td>\n",
       "      <td>0.873905</td>\n",
       "      <td>0.932642</td>\n",
       "      <td>0.974609</td>\n",
       "      <td>0.714286</td>\n",
       "    </tr>\n",
       "    <tr>\n",
       "      <th>0</th>\n",
       "      <td>gfsad-gcep</td>\n",
       "      <td>Kenya</td>\n",
       "      <td>0.960270</td>\n",
       "      <td>0.938482</td>\n",
       "      <td>571</td>\n",
       "      <td>193</td>\n",
       "      <td>0.994746</td>\n",
       "      <td>0.772021</td>\n",
       "      <td>0.928105</td>\n",
       "      <td>0.980263</td>\n",
       "    </tr>\n",
       "    <tr>\n",
       "      <th>0</th>\n",
       "      <td>gfsad-lgrip</td>\n",
       "      <td>Kenya</td>\n",
       "      <td>0.959391</td>\n",
       "      <td>0.937173</td>\n",
       "      <td>571</td>\n",
       "      <td>193</td>\n",
       "      <td>0.992995</td>\n",
       "      <td>0.772021</td>\n",
       "      <td>0.927987</td>\n",
       "      <td>0.973856</td>\n",
       "    </tr>\n",
       "    <tr>\n",
       "      <th>0</th>\n",
       "      <td>gfsad</td>\n",
       "      <td>Kenya</td>\n",
       "      <td>0.839709</td>\n",
       "      <td>0.769634</td>\n",
       "      <td>571</td>\n",
       "      <td>193</td>\n",
       "      <td>0.807356</td>\n",
       "      <td>0.658031</td>\n",
       "      <td>0.874763</td>\n",
       "      <td>0.535865</td>\n",
       "    </tr>\n",
       "  </tbody>\n",
       "</table>\n",
       "</div>"
      ],
      "text/plain": [
       "         dataset country   crop_f1  accuracy  crop_support  noncrop_support  \\\n",
       "0  harvest_kenya   Kenya  0.921514  0.888743           571              193   \n",
       "0     gfsad-gcep   Kenya  0.960270  0.938482           571              193   \n",
       "0    gfsad-lgrip   Kenya  0.959391  0.937173           571              193   \n",
       "0          gfsad   Kenya  0.839709  0.769634           571              193   \n",
       "\n",
       "   crop_recall  noncrop_recall  crop_precision  noncrop_precision  \n",
       "0     0.873905        0.932642        0.974609           0.714286  \n",
       "0     0.994746        0.772021        0.928105           0.980263  \n",
       "0     0.992995        0.772021        0.927987           0.973856  \n",
       "0     0.807356        0.658031        0.874763           0.535865  "
      ]
     },
     "execution_count": 47,
     "metadata": {},
     "output_type": "execute_result"
    }
   ],
   "source": [
    "test1.results[\"Kenya\"]"
   ]
  },
  {
   "attachments": {},
   "cell_type": "markdown",
   "metadata": {},
   "source": [
    "### ====== Testing Zone ======="
   ]
  },
  {
   "cell_type": "code",
   "execution_count": 57,
   "metadata": {},
   "outputs": [],
   "source": [
    "dyn = ee.ImageCollection(\"GOOGLE/DYNAMICWORLD/V1\").select(\"crops\").filterDate(\"2019-01-01\", \"2019-12-31\")"
   ]
  },
  {
   "cell_type": "code",
   "execution_count": 59,
   "metadata": {},
   "outputs": [
    {
     "ename": "Exception",
     "evalue": "Computation timed out.",
     "output_type": "error",
     "traceback": [
      "\u001b[1;31m---------------------------------------------------------------------------\u001b[0m",
      "\u001b[1;31mHttpError\u001b[0m                                 Traceback (most recent call last)",
      "\u001b[1;32mc:\\Users\\adamf\\anaconda3\\envs\\intercomparison\\lib\\site-packages\\ee\\data.py\u001b[0m in \u001b[0;36m_execute_cloud_call\u001b[1;34m(call, num_retries)\u001b[0m\n\u001b[0;32m    328\u001b[0m   \u001b[1;32mtry\u001b[0m\u001b[1;33m:\u001b[0m\u001b[1;33m\u001b[0m\u001b[1;33m\u001b[0m\u001b[0m\n\u001b[1;32m--> 329\u001b[1;33m     \u001b[1;32mreturn\u001b[0m \u001b[0mcall\u001b[0m\u001b[1;33m.\u001b[0m\u001b[0mexecute\u001b[0m\u001b[1;33m(\u001b[0m\u001b[0mnum_retries\u001b[0m\u001b[1;33m=\u001b[0m\u001b[0mnum_retries\u001b[0m\u001b[1;33m)\u001b[0m\u001b[1;33m\u001b[0m\u001b[1;33m\u001b[0m\u001b[0m\n\u001b[0m\u001b[0;32m    330\u001b[0m   \u001b[1;32mexcept\u001b[0m \u001b[0mgoogleapiclient\u001b[0m\u001b[1;33m.\u001b[0m\u001b[0merrors\u001b[0m\u001b[1;33m.\u001b[0m\u001b[0mHttpError\u001b[0m \u001b[1;32mas\u001b[0m \u001b[0me\u001b[0m\u001b[1;33m:\u001b[0m\u001b[1;33m\u001b[0m\u001b[1;33m\u001b[0m\u001b[0m\n",
      "\u001b[1;32mc:\\Users\\adamf\\anaconda3\\envs\\intercomparison\\lib\\site-packages\\googleapiclient\\_helpers.py\u001b[0m in \u001b[0;36mpositional_wrapper\u001b[1;34m(*args, **kwargs)\u001b[0m\n\u001b[0;32m    133\u001b[0m                     \u001b[0mlogger\u001b[0m\u001b[1;33m.\u001b[0m\u001b[0mwarning\u001b[0m\u001b[1;33m(\u001b[0m\u001b[0mmessage\u001b[0m\u001b[1;33m)\u001b[0m\u001b[1;33m\u001b[0m\u001b[1;33m\u001b[0m\u001b[0m\n\u001b[1;32m--> 134\u001b[1;33m             \u001b[1;32mreturn\u001b[0m \u001b[0mwrapped\u001b[0m\u001b[1;33m(\u001b[0m\u001b[1;33m*\u001b[0m\u001b[0margs\u001b[0m\u001b[1;33m,\u001b[0m \u001b[1;33m**\u001b[0m\u001b[0mkwargs\u001b[0m\u001b[1;33m)\u001b[0m\u001b[1;33m\u001b[0m\u001b[1;33m\u001b[0m\u001b[0m\n\u001b[0m\u001b[0;32m    135\u001b[0m \u001b[1;33m\u001b[0m\u001b[0m\n",
      "\u001b[1;32mc:\\Users\\adamf\\anaconda3\\envs\\intercomparison\\lib\\site-packages\\googleapiclient\\http.py\u001b[0m in \u001b[0;36mexecute\u001b[1;34m(self, http, num_retries)\u001b[0m\n\u001b[0;32m    914\u001b[0m         \u001b[1;32mif\u001b[0m \u001b[0mresp\u001b[0m\u001b[1;33m.\u001b[0m\u001b[0mstatus\u001b[0m \u001b[1;33m>=\u001b[0m \u001b[1;36m300\u001b[0m\u001b[1;33m:\u001b[0m\u001b[1;33m\u001b[0m\u001b[1;33m\u001b[0m\u001b[0m\n\u001b[1;32m--> 915\u001b[1;33m             \u001b[1;32mraise\u001b[0m \u001b[0mHttpError\u001b[0m\u001b[1;33m(\u001b[0m\u001b[0mresp\u001b[0m\u001b[1;33m,\u001b[0m \u001b[0mcontent\u001b[0m\u001b[1;33m,\u001b[0m \u001b[0muri\u001b[0m\u001b[1;33m=\u001b[0m\u001b[0mself\u001b[0m\u001b[1;33m.\u001b[0m\u001b[0muri\u001b[0m\u001b[1;33m)\u001b[0m\u001b[1;33m\u001b[0m\u001b[1;33m\u001b[0m\u001b[0m\n\u001b[0m\u001b[0;32m    916\u001b[0m         \u001b[1;32mreturn\u001b[0m \u001b[0mself\u001b[0m\u001b[1;33m.\u001b[0m\u001b[0mpostproc\u001b[0m\u001b[1;33m(\u001b[0m\u001b[0mresp\u001b[0m\u001b[1;33m,\u001b[0m \u001b[0mcontent\u001b[0m\u001b[1;33m)\u001b[0m\u001b[1;33m\u001b[0m\u001b[1;33m\u001b[0m\u001b[0m\n",
      "\u001b[1;31mHttpError\u001b[0m: <HttpError 400 when requesting https://earthengine.googleapis.com/v1alpha/projects/earthengine-legacy/value:compute?prettyPrint=false&alt=json returned \"Computation timed out.\". Details: \"Computation timed out.\">",
      "\nDuring handling of the above exception, another exception occurred:\n",
      "\u001b[1;31mEEException\u001b[0m                               Traceback (most recent call last)",
      "\u001b[1;32mc:\\Users\\adamf\\anaconda3\\envs\\intercomparison\\lib\\site-packages\\geemap\\common.py\u001b[0m in \u001b[0;36mee_to_geojson\u001b[1;34m(ee_object, filename, indent, **kwargs)\u001b[0m\n\u001b[0;32m   1329\u001b[0m         ):\n\u001b[1;32m-> 1330\u001b[1;33m             \u001b[0mjson_object\u001b[0m \u001b[1;33m=\u001b[0m \u001b[0mee_object\u001b[0m\u001b[1;33m.\u001b[0m\u001b[0mgetInfo\u001b[0m\u001b[1;33m(\u001b[0m\u001b[1;33m)\u001b[0m\u001b[1;33m\u001b[0m\u001b[1;33m\u001b[0m\u001b[0m\n\u001b[0m\u001b[0;32m   1331\u001b[0m             \u001b[1;32mif\u001b[0m \u001b[0mfilename\u001b[0m \u001b[1;32mis\u001b[0m \u001b[1;32mnot\u001b[0m \u001b[1;32mNone\u001b[0m\u001b[1;33m:\u001b[0m\u001b[1;33m\u001b[0m\u001b[1;33m\u001b[0m\u001b[0m\n",
      "\u001b[1;32mc:\\Users\\adamf\\anaconda3\\envs\\intercomparison\\lib\\site-packages\\ee\\collection.py\u001b[0m in \u001b[0;36mgetInfo\u001b[1;34m(self)\u001b[0m\n\u001b[0;32m    132\u001b[0m     \"\"\"\n\u001b[1;32m--> 133\u001b[1;33m     \u001b[1;32mreturn\u001b[0m \u001b[0msuper\u001b[0m\u001b[1;33m(\u001b[0m\u001b[0mCollection\u001b[0m\u001b[1;33m,\u001b[0m \u001b[0mself\u001b[0m\u001b[1;33m)\u001b[0m\u001b[1;33m.\u001b[0m\u001b[0mgetInfo\u001b[0m\u001b[1;33m(\u001b[0m\u001b[1;33m)\u001b[0m\u001b[1;33m\u001b[0m\u001b[1;33m\u001b[0m\u001b[0m\n\u001b[0m\u001b[0;32m    134\u001b[0m \u001b[1;33m\u001b[0m\u001b[0m\n",
      "\u001b[1;32mc:\\Users\\adamf\\anaconda3\\envs\\intercomparison\\lib\\site-packages\\ee\\computedobject.py\u001b[0m in \u001b[0;36mgetInfo\u001b[1;34m(self)\u001b[0m\n\u001b[0;32m     95\u001b[0m     \"\"\"\n\u001b[1;32m---> 96\u001b[1;33m     \u001b[1;32mreturn\u001b[0m \u001b[0mdata\u001b[0m\u001b[1;33m.\u001b[0m\u001b[0mcomputeValue\u001b[0m\u001b[1;33m(\u001b[0m\u001b[0mself\u001b[0m\u001b[1;33m)\u001b[0m\u001b[1;33m\u001b[0m\u001b[1;33m\u001b[0m\u001b[0m\n\u001b[0m\u001b[0;32m     97\u001b[0m \u001b[1;33m\u001b[0m\u001b[0m\n",
      "\u001b[1;32mc:\\Users\\adamf\\anaconda3\\envs\\intercomparison\\lib\\site-packages\\ee\\data.py\u001b[0m in \u001b[0;36mcomputeValue\u001b[1;34m(obj)\u001b[0m\n\u001b[0;32m    785\u001b[0m \u001b[1;33m\u001b[0m\u001b[0m\n\u001b[1;32m--> 786\u001b[1;33m   return _execute_cloud_call(\n\u001b[0m\u001b[0;32m    787\u001b[0m       _get_cloud_api_resource().projects().value().compute(\n",
      "\u001b[1;32mc:\\Users\\adamf\\anaconda3\\envs\\intercomparison\\lib\\site-packages\\ee\\data.py\u001b[0m in \u001b[0;36m_execute_cloud_call\u001b[1;34m(call, num_retries)\u001b[0m\n\u001b[0;32m    330\u001b[0m   \u001b[1;32mexcept\u001b[0m \u001b[0mgoogleapiclient\u001b[0m\u001b[1;33m.\u001b[0m\u001b[0merrors\u001b[0m\u001b[1;33m.\u001b[0m\u001b[0mHttpError\u001b[0m \u001b[1;32mas\u001b[0m \u001b[0me\u001b[0m\u001b[1;33m:\u001b[0m\u001b[1;33m\u001b[0m\u001b[1;33m\u001b[0m\u001b[0m\n\u001b[1;32m--> 331\u001b[1;33m     \u001b[1;32mraise\u001b[0m \u001b[0m_translate_cloud_exception\u001b[0m\u001b[1;33m(\u001b[0m\u001b[0me\u001b[0m\u001b[1;33m)\u001b[0m\u001b[1;33m\u001b[0m\u001b[1;33m\u001b[0m\u001b[0m\n\u001b[0m\u001b[0;32m    332\u001b[0m \u001b[1;33m\u001b[0m\u001b[0m\n",
      "\u001b[1;31mEEException\u001b[0m: Computation timed out.",
      "\nDuring handling of the above exception, another exception occurred:\n",
      "\u001b[1;31mException\u001b[0m                                 Traceback (most recent call last)",
      "\u001b[1;32m<ipython-input-59-a5f4cf1e3c22>\u001b[0m in \u001b[0;36m<module>\u001b[1;34m\u001b[0m\n\u001b[0;32m      1\u001b[0m \u001b[0mtest_coll\u001b[0m \u001b[1;33m=\u001b[0m \u001b[0mee\u001b[0m\u001b[1;33m.\u001b[0m\u001b[0mFeatureCollection\u001b[0m\u001b[1;33m(\u001b[0m\u001b[0mtest1_test\u001b[0m\u001b[1;33m.\u001b[0m\u001b[0mapply\u001b[0m\u001b[1;33m(\u001b[0m\u001b[1;32mlambda\u001b[0m \u001b[0mx\u001b[0m\u001b[1;33m:\u001b[0m \u001b[0mcreate_point\u001b[0m\u001b[1;33m(\u001b[0m\u001b[0mx\u001b[0m\u001b[1;33m)\u001b[0m\u001b[1;33m,\u001b[0m \u001b[0maxis\u001b[0m\u001b[1;33m=\u001b[0m\u001b[1;36m1\u001b[0m\u001b[1;33m)\u001b[0m\u001b[1;33m.\u001b[0m\u001b[0mto_list\u001b[0m\u001b[1;33m(\u001b[0m\u001b[1;33m)\u001b[0m\u001b[1;33m)\u001b[0m\u001b[1;33m\u001b[0m\u001b[1;33m\u001b[0m\u001b[0m\n\u001b[1;32m----> 2\u001b[1;33m \u001b[0msampled\u001b[0m \u001b[1;33m=\u001b[0m \u001b[0mextract_points\u001b[0m\u001b[1;33m(\u001b[0m\u001b[0mic\u001b[0m\u001b[1;33m=\u001b[0m\u001b[0mdyn\u001b[0m\u001b[1;33m,\u001b[0m \u001b[0mfc\u001b[0m\u001b[1;33m=\u001b[0m\u001b[0mtest_coll\u001b[0m\u001b[1;33m,\u001b[0m \u001b[0mresolution\u001b[0m\u001b[1;33m=\u001b[0m\u001b[1;36m10\u001b[0m\u001b[1;33m)\u001b[0m\u001b[1;33m\u001b[0m\u001b[1;33m\u001b[0m\u001b[0m\n\u001b[0m",
      "\u001b[1;32mc:\\Users\\adamf\\nasa-harvest\\intercomparison\\crop-mask\\src\\compare_covermaps.py\u001b[0m in \u001b[0;36mextract_points\u001b[1;34m(ic, fc, resolution, projection)\u001b[0m\n\u001b[0;32m    257\u001b[0m     \u001b[0mCreates\u001b[0m \u001b[0mgeodataframe\u001b[0m \u001b[0mof\u001b[0m \u001b[0mextracted\u001b[0m \u001b[0mvalues\u001b[0m \u001b[1;32mfrom\u001b[0m \u001b[0mimage\u001b[0m \u001b[0mcollection\u001b[0m\u001b[1;33m.\u001b[0m \u001b[0mAssumes\u001b[0m \u001b[0mic\u001b[0m \u001b[0mparameters\u001b[0m \u001b[0mare\u001b[0m \u001b[0mset\u001b[0m \u001b[1;33m(\u001b[0m\u001b[0mdate\u001b[0m\u001b[1;33m,\u001b[0m \u001b[0mregion\u001b[0m\u001b[1;33m,\u001b[0m \u001b[0mband\u001b[0m\u001b[1;33m,\u001b[0m \u001b[0metc\u001b[0m\u001b[1;33m.\u001b[0m\u001b[1;33m)\u001b[0m\u001b[1;33m.\u001b[0m\u001b[1;33m\u001b[0m\u001b[1;33m\u001b[0m\u001b[0m\n\u001b[0;32m    258\u001b[0m     \"\"\"\n\u001b[1;32m--> 259\u001b[1;33m \u001b[1;33m\u001b[0m\u001b[0m\n\u001b[0m\u001b[0;32m    260\u001b[0m     \u001b[0mextracted\u001b[0m \u001b[1;33m=\u001b[0m \u001b[0mic\u001b[0m\u001b[1;33m.\u001b[0m\u001b[0mmap\u001b[0m\u001b[1;33m(\u001b[0m\u001b[1;32mlambda\u001b[0m \u001b[0mx\u001b[0m\u001b[1;33m:\u001b[0m \u001b[0mraster_extraction\u001b[0m\u001b[1;33m(\u001b[0m\u001b[0mx\u001b[0m\u001b[1;33m,\u001b[0m \u001b[0mfc\u001b[0m\u001b[1;33m,\u001b[0m \u001b[0mresolution\u001b[0m\u001b[1;33m,\u001b[0m \u001b[0mcrs\u001b[0m\u001b[1;33m=\u001b[0m\u001b[0mprojection\u001b[0m\u001b[1;33m)\u001b[0m\u001b[1;33m)\u001b[0m\u001b[1;33m.\u001b[0m\u001b[0mflatten\u001b[0m\u001b[1;33m(\u001b[0m\u001b[1;33m)\u001b[0m\u001b[1;33m\u001b[0m\u001b[1;33m\u001b[0m\u001b[0m\n\u001b[0;32m    261\u001b[0m     \u001b[0mextracted\u001b[0m \u001b[1;33m=\u001b[0m \u001b[0mgeemap\u001b[0m\u001b[1;33m.\u001b[0m\u001b[0mee_to_gdf\u001b[0m\u001b[1;33m(\u001b[0m\u001b[0mextracted\u001b[0m\u001b[1;33m)\u001b[0m\u001b[1;33m\u001b[0m\u001b[1;33m\u001b[0m\u001b[0m\n",
      "\u001b[1;32mc:\\Users\\adamf\\anaconda3\\envs\\intercomparison\\lib\\site-packages\\geemap\\common.py\u001b[0m in \u001b[0;36mee_to_gdf\u001b[1;34m(ee_object, selectors, verbose)\u001b[0m\n\u001b[0;32m   8847\u001b[0m         \u001b[1;32mraise\u001b[0m \u001b[0mTypeError\u001b[0m\u001b[1;33m(\u001b[0m\u001b[1;34m\"ee_object must be an ee.FeatureCollection\"\u001b[0m\u001b[1;33m)\u001b[0m\u001b[1;33m\u001b[0m\u001b[1;33m\u001b[0m\u001b[0m\n\u001b[0;32m   8848\u001b[0m \u001b[1;33m\u001b[0m\u001b[0m\n\u001b[1;32m-> 8849\u001b[1;33m     \u001b[0mcollection\u001b[0m \u001b[1;33m=\u001b[0m \u001b[0mee_to_geojson\u001b[0m\u001b[1;33m(\u001b[0m\u001b[0mee_object\u001b[0m\u001b[1;33m)\u001b[0m\u001b[1;33m\u001b[0m\u001b[1;33m\u001b[0m\u001b[0m\n\u001b[0m\u001b[0;32m   8850\u001b[0m     \u001b[0mgdf\u001b[0m \u001b[1;33m=\u001b[0m \u001b[0mgpd\u001b[0m\u001b[1;33m.\u001b[0m\u001b[0mGeoDataFrame\u001b[0m\u001b[1;33m.\u001b[0m\u001b[0mfrom_features\u001b[0m\u001b[1;33m(\u001b[0m\u001b[0mcollection\u001b[0m\u001b[1;33m[\u001b[0m\u001b[1;34m\"features\"\u001b[0m\u001b[1;33m]\u001b[0m\u001b[1;33m)\u001b[0m\u001b[1;33m\u001b[0m\u001b[1;33m\u001b[0m\u001b[0m\n\u001b[0;32m   8851\u001b[0m \u001b[1;33m\u001b[0m\u001b[0m\n",
      "\u001b[1;32mc:\\Users\\adamf\\anaconda3\\envs\\intercomparison\\lib\\site-packages\\geemap\\common.py\u001b[0m in \u001b[0;36mee_to_geojson\u001b[1;34m(ee_object, filename, indent, **kwargs)\u001b[0m\n\u001b[0;32m   1342\u001b[0m             \u001b[0mprint\u001b[0m\u001b[1;33m(\u001b[0m\u001b[1;34m\"Could not convert the Earth Engine object to geojson\"\u001b[0m\u001b[1;33m)\u001b[0m\u001b[1;33m\u001b[0m\u001b[1;33m\u001b[0m\u001b[0m\n\u001b[0;32m   1343\u001b[0m     \u001b[1;32mexcept\u001b[0m \u001b[0mException\u001b[0m \u001b[1;32mas\u001b[0m \u001b[0me\u001b[0m\u001b[1;33m:\u001b[0m\u001b[1;33m\u001b[0m\u001b[1;33m\u001b[0m\u001b[0m\n\u001b[1;32m-> 1344\u001b[1;33m         \u001b[1;32mraise\u001b[0m \u001b[0mException\u001b[0m\u001b[1;33m(\u001b[0m\u001b[0me\u001b[0m\u001b[1;33m)\u001b[0m\u001b[1;33m\u001b[0m\u001b[1;33m\u001b[0m\u001b[0m\n\u001b[0m\u001b[0;32m   1345\u001b[0m \u001b[1;33m\u001b[0m\u001b[0m\n\u001b[0;32m   1346\u001b[0m \u001b[1;33m\u001b[0m\u001b[0m\n",
      "\u001b[1;31mException\u001b[0m: Computation timed out."
     ]
    }
   ],
   "source": [
    "test_coll = ee.FeatureCollection(test1_test.apply(lambda x: create_point(x), axis=1).to_list())\n",
    "sampled = extract_points(ic=dyn, fc=test_coll, resolution=10)"
   ]
  },
  {
   "cell_type": "code",
   "execution_count": null,
   "metadata": {},
   "outputs": [],
   "source": [
    "sampled"
   ]
  }
 ],
 "metadata": {
  "kernelspec": {
   "display_name": "Python 3.8.8 ('intercomparison')",
   "language": "python",
   "name": "python3"
  },
  "language_info": {
   "codemirror_mode": {
    "name": "ipython",
    "version": 3
   },
   "file_extension": ".py",
   "mimetype": "text/x-python",
   "name": "python",
   "nbconvert_exporter": "python",
   "pygments_lexer": "ipython3",
   "version": "3.8.8"
  },
  "orig_nbformat": 4,
  "vscode": {
   "interpreter": {
    "hash": "b9a057a3c2bc11d9fb1a09bad675557d69c9743adf6ae74a67a8c76be0d35d72"
   }
  }
 },
 "nbformat": 4,
 "nbformat_minor": 2
}
