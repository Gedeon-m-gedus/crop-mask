{
 "cells": [
  {
   "cell_type": "markdown",
   "id": "a3ec68bf",
   "metadata": {},
   "source": [
    "# Generating CEO labeling project\n",
    "**Author**: Hannah Kerner (hkerner@umd.edu) and Ivan Zvonkov (izvonkov@umd.edu)\n",
    "\n",
    "**Description**: This notebook contains:\n",
    "1. Code to select a region of interest from a shapefile\n",
    "2. Code for creating a shapefile with points randomly sampled inside a the region of interest\n",
    "3. Instructions for creating a CEO (Collect Earth Online) project using the random sample shapefile."
   ]
  },
  {
   "cell_type": "code",
   "execution_count": null,
   "id": "f05e4896",
   "metadata": {},
   "outputs": [],
   "source": [
    "from shapely.geometry import Point\n",
    "from pathlib import Path\n",
    "import cartopy.io.shapereader as shpreader\n",
    "import geopandas as gpd\n",
    "import numpy as np\n",
    "import random\n",
    "import matplotlib.pyplot as plt\n",
    "import shutil"
   ]
  },
  {
   "cell_type": "markdown",
   "id": "5863de2a",
   "metadata": {},
   "source": [
    "## 1. Selecting the region(s) of interest\n",
    "The priority list for regions of interest can be found here: https://docs.google.com/spreadsheets/d/1y94ZV2z2biW8IX6SoPDNJ4PFXK_27_rxsOqY_jlbzhc/edit?usp=sharing\n",
    "\n",
    "You should update three variables in the cell below:\n",
    "1. `project_name`: Use the format **[Region_Name]_StartYear** (e.g., Kenya_2022 or Sudan_Blue_Nile_2019)\n",
    "2. `country_code`: Enter the 3-letter country code for the region of interest\n",
    "3. `regions_of_interest_{adm1,adm2}`: Add the admin1 or admin2 region names if your region of interest is at the admin1 or admin2 scale. Multiple names can be added to the list. If you leave the list empty, the region of interest will include the entire country. If you write 'all' (e.g., `regions_of_interest_adm1 = ['all']`), then all of the admin1 or admin2 regions will be used. This is useful if you want to stratify your sample by admin zone. \n",
    "4. `use_dissolved`: If set to True, all shapes in the resulting boundary will be merged into a single (dissolved) boundary before sampling. If set to False, `sample_amount` samples will be generated in each polygon contained in the boundary dataframe.\n",
    "\n",
    "You should not have to change the `sample_amount`, unless you want to sample fewer or more points than we typically use in projects."
   ]
  },
  {
   "cell_type": "code",
   "execution_count": null,
   "id": "136bfaf9",
   "metadata": {},
   "outputs": [],
   "source": [
    "################################################################################\n",
    "# THIS IS THE ONLY CELL THAT SHOULD BE EDITED WHEN RUNNING THIS NOTEBOOK\n",
    "################################################################################\n",
    "sample_amount = 1500\n",
    "project_name = \"Ethiopia_Tigray_2019\"\n",
    "country_code = \"ETH\" # Can be found https://www.iso.org/obp/ui/#search under the Alpha-3 code column\n",
    "regions_of_interest_adm1 = ['Tigray']\n",
    "regions_of_interest_adm2 = ['all']\n",
    "use_dissolved = False\n",
    "\n",
    "# Alternatively instead of the regions_of_interest variable, you can use a shapefilead of specifying the above country code and regions a custom shapefile path can be provided\n",
    "custom_shapefile = \"\""
   ]
  },
  {
   "cell_type": "code",
   "execution_count": null,
   "id": "ea0cfaea",
   "metadata": {},
   "outputs": [],
   "source": [
    "if custom_shapefile:\n",
    "    boundary = gpd.read_file(custom_shapefile)\n",
    "    boundary.plot();\n",
    "else:\n",
    "    # Load in shapefile from GADM\n",
    "    gadm2_path = f'https://geodata.ucdavis.edu/gadm/gadm4.1/json/gadm41_{country_code}_2.json.zip'\n",
    "    gadm_gdf = gpd.read_file(gadm2_path)\n",
    "    \n",
    "    if len(regions_of_interest_adm1) > 0:\n",
    "        # Check regions\n",
    "        available_regions = gadm_gdf.query('GID_0 == @country_code')['NAME_1'].tolist()\n",
    "        if len(regions_of_interest_adm1) == 1 and regions_of_interest_adm1[0] == 'all':\n",
    "            regions_of_interest_adm1 = available_regions\n",
    "        regions_not_found = [region for region in regions_of_interest_adm1 if region not in available_regions]\n",
    "\n",
    "        if len(regions_not_found) > 0:\n",
    "            condition = 'GID_0 == @country_code'\n",
    "            boundary = None\n",
    "            print(f\"WARNING: {regions_not_found} was not found. Please select regions only seen in below plot.\")\n",
    "        else:\n",
    "            condition = 'NAME_1 in @regions_of_interest_adm1'\n",
    "            boundary = gadm_gdf.query('NAME_1 in @regions_of_interest_adm1').copy()\n",
    "            print(\"All admin1 regions found!\")\n",
    "    \n",
    "            if len(regions_of_interest_adm2) > 0:\n",
    "                # Check regions\n",
    "                available_regions = boundary.query('NAME_1 in @regions_of_interest_adm1')['NAME_2'].tolist()\n",
    "                if len(regions_of_interest_adm2) == 1 and regions_of_interest_adm2[0] == 'all':\n",
    "                    regions_of_interest_adm2 = available_regions\n",
    "                regions_not_found = [region for region in regions_of_interest_adm2 if region not in available_regions]\n",
    "\n",
    "                if len(regions_not_found) > 0:\n",
    "                    condition = 'NAME_1 in @regions_of_interest_adm1'\n",
    "                    boundary = None\n",
    "                    print(f\"WARNING: {regions_not_found} was not found. Please select regions only seen in below plot.\")\n",
    "                else:\n",
    "                    condition = 'NAME_2 in @regions_of_interest_adm2'\n",
    "                    boundary = boundary.query('NAME_2 in @regions_of_interest_adm2').copy()\n",
    "                    print(\"All admin2 regions found!\")\n",
    "    else:\n",
    "        # use entire country\n",
    "        condition = 'GID_0 == @country_code'\n",
    "        boundary = gadm_gdf.query(condition).copy()\n",
    "    \n",
    "    gadm_gdf.query(condition).plot(\n",
    "        column=condition.split(' ')[0], \n",
    "        legend=True, \n",
    "        legend_kwds={'loc': 'lower right'}, \n",
    "        figsize=(10,10)\n",
    "    );"
   ]
  },
  {
   "cell_type": "code",
   "execution_count": null,
   "id": "928b2a3f",
   "metadata": {},
   "outputs": [],
   "source": [
    "# Verify boundary is set\n",
    "assert boundary is not None, \"Boundary was not set in above cell, most likely due to not all regions found.\"\n",
    "\n",
    "# Make sure the shapefile has EPSG:4326, otherwise convert it\n",
    "print('Boundary shapefile CRS is %s' % boundary.crs)\n",
    "if boundary.crs == None:\n",
    "    boundary = boundary.set_crs('epsg:4326')\n",
    "    print('Boundary shapefile set to %s' % boundary.crs)\n",
    "if boundary.crs != 'epsg:4326':\n",
    "    boundary = boundary.to_crs('epsg:4326')\n",
    "    print('Boundary shapefile converted to %s' % boundary.crs)"
   ]
  },
  {
   "cell_type": "markdown",
   "id": "97b2576b",
   "metadata": {},
   "source": [
    "## 2. Creating shapefile with points in each region\n",
    "In order to evaluate crop land mapping methodologies a random sample can be used to obtain an estimate of overall map user accuracy and producer accuracy."
   ]
  },
  {
   "cell_type": "code",
   "execution_count": null,
   "id": "97b42a83",
   "metadata": {},
   "outputs": [],
   "source": [
    "def create_shapefile_zip(gdf, filename):\n",
    "    p = Path(f\"../data/shapefiles\") / filename\n",
    "    gdf.to_file(p, index=False)\n",
    "    shutil.make_archive(p, 'zip', p)\n",
    "    shutil.rmtree(p)"
   ]
  },
  {
   "cell_type": "code",
   "execution_count": null,
   "id": "c980e460",
   "metadata": {},
   "outputs": [],
   "source": [
    "boundary[\"roi\"] = True\n",
    "dissolved_boundary = boundary.dissolve(by=\"roi\")\n",
    "\n",
    "if use_dissolved:\n",
    "    create_shapefile_zip(dissolved_boundary, f\"{project_name}_boundary\")\n",
    "    dissolved_boundary.plot()\n",
    "else:\n",
    "    create_shapefile_zip(boundary, f\"{project_name}_boundary\")\n",
    "    boundary.plot()"
   ]
  },
  {
   "cell_type": "code",
   "execution_count": null,
   "id": "2a0822d5",
   "metadata": {},
   "outputs": [],
   "source": [
    "# Function for sampling random points. \n",
    "# From https://gis.stackexchange.com/questions/294394/randomly-sample-from-geopandas-dataframe-in-python\n",
    "def random_points_in_polygon(num_points, polygon):\n",
    "    points = []\n",
    "    min_x, min_y, max_x, max_y = polygon.bounds\n",
    "    i= 0\n",
    "    while i < num_points:\n",
    "        point = Point(random.uniform(min_x, max_x), random.uniform(min_y, max_y))\n",
    "        if polygon.contains(point):\n",
    "            points.append(point)\n",
    "            i += 1\n",
    "    return points  # returns list of shapely points\n",
    "\n",
    "# Sample n points within the shapefile\n",
    "\n",
    "if use_dissolved:\n",
    "    points = random_points_in_polygon(sample_amount, dissolved_boundary.iloc[0].geometry)\n",
    "else:\n",
    "    points = []\n",
    "    for idx, polygon in boundary.iterrows():\n",
    "        points += random_points_in_polygon(sample_amount, polygon.geometry)\n",
    "    \n",
    "# Convert the list of points to a geodataframe\n",
    "points_gdf = gpd.GeoDataFrame([], geometry=gpd.points_from_xy(x=[p.x for p in points], \n",
    "                                                                  y=[p.y for p in points]))\n",
    "\n",
    "# Plot the random points\n",
    "fig, ax = plt.subplots(1, figsize=(20,20))\n",
    "ax.set_title(\"Sampled Points\")\n",
    "boundary.plot(ax=ax)\n",
    "points_gdf.plot(ax=ax, color=\"orange\");"
   ]
  },
  {
   "cell_type": "code",
   "execution_count": null,
   "id": "dc8418a6",
   "metadata": {},
   "outputs": [],
   "source": [
    "# Add columns for CEO formatting\n",
    "points_gdf['PLOTID'] = points_gdf.index\n",
    "points_gdf['SAMPLEID'] = points_gdf.index\n",
    "\n",
    "# Set the data type of the IDs to be integers\n",
    "points_gdf['SAMPLEID'] = points_gdf['SAMPLEID'].astype(np.int64)\n",
    "points_gdf['PLOTID'] = points_gdf['PLOTID'].astype(np.int64)\n",
    "\n",
    "# Set crs\n",
    "points_gdf.crs = 'epsg:4326'"
   ]
  },
  {
   "cell_type": "code",
   "execution_count": null,
   "id": "dfb14923",
   "metadata": {},
   "outputs": [],
   "source": [
    "# Save the file as a new shapefile\n",
    "create_shapefile_zip(points_gdf[['geometry', 'PLOTID', 'SAMPLEID']], f\"{project_name}_random_sample_ceo\")"
   ]
  },
  {
   "cell_type": "markdown",
   "id": "d86dc874",
   "metadata": {},
   "source": [
    "The above cells should have generated two shapefiles (boundary and random sample ceo) inside the `crop-mask/data/shapefiles` directory."
   ]
  },
  {
   "cell_type": "markdown",
   "id": "013d5ae1",
   "metadata": {},
   "source": [
    "## 3. Creating CEO project using shapefile\n",
    "The CEO project is the interface which labelers use to label points as crop or non-crop.\n",
    "\n",
    "3.1. Navigate to NASA Harvest's CEO page: https://app.collect.earth/review-institution?institutionId=1493\n",
    "\n",
    "3.2. Select \"Create New Project\" (if no such button exists, email izvonkov@umd.edu for admin permissions)\n",
    "\n",
    "3.3. Input project title in the following format: **[Region name] [season start month year] - [season end month year] (Set 1)**. (Use the crop calendar to determine month range in title. You can find the crop calendar at this URL if you replace `NAM` with your 3-letter country code: https://www.fao.org/giews/countrybrief/country.jsp?code=NAM)\n",
    "\n",
    "![ceo-project-overview](../assets/ceo-project-overview.png)\n",
    "\n",
    "3.4. Select \"Planet Monthly Mosaics\" as default imagery and also select \"Google Satellite Layer\" and \"Sentinel-2\"\n",
    "\n",
    "![ceo-imagery-selection](../assets/ceo-imagery-selection.png)\n",
    "\n",
    "3.5. Upload the created shapefile zip located in `crop-mask/data/shapefiles` in Plot Design only\n",
    "\n",
    "![ceo-plot-design](../assets/ceo-plot-design.png)\n",
    "\n",
    "3.6. On the Sample Generation - Spatial Distribution select \"Center\".\n",
    "\n",
    "3.7. Create survey question\n",
    "\n",
    "![ceo-survey-question](../assets/ceo-survey-question.png)\n",
    "\n",
    "3.8. Click next through Survey Rules and select Create Project. (The project will not be visible to non-admins until it is Published).\n",
    "\n",
    "![ceo-complete-project](../assets/ceo-complete-project.png)\n",
    "\n",
    "3.9. Verify project configuration by sending a slack message to Ivan or Hannah.\n",
    "\n",
    "3.10. Create Set 2 version by selecting \"Create New Project\" again but this time navigating to \"Select Template\" and selecting the previously made project and clicking \"Load\". Update the title from Set 1 to Set 2 and click Review.\n",
    "\n",
    "![ceo-load-template](../assets/ceo-load-template.png)\n",
    "\n",
    "3.11. Publish both projects by selecting the Publish Project button on the review page.\n",
    "\n",
    "![ceo-publish-project](../assets/ceo-publish-project.png)\n",
    "\n",
    "3.12. Add both new projects to the Google Sheet: https://docs.google.com/spreadsheets/d/124Ona841vhMI1FQjzuBerKxTwK_CWuyeWj1E6j3iUaM/edit?usp=sharing"
   ]
  },
  {
   "cell_type": "markdown",
   "id": "48b5f8f7",
   "metadata": {},
   "source": [
    "## 4. Pushing new shapefiles to Github\n",
    "\n",
    "It's important to store the random sample shapefile for CEO project reproducibility and important to store the boundary shapefile for creating a map later on. We'll store these files directly inside the repository. \n",
    "\n",
    "4.1. Push the changes to Github using the following code:\n",
    "```bash\n",
    "git checkout -b'namibia-shapefile-data'\n",
    "git add data/shapefiles/*\n",
    "git commit -m'New Namibia shapefile data'\n",
    "git push\n",
    "```\n",
    "\n",
    "4.2. Create a Pull Request into master by navigating to this page: https://github.com/nasaharvest/crop-mask/compare and selecting the branch you recently pushed. (\"namibia-shapefile-data\") in this case."
   ]
  }
 ],
 "metadata": {
  "kernelspec": {
   "display_name": "Python 3 (ipykernel)",
   "language": "python",
   "name": "python3"
  },
  "language_info": {
   "codemirror_mode": {
    "name": "ipython",
    "version": 3
   },
   "file_extension": ".py",
   "mimetype": "text/x-python",
   "name": "python",
   "nbconvert_exporter": "python",
   "pygments_lexer": "ipython3",
   "version": "3.8.15"
  }
 },
 "nbformat": 4,
 "nbformat_minor": 5
}
