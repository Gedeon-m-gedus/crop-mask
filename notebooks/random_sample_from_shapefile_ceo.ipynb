{
 "cells": [
  {
   "cell_type": "markdown",
   "id": "ff26de92",
   "metadata": {},
   "source": [
    "# Generating CEO labeling project\n",
    "**Author**: Hannah Kerner (hkerner@umd.edu) and Ivan Zvonkov (izvonkov@umd.edu)\n",
    "\n",
    "**Description**: This notebook contains:\n",
    "1. Code to select a region of interest from a shapefile\n",
    "2. Code for creating a shapefile with points randomly sampled inside a the region of interest\n",
    "3. Instructions for creating a CEO (Collect Earth Online) project using the random sample shapefile."
   ]
  },
  {
   "cell_type": "code",
   "execution_count": null,
   "id": "a08fec09",
   "metadata": {},
   "outputs": [],
   "source": [
    "from shapely.geometry import Point\n",
    "from pathlib import Path\n",
    "import cartopy.io.shapereader as shpreader\n",
    "import geopandas as gpd\n",
    "import numpy as np\n",
    "import random\n",
    "import matplotlib.pyplot as plt\n",
    "import shutil"
   ]
  },
  {
   "cell_type": "markdown",
   "id": "2277ef81",
   "metadata": {},
   "source": [
    "## 1. Selecting the region(s) of interest\n",
    "The priority list for regions of interest can be found here: https://docs.google.com/spreadsheets/d/1y94ZV2z2biW8IX6SoPDNJ4PFXK_27_rxsOqY_jlbzhc/edit?usp=sharing\n",
    "\n",
    "You should update three variables in the cell below:\n",
    "1. `project_name`: Use the format **[Region_Name]_StartYear** (e.g., Kenya_2022 or Sudan_Blue_Nile_2019)\n",
    "2. `country_code`: Enter the 3-letter country code for the region of interest\n",
    "3. `regions_of_interest`: Add the admin1 region names if your region of interest is at the admin1 scale. Multiple names can be added to the list. If you leave the list empty, the region of interest will include the entire country.\n",
    "\n",
    "You should not have to change the `sample_amount`."
   ]
  },
  {
   "cell_type": "code",
   "execution_count": null,
   "id": "ecce1dcb",
   "metadata": {},
   "outputs": [],
   "source": [
    "################################################################################\n",
    "# THIS IS THE ONLY CELL THAT SHOULD BE EDITED WHEN RUNNING THIS NOTEBOOK\n",
    "################################################################################\n",
    "sample_amount = 1500\n",
    "project_name = \"Sudan_AlGadaref_2020\"\n",
    "country_code = \"SDN\" # Can be found https://www.iso.org/obp/ui/#search under the Alpha-3 code column\n",
    "regions_of_interest = ['Gedarif']\n",
    "\n",
    "# Alternatively instead of the regions_of_interest variable, you can use a shapefilead of specifying the above country code and regions a custom shapefile path can be provided\n",
    "custom_shapefile = \"\"\n",
    "\n",
    "# After running the below cells it turns out that Zambezi region is not found in the shapefile, \n",
    "# instead we find Caprivi in its place. \n",
    "# For some wild history see: https://www.ati-holidays.com/history-of-the-caprivi/\n",
    "# We therefore make the substition in our region of interest list\n",
    "#   regions_of_interest[-1] = \"Caprivi\""
   ]
  },
  {
   "cell_type": "code",
   "execution_count": null,
   "id": "2884bd2e",
   "metadata": {},
   "outputs": [],
   "source": [
    "if not custom_shapefile: \n",
    "    # Load in shapefile from natural earth\n",
    "    ne_shapefile = shpreader.natural_earth(resolution='10m', category='cultural', name='admin_1_states_provinces')\n",
    "    ne_gdf = gpd.read_file(ne_shapefile)\n",
    "    ne_gdf.plot();"
   ]
  },
  {
   "cell_type": "code",
   "execution_count": null,
   "id": "82f43425",
   "metadata": {},
   "outputs": [],
   "source": [
    "if custom_shapefile:\n",
    "    boundary = gpd.read_file(custom_shapefile)\n",
    "    boundary.plot();\n",
    "else:\n",
    "    # Load in shapefile from natural earth\n",
    "    ne_shapefile = shpreader.natural_earth(resolution='10m', category='cultural', name='admin_1_states_provinces')\n",
    "    ne_gdf = gpd.read_file(ne_shapefile)\n",
    "    \n",
    "    if len(regions_of_interest) == 0:\n",
    "        # Select entire country (all regions):\n",
    "        condition = ne_gdf[\"adm1_code\"].str.startswith(country_code)\n",
    "        boundary = ne_gdf[condition].copy()\n",
    "        print(\"Entire country found!\")\n",
    "        \n",
    "    else:\n",
    "        # Check regions\n",
    "        available_regions = ne_gdf[ne_gdf[\"adm1_code\"].str.startswith(country_code)][\"name\"].tolist()\n",
    "        regions_not_found = [region for region in regions_of_interest if region not in available_regions]\n",
    "\n",
    "        if len(regions_not_found) > 0:\n",
    "            condition = ne_gdf[\"adm1_code\"].str.startswith(country_code)\n",
    "            boundary = None\n",
    "            print(f\"WARNING: {regions_not_found} was not found. Please select regions only seen in below plot.\")\n",
    "        else:\n",
    "            condition = (ne_gdf[\"adm1_code\"].str.startswith(country_code) & ne_gdf[\"name\"].isin(regions_of_interest))\n",
    "            boundary = ne_gdf[condition].copy()\n",
    "            print(\"All regions found!\")\n",
    "    \n",
    "    ne_gdf[condition].plot(\n",
    "        column=\"name\", \n",
    "        legend=True, \n",
    "        legend_kwds={'loc': 'lower right'}, \n",
    "        figsize=(10,10)\n",
    "    );"
   ]
  },
  {
   "cell_type": "code",
   "execution_count": null,
   "id": "51bb8de6",
   "metadata": {},
   "outputs": [],
   "source": [
    "# Verify boundary is set\n",
    "assert boundary is not None, \"Boundary was not set in above cell, most likely due to not all regions found.\"\n",
    "\n",
    "# Make sure the shapefile has EPSG:4326, otherwise convert it\n",
    "print('Boundary shapefile CRS is %s' % boundary.crs)\n",
    "if boundary.crs == None:\n",
    "    boundary = boundary.set_crs('epsg:4326')\n",
    "    print('Boundary shapefile set to %s' % boundary.crs)\n",
    "if boundary.crs != 'epsg:4326':\n",
    "    boundary = boundary.to_crs('epsg:4326')\n",
    "    print('Boundary shapefile converted to %s' % boundary.crs)"
   ]
  },
  {
   "cell_type": "markdown",
   "id": "c9b62f3b",
   "metadata": {},
   "source": [
    "## 2. Creating shapefile with points in each region\n",
    "In order to evaluate crop land mapping methodologies a random sample can be used to obtain an estimate of overall map user accuracy and producer accuracy."
   ]
  },
  {
   "cell_type": "code",
   "execution_count": null,
   "id": "525f9416",
   "metadata": {},
   "outputs": [],
   "source": [
    "def create_shapefile_zip(gdf, filename):\n",
    "    p = Path(f\"../data/shapefiles\") / filename\n",
    "    gdf.to_file(p, index=False)\n",
    "    shutil.make_archive(p, 'zip', p)\n",
    "    shutil.rmtree(p)"
   ]
  },
  {
   "cell_type": "code",
   "execution_count": null,
   "id": "51f857f8",
   "metadata": {},
   "outputs": [],
   "source": [
    "boundary[\"roi\"] = True\n",
    "dissolved_boundary = boundary.dissolve(by=\"roi\")\n",
    "dissolved_boundary.plot()\n",
    "create_shapefile_zip(dissolved_boundary, f\"{project_name}_boundary\")"
   ]
  },
  {
   "cell_type": "code",
   "execution_count": null,
   "id": "377c9406",
   "metadata": {},
   "outputs": [],
   "source": [
    "# Function for sampling random points. \n",
    "# From https://gis.stackexchange.com/questions/294394/randomly-sample-from-geopandas-dataframe-in-python\n",
    "def random_points_in_polygon(num_points, polygon):\n",
    "    points = []\n",
    "    min_x, min_y, max_x, max_y = polygon.bounds\n",
    "    i= 0\n",
    "    while i < num_points:\n",
    "        point = Point(random.uniform(min_x, max_x), random.uniform(min_y, max_y))\n",
    "        if polygon.contains(point):\n",
    "            points.append(point)\n",
    "            i += 1\n",
    "    return points  # returns list of shapely points\n",
    "\n",
    "# Sample n points within the shapefile\n",
    "points = random_points_in_polygon(sample_amount, dissolved_boundary.iloc[0].geometry)\n",
    "    \n",
    "# Convert the list of points to a geodataframe\n",
    "points_gdf = gpd.GeoDataFrame([], geometry=gpd.points_from_xy(x=[p.x for p in points], \n",
    "                                                                  y=[p.y for p in points]))\n",
    "\n",
    "# Plot the random points\n",
    "fig, ax = plt.subplots(1, figsize=(20,20))\n",
    "ax.set_title(\"Sampled Points\")\n",
    "boundary.plot(ax=ax)\n",
    "points_gdf.plot(ax=ax, color=\"orange\");"
   ]
  },
  {
   "cell_type": "code",
   "execution_count": null,
   "id": "2e4e05be",
   "metadata": {},
   "outputs": [],
   "source": [
    "# Add columns for CEO formatting\n",
    "points_gdf['PLOTID'] = points_gdf.index\n",
    "points_gdf['SAMPLEID'] = points_gdf.index\n",
    "\n",
    "# Set the data type of the IDs to be integers\n",
    "points_gdf['SAMPLEID'] = points_gdf['SAMPLEID'].astype(np.int64)\n",
    "points_gdf['PLOTID'] = points_gdf['PLOTID'].astype(np.int64)\n",
    "\n",
    "# Set crs\n",
    "points_gdf.crs = 'epsg:4326'"
   ]
  },
  {
   "cell_type": "code",
   "execution_count": null,
   "id": "d6e97983",
   "metadata": {},
   "outputs": [],
   "source": [
    "# Save the file as a new shapefile\n",
    "create_shapefile_zip(points_gdf[['geometry', 'PLOTID', 'SAMPLEID']], f\"{project_name}_random_sample_ceo\")"
   ]
  },
  {
   "cell_type": "markdown",
   "id": "2f0f15e4",
   "metadata": {},
   "source": [
    "The above cells should have generated two shapefiles (boundary and random sample ceo) inside the `crop-mask/data/shapefiles` directory."
   ]
  },
  {
   "cell_type": "markdown",
   "id": "add5f501",
   "metadata": {},
   "source": [
    "## 3. Creating CEO project using shapefile\n",
    "The CEO project is the interface which labelers use to label points as crop or non-crop.\n",
    "\n",
    "3.1. Navigate to NASA Harvest's CEO page: https://app.collect.earth/review-institution?institutionId=1493\n",
    "\n",
    "3.2. Select \"Create New Project\" (if no such button exists, email izvonkov@umd.edu for admin permissions)\n",
    "\n",
    "3.3. Input project title in the following format: **[Region name] [season start month year] - [season end month year] (Set 1)**. (Use the crop calendar to determine month range in title. You can find the crop calendar at this URL if you replace `NAM` with your 3-letter country code: https://www.fao.org/giews/countrybrief/country.jsp?code=NAM)\n",
    "\n",
    "![ceo-project-overview](../assets/ceo-project-overview.png)\n",
    "\n",
    "3.4. Select \"Planet Monthly Mosaics\" as default imagery and also select \"Mapbox Satellite\" and \"Sentinel-2\"\n",
    "\n",
    "![ceo-imagery-selection](../assets/ceo-imagery-selection.png)\n",
    "\n",
    "3.5. Upload the created shapefile zip located in `crop-mask/data/shapefiles` in Plot Design only\n",
    "\n",
    "![ceo-plot-design](../assets/ceo-plot-design.png)\n",
    "\n",
    "3.6. On the Sample Generation - Spatial Distribution select \"Center\".\n",
    "\n",
    "3.7. Create survey question\n",
    "\n",
    "![ceo-survey-question](../assets/ceo-survey-question.png)\n",
    "\n",
    "3.8. Click next through Survey Rules and select Create Project. (The project will not be visible to non-admins until it is Published).\n",
    "\n",
    "![ceo-complete-project](../assets/ceo-complete-project.png)\n",
    "\n",
    "3.9. Verify project configuration by sending a slack message to Ivan or Hannah.\n",
    "\n",
    "3.10. Create Set 2 version by selecting \"Create New Project\" again but this time navigating to \"Select Template\" and selecting the previously made project and clicking \"Load\". Update the title from Set 1 to Set 2 and click Review.\n",
    "\n",
    "![ceo-load-template](../assets/ceo-load-template.png)\n",
    "\n",
    "3.11. Publish both projects by selecting the Publish Project button on the review page.\n",
    "\n",
    "![ceo-publish-project](../assets/ceo-publish-project.png)\n",
    "\n",
    "3.12. Add both new projects to the Google Sheet: https://docs.google.com/spreadsheets/d/124Ona841vhMI1FQjzuBerKxTwK_CWuyeWj1E6j3iUaM/edit?usp=sharing"
   ]
  },
  {
   "cell_type": "markdown",
   "id": "ff6ac1ca",
   "metadata": {},
   "source": [
    "## 4. Pushing new shapefiles to Github\n",
    "\n",
    "It's important to store the random sample shapefile for CEO project reproducibility and important to store the boundary shapefile for creating a map later on. We'll store these files directly inside the repository. \n",
    "\n",
    "4.1. Push the changes to Github using the following code:\n",
    "```bash\n",
    "git checkout -b'namibia-shapefile-data'\n",
    "git add data/shapefiles/*\n",
    "git commit -m'New Namibia shapefile data'\n",
    "git push\n",
    "```\n",
    "\n",
    "4.2. Create a Pull Request into master by navigating to this page: https://github.com/nasaharvest/crop-mask/compare and selecting the branch you recently pushed. (\"namibia-shapefile-data\") in this case."
   ]
  },
  {
   "cell_type": "code",
   "execution_count": null,
   "id": "a96dcd49",
   "metadata": {},
   "outputs": [],
   "source": []
  }
 ],
 "metadata": {
  "kernelspec": {
   "display_name": "Python 3",
   "language": "python",
   "name": "python3"
  },
  "language_info": {
   "codemirror_mode": {
    "name": "ipython",
    "version": 3
   },
   "file_extension": ".py",
   "mimetype": "text/x-python",
   "name": "python",
   "nbconvert_exporter": "python",
   "pygments_lexer": "ipython3",
   "version": "3.6.15"
  }
 },
 "nbformat": 4,
 "nbformat_minor": 5
}
