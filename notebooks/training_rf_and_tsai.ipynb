{
 "cells": [
  {
   "cell_type": "markdown",
   "id": "eb6d95ff",
   "metadata": {},
   "source": [
    "# Training RandomForest and TSAI Models\n",
    "\n",
    "**Author:** Ivan Zvonkov \n",
    "\n",
    "**Last updated:** March 25, 2023\n",
    "\n",
    "**Description**: This notebook pulls in data from the `cropharvest-private` bucket and demonstrates training with various models."
   ]
  },
  {
   "cell_type": "code",
   "execution_count": 14,
   "id": "b68890ba",
   "metadata": {},
   "outputs": [],
   "source": [
    "import pandas as pd\n",
    "import numpy as np\n",
    "\n",
    "from tqdm import tqdm\n",
    "from sklearn.metrics import f1_score\n",
    "from sklearn.ensemble import RandomForestClassifier"
   ]
  },
  {
   "cell_type": "markdown",
   "id": "9195d21e",
   "metadata": {},
   "source": [
    "## Loading data"
   ]
  },
  {
   "cell_type": "code",
   "execution_count": 38,
   "id": "f1a8507a",
   "metadata": {},
   "outputs": [],
   "source": [
    "df = pd.read_csv(\"gs://cropharvest-private/crop-mask/2023-03.csv\")"
   ]
  },
  {
   "cell_type": "code",
   "execution_count": 39,
   "id": "16ca7c8c",
   "metadata": {},
   "outputs": [
    {
     "name": "stderr",
     "output_type": "stream",
     "text": [
      "100%|███████████████████████████████████| 98845/98845 [01:14<00:00, 1333.89it/s]\n"
     ]
    }
   ],
   "source": [
    "tqdm.pandas()\n",
    "df[\"eo_data\"] = df[\"eo_data\"].progress_apply(lambda x: np.array(eval(x))) \n",
    "df[\"timesteps\"] = df[\"eo_data\"].apply(lambda x: x.shape[0])"
   ]
  },
  {
   "cell_type": "markdown",
   "id": "13afb85f",
   "metadata": {},
   "source": [
    "## Splitting data"
   ]
  },
  {
   "cell_type": "code",
   "execution_count": 40,
   "id": "a81ac5d4",
   "metadata": {},
   "outputs": [],
   "source": [
    "val_df = df[(df[\"name\"] == \"Togo\") & (df[\"subset\"] == \"validation\")]\n",
    "test_df = df[(df[\"name\"] == \"Togo\") & (df[\"subset\"] == \"testing\")]\n",
    "train_df = df[ \n",
    "    # Filter out validation and test data\n",
    "    (~df.index.isin(val_df.index)) & (~df.index.isin(test_df.index)) &\n",
    "    \n",
    "    # Keep only data within Togo latitudes\n",
    "    (df[\"lat\"] >= (df[(df[\"name\"] == \"Togo\")][\"lat\"].min())) & \n",
    "    (df[\"lat\"] <= (df[(df[\"name\"] == \"Togo\")][\"lat\"].max())) &\n",
    "    \n",
    "    # Keep only data that goes at least from February to February\n",
    "    (df[\"timesteps\"] > 14)    \n",
    "]"
   ]
  },
  {
   "cell_type": "markdown",
   "id": "318cf9c4",
   "metadata": {},
   "source": [
    "## Random Forest Classifier"
   ]
  },
  {
   "cell_type": "code",
   "execution_count": null,
   "id": "40e2bc8d",
   "metadata": {},
   "outputs": [],
   "source": [
    "def generate_X_y(df):\n",
    "    X = df[\"eo_data\"].apply(lambda x: x[2:14].flatten()).to_list()\n",
    "    y = df[\"is_crop\"].to_list()\n",
    "    return X, y\n",
    "\n",
    "X_train, y_train = generate_X_y(train_df)\n",
    "X_val, y_val = generate_X_y(val_df)\n",
    "X_test, y_test = generate_X_y(test_df)"
   ]
  },
  {
   "cell_type": "code",
   "execution_count": 7,
   "id": "8e177759",
   "metadata": {},
   "outputs": [
    {
     "data": {
      "text/html": [
       "<style>#sk-container-id-1 {color: black;background-color: white;}#sk-container-id-1 pre{padding: 0;}#sk-container-id-1 div.sk-toggleable {background-color: white;}#sk-container-id-1 label.sk-toggleable__label {cursor: pointer;display: block;width: 100%;margin-bottom: 0;padding: 0.3em;box-sizing: border-box;text-align: center;}#sk-container-id-1 label.sk-toggleable__label-arrow:before {content: \"▸\";float: left;margin-right: 0.25em;color: #696969;}#sk-container-id-1 label.sk-toggleable__label-arrow:hover:before {color: black;}#sk-container-id-1 div.sk-estimator:hover label.sk-toggleable__label-arrow:before {color: black;}#sk-container-id-1 div.sk-toggleable__content {max-height: 0;max-width: 0;overflow: hidden;text-align: left;background-color: #f0f8ff;}#sk-container-id-1 div.sk-toggleable__content pre {margin: 0.2em;color: black;border-radius: 0.25em;background-color: #f0f8ff;}#sk-container-id-1 input.sk-toggleable__control:checked~div.sk-toggleable__content {max-height: 200px;max-width: 100%;overflow: auto;}#sk-container-id-1 input.sk-toggleable__control:checked~label.sk-toggleable__label-arrow:before {content: \"▾\";}#sk-container-id-1 div.sk-estimator input.sk-toggleable__control:checked~label.sk-toggleable__label {background-color: #d4ebff;}#sk-container-id-1 div.sk-label input.sk-toggleable__control:checked~label.sk-toggleable__label {background-color: #d4ebff;}#sk-container-id-1 input.sk-hidden--visually {border: 0;clip: rect(1px 1px 1px 1px);clip: rect(1px, 1px, 1px, 1px);height: 1px;margin: -1px;overflow: hidden;padding: 0;position: absolute;width: 1px;}#sk-container-id-1 div.sk-estimator {font-family: monospace;background-color: #f0f8ff;border: 1px dotted black;border-radius: 0.25em;box-sizing: border-box;margin-bottom: 0.5em;}#sk-container-id-1 div.sk-estimator:hover {background-color: #d4ebff;}#sk-container-id-1 div.sk-parallel-item::after {content: \"\";width: 100%;border-bottom: 1px solid gray;flex-grow: 1;}#sk-container-id-1 div.sk-label:hover label.sk-toggleable__label {background-color: #d4ebff;}#sk-container-id-1 div.sk-serial::before {content: \"\";position: absolute;border-left: 1px solid gray;box-sizing: border-box;top: 0;bottom: 0;left: 50%;z-index: 0;}#sk-container-id-1 div.sk-serial {display: flex;flex-direction: column;align-items: center;background-color: white;padding-right: 0.2em;padding-left: 0.2em;position: relative;}#sk-container-id-1 div.sk-item {position: relative;z-index: 1;}#sk-container-id-1 div.sk-parallel {display: flex;align-items: stretch;justify-content: center;background-color: white;position: relative;}#sk-container-id-1 div.sk-item::before, #sk-container-id-1 div.sk-parallel-item::before {content: \"\";position: absolute;border-left: 1px solid gray;box-sizing: border-box;top: 0;bottom: 0;left: 50%;z-index: -1;}#sk-container-id-1 div.sk-parallel-item {display: flex;flex-direction: column;z-index: 1;position: relative;background-color: white;}#sk-container-id-1 div.sk-parallel-item:first-child::after {align-self: flex-end;width: 50%;}#sk-container-id-1 div.sk-parallel-item:last-child::after {align-self: flex-start;width: 50%;}#sk-container-id-1 div.sk-parallel-item:only-child::after {width: 0;}#sk-container-id-1 div.sk-dashed-wrapped {border: 1px dashed gray;margin: 0 0.4em 0.5em 0.4em;box-sizing: border-box;padding-bottom: 0.4em;background-color: white;}#sk-container-id-1 div.sk-label label {font-family: monospace;font-weight: bold;display: inline-block;line-height: 1.2em;}#sk-container-id-1 div.sk-label-container {text-align: center;}#sk-container-id-1 div.sk-container {/* jupyter's `normalize.less` sets `[hidden] { display: none; }` but bootstrap.min.css set `[hidden] { display: none !important; }` so we also need the `!important` here to be able to override the default hidden behavior on the sphinx rendered scikit-learn.org. See: https://github.com/scikit-learn/scikit-learn/issues/21755 */display: inline-block !important;position: relative;}#sk-container-id-1 div.sk-text-repr-fallback {display: none;}</style><div id=\"sk-container-id-1\" class=\"sk-top-container\"><div class=\"sk-text-repr-fallback\"><pre>RandomForestClassifier(random_state=0)</pre><b>In a Jupyter environment, please rerun this cell to show the HTML representation or trust the notebook. <br />On GitHub, the HTML representation is unable to render, please try loading this page with nbviewer.org.</b></div><div class=\"sk-container\" hidden><div class=\"sk-item\"><div class=\"sk-estimator sk-toggleable\"><input class=\"sk-toggleable__control sk-hidden--visually\" id=\"sk-estimator-id-1\" type=\"checkbox\" checked><label for=\"sk-estimator-id-1\" class=\"sk-toggleable__label sk-toggleable__label-arrow\">RandomForestClassifier</label><div class=\"sk-toggleable__content\"><pre>RandomForestClassifier(random_state=0)</pre></div></div></div></div></div>"
      ],
      "text/plain": [
       "RandomForestClassifier(random_state=0)"
      ]
     },
     "execution_count": 7,
     "metadata": {},
     "output_type": "execute_result"
    }
   ],
   "source": [
    "model = RandomForestClassifier(random_state=0)\n",
    "model.fit(X_train, y_train)"
   ]
  },
  {
   "cell_type": "code",
   "execution_count": 8,
   "id": "e0994b84",
   "metadata": {},
   "outputs": [
    {
     "data": {
      "text/plain": [
       "0.8528301886792453"
      ]
     },
     "execution_count": 8,
     "metadata": {},
     "output_type": "execute_result"
    }
   ],
   "source": [
    "y_pred = model.predict(X_val)\n",
    "f1_score(y_val, y_pred)"
   ]
  },
  {
   "cell_type": "code",
   "execution_count": 9,
   "id": "07a95a91",
   "metadata": {},
   "outputs": [
    {
     "data": {
      "text/plain": [
       "0.7747747747747749"
      ]
     },
     "execution_count": 9,
     "metadata": {},
     "output_type": "execute_result"
    }
   ],
   "source": [
    "y_pred = model.predict(X_test)\n",
    "f1_score(y_test, y_pred)"
   ]
  },
  {
   "cell_type": "markdown",
   "id": "d16b18c8",
   "metadata": {},
   "source": [
    "## LSTM"
   ]
  },
  {
   "cell_type": "code",
   "execution_count": 134,
   "id": "e3284205",
   "metadata": {},
   "outputs": [],
   "source": [
    "!pip install tsai -q"
   ]
  },
  {
   "cell_type": "code",
   "execution_count": 83,
   "id": "ca5c52c3",
   "metadata": {},
   "outputs": [],
   "source": [
    "from tsai.all import TSClassifier, TSClassification, TSStandardize, LSTM"
   ]
  },
  {
   "cell_type": "code",
   "execution_count": 94,
   "id": "756d6ea4",
   "metadata": {},
   "outputs": [],
   "source": [
    "def generate_X_y(train_df, val_df, test_df):\n",
    "    df = pd.concat([train_df, val_df, test_df])\n",
    "    X = np.array(df[\"eo_data\"].apply(lambda x: x[2:14]).to_list())\n",
    "    y = np.array(df[\"is_crop\"].to_list())\n",
    "    split1 = len(train_df)\n",
    "    split2 = len(train_df) + len(val_df)\n",
    "    split3 = len(train_df) + len(val_df) + len(test_df)\n",
    "    splits = [list(range(split1)), list(range(split1, split2)), list(range(split2, split3))]\n",
    "    return X, y, splits\n",
    "\n",
    "X, y, splits = generate_X_y(train_df, val_df, test_df)"
   ]
  },
  {
   "cell_type": "code",
   "execution_count": 124,
   "id": "6238af1a",
   "metadata": {},
   "outputs": [
    {
     "data": {
      "text/html": [
       "\n",
       "<style>\n",
       "    /* Turns off some styling */\n",
       "    progress {\n",
       "        /* gets rid of default border in Firefox and Opera. */\n",
       "        border: none;\n",
       "        /* Needs to be in here for Safari polyfill so background images work as expected. */\n",
       "        background-size: auto;\n",
       "    }\n",
       "    progress:not([value]), progress:not([value])::-webkit-progress-bar {\n",
       "        background: repeating-linear-gradient(45deg, #7e7e7e, #7e7e7e 10px, #5c5c5c 10px, #5c5c5c 20px);\n",
       "    }\n",
       "    .progress-bar-interrupted, .progress-bar-interrupted::-webkit-progress-bar {\n",
       "        background: #F44336;\n",
       "    }\n",
       "</style>\n"
      ],
      "text/plain": [
       "<IPython.core.display.HTML object>"
      ]
     },
     "metadata": {},
     "output_type": "display_data"
    },
    {
     "data": {
      "text/html": [
       "<table border=\"1\" class=\"dataframe\">\n",
       "  <thead>\n",
       "    <tr style=\"text-align: left;\">\n",
       "      <th>epoch</th>\n",
       "      <th>train_loss</th>\n",
       "      <th>valid_loss</th>\n",
       "      <th>f1</th>\n",
       "      <th>time</th>\n",
       "    </tr>\n",
       "  </thead>\n",
       "  <tbody>\n",
       "    <tr>\n",
       "      <td>0</td>\n",
       "      <td>0.546857</td>\n",
       "      <td>1.018826</td>\n",
       "      <td>0.000000</td>\n",
       "      <td>00:01</td>\n",
       "    </tr>\n",
       "    <tr>\n",
       "      <td>1</td>\n",
       "      <td>0.475215</td>\n",
       "      <td>0.589971</td>\n",
       "      <td>0.456728</td>\n",
       "      <td>00:01</td>\n",
       "    </tr>\n",
       "    <tr>\n",
       "      <td>2</td>\n",
       "      <td>0.435460</td>\n",
       "      <td>0.604516</td>\n",
       "      <td>0.511409</td>\n",
       "      <td>00:01</td>\n",
       "    </tr>\n",
       "    <tr>\n",
       "      <td>3</td>\n",
       "      <td>0.414392</td>\n",
       "      <td>0.505568</td>\n",
       "      <td>0.576826</td>\n",
       "      <td>00:01</td>\n",
       "    </tr>\n",
       "    <tr>\n",
       "      <td>4</td>\n",
       "      <td>0.386951</td>\n",
       "      <td>0.515112</td>\n",
       "      <td>0.604861</td>\n",
       "      <td>00:01</td>\n",
       "    </tr>\n",
       "    <tr>\n",
       "      <td>5</td>\n",
       "      <td>0.361196</td>\n",
       "      <td>0.474702</td>\n",
       "      <td>0.566180</td>\n",
       "      <td>00:01</td>\n",
       "    </tr>\n",
       "    <tr>\n",
       "      <td>6</td>\n",
       "      <td>0.348561</td>\n",
       "      <td>0.464301</td>\n",
       "      <td>0.561170</td>\n",
       "      <td>00:01</td>\n",
       "    </tr>\n",
       "    <tr>\n",
       "      <td>7</td>\n",
       "      <td>0.325294</td>\n",
       "      <td>0.429301</td>\n",
       "      <td>0.612307</td>\n",
       "      <td>00:01</td>\n",
       "    </tr>\n",
       "    <tr>\n",
       "      <td>8</td>\n",
       "      <td>0.303064</td>\n",
       "      <td>0.421301</td>\n",
       "      <td>0.605343</td>\n",
       "      <td>00:01</td>\n",
       "    </tr>\n",
       "    <tr>\n",
       "      <td>9</td>\n",
       "      <td>0.288346</td>\n",
       "      <td>0.421249</td>\n",
       "      <td>0.600905</td>\n",
       "      <td>00:01</td>\n",
       "    </tr>\n",
       "  </tbody>\n",
       "</table>"
      ],
      "text/plain": [
       "<IPython.core.display.HTML object>"
      ]
     },
     "metadata": {},
     "output_type": "display_data"
    }
   ],
   "source": [
    "def f1(outputs, target):\n",
    "    return f1_score(target, outputs.argmax(dim=-1))\n",
    "\n",
    "tfms = [None, TSClassification()]\n",
    "batch_tfms = TSStandardize(by_sample=True)\n",
    "clf = TSClassifier(X, y, splits=splits, arch=LSTM, tfms=tfms, batch_tfms=batch_tfms, metrics=f1)\n",
    "clf.fit_one_cycle(10, 1e-2)"
   ]
  },
  {
   "cell_type": "code",
   "execution_count": 125,
   "id": "e1745a80",
   "metadata": {},
   "outputs": [
    {
     "data": {
      "text/html": [
       "\n",
       "<style>\n",
       "    /* Turns off some styling */\n",
       "    progress {\n",
       "        /* gets rid of default border in Firefox and Opera. */\n",
       "        border: none;\n",
       "        /* Needs to be in here for Safari polyfill so background images work as expected. */\n",
       "        background-size: auto;\n",
       "    }\n",
       "    progress:not([value]), progress:not([value])::-webkit-progress-bar {\n",
       "        background: repeating-linear-gradient(45deg, #7e7e7e, #7e7e7e 10px, #5c5c5c 10px, #5c5c5c 20px);\n",
       "    }\n",
       "    .progress-bar-interrupted, .progress-bar-interrupted::-webkit-progress-bar {\n",
       "        background: #F44336;\n",
       "    }\n",
       "</style>\n"
      ],
      "text/plain": [
       "<IPython.core.display.HTML object>"
      ]
     },
     "metadata": {},
     "output_type": "display_data"
    },
    {
     "data": {
      "text/html": [],
      "text/plain": [
       "<IPython.core.display.HTML object>"
      ]
     },
     "metadata": {},
     "output_type": "display_data"
    },
    {
     "data": {
      "text/plain": [
       "0.7423580786026202"
      ]
     },
     "execution_count": 125,
     "metadata": {},
     "output_type": "execute_result"
    }
   ],
   "source": [
    "probas, target, preds = clf.get_X_preds(X[splits[-1]], y[splits[-1]])\n",
    "f1_score(target, (preds == \"True\").astype(int))"
   ]
  }
 ],
 "metadata": {
  "kernelspec": {
   "display_name": "Python 3 (ipykernel)",
   "language": "python",
   "name": "python3"
  },
  "language_info": {
   "codemirror_mode": {
    "name": "ipython",
    "version": 3
   },
   "file_extension": ".py",
   "mimetype": "text/x-python",
   "name": "python",
   "nbconvert_exporter": "python",
   "pygments_lexer": "ipython3",
   "version": "3.9.13"
  }
 },
 "nbformat": 4,
 "nbformat_minor": 5
}
