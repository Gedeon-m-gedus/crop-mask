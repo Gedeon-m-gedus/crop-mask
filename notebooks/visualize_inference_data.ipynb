{
 "cells": [
  {
   "cell_type": "markdown",
   "id": "82df1566",
   "metadata": {},
   "source": [
    "# Visualize Inference Imagery with napari"
   ]
  },
  {
   "cell_type": "code",
   "execution_count": null,
   "id": "db140427",
   "metadata": {},
   "outputs": [],
   "source": [
    "!pip install napari rioxarray -q"
   ]
  },
  {
   "cell_type": "code",
   "execution_count": 2,
   "id": "72cebe33",
   "metadata": {},
   "outputs": [],
   "source": [
    "from pathlib import Path\n",
    "from rioxarray.merge import merge_arrays\n",
    "\n",
    "import rioxarray as rio\n",
    "import napari\n",
    "import numpy as np"
   ]
  },
  {
   "cell_type": "code",
   "execution_count": 3,
   "id": "d37320e4",
   "metadata": {},
   "outputs": [],
   "source": [
    "ps = sorted(list(Path(\"../batch_0\").glob(\"*.tif\")))"
   ]
  },
  {
   "cell_type": "code",
   "execution_count": 4,
   "id": "55a09d32",
   "metadata": {},
   "outputs": [],
   "source": [
    "next_row = 23\n",
    "width = 4\n",
    "start_index = 10\n",
    "\n",
    "top_row = ps[start_index : width]\n",
    "middle_row = ps[start_index + next_row : start_index + next_row + width]\n",
    "bottom_row = ps[start_index + (next_row*2) : start_index + (next_row*2) + width]"
   ]
  },
  {
   "cell_type": "code",
   "execution_count": 5,
   "id": "7eb656f5",
   "metadata": {},
   "outputs": [],
   "source": [
    "da = merge_arrays([rio.open_rasterio(p, cache=False) for p in (top_row + middle_row + bottom_row)])"
   ]
  },
  {
   "cell_type": "code",
   "execution_count": 8,
   "id": "181a5f42",
   "metadata": {},
   "outputs": [
    {
     "data": {
      "text/plain": [
       "<Image layer 'slope' at 0x15abdf9a0>"
      ]
     },
     "execution_count": 8,
     "metadata": {},
     "output_type": "execute_result"
    }
   ],
   "source": [
    "def normalize(arr):\n",
    "    real_min = np.nanmin(arr)\n",
    "    arr = np.nan_to_num(arr, nan=real_min)\n",
    "    return (arr - arr.min()) / (arr.max() - arr.min())\n",
    "\n",
    "def get_timesteps(band):\n",
    "    band_timesteps = [da[i].data for i, b in enumerate(da.long_name) if band in b]\n",
    "    return normalize(np.array(band_timesteps))\n",
    "\n",
    "\n",
    "rgb = np.stack([get_timesteps(b) for b in [\"B4\", \"B3\", \"B2\"]], axis=-1)\n",
    "\n",
    "vv = normalize(get_timesteps(\"VV\"))\n",
    "vh = normalize(get_timesteps(\"VH\"))\n",
    "sar = np.stack([vv, vh, vh-vv], axis=-1)\n",
    "\n",
    "precipitation = get_timesteps(\"total_precipitation\")\n",
    "temperature = get_timesteps(\"temperature_2m\")\n",
    "\n",
    "b8 = get_timesteps(\"B8A\")\n",
    "b4 = get_timesteps(\"B4\")\n",
    "ndvi = (b8 - b4) / (b8 + b4)\n",
    "\n",
    "elevation = normalize(da[-2].data)\n",
    "slope = normalize(da[-1].data)\n",
    "\n",
    "viewer = napari.view_image(rgb, contrast_limits=[0.0, 0.5])\n",
    "viewer.add_image(sar)\n",
    "viewer.add_image(temperature, colormap=\"red\", opacity=0.3)\n",
    "viewer.add_image(precipitation, colormap=\"blue\", opacity=0.3)\n",
    "viewer.add_image(ndvi, colormap=\"PiYG\", opacity=0.3)\n",
    "viewer.add_image(elevation, colormap=\"inferno\", opacity=0.3)\n",
    "viewer.add_image(slope, colormap=\"inferno\", opacity=0.3)"
   ]
  },
  {
   "cell_type": "code",
   "execution_count": null,
   "id": "4036cd85",
   "metadata": {},
   "outputs": [],
   "source": []
  }
 ],
 "metadata": {
  "kernelspec": {
   "display_name": "Python 3 (ipykernel)",
   "language": "python",
   "name": "python3"
  },
  "language_info": {
   "codemirror_mode": {
    "name": "ipython",
    "version": 3
   },
   "file_extension": ".py",
   "mimetype": "text/x-python",
   "name": "python",
   "nbconvert_exporter": "python",
   "pygments_lexer": "ipython3",
   "version": "3.9.13"
  }
 },
 "nbformat": 4,
 "nbformat_minor": 5
}
